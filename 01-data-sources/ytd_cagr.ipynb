{
 "cells": [
  {
   "cell_type": "markdown",
   "id": "2e1d274f",
   "metadata": {},
   "source": [
    "# YTD Returns and CAGR\n",
    "\n",
    "- I explored stock market indices in this notebook but these metrics can also be applied to any given stock or portfolio.\n",
    "- YTD (Year-to-date) measures the percentage change of an index from the beginning of the year (1 January) to today. The metric reflects the gain or lost of any given index up to the present date and allows market participants to gauge how the index is performance in the current year.\n",
    "\n",
    "$$ \\text{YTD Return (\\%)} = \\left( \\frac{\\text{Value}_{t_1} - \\text{Value}_{t_0}}{\\text{Value}_{t_0}} \\right) \\times 100 == \\left (\\frac{\\text{Value}_{t_1}}{\\text{Value}_{t_0}} -1\\right) \\times 100 $$\n",
    "\n",
    "- S&P 500 is a US-based index that tracks roughly 500 companies. While 500 companies do not offer the breadth of the US market, companies listed in this index accounts for over 80% of the US total market capitalization hence its perfomance is inextricably tied to the health of the US market and economy. \n",
    "    - Ref: S&P Dow Jones Indices, S&P 500 Fact Sheet, March 28, 2024.\n",
    "- One country can have a number of indices and each index per country tracks companies of varying market capilization (or simply just market cap) sizes hence while comparing the S&P 500 with various indices around the world may not provide an apple-to-apple comparison, what it will provide is a bird's eye view of how global economies are performing and how the US is performing compared to countries around the world. As such, I calculated the YTD return for the following countries and indices below:\n",
    "    - United States (S&P 500)\n",
    "    - China (Shanghai Composite)\n",
    "    - Hong Kong (HANG SENG INDEX)\n",
    "    - Australia (S&P/ASX 200)\n",
    "    - India (Nifty 50)\n",
    "    - Canada (S&P/TSX Composite)\n",
    "    - Germany (DAX)\n",
    "    - United Kingdom (FTSE 100)\n",
    "    - Japan (Nikkei 225)\n",
    "    - Mexico (IPC Mexico)\n",
    "    - Brazil (Ibovespa)\n",
    "\n",
    "**<u> DISCLAIMER</u>**: The ideas explored in this notebook such as YTD Returns and CAGR are concepts discussed in the [Stock Markets Analytics Course](https://pythoninvest.com/course)  as taught by Ivan Brigida. Plots and interpretations are my own.\n"
   ]
  },
  {
   "cell_type": "code",
   "execution_count": 16,
   "id": "2e6439a7",
   "metadata": {},
   "outputs": [],
   "source": [
    "import yfinance as yf\n",
    "import pandas as pd\n",
    "from datetime import date\n",
    "import plotly.express as px\n",
    "import plotly.graph_objects as go\n",
    "from utilities import fetch_historical_data, calculate_ytd_return, color_map, map_country, color_map_countries"
   ]
  },
  {
   "cell_type": "code",
   "execution_count": 17,
   "id": "2b6e575f",
   "metadata": {},
   "outputs": [
    {
     "data": {
      "text/html": [
       "<div>\n",
       "<style scoped>\n",
       "    .dataframe tbody tr th:only-of-type {\n",
       "        vertical-align: middle;\n",
       "    }\n",
       "\n",
       "    .dataframe tbody tr th {\n",
       "        vertical-align: top;\n",
       "    }\n",
       "\n",
       "    .dataframe thead th {\n",
       "        text-align: right;\n",
       "    }\n",
       "</style>\n",
       "<table border=\"1\" class=\"dataframe\">\n",
       "  <thead>\n",
       "    <tr style=\"text-align: right;\">\n",
       "      <th></th>\n",
       "      <th>Date</th>\n",
       "      <th>Open</th>\n",
       "      <th>High</th>\n",
       "      <th>Low</th>\n",
       "      <th>Close</th>\n",
       "      <th>Volume</th>\n",
       "      <th>Dividends</th>\n",
       "      <th>Stock Splits</th>\n",
       "      <th>Ticker</th>\n",
       "    </tr>\n",
       "  </thead>\n",
       "  <tbody>\n",
       "    <tr>\n",
       "      <th>1083</th>\n",
       "      <td>2025-02-14 00:00:00-03:00</td>\n",
       "      <td>124849.000000</td>\n",
       "      <td>128482.000000</td>\n",
       "      <td>124849.000000</td>\n",
       "      <td>128219.000000</td>\n",
       "      <td>12560100</td>\n",
       "      <td>0.0</td>\n",
       "      <td>0.0</td>\n",
       "      <td>^BVSP</td>\n",
       "    </tr>\n",
       "    <tr>\n",
       "      <th>444</th>\n",
       "      <td>2025-02-10 00:00:00+05:30</td>\n",
       "      <td>23543.800781</td>\n",
       "      <td>23568.599609</td>\n",
       "      <td>23316.300781</td>\n",
       "      <td>23381.599609</td>\n",
       "      <td>234200</td>\n",
       "      <td>0.0</td>\n",
       "      <td>0.0</td>\n",
       "      <td>^NSEI</td>\n",
       "    </tr>\n",
       "    <tr>\n",
       "      <th>401</th>\n",
       "      <td>2025-05-16 00:00:00+10:00</td>\n",
       "      <td>8297.500000</td>\n",
       "      <td>8398.200195</td>\n",
       "      <td>8297.500000</td>\n",
       "      <td>8343.700195</td>\n",
       "      <td>762700</td>\n",
       "      <td>0.0</td>\n",
       "      <td>0.0</td>\n",
       "      <td>^AXJO</td>\n",
       "    </tr>\n",
       "    <tr>\n",
       "      <th>1090</th>\n",
       "      <td>2025-02-25 00:00:00-03:00</td>\n",
       "      <td>125401.000000</td>\n",
       "      <td>126718.000000</td>\n",
       "      <td>125382.000000</td>\n",
       "      <td>125980.000000</td>\n",
       "      <td>11078000</td>\n",
       "      <td>0.0</td>\n",
       "      <td>0.0</td>\n",
       "      <td>^BVSP</td>\n",
       "    </tr>\n",
       "    <tr>\n",
       "      <th>1096</th>\n",
       "      <td>2025-03-07 00:00:00-03:00</td>\n",
       "      <td>123357.000000</td>\n",
       "      <td>125822.000000</td>\n",
       "      <td>122530.000000</td>\n",
       "      <td>125035.000000</td>\n",
       "      <td>9975600</td>\n",
       "      <td>0.0</td>\n",
       "      <td>0.0</td>\n",
       "      <td>^BVSP</td>\n",
       "    </tr>\n",
       "  </tbody>\n",
       "</table>\n",
       "</div>"
      ],
      "text/plain": [
       "                           Date           Open           High            Low  \\\n",
       "1083  2025-02-14 00:00:00-03:00  124849.000000  128482.000000  124849.000000   \n",
       "444   2025-02-10 00:00:00+05:30   23543.800781   23568.599609   23316.300781   \n",
       "401   2025-05-16 00:00:00+10:00    8297.500000    8398.200195    8297.500000   \n",
       "1090  2025-02-25 00:00:00-03:00  125401.000000  126718.000000  125382.000000   \n",
       "1096  2025-03-07 00:00:00-03:00  123357.000000  125822.000000  122530.000000   \n",
       "\n",
       "              Close    Volume  Dividends  Stock Splits Ticker  \n",
       "1083  128219.000000  12560100        0.0           0.0  ^BVSP  \n",
       "444    23381.599609    234200        0.0           0.0  ^NSEI  \n",
       "401     8343.700195    762700        0.0           0.0  ^AXJO  \n",
       "1090  125980.000000  11078000        0.0           0.0  ^BVSP  \n",
       "1096  125035.000000   9975600        0.0           0.0  ^BVSP  "
      ]
     },
     "execution_count": 17,
     "metadata": {},
     "output_type": "execute_result"
    }
   ],
   "source": [
    "# Download historical data from Jan 1 to today for all tickers\n",
    "\n",
    "tickers = ['^GSPC', '000001.SS', '^HSI', '^AXJO', '^NSEI', '^GSPTSE', '^GDAXI', '^FTSE', '^N225', '^MXX', '^BVSP']\n",
    "\n",
    "# end_date = date.today()\n",
    "end_date = date(2025,6,6)\n",
    "start_date = date(end_date.year, month=1, day=1)\n",
    "ytd_df_all = fetch_historical_data(ticker_list=tickers, start_date=start_date, end_date=end_date)\n",
    "ytd_df_all.sample(5)"
   ]
  },
  {
   "cell_type": "markdown",
   "id": "33510bf5",
   "metadata": {},
   "source": [
    "- The two end points in the YTD Return calculation is critical. The metric measures the percent change in the value of today compared to the value of the beginning of the year hence it is a static metric to get a sense of how the indices are doing (i.e., % loss or % gain). More information could be gained if we could look at how YTD return dynamically behaved at all timepoints this year."
   ]
  },
  {
   "cell_type": "code",
   "execution_count": 18,
   "id": "d761a576",
   "metadata": {},
   "outputs": [
    {
     "data": {
      "text/html": [
       "<div>\n",
       "<style scoped>\n",
       "    .dataframe tbody tr th:only-of-type {\n",
       "        vertical-align: middle;\n",
       "    }\n",
       "\n",
       "    .dataframe tbody tr th {\n",
       "        vertical-align: top;\n",
       "    }\n",
       "\n",
       "    .dataframe thead th {\n",
       "        text-align: right;\n",
       "    }\n",
       "</style>\n",
       "<table border=\"1\" class=\"dataframe\">\n",
       "  <thead>\n",
       "    <tr style=\"text-align: right;\">\n",
       "      <th></th>\n",
       "      <th>Date</th>\n",
       "      <th>Open</th>\n",
       "      <th>High</th>\n",
       "      <th>Low</th>\n",
       "      <th>Close</th>\n",
       "      <th>Volume</th>\n",
       "      <th>Dividends</th>\n",
       "      <th>Stock Splits</th>\n",
       "      <th>Ticker</th>\n",
       "      <th>First Close</th>\n",
       "      <th>YTD Return</th>\n",
       "      <th>Country</th>\n",
       "    </tr>\n",
       "  </thead>\n",
       "  <tbody>\n",
       "    <tr>\n",
       "      <th>0</th>\n",
       "      <td>2025-01-02</td>\n",
       "      <td>5903.259766</td>\n",
       "      <td>5935.089844</td>\n",
       "      <td>5829.529785</td>\n",
       "      <td>5868.549805</td>\n",
       "      <td>3621680000</td>\n",
       "      <td>0.0</td>\n",
       "      <td>0.0</td>\n",
       "      <td>^GSPC</td>\n",
       "      <td>5868.549805</td>\n",
       "      <td>0.000</td>\n",
       "      <td>GSPC (USA)</td>\n",
       "    </tr>\n",
       "    <tr>\n",
       "      <th>1</th>\n",
       "      <td>2025-01-03</td>\n",
       "      <td>5891.069824</td>\n",
       "      <td>5949.339844</td>\n",
       "      <td>5888.660156</td>\n",
       "      <td>5942.470215</td>\n",
       "      <td>3667340000</td>\n",
       "      <td>0.0</td>\n",
       "      <td>0.0</td>\n",
       "      <td>^GSPC</td>\n",
       "      <td>5868.549805</td>\n",
       "      <td>1.260</td>\n",
       "      <td>GSPC (USA)</td>\n",
       "    </tr>\n",
       "    <tr>\n",
       "      <th>2</th>\n",
       "      <td>2025-01-06</td>\n",
       "      <td>5982.810059</td>\n",
       "      <td>6021.040039</td>\n",
       "      <td>5960.009766</td>\n",
       "      <td>5975.379883</td>\n",
       "      <td>4940120000</td>\n",
       "      <td>0.0</td>\n",
       "      <td>0.0</td>\n",
       "      <td>^GSPC</td>\n",
       "      <td>5868.549805</td>\n",
       "      <td>1.820</td>\n",
       "      <td>GSPC (USA)</td>\n",
       "    </tr>\n",
       "    <tr>\n",
       "      <th>3</th>\n",
       "      <td>2025-01-07</td>\n",
       "      <td>5993.259766</td>\n",
       "      <td>6000.680176</td>\n",
       "      <td>5890.680176</td>\n",
       "      <td>5909.029785</td>\n",
       "      <td>4517330000</td>\n",
       "      <td>0.0</td>\n",
       "      <td>0.0</td>\n",
       "      <td>^GSPC</td>\n",
       "      <td>5868.549805</td>\n",
       "      <td>0.690</td>\n",
       "      <td>GSPC (USA)</td>\n",
       "    </tr>\n",
       "    <tr>\n",
       "      <th>4</th>\n",
       "      <td>2025-01-08</td>\n",
       "      <td>5910.660156</td>\n",
       "      <td>5927.890137</td>\n",
       "      <td>5874.779785</td>\n",
       "      <td>5918.250000</td>\n",
       "      <td>4441740000</td>\n",
       "      <td>0.0</td>\n",
       "      <td>0.0</td>\n",
       "      <td>^GSPC</td>\n",
       "      <td>5868.549805</td>\n",
       "      <td>0.847</td>\n",
       "      <td>GSPC (USA)</td>\n",
       "    </tr>\n",
       "    <tr>\n",
       "      <th>...</th>\n",
       "      <td>...</td>\n",
       "      <td>...</td>\n",
       "      <td>...</td>\n",
       "      <td>...</td>\n",
       "      <td>...</td>\n",
       "      <td>...</td>\n",
       "      <td>...</td>\n",
       "      <td>...</td>\n",
       "      <td>...</td>\n",
       "      <td>...</td>\n",
       "      <td>...</td>\n",
       "      <td>...</td>\n",
       "    </tr>\n",
       "    <tr>\n",
       "      <th>1153</th>\n",
       "      <td>2025-05-30</td>\n",
       "      <td>138546.000000</td>\n",
       "      <td>138637.000000</td>\n",
       "      <td>136726.000000</td>\n",
       "      <td>137027.000000</td>\n",
       "      <td>15141600</td>\n",
       "      <td>0.0</td>\n",
       "      <td>0.0</td>\n",
       "      <td>^BVSP</td>\n",
       "      <td>120125.000000</td>\n",
       "      <td>14.070</td>\n",
       "      <td>BVSP (BRA)</td>\n",
       "    </tr>\n",
       "    <tr>\n",
       "      <th>1154</th>\n",
       "      <td>2025-06-02</td>\n",
       "      <td>137026.000000</td>\n",
       "      <td>138471.000000</td>\n",
       "      <td>136483.000000</td>\n",
       "      <td>136787.000000</td>\n",
       "      <td>9100100</td>\n",
       "      <td>0.0</td>\n",
       "      <td>0.0</td>\n",
       "      <td>^BVSP</td>\n",
       "      <td>120125.000000</td>\n",
       "      <td>13.871</td>\n",
       "      <td>BVSP (BRA)</td>\n",
       "    </tr>\n",
       "    <tr>\n",
       "      <th>1155</th>\n",
       "      <td>2025-06-03</td>\n",
       "      <td>136787.000000</td>\n",
       "      <td>137672.000000</td>\n",
       "      <td>136175.000000</td>\n",
       "      <td>137546.000000</td>\n",
       "      <td>9696700</td>\n",
       "      <td>0.0</td>\n",
       "      <td>0.0</td>\n",
       "      <td>^BVSP</td>\n",
       "      <td>120125.000000</td>\n",
       "      <td>14.502</td>\n",
       "      <td>BVSP (BRA)</td>\n",
       "    </tr>\n",
       "    <tr>\n",
       "      <th>1156</th>\n",
       "      <td>2025-06-04</td>\n",
       "      <td>137547.000000</td>\n",
       "      <td>138797.000000</td>\n",
       "      <td>136695.000000</td>\n",
       "      <td>137002.000000</td>\n",
       "      <td>10199100</td>\n",
       "      <td>0.0</td>\n",
       "      <td>0.0</td>\n",
       "      <td>^BVSP</td>\n",
       "      <td>120125.000000</td>\n",
       "      <td>14.050</td>\n",
       "      <td>BVSP (BRA)</td>\n",
       "    </tr>\n",
       "    <tr>\n",
       "      <th>1157</th>\n",
       "      <td>2025-06-05</td>\n",
       "      <td>137003.000000</td>\n",
       "      <td>137451.000000</td>\n",
       "      <td>136031.000000</td>\n",
       "      <td>136236.000000</td>\n",
       "      <td>9484500</td>\n",
       "      <td>0.0</td>\n",
       "      <td>0.0</td>\n",
       "      <td>^BVSP</td>\n",
       "      <td>120125.000000</td>\n",
       "      <td>13.412</td>\n",
       "      <td>BVSP (BRA)</td>\n",
       "    </tr>\n",
       "  </tbody>\n",
       "</table>\n",
       "<p>1158 rows × 12 columns</p>\n",
       "</div>"
      ],
      "text/plain": [
       "            Date           Open           High            Low          Close  \\\n",
       "0     2025-01-02    5903.259766    5935.089844    5829.529785    5868.549805   \n",
       "1     2025-01-03    5891.069824    5949.339844    5888.660156    5942.470215   \n",
       "2     2025-01-06    5982.810059    6021.040039    5960.009766    5975.379883   \n",
       "3     2025-01-07    5993.259766    6000.680176    5890.680176    5909.029785   \n",
       "4     2025-01-08    5910.660156    5927.890137    5874.779785    5918.250000   \n",
       "...          ...            ...            ...            ...            ...   \n",
       "1153  2025-05-30  138546.000000  138637.000000  136726.000000  137027.000000   \n",
       "1154  2025-06-02  137026.000000  138471.000000  136483.000000  136787.000000   \n",
       "1155  2025-06-03  136787.000000  137672.000000  136175.000000  137546.000000   \n",
       "1156  2025-06-04  137547.000000  138797.000000  136695.000000  137002.000000   \n",
       "1157  2025-06-05  137003.000000  137451.000000  136031.000000  136236.000000   \n",
       "\n",
       "          Volume  Dividends  Stock Splits Ticker    First Close  YTD Return  \\\n",
       "0     3621680000        0.0           0.0  ^GSPC    5868.549805       0.000   \n",
       "1     3667340000        0.0           0.0  ^GSPC    5868.549805       1.260   \n",
       "2     4940120000        0.0           0.0  ^GSPC    5868.549805       1.820   \n",
       "3     4517330000        0.0           0.0  ^GSPC    5868.549805       0.690   \n",
       "4     4441740000        0.0           0.0  ^GSPC    5868.549805       0.847   \n",
       "...          ...        ...           ...    ...            ...         ...   \n",
       "1153    15141600        0.0           0.0  ^BVSP  120125.000000      14.070   \n",
       "1154     9100100        0.0           0.0  ^BVSP  120125.000000      13.871   \n",
       "1155     9696700        0.0           0.0  ^BVSP  120125.000000      14.502   \n",
       "1156    10199100        0.0           0.0  ^BVSP  120125.000000      14.050   \n",
       "1157     9484500        0.0           0.0  ^BVSP  120125.000000      13.412   \n",
       "\n",
       "         Country  \n",
       "0     GSPC (USA)  \n",
       "1     GSPC (USA)  \n",
       "2     GSPC (USA)  \n",
       "3     GSPC (USA)  \n",
       "4     GSPC (USA)  \n",
       "...          ...  \n",
       "1153  BVSP (BRA)  \n",
       "1154  BVSP (BRA)  \n",
       "1155  BVSP (BRA)  \n",
       "1156  BVSP (BRA)  \n",
       "1157  BVSP (BRA)  \n",
       "\n",
       "[1158 rows x 12 columns]"
      ]
     },
     "execution_count": 18,
     "metadata": {},
     "output_type": "execute_result"
    }
   ],
   "source": [
    "ytd_copy = ytd_df_all.copy()\n",
    "ytd_copy['First Close'] = ytd_copy.groupby(['Ticker'])['Close'].transform('first') # # Group by ticker and year and get first close from each ticker\n",
    "\n",
    "\n",
    "ytd_copy['YTD Return'] = calculate_ytd_return(ytd_copy['Close'],ytd_copy['First Close'])\n",
    "ytd_copy['Country'] = ytd_copy['Ticker'].map(map_country)\n",
    "ytd_copy['Date'] = pd.to_datetime(ytd_copy['Date'], utc=True).dt.date\n",
    "ytd_copy\n"
   ]
  },
  {
   "cell_type": "code",
   "execution_count": 23,
   "id": "145495e7",
   "metadata": {},
   "outputs": [
    {
     "data": {
      "application/vnd.plotly.v1+json": {
       "config": {
        "plotlyServerURL": "https://plot.ly"
       },
       "data": [
        {
         "hovertemplate": "Country=GSPC (USA)<br>Date=%{x}<br>YTD Return=%{y}<extra></extra>",
         "legendgroup": "GSPC (USA)",
         "line": {
          "color": "#1f77b4",
          "dash": "solid"
         },
         "marker": {
          "symbol": "circle"
         },
         "mode": "lines",
         "name": "GSPC (USA)",
         "showlegend": true,
         "type": "scattergl",
         "x": [
          "2025-01-02",
          "2025-01-03",
          "2025-01-06",
          "2025-01-07",
          "2025-01-08",
          "2025-01-10",
          "2025-01-13",
          "2025-01-14",
          "2025-01-15",
          "2025-01-16",
          "2025-01-17",
          "2025-01-21",
          "2025-01-22",
          "2025-01-23",
          "2025-01-24",
          "2025-01-27",
          "2025-01-28",
          "2025-01-29",
          "2025-01-30",
          "2025-01-31",
          "2025-02-03",
          "2025-02-04",
          "2025-02-05",
          "2025-02-06",
          "2025-02-07",
          "2025-02-10",
          "2025-02-11",
          "2025-02-12",
          "2025-02-13",
          "2025-02-14",
          "2025-02-18",
          "2025-02-19",
          "2025-02-20",
          "2025-02-21",
          "2025-02-24",
          "2025-02-25",
          "2025-02-26",
          "2025-02-27",
          "2025-02-28",
          "2025-03-03",
          "2025-03-04",
          "2025-03-05",
          "2025-03-06",
          "2025-03-07",
          "2025-03-10",
          "2025-03-11",
          "2025-03-12",
          "2025-03-13",
          "2025-03-14",
          "2025-03-17",
          "2025-03-18",
          "2025-03-19",
          "2025-03-20",
          "2025-03-21",
          "2025-03-24",
          "2025-03-25",
          "2025-03-26",
          "2025-03-27",
          "2025-03-28",
          "2025-03-31",
          "2025-04-01",
          "2025-04-02",
          "2025-04-03",
          "2025-04-04",
          "2025-04-07",
          "2025-04-08",
          "2025-04-09",
          "2025-04-10",
          "2025-04-11",
          "2025-04-14",
          "2025-04-15",
          "2025-04-16",
          "2025-04-17",
          "2025-04-21",
          "2025-04-22",
          "2025-04-23",
          "2025-04-24",
          "2025-04-25",
          "2025-04-28",
          "2025-04-29",
          "2025-04-30",
          "2025-05-01",
          "2025-05-02",
          "2025-05-05",
          "2025-05-06",
          "2025-05-07",
          "2025-05-08",
          "2025-05-09",
          "2025-05-12",
          "2025-05-13",
          "2025-05-14",
          "2025-05-15",
          "2025-05-16",
          "2025-05-19",
          "2025-05-20",
          "2025-05-21",
          "2025-05-22",
          "2025-05-23",
          "2025-05-27",
          "2025-05-28",
          "2025-05-29",
          "2025-05-30",
          "2025-06-02",
          "2025-06-03",
          "2025-06-04",
          "2025-06-05"
         ],
         "xaxis": "x",
         "y": {
          "bdata": "AAAAAAAAAAApXI/C9Sj0Px+F61G4Hv0/FK5H4XoU5j+0yHa+nxrrPzm0yHa+n+a/bxKDwMqh4b8rhxbZzvfbv5MYBFYOLfY/jZduEoPA8j8QWDm0yHYBQG8Sg8DKoQhAGQRWDi2yDUBaZDvfTw0RQLgehetRuA9AZDvfT42XA0D0/dR46SYLQEjhehSuRwdAObTIdr6fC0Cmm8QgsHIHQJMYBFYOLQFAFK5H4XoUB0Dn+6nx0k0KQB1aZDvfTw1AEFg5tMh2BUBg5dAi2/kKQKjGSzeJQQtAAAAAAAAACUDn+6nx0s0QQBKDwMqhxRBAmG4Sg8DKEUBiEFg5tMgSQCuHFtnO9xBAg8DKoUW2A0DdJAaBlUP/P28Sg8DKofc/QmDl0CLb9z8QWDm0yHa+v3E9CtejcPc/JQaBlUOL1L+kcD0K16P4v30/NV66Sdy/7nw/NV66AcA3iUFg5dD6vx1aZDvfTxHAaJHtfD81FMAnMQisHFoSwPT91HjpphfA5/up8dJND8CR7Xw/NV4KwOf7qfHSTRHA8tJNYhBYCsDVeOkmMQgMwGZmZmZmZgvA8KfGSzeJ+791kxgEVg75vx1aZDvfTwXAF9nO91PjB8C0yHa+n5oTwOXQItv5fhHAWmQ7308NEMBWDi2yne8KwLx0kxgEFiDA+n5qvHQTK8DufD81XnorwOOlm8QgMC7Aj8L1KFwPHMCe76fGS3ckwJ7vp8ZLNyHAukkMAiuHH8Av3SQGgRUgwE5iEFg5NCTAnu+nxkv3I8Boke18PzUowCUGgZVDyyPACtejcD3KIMApXI/C9SgawIGVQ4tsZxfAKVyPwvUoF8Bg5dAi2/kUwLbz/dR4aRTAoBov3SQGEsCYbhKDwMoIwFg5tMh2vg3AokW28/3UEcB56SYxCCwQwEw3iUFg5QvAcT0K16NwDMCPwvUoXI/av9nO91PjpdM/kxgEVg4t2j+R7Xw/NV7qP+XQItv5fvg/7FG4HoXr+T+amZmZmZnzP+kmMQisHNq/IbByaJHt3L/sUbgehevxv0w3iUFg5ew/bef7qfHS1T8tsp3vp8bnP4XrUbgehec/ke18PzVe8j/D9Shcj8L7PxfZzvdT4/s/sp3vp8ZL8z8=",
          "dtype": "f8"
         },
         "yaxis": "y"
        },
        {
         "hovertemplate": "Country=SSE (CHN)<br>Date=%{x}<br>YTD Return=%{y}<extra></extra>",
         "legendgroup": "SSE (CHN)",
         "line": {
          "color": "#ff7f0e",
          "dash": "solid"
         },
         "marker": {
          "symbol": "circle"
         },
         "mode": "lines",
         "name": "SSE (CHN)",
         "showlegend": true,
         "type": "scattergl",
         "x": [
          "2025-01-01",
          "2025-01-02",
          "2025-01-05",
          "2025-01-06",
          "2025-01-07",
          "2025-01-08",
          "2025-01-09",
          "2025-01-12",
          "2025-01-13",
          "2025-01-14",
          "2025-01-15",
          "2025-01-16",
          "2025-01-19",
          "2025-01-20",
          "2025-01-21",
          "2025-01-22",
          "2025-01-23",
          "2025-01-26",
          "2025-02-04",
          "2025-02-05",
          "2025-02-06",
          "2025-02-09",
          "2025-02-10",
          "2025-02-11",
          "2025-02-12",
          "2025-02-13",
          "2025-02-16",
          "2025-02-17",
          "2025-02-18",
          "2025-02-19",
          "2025-02-20",
          "2025-02-23",
          "2025-02-24",
          "2025-02-25",
          "2025-02-26",
          "2025-02-27",
          "2025-03-02",
          "2025-03-03",
          "2025-03-04",
          "2025-03-05",
          "2025-03-06",
          "2025-03-09",
          "2025-03-10",
          "2025-03-11",
          "2025-03-12",
          "2025-03-13",
          "2025-03-16",
          "2025-03-17",
          "2025-03-18",
          "2025-03-19",
          "2025-03-20",
          "2025-03-23",
          "2025-03-24",
          "2025-03-25",
          "2025-03-26",
          "2025-03-27",
          "2025-03-30",
          "2025-03-31",
          "2025-04-01",
          "2025-04-02",
          "2025-04-06",
          "2025-04-07",
          "2025-04-08",
          "2025-04-09",
          "2025-04-10",
          "2025-04-13",
          "2025-04-14",
          "2025-04-15",
          "2025-04-16",
          "2025-04-17",
          "2025-04-20",
          "2025-04-21",
          "2025-04-22",
          "2025-04-23",
          "2025-04-24",
          "2025-04-27",
          "2025-04-28",
          "2025-04-29",
          "2025-05-05",
          "2025-05-06",
          "2025-05-07",
          "2025-05-08",
          "2025-05-11",
          "2025-05-12",
          "2025-05-13",
          "2025-05-14",
          "2025-05-15",
          "2025-05-18",
          "2025-05-19",
          "2025-05-20",
          "2025-05-21",
          "2025-05-22",
          "2025-05-25",
          "2025-05-26",
          "2025-05-27",
          "2025-05-28",
          "2025-05-29",
          "2025-06-02",
          "2025-06-03",
          "2025-06-04"
         ],
         "xaxis": "x",
         "y": {
          "bdata": "AAAAAAAAAADfT42XbhL5v0jhehSuR/u/vp8aL90k8L8tsp3vp8bvv0oMAiuHFvm/dZMYBFYOB8D2KFyPwvUIwJ7vp8ZLN+W/x0s3iUFg8b9qvHSTGATqvycxCKwcWuS/bef7qfHS4b9aZDvfT43jvwAAAAAAAPi/LbKd76fG77+F61G4HoXTv7ByaJHtfNe/001iEFg58L9YObTIdr7PPylcj8L1KPQ/CKwcWmQ7/T+e76fGSzf7P1pkO99PjQRAvp8aL90kAUCkcD0K16MEQKwcWmQ73wZAke18PzVe/j83iUFg5dAFQG8Sg8DKoQVA+n5qvHSTDEBKDAIrhxYLQEa28/3UeARADAIrhxbZDEAtsp3vp8YOQM/3U+Olm/w/Di2yne+n+j89CtejcD3+P0a28/3UeANAqvHSTWIQDUArhxbZzvcKQGZmZmZmZglAjZduEoPADEA3iUFg5dAKQC/dJAaBlQdAc2iR7Xw/E0BaZDvfTw0UQAAAAAAAgBRAZDvfT40XFECmm8QgsPIRQBSuR+F6FAlAJzEIrBxaCkC8dJMYBFYKQKAaL90kBgpA3SQGgZVDC0DD9Shcj8IFQIts5/up8QFAdZMYBFYOBUBGtvP91HgFQHsUrkfhegNAJzEIrBxaFMAZBFYOLbIMwPp+arx0kwLASgwCK4cW87+sHFpkO9/nv/yp8dJNYoA/K4cW2c73wz+R7Xw/NV7aP3E9CtejcOE/LbKd76fG2z9SuB6F61HsPz0K16NwPfI/+n5qvHST8D+gGi/dJAbxP6wcWmQ73+8/8tJNYhBY6T8EVg4tsp3nPylcj8L1KOA/qMZLN4lB+j+kcD0K16MDQCGwcmiR7QVAexSuR+F6A0ApXI/C9SgKQPCnxks3iQtAvHSTGARWEUAAAAAAAAANQLgehetRuAlAjZduEoPACUC28/3UeOkMQA4tsp3vpw5A16NwPQrXDEAK16NwPQoFQESLbOf7qQRAKVyPwvUoA0ArhxbZzvcCQCPb+X5qvAhAbef7qfHSBEDHSzeJQWAIQHe+nxov3QtAzczMzMzMDUA=",
          "dtype": "f8"
         },
         "yaxis": "y"
        },
        {
         "hovertemplate": "Country=HSI (HKG)<br>Date=%{x}<br>YTD Return=%{y}<extra></extra>",
         "legendgroup": "HSI (HKG)",
         "line": {
          "color": "#2ca02c",
          "dash": "solid"
         },
         "marker": {
          "symbol": "circle"
         },
         "mode": "lines",
         "name": "HSI (HKG)",
         "showlegend": true,
         "type": "scattergl",
         "x": [
          "2025-01-01",
          "2025-01-02",
          "2025-01-05",
          "2025-01-06",
          "2025-01-07",
          "2025-01-08",
          "2025-01-09",
          "2025-01-12",
          "2025-01-13",
          "2025-01-14",
          "2025-01-15",
          "2025-01-16",
          "2025-01-19",
          "2025-01-20",
          "2025-01-21",
          "2025-01-22",
          "2025-01-23",
          "2025-01-26",
          "2025-01-27",
          "2025-02-02",
          "2025-02-03",
          "2025-02-04",
          "2025-02-05",
          "2025-02-06",
          "2025-02-09",
          "2025-02-10",
          "2025-02-11",
          "2025-02-12",
          "2025-02-13",
          "2025-02-16",
          "2025-02-17",
          "2025-02-18",
          "2025-02-19",
          "2025-02-20",
          "2025-02-23",
          "2025-02-24",
          "2025-02-25",
          "2025-02-26",
          "2025-02-27",
          "2025-03-02",
          "2025-03-03",
          "2025-03-04",
          "2025-03-05",
          "2025-03-06",
          "2025-03-09",
          "2025-03-10",
          "2025-03-11",
          "2025-03-12",
          "2025-03-13",
          "2025-03-16",
          "2025-03-17",
          "2025-03-18",
          "2025-03-19",
          "2025-03-20",
          "2025-03-23",
          "2025-03-24",
          "2025-03-25",
          "2025-03-26",
          "2025-03-27",
          "2025-03-30",
          "2025-03-31",
          "2025-04-01",
          "2025-04-02",
          "2025-04-06",
          "2025-04-07",
          "2025-04-08",
          "2025-04-09",
          "2025-04-10",
          "2025-04-13",
          "2025-04-14",
          "2025-04-15",
          "2025-04-16",
          "2025-04-21",
          "2025-04-22",
          "2025-04-23",
          "2025-04-24",
          "2025-04-27",
          "2025-04-28",
          "2025-04-29",
          "2025-05-01",
          "2025-05-05",
          "2025-05-06",
          "2025-05-07",
          "2025-05-08",
          "2025-05-11",
          "2025-05-12",
          "2025-05-13",
          "2025-05-14",
          "2025-05-15",
          "2025-05-18",
          "2025-05-19",
          "2025-05-20",
          "2025-05-21",
          "2025-05-22",
          "2025-05-25",
          "2025-05-26",
          "2025-05-27",
          "2025-05-28",
          "2025-05-29",
          "2025-06-01",
          "2025-06-02",
          "2025-06-03",
          "2025-06-04"
         ],
         "xaxis": "x",
         "y": {
          "bdata": "AAAAAAAAAAC8dJMYBFbmP8l2vp8aL9U/eekmMQis7L8AAAAAAAD8v8l2vp8aL/+/mG4Sg8DKBsAlBoGVQ4sOwKabxCCwcgDAGy/dJAaB+7/8qfHSTWLgv5qZmZmZmcm/Di2yne+n+D9OYhBYObQDQPLSTWIQWOk/nu+nxks32T91kxgEVg4CQNEi2/l+agdA8KfGSzeJCECe76fGSzcIQEjhehSuxxdADAIrhxbZE0AnMQisHNoZQGIQWDm0yB5AJzEIrBxaI0Dwp8ZLNwkhQKAaL90kxiZAokW28/1UJkCyne+nxosuQBsv3SQGgS5AEFg5tMgWMUA/NV66SewwQLTIdr6fGi5A+FPjpZukM0Cmm8QgsPIyQKjGSzeJYTFADAIrhxY5NUCR7Xw/Nd40QJzEILBy6DBAd76fGi89MUDwp8ZLN+kwQCPb+X5qPDRA46WbxCAwOEAIrBxaZHs3QDMzMzMzMzVAxSCwcmgxNUAxCKwcWkQ0QHE9CtejkDNAmpmZmZkZNkDsUbgehQs3QMHKoUW2EzpAz/dT46U7OkAGgZVDi2w3QEa28/3UuDRA30+Nl27SNUCDwMqhRfYyQOxRuB6FqzNA1XjpJjEoNECoxks3iWEzQP7UeOkm0TFAUI2XbhJDMkA9CtejcD0yQP7UeOkmcTBAuB6F61G48D+PwvUoXI8EQIlBYOXQIgpA+n5qvHSTFUBt5/up8VIaQPCnxks3SSJAYhBYObTIIkDTTWIQWDkdQAIrhxbZDiJAUI2XbhLDI0AQWDm0yPYoQOf7qfHSTSdALbKd76cGKEDjpZvEIPAnQHWTGARWTihAcT0K16NwKUAEVg4tsl0tQO58PzVe+i5AoBov3SRGL0A3iUFg5RAwQJzEILByiDBANV66SQwCNED8qfHSTcIxQEa28/3UeDRAMQisHFqEM0Ce76fGS/cyQLpJDAIr5zJArkfhehSuNECTGARWDm01QEJg5dAi+zNATDeJQWBFNEBMN4lBYKUyQIGVQ4tsJzNAoBov3SSGMkAbL90kBiE0QMl2vp8arzJAUI2XbhIDMkCLbOf7qdEzQArXo3A9ijRATmIQWDnUNUA=",
          "dtype": "f8"
         },
         "yaxis": "y"
        },
        {
         "hovertemplate": "Country=AXJO (AUS)<br>Date=%{x}<br>YTD Return=%{y}<extra></extra>",
         "legendgroup": "AXJO (AUS)",
         "line": {
          "color": "#d62728",
          "dash": "solid"
         },
         "marker": {
          "symbol": "circle"
         },
         "mode": "lines",
         "name": "AXJO (AUS)",
         "showlegend": true,
         "type": "scattergl",
         "x": [
          "2025-01-01",
          "2025-01-02",
          "2025-01-05",
          "2025-01-06",
          "2025-01-07",
          "2025-01-08",
          "2025-01-09",
          "2025-01-12",
          "2025-01-13",
          "2025-01-14",
          "2025-01-15",
          "2025-01-16",
          "2025-01-19",
          "2025-01-20",
          "2025-01-21",
          "2025-01-22",
          "2025-01-23",
          "2025-01-27",
          "2025-01-28",
          "2025-01-29",
          "2025-01-30",
          "2025-02-02",
          "2025-02-03",
          "2025-02-04",
          "2025-02-05",
          "2025-02-06",
          "2025-02-09",
          "2025-02-10",
          "2025-02-11",
          "2025-02-12",
          "2025-02-13",
          "2025-02-16",
          "2025-02-17",
          "2025-02-18",
          "2025-02-19",
          "2025-02-20",
          "2025-02-23",
          "2025-02-24",
          "2025-02-25",
          "2025-02-26",
          "2025-02-27",
          "2025-03-02",
          "2025-03-03",
          "2025-03-04",
          "2025-03-05",
          "2025-03-06",
          "2025-03-09",
          "2025-03-10",
          "2025-03-11",
          "2025-03-12",
          "2025-03-13",
          "2025-03-16",
          "2025-03-17",
          "2025-03-18",
          "2025-03-19",
          "2025-03-20",
          "2025-03-23",
          "2025-03-24",
          "2025-03-25",
          "2025-03-26",
          "2025-03-27",
          "2025-03-30",
          "2025-03-31",
          "2025-04-01",
          "2025-04-02",
          "2025-04-03",
          "2025-04-06",
          "2025-04-07",
          "2025-04-08",
          "2025-04-09",
          "2025-04-10",
          "2025-04-13",
          "2025-04-14",
          "2025-04-15",
          "2025-04-16",
          "2025-04-21",
          "2025-04-22",
          "2025-04-23",
          "2025-04-27",
          "2025-04-28",
          "2025-04-29",
          "2025-04-30",
          "2025-05-01",
          "2025-05-04",
          "2025-05-05",
          "2025-05-06",
          "2025-05-07",
          "2025-05-08",
          "2025-05-11",
          "2025-05-12",
          "2025-05-13",
          "2025-05-14",
          "2025-05-15",
          "2025-05-18",
          "2025-05-19",
          "2025-05-20",
          "2025-05-21",
          "2025-05-22",
          "2025-05-25",
          "2025-05-26",
          "2025-05-27",
          "2025-05-28",
          "2025-05-29",
          "2025-06-01",
          "2025-06-02",
          "2025-06-03",
          "2025-06-04"
         ],
         "xaxis": "x",
         "y": {
          "bdata": "AAAAAAAAAAAIrBxaZDvjP6AaL90kBvE/ke18PzVe8D8MAiuHFtn8P2Dl0CLb+fg/VOOlm8Qg8j8hsHJoke28vwisHFpkO9c/i2zn+6nxwj8lBoGVQ4v4Px1aZDvfT/U/L90kBoGVA0DHSzeJQWAFQLKd76fGSwZAHVpkO99PAUDdJAaBlUMEQOf7qfHSTQNAYOXQItv5B0BqvHSTGAQRQNnO91PjJRBA/Knx0k1iAUBCYOXQItsAQArXo3A9CgVAXrpJDAIrD0Coxks3iUEOQEa28/3UeAtAL90kBoGVC0Cyne+nxksQQKAaL90khhBAsp3vp8ZLEUCDwMqhRbYNQLKd76fGSwtA3SQGgZVDBUDufD81Xrr3P7pJDAIrh/I/4XoUrkfh9D8tsp3vp8bjPwwCK4cW2d4/vp8aL90k6j8QWDm0yHbWv8dLN4lBYOE/2/l+arx0o7/b+X5qvHTnv2IQWDm0yPS/rkfhehSuCMDn+6nx0k0HwPLSTWIQWA7APQrXo3A9FMBaZDvfTw0WwN9PjZduEhTAIbByaJHtEMAfhetRuJ4QwOOlm8QgMBLA8KfGSzeJC8C8dJMYBFYKwGIQWDm0yAnACKwcWmQ7CcC4HoXrUbgDwNnO91PjpQbA/Knx0k1iBcDByqFFtnMRwOxRuB6F6wrAarx0kxgECsAOLbKd76cQwGq8dJMYBBrAeekmMQjsJMBCYOXQItsgwNnO91PjJSTAYOXQItv5F8B1kxgEVg4bwPp+arx0ExbAVg4tsp1vFcDfT42XbpIVwIlBYOXQohLAjZduEoPAEsD8qfHSTWILwO58PzVeugbAtvP91HjpA8BGtvP91Hj5v0jhehSuR+2/GQRWDi2y5b8j2/l+arzcPyGwcmiR7eC/BoGVQ4ts479CYOXQItvRvxkEVg4tsr2/BoGVQ4ts1z+e76fGSzfZPxBYObTIduo/ZDvfT42X7j9iEFg5tMjyPwIrhxbZzvs/UrgehetR8j/ufD81Xrr7P7TIdr6fGgJAYhBYObTI/D/0/dR46Sb/P166SQwCK/8/iUFg5dAiBEBKDAIrhxYDQCcxCKwcWgRALbKd76fGBkD4U+Olm8QEQEw3iUFg5QlA6SYxCKycEEBGtvP91HgQQA==",
          "dtype": "f8"
         },
         "yaxis": "y"
        },
        {
         "hovertemplate": "Country=NSEI (IND)<br>Date=%{x}<br>YTD Return=%{y}<extra></extra>",
         "legendgroup": "NSEI (IND)",
         "line": {
          "color": "#9467bd",
          "dash": "solid"
         },
         "marker": {
          "symbol": "circle"
         },
         "mode": "lines",
         "name": "NSEI (IND)",
         "showlegend": true,
         "type": "scattergl",
         "x": [
          "2024-12-31",
          "2025-01-01",
          "2025-01-02",
          "2025-01-05",
          "2025-01-06",
          "2025-01-07",
          "2025-01-08",
          "2025-01-09",
          "2025-01-12",
          "2025-01-13",
          "2025-01-14",
          "2025-01-15",
          "2025-01-16",
          "2025-01-19",
          "2025-01-20",
          "2025-01-21",
          "2025-01-22",
          "2025-01-23",
          "2025-01-26",
          "2025-01-27",
          "2025-01-28",
          "2025-01-29",
          "2025-01-30",
          "2025-02-02",
          "2025-02-03",
          "2025-02-04",
          "2025-02-05",
          "2025-02-06",
          "2025-02-09",
          "2025-02-10",
          "2025-02-11",
          "2025-02-12",
          "2025-02-13",
          "2025-02-16",
          "2025-02-17",
          "2025-02-18",
          "2025-02-19",
          "2025-02-20",
          "2025-02-23",
          "2025-02-24",
          "2025-02-26",
          "2025-02-27",
          "2025-03-02",
          "2025-03-03",
          "2025-03-04",
          "2025-03-05",
          "2025-03-06",
          "2025-03-09",
          "2025-03-10",
          "2025-03-11",
          "2025-03-12",
          "2025-03-16",
          "2025-03-17",
          "2025-03-18",
          "2025-03-19",
          "2025-03-20",
          "2025-03-23",
          "2025-03-24",
          "2025-03-25",
          "2025-03-26",
          "2025-03-27",
          "2025-03-31",
          "2025-04-01",
          "2025-04-02",
          "2025-04-03",
          "2025-04-06",
          "2025-04-07",
          "2025-04-08",
          "2025-04-10",
          "2025-04-14",
          "2025-04-15",
          "2025-04-16",
          "2025-04-20",
          "2025-04-21",
          "2025-04-22",
          "2025-04-23",
          "2025-04-24",
          "2025-04-27",
          "2025-04-28",
          "2025-04-29",
          "2025-05-01",
          "2025-05-04",
          "2025-05-05",
          "2025-05-06",
          "2025-05-07",
          "2025-05-08",
          "2025-05-11",
          "2025-05-12",
          "2025-05-13",
          "2025-05-14",
          "2025-05-15",
          "2025-05-18",
          "2025-05-19",
          "2025-05-20",
          "2025-05-21",
          "2025-05-22",
          "2025-05-25",
          "2025-05-26",
          "2025-05-27",
          "2025-05-28",
          "2025-05-29",
          "2025-06-01",
          "2025-06-02",
          "2025-06-03",
          "2025-06-04"
         ],
         "xaxis": "x",
         "y": {
          "bdata": "AAAAAAAAAADVeOkmMQj+P9nO91PjpfE/SgwCK4cW4b83iUFg5dDCv3WTGARWDs2/9P3UeOkm7b/LoUW28/30v4lBYOXQIgbAf2q8dJMYA8AMAiuHFtkBwHWTGARWDv2/yXa+nxovAsCiRbbz/dT6vzMzMzMzMwjAzczMzMzMA8DpJjEIrBwCwCGwcmiR7QXAmG4Sg8DKDsBGtvP91HgKwPCnxks3iQPAObTIdr6fAMAEVg4tsp3vv+58PzVeuvm/uB6F61G4jr9KDAIrhxbJvzeJQWDl0OK/eekmMQis6L8nMQisHFr4vwRWDi2ynQbAGy/dJAaBB8Bg5dAi2/kHwNEi2/l+agvAZmZmZmZmCsCsHFpkO98KwLKd76fGSwvA9ihcj8L1C8C28/3UeOkPwArXo3A9ChTApHA9CtcjFMCuR+F6FC4UwN0kBoGVQxvAJzEIrBxaG8BGtvP91PgbwK5H4XoUrhfA46WbxCAwFMB1kxgEVg4UwM/3U+OlmxXAYOXQItv5FMBWDi2ynW8VwHnpJjEIrBbAmG4Sg8DKFMAEVg4tsp0OwL6fGi/dJAzAz/dT46WbAsCmm8QgsHL6v2IQWDm0yNa/1XjpJjEI1L9zaJHtfD/xvycxCKwcWuS/vp8aL90k7r+mm8QgsHIDwESLbOf7qfu/z/dT46WbAMBzaJHtfD8MwKRwPQrXoxrAvHSTGARWFMCkcD0K16MWwAIrhxbZzg7A7FG4HoXr+7/P91PjpZv0vx1aZDvfT90/mG4Sg8DK+T9kO99PjZf8P1g5tMh2vgNAYOXQItv5AECWQ4ts5/vzP+58PzVeugNAlkOLbOf7A0DsUbgehesDQPLSTWIQWARAMzMzMzMzCEDb+X5qvHQFQDm0yHa+nwZAF9nO91PjAUCsHFpkO9/xP5zEILBy6BNA9P3UeOkmDECJQWDl0CIPQNNNYhBYORZAUI2XbhKDFUDD9Shcj0IUQE5iEFg5tA9A8KfGSzcJEkBoke18PzUNQE5iEFg5tBJAGQRWDi0yFUCNl24Sg0ASQDVeukkMAhFAx0s3iUFgEkB7FK5H4foQQIGVQ4tsZxBAi2zn+6nxCkCPwvUoXI8NQHsUrkfh+hBA",
          "dtype": "f8"
         },
         "yaxis": "y"
        },
        {
         "hovertemplate": "Country=GSPTSE (CAN)<br>Date=%{x}<br>YTD Return=%{y}<extra></extra>",
         "legendgroup": "GSPTSE (CAN)",
         "line": {
          "color": "#8c564b",
          "dash": "solid"
         },
         "marker": {
          "symbol": "circle"
         },
         "mode": "lines",
         "name": "GSPTSE (CAN)",
         "showlegend": true,
         "type": "scattergl",
         "x": [
          "2025-01-02",
          "2025-01-03",
          "2025-01-06",
          "2025-01-07",
          "2025-01-08",
          "2025-01-09",
          "2025-01-10",
          "2025-01-13",
          "2025-01-14",
          "2025-01-15",
          "2025-01-16",
          "2025-01-17",
          "2025-01-20",
          "2025-01-21",
          "2025-01-22",
          "2025-01-23",
          "2025-01-24",
          "2025-01-27",
          "2025-01-28",
          "2025-01-29",
          "2025-01-30",
          "2025-01-31",
          "2025-02-03",
          "2025-02-04",
          "2025-02-05",
          "2025-02-06",
          "2025-02-07",
          "2025-02-10",
          "2025-02-11",
          "2025-02-12",
          "2025-02-13",
          "2025-02-14",
          "2025-02-18",
          "2025-02-19",
          "2025-02-20",
          "2025-02-21",
          "2025-02-24",
          "2025-02-25",
          "2025-02-26",
          "2025-02-27",
          "2025-02-28",
          "2025-03-03",
          "2025-03-04",
          "2025-03-05",
          "2025-03-06",
          "2025-03-07",
          "2025-03-10",
          "2025-03-11",
          "2025-03-12",
          "2025-03-13",
          "2025-03-14",
          "2025-03-17",
          "2025-03-18",
          "2025-03-19",
          "2025-03-20",
          "2025-03-21",
          "2025-03-24",
          "2025-03-25",
          "2025-03-26",
          "2025-03-27",
          "2025-03-28",
          "2025-03-31",
          "2025-04-01",
          "2025-04-02",
          "2025-04-03",
          "2025-04-04",
          "2025-04-07",
          "2025-04-08",
          "2025-04-09",
          "2025-04-10",
          "2025-04-11",
          "2025-04-14",
          "2025-04-15",
          "2025-04-16",
          "2025-04-17",
          "2025-04-21",
          "2025-04-22",
          "2025-04-23",
          "2025-04-24",
          "2025-04-25",
          "2025-04-28",
          "2025-04-29",
          "2025-04-30",
          "2025-05-01",
          "2025-05-02",
          "2025-05-05",
          "2025-05-06",
          "2025-05-07",
          "2025-05-08",
          "2025-05-09",
          "2025-05-12",
          "2025-05-13",
          "2025-05-14",
          "2025-05-15",
          "2025-05-16",
          "2025-05-20",
          "2025-05-21",
          "2025-05-22",
          "2025-05-23",
          "2025-05-26",
          "2025-05-27",
          "2025-05-28",
          "2025-05-29",
          "2025-05-30",
          "2025-06-02",
          "2025-06-03",
          "2025-06-04",
          "2025-06-05"
         ],
         "xaxis": "x",
         "y": {
          "bdata": "AAAAAAAAAACPwvUoXI/mP5MYBFYOLdo//Knx0k1iwD9YObTIdr7jP7pJDAIrh+Y/I9v5fmq84L9zaJHtfD/3vxfZzvdT4/O/K4cW2c732785tMh2vp/Kv23n+6nx0uU/7FG4HoXr7T8OLbKd76f4P/p+arx0k/o/001iEFg5AUCHFtnO91MCQIlBYOXQIvk/w/UoXI/CAECwcmiR7XwCQHNoke18Pw1AnMQgsHJoBEB/arx0kxj2P1CNl24Sg/g/L90kBoGVBUCmm8QgsHIEQFCNl24SgwFAppvEILByCED6fmq8dJMHQJHtfD81XgVAuB6F61G4CUDNzMzMzMwCQFTjpZvEIAhAZmZmZmZmB0CYbhKDwMoDQAAAAAAAAPA/EoPAyqFF8D9Ei2zn+6nzP0SLbOf7qfs/mpmZmZmZ7T/Xo3A9Ctf/Pzm0yHa+n9o/i2zn+6nx9L+BlUOLbOe7v5MYBFYOLfS/F9nO91Pj4b85tMh2vp8AwOF6FK5H4QTAUI2XbhKD/r+HFtnO91MGwL6fGi/dJPa/y6FFtvP93L956SYxCKzov2q8dJMYBOY/okW28/3U5D/pJjEIrBzSP39qvHSTGPo/ke18PzVe/D+28/3UeOnwP7bz/dR46fA/bef7qfHS4b8rhxbZzvezP8dLN4lBYOE/5/up8dJN+j+q8dJNYhACwPyp8dJNYhvAObTIdr5fIMBoke18PzUjwB1aZDvfzxLAjZduEoNAHsA/NV66SQwVwN9PjZdukhDAeekmMQisCsAGgZVDi2wJwA4tsp3vpwbAxSCwcmiRDMCgGi/dJAYDwIcW2c73U/u/7FG4HoXr5b9/arx0kxjov/Cnxks3idm/qvHSTWIQuL8hsHJoke3Mv+f7qfHSTdq/9P3UeOkm4T8lBoGVQ4vMP4PAyqFFttM/tvP91Hjp8D/hehSuR+H2P/Cnxks3if0/x0s3iUFgBEB/arx0kxgHQLpJDAIrhwlAdZMYBFYOEECNl24Sg0ARQH9qvHSTmBJAPQrXo3A9DkC4HoXrUbgOQFpkO99PjQ9AYhBYObRIE0CgGi/dJAYWQMP1KFyPQhZASgwCK4cWFUBqvHSTGIQUQMHKoUW28xdAdZMYBFaOGECwcmiR7fwWQE5iEFg5NBdA",
          "dtype": "f8"
         },
         "yaxis": "y"
        },
        {
         "hovertemplate": "Country=GDAXI (DEU)<br>Date=%{x}<br>YTD Return=%{y}<extra></extra>",
         "legendgroup": "GDAXI (DEU)",
         "line": {
          "color": "#e377c2",
          "dash": "solid"
         },
         "marker": {
          "symbol": "circle"
         },
         "mode": "lines",
         "name": "GDAXI (DEU)",
         "showlegend": true,
         "type": "scattergl",
         "x": [
          "2025-01-01",
          "2025-01-02",
          "2025-01-05",
          "2025-01-06",
          "2025-01-07",
          "2025-01-08",
          "2025-01-09",
          "2025-01-12",
          "2025-01-13",
          "2025-01-14",
          "2025-01-15",
          "2025-01-16",
          "2025-01-19",
          "2025-01-20",
          "2025-01-21",
          "2025-01-22",
          "2025-01-23",
          "2025-01-26",
          "2025-01-27",
          "2025-01-28",
          "2025-01-29",
          "2025-01-30",
          "2025-02-02",
          "2025-02-03",
          "2025-02-04",
          "2025-02-05",
          "2025-02-06",
          "2025-02-09",
          "2025-02-10",
          "2025-02-11",
          "2025-02-12",
          "2025-02-13",
          "2025-02-16",
          "2025-02-17",
          "2025-02-18",
          "2025-02-19",
          "2025-02-20",
          "2025-02-23",
          "2025-02-24",
          "2025-02-25",
          "2025-02-26",
          "2025-02-27",
          "2025-03-02",
          "2025-03-03",
          "2025-03-04",
          "2025-03-05",
          "2025-03-06",
          "2025-03-09",
          "2025-03-10",
          "2025-03-11",
          "2025-03-12",
          "2025-03-13",
          "2025-03-16",
          "2025-03-17",
          "2025-03-18",
          "2025-03-19",
          "2025-03-20",
          "2025-03-23",
          "2025-03-24",
          "2025-03-25",
          "2025-03-26",
          "2025-03-27",
          "2025-03-30",
          "2025-03-31",
          "2025-04-01",
          "2025-04-02",
          "2025-04-03",
          "2025-04-06",
          "2025-04-07",
          "2025-04-08",
          "2025-04-09",
          "2025-04-10",
          "2025-04-13",
          "2025-04-14",
          "2025-04-15",
          "2025-04-16",
          "2025-04-21",
          "2025-04-22",
          "2025-04-23",
          "2025-04-24",
          "2025-04-27",
          "2025-04-28",
          "2025-04-29",
          "2025-05-01",
          "2025-05-04",
          "2025-05-05",
          "2025-05-06",
          "2025-05-07",
          "2025-05-08",
          "2025-05-11",
          "2025-05-12",
          "2025-05-13",
          "2025-05-14",
          "2025-05-15",
          "2025-05-18",
          "2025-05-19",
          "2025-05-20",
          "2025-05-21",
          "2025-05-22",
          "2025-05-25",
          "2025-05-26",
          "2025-05-27",
          "2025-05-28",
          "2025-05-29",
          "2025-06-01",
          "2025-06-02",
          "2025-06-03",
          "2025-06-04"
         ],
         "xaxis": "x",
         "y": {
          "bdata": "AAAAAAAAAACLbOf7qfHiv2Q730+Nl+4/c2iR7Xw/+T9mZmZmZmb4P1yPwvUoXPc/ke18PzVe7j9I4XoUrkfhP4PAyqFFtvM/YOXQItv5BUAzMzMzMzMJQFpkO99PjRFAfT81XrpJE0BSuB6F61EUQI/C9ShcjxhATmIQWDm0G0CsHFpkO18bQB+F61G4HhlAL90kBoEVHEDP91PjpRsgQBsv3SQGASFAWmQ7308NIUDwp8ZLNwkcQC/dJAaBlR1A46WbxCAwH0AbL90kBsEiQCcxCKwcmiFADAIrhxbZIkBCYOXQIhskQGiR7Xw/NSVAZDvfT43XKUBCYOXQItsoQDMzMzMzsytARIts5/spLECPwvUoXA8oQKwcWmQ73yZAJzEIrByaJkCWQ4ts5/snQPp+arx00ydAKVyPwvWoK0AIrBxaZDspQCPb+X5qPClAVg4tsp0vL0BYObTIdv4mQC2yne+nhi5AhxbZzvfzMEB1kxgEVs4tQK5H4XoU7ilAUI2XbhIDJ0CWQ4ts53sqQL6fGi/dZClAvHSTGASWLUDD9Shcj0IvQMP1KFyPwjBAeekmMQhMMEBoke18P7UtQPyp8dJNoixA5dAi2/k+LECq8dJNYtAuQFyPwvUoHCxANV66SQyCKkBKDAIrh1YoQOkmMQisXCVArBxaZDsfKUBvEoPAyqEnQA4tsp3v5yBADi2yne+nCEBiEFg5tMjyv9Ei2/l+avQ/EoPAyqFF/L/l0CLb+X4FQOxRuB6F6/s/FK5H4XqUEkBaZDvfT40YQBkEVg4tshlAf2q8dJOYF0AMAiuHFlkZQJqZmZmZWSNAObTIdr5fJEBmZmZmZiYmQP7UeOkmcSZACKwcWmT7J0D+1HjpJrEoQKJFtvP9lC5ATmIQWDmUMEB7FK5H4RowQDm0yHa+3y5AH4XrUbieMEAnMQisHFoxQOOlm8QgsDFAeekmMQgMMkA9CtejcH0xQKJFtvP9VDJAN4lBYOWwMkC6SQwCK4czQJzEILByCDRASgwCK4d2NEAMAiuHFtkzQI2XbhKDADJAPQrXo3D9M0DP91Pjpfs0QF66SQwCCzRAvp8aL92EM0DXo3A9CtczQKjGSzeJgTNAj8L1KFxPNEDP91PjpTs1QCuHFtnOdzVA",
          "dtype": "f8"
         },
         "yaxis": "y"
        },
        {
         "hovertemplate": "Country=FTSE (GBR)<br>Date=%{x}<br>YTD Return=%{y}<extra></extra>",
         "legendgroup": "FTSE (GBR)",
         "line": {
          "color": "#7f7f7f",
          "dash": "solid"
         },
         "marker": {
          "symbol": "circle"
         },
         "mode": "lines",
         "name": "FTSE (GBR)",
         "showlegend": true,
         "type": "scattergl",
         "x": [
          "2025-01-02",
          "2025-01-03",
          "2025-01-06",
          "2025-01-07",
          "2025-01-08",
          "2025-01-09",
          "2025-01-10",
          "2025-01-13",
          "2025-01-14",
          "2025-01-15",
          "2025-01-16",
          "2025-01-17",
          "2025-01-20",
          "2025-01-21",
          "2025-01-22",
          "2025-01-23",
          "2025-01-24",
          "2025-01-27",
          "2025-01-28",
          "2025-01-29",
          "2025-01-30",
          "2025-01-31",
          "2025-02-03",
          "2025-02-04",
          "2025-02-05",
          "2025-02-06",
          "2025-02-07",
          "2025-02-10",
          "2025-02-11",
          "2025-02-12",
          "2025-02-13",
          "2025-02-14",
          "2025-02-17",
          "2025-02-18",
          "2025-02-19",
          "2025-02-20",
          "2025-02-21",
          "2025-02-24",
          "2025-02-25",
          "2025-02-26",
          "2025-02-27",
          "2025-02-28",
          "2025-03-03",
          "2025-03-04",
          "2025-03-05",
          "2025-03-06",
          "2025-03-07",
          "2025-03-10",
          "2025-03-11",
          "2025-03-12",
          "2025-03-13",
          "2025-03-14",
          "2025-03-17",
          "2025-03-18",
          "2025-03-19",
          "2025-03-20",
          "2025-03-21",
          "2025-03-24",
          "2025-03-25",
          "2025-03-26",
          "2025-03-27",
          "2025-03-28",
          "2025-03-30",
          "2025-03-31",
          "2025-04-01",
          "2025-04-02",
          "2025-04-03",
          "2025-04-06",
          "2025-04-07",
          "2025-04-08",
          "2025-04-09",
          "2025-04-10",
          "2025-04-13",
          "2025-04-14",
          "2025-04-15",
          "2025-04-16",
          "2025-04-21",
          "2025-04-22",
          "2025-04-23",
          "2025-04-24",
          "2025-04-27",
          "2025-04-28",
          "2025-04-29",
          "2025-04-30",
          "2025-05-01",
          "2025-05-05",
          "2025-05-06",
          "2025-05-07",
          "2025-05-08",
          "2025-05-11",
          "2025-05-12",
          "2025-05-13",
          "2025-05-14",
          "2025-05-15",
          "2025-05-18",
          "2025-05-19",
          "2025-05-20",
          "2025-05-21",
          "2025-05-22",
          "2025-05-26",
          "2025-05-27",
          "2025-05-28",
          "2025-05-29",
          "2025-06-01",
          "2025-06-02",
          "2025-06-03",
          "2025-06-04"
         ],
         "xaxis": "x",
         "y": {
          "bdata": "AAAAAAAAAAArhxbZzvfbv1TjpZvEIMC/tvP91Hjpxr8pXI/C9Si8v7TIdr6fGuc/7FG4HoXrwb/Xo3A9Ctfbv+Olm8QgsOa/WDm0yHa+3z/wp8ZLN4n5PyPb+X5qvAdA001iEFg5CUC28/3UeOkLQJqZmZmZmQtAWmQ730+NDUAQWDm0yHYHQGQ730+NlwdAhetRuB6FCkCiRbbz/dQMQAisHFpkuxJAJQaBlUMLFECHFtnO91MPQEoMAiuHFg5ASgwCK4eWEUA5tMh2vp8WQIcW2c73UxVAL90kBoGVGEBaZDvfTw0ZQBsv3SQGgRpAVg4tsp1vGEDHSzeJQeAWQH9qvHSTmBhA1XjpJjGIGECcxCCwcugVQFCNl24SgxNAvHSTGARWE0A3iUFg5VATQH0/NV66yRNAhxbZzvfTFkCgGi/dJAYYQARWDi2ynRpAf2q8dJOYHUApXI/C9SgYQBsv3SQGARhAK4cW2c53FECHFtnO91MUQCuHFtnOdxBADAIrhxbZBkBoke18PzULQFyPwvUoXAtAoBov3SQGEkAMAiuHFlkUQHWTGARWjhVAVOOlm8SgFUBmZmZmZmYVQO58PzVeuhJAzczMzMxMEkA/NV66SYwTQM3MzMzMzBRAKVyPwvWoE0AdWmQ7308TQKjGSzeJQQ9Avp8aL90kEkCsHFpkO98QQGIQWDm0yARAd76fGi/dA8CF61G4HgUbwCGwcmiR7RDABFYOLbIdHMCYbhKDwMoQwA4tsp3vpwzAke18PzVe+L+gGi/dJAbBv6rx0k1iEMg//tR46SYxyD+6SQwCK4fqP4PAyqFFtvs/ukkMAiuH/D+q8dJNYhD+P6abxCCwcv4/GQRWDi2yA0BYObTIdr4GQCGwcmiR7QZAYhBYObRIEECiRbbz/VQQQGDl0CLb+QxAsp3vp8ZLCkAlBoGVQ4sMQDMzMzMzsxBAmpmZmZmZEEAQWDm0yHYPQH9qvHSTGBJAdZMYBFaOFED4U+Olm0QVQO58PzVeOhlAy6FFtvN9GUBOYhBYOTQXQJMYBFYOLRZAL90kBoEVGUCPwvUoXI8WQJqZmZmZGRZAAiuHFtnOGEBmZmZmZuYYQGq8dJMYhBlAaJHtfD81GkCTGARWDq0aQA==",
          "dtype": "f8"
         },
         "yaxis": "y"
        },
        {
         "hovertemplate": "Country=N225 (JPN)<br>Date=%{x}<br>YTD Return=%{y}<extra></extra>",
         "legendgroup": "N225 (JPN)",
         "line": {
          "color": "#bcbd22",
          "dash": "solid"
         },
         "marker": {
          "symbol": "circle"
         },
         "mode": "lines",
         "name": "N225 (JPN)",
         "showlegend": true,
         "type": "scattergl",
         "x": [
          "2025-01-05",
          "2025-01-06",
          "2025-01-07",
          "2025-01-08",
          "2025-01-09",
          "2025-01-13",
          "2025-01-14",
          "2025-01-15",
          "2025-01-16",
          "2025-01-19",
          "2025-01-20",
          "2025-01-21",
          "2025-01-22",
          "2025-01-23",
          "2025-01-26",
          "2025-01-27",
          "2025-01-28",
          "2025-01-29",
          "2025-01-30",
          "2025-02-02",
          "2025-02-03",
          "2025-02-04",
          "2025-02-05",
          "2025-02-06",
          "2025-02-09",
          "2025-02-11",
          "2025-02-12",
          "2025-02-13",
          "2025-02-16",
          "2025-02-17",
          "2025-02-18",
          "2025-02-19",
          "2025-02-20",
          "2025-02-24",
          "2025-02-25",
          "2025-02-26",
          "2025-02-27",
          "2025-03-02",
          "2025-03-03",
          "2025-03-04",
          "2025-03-05",
          "2025-03-06",
          "2025-03-09",
          "2025-03-10",
          "2025-03-11",
          "2025-03-12",
          "2025-03-13",
          "2025-03-16",
          "2025-03-17",
          "2025-03-18",
          "2025-03-20",
          "2025-03-23",
          "2025-03-24",
          "2025-03-25",
          "2025-03-26",
          "2025-03-27",
          "2025-03-30",
          "2025-03-31",
          "2025-04-01",
          "2025-04-02",
          "2025-04-03",
          "2025-04-06",
          "2025-04-07",
          "2025-04-08",
          "2025-04-09",
          "2025-04-10",
          "2025-04-13",
          "2025-04-14",
          "2025-04-15",
          "2025-04-16",
          "2025-04-17",
          "2025-04-20",
          "2025-04-21",
          "2025-04-22",
          "2025-04-23",
          "2025-04-24",
          "2025-04-27",
          "2025-04-29",
          "2025-04-30",
          "2025-05-01",
          "2025-05-06",
          "2025-05-07",
          "2025-05-08",
          "2025-05-11",
          "2025-05-12",
          "2025-05-13",
          "2025-05-14",
          "2025-05-15",
          "2025-05-18",
          "2025-05-19",
          "2025-05-20",
          "2025-05-21",
          "2025-05-22",
          "2025-05-25",
          "2025-05-26",
          "2025-05-27",
          "2025-05-28",
          "2025-05-29",
          "2025-06-01",
          "2025-06-02",
          "2025-06-03",
          "2025-06-04"
         ],
         "xaxis": "x",
         "y": {
          "bdata": "AAAAAAAAAACamZmZmZn/P3E9CtejcPs/qMZLN4lB6D81XrpJDALTv8HKoUW28wDAWmQ730+NAcAX2c73U+P9v9Ei2/l+agHAEFg5tMh28L+4HoXrUbjmvwRWDi2ynes/ukkMAiuH+j9xPQrXo3D5P3WTGARWDuU/BFYOLbKd57/wp8ZLN4nRP6JFtvP91OA/mpmZmZmZ5T9qvHSTGAQAwE5iEFg5tPS/XI/C9Shc878v3SQGgZXjv166SQwCK/W/ZDvfT42X9L8rhxbZzvfrv/T91HjpJtk/RIts5/up2b9vEoPAyqHVvwIrhxbZzre/XrpJDAIr17+amZmZmZn5vy/dJAaBlfW/w/UoXI/CBcBOYhBYObQHwDEIrBxaZAXATDeJQWDlFcArhxbZzvcOwM/3U+OlGxTAuB6F61E4E8Dn+6nx0k0QwDm0yHa+nxjA46WbxCAwF8Av3SQGgZUZwFK4HoXrURnA6SYxCKycGcBWDi2yne8WwIts5/upcRPAWDm0yHa+DcDZzvdT46UPwEoMAiuHlhDAYhBYObRIEcDfT42XbhIPwD81XrpJDArAeekmMQisDsCNl24Sg0AWwBKDwMqhxSLAsHJoke28IsBGtvP91DgiwDVeukkMQifAH4XrUbgeLMDwp8ZLN8k0wN0kBoGVAzDA/tR46SZRM8CBlUOLbOcnwOkmMQisHC3AZDvfT40XK8AxCKwcWqQpwJzEILByaCvAokW28/0UKcB9PzVeukknwIcW2c73kynA4XoUrkfhKcAv3SQGgZUmwJ7vp8ZLtyXAbef7qfFSIsCkcD0K16MhwH9qvHSTmCDAWmQ7308NHcAzMzMzMzMZwLgehetRuBnATmIQWDk0GMBCYOXQIlsSwOxRuB6F6xDArBxaZDvfBsDLoUW28/0HwPp+arx0kw/ABFYOLbKdD8CBlUOLbGcSwEoMAiuHFhLAVg4tsp1vFMAfhetRuJ4XwPLSTWIQ2BXAxSCwcmgREsDP91PjpRsQwDm0yHa+HxDAmG4Sg8DKAcAdWmQ7308LwOOlm8QgsBLAO99PjZfuEsBYObTIdr4PwLx0kxgE1hHA",
          "dtype": "f8"
         },
         "yaxis": "y"
        },
        {
         "hovertemplate": "Country=MXX (MEX)<br>Date=%{x}<br>YTD Return=%{y}<extra></extra>",
         "legendgroup": "MXX (MEX)",
         "line": {
          "color": "#17becf",
          "dash": "solid"
         },
         "marker": {
          "symbol": "circle"
         },
         "mode": "lines",
         "name": "MXX (MEX)",
         "showlegend": true,
         "type": "scattergl",
         "x": [
          "2025-01-02",
          "2025-01-03",
          "2025-01-06",
          "2025-01-07",
          "2025-01-08",
          "2025-01-09",
          "2025-01-10",
          "2025-01-13",
          "2025-01-14",
          "2025-01-15",
          "2025-01-16",
          "2025-01-17",
          "2025-01-20",
          "2025-01-21",
          "2025-01-22",
          "2025-01-23",
          "2025-01-24",
          "2025-01-27",
          "2025-01-28",
          "2025-01-29",
          "2025-01-30",
          "2025-01-31",
          "2025-02-04",
          "2025-02-05",
          "2025-02-06",
          "2025-02-07",
          "2025-02-10",
          "2025-02-11",
          "2025-02-12",
          "2025-02-13",
          "2025-02-14",
          "2025-02-17",
          "2025-02-18",
          "2025-02-19",
          "2025-02-20",
          "2025-02-21",
          "2025-02-24",
          "2025-02-25",
          "2025-02-26",
          "2025-02-27",
          "2025-02-28",
          "2025-03-03",
          "2025-03-04",
          "2025-03-05",
          "2025-03-06",
          "2025-03-07",
          "2025-03-10",
          "2025-03-11",
          "2025-03-12",
          "2025-03-13",
          "2025-03-14",
          "2025-03-18",
          "2025-03-19",
          "2025-03-20",
          "2025-03-21",
          "2025-03-24",
          "2025-03-25",
          "2025-03-26",
          "2025-03-27",
          "2025-03-28",
          "2025-03-31",
          "2025-04-01",
          "2025-04-02",
          "2025-04-03",
          "2025-04-04",
          "2025-04-07",
          "2025-04-08",
          "2025-04-09",
          "2025-04-10",
          "2025-04-11",
          "2025-04-14",
          "2025-04-15",
          "2025-04-16",
          "2025-04-21",
          "2025-04-22",
          "2025-04-23",
          "2025-04-24",
          "2025-04-25",
          "2025-04-28",
          "2025-04-29",
          "2025-04-30",
          "2025-05-02",
          "2025-05-05",
          "2025-05-06",
          "2025-05-07",
          "2025-05-08",
          "2025-05-09",
          "2025-05-12",
          "2025-05-13",
          "2025-05-14",
          "2025-05-15",
          "2025-05-16",
          "2025-05-19",
          "2025-05-20",
          "2025-05-21",
          "2025-05-22",
          "2025-05-23",
          "2025-05-26",
          "2025-05-27",
          "2025-05-28",
          "2025-05-29",
          "2025-05-30",
          "2025-06-02",
          "2025-06-03",
          "2025-06-04",
          "2025-06-05"
         ],
         "xaxis": "x",
         "y": {
          "bdata": "AAAAAAAAAACWQ4ts5/v5v0a28/3UeOG/z/dT46Wb5D+iRbbz/dTQv2q8dJMYBLY/GQRWDi2y1b+kcD0K16PAP9NNYhBYOcQ/uB6F61G47j9aZDvfT43XP2Q730+Nl9Y/1XjpJjEI7D/VeOkmMQj2P/YoXI/C9QJAI9v5fmq8BEBkO99PjZcJQIGVQ4ts5w5AEFg5tMh2DEBiEFg5tMgMQJHtfD81XhJAnu+nxks3B0D6fmq8dBMRQGq8dJMYBA1AF9nO91NjF0Dwp8ZLN4kYQAaBlUOLbBlAbxKDwMqhHUBiEFg5tEghQLbz/dR4qSFAokW28/1UIUD+1HjpJjEiQFYOLbKd7yJADi2yne9nIUA9CtejcD0iQHE9Ctej8B9ARIts5/upH0CBlUOLbGcaQPyp8dJNYhxADAIrhxbZFkAUrkfhepQUQB+F61G4nhJAdZMYBFYOFUBEi2zn+6kXQKAaL90khhhAg8DKoUW2GEDwp8ZLN4kPQHWTGARWDgxAmG4Sg8BKEkBg5dAi2/kQQEJg5dAi2xVArkfhehQuGECwcmiR7XwaQB1aZDvfzxpAke18PzVeF0AX2c73U2MXQIlBYOXQohtAppvEILByGEDXo3A9CtcdQDEIrBxaZBtAQmDl0CLbFUCe76fGS7ccQLgehetROCBAVOOlm8RgIUBU46WbxCALQH0/NV66SfY/7nw/NV668T9OYhBYOTQWQFTjpZvEIAxArBxaZDvfC0DP91PjpRsVQG8Sg8DKIRdA2c73U+MlGkDNzMzMzAwgQEw3iUFgJSRAke18PzUeKEBkO99PjZcqQDMzMzMz8ytA5dAi2/n+LEAbL90kBoEnQAwCK4cWGSpAWmQ7309NKEDZzvdT42UoQAisHFpkey5A2/l+arx0MEAK16NwPYosQBKDwMqhRStA/Knx0k0iLEBQjZduEoMuQF66SQwCqy9Anu+nxkt3MEBMN4lBYIUwQESLbOf7iTFAPzVeukksMUCq8dJNYrAxQLx0kxgEVjBArBxaZDtfMUC4HoXrUXgxQARWDi2yvTFALbKd76cGMkDVeOkmMcgxQLTIdr6fOjBAKVyPwvXoL0C+nxov3aQvQBKDwMqhBS9AmpmZmZkZMEA=",
          "dtype": "f8"
         },
         "yaxis": "y"
        },
        {
         "hovertemplate": "Country=BVSP (BRA)<br>Date=%{x}<br>YTD Return=%{y}<extra></extra>",
         "legendgroup": "BVSP (BRA)",
         "line": {
          "color": "#1f4e1f",
          "dash": "solid"
         },
         "marker": {
          "symbol": "circle"
         },
         "mode": "lines",
         "name": "BVSP (BRA)",
         "showlegend": true,
         "type": "scattergl",
         "x": [
          "2025-01-02",
          "2025-01-03",
          "2025-01-06",
          "2025-01-07",
          "2025-01-08",
          "2025-01-09",
          "2025-01-10",
          "2025-01-13",
          "2025-01-14",
          "2025-01-15",
          "2025-01-16",
          "2025-01-17",
          "2025-01-20",
          "2025-01-21",
          "2025-01-22",
          "2025-01-23",
          "2025-01-24",
          "2025-01-27",
          "2025-01-28",
          "2025-01-29",
          "2025-01-30",
          "2025-01-31",
          "2025-02-03",
          "2025-02-04",
          "2025-02-05",
          "2025-02-06",
          "2025-02-07",
          "2025-02-10",
          "2025-02-11",
          "2025-02-12",
          "2025-02-13",
          "2025-02-14",
          "2025-02-17",
          "2025-02-18",
          "2025-02-19",
          "2025-02-20",
          "2025-02-21",
          "2025-02-24",
          "2025-02-25",
          "2025-02-26",
          "2025-02-27",
          "2025-02-28",
          "2025-03-05",
          "2025-03-06",
          "2025-03-07",
          "2025-03-10",
          "2025-03-11",
          "2025-03-12",
          "2025-03-13",
          "2025-03-14",
          "2025-03-17",
          "2025-03-18",
          "2025-03-19",
          "2025-03-20",
          "2025-03-21",
          "2025-03-24",
          "2025-03-25",
          "2025-03-26",
          "2025-03-27",
          "2025-03-28",
          "2025-03-31",
          "2025-04-01",
          "2025-04-02",
          "2025-04-03",
          "2025-04-04",
          "2025-04-07",
          "2025-04-08",
          "2025-04-09",
          "2025-04-10",
          "2025-04-11",
          "2025-04-14",
          "2025-04-15",
          "2025-04-16",
          "2025-04-17",
          "2025-04-22",
          "2025-04-23",
          "2025-04-24",
          "2025-04-25",
          "2025-04-28",
          "2025-04-29",
          "2025-04-30",
          "2025-05-02",
          "2025-05-05",
          "2025-05-06",
          "2025-05-07",
          "2025-05-08",
          "2025-05-09",
          "2025-05-12",
          "2025-05-13",
          "2025-05-14",
          "2025-05-15",
          "2025-05-16",
          "2025-05-19",
          "2025-05-20",
          "2025-05-21",
          "2025-05-22",
          "2025-05-23",
          "2025-05-26",
          "2025-05-27",
          "2025-05-28",
          "2025-05-29",
          "2025-05-30",
          "2025-06-02",
          "2025-06-03",
          "2025-06-04",
          "2025-06-05"
         ],
         "xaxis": "x",
         "y": {
          "bdata": "AAAAAAAAAAAzMzMzMzP1v2q8dJMYBLa/2c73U+Ol6z85tMh2vp/av+f7qfHSTdK/TDeJQWDl8L+YbhKDwMrtv2q8dJMYBOa/N4lBYOXQAEDwp8ZLN4ntP28Sg8DKof0/tMh2vp8aAEBmZmZmZmYFQPYoXI/C9QJAnMQgsHJo/z8hsHJoke3+PyUGgZVDiw9AkxgEVg4tCkCgGi/dJAYGQLTIdr6fmhZAUI2XbhIDFEAQWDm0yHYTQNNNYhBYuRBAUI2XbhIDEkAdWmQ7308UQCGwcmiR7Q1AiUFg5dAiEkDNzMzMzEwVQLx0kxgEVgxAEFg5tMh2D0DByqFFtvMaQARWDi2yHR1A5dAi2/n+G0DsUbgehesXQEw3iUFg5RhAUrgehetRF0DFILByaJERQOXQItv5fhNAIbByaJHtDkBU46WbxCAPQAIrhxbZzgFA2/l+arx0A0C6SQwCK4cFQAwCK4cWWRBA3SQGgZVDDUCF61G4HoUGQIGVQ4ts5whAQmDl0CJbEkCcxCCwcmgdQBSuR+F61CFATDeJQWDlIkAEVg4tsp0kQBkEVg4tsiNAf2q8dJNYJECkcD0K16MiQPyp8dJN4iNAiUFg5dCiJEDJdr6fGq8lQM/3U+OlmyNAObTIdr7fIECamZmZmVkiQHnpJjEIbCJA16NwPQpXIkBYObTIdr4XQP7UeOkmMRJAJzEIrBxaCUAlBoGVQ4sZQFg5tMh2vhRARIts5/spGUCq8dJNYhAfQJHtfD81Xh5ASOF6FK5HG0Ce76fGS7cfQBBYObTINiFA4XoUrkchJEA3iUFg5RAoQKJFtvP9VChAmG4Sg8DKKEDsUbgehesoQFTjpZvE4ChAsHJoke38KEAbL90kBkEmQLKd76fGSyZADAIrhxYZJkDFILByaNEqQGIQWDm0SCtAke18PzVeK0B3vp8aL10vQBBYObTIdi5ACKwcWmT7L0Aj2/l+arwvQMuhRbbzPTBAUI2XbhKjMEAdWmQ7348tQM3MzMzMjCxAK4cW2c53LUCwcmiR7fwtQH0/NV66KTBAPQrXo3A9L0BmZmZmZqYuQKRwPQrXIyxAy6FFtvO9K0AbL90kBgEtQJqZmZmZGSxAbef7qfHSKkA=",
          "dtype": "f8"
         },
         "yaxis": "y"
        },
        {
         "hovertemplate": "%{text}<br>Date: %{x}<br>YTD Return: %{y}<extra></extra>",
         "legendgroup": "SSE (CHN)",
         "marker": {
          "color": "red",
          "size": 16,
          "symbol": "x"
         },
         "mode": "markers",
         "showlegend": false,
         "text": [
          "SSE (CHN)"
         ],
         "textposition": "bottom center",
         "type": "scatter",
         "x": [
          "2025-04-06"
         ],
         "y": [
          -5.088
         ]
        },
        {
         "hovertemplate": "%{text}<br>Date: %{x}<br>YTD Return: %{y}<extra></extra>",
         "legendgroup": "AXJO (AUS)",
         "marker": {
          "color": "red",
          "size": 16,
          "symbol": "x"
         },
         "mode": "markers",
         "showlegend": false,
         "text": [
          "AXJO (AUS)"
         ],
         "textposition": "bottom center",
         "type": "scatter",
         "x": [
          "2025-04-06"
         ],
         "y": [
          -10.461
         ]
        },
        {
         "hovertemplate": "%{text}<br>Date: %{x}<br>YTD Return: %{y}<extra></extra>",
         "legendgroup": "BVSP (BRA)",
         "marker": {
          "color": "red",
          "size": 16,
          "symbol": "x"
         },
         "mode": "markers",
         "showlegend": false,
         "text": [
          "BVSP (BRA)"
         ],
         "textposition": "bottom center",
         "type": "scatter",
         "x": [
          "2025-01-03"
         ],
         "y": [
          -1.325
         ]
        },
        {
         "hovertemplate": "%{text}<br>Date: %{x}<br>YTD Return: %{y}<extra></extra>",
         "legendgroup": "FTSE (GBR)",
         "marker": {
          "color": "red",
          "size": 16,
          "symbol": "x"
         },
         "mode": "markers",
         "showlegend": false,
         "text": [
          "FTSE (GBR)"
         ],
         "textposition": "bottom center",
         "type": "scatter",
         "x": [
          "2025-04-08"
         ],
         "y": [
          -7.029
         ]
        },
        {
         "hovertemplate": "%{text}<br>Date: %{x}<br>YTD Return: %{y}<extra></extra>",
         "legendgroup": "GDAXI (DEU)",
         "marker": {
          "color": "red",
          "size": 16,
          "symbol": "x"
         },
         "mode": "markers",
         "showlegend": false,
         "text": [
          "GDAXI (DEU)"
         ],
         "textposition": "bottom center",
         "type": "scatter",
         "x": [
          "2025-04-08"
         ],
         "y": [
          -1.767
         ]
        },
        {
         "hovertemplate": "%{text}<br>Date: %{x}<br>YTD Return: %{y}<extra></extra>",
         "legendgroup": "GSPC (USA)",
         "marker": {
          "color": "red",
          "size": 16,
          "symbol": "x"
         },
         "mode": "markers",
         "showlegend": false,
         "text": [
          "GSPC (USA)"
         ],
         "textposition": "bottom center",
         "type": "scatter",
         "x": [
          "2025-04-08"
         ],
         "y": [
          -15.094
         ]
        },
        {
         "hovertemplate": "%{text}<br>Date: %{x}<br>YTD Return: %{y}<extra></extra>",
         "legendgroup": "GSPTSE (CAN)",
         "marker": {
          "color": "red",
          "size": 16,
          "symbol": "x"
         },
         "mode": "markers",
         "showlegend": false,
         "text": [
          "GSPTSE (CAN)"
         ],
         "textposition": "bottom center",
         "type": "scatter",
         "x": [
          "2025-04-08"
         ],
         "y": [
          -9.604
         ]
        },
        {
         "hovertemplate": "%{text}<br>Date: %{x}<br>YTD Return: %{y}<extra></extra>",
         "legendgroup": "HSI (HKG)",
         "marker": {
          "color": "red",
          "size": 16,
          "symbol": "x"
         },
         "mode": "markers",
         "showlegend": false,
         "text": [
          "HSI (HKG)"
         ],
         "textposition": "bottom center",
         "type": "scatter",
         "x": [
          "2025-01-12"
         ],
         "y": [
          -3.818
         ]
        },
        {
         "hovertemplate": "%{text}<br>Date: %{x}<br>YTD Return: %{y}<extra></extra>",
         "legendgroup": "MXX (MEX)",
         "marker": {
          "color": "red",
          "size": 16,
          "symbol": "x"
         },
         "mode": "markers",
         "showlegend": false,
         "text": [
          "MXX (MEX)"
         ],
         "textposition": "bottom center",
         "type": "scatter",
         "x": [
          "2025-01-03"
         ],
         "y": [
          -1.624
         ]
        },
        {
         "hovertemplate": "%{text}<br>Date: %{x}<br>YTD Return: %{y}<extra></extra>",
         "legendgroup": "N225 (JPN)",
         "marker": {
          "color": "red",
          "size": 16,
          "symbol": "x"
         },
         "mode": "markers",
         "showlegend": false,
         "text": [
          "N225 (JPN)"
         ],
         "textposition": "bottom center",
         "type": "scatter",
         "x": [
          "2025-04-06"
         ],
         "y": [
          -20.786
         ]
        },
        {
         "hovertemplate": "%{text}<br>Date: %{x}<br>YTD Return: %{y}<extra></extra>",
         "legendgroup": "NSEI (IND)",
         "marker": {
          "color": "red",
          "size": 16,
          "symbol": "x"
         },
         "mode": "markers",
         "showlegend": false,
         "text": [
          "NSEI (IND)"
         ],
         "textposition": "bottom center",
         "type": "scatter",
         "x": [
          "2025-03-03"
         ],
         "y": [
          -6.993
         ]
        }
       ],
       "layout": {
        "legend": {
         "title": {
          "text": "Country"
         },
         "tracegroupgap": 0
        },
        "margin": {
         "t": 60
        },
        "template": {
         "data": {
          "bar": [
           {
            "error_x": {
             "color": "#2a3f5f"
            },
            "error_y": {
             "color": "#2a3f5f"
            },
            "marker": {
             "line": {
              "color": "#E5ECF6",
              "width": 0.5
             },
             "pattern": {
              "fillmode": "overlay",
              "size": 10,
              "solidity": 0.2
             }
            },
            "type": "bar"
           }
          ],
          "barpolar": [
           {
            "marker": {
             "line": {
              "color": "#E5ECF6",
              "width": 0.5
             },
             "pattern": {
              "fillmode": "overlay",
              "size": 10,
              "solidity": 0.2
             }
            },
            "type": "barpolar"
           }
          ],
          "carpet": [
           {
            "aaxis": {
             "endlinecolor": "#2a3f5f",
             "gridcolor": "white",
             "linecolor": "white",
             "minorgridcolor": "white",
             "startlinecolor": "#2a3f5f"
            },
            "baxis": {
             "endlinecolor": "#2a3f5f",
             "gridcolor": "white",
             "linecolor": "white",
             "minorgridcolor": "white",
             "startlinecolor": "#2a3f5f"
            },
            "type": "carpet"
           }
          ],
          "choropleth": [
           {
            "colorbar": {
             "outlinewidth": 0,
             "ticks": ""
            },
            "type": "choropleth"
           }
          ],
          "contour": [
           {
            "colorbar": {
             "outlinewidth": 0,
             "ticks": ""
            },
            "colorscale": [
             [
              0,
              "#0d0887"
             ],
             [
              0.1111111111111111,
              "#46039f"
             ],
             [
              0.2222222222222222,
              "#7201a8"
             ],
             [
              0.3333333333333333,
              "#9c179e"
             ],
             [
              0.4444444444444444,
              "#bd3786"
             ],
             [
              0.5555555555555556,
              "#d8576b"
             ],
             [
              0.6666666666666666,
              "#ed7953"
             ],
             [
              0.7777777777777778,
              "#fb9f3a"
             ],
             [
              0.8888888888888888,
              "#fdca26"
             ],
             [
              1,
              "#f0f921"
             ]
            ],
            "type": "contour"
           }
          ],
          "contourcarpet": [
           {
            "colorbar": {
             "outlinewidth": 0,
             "ticks": ""
            },
            "type": "contourcarpet"
           }
          ],
          "heatmap": [
           {
            "colorbar": {
             "outlinewidth": 0,
             "ticks": ""
            },
            "colorscale": [
             [
              0,
              "#0d0887"
             ],
             [
              0.1111111111111111,
              "#46039f"
             ],
             [
              0.2222222222222222,
              "#7201a8"
             ],
             [
              0.3333333333333333,
              "#9c179e"
             ],
             [
              0.4444444444444444,
              "#bd3786"
             ],
             [
              0.5555555555555556,
              "#d8576b"
             ],
             [
              0.6666666666666666,
              "#ed7953"
             ],
             [
              0.7777777777777778,
              "#fb9f3a"
             ],
             [
              0.8888888888888888,
              "#fdca26"
             ],
             [
              1,
              "#f0f921"
             ]
            ],
            "type": "heatmap"
           }
          ],
          "histogram": [
           {
            "marker": {
             "pattern": {
              "fillmode": "overlay",
              "size": 10,
              "solidity": 0.2
             }
            },
            "type": "histogram"
           }
          ],
          "histogram2d": [
           {
            "colorbar": {
             "outlinewidth": 0,
             "ticks": ""
            },
            "colorscale": [
             [
              0,
              "#0d0887"
             ],
             [
              0.1111111111111111,
              "#46039f"
             ],
             [
              0.2222222222222222,
              "#7201a8"
             ],
             [
              0.3333333333333333,
              "#9c179e"
             ],
             [
              0.4444444444444444,
              "#bd3786"
             ],
             [
              0.5555555555555556,
              "#d8576b"
             ],
             [
              0.6666666666666666,
              "#ed7953"
             ],
             [
              0.7777777777777778,
              "#fb9f3a"
             ],
             [
              0.8888888888888888,
              "#fdca26"
             ],
             [
              1,
              "#f0f921"
             ]
            ],
            "type": "histogram2d"
           }
          ],
          "histogram2dcontour": [
           {
            "colorbar": {
             "outlinewidth": 0,
             "ticks": ""
            },
            "colorscale": [
             [
              0,
              "#0d0887"
             ],
             [
              0.1111111111111111,
              "#46039f"
             ],
             [
              0.2222222222222222,
              "#7201a8"
             ],
             [
              0.3333333333333333,
              "#9c179e"
             ],
             [
              0.4444444444444444,
              "#bd3786"
             ],
             [
              0.5555555555555556,
              "#d8576b"
             ],
             [
              0.6666666666666666,
              "#ed7953"
             ],
             [
              0.7777777777777778,
              "#fb9f3a"
             ],
             [
              0.8888888888888888,
              "#fdca26"
             ],
             [
              1,
              "#f0f921"
             ]
            ],
            "type": "histogram2dcontour"
           }
          ],
          "mesh3d": [
           {
            "colorbar": {
             "outlinewidth": 0,
             "ticks": ""
            },
            "type": "mesh3d"
           }
          ],
          "parcoords": [
           {
            "line": {
             "colorbar": {
              "outlinewidth": 0,
              "ticks": ""
             }
            },
            "type": "parcoords"
           }
          ],
          "pie": [
           {
            "automargin": true,
            "type": "pie"
           }
          ],
          "scatter": [
           {
            "fillpattern": {
             "fillmode": "overlay",
             "size": 10,
             "solidity": 0.2
            },
            "type": "scatter"
           }
          ],
          "scatter3d": [
           {
            "line": {
             "colorbar": {
              "outlinewidth": 0,
              "ticks": ""
             }
            },
            "marker": {
             "colorbar": {
              "outlinewidth": 0,
              "ticks": ""
             }
            },
            "type": "scatter3d"
           }
          ],
          "scattercarpet": [
           {
            "marker": {
             "colorbar": {
              "outlinewidth": 0,
              "ticks": ""
             }
            },
            "type": "scattercarpet"
           }
          ],
          "scattergeo": [
           {
            "marker": {
             "colorbar": {
              "outlinewidth": 0,
              "ticks": ""
             }
            },
            "type": "scattergeo"
           }
          ],
          "scattergl": [
           {
            "marker": {
             "colorbar": {
              "outlinewidth": 0,
              "ticks": ""
             }
            },
            "type": "scattergl"
           }
          ],
          "scattermap": [
           {
            "marker": {
             "colorbar": {
              "outlinewidth": 0,
              "ticks": ""
             }
            },
            "type": "scattermap"
           }
          ],
          "scattermapbox": [
           {
            "marker": {
             "colorbar": {
              "outlinewidth": 0,
              "ticks": ""
             }
            },
            "type": "scattermapbox"
           }
          ],
          "scatterpolar": [
           {
            "marker": {
             "colorbar": {
              "outlinewidth": 0,
              "ticks": ""
             }
            },
            "type": "scatterpolar"
           }
          ],
          "scatterpolargl": [
           {
            "marker": {
             "colorbar": {
              "outlinewidth": 0,
              "ticks": ""
             }
            },
            "type": "scatterpolargl"
           }
          ],
          "scatterternary": [
           {
            "marker": {
             "colorbar": {
              "outlinewidth": 0,
              "ticks": ""
             }
            },
            "type": "scatterternary"
           }
          ],
          "surface": [
           {
            "colorbar": {
             "outlinewidth": 0,
             "ticks": ""
            },
            "colorscale": [
             [
              0,
              "#0d0887"
             ],
             [
              0.1111111111111111,
              "#46039f"
             ],
             [
              0.2222222222222222,
              "#7201a8"
             ],
             [
              0.3333333333333333,
              "#9c179e"
             ],
             [
              0.4444444444444444,
              "#bd3786"
             ],
             [
              0.5555555555555556,
              "#d8576b"
             ],
             [
              0.6666666666666666,
              "#ed7953"
             ],
             [
              0.7777777777777778,
              "#fb9f3a"
             ],
             [
              0.8888888888888888,
              "#fdca26"
             ],
             [
              1,
              "#f0f921"
             ]
            ],
            "type": "surface"
           }
          ],
          "table": [
           {
            "cells": {
             "fill": {
              "color": "#EBF0F8"
             },
             "line": {
              "color": "white"
             }
            },
            "header": {
             "fill": {
              "color": "#C8D4E3"
             },
             "line": {
              "color": "white"
             }
            },
            "type": "table"
           }
          ]
         },
         "layout": {
          "annotationdefaults": {
           "arrowcolor": "#2a3f5f",
           "arrowhead": 0,
           "arrowwidth": 1
          },
          "autotypenumbers": "strict",
          "coloraxis": {
           "colorbar": {
            "outlinewidth": 0,
            "ticks": ""
           }
          },
          "colorscale": {
           "diverging": [
            [
             0,
             "#8e0152"
            ],
            [
             0.1,
             "#c51b7d"
            ],
            [
             0.2,
             "#de77ae"
            ],
            [
             0.3,
             "#f1b6da"
            ],
            [
             0.4,
             "#fde0ef"
            ],
            [
             0.5,
             "#f7f7f7"
            ],
            [
             0.6,
             "#e6f5d0"
            ],
            [
             0.7,
             "#b8e186"
            ],
            [
             0.8,
             "#7fbc41"
            ],
            [
             0.9,
             "#4d9221"
            ],
            [
             1,
             "#276419"
            ]
           ],
           "sequential": [
            [
             0,
             "#0d0887"
            ],
            [
             0.1111111111111111,
             "#46039f"
            ],
            [
             0.2222222222222222,
             "#7201a8"
            ],
            [
             0.3333333333333333,
             "#9c179e"
            ],
            [
             0.4444444444444444,
             "#bd3786"
            ],
            [
             0.5555555555555556,
             "#d8576b"
            ],
            [
             0.6666666666666666,
             "#ed7953"
            ],
            [
             0.7777777777777778,
             "#fb9f3a"
            ],
            [
             0.8888888888888888,
             "#fdca26"
            ],
            [
             1,
             "#f0f921"
            ]
           ],
           "sequentialminus": [
            [
             0,
             "#0d0887"
            ],
            [
             0.1111111111111111,
             "#46039f"
            ],
            [
             0.2222222222222222,
             "#7201a8"
            ],
            [
             0.3333333333333333,
             "#9c179e"
            ],
            [
             0.4444444444444444,
             "#bd3786"
            ],
            [
             0.5555555555555556,
             "#d8576b"
            ],
            [
             0.6666666666666666,
             "#ed7953"
            ],
            [
             0.7777777777777778,
             "#fb9f3a"
            ],
            [
             0.8888888888888888,
             "#fdca26"
            ],
            [
             1,
             "#f0f921"
            ]
           ]
          },
          "colorway": [
           "#636efa",
           "#EF553B",
           "#00cc96",
           "#ab63fa",
           "#FFA15A",
           "#19d3f3",
           "#FF6692",
           "#B6E880",
           "#FF97FF",
           "#FECB52"
          ],
          "font": {
           "color": "#2a3f5f"
          },
          "geo": {
           "bgcolor": "white",
           "lakecolor": "white",
           "landcolor": "#E5ECF6",
           "showlakes": true,
           "showland": true,
           "subunitcolor": "white"
          },
          "hoverlabel": {
           "align": "left"
          },
          "hovermode": "closest",
          "mapbox": {
           "style": "light"
          },
          "paper_bgcolor": "white",
          "plot_bgcolor": "#E5ECF6",
          "polar": {
           "angularaxis": {
            "gridcolor": "white",
            "linecolor": "white",
            "ticks": ""
           },
           "bgcolor": "#E5ECF6",
           "radialaxis": {
            "gridcolor": "white",
            "linecolor": "white",
            "ticks": ""
           }
          },
          "scene": {
           "xaxis": {
            "backgroundcolor": "#E5ECF6",
            "gridcolor": "white",
            "gridwidth": 2,
            "linecolor": "white",
            "showbackground": true,
            "ticks": "",
            "zerolinecolor": "white"
           },
           "yaxis": {
            "backgroundcolor": "#E5ECF6",
            "gridcolor": "white",
            "gridwidth": 2,
            "linecolor": "white",
            "showbackground": true,
            "ticks": "",
            "zerolinecolor": "white"
           },
           "zaxis": {
            "backgroundcolor": "#E5ECF6",
            "gridcolor": "white",
            "gridwidth": 2,
            "linecolor": "white",
            "showbackground": true,
            "ticks": "",
            "zerolinecolor": "white"
           }
          },
          "shapedefaults": {
           "line": {
            "color": "#2a3f5f"
           }
          },
          "ternary": {
           "aaxis": {
            "gridcolor": "white",
            "linecolor": "white",
            "ticks": ""
           },
           "baxis": {
            "gridcolor": "white",
            "linecolor": "white",
            "ticks": ""
           },
           "bgcolor": "#E5ECF6",
           "caxis": {
            "gridcolor": "white",
            "linecolor": "white",
            "ticks": ""
           }
          },
          "title": {
           "x": 0.05
          },
          "xaxis": {
           "automargin": true,
           "gridcolor": "white",
           "linecolor": "white",
           "ticks": "",
           "title": {
            "standoff": 15
           },
           "zerolinecolor": "white",
           "zerolinewidth": 2
          },
          "yaxis": {
           "automargin": true,
           "gridcolor": "white",
           "linecolor": "white",
           "ticks": "",
           "title": {
            "standoff": 15
           },
           "zerolinecolor": "white",
           "zerolinewidth": 2
          }
         }
        },
        "title": {
         "text": "Major Global Indices YTD Return Trends (1 Jan - 6 Jun 2025)"
        },
        "xaxis": {
         "anchor": "y",
         "domain": [
          0,
          1
         ],
         "title": {
          "text": "Date"
         }
        },
        "yaxis": {
         "anchor": "x",
         "domain": [
          0,
          1
         ],
         "title": {
          "text": "YTD Return (%)"
         }
        }
       }
      }
     },
     "metadata": {},
     "output_type": "display_data"
    }
   ],
   "source": [
    "ytd_trend_fig = px.line(\n",
    "    ytd_copy, x='Date', y='YTD Return', color='Country',\n",
    "    color_discrete_map=color_map_countries,\n",
    ")\n",
    "\n",
    "# Mark the lowest point of the year per ticker\n",
    "min_points = ytd_copy.loc[ytd_copy.groupby('Ticker')['YTD Return'].idxmin()] # Find lowest YTD % for each ticker\n",
    "for _, row in min_points.iterrows():\n",
    "    ytd_trend_fig.add_trace(go.Scatter(\n",
    "        x=[row['Date']],\n",
    "        y=[row['YTD Return']],\n",
    "        mode='markers',\n",
    "        marker=dict(color='red', size=16, symbol='x'),\n",
    "        textposition='bottom center',\n",
    "        text=[f'{row[\"Country\"]}'],\n",
    "        legendgroup=row['Country'],      # Link to the same group\n",
    "        showlegend=False,               # Don't show separate marker in legend\n",
    "        hovertemplate='%{text}<br>Date: %{x}<br>YTD Return: %{y}<extra></extra>',\n",
    "    ))\n",
    "\n",
    "ytd_trend_fig.update_layout(\n",
    "     title={\n",
    "    'text': 'Major Global Indices YTD Return Trends (1 Jan - 6 Jun 2025)',\n",
    "    # 'font': dict(size=26),\n",
    "    # 'x': 0.5,\n",
    "    },\n",
    "    yaxis_title='YTD Return (%)')\n",
    "ytd_trend_fig.show()\n",
    "\n",
    "\n"
   ]
  },
  {
   "cell_type": "markdown",
   "id": "3c307831",
   "metadata": {},
   "source": [
    "- Plot current YTD (Jan1 - June6). I want to combine a chloropleth map with a barchart so it's a bit more complicated. I need to get the ISO codes of the countries where the major global indices are registered. I obtained the ISO codes from plotly but Hong Kong was not included in the list so I manually added it."
   ]
  },
  {
   "cell_type": "code",
   "execution_count": 34,
   "id": "3e43c016",
   "metadata": {},
   "outputs": [
    {
     "data": {
      "text/html": [
       "<div>\n",
       "<style scoped>\n",
       "    .dataframe tbody tr th:only-of-type {\n",
       "        vertical-align: middle;\n",
       "    }\n",
       "\n",
       "    .dataframe tbody tr th {\n",
       "        vertical-align: top;\n",
       "    }\n",
       "\n",
       "    .dataframe thead th {\n",
       "        text-align: right;\n",
       "    }\n",
       "</style>\n",
       "<table border=\"1\" class=\"dataframe\">\n",
       "  <thead>\n",
       "    <tr style=\"text-align: right;\">\n",
       "      <th></th>\n",
       "      <th>Ticker</th>\n",
       "      <th>Date</th>\n",
       "      <th>Open</th>\n",
       "      <th>High</th>\n",
       "      <th>Low</th>\n",
       "      <th>Close</th>\n",
       "      <th>Volume</th>\n",
       "      <th>Dividends</th>\n",
       "      <th>Stock Splits</th>\n",
       "      <th>First Close</th>\n",
       "      <th>YTD Return</th>\n",
       "      <th>Ticker (Country)</th>\n",
       "      <th>Country</th>\n",
       "    </tr>\n",
       "  </thead>\n",
       "  <tbody>\n",
       "    <tr>\n",
       "      <th>0</th>\n",
       "      <td>000001.SS</td>\n",
       "      <td>2025-06-05</td>\n",
       "      <td>3384.294922</td>\n",
       "      <td>3391.450928</td>\n",
       "      <td>3379.763916</td>\n",
       "      <td>3385.357910</td>\n",
       "      <td>380100</td>\n",
       "      <td>0.0</td>\n",
       "      <td>0.0</td>\n",
       "      <td>3262.561035</td>\n",
       "      <td>3.764</td>\n",
       "      <td>SSE (China)</td>\n",
       "      <td>China</td>\n",
       "    </tr>\n",
       "    <tr>\n",
       "      <th>1</th>\n",
       "      <td>^AXJO</td>\n",
       "      <td>2025-06-05</td>\n",
       "      <td>8538.900391</td>\n",
       "      <td>8555.599609</td>\n",
       "      <td>8515.700195</td>\n",
       "      <td>8515.700195</td>\n",
       "      <td>588300</td>\n",
       "      <td>0.0</td>\n",
       "      <td>0.0</td>\n",
       "      <td>8201.200195</td>\n",
       "      <td>3.835</td>\n",
       "      <td>AXJO (Australia)</td>\n",
       "      <td>Australia</td>\n",
       "    </tr>\n",
       "    <tr>\n",
       "      <th>2</th>\n",
       "      <td>^BVSP</td>\n",
       "      <td>2025-06-06</td>\n",
       "      <td>136236.000000</td>\n",
       "      <td>136890.000000</td>\n",
       "      <td>135601.000000</td>\n",
       "      <td>136102.000000</td>\n",
       "      <td>9119300</td>\n",
       "      <td>0.0</td>\n",
       "      <td>0.0</td>\n",
       "      <td>120125.000000</td>\n",
       "      <td>13.300</td>\n",
       "      <td>BVSP (Brazil)</td>\n",
       "      <td>Brazil</td>\n",
       "    </tr>\n",
       "    <tr>\n",
       "      <th>3</th>\n",
       "      <td>^FTSE</td>\n",
       "      <td>2025-06-05</td>\n",
       "      <td>8811.000000</td>\n",
       "      <td>8851.400391</td>\n",
       "      <td>8805.599609</td>\n",
       "      <td>8837.900391</td>\n",
       "      <td>718102200</td>\n",
       "      <td>0.0</td>\n",
       "      <td>0.0</td>\n",
       "      <td>8260.099609</td>\n",
       "      <td>6.995</td>\n",
       "      <td>FTSE (United Kingdom)</td>\n",
       "      <td>United Kingdom</td>\n",
       "    </tr>\n",
       "    <tr>\n",
       "      <th>4</th>\n",
       "      <td>^GDAXI</td>\n",
       "      <td>2025-06-05</td>\n",
       "      <td>24304.369141</td>\n",
       "      <td>24355.029297</td>\n",
       "      <td>24214.529297</td>\n",
       "      <td>24304.460938</td>\n",
       "      <td>41235800</td>\n",
       "      <td>0.0</td>\n",
       "      <td>0.0</td>\n",
       "      <td>20024.660156</td>\n",
       "      <td>21.373</td>\n",
       "      <td>GDAXI (Germany)</td>\n",
       "      <td>Germany</td>\n",
       "    </tr>\n",
       "    <tr>\n",
       "      <th>5</th>\n",
       "      <td>^GSPC</td>\n",
       "      <td>2025-06-06</td>\n",
       "      <td>5987.060059</td>\n",
       "      <td>6016.870117</td>\n",
       "      <td>5978.629883</td>\n",
       "      <td>6000.359863</td>\n",
       "      <td>4355710000</td>\n",
       "      <td>0.0</td>\n",
       "      <td>0.0</td>\n",
       "      <td>5868.549805</td>\n",
       "      <td>2.246</td>\n",
       "      <td>GSPC (United States)</td>\n",
       "      <td>United States</td>\n",
       "    </tr>\n",
       "    <tr>\n",
       "      <th>6</th>\n",
       "      <td>^GSPTSE</td>\n",
       "      <td>2025-06-06</td>\n",
       "      <td>26432.199219</td>\n",
       "      <td>26519.599609</td>\n",
       "      <td>26389.900391</td>\n",
       "      <td>26429.099609</td>\n",
       "      <td>260528100</td>\n",
       "      <td>0.0</td>\n",
       "      <td>0.0</td>\n",
       "      <td>24898.000000</td>\n",
       "      <td>6.149</td>\n",
       "      <td>GSPTSE (Canada)</td>\n",
       "      <td>Canada</td>\n",
       "    </tr>\n",
       "    <tr>\n",
       "      <th>7</th>\n",
       "      <td>^HSI</td>\n",
       "      <td>2025-06-05</td>\n",
       "      <td>23941.570312</td>\n",
       "      <td>23951.140625</td>\n",
       "      <td>23773.359375</td>\n",
       "      <td>23792.539062</td>\n",
       "      <td>4376700000</td>\n",
       "      <td>0.0</td>\n",
       "      <td>0.0</td>\n",
       "      <td>19623.320312</td>\n",
       "      <td>21.246</td>\n",
       "      <td>HSI (Hong Kong)</td>\n",
       "      <td>Hong Kong</td>\n",
       "    </tr>\n",
       "    <tr>\n",
       "      <th>8</th>\n",
       "      <td>^MXX</td>\n",
       "      <td>2025-06-06</td>\n",
       "      <td>57704.128906</td>\n",
       "      <td>58157.289062</td>\n",
       "      <td>57145.558594</td>\n",
       "      <td>58061.410156</td>\n",
       "      <td>154880900</td>\n",
       "      <td>0.0</td>\n",
       "      <td>0.0</td>\n",
       "      <td>49765.199219</td>\n",
       "      <td>16.671</td>\n",
       "      <td>MXX (Mexico)</td>\n",
       "      <td>Mexico</td>\n",
       "    </tr>\n",
       "    <tr>\n",
       "      <th>9</th>\n",
       "      <td>^N225</td>\n",
       "      <td>2025-06-05</td>\n",
       "      <td>37590.441406</td>\n",
       "      <td>37756.148438</td>\n",
       "      <td>37590.421875</td>\n",
       "      <td>37741.609375</td>\n",
       "      <td>98100000</td>\n",
       "      <td>0.0</td>\n",
       "      <td>0.0</td>\n",
       "      <td>39307.050781</td>\n",
       "      <td>-3.983</td>\n",
       "      <td>N225 (Japan)</td>\n",
       "      <td>Japan</td>\n",
       "    </tr>\n",
       "    <tr>\n",
       "      <th>10</th>\n",
       "      <td>^NSEI</td>\n",
       "      <td>2025-06-05</td>\n",
       "      <td>24748.699219</td>\n",
       "      <td>25029.500000</td>\n",
       "      <td>24671.449219</td>\n",
       "      <td>25003.050781</td>\n",
       "      <td>335600</td>\n",
       "      <td>0.0</td>\n",
       "      <td>0.0</td>\n",
       "      <td>23742.900391</td>\n",
       "      <td>5.307</td>\n",
       "      <td>NSEI (India)</td>\n",
       "      <td>India</td>\n",
       "    </tr>\n",
       "  </tbody>\n",
       "</table>\n",
       "</div>"
      ],
      "text/plain": [
       "       Ticker        Date           Open           High            Low  \\\n",
       "0   000001.SS  2025-06-05    3384.294922    3391.450928    3379.763916   \n",
       "1       ^AXJO  2025-06-05    8538.900391    8555.599609    8515.700195   \n",
       "2       ^BVSP  2025-06-06  136236.000000  136890.000000  135601.000000   \n",
       "3       ^FTSE  2025-06-05    8811.000000    8851.400391    8805.599609   \n",
       "4      ^GDAXI  2025-06-05   24304.369141   24355.029297   24214.529297   \n",
       "5       ^GSPC  2025-06-06    5987.060059    6016.870117    5978.629883   \n",
       "6     ^GSPTSE  2025-06-06   26432.199219   26519.599609   26389.900391   \n",
       "7        ^HSI  2025-06-05   23941.570312   23951.140625   23773.359375   \n",
       "8        ^MXX  2025-06-06   57704.128906   58157.289062   57145.558594   \n",
       "9       ^N225  2025-06-05   37590.441406   37756.148438   37590.421875   \n",
       "10      ^NSEI  2025-06-05   24748.699219   25029.500000   24671.449219   \n",
       "\n",
       "            Close      Volume  Dividends  Stock Splits    First Close  \\\n",
       "0     3385.357910      380100        0.0           0.0    3262.561035   \n",
       "1     8515.700195      588300        0.0           0.0    8201.200195   \n",
       "2   136102.000000     9119300        0.0           0.0  120125.000000   \n",
       "3     8837.900391   718102200        0.0           0.0    8260.099609   \n",
       "4    24304.460938    41235800        0.0           0.0   20024.660156   \n",
       "5     6000.359863  4355710000        0.0           0.0    5868.549805   \n",
       "6    26429.099609   260528100        0.0           0.0   24898.000000   \n",
       "7    23792.539062  4376700000        0.0           0.0   19623.320312   \n",
       "8    58061.410156   154880900        0.0           0.0   49765.199219   \n",
       "9    37741.609375    98100000        0.0           0.0   39307.050781   \n",
       "10   25003.050781      335600        0.0           0.0   23742.900391   \n",
       "\n",
       "    YTD Return       Ticker (Country)         Country  \n",
       "0        3.764            SSE (China)           China  \n",
       "1        3.835       AXJO (Australia)       Australia  \n",
       "2       13.300          BVSP (Brazil)          Brazil  \n",
       "3        6.995  FTSE (United Kingdom)  United Kingdom  \n",
       "4       21.373        GDAXI (Germany)         Germany  \n",
       "5        2.246   GSPC (United States)   United States  \n",
       "6        6.149        GSPTSE (Canada)          Canada  \n",
       "7       21.246        HSI (Hong Kong)       Hong Kong  \n",
       "8       16.671           MXX (Mexico)          Mexico  \n",
       "9       -3.983           N225 (Japan)           Japan  \n",
       "10       5.307           NSEI (India)           India  "
      ]
     },
     "execution_count": 34,
     "metadata": {},
     "output_type": "execute_result"
    }
   ],
   "source": [
    "ytd = pd.read_csv('ytd_6Jun.csv')\n",
    "ytd.rename(columns={'Country': 'Ticker (Country)'}, inplace=True)\n",
    "\n",
    "# Map tickers to countries to merge with ISO codes later\n",
    "country_map = {\n",
    "'^GSPC': 'United States',\n",
    "'000001.SS': 'China',\n",
    "'^HSI': 'Hong Kong',\n",
    "'^AXJO': 'Australia',\n",
    "'^NSEI': 'India',\n",
    "'^GSPTSE': 'Canada',\n",
    "'^GDAXI': 'Germany',\n",
    "'^FTSE': 'United Kingdom',\n",
    "'^N225': 'Japan',\n",
    "'^MXX': 'Mexico',\n",
    "'^BVSP': 'Brazil'\n",
    "}\n",
    "\n",
    "ytd['Country'] = ytd['Ticker'].map(country_map)\n",
    "\n",
    "\n",
    "# Only need last closing value to calculate YTD\n",
    "ytd = ytd.groupby('Ticker').last()\n",
    "ytd.reset_index(inplace=True)\n",
    "ytd\n"
   ]
  },
  {
   "cell_type": "code",
   "execution_count": 29,
   "id": "89d737f9",
   "metadata": {},
   "outputs": [
    {
     "data": {
      "text/html": [
       "<div>\n",
       "<style scoped>\n",
       "    .dataframe tbody tr th:only-of-type {\n",
       "        vertical-align: middle;\n",
       "    }\n",
       "\n",
       "    .dataframe tbody tr th {\n",
       "        vertical-align: top;\n",
       "    }\n",
       "\n",
       "    .dataframe thead th {\n",
       "        text-align: right;\n",
       "    }\n",
       "</style>\n",
       "<table border=\"1\" class=\"dataframe\">\n",
       "  <thead>\n",
       "    <tr style=\"text-align: right;\">\n",
       "      <th></th>\n",
       "      <th>Country</th>\n",
       "      <th>iso_alpha</th>\n",
       "    </tr>\n",
       "  </thead>\n",
       "  <tbody>\n",
       "    <tr>\n",
       "      <th>0</th>\n",
       "      <td>Afghanistan</td>\n",
       "      <td>AFG</td>\n",
       "    </tr>\n",
       "    <tr>\n",
       "      <th>1</th>\n",
       "      <td>Albania</td>\n",
       "      <td>ALB</td>\n",
       "    </tr>\n",
       "    <tr>\n",
       "      <th>2</th>\n",
       "      <td>Algeria</td>\n",
       "      <td>DZA</td>\n",
       "    </tr>\n",
       "    <tr>\n",
       "      <th>3</th>\n",
       "      <td>Angola</td>\n",
       "      <td>AGO</td>\n",
       "    </tr>\n",
       "    <tr>\n",
       "      <th>4</th>\n",
       "      <td>Argentina</td>\n",
       "      <td>ARG</td>\n",
       "    </tr>\n",
       "    <tr>\n",
       "      <th>...</th>\n",
       "      <td>...</td>\n",
       "      <td>...</td>\n",
       "    </tr>\n",
       "    <tr>\n",
       "      <th>138</th>\n",
       "      <td>West Bank and Gaza</td>\n",
       "      <td>PSE</td>\n",
       "    </tr>\n",
       "    <tr>\n",
       "      <th>139</th>\n",
       "      <td>Yemen, Rep.</td>\n",
       "      <td>YEM</td>\n",
       "    </tr>\n",
       "    <tr>\n",
       "      <th>140</th>\n",
       "      <td>Zambia</td>\n",
       "      <td>ZMB</td>\n",
       "    </tr>\n",
       "    <tr>\n",
       "      <th>141</th>\n",
       "      <td>Zimbabwe</td>\n",
       "      <td>ZWE</td>\n",
       "    </tr>\n",
       "    <tr>\n",
       "      <th>142</th>\n",
       "      <td>Hong Kong</td>\n",
       "      <td>HKG</td>\n",
       "    </tr>\n",
       "  </tbody>\n",
       "</table>\n",
       "<p>143 rows × 2 columns</p>\n",
       "</div>"
      ],
      "text/plain": [
       "                Country iso_alpha\n",
       "0           Afghanistan       AFG\n",
       "1               Albania       ALB\n",
       "2               Algeria       DZA\n",
       "3                Angola       AGO\n",
       "4             Argentina       ARG\n",
       "..                  ...       ...\n",
       "138  West Bank and Gaza       PSE\n",
       "139         Yemen, Rep.       YEM\n",
       "140              Zambia       ZMB\n",
       "141            Zimbabwe       ZWE\n",
       "142           Hong Kong       HKG\n",
       "\n",
       "[143 rows x 2 columns]"
      ]
     },
     "execution_count": 29,
     "metadata": {},
     "output_type": "execute_result"
    }
   ],
   "source": [
    "# Obtain ISO codes\n",
    "iso = px.data.gapminder()[['country', 'iso_alpha']].drop_duplicates()\n",
    "iso.loc[len(iso)] = ['Hong Kong', 'HKG']\n",
    "iso.rename(columns={'country': 'Country'}, inplace=True)\n",
    "iso.reset_index(inplace=True)\n",
    "iso.drop(columns=['index'], inplace=True)\n",
    "iso"
   ]
  },
  {
   "cell_type": "code",
   "execution_count": 35,
   "id": "50afb88d",
   "metadata": {},
   "outputs": [
    {
     "data": {
      "text/html": [
       "<div>\n",
       "<style scoped>\n",
       "    .dataframe tbody tr th:only-of-type {\n",
       "        vertical-align: middle;\n",
       "    }\n",
       "\n",
       "    .dataframe tbody tr th {\n",
       "        vertical-align: top;\n",
       "    }\n",
       "\n",
       "    .dataframe thead th {\n",
       "        text-align: right;\n",
       "    }\n",
       "</style>\n",
       "<table border=\"1\" class=\"dataframe\">\n",
       "  <thead>\n",
       "    <tr style=\"text-align: right;\">\n",
       "      <th></th>\n",
       "      <th>Ticker</th>\n",
       "      <th>Date</th>\n",
       "      <th>Open</th>\n",
       "      <th>High</th>\n",
       "      <th>Low</th>\n",
       "      <th>Close</th>\n",
       "      <th>Volume</th>\n",
       "      <th>Dividends</th>\n",
       "      <th>Stock Splits</th>\n",
       "      <th>First Close</th>\n",
       "      <th>YTD Return</th>\n",
       "      <th>Ticker (Country)</th>\n",
       "      <th>Country</th>\n",
       "      <th>iso_alpha</th>\n",
       "    </tr>\n",
       "  </thead>\n",
       "  <tbody>\n",
       "    <tr>\n",
       "      <th>4</th>\n",
       "      <td>^GDAXI</td>\n",
       "      <td>2025-06-05</td>\n",
       "      <td>24304.369141</td>\n",
       "      <td>24355.029297</td>\n",
       "      <td>24214.529297</td>\n",
       "      <td>24304.460938</td>\n",
       "      <td>41235800</td>\n",
       "      <td>0.0</td>\n",
       "      <td>0.0</td>\n",
       "      <td>20024.660156</td>\n",
       "      <td>21.373</td>\n",
       "      <td>GDAXI (Germany)</td>\n",
       "      <td>Germany</td>\n",
       "      <td>DEU</td>\n",
       "    </tr>\n",
       "    <tr>\n",
       "      <th>7</th>\n",
       "      <td>^HSI</td>\n",
       "      <td>2025-06-05</td>\n",
       "      <td>23941.570312</td>\n",
       "      <td>23951.140625</td>\n",
       "      <td>23773.359375</td>\n",
       "      <td>23792.539062</td>\n",
       "      <td>4376700000</td>\n",
       "      <td>0.0</td>\n",
       "      <td>0.0</td>\n",
       "      <td>19623.320312</td>\n",
       "      <td>21.246</td>\n",
       "      <td>HSI (Hong Kong)</td>\n",
       "      <td>Hong Kong</td>\n",
       "      <td>HKG</td>\n",
       "    </tr>\n",
       "    <tr>\n",
       "      <th>8</th>\n",
       "      <td>^MXX</td>\n",
       "      <td>2025-06-06</td>\n",
       "      <td>57704.128906</td>\n",
       "      <td>58157.289062</td>\n",
       "      <td>57145.558594</td>\n",
       "      <td>58061.410156</td>\n",
       "      <td>154880900</td>\n",
       "      <td>0.0</td>\n",
       "      <td>0.0</td>\n",
       "      <td>49765.199219</td>\n",
       "      <td>16.671</td>\n",
       "      <td>MXX (Mexico)</td>\n",
       "      <td>Mexico</td>\n",
       "      <td>MEX</td>\n",
       "    </tr>\n",
       "    <tr>\n",
       "      <th>2</th>\n",
       "      <td>^BVSP</td>\n",
       "      <td>2025-06-06</td>\n",
       "      <td>136236.000000</td>\n",
       "      <td>136890.000000</td>\n",
       "      <td>135601.000000</td>\n",
       "      <td>136102.000000</td>\n",
       "      <td>9119300</td>\n",
       "      <td>0.0</td>\n",
       "      <td>0.0</td>\n",
       "      <td>120125.000000</td>\n",
       "      <td>13.300</td>\n",
       "      <td>BVSP (Brazil)</td>\n",
       "      <td>Brazil</td>\n",
       "      <td>BRA</td>\n",
       "    </tr>\n",
       "    <tr>\n",
       "      <th>3</th>\n",
       "      <td>^FTSE</td>\n",
       "      <td>2025-06-05</td>\n",
       "      <td>8811.000000</td>\n",
       "      <td>8851.400391</td>\n",
       "      <td>8805.599609</td>\n",
       "      <td>8837.900391</td>\n",
       "      <td>718102200</td>\n",
       "      <td>0.0</td>\n",
       "      <td>0.0</td>\n",
       "      <td>8260.099609</td>\n",
       "      <td>6.995</td>\n",
       "      <td>FTSE (United Kingdom)</td>\n",
       "      <td>United Kingdom</td>\n",
       "      <td>GBR</td>\n",
       "    </tr>\n",
       "    <tr>\n",
       "      <th>6</th>\n",
       "      <td>^GSPTSE</td>\n",
       "      <td>2025-06-06</td>\n",
       "      <td>26432.199219</td>\n",
       "      <td>26519.599609</td>\n",
       "      <td>26389.900391</td>\n",
       "      <td>26429.099609</td>\n",
       "      <td>260528100</td>\n",
       "      <td>0.0</td>\n",
       "      <td>0.0</td>\n",
       "      <td>24898.000000</td>\n",
       "      <td>6.149</td>\n",
       "      <td>GSPTSE (Canada)</td>\n",
       "      <td>Canada</td>\n",
       "      <td>CAN</td>\n",
       "    </tr>\n",
       "    <tr>\n",
       "      <th>10</th>\n",
       "      <td>^NSEI</td>\n",
       "      <td>2025-06-05</td>\n",
       "      <td>24748.699219</td>\n",
       "      <td>25029.500000</td>\n",
       "      <td>24671.449219</td>\n",
       "      <td>25003.050781</td>\n",
       "      <td>335600</td>\n",
       "      <td>0.0</td>\n",
       "      <td>0.0</td>\n",
       "      <td>23742.900391</td>\n",
       "      <td>5.307</td>\n",
       "      <td>NSEI (India)</td>\n",
       "      <td>India</td>\n",
       "      <td>IND</td>\n",
       "    </tr>\n",
       "    <tr>\n",
       "      <th>1</th>\n",
       "      <td>^AXJO</td>\n",
       "      <td>2025-06-05</td>\n",
       "      <td>8538.900391</td>\n",
       "      <td>8555.599609</td>\n",
       "      <td>8515.700195</td>\n",
       "      <td>8515.700195</td>\n",
       "      <td>588300</td>\n",
       "      <td>0.0</td>\n",
       "      <td>0.0</td>\n",
       "      <td>8201.200195</td>\n",
       "      <td>3.835</td>\n",
       "      <td>AXJO (Australia)</td>\n",
       "      <td>Australia</td>\n",
       "      <td>AUS</td>\n",
       "    </tr>\n",
       "    <tr>\n",
       "      <th>0</th>\n",
       "      <td>000001.SS</td>\n",
       "      <td>2025-06-05</td>\n",
       "      <td>3384.294922</td>\n",
       "      <td>3391.450928</td>\n",
       "      <td>3379.763916</td>\n",
       "      <td>3385.357910</td>\n",
       "      <td>380100</td>\n",
       "      <td>0.0</td>\n",
       "      <td>0.0</td>\n",
       "      <td>3262.561035</td>\n",
       "      <td>3.764</td>\n",
       "      <td>SSE (China)</td>\n",
       "      <td>China</td>\n",
       "      <td>CHN</td>\n",
       "    </tr>\n",
       "    <tr>\n",
       "      <th>5</th>\n",
       "      <td>^GSPC</td>\n",
       "      <td>2025-06-06</td>\n",
       "      <td>5987.060059</td>\n",
       "      <td>6016.870117</td>\n",
       "      <td>5978.629883</td>\n",
       "      <td>6000.359863</td>\n",
       "      <td>4355710000</td>\n",
       "      <td>0.0</td>\n",
       "      <td>0.0</td>\n",
       "      <td>5868.549805</td>\n",
       "      <td>2.246</td>\n",
       "      <td>GSPC (United States)</td>\n",
       "      <td>United States</td>\n",
       "      <td>USA</td>\n",
       "    </tr>\n",
       "    <tr>\n",
       "      <th>9</th>\n",
       "      <td>^N225</td>\n",
       "      <td>2025-06-05</td>\n",
       "      <td>37590.441406</td>\n",
       "      <td>37756.148438</td>\n",
       "      <td>37590.421875</td>\n",
       "      <td>37741.609375</td>\n",
       "      <td>98100000</td>\n",
       "      <td>0.0</td>\n",
       "      <td>0.0</td>\n",
       "      <td>39307.050781</td>\n",
       "      <td>-3.983</td>\n",
       "      <td>N225 (Japan)</td>\n",
       "      <td>Japan</td>\n",
       "      <td>JPN</td>\n",
       "    </tr>\n",
       "  </tbody>\n",
       "</table>\n",
       "</div>"
      ],
      "text/plain": [
       "       Ticker        Date           Open           High            Low  \\\n",
       "4      ^GDAXI  2025-06-05   24304.369141   24355.029297   24214.529297   \n",
       "7        ^HSI  2025-06-05   23941.570312   23951.140625   23773.359375   \n",
       "8        ^MXX  2025-06-06   57704.128906   58157.289062   57145.558594   \n",
       "2       ^BVSP  2025-06-06  136236.000000  136890.000000  135601.000000   \n",
       "3       ^FTSE  2025-06-05    8811.000000    8851.400391    8805.599609   \n",
       "6     ^GSPTSE  2025-06-06   26432.199219   26519.599609   26389.900391   \n",
       "10      ^NSEI  2025-06-05   24748.699219   25029.500000   24671.449219   \n",
       "1       ^AXJO  2025-06-05    8538.900391    8555.599609    8515.700195   \n",
       "0   000001.SS  2025-06-05    3384.294922    3391.450928    3379.763916   \n",
       "5       ^GSPC  2025-06-06    5987.060059    6016.870117    5978.629883   \n",
       "9       ^N225  2025-06-05   37590.441406   37756.148438   37590.421875   \n",
       "\n",
       "            Close      Volume  Dividends  Stock Splits    First Close  \\\n",
       "4    24304.460938    41235800        0.0           0.0   20024.660156   \n",
       "7    23792.539062  4376700000        0.0           0.0   19623.320312   \n",
       "8    58061.410156   154880900        0.0           0.0   49765.199219   \n",
       "2   136102.000000     9119300        0.0           0.0  120125.000000   \n",
       "3     8837.900391   718102200        0.0           0.0    8260.099609   \n",
       "6    26429.099609   260528100        0.0           0.0   24898.000000   \n",
       "10   25003.050781      335600        0.0           0.0   23742.900391   \n",
       "1     8515.700195      588300        0.0           0.0    8201.200195   \n",
       "0     3385.357910      380100        0.0           0.0    3262.561035   \n",
       "5     6000.359863  4355710000        0.0           0.0    5868.549805   \n",
       "9    37741.609375    98100000        0.0           0.0   39307.050781   \n",
       "\n",
       "    YTD Return       Ticker (Country)         Country iso_alpha  \n",
       "4       21.373        GDAXI (Germany)         Germany       DEU  \n",
       "7       21.246        HSI (Hong Kong)       Hong Kong       HKG  \n",
       "8       16.671           MXX (Mexico)          Mexico       MEX  \n",
       "2       13.300          BVSP (Brazil)          Brazil       BRA  \n",
       "3        6.995  FTSE (United Kingdom)  United Kingdom       GBR  \n",
       "6        6.149        GSPTSE (Canada)          Canada       CAN  \n",
       "10       5.307           NSEI (India)           India       IND  \n",
       "1        3.835       AXJO (Australia)       Australia       AUS  \n",
       "0        3.764            SSE (China)           China       CHN  \n",
       "5        2.246   GSPC (United States)   United States       USA  \n",
       "9       -3.983           N225 (Japan)           Japan       JPN  "
      ]
     },
     "execution_count": 35,
     "metadata": {},
     "output_type": "execute_result"
    }
   ],
   "source": [
    "# Merge ISO codes with YTD df\n",
    "ytd = ytd.merge(iso, on='Country')\n",
    "\n",
    "# Sort YTD % so that the barchart would look aesthetically  more pleasing\n",
    "ytd.sort_values(by='YTD Return', ascending=False, inplace=True)\n",
    "ytd"
   ]
  },
  {
   "cell_type": "markdown",
   "id": "1c9b8583",
   "metadata": {},
   "source": [
    "- Dataframe is now ready to plot YTD returns"
   ]
  },
  {
   "cell_type": "code",
   "execution_count": 36,
   "id": "e8cc412e",
   "metadata": {},
   "outputs": [],
   "source": [
    "import plotly.colors as pc\n",
    "import plotly.graph_objects as go\n",
    "from plotly.subplots import make_subplots"
   ]
  },
  {
   "cell_type": "code",
   "execution_count": null,
   "id": "d55f04ee",
   "metadata": {},
   "outputs": [],
   "source": [
    "# Bar charts in plotly does not have a gradient specification so I had to manually match the tickers on the barchart to that on the map\n",
    "\n",
    "custom_color_scale = pc.sequential.YlGnBu[3:]\n",
    "\n",
    "# Normalize the values to [0, 1]\n",
    "vmin = ytd['YTD Return'].min()\n",
    "vmax = ytd['YTD Return'].max()\n",
    "ytd['color_norm'] = (ytd['YTD Return'] - vmin) / (vmax - vmin)\n",
    "\n",
    "# Map normalized values to color scale\n",
    "def map_to_color(norm_val):\n",
    "    custom_color_scale = pc.sequential.YlGnBu[3:]\n",
    "    n_colors = len(custom_color_scale)\n",
    "    index = min(int(norm_val * (n_colors - 1)), n_colors - 1)\n",
    "    return custom_color_scale[index]\n",
    "\n",
    "ytd['color'] = ytd['color_norm'].apply(map_to_color)"
   ]
  },
  {
   "cell_type": "code",
   "execution_count": null,
   "id": "6aad10a4",
   "metadata": {},
   "outputs": [
    {
     "data": {
      "application/vnd.plotly.v1+json": {
       "config": {
        "plotlyServerURL": "https://plot.ly"
       },
       "data": [
        {
         "colorbar": {
          "len": 0.6,
          "title": {
           "font": {
            "size": 14
           },
           "text": "YTD Return (%)"
          },
          "x": 1,
          "xanchor": "center",
          "y": 0.8,
          "yanchor": "middle"
         },
         "colorscale": [
          [
           0,
           "rgb(127,205,187)"
          ],
          [
           0.2,
           "rgb(65,182,196)"
          ],
          [
           0.4,
           "rgb(29,145,192)"
          ],
          [
           0.6,
           "rgb(34,94,168)"
          ],
          [
           0.8,
           "rgb(37,52,148)"
          ],
          [
           1,
           "rgb(8,29,88)"
          ]
         ],
         "geo": "geo",
         "hoverinfo": "text",
         "hovertext": [
          "GDAXI (Germany)<br>YTD Return: 21.373%",
          "HSI (Hong Kong)<br>YTD Return: 21.246%",
          "MXX (Mexico)<br>YTD Return: 16.671%",
          "BVSP (Brazil)<br>YTD Return: 13.3%",
          "FTSE (United Kingdom)<br>YTD Return: 6.995%",
          "GSPTSE (Canada)<br>YTD Return: 6.149%",
          "NSEI (India)<br>YTD Return: 5.307%",
          "AXJO (Australia)<br>YTD Return: 3.835%",
          "SSE (China)<br>YTD Return: 3.764%",
          "GSPC (United States)<br>YTD Return: 2.246%",
          "N225 (Japan)<br>YTD Return: -3.983%"
         ],
         "locationmode": "ISO-3",
         "locations": [
          "DEU",
          "HKG",
          "MEX",
          "BRA",
          "GBR",
          "CAN",
          "IND",
          "AUS",
          "CHN",
          "USA",
          "JPN"
         ],
         "type": "choropleth",
         "z": {
          "bdata": "c2iR7XxfNUDl0CLb+T41QLKd76fGqzBAmpmZmZmZKkB7FK5H4fobQH9qvHSTmBhA7nw/NV46FUCuR+F6FK4OQOkmMQisHA5AK4cW2c73AUB3vp8aL90PwA==",
          "dtype": "f8"
         },
         "zmax": 21.373,
         "zmin": -3.983
        },
        {
         "hoverinfo": "text",
         "marker": {
          "color": [
           "rgb(8,29,88)",
           "rgb(37,52,148)",
           "rgb(37,52,148)",
           "rgb(34,94,168)",
           "rgb(29,145,192)",
           "rgb(65,182,196)",
           "rgb(65,182,196)",
           "rgb(65,182,196)",
           "rgb(65,182,196)",
           "rgb(65,182,196)",
           "rgb(127,205,187)"
          ]
         },
         "text": [
          "GDAXI (Germany)<br>YTD Return: 21.373%",
          "HSI (Hong Kong)<br>YTD Return: 21.246%",
          "MXX (Mexico)<br>YTD Return: 16.671%",
          "BVSP (Brazil)<br>YTD Return: 13.3%",
          "FTSE (United Kingdom)<br>YTD Return: 6.995%",
          "GSPTSE (Canada)<br>YTD Return: 6.149%",
          "NSEI (India)<br>YTD Return: 5.307%",
          "AXJO (Australia)<br>YTD Return: 3.835%",
          "SSE (China)<br>YTD Return: 3.764%",
          "GSPC (United States)<br>YTD Return: 2.246%",
          "N225 (Japan)<br>YTD Return: -3.983%"
         ],
         "textposition": "none",
         "type": "bar",
         "x": [
          "GDAXI (Germany)",
          "HSI (Hong Kong)",
          "MXX (Mexico)",
          "BVSP (Brazil)",
          "FTSE (United Kingdom)",
          "GSPTSE (Canada)",
          "NSEI (India)",
          "AXJO (Australia)",
          "SSE (China)",
          "GSPC (United States)",
          "N225 (Japan)"
         ],
         "xaxis": "x",
         "y": {
          "bdata": "c2iR7XxfNUDl0CLb+T41QLKd76fGqzBAmpmZmZmZKkB7FK5H4fobQH9qvHSTmBhA7nw/NV46FUCuR+F6FK4OQOkmMQisHA5AK4cW2c73AUB3vp8aL90PwA==",
          "dtype": "f8"
         },
         "yaxis": "y"
        }
       ],
       "layout": {
        "geo": {
         "center": {
          "lat": 20,
          "lon": 8.5
         },
         "domain": {
          "x": [
           0,
           1
          ],
          "y": [
           0.43,
           1
          ]
         },
         "projection": {
          "scale": 1.2
         },
         "showframe": false
        },
        "height": 700,
        "showlegend": false,
        "template": {
         "data": {
          "bar": [
           {
            "error_x": {
             "color": "#2a3f5f"
            },
            "error_y": {
             "color": "#2a3f5f"
            },
            "marker": {
             "line": {
              "color": "#E5ECF6",
              "width": 0.5
             },
             "pattern": {
              "fillmode": "overlay",
              "size": 10,
              "solidity": 0.2
             }
            },
            "type": "bar"
           }
          ],
          "barpolar": [
           {
            "marker": {
             "line": {
              "color": "#E5ECF6",
              "width": 0.5
             },
             "pattern": {
              "fillmode": "overlay",
              "size": 10,
              "solidity": 0.2
             }
            },
            "type": "barpolar"
           }
          ],
          "carpet": [
           {
            "aaxis": {
             "endlinecolor": "#2a3f5f",
             "gridcolor": "white",
             "linecolor": "white",
             "minorgridcolor": "white",
             "startlinecolor": "#2a3f5f"
            },
            "baxis": {
             "endlinecolor": "#2a3f5f",
             "gridcolor": "white",
             "linecolor": "white",
             "minorgridcolor": "white",
             "startlinecolor": "#2a3f5f"
            },
            "type": "carpet"
           }
          ],
          "choropleth": [
           {
            "colorbar": {
             "outlinewidth": 0,
             "ticks": ""
            },
            "type": "choropleth"
           }
          ],
          "contour": [
           {
            "colorbar": {
             "outlinewidth": 0,
             "ticks": ""
            },
            "colorscale": [
             [
              0,
              "#0d0887"
             ],
             [
              0.1111111111111111,
              "#46039f"
             ],
             [
              0.2222222222222222,
              "#7201a8"
             ],
             [
              0.3333333333333333,
              "#9c179e"
             ],
             [
              0.4444444444444444,
              "#bd3786"
             ],
             [
              0.5555555555555556,
              "#d8576b"
             ],
             [
              0.6666666666666666,
              "#ed7953"
             ],
             [
              0.7777777777777778,
              "#fb9f3a"
             ],
             [
              0.8888888888888888,
              "#fdca26"
             ],
             [
              1,
              "#f0f921"
             ]
            ],
            "type": "contour"
           }
          ],
          "contourcarpet": [
           {
            "colorbar": {
             "outlinewidth": 0,
             "ticks": ""
            },
            "type": "contourcarpet"
           }
          ],
          "heatmap": [
           {
            "colorbar": {
             "outlinewidth": 0,
             "ticks": ""
            },
            "colorscale": [
             [
              0,
              "#0d0887"
             ],
             [
              0.1111111111111111,
              "#46039f"
             ],
             [
              0.2222222222222222,
              "#7201a8"
             ],
             [
              0.3333333333333333,
              "#9c179e"
             ],
             [
              0.4444444444444444,
              "#bd3786"
             ],
             [
              0.5555555555555556,
              "#d8576b"
             ],
             [
              0.6666666666666666,
              "#ed7953"
             ],
             [
              0.7777777777777778,
              "#fb9f3a"
             ],
             [
              0.8888888888888888,
              "#fdca26"
             ],
             [
              1,
              "#f0f921"
             ]
            ],
            "type": "heatmap"
           }
          ],
          "histogram": [
           {
            "marker": {
             "pattern": {
              "fillmode": "overlay",
              "size": 10,
              "solidity": 0.2
             }
            },
            "type": "histogram"
           }
          ],
          "histogram2d": [
           {
            "colorbar": {
             "outlinewidth": 0,
             "ticks": ""
            },
            "colorscale": [
             [
              0,
              "#0d0887"
             ],
             [
              0.1111111111111111,
              "#46039f"
             ],
             [
              0.2222222222222222,
              "#7201a8"
             ],
             [
              0.3333333333333333,
              "#9c179e"
             ],
             [
              0.4444444444444444,
              "#bd3786"
             ],
             [
              0.5555555555555556,
              "#d8576b"
             ],
             [
              0.6666666666666666,
              "#ed7953"
             ],
             [
              0.7777777777777778,
              "#fb9f3a"
             ],
             [
              0.8888888888888888,
              "#fdca26"
             ],
             [
              1,
              "#f0f921"
             ]
            ],
            "type": "histogram2d"
           }
          ],
          "histogram2dcontour": [
           {
            "colorbar": {
             "outlinewidth": 0,
             "ticks": ""
            },
            "colorscale": [
             [
              0,
              "#0d0887"
             ],
             [
              0.1111111111111111,
              "#46039f"
             ],
             [
              0.2222222222222222,
              "#7201a8"
             ],
             [
              0.3333333333333333,
              "#9c179e"
             ],
             [
              0.4444444444444444,
              "#bd3786"
             ],
             [
              0.5555555555555556,
              "#d8576b"
             ],
             [
              0.6666666666666666,
              "#ed7953"
             ],
             [
              0.7777777777777778,
              "#fb9f3a"
             ],
             [
              0.8888888888888888,
              "#fdca26"
             ],
             [
              1,
              "#f0f921"
             ]
            ],
            "type": "histogram2dcontour"
           }
          ],
          "mesh3d": [
           {
            "colorbar": {
             "outlinewidth": 0,
             "ticks": ""
            },
            "type": "mesh3d"
           }
          ],
          "parcoords": [
           {
            "line": {
             "colorbar": {
              "outlinewidth": 0,
              "ticks": ""
             }
            },
            "type": "parcoords"
           }
          ],
          "pie": [
           {
            "automargin": true,
            "type": "pie"
           }
          ],
          "scatter": [
           {
            "fillpattern": {
             "fillmode": "overlay",
             "size": 10,
             "solidity": 0.2
            },
            "type": "scatter"
           }
          ],
          "scatter3d": [
           {
            "line": {
             "colorbar": {
              "outlinewidth": 0,
              "ticks": ""
             }
            },
            "marker": {
             "colorbar": {
              "outlinewidth": 0,
              "ticks": ""
             }
            },
            "type": "scatter3d"
           }
          ],
          "scattercarpet": [
           {
            "marker": {
             "colorbar": {
              "outlinewidth": 0,
              "ticks": ""
             }
            },
            "type": "scattercarpet"
           }
          ],
          "scattergeo": [
           {
            "marker": {
             "colorbar": {
              "outlinewidth": 0,
              "ticks": ""
             }
            },
            "type": "scattergeo"
           }
          ],
          "scattergl": [
           {
            "marker": {
             "colorbar": {
              "outlinewidth": 0,
              "ticks": ""
             }
            },
            "type": "scattergl"
           }
          ],
          "scattermap": [
           {
            "marker": {
             "colorbar": {
              "outlinewidth": 0,
              "ticks": ""
             }
            },
            "type": "scattermap"
           }
          ],
          "scattermapbox": [
           {
            "marker": {
             "colorbar": {
              "outlinewidth": 0,
              "ticks": ""
             }
            },
            "type": "scattermapbox"
           }
          ],
          "scatterpolar": [
           {
            "marker": {
             "colorbar": {
              "outlinewidth": 0,
              "ticks": ""
             }
            },
            "type": "scatterpolar"
           }
          ],
          "scatterpolargl": [
           {
            "marker": {
             "colorbar": {
              "outlinewidth": 0,
              "ticks": ""
             }
            },
            "type": "scatterpolargl"
           }
          ],
          "scatterternary": [
           {
            "marker": {
             "colorbar": {
              "outlinewidth": 0,
              "ticks": ""
             }
            },
            "type": "scatterternary"
           }
          ],
          "surface": [
           {
            "colorbar": {
             "outlinewidth": 0,
             "ticks": ""
            },
            "colorscale": [
             [
              0,
              "#0d0887"
             ],
             [
              0.1111111111111111,
              "#46039f"
             ],
             [
              0.2222222222222222,
              "#7201a8"
             ],
             [
              0.3333333333333333,
              "#9c179e"
             ],
             [
              0.4444444444444444,
              "#bd3786"
             ],
             [
              0.5555555555555556,
              "#d8576b"
             ],
             [
              0.6666666666666666,
              "#ed7953"
             ],
             [
              0.7777777777777778,
              "#fb9f3a"
             ],
             [
              0.8888888888888888,
              "#fdca26"
             ],
             [
              1,
              "#f0f921"
             ]
            ],
            "type": "surface"
           }
          ],
          "table": [
           {
            "cells": {
             "fill": {
              "color": "#EBF0F8"
             },
             "line": {
              "color": "white"
             }
            },
            "header": {
             "fill": {
              "color": "#C8D4E3"
             },
             "line": {
              "color": "white"
             }
            },
            "type": "table"
           }
          ]
         },
         "layout": {
          "annotationdefaults": {
           "arrowcolor": "#2a3f5f",
           "arrowhead": 0,
           "arrowwidth": 1
          },
          "autotypenumbers": "strict",
          "coloraxis": {
           "colorbar": {
            "outlinewidth": 0,
            "ticks": ""
           }
          },
          "colorscale": {
           "diverging": [
            [
             0,
             "#8e0152"
            ],
            [
             0.1,
             "#c51b7d"
            ],
            [
             0.2,
             "#de77ae"
            ],
            [
             0.3,
             "#f1b6da"
            ],
            [
             0.4,
             "#fde0ef"
            ],
            [
             0.5,
             "#f7f7f7"
            ],
            [
             0.6,
             "#e6f5d0"
            ],
            [
             0.7,
             "#b8e186"
            ],
            [
             0.8,
             "#7fbc41"
            ],
            [
             0.9,
             "#4d9221"
            ],
            [
             1,
             "#276419"
            ]
           ],
           "sequential": [
            [
             0,
             "#0d0887"
            ],
            [
             0.1111111111111111,
             "#46039f"
            ],
            [
             0.2222222222222222,
             "#7201a8"
            ],
            [
             0.3333333333333333,
             "#9c179e"
            ],
            [
             0.4444444444444444,
             "#bd3786"
            ],
            [
             0.5555555555555556,
             "#d8576b"
            ],
            [
             0.6666666666666666,
             "#ed7953"
            ],
            [
             0.7777777777777778,
             "#fb9f3a"
            ],
            [
             0.8888888888888888,
             "#fdca26"
            ],
            [
             1,
             "#f0f921"
            ]
           ],
           "sequentialminus": [
            [
             0,
             "#0d0887"
            ],
            [
             0.1111111111111111,
             "#46039f"
            ],
            [
             0.2222222222222222,
             "#7201a8"
            ],
            [
             0.3333333333333333,
             "#9c179e"
            ],
            [
             0.4444444444444444,
             "#bd3786"
            ],
            [
             0.5555555555555556,
             "#d8576b"
            ],
            [
             0.6666666666666666,
             "#ed7953"
            ],
            [
             0.7777777777777778,
             "#fb9f3a"
            ],
            [
             0.8888888888888888,
             "#fdca26"
            ],
            [
             1,
             "#f0f921"
            ]
           ]
          },
          "colorway": [
           "#636efa",
           "#EF553B",
           "#00cc96",
           "#ab63fa",
           "#FFA15A",
           "#19d3f3",
           "#FF6692",
           "#B6E880",
           "#FF97FF",
           "#FECB52"
          ],
          "font": {
           "color": "#2a3f5f"
          },
          "geo": {
           "bgcolor": "white",
           "lakecolor": "white",
           "landcolor": "#E5ECF6",
           "showlakes": true,
           "showland": true,
           "subunitcolor": "white"
          },
          "hoverlabel": {
           "align": "left"
          },
          "hovermode": "closest",
          "mapbox": {
           "style": "light"
          },
          "paper_bgcolor": "white",
          "plot_bgcolor": "#E5ECF6",
          "polar": {
           "angularaxis": {
            "gridcolor": "white",
            "linecolor": "white",
            "ticks": ""
           },
           "bgcolor": "#E5ECF6",
           "radialaxis": {
            "gridcolor": "white",
            "linecolor": "white",
            "ticks": ""
           }
          },
          "scene": {
           "xaxis": {
            "backgroundcolor": "#E5ECF6",
            "gridcolor": "white",
            "gridwidth": 2,
            "linecolor": "white",
            "showbackground": true,
            "ticks": "",
            "zerolinecolor": "white"
           },
           "yaxis": {
            "backgroundcolor": "#E5ECF6",
            "gridcolor": "white",
            "gridwidth": 2,
            "linecolor": "white",
            "showbackground": true,
            "ticks": "",
            "zerolinecolor": "white"
           },
           "zaxis": {
            "backgroundcolor": "#E5ECF6",
            "gridcolor": "white",
            "gridwidth": 2,
            "linecolor": "white",
            "showbackground": true,
            "ticks": "",
            "zerolinecolor": "white"
           }
          },
          "shapedefaults": {
           "line": {
            "color": "#2a3f5f"
           }
          },
          "ternary": {
           "aaxis": {
            "gridcolor": "white",
            "linecolor": "white",
            "ticks": ""
           },
           "baxis": {
            "gridcolor": "white",
            "linecolor": "white",
            "ticks": ""
           },
           "bgcolor": "#E5ECF6",
           "caxis": {
            "gridcolor": "white",
            "linecolor": "white",
            "ticks": ""
           }
          },
          "title": {
           "x": 0.05
          },
          "xaxis": {
           "automargin": true,
           "gridcolor": "white",
           "linecolor": "white",
           "ticks": "",
           "title": {
            "standoff": 15
           },
           "zerolinecolor": "white",
           "zerolinewidth": 2
          },
          "yaxis": {
           "automargin": true,
           "gridcolor": "white",
           "linecolor": "white",
           "ticks": "",
           "title": {
            "standoff": 15
           },
           "zerolinecolor": "white",
           "zerolinewidth": 2
          }
         }
        },
        "title": {
         "font": {
          "size": 26
         },
         "text": "Major Global Indices YTD Return (%) <br><sup>(1 Jan - Jun 2025)",
         "x": 0.5,
         "xanchor": "center"
        },
        "xaxis": {
         "anchor": "y",
         "domain": [
          0,
          1
         ]
        },
        "yaxis": {
         "anchor": "x",
         "domain": [
          0,
          0.38
         ],
         "title": {
          "text": "YTD Return (%)"
         }
        }
       }
      }
     },
     "metadata": {},
     "output_type": "display_data"
    }
   ],
   "source": [
    "\n",
    "ytd_fig = make_subplots(\n",
    "    rows=2, cols=1, \n",
    "    row_heights=[0.6, 0.4],\n",
    "    vertical_spacing=0.05,\n",
    "    specs=[[{'type': 'choropleth'}],\n",
    "           [{'type': 'xy'}]]\n",
    ")\n",
    "\n",
    "\n",
    "ytd_fig.add_trace(\n",
    "    go.Choropleth(\n",
    "        locations=ytd['iso_alpha'],\n",
    "        z=ytd['YTD Return'],\n",
    "        locationmode='ISO-3',\n",
    "        colorscale=custom_color_scale,\n",
    "        colorbar=dict(\n",
    "            title='YTD Return (%)',\n",
    "            title_font=dict(size=14),\n",
    "            len=0.6,\n",
    "            x=1,\n",
    "            y=.8,\n",
    "            xanchor='center',\n",
    "            yanchor='middle'\n",
    "        ),\n",
    "        zmin=vmin,\n",
    "        zmax=vmax,\n",
    "        hovertext=ytd['Ticker (Country)'] + '<br>YTD Return: ' + ytd['YTD Return'].astype(str) + '%',\n",
    "        hoverinfo='text',\n",
    "        \n",
    "    ),\n",
    "    row=1, col=1\n",
    ")\n",
    "\n",
    "\n",
    "\n",
    "ytd_fig.add_trace(\n",
    "    go.Bar(\n",
    "        x=ytd['Ticker (Country)'],\n",
    "        y=ytd['YTD Return'],\n",
    "        marker=dict(color=ytd['color']),\n",
    "        text=ytd['Ticker (Country)'] + '<br>YTD Return: ' + ytd['YTD Return'].astype(str) + '%',\n",
    "        hoverinfo='text',\n",
    "        textposition='none',\n",
    "        ),\n",
    "    row=2, col=1\n",
    ")\n",
    "\n",
    "\n",
    "# Layout and display\n",
    "ytd_fig.update_layout(\n",
    "    height=700,\n",
    "    title={\n",
    "        'text': 'Major Global Indices YTD Return (%) <br><sup>(1 Jan - Jun 2025)',\n",
    "        'font': dict(size=26),\n",
    "        'x': 0.5,\n",
    "        'xanchor': 'center'},\n",
    "    yaxis_title='YTD Return (%)',\n",
    "    showlegend=False,\n",
    ")\n",
    "\n",
    "\n",
    "ytd_fig.update_geos(\n",
    "    showframe=False,\n",
    "    projection_scale=1.20,\n",
    "    center={'lat':20, 'lon':8.5}\n",
    ")\n",
    "\n",
    "ytd_fig.show()\n",
    "\n"
   ]
  },
  {
   "cell_type": "markdown",
   "id": "098762b9",
   "metadata": {},
   "source": [
    "- YTD Return provides a snapshot of the performance of indices for the current year. It is a metric that captures percentage change.\n",
    "- In order to gauge annual performance of previous years, CAGR (compound annual growth rate) is used because it accounts for compound interest. This metric assumes that the profits obtained is reinvested at the end of each year. It provides a smooth rate curve which means that volatility inherent in the market is averaged out, providing a simple assessment metric where different indices can be compared.\n",
    "\n",
    "\n",
    "$$ \\text{CAGR (\\%)} = \\left(\\frac{\\text{Value}_{{t_1}}}{\\text{Value}_{t_0}}\\right)^{\\frac{1}{n}} - 1 $$\n",
    "- Now, fetch historical data for the past 20 years to calculate CAGR"
   ]
  },
  {
   "cell_type": "code",
   "execution_count": 1,
   "id": "48345d9c",
   "metadata": {},
   "outputs": [],
   "source": [
    "import yfinance as yf\n",
    "import pandas as pd\n",
    "from datetime import date\n",
    "import plotly.express as px\n",
    "from utilities import fetch_historical_data, calculate_cagr, color_map, color_map_countries, map_country\n",
    "import numpy as np"
   ]
  },
  {
   "cell_type": "code",
   "execution_count": 2,
   "id": "2f1dc2dd",
   "metadata": {},
   "outputs": [],
   "source": [
    "tickers = ['^GSPC', '000001.SS', '^HSI', '^AXJO', '^NSEI', '^GSPTSE', '^GDAXI', '^FTSE', '^N225', '^MXX', '^BVSP']"
   ]
  },
  {
   "cell_type": "code",
   "execution_count": 3,
   "id": "557565ee",
   "metadata": {},
   "outputs": [],
   "source": [
    "# Fetch 20Y historical data of all major global indices\n",
    "today = date.today()\n",
    "start = date(year=today.year-20, month=today.month, day=today.day)\n",
    "hist20 = fetch_historical_data(ticker_list=tickers, start_date=start, end_date=today)"
   ]
  },
  {
   "cell_type": "code",
   "execution_count": null,
   "id": "bd75f2c6",
   "metadata": {},
   "outputs": [
    {
     "data": {
      "text/html": [
       "<div>\n",
       "<style scoped>\n",
       "    .dataframe tbody tr th:only-of-type {\n",
       "        vertical-align: middle;\n",
       "    }\n",
       "\n",
       "    .dataframe tbody tr th {\n",
       "        vertical-align: top;\n",
       "    }\n",
       "\n",
       "    .dataframe thead th {\n",
       "        text-align: right;\n",
       "    }\n",
       "</style>\n",
       "<table border=\"1\" class=\"dataframe\">\n",
       "  <thead>\n",
       "    <tr style=\"text-align: right;\">\n",
       "      <th></th>\n",
       "      <th>Date</th>\n",
       "      <th>Open</th>\n",
       "      <th>High</th>\n",
       "      <th>Low</th>\n",
       "      <th>Close</th>\n",
       "      <th>Volume</th>\n",
       "      <th>Dividends</th>\n",
       "      <th>Stock Splits</th>\n",
       "      <th>Ticker</th>\n",
       "    </tr>\n",
       "  </thead>\n",
       "  <tbody>\n",
       "    <tr>\n",
       "      <th>0</th>\n",
       "      <td>2005-06-09 00:00:00-04:00</td>\n",
       "      <td>1194.670044</td>\n",
       "      <td>1201.859985</td>\n",
       "      <td>1191.089966</td>\n",
       "      <td>1200.930054</td>\n",
       "      <td>1824120000</td>\n",
       "      <td>0.0</td>\n",
       "      <td>0.0</td>\n",
       "      <td>^GSPC</td>\n",
       "    </tr>\n",
       "    <tr>\n",
       "      <th>1</th>\n",
       "      <td>2005-06-10 00:00:00-04:00</td>\n",
       "      <td>1200.930054</td>\n",
       "      <td>1202.790039</td>\n",
       "      <td>1192.640015</td>\n",
       "      <td>1198.109985</td>\n",
       "      <td>1664180000</td>\n",
       "      <td>0.0</td>\n",
       "      <td>0.0</td>\n",
       "      <td>^GSPC</td>\n",
       "    </tr>\n",
       "    <tr>\n",
       "      <th>2</th>\n",
       "      <td>2005-06-13 00:00:00-04:00</td>\n",
       "      <td>1198.109985</td>\n",
       "      <td>1206.030029</td>\n",
       "      <td>1194.510010</td>\n",
       "      <td>1200.819946</td>\n",
       "      <td>1661350000</td>\n",
       "      <td>0.0</td>\n",
       "      <td>0.0</td>\n",
       "      <td>^GSPC</td>\n",
       "    </tr>\n",
       "    <tr>\n",
       "      <th>3</th>\n",
       "      <td>2005-06-14 00:00:00-04:00</td>\n",
       "      <td>1200.819946</td>\n",
       "      <td>1207.530029</td>\n",
       "      <td>1200.180054</td>\n",
       "      <td>1203.910034</td>\n",
       "      <td>1698150000</td>\n",
       "      <td>0.0</td>\n",
       "      <td>0.0</td>\n",
       "      <td>^GSPC</td>\n",
       "    </tr>\n",
       "    <tr>\n",
       "      <th>4</th>\n",
       "      <td>2005-06-15 00:00:00-04:00</td>\n",
       "      <td>1203.910034</td>\n",
       "      <td>1208.079956</td>\n",
       "      <td>1198.660034</td>\n",
       "      <td>1206.579956</td>\n",
       "      <td>1840440000</td>\n",
       "      <td>0.0</td>\n",
       "      <td>0.0</td>\n",
       "      <td>^GSPC</td>\n",
       "    </tr>\n",
       "    <tr>\n",
       "      <th>...</th>\n",
       "      <td>...</td>\n",
       "      <td>...</td>\n",
       "      <td>...</td>\n",
       "      <td>...</td>\n",
       "      <td>...</td>\n",
       "      <td>...</td>\n",
       "      <td>...</td>\n",
       "      <td>...</td>\n",
       "      <td>...</td>\n",
       "    </tr>\n",
       "    <tr>\n",
       "      <th>54201</th>\n",
       "      <td>2025-06-02 00:00:00-03:00</td>\n",
       "      <td>137026.000000</td>\n",
       "      <td>138471.000000</td>\n",
       "      <td>136483.000000</td>\n",
       "      <td>136787.000000</td>\n",
       "      <td>9100100</td>\n",
       "      <td>0.0</td>\n",
       "      <td>0.0</td>\n",
       "      <td>^BVSP</td>\n",
       "    </tr>\n",
       "    <tr>\n",
       "      <th>54202</th>\n",
       "      <td>2025-06-03 00:00:00-03:00</td>\n",
       "      <td>136787.000000</td>\n",
       "      <td>137672.000000</td>\n",
       "      <td>136175.000000</td>\n",
       "      <td>137546.000000</td>\n",
       "      <td>9696700</td>\n",
       "      <td>0.0</td>\n",
       "      <td>0.0</td>\n",
       "      <td>^BVSP</td>\n",
       "    </tr>\n",
       "    <tr>\n",
       "      <th>54203</th>\n",
       "      <td>2025-06-04 00:00:00-03:00</td>\n",
       "      <td>137547.000000</td>\n",
       "      <td>138797.000000</td>\n",
       "      <td>136695.000000</td>\n",
       "      <td>137002.000000</td>\n",
       "      <td>10199100</td>\n",
       "      <td>0.0</td>\n",
       "      <td>0.0</td>\n",
       "      <td>^BVSP</td>\n",
       "    </tr>\n",
       "    <tr>\n",
       "      <th>54204</th>\n",
       "      <td>2025-06-05 00:00:00-03:00</td>\n",
       "      <td>137003.000000</td>\n",
       "      <td>137451.000000</td>\n",
       "      <td>136031.000000</td>\n",
       "      <td>136236.000000</td>\n",
       "      <td>9484500</td>\n",
       "      <td>0.0</td>\n",
       "      <td>0.0</td>\n",
       "      <td>^BVSP</td>\n",
       "    </tr>\n",
       "    <tr>\n",
       "      <th>54205</th>\n",
       "      <td>2025-06-06 00:00:00-03:00</td>\n",
       "      <td>136236.000000</td>\n",
       "      <td>136890.000000</td>\n",
       "      <td>135601.000000</td>\n",
       "      <td>136102.000000</td>\n",
       "      <td>9119300</td>\n",
       "      <td>0.0</td>\n",
       "      <td>0.0</td>\n",
       "      <td>^BVSP</td>\n",
       "    </tr>\n",
       "  </tbody>\n",
       "</table>\n",
       "<p>54206 rows × 9 columns</p>\n",
       "</div>"
      ],
      "text/plain": [
       "                            Date           Open           High            Low  \\\n",
       "0      2005-06-09 00:00:00-04:00    1194.670044    1201.859985    1191.089966   \n",
       "1      2005-06-10 00:00:00-04:00    1200.930054    1202.790039    1192.640015   \n",
       "2      2005-06-13 00:00:00-04:00    1198.109985    1206.030029    1194.510010   \n",
       "3      2005-06-14 00:00:00-04:00    1200.819946    1207.530029    1200.180054   \n",
       "4      2005-06-15 00:00:00-04:00    1203.910034    1208.079956    1198.660034   \n",
       "...                          ...            ...            ...            ...   \n",
       "54201  2025-06-02 00:00:00-03:00  137026.000000  138471.000000  136483.000000   \n",
       "54202  2025-06-03 00:00:00-03:00  136787.000000  137672.000000  136175.000000   \n",
       "54203  2025-06-04 00:00:00-03:00  137547.000000  138797.000000  136695.000000   \n",
       "54204  2025-06-05 00:00:00-03:00  137003.000000  137451.000000  136031.000000   \n",
       "54205  2025-06-06 00:00:00-03:00  136236.000000  136890.000000  135601.000000   \n",
       "\n",
       "               Close      Volume  Dividends  Stock Splits Ticker  \n",
       "0        1200.930054  1824120000        0.0           0.0  ^GSPC  \n",
       "1        1198.109985  1664180000        0.0           0.0  ^GSPC  \n",
       "2        1200.819946  1661350000        0.0           0.0  ^GSPC  \n",
       "3        1203.910034  1698150000        0.0           0.0  ^GSPC  \n",
       "4        1206.579956  1840440000        0.0           0.0  ^GSPC  \n",
       "...              ...         ...        ...           ...    ...  \n",
       "54201  136787.000000     9100100        0.0           0.0  ^BVSP  \n",
       "54202  137546.000000     9696700        0.0           0.0  ^BVSP  \n",
       "54203  137002.000000    10199100        0.0           0.0  ^BVSP  \n",
       "54204  136236.000000     9484500        0.0           0.0  ^BVSP  \n",
       "54205  136102.000000     9119300        0.0           0.0  ^BVSP  \n",
       "\n",
       "[54206 rows x 9 columns]"
      ]
     },
     "execution_count": 3,
     "metadata": {},
     "output_type": "execute_result"
    }
   ],
   "source": [
    "hist20 = pd.read_csv('hist20.csv')\n",
    "hist20_copy = hist20.copy()"
   ]
  },
  {
   "cell_type": "markdown",
   "id": "8a039587",
   "metadata": {},
   "source": [
    "- To calculate CAGR, I need the current closing value and the closing value *x* year(s) thereafter. \n",
    "- I downloaded 20 year worth of historial data so I have to write an iteration to extract data from the time periods that I want, that is, 1Y, 3Y, 5Y, 10Y, 15Y, and 20Y from 6 June."
   ]
  },
  {
   "cell_type": "code",
   "execution_count": 6,
   "id": "e3baa0c5",
   "metadata": {},
   "outputs": [
    {
     "name": "stdout",
     "output_type": "stream",
     "text": [
      "<class 'pandas.core.frame.DataFrame'>\n",
      "RangeIndex: 54206 entries, 0 to 54205\n",
      "Data columns (total 9 columns):\n",
      " #   Column        Non-Null Count  Dtype                          \n",
      "---  ------        --------------  -----                          \n",
      " 0   Date          54206 non-null  datetime64[ns, Europe/Brussels]\n",
      " 1   Open          54206 non-null  float64                        \n",
      " 2   High          54206 non-null  float64                        \n",
      " 3   Low           54206 non-null  float64                        \n",
      " 4   Close         54206 non-null  float64                        \n",
      " 5   Volume        54206 non-null  int64                          \n",
      " 6   Dividends     54206 non-null  float64                        \n",
      " 7   Stock Splits  54206 non-null  float64                        \n",
      " 8   Ticker        54206 non-null  object                         \n",
      "dtypes: datetime64[ns, Europe/Brussels](1), float64(6), int64(1), object(1)\n",
      "memory usage: 3.7+ MB\n"
     ]
    }
   ],
   "source": [
    "hist20_copy.info()"
   ]
  },
  {
   "cell_type": "code",
   "execution_count": null,
   "id": "99f068d8",
   "metadata": {},
   "outputs": [
    {
     "data": {
      "text/html": [
       "<div>\n",
       "<style scoped>\n",
       "    .dataframe tbody tr th:only-of-type {\n",
       "        vertical-align: middle;\n",
       "    }\n",
       "\n",
       "    .dataframe tbody tr th {\n",
       "        vertical-align: top;\n",
       "    }\n",
       "\n",
       "    .dataframe thead th {\n",
       "        text-align: right;\n",
       "    }\n",
       "</style>\n",
       "<table border=\"1\" class=\"dataframe\">\n",
       "  <thead>\n",
       "    <tr style=\"text-align: right;\">\n",
       "      <th></th>\n",
       "      <th>Date</th>\n",
       "      <th>Close</th>\n",
       "      <th>Ticker</th>\n",
       "    </tr>\n",
       "  </thead>\n",
       "  <tbody>\n",
       "    <tr>\n",
       "      <th>0</th>\n",
       "      <td>2005-06-09 06:00:00+02:00</td>\n",
       "      <td>1200.930054</td>\n",
       "      <td>^GSPC</td>\n",
       "    </tr>\n",
       "    <tr>\n",
       "      <th>1</th>\n",
       "      <td>2005-06-10 06:00:00+02:00</td>\n",
       "      <td>1198.109985</td>\n",
       "      <td>^GSPC</td>\n",
       "    </tr>\n",
       "    <tr>\n",
       "      <th>2</th>\n",
       "      <td>2005-06-13 06:00:00+02:00</td>\n",
       "      <td>1200.819946</td>\n",
       "      <td>^GSPC</td>\n",
       "    </tr>\n",
       "    <tr>\n",
       "      <th>3</th>\n",
       "      <td>2005-06-14 06:00:00+02:00</td>\n",
       "      <td>1203.910034</td>\n",
       "      <td>^GSPC</td>\n",
       "    </tr>\n",
       "    <tr>\n",
       "      <th>4</th>\n",
       "      <td>2005-06-15 06:00:00+02:00</td>\n",
       "      <td>1206.579956</td>\n",
       "      <td>^GSPC</td>\n",
       "    </tr>\n",
       "    <tr>\n",
       "      <th>...</th>\n",
       "      <td>...</td>\n",
       "      <td>...</td>\n",
       "      <td>...</td>\n",
       "    </tr>\n",
       "    <tr>\n",
       "      <th>54201</th>\n",
       "      <td>2025-06-02 05:00:00+02:00</td>\n",
       "      <td>136787.000000</td>\n",
       "      <td>^BVSP</td>\n",
       "    </tr>\n",
       "    <tr>\n",
       "      <th>54202</th>\n",
       "      <td>2025-06-03 05:00:00+02:00</td>\n",
       "      <td>137546.000000</td>\n",
       "      <td>^BVSP</td>\n",
       "    </tr>\n",
       "    <tr>\n",
       "      <th>54203</th>\n",
       "      <td>2025-06-04 05:00:00+02:00</td>\n",
       "      <td>137002.000000</td>\n",
       "      <td>^BVSP</td>\n",
       "    </tr>\n",
       "    <tr>\n",
       "      <th>54204</th>\n",
       "      <td>2025-06-05 05:00:00+02:00</td>\n",
       "      <td>136236.000000</td>\n",
       "      <td>^BVSP</td>\n",
       "    </tr>\n",
       "    <tr>\n",
       "      <th>54205</th>\n",
       "      <td>2025-06-06 05:00:00+02:00</td>\n",
       "      <td>136102.000000</td>\n",
       "      <td>^BVSP</td>\n",
       "    </tr>\n",
       "  </tbody>\n",
       "</table>\n",
       "<p>54206 rows × 3 columns</p>\n",
       "</div>"
      ],
      "text/plain": [
       "                           Date          Close Ticker\n",
       "0     2005-06-09 06:00:00+02:00    1200.930054  ^GSPC\n",
       "1     2005-06-10 06:00:00+02:00    1198.109985  ^GSPC\n",
       "2     2005-06-13 06:00:00+02:00    1200.819946  ^GSPC\n",
       "3     2005-06-14 06:00:00+02:00    1203.910034  ^GSPC\n",
       "4     2005-06-15 06:00:00+02:00    1206.579956  ^GSPC\n",
       "...                         ...            ...    ...\n",
       "54201 2025-06-02 05:00:00+02:00  136787.000000  ^BVSP\n",
       "54202 2025-06-03 05:00:00+02:00  137546.000000  ^BVSP\n",
       "54203 2025-06-04 05:00:00+02:00  137002.000000  ^BVSP\n",
       "54204 2025-06-05 05:00:00+02:00  136236.000000  ^BVSP\n",
       "54205 2025-06-06 05:00:00+02:00  136102.000000  ^BVSP\n",
       "\n",
       "[54206 rows x 3 columns]"
      ]
     },
     "execution_count": 7,
     "metadata": {},
     "output_type": "execute_result"
    }
   ],
   "source": [
    "hist20_copy['Date'] = pd.to_datetime(hist20_copy['Date'], utc=True).dt.tz_convert('Europe/Brussels') # Way to normalize the timezones\n",
    "hist20_copy = hist20_copy[['Date', 'Close', 'Ticker']] # Filter only columns that I need\n",
    "hist20_copy"
   ]
  },
  {
   "cell_type": "code",
   "execution_count": null,
   "id": "1f2710fc",
   "metadata": {},
   "outputs": [],
   "source": [
    "# Specify time periods of interest\n",
    "today = pd.Timestamp.now(tz='Europe/Brussels')\n",
    "one_year = today - pd.DateOffset(years=1)\n",
    "three_year_ann = today - pd.DateOffset(years=3)\n",
    "five_year_ann = today - pd.DateOffset(years=5)\n",
    "ten_year_ann = today - pd.DateOffset(years=10)\n",
    "fifteen_year_ann = today - pd.DateOffset(years=15)\n",
    "twenty_year_ann = today - pd.DateOffset(years=20)\n",
    "\n",
    "# Function to find closest date match per time period of interest\n",
    "def get_value_on_closest_date(group, target_date):\n",
    "    # Find row with the minimum absolute time difference to the target date\n",
    "    closest_row = group.loc[(group['Date'] - target_date).abs().idxmin()]\n",
    "    return closest_row['Close']\n"
   ]
  },
  {
   "cell_type": "code",
   "execution_count": null,
   "id": "30869320",
   "metadata": {},
   "outputs": [
    {
     "data": {
      "text/html": [
       "<div>\n",
       "<style scoped>\n",
       "    .dataframe tbody tr th:only-of-type {\n",
       "        vertical-align: middle;\n",
       "    }\n",
       "\n",
       "    .dataframe tbody tr th {\n",
       "        vertical-align: top;\n",
       "    }\n",
       "\n",
       "    .dataframe thead th {\n",
       "        text-align: right;\n",
       "    }\n",
       "</style>\n",
       "<table border=\"1\" class=\"dataframe\">\n",
       "  <thead>\n",
       "    <tr style=\"text-align: right;\">\n",
       "      <th></th>\n",
       "      <th>Ticker</th>\n",
       "      <th>close_today</th>\n",
       "      <th>close_1y_ago</th>\n",
       "      <th>close_3y_ago</th>\n",
       "      <th>close_5y_ago</th>\n",
       "      <th>close_10y_ago</th>\n",
       "      <th>close_15y_ago</th>\n",
       "      <th>close_20y_ago</th>\n",
       "    </tr>\n",
       "  </thead>\n",
       "  <tbody>\n",
       "    <tr>\n",
       "      <th>0</th>\n",
       "      <td>000001.SS</td>\n",
       "      <td>3385.357910</td>\n",
       "      <td>3028.044922</td>\n",
       "      <td>3284.830078</td>\n",
       "      <td>2943.752930</td>\n",
       "      <td>5106.036133</td>\n",
       "      <td>2562.580078</td>\n",
       "      <td>1108.286011</td>\n",
       "    </tr>\n",
       "    <tr>\n",
       "      <th>1</th>\n",
       "      <td>^AXJO</td>\n",
       "      <td>8515.700195</td>\n",
       "      <td>7755.399902</td>\n",
       "      <td>6932.000000</td>\n",
       "      <td>6148.399902</td>\n",
       "      <td>5478.600098</td>\n",
       "      <td>4435.299805</td>\n",
       "      <td>4221.700195</td>\n",
       "    </tr>\n",
       "    <tr>\n",
       "      <th>2</th>\n",
       "      <td>^BVSP</td>\n",
       "      <td>136102.000000</td>\n",
       "      <td>120760.000000</td>\n",
       "      <td>107094.000000</td>\n",
       "      <td>96747.000000</td>\n",
       "      <td>52816.000000</td>\n",
       "      <td>61479.000000</td>\n",
       "      <td>24484.000000</td>\n",
       "    </tr>\n",
       "    <tr>\n",
       "      <th>3</th>\n",
       "      <td>^FTSE</td>\n",
       "      <td>8837.900391</td>\n",
       "      <td>8228.500000</td>\n",
       "      <td>7476.200195</td>\n",
       "      <td>6335.700195</td>\n",
       "      <td>6753.799805</td>\n",
       "      <td>5085.899902</td>\n",
       "      <td>5009.200195</td>\n",
       "    </tr>\n",
       "    <tr>\n",
       "      <th>4</th>\n",
       "      <td>^GDAXI</td>\n",
       "      <td>24304.460938</td>\n",
       "      <td>18494.890625</td>\n",
       "      <td>14198.799805</td>\n",
       "      <td>12617.990234</td>\n",
       "      <td>11001.290039</td>\n",
       "      <td>5984.750000</td>\n",
       "      <td>4562.750000</td>\n",
       "    </tr>\n",
       "    <tr>\n",
       "      <th>5</th>\n",
       "      <td>^GSPC</td>\n",
       "      <td>6000.359863</td>\n",
       "      <td>5360.790039</td>\n",
       "      <td>4017.820068</td>\n",
       "      <td>3207.179932</td>\n",
       "      <td>2080.149902</td>\n",
       "      <td>1055.689941</td>\n",
       "      <td>1200.930054</td>\n",
       "    </tr>\n",
       "    <tr>\n",
       "      <th>6</th>\n",
       "      <td>^GSPTSE</td>\n",
       "      <td>26429.099609</td>\n",
       "      <td>22069.800781</td>\n",
       "      <td>20563.900391</td>\n",
       "      <td>15833.700195</td>\n",
       "      <td>14817.700195</td>\n",
       "      <td>11450.599609</td>\n",
       "      <td>9763.400391</td>\n",
       "    </tr>\n",
       "    <tr>\n",
       "      <th>7</th>\n",
       "      <td>^HSI</td>\n",
       "      <td>23792.539062</td>\n",
       "      <td>18176.339844</td>\n",
       "      <td>21806.179688</td>\n",
       "      <td>25049.730469</td>\n",
       "      <td>26687.640625</td>\n",
       "      <td>19632.699219</td>\n",
       "      <td>13934.759766</td>\n",
       "    </tr>\n",
       "    <tr>\n",
       "      <th>8</th>\n",
       "      <td>^MXX</td>\n",
       "      <td>58061.410156</td>\n",
       "      <td>53122.578125</td>\n",
       "      <td>49290.218750</td>\n",
       "      <td>39185.660156</td>\n",
       "      <td>44519.210938</td>\n",
       "      <td>31209.330078</td>\n",
       "      <td>13225.280273</td>\n",
       "    </tr>\n",
       "    <tr>\n",
       "      <th>9</th>\n",
       "      <td>^N225</td>\n",
       "      <td>37741.609375</td>\n",
       "      <td>39038.160156</td>\n",
       "      <td>27824.289062</td>\n",
       "      <td>23124.949219</td>\n",
       "      <td>20046.359375</td>\n",
       "      <td>9542.650391</td>\n",
       "      <td>11304.230469</td>\n",
       "    </tr>\n",
       "    <tr>\n",
       "      <th>10</th>\n",
       "      <td>^NSEI</td>\n",
       "      <td>25003.050781</td>\n",
       "      <td>23259.199219</td>\n",
       "      <td>16478.099609</td>\n",
       "      <td>10046.650391</td>\n",
       "      <td>8022.399902</td>\n",
       "      <td>5000.299805</td>\n",
       "      <td>4494.649902</td>\n",
       "    </tr>\n",
       "  </tbody>\n",
       "</table>\n",
       "</div>"
      ],
      "text/plain": [
       "       Ticker    close_today   close_1y_ago   close_3y_ago  close_5y_ago  \\\n",
       "0   000001.SS    3385.357910    3028.044922    3284.830078   2943.752930   \n",
       "1       ^AXJO    8515.700195    7755.399902    6932.000000   6148.399902   \n",
       "2       ^BVSP  136102.000000  120760.000000  107094.000000  96747.000000   \n",
       "3       ^FTSE    8837.900391    8228.500000    7476.200195   6335.700195   \n",
       "4      ^GDAXI   24304.460938   18494.890625   14198.799805  12617.990234   \n",
       "5       ^GSPC    6000.359863    5360.790039    4017.820068   3207.179932   \n",
       "6     ^GSPTSE   26429.099609   22069.800781   20563.900391  15833.700195   \n",
       "7        ^HSI   23792.539062   18176.339844   21806.179688  25049.730469   \n",
       "8        ^MXX   58061.410156   53122.578125   49290.218750  39185.660156   \n",
       "9       ^N225   37741.609375   39038.160156   27824.289062  23124.949219   \n",
       "10      ^NSEI   25003.050781   23259.199219   16478.099609  10046.650391   \n",
       "\n",
       "    close_10y_ago  close_15y_ago  close_20y_ago  \n",
       "0     5106.036133    2562.580078    1108.286011  \n",
       "1     5478.600098    4435.299805    4221.700195  \n",
       "2    52816.000000   61479.000000   24484.000000  \n",
       "3     6753.799805    5085.899902    5009.200195  \n",
       "4    11001.290039    5984.750000    4562.750000  \n",
       "5     2080.149902    1055.689941    1200.930054  \n",
       "6    14817.700195   11450.599609    9763.400391  \n",
       "7    26687.640625   19632.699219   13934.759766  \n",
       "8    44519.210938   31209.330078   13225.280273  \n",
       "9    20046.359375    9542.650391   11304.230469  \n",
       "10    8022.399902    5000.299805    4494.649902  "
      ]
     },
     "execution_count": 9,
     "metadata": {},
     "output_type": "execute_result"
    }
   ],
   "source": [
    "\n",
    "# Group by category and extract the values\n",
    "results = []\n",
    "for category, group in hist20_copy.groupby('Ticker'):\n",
    "    group = group.sort_values('Date')\n",
    "\n",
    "    result = {\n",
    "        'Ticker': category,\n",
    "        'close_today': get_value_on_closest_date(group, today),\n",
    "        'close_1y_ago': get_value_on_closest_date(group, one_year),\n",
    "        'close_3y_ago': get_value_on_closest_date(group, three_year_ann),\n",
    "        'close_5y_ago': get_value_on_closest_date(group, five_year_ann),\n",
    "        'close_10y_ago': get_value_on_closest_date(group, ten_year_ann),\n",
    "        'close_15y_ago': get_value_on_closest_date(group, fifteen_year_ann),\n",
    "        'close_20y_ago' : get_value_on_closest_date(group, twenty_year_ann)\n",
    "    }\n",
    "    results.append(result)\n",
    "\n",
    "# Convert to DataFrame\n",
    "summary_df = pd.DataFrame(results)\n",
    "summary_df"
   ]
  },
  {
   "cell_type": "code",
   "execution_count": 10,
   "id": "bf98887b",
   "metadata": {},
   "outputs": [
    {
     "data": {
      "text/html": [
       "<div>\n",
       "<style scoped>\n",
       "    .dataframe tbody tr th:only-of-type {\n",
       "        vertical-align: middle;\n",
       "    }\n",
       "\n",
       "    .dataframe tbody tr th {\n",
       "        vertical-align: top;\n",
       "    }\n",
       "\n",
       "    .dataframe thead th {\n",
       "        text-align: right;\n",
       "    }\n",
       "</style>\n",
       "<table border=\"1\" class=\"dataframe\">\n",
       "  <thead>\n",
       "    <tr style=\"text-align: right;\">\n",
       "      <th></th>\n",
       "      <th>Ticker</th>\n",
       "      <th>close_today</th>\n",
       "      <th>close_1y_ago</th>\n",
       "      <th>close_3y_ago</th>\n",
       "      <th>close_5y_ago</th>\n",
       "      <th>close_10y_ago</th>\n",
       "      <th>close_15y_ago</th>\n",
       "      <th>close_20y_ago</th>\n",
       "      <th>1Y</th>\n",
       "      <th>3Y</th>\n",
       "      <th>5Y</th>\n",
       "      <th>10Y</th>\n",
       "      <th>15Y</th>\n",
       "      <th>20Y</th>\n",
       "    </tr>\n",
       "  </thead>\n",
       "  <tbody>\n",
       "    <tr>\n",
       "      <th>0</th>\n",
       "      <td>000001.SS</td>\n",
       "      <td>3385.357910</td>\n",
       "      <td>3028.044922</td>\n",
       "      <td>3284.830078</td>\n",
       "      <td>2943.752930</td>\n",
       "      <td>5106.036133</td>\n",
       "      <td>2562.580078</td>\n",
       "      <td>1108.286011</td>\n",
       "      <td>11.800</td>\n",
       "      <td>1.010</td>\n",
       "      <td>2.835</td>\n",
       "      <td>-4.026</td>\n",
       "      <td>1.874</td>\n",
       "      <td>5.742</td>\n",
       "    </tr>\n",
       "    <tr>\n",
       "      <th>1</th>\n",
       "      <td>^AXJO</td>\n",
       "      <td>8515.700195</td>\n",
       "      <td>7755.399902</td>\n",
       "      <td>6932.000000</td>\n",
       "      <td>6148.399902</td>\n",
       "      <td>5478.600098</td>\n",
       "      <td>4435.299805</td>\n",
       "      <td>4221.700195</td>\n",
       "      <td>9.803</td>\n",
       "      <td>7.099</td>\n",
       "      <td>6.731</td>\n",
       "      <td>4.509</td>\n",
       "      <td>4.445</td>\n",
       "      <td>3.571</td>\n",
       "    </tr>\n",
       "    <tr>\n",
       "      <th>2</th>\n",
       "      <td>^BVSP</td>\n",
       "      <td>136102.000000</td>\n",
       "      <td>120760.000000</td>\n",
       "      <td>107094.000000</td>\n",
       "      <td>96747.000000</td>\n",
       "      <td>52816.000000</td>\n",
       "      <td>61479.000000</td>\n",
       "      <td>24484.000000</td>\n",
       "      <td>12.705</td>\n",
       "      <td>8.318</td>\n",
       "      <td>7.064</td>\n",
       "      <td>9.928</td>\n",
       "      <td>5.441</td>\n",
       "      <td>8.955</td>\n",
       "    </tr>\n",
       "    <tr>\n",
       "      <th>3</th>\n",
       "      <td>^FTSE</td>\n",
       "      <td>8837.900391</td>\n",
       "      <td>8228.500000</td>\n",
       "      <td>7476.200195</td>\n",
       "      <td>6335.700195</td>\n",
       "      <td>6753.799805</td>\n",
       "      <td>5085.899902</td>\n",
       "      <td>5009.200195</td>\n",
       "      <td>7.406</td>\n",
       "      <td>5.736</td>\n",
       "      <td>6.884</td>\n",
       "      <td>2.726</td>\n",
       "      <td>3.753</td>\n",
       "      <td>2.880</td>\n",
       "    </tr>\n",
       "    <tr>\n",
       "      <th>4</th>\n",
       "      <td>^GDAXI</td>\n",
       "      <td>24304.460938</td>\n",
       "      <td>18494.890625</td>\n",
       "      <td>14198.799805</td>\n",
       "      <td>12617.990234</td>\n",
       "      <td>11001.290039</td>\n",
       "      <td>5984.750000</td>\n",
       "      <td>4562.750000</td>\n",
       "      <td>31.412</td>\n",
       "      <td>19.622</td>\n",
       "      <td>14.009</td>\n",
       "      <td>8.249</td>\n",
       "      <td>9.793</td>\n",
       "      <td>8.723</td>\n",
       "    </tr>\n",
       "    <tr>\n",
       "      <th>5</th>\n",
       "      <td>^GSPC</td>\n",
       "      <td>6000.359863</td>\n",
       "      <td>5360.790039</td>\n",
       "      <td>4017.820068</td>\n",
       "      <td>3207.179932</td>\n",
       "      <td>2080.149902</td>\n",
       "      <td>1055.689941</td>\n",
       "      <td>1200.930054</td>\n",
       "      <td>11.931</td>\n",
       "      <td>14.304</td>\n",
       "      <td>13.347</td>\n",
       "      <td>11.175</td>\n",
       "      <td>12.282</td>\n",
       "      <td>8.376</td>\n",
       "    </tr>\n",
       "    <tr>\n",
       "      <th>6</th>\n",
       "      <td>^GSPTSE</td>\n",
       "      <td>26429.099609</td>\n",
       "      <td>22069.800781</td>\n",
       "      <td>20563.900391</td>\n",
       "      <td>15833.700195</td>\n",
       "      <td>14817.700195</td>\n",
       "      <td>11450.599609</td>\n",
       "      <td>9763.400391</td>\n",
       "      <td>19.752</td>\n",
       "      <td>8.724</td>\n",
       "      <td>10.790</td>\n",
       "      <td>5.957</td>\n",
       "      <td>5.735</td>\n",
       "      <td>5.105</td>\n",
       "    </tr>\n",
       "    <tr>\n",
       "      <th>7</th>\n",
       "      <td>^HSI</td>\n",
       "      <td>23792.539062</td>\n",
       "      <td>18176.339844</td>\n",
       "      <td>21806.179688</td>\n",
       "      <td>25049.730469</td>\n",
       "      <td>26687.640625</td>\n",
       "      <td>19632.699219</td>\n",
       "      <td>13934.759766</td>\n",
       "      <td>30.898</td>\n",
       "      <td>2.949</td>\n",
       "      <td>-1.025</td>\n",
       "      <td>-1.142</td>\n",
       "      <td>1.289</td>\n",
       "      <td>2.711</td>\n",
       "    </tr>\n",
       "    <tr>\n",
       "      <th>8</th>\n",
       "      <td>^MXX</td>\n",
       "      <td>58061.410156</td>\n",
       "      <td>53122.578125</td>\n",
       "      <td>49290.218750</td>\n",
       "      <td>39185.660156</td>\n",
       "      <td>44519.210938</td>\n",
       "      <td>31209.330078</td>\n",
       "      <td>13225.280273</td>\n",
       "      <td>9.297</td>\n",
       "      <td>5.611</td>\n",
       "      <td>8.181</td>\n",
       "      <td>2.691</td>\n",
       "      <td>4.225</td>\n",
       "      <td>7.677</td>\n",
       "    </tr>\n",
       "    <tr>\n",
       "      <th>9</th>\n",
       "      <td>^N225</td>\n",
       "      <td>37741.609375</td>\n",
       "      <td>39038.160156</td>\n",
       "      <td>27824.289062</td>\n",
       "      <td>23124.949219</td>\n",
       "      <td>20046.359375</td>\n",
       "      <td>9542.650391</td>\n",
       "      <td>11304.230469</td>\n",
       "      <td>-3.321</td>\n",
       "      <td>10.696</td>\n",
       "      <td>10.293</td>\n",
       "      <td>6.532</td>\n",
       "      <td>9.600</td>\n",
       "      <td>6.213</td>\n",
       "    </tr>\n",
       "    <tr>\n",
       "      <th>10</th>\n",
       "      <td>^NSEI</td>\n",
       "      <td>25003.050781</td>\n",
       "      <td>23259.199219</td>\n",
       "      <td>16478.099609</td>\n",
       "      <td>10046.650391</td>\n",
       "      <td>8022.399902</td>\n",
       "      <td>5000.299805</td>\n",
       "      <td>4494.649902</td>\n",
       "      <td>7.497</td>\n",
       "      <td>14.911</td>\n",
       "      <td>20.004</td>\n",
       "      <td>12.039</td>\n",
       "      <td>11.327</td>\n",
       "      <td>8.959</td>\n",
       "    </tr>\n",
       "  </tbody>\n",
       "</table>\n",
       "</div>"
      ],
      "text/plain": [
       "       Ticker    close_today   close_1y_ago   close_3y_ago  close_5y_ago  \\\n",
       "0   000001.SS    3385.357910    3028.044922    3284.830078   2943.752930   \n",
       "1       ^AXJO    8515.700195    7755.399902    6932.000000   6148.399902   \n",
       "2       ^BVSP  136102.000000  120760.000000  107094.000000  96747.000000   \n",
       "3       ^FTSE    8837.900391    8228.500000    7476.200195   6335.700195   \n",
       "4      ^GDAXI   24304.460938   18494.890625   14198.799805  12617.990234   \n",
       "5       ^GSPC    6000.359863    5360.790039    4017.820068   3207.179932   \n",
       "6     ^GSPTSE   26429.099609   22069.800781   20563.900391  15833.700195   \n",
       "7        ^HSI   23792.539062   18176.339844   21806.179688  25049.730469   \n",
       "8        ^MXX   58061.410156   53122.578125   49290.218750  39185.660156   \n",
       "9       ^N225   37741.609375   39038.160156   27824.289062  23124.949219   \n",
       "10      ^NSEI   25003.050781   23259.199219   16478.099609  10046.650391   \n",
       "\n",
       "    close_10y_ago  close_15y_ago  close_20y_ago      1Y      3Y      5Y  \\\n",
       "0     5106.036133    2562.580078    1108.286011  11.800   1.010   2.835   \n",
       "1     5478.600098    4435.299805    4221.700195   9.803   7.099   6.731   \n",
       "2    52816.000000   61479.000000   24484.000000  12.705   8.318   7.064   \n",
       "3     6753.799805    5085.899902    5009.200195   7.406   5.736   6.884   \n",
       "4    11001.290039    5984.750000    4562.750000  31.412  19.622  14.009   \n",
       "5     2080.149902    1055.689941    1200.930054  11.931  14.304  13.347   \n",
       "6    14817.700195   11450.599609    9763.400391  19.752   8.724  10.790   \n",
       "7    26687.640625   19632.699219   13934.759766  30.898   2.949  -1.025   \n",
       "8    44519.210938   31209.330078   13225.280273   9.297   5.611   8.181   \n",
       "9    20046.359375    9542.650391   11304.230469  -3.321  10.696  10.293   \n",
       "10    8022.399902    5000.299805    4494.649902   7.497  14.911  20.004   \n",
       "\n",
       "       10Y     15Y    20Y  \n",
       "0   -4.026   1.874  5.742  \n",
       "1    4.509   4.445  3.571  \n",
       "2    9.928   5.441  8.955  \n",
       "3    2.726   3.753  2.880  \n",
       "4    8.249   9.793  8.723  \n",
       "5   11.175  12.282  8.376  \n",
       "6    5.957   5.735  5.105  \n",
       "7   -1.142   1.289  2.711  \n",
       "8    2.691   4.225  7.677  \n",
       "9    6.532   9.600  6.213  \n",
       "10  12.039  11.327  8.959  "
      ]
     },
     "execution_count": 10,
     "metadata": {},
     "output_type": "execute_result"
    }
   ],
   "source": [
    "# Calculate CAGR\n",
    "\n",
    "summary_df['1Y'] = calculate_cagr(summary_df['close_today'], summary_df['close_1y_ago'], n=1)\n",
    "summary_df['3Y'] = calculate_cagr(summary_df['close_today'], summary_df['close_3y_ago'], n=3)\n",
    "summary_df['5Y'] = calculate_cagr(summary_df['close_today'], summary_df['close_5y_ago'], n=5)\n",
    "summary_df['10Y'] = calculate_cagr(summary_df['close_today'], summary_df['close_10y_ago'], n=10)\n",
    "summary_df['15Y'] = calculate_cagr(summary_df['close_today'], summary_df['close_15y_ago'], n=15)\n",
    "summary_df['20Y'] = calculate_cagr(summary_df['close_today'], summary_df['close_20y_ago'], n=20)\n",
    "\n",
    "summary_df"
   ]
  },
  {
   "cell_type": "code",
   "execution_count": null,
   "id": "59eba953",
   "metadata": {},
   "outputs": [],
   "source": [
    "# Add YTD info and merge dataframes\n",
    "\n",
    "ytd = pd.read_csv('ytd_6Jun.csv')\n",
    "ytd_return = pd.DataFrame(ytd.groupby('Ticker').last()['YTD Return']).reset_index()"
   ]
  },
  {
   "cell_type": "code",
   "execution_count": 12,
   "id": "cf97463d",
   "metadata": {},
   "outputs": [
    {
     "data": {
      "text/html": [
       "<div>\n",
       "<style scoped>\n",
       "    .dataframe tbody tr th:only-of-type {\n",
       "        vertical-align: middle;\n",
       "    }\n",
       "\n",
       "    .dataframe tbody tr th {\n",
       "        vertical-align: top;\n",
       "    }\n",
       "\n",
       "    .dataframe thead th {\n",
       "        text-align: right;\n",
       "    }\n",
       "</style>\n",
       "<table border=\"1\" class=\"dataframe\">\n",
       "  <thead>\n",
       "    <tr style=\"text-align: right;\">\n",
       "      <th></th>\n",
       "      <th>Ticker</th>\n",
       "      <th>close_today</th>\n",
       "      <th>close_1y_ago</th>\n",
       "      <th>close_3y_ago</th>\n",
       "      <th>close_5y_ago</th>\n",
       "      <th>close_10y_ago</th>\n",
       "      <th>close_15y_ago</th>\n",
       "      <th>close_20y_ago</th>\n",
       "      <th>1Y</th>\n",
       "      <th>3Y</th>\n",
       "      <th>5Y</th>\n",
       "      <th>10Y</th>\n",
       "      <th>15Y</th>\n",
       "      <th>20Y</th>\n",
       "      <th>YTD Return</th>\n",
       "    </tr>\n",
       "  </thead>\n",
       "  <tbody>\n",
       "    <tr>\n",
       "      <th>0</th>\n",
       "      <td>000001.SS</td>\n",
       "      <td>3385.357910</td>\n",
       "      <td>3028.044922</td>\n",
       "      <td>3284.830078</td>\n",
       "      <td>2943.752930</td>\n",
       "      <td>5106.036133</td>\n",
       "      <td>2562.580078</td>\n",
       "      <td>1108.286011</td>\n",
       "      <td>11.800</td>\n",
       "      <td>1.010</td>\n",
       "      <td>2.835</td>\n",
       "      <td>-4.026</td>\n",
       "      <td>1.874</td>\n",
       "      <td>5.742</td>\n",
       "      <td>3.764</td>\n",
       "    </tr>\n",
       "    <tr>\n",
       "      <th>1</th>\n",
       "      <td>^AXJO</td>\n",
       "      <td>8515.700195</td>\n",
       "      <td>7755.399902</td>\n",
       "      <td>6932.000000</td>\n",
       "      <td>6148.399902</td>\n",
       "      <td>5478.600098</td>\n",
       "      <td>4435.299805</td>\n",
       "      <td>4221.700195</td>\n",
       "      <td>9.803</td>\n",
       "      <td>7.099</td>\n",
       "      <td>6.731</td>\n",
       "      <td>4.509</td>\n",
       "      <td>4.445</td>\n",
       "      <td>3.571</td>\n",
       "      <td>3.835</td>\n",
       "    </tr>\n",
       "    <tr>\n",
       "      <th>2</th>\n",
       "      <td>^BVSP</td>\n",
       "      <td>136102.000000</td>\n",
       "      <td>120760.000000</td>\n",
       "      <td>107094.000000</td>\n",
       "      <td>96747.000000</td>\n",
       "      <td>52816.000000</td>\n",
       "      <td>61479.000000</td>\n",
       "      <td>24484.000000</td>\n",
       "      <td>12.705</td>\n",
       "      <td>8.318</td>\n",
       "      <td>7.064</td>\n",
       "      <td>9.928</td>\n",
       "      <td>5.441</td>\n",
       "      <td>8.955</td>\n",
       "      <td>13.300</td>\n",
       "    </tr>\n",
       "    <tr>\n",
       "      <th>3</th>\n",
       "      <td>^FTSE</td>\n",
       "      <td>8837.900391</td>\n",
       "      <td>8228.500000</td>\n",
       "      <td>7476.200195</td>\n",
       "      <td>6335.700195</td>\n",
       "      <td>6753.799805</td>\n",
       "      <td>5085.899902</td>\n",
       "      <td>5009.200195</td>\n",
       "      <td>7.406</td>\n",
       "      <td>5.736</td>\n",
       "      <td>6.884</td>\n",
       "      <td>2.726</td>\n",
       "      <td>3.753</td>\n",
       "      <td>2.880</td>\n",
       "      <td>6.995</td>\n",
       "    </tr>\n",
       "    <tr>\n",
       "      <th>4</th>\n",
       "      <td>^GDAXI</td>\n",
       "      <td>24304.460938</td>\n",
       "      <td>18494.890625</td>\n",
       "      <td>14198.799805</td>\n",
       "      <td>12617.990234</td>\n",
       "      <td>11001.290039</td>\n",
       "      <td>5984.750000</td>\n",
       "      <td>4562.750000</td>\n",
       "      <td>31.412</td>\n",
       "      <td>19.622</td>\n",
       "      <td>14.009</td>\n",
       "      <td>8.249</td>\n",
       "      <td>9.793</td>\n",
       "      <td>8.723</td>\n",
       "      <td>21.373</td>\n",
       "    </tr>\n",
       "    <tr>\n",
       "      <th>5</th>\n",
       "      <td>^GSPC</td>\n",
       "      <td>6000.359863</td>\n",
       "      <td>5360.790039</td>\n",
       "      <td>4017.820068</td>\n",
       "      <td>3207.179932</td>\n",
       "      <td>2080.149902</td>\n",
       "      <td>1055.689941</td>\n",
       "      <td>1200.930054</td>\n",
       "      <td>11.931</td>\n",
       "      <td>14.304</td>\n",
       "      <td>13.347</td>\n",
       "      <td>11.175</td>\n",
       "      <td>12.282</td>\n",
       "      <td>8.376</td>\n",
       "      <td>2.246</td>\n",
       "    </tr>\n",
       "    <tr>\n",
       "      <th>6</th>\n",
       "      <td>^GSPTSE</td>\n",
       "      <td>26429.099609</td>\n",
       "      <td>22069.800781</td>\n",
       "      <td>20563.900391</td>\n",
       "      <td>15833.700195</td>\n",
       "      <td>14817.700195</td>\n",
       "      <td>11450.599609</td>\n",
       "      <td>9763.400391</td>\n",
       "      <td>19.752</td>\n",
       "      <td>8.724</td>\n",
       "      <td>10.790</td>\n",
       "      <td>5.957</td>\n",
       "      <td>5.735</td>\n",
       "      <td>5.105</td>\n",
       "      <td>6.149</td>\n",
       "    </tr>\n",
       "    <tr>\n",
       "      <th>7</th>\n",
       "      <td>^HSI</td>\n",
       "      <td>23792.539062</td>\n",
       "      <td>18176.339844</td>\n",
       "      <td>21806.179688</td>\n",
       "      <td>25049.730469</td>\n",
       "      <td>26687.640625</td>\n",
       "      <td>19632.699219</td>\n",
       "      <td>13934.759766</td>\n",
       "      <td>30.898</td>\n",
       "      <td>2.949</td>\n",
       "      <td>-1.025</td>\n",
       "      <td>-1.142</td>\n",
       "      <td>1.289</td>\n",
       "      <td>2.711</td>\n",
       "      <td>21.246</td>\n",
       "    </tr>\n",
       "    <tr>\n",
       "      <th>8</th>\n",
       "      <td>^MXX</td>\n",
       "      <td>58061.410156</td>\n",
       "      <td>53122.578125</td>\n",
       "      <td>49290.218750</td>\n",
       "      <td>39185.660156</td>\n",
       "      <td>44519.210938</td>\n",
       "      <td>31209.330078</td>\n",
       "      <td>13225.280273</td>\n",
       "      <td>9.297</td>\n",
       "      <td>5.611</td>\n",
       "      <td>8.181</td>\n",
       "      <td>2.691</td>\n",
       "      <td>4.225</td>\n",
       "      <td>7.677</td>\n",
       "      <td>16.671</td>\n",
       "    </tr>\n",
       "    <tr>\n",
       "      <th>9</th>\n",
       "      <td>^N225</td>\n",
       "      <td>37741.609375</td>\n",
       "      <td>39038.160156</td>\n",
       "      <td>27824.289062</td>\n",
       "      <td>23124.949219</td>\n",
       "      <td>20046.359375</td>\n",
       "      <td>9542.650391</td>\n",
       "      <td>11304.230469</td>\n",
       "      <td>-3.321</td>\n",
       "      <td>10.696</td>\n",
       "      <td>10.293</td>\n",
       "      <td>6.532</td>\n",
       "      <td>9.600</td>\n",
       "      <td>6.213</td>\n",
       "      <td>-3.983</td>\n",
       "    </tr>\n",
       "    <tr>\n",
       "      <th>10</th>\n",
       "      <td>^NSEI</td>\n",
       "      <td>25003.050781</td>\n",
       "      <td>23259.199219</td>\n",
       "      <td>16478.099609</td>\n",
       "      <td>10046.650391</td>\n",
       "      <td>8022.399902</td>\n",
       "      <td>5000.299805</td>\n",
       "      <td>4494.649902</td>\n",
       "      <td>7.497</td>\n",
       "      <td>14.911</td>\n",
       "      <td>20.004</td>\n",
       "      <td>12.039</td>\n",
       "      <td>11.327</td>\n",
       "      <td>8.959</td>\n",
       "      <td>5.307</td>\n",
       "    </tr>\n",
       "  </tbody>\n",
       "</table>\n",
       "</div>"
      ],
      "text/plain": [
       "       Ticker    close_today   close_1y_ago   close_3y_ago  close_5y_ago  \\\n",
       "0   000001.SS    3385.357910    3028.044922    3284.830078   2943.752930   \n",
       "1       ^AXJO    8515.700195    7755.399902    6932.000000   6148.399902   \n",
       "2       ^BVSP  136102.000000  120760.000000  107094.000000  96747.000000   \n",
       "3       ^FTSE    8837.900391    8228.500000    7476.200195   6335.700195   \n",
       "4      ^GDAXI   24304.460938   18494.890625   14198.799805  12617.990234   \n",
       "5       ^GSPC    6000.359863    5360.790039    4017.820068   3207.179932   \n",
       "6     ^GSPTSE   26429.099609   22069.800781   20563.900391  15833.700195   \n",
       "7        ^HSI   23792.539062   18176.339844   21806.179688  25049.730469   \n",
       "8        ^MXX   58061.410156   53122.578125   49290.218750  39185.660156   \n",
       "9       ^N225   37741.609375   39038.160156   27824.289062  23124.949219   \n",
       "10      ^NSEI   25003.050781   23259.199219   16478.099609  10046.650391   \n",
       "\n",
       "    close_10y_ago  close_15y_ago  close_20y_ago      1Y      3Y      5Y  \\\n",
       "0     5106.036133    2562.580078    1108.286011  11.800   1.010   2.835   \n",
       "1     5478.600098    4435.299805    4221.700195   9.803   7.099   6.731   \n",
       "2    52816.000000   61479.000000   24484.000000  12.705   8.318   7.064   \n",
       "3     6753.799805    5085.899902    5009.200195   7.406   5.736   6.884   \n",
       "4    11001.290039    5984.750000    4562.750000  31.412  19.622  14.009   \n",
       "5     2080.149902    1055.689941    1200.930054  11.931  14.304  13.347   \n",
       "6    14817.700195   11450.599609    9763.400391  19.752   8.724  10.790   \n",
       "7    26687.640625   19632.699219   13934.759766  30.898   2.949  -1.025   \n",
       "8    44519.210938   31209.330078   13225.280273   9.297   5.611   8.181   \n",
       "9    20046.359375    9542.650391   11304.230469  -3.321  10.696  10.293   \n",
       "10    8022.399902    5000.299805    4494.649902   7.497  14.911  20.004   \n",
       "\n",
       "       10Y     15Y    20Y  YTD Return  \n",
       "0   -4.026   1.874  5.742       3.764  \n",
       "1    4.509   4.445  3.571       3.835  \n",
       "2    9.928   5.441  8.955      13.300  \n",
       "3    2.726   3.753  2.880       6.995  \n",
       "4    8.249   9.793  8.723      21.373  \n",
       "5   11.175  12.282  8.376       2.246  \n",
       "6    5.957   5.735  5.105       6.149  \n",
       "7   -1.142   1.289  2.711      21.246  \n",
       "8    2.691   4.225  7.677      16.671  \n",
       "9    6.532   9.600  6.213      -3.983  \n",
       "10  12.039  11.327  8.959       5.307  "
      ]
     },
     "execution_count": 12,
     "metadata": {},
     "output_type": "execute_result"
    }
   ],
   "source": [
    "returns = pd.merge(summary_df, ytd_return, on='Ticker', how='inner')\n",
    "returns"
   ]
  },
  {
   "cell_type": "code",
   "execution_count": 13,
   "id": "454d88de",
   "metadata": {},
   "outputs": [
    {
     "data": {
      "text/html": [
       "<div>\n",
       "<style scoped>\n",
       "    .dataframe tbody tr th:only-of-type {\n",
       "        vertical-align: middle;\n",
       "    }\n",
       "\n",
       "    .dataframe tbody tr th {\n",
       "        vertical-align: top;\n",
       "    }\n",
       "\n",
       "    .dataframe thead th {\n",
       "        text-align: right;\n",
       "    }\n",
       "</style>\n",
       "<table border=\"1\" class=\"dataframe\">\n",
       "  <thead>\n",
       "    <tr style=\"text-align: right;\">\n",
       "      <th></th>\n",
       "      <th>Ticker</th>\n",
       "      <th>Ticker (Country)</th>\n",
       "      <th>YTD</th>\n",
       "      <th>1Y</th>\n",
       "      <th>3Y</th>\n",
       "      <th>5Y</th>\n",
       "      <th>10Y</th>\n",
       "      <th>15Y</th>\n",
       "      <th>20Y</th>\n",
       "    </tr>\n",
       "  </thead>\n",
       "  <tbody>\n",
       "    <tr>\n",
       "      <th>0</th>\n",
       "      <td>000001.SS</td>\n",
       "      <td>SSE (CHN)</td>\n",
       "      <td>3.764</td>\n",
       "      <td>11.800</td>\n",
       "      <td>1.010</td>\n",
       "      <td>2.835</td>\n",
       "      <td>-4.026</td>\n",
       "      <td>1.874</td>\n",
       "      <td>5.742</td>\n",
       "    </tr>\n",
       "    <tr>\n",
       "      <th>1</th>\n",
       "      <td>^AXJO</td>\n",
       "      <td>AXJO (AUS)</td>\n",
       "      <td>3.835</td>\n",
       "      <td>9.803</td>\n",
       "      <td>7.099</td>\n",
       "      <td>6.731</td>\n",
       "      <td>4.509</td>\n",
       "      <td>4.445</td>\n",
       "      <td>3.571</td>\n",
       "    </tr>\n",
       "    <tr>\n",
       "      <th>2</th>\n",
       "      <td>^BVSP</td>\n",
       "      <td>BVSP (BRA)</td>\n",
       "      <td>13.300</td>\n",
       "      <td>12.705</td>\n",
       "      <td>8.318</td>\n",
       "      <td>7.064</td>\n",
       "      <td>9.928</td>\n",
       "      <td>5.441</td>\n",
       "      <td>8.955</td>\n",
       "    </tr>\n",
       "    <tr>\n",
       "      <th>3</th>\n",
       "      <td>^FTSE</td>\n",
       "      <td>FTSE (GBR)</td>\n",
       "      <td>6.995</td>\n",
       "      <td>7.406</td>\n",
       "      <td>5.736</td>\n",
       "      <td>6.884</td>\n",
       "      <td>2.726</td>\n",
       "      <td>3.753</td>\n",
       "      <td>2.880</td>\n",
       "    </tr>\n",
       "    <tr>\n",
       "      <th>4</th>\n",
       "      <td>^GDAXI</td>\n",
       "      <td>GDAXI (DEU)</td>\n",
       "      <td>21.373</td>\n",
       "      <td>31.412</td>\n",
       "      <td>19.622</td>\n",
       "      <td>14.009</td>\n",
       "      <td>8.249</td>\n",
       "      <td>9.793</td>\n",
       "      <td>8.723</td>\n",
       "    </tr>\n",
       "    <tr>\n",
       "      <th>5</th>\n",
       "      <td>^GSPC</td>\n",
       "      <td>GSPC (USA)</td>\n",
       "      <td>2.246</td>\n",
       "      <td>11.931</td>\n",
       "      <td>14.304</td>\n",
       "      <td>13.347</td>\n",
       "      <td>11.175</td>\n",
       "      <td>12.282</td>\n",
       "      <td>8.376</td>\n",
       "    </tr>\n",
       "    <tr>\n",
       "      <th>6</th>\n",
       "      <td>^GSPTSE</td>\n",
       "      <td>GSPTSE (CAN)</td>\n",
       "      <td>6.149</td>\n",
       "      <td>19.752</td>\n",
       "      <td>8.724</td>\n",
       "      <td>10.790</td>\n",
       "      <td>5.957</td>\n",
       "      <td>5.735</td>\n",
       "      <td>5.105</td>\n",
       "    </tr>\n",
       "    <tr>\n",
       "      <th>7</th>\n",
       "      <td>^HSI</td>\n",
       "      <td>HSI (HKG)</td>\n",
       "      <td>21.246</td>\n",
       "      <td>30.898</td>\n",
       "      <td>2.949</td>\n",
       "      <td>-1.025</td>\n",
       "      <td>-1.142</td>\n",
       "      <td>1.289</td>\n",
       "      <td>2.711</td>\n",
       "    </tr>\n",
       "    <tr>\n",
       "      <th>8</th>\n",
       "      <td>^MXX</td>\n",
       "      <td>MXX (MEX)</td>\n",
       "      <td>16.671</td>\n",
       "      <td>9.297</td>\n",
       "      <td>5.611</td>\n",
       "      <td>8.181</td>\n",
       "      <td>2.691</td>\n",
       "      <td>4.225</td>\n",
       "      <td>7.677</td>\n",
       "    </tr>\n",
       "    <tr>\n",
       "      <th>9</th>\n",
       "      <td>^N225</td>\n",
       "      <td>N225 (JPN)</td>\n",
       "      <td>-3.983</td>\n",
       "      <td>-3.321</td>\n",
       "      <td>10.696</td>\n",
       "      <td>10.293</td>\n",
       "      <td>6.532</td>\n",
       "      <td>9.600</td>\n",
       "      <td>6.213</td>\n",
       "    </tr>\n",
       "    <tr>\n",
       "      <th>10</th>\n",
       "      <td>^NSEI</td>\n",
       "      <td>NSEI (IND)</td>\n",
       "      <td>5.307</td>\n",
       "      <td>7.497</td>\n",
       "      <td>14.911</td>\n",
       "      <td>20.004</td>\n",
       "      <td>12.039</td>\n",
       "      <td>11.327</td>\n",
       "      <td>8.959</td>\n",
       "    </tr>\n",
       "  </tbody>\n",
       "</table>\n",
       "</div>"
      ],
      "text/plain": [
       "       Ticker Ticker (Country)     YTD      1Y      3Y      5Y     10Y  \\\n",
       "0   000001.SS        SSE (CHN)   3.764  11.800   1.010   2.835  -4.026   \n",
       "1       ^AXJO       AXJO (AUS)   3.835   9.803   7.099   6.731   4.509   \n",
       "2       ^BVSP       BVSP (BRA)  13.300  12.705   8.318   7.064   9.928   \n",
       "3       ^FTSE       FTSE (GBR)   6.995   7.406   5.736   6.884   2.726   \n",
       "4      ^GDAXI      GDAXI (DEU)  21.373  31.412  19.622  14.009   8.249   \n",
       "5       ^GSPC       GSPC (USA)   2.246  11.931  14.304  13.347  11.175   \n",
       "6     ^GSPTSE     GSPTSE (CAN)   6.149  19.752   8.724  10.790   5.957   \n",
       "7        ^HSI        HSI (HKG)  21.246  30.898   2.949  -1.025  -1.142   \n",
       "8        ^MXX        MXX (MEX)  16.671   9.297   5.611   8.181   2.691   \n",
       "9       ^N225       N225 (JPN)  -3.983  -3.321  10.696  10.293   6.532   \n",
       "10      ^NSEI       NSEI (IND)   5.307   7.497  14.911  20.004  12.039   \n",
       "\n",
       "       15Y    20Y  \n",
       "0    1.874  5.742  \n",
       "1    4.445  3.571  \n",
       "2    5.441  8.955  \n",
       "3    3.753  2.880  \n",
       "4    9.793  8.723  \n",
       "5   12.282  8.376  \n",
       "6    5.735  5.105  \n",
       "7    1.289  2.711  \n",
       "8    4.225  7.677  \n",
       "9    9.600  6.213  \n",
       "10  11.327  8.959  "
      ]
     },
     "execution_count": 13,
     "metadata": {},
     "output_type": "execute_result"
    }
   ],
   "source": [
    "returns['Ticker (Country)'] = returns['Ticker'].map(map_country)\n",
    "returns = returns[['Ticker', 'Ticker (Country)', 'YTD Return', '1Y', '3Y', '5Y', '10Y', '15Y', '20Y']]\n",
    "returns = returns.rename(columns={'YTD Return': 'YTD'})\n",
    "returns"
   ]
  },
  {
   "cell_type": "code",
   "execution_count": 14,
   "id": "e97df6c2",
   "metadata": {},
   "outputs": [
    {
     "data": {
      "text/html": [
       "<div>\n",
       "<style scoped>\n",
       "    .dataframe tbody tr th:only-of-type {\n",
       "        vertical-align: middle;\n",
       "    }\n",
       "\n",
       "    .dataframe tbody tr th {\n",
       "        vertical-align: top;\n",
       "    }\n",
       "\n",
       "    .dataframe thead th {\n",
       "        text-align: right;\n",
       "    }\n",
       "</style>\n",
       "<table border=\"1\" class=\"dataframe\">\n",
       "  <thead>\n",
       "    <tr style=\"text-align: right;\">\n",
       "      <th></th>\n",
       "      <th>Ticker (Country)</th>\n",
       "      <th>Period</th>\n",
       "      <th>Returns</th>\n",
       "    </tr>\n",
       "  </thead>\n",
       "  <tbody>\n",
       "    <tr>\n",
       "      <th>0</th>\n",
       "      <td>SSE (CHN)</td>\n",
       "      <td>YTD</td>\n",
       "      <td>3.764</td>\n",
       "    </tr>\n",
       "    <tr>\n",
       "      <th>1</th>\n",
       "      <td>AXJO (AUS)</td>\n",
       "      <td>YTD</td>\n",
       "      <td>3.835</td>\n",
       "    </tr>\n",
       "    <tr>\n",
       "      <th>2</th>\n",
       "      <td>BVSP (BRA)</td>\n",
       "      <td>YTD</td>\n",
       "      <td>13.300</td>\n",
       "    </tr>\n",
       "    <tr>\n",
       "      <th>3</th>\n",
       "      <td>FTSE (GBR)</td>\n",
       "      <td>YTD</td>\n",
       "      <td>6.995</td>\n",
       "    </tr>\n",
       "    <tr>\n",
       "      <th>4</th>\n",
       "      <td>GDAXI (DEU)</td>\n",
       "      <td>YTD</td>\n",
       "      <td>21.373</td>\n",
       "    </tr>\n",
       "    <tr>\n",
       "      <th>...</th>\n",
       "      <td>...</td>\n",
       "      <td>...</td>\n",
       "      <td>...</td>\n",
       "    </tr>\n",
       "    <tr>\n",
       "      <th>72</th>\n",
       "      <td>GSPTSE (CAN)</td>\n",
       "      <td>20Y</td>\n",
       "      <td>5.105</td>\n",
       "    </tr>\n",
       "    <tr>\n",
       "      <th>73</th>\n",
       "      <td>HSI (HKG)</td>\n",
       "      <td>20Y</td>\n",
       "      <td>2.711</td>\n",
       "    </tr>\n",
       "    <tr>\n",
       "      <th>74</th>\n",
       "      <td>MXX (MEX)</td>\n",
       "      <td>20Y</td>\n",
       "      <td>7.677</td>\n",
       "    </tr>\n",
       "    <tr>\n",
       "      <th>75</th>\n",
       "      <td>N225 (JPN)</td>\n",
       "      <td>20Y</td>\n",
       "      <td>6.213</td>\n",
       "    </tr>\n",
       "    <tr>\n",
       "      <th>76</th>\n",
       "      <td>NSEI (IND)</td>\n",
       "      <td>20Y</td>\n",
       "      <td>8.959</td>\n",
       "    </tr>\n",
       "  </tbody>\n",
       "</table>\n",
       "<p>77 rows × 3 columns</p>\n",
       "</div>"
      ],
      "text/plain": [
       "   Ticker (Country) Period  Returns\n",
       "0         SSE (CHN)    YTD    3.764\n",
       "1        AXJO (AUS)    YTD    3.835\n",
       "2        BVSP (BRA)    YTD   13.300\n",
       "3        FTSE (GBR)    YTD    6.995\n",
       "4       GDAXI (DEU)    YTD   21.373\n",
       "..              ...    ...      ...\n",
       "72     GSPTSE (CAN)    20Y    5.105\n",
       "73        HSI (HKG)    20Y    2.711\n",
       "74        MXX (MEX)    20Y    7.677\n",
       "75       N225 (JPN)    20Y    6.213\n",
       "76       NSEI (IND)    20Y    8.959\n",
       "\n",
       "[77 rows x 3 columns]"
      ]
     },
     "execution_count": 14,
     "metadata": {},
     "output_type": "execute_result"
    }
   ],
   "source": [
    "returns_long = pd.melt(\n",
    "    returns, id_vars='Ticker (Country)', value_vars=['YTD', '1Y', '3Y', '5Y', '10Y', '15Y', '20Y'],\n",
    "    value_name='Returns', var_name='Period'\n",
    ")\n",
    "returns_long"
   ]
  },
  {
   "cell_type": "code",
   "execution_count": null,
   "id": "2a9043fd",
   "metadata": {},
   "outputs": [
    {
     "data": {
      "application/vnd.plotly.v1+json": {
       "config": {
        "plotlyServerURL": "https://plot.ly"
       },
       "data": [
        {
         "hovertemplate": "Ticker (Country)=SSE (CHN)<br>Period=%{x}<br>Returns=%{y}<extra></extra>",
         "legendgroup": "SSE (CHN)",
         "line": {
          "color": "#ff7f0e",
          "dash": "solid"
         },
         "marker": {
          "symbol": "circle"
         },
         "mode": "lines+markers",
         "name": "SSE (CHN)",
         "orientation": "v",
         "showlegend": true,
         "type": "scatter",
         "x": [
          "YTD",
          "1Y",
          "3Y",
          "5Y",
          "10Y",
          "15Y",
          "20Y"
         ],
         "xaxis": "x",
         "y": {
          "bdata": "6SYxCKwcDkCamZmZmZknQClcj8L1KPA/rkfhehSuBkC0yHa+nxoQwJZDi2zn+/0/K4cW2c73FkA=",
          "dtype": "f8"
         },
         "yaxis": "y"
        },
        {
         "hovertemplate": "Ticker (Country)=AXJO (AUS)<br>Period=%{x}<br>Returns=%{y}<extra></extra>",
         "legendgroup": "AXJO (AUS)",
         "line": {
          "color": "#d62728",
          "dash": "solid"
         },
         "marker": {
          "symbol": "circle"
         },
         "mode": "lines+markers",
         "name": "AXJO (AUS)",
         "orientation": "v",
         "showlegend": true,
         "type": "scatter",
         "x": [
          "YTD",
          "1Y",
          "3Y",
          "5Y",
          "10Y",
          "15Y",
          "20Y"
         ],
         "xaxis": "x",
         "y": {
          "bdata": "rkfhehSuDkBCYOXQIpsjQEw3iUFgZRxABoGVQ4vsGkDwp8ZLNwkSQEjhehSuxxFAxSCwcmiRDEA=",
          "dtype": "f8"
         },
         "yaxis": "y"
        },
        {
         "hovertemplate": "Ticker (Country)=BVSP (BRA)<br>Period=%{x}<br>Returns=%{y}<extra></extra>",
         "legendgroup": "BVSP (BRA)",
         "line": {
          "color": "#1f4e1f",
          "dash": "solid"
         },
         "marker": {
          "symbol": "circle"
         },
         "mode": "lines+markers",
         "name": "BVSP (BRA)",
         "orientation": "v",
         "showlegend": true,
         "type": "scatter",
         "x": [
          "YTD",
          "1Y",
          "3Y",
          "5Y",
          "10Y",
          "15Y",
          "20Y"
         ],
         "xaxis": "x",
         "y": {
          "bdata": "mpmZmZmZKkApXI/C9WgpQIlBYOXQoiBAqMZLN4lBHEBCYOXQItsjQN0kBoGVwxVAKVyPwvXoIUA=",
          "dtype": "f8"
         },
         "yaxis": "y"
        },
        {
         "hovertemplate": "Ticker (Country)=FTSE (GBR)<br>Period=%{x}<br>Returns=%{y}<extra></extra>",
         "legendgroup": "FTSE (GBR)",
         "line": {
          "color": "#7f7f7f",
          "dash": "solid"
         },
         "marker": {
          "symbol": "circle"
         },
         "mode": "lines+markers",
         "name": "FTSE (GBR)",
         "orientation": "v",
         "showlegend": true,
         "type": "scatter",
         "x": [
          "YTD",
          "1Y",
          "3Y",
          "5Y",
          "10Y",
          "15Y",
          "20Y"
         ],
         "xaxis": "x",
         "y": {
          "bdata": "exSuR+H6G0A5tMh2vp8dQIts5/up8RZA8KfGSzeJG0ACK4cW2c4FQKAaL90kBg5ACtejcD0KB0A=",
          "dtype": "f8"
         },
         "yaxis": "y"
        },
        {
         "hovertemplate": "Ticker (Country)=GDAXI (DEU)<br>Period=%{x}<br>Returns=%{y}<extra></extra>",
         "legendgroup": "GDAXI (DEU)",
         "line": {
          "color": "#e377c2",
          "dash": "solid"
         },
         "marker": {
          "symbol": "circle"
         },
         "mode": "lines+markers",
         "name": "GDAXI (DEU)",
         "orientation": "v",
         "showlegend": true,
         "type": "scatter",
         "x": [
          "YTD",
          "1Y",
          "3Y",
          "5Y",
          "10Y",
          "15Y",
          "20Y"
         ],
         "xaxis": "x",
         "y": {
          "bdata": "c2iR7XxfNUC28/3UeGk/QKwcWmQ7nzNA+FPjpZsELEBzaJHtfH8gQLx0kxgEliNAGQRWDi1yIUA=",
          "dtype": "f8"
         },
         "yaxis": "y"
        },
        {
         "hovertemplate": "Ticker (Country)=GSPC (USA)<br>Period=%{x}<br>Returns=%{y}<extra></extra>",
         "legendgroup": "GSPC (USA)",
         "line": {
          "color": "#1f77b4",
          "dash": "solid"
         },
         "marker": {
          "symbol": "circle"
         },
         "mode": "lines+markers",
         "name": "GSPC (USA)",
         "orientation": "v",
         "showlegend": true,
         "type": "scatter",
         "x": [
          "YTD",
          "1Y",
          "3Y",
          "5Y",
          "10Y",
          "15Y",
          "20Y"
         ],
         "xaxis": "x",
         "y": {
          "bdata": "K4cW2c73AUDpJjEIrNwnQM/3U+OlmyxAi2zn+6mxKkCamZmZmVkmQKrx0k1ikChAjZduEoPAIEA=",
          "dtype": "f8"
         },
         "yaxis": "y"
        },
        {
         "hovertemplate": "Ticker (Country)=GSPTSE (CAN)<br>Period=%{x}<br>Returns=%{y}<extra></extra>",
         "legendgroup": "GSPTSE (CAN)",
         "line": {
          "color": "#8c564b",
          "dash": "solid"
         },
         "marker": {
          "symbol": "circle"
         },
         "mode": "lines+markers",
         "name": "GSPTSE (CAN)",
         "orientation": "v",
         "showlegend": true,
         "type": "scatter",
         "x": [
          "YTD",
          "1Y",
          "3Y",
          "5Y",
          "10Y",
          "15Y",
          "20Y"
         ],
         "xaxis": "x",
         "y": {
          "bdata": "f2q8dJOYGECNl24Sg8AzQKabxCCwciFAFK5H4XqUJUCHFtnO99MXQHE9Ctej8BZA7FG4HoVrFEA=",
          "dtype": "f8"
         },
         "yaxis": "y"
        },
        {
         "hovertemplate": "Ticker (Country)=HSI (HKG)<br>Period=%{x}<br>Returns=%{y}<extra></extra>",
         "legendgroup": "HSI (HKG)",
         "line": {
          "color": "#2ca02c",
          "dash": "solid"
         },
         "marker": {
          "symbol": "circle"
         },
         "mode": "lines+markers",
         "name": "HSI (HKG)",
         "orientation": "v",
         "showlegend": true,
         "type": "scatter",
         "x": [
          "YTD",
          "1Y",
          "3Y",
          "5Y",
          "10Y",
          "15Y",
          "20Y"
         ],
         "xaxis": "x",
         "y": {
          "bdata": "5dAi2/k+NUDZzvdT4+U+QGQ730+NlwdAZmZmZmZm8L8Sg8DKoUXyvzm0yHa+n/Q/46WbxCCwBUA=",
          "dtype": "f8"
         },
         "yaxis": "y"
        },
        {
         "hovertemplate": "Ticker (Country)=MXX (MEX)<br>Period=%{x}<br>Returns=%{y}<extra></extra>",
         "legendgroup": "MXX (MEX)",
         "line": {
          "color": "#17becf",
          "dash": "solid"
         },
         "marker": {
          "symbol": "circle"
         },
         "mode": "lines+markers",
         "name": "MXX (MEX)",
         "orientation": "v",
         "showlegend": true,
         "type": "scatter",
         "x": [
          "YTD",
          "1Y",
          "3Y",
          "5Y",
          "10Y",
          "15Y",
          "20Y"
         ],
         "xaxis": "x",
         "y": {
          "bdata": "sp3vp8arMEDy0k1iEJgiQIts5/upcRZA6SYxCKxcIEC6SQwCK4cFQGZmZmZm5hBAaJHtfD+1HkA=",
          "dtype": "f8"
         },
         "yaxis": "y"
        },
        {
         "hovertemplate": "Ticker (Country)=N225 (JPN)<br>Period=%{x}<br>Returns=%{y}<extra></extra>",
         "legendgroup": "N225 (JPN)",
         "line": {
          "color": "#bcbd22",
          "dash": "solid"
         },
         "marker": {
          "symbol": "circle"
         },
         "mode": "lines+markers",
         "name": "N225 (JPN)",
         "orientation": "v",
         "showlegend": true,
         "type": "scatter",
         "x": [
          "YTD",
          "1Y",
          "3Y",
          "5Y",
          "10Y",
          "15Y",
          "20Y"
         ],
         "xaxis": "x",
         "y": {
          "bdata": "d76fGi/dD8DFILByaJEKwDEIrBxaZCVAvHSTGASWJEBU46WbxCAaQDMzMzMzMyNAJzEIrBzaGEA=",
          "dtype": "f8"
         },
         "yaxis": "y"
        },
        {
         "hovertemplate": "Ticker (Country)=NSEI (IND)<br>Period=%{x}<br>Returns=%{y}<extra></extra>",
         "legendgroup": "NSEI (IND)",
         "line": {
          "color": "#9467bd",
          "dash": "solid"
         },
         "marker": {
          "symbol": "circle"
         },
         "mode": "lines+markers",
         "name": "NSEI (IND)",
         "orientation": "v",
         "showlegend": true,
         "type": "scatter",
         "x": [
          "YTD",
          "1Y",
          "3Y",
          "5Y",
          "10Y",
          "15Y",
          "20Y"
         ],
         "xaxis": "x",
         "y": {
          "bdata": "7nw/NV46FUCwcmiR7fwdQN9PjZdu0i1AGy/dJAYBNECHFtnO9xMoQIGVQ4tspyZAXrpJDALrIUA=",
          "dtype": "f8"
         },
         "yaxis": "y"
        }
       ],
       "layout": {
        "legend": {
         "title": {
          "text": "Ticker (Country)"
         },
         "tracegroupgap": 0
        },
        "template": {
         "data": {
          "bar": [
           {
            "error_x": {
             "color": "#2a3f5f"
            },
            "error_y": {
             "color": "#2a3f5f"
            },
            "marker": {
             "line": {
              "color": "#E5ECF6",
              "width": 0.5
             },
             "pattern": {
              "fillmode": "overlay",
              "size": 10,
              "solidity": 0.2
             }
            },
            "type": "bar"
           }
          ],
          "barpolar": [
           {
            "marker": {
             "line": {
              "color": "#E5ECF6",
              "width": 0.5
             },
             "pattern": {
              "fillmode": "overlay",
              "size": 10,
              "solidity": 0.2
             }
            },
            "type": "barpolar"
           }
          ],
          "carpet": [
           {
            "aaxis": {
             "endlinecolor": "#2a3f5f",
             "gridcolor": "white",
             "linecolor": "white",
             "minorgridcolor": "white",
             "startlinecolor": "#2a3f5f"
            },
            "baxis": {
             "endlinecolor": "#2a3f5f",
             "gridcolor": "white",
             "linecolor": "white",
             "minorgridcolor": "white",
             "startlinecolor": "#2a3f5f"
            },
            "type": "carpet"
           }
          ],
          "choropleth": [
           {
            "colorbar": {
             "outlinewidth": 0,
             "ticks": ""
            },
            "type": "choropleth"
           }
          ],
          "contour": [
           {
            "colorbar": {
             "outlinewidth": 0,
             "ticks": ""
            },
            "colorscale": [
             [
              0,
              "#0d0887"
             ],
             [
              0.1111111111111111,
              "#46039f"
             ],
             [
              0.2222222222222222,
              "#7201a8"
             ],
             [
              0.3333333333333333,
              "#9c179e"
             ],
             [
              0.4444444444444444,
              "#bd3786"
             ],
             [
              0.5555555555555556,
              "#d8576b"
             ],
             [
              0.6666666666666666,
              "#ed7953"
             ],
             [
              0.7777777777777778,
              "#fb9f3a"
             ],
             [
              0.8888888888888888,
              "#fdca26"
             ],
             [
              1,
              "#f0f921"
             ]
            ],
            "type": "contour"
           }
          ],
          "contourcarpet": [
           {
            "colorbar": {
             "outlinewidth": 0,
             "ticks": ""
            },
            "type": "contourcarpet"
           }
          ],
          "heatmap": [
           {
            "colorbar": {
             "outlinewidth": 0,
             "ticks": ""
            },
            "colorscale": [
             [
              0,
              "#0d0887"
             ],
             [
              0.1111111111111111,
              "#46039f"
             ],
             [
              0.2222222222222222,
              "#7201a8"
             ],
             [
              0.3333333333333333,
              "#9c179e"
             ],
             [
              0.4444444444444444,
              "#bd3786"
             ],
             [
              0.5555555555555556,
              "#d8576b"
             ],
             [
              0.6666666666666666,
              "#ed7953"
             ],
             [
              0.7777777777777778,
              "#fb9f3a"
             ],
             [
              0.8888888888888888,
              "#fdca26"
             ],
             [
              1,
              "#f0f921"
             ]
            ],
            "type": "heatmap"
           }
          ],
          "histogram": [
           {
            "marker": {
             "pattern": {
              "fillmode": "overlay",
              "size": 10,
              "solidity": 0.2
             }
            },
            "type": "histogram"
           }
          ],
          "histogram2d": [
           {
            "colorbar": {
             "outlinewidth": 0,
             "ticks": ""
            },
            "colorscale": [
             [
              0,
              "#0d0887"
             ],
             [
              0.1111111111111111,
              "#46039f"
             ],
             [
              0.2222222222222222,
              "#7201a8"
             ],
             [
              0.3333333333333333,
              "#9c179e"
             ],
             [
              0.4444444444444444,
              "#bd3786"
             ],
             [
              0.5555555555555556,
              "#d8576b"
             ],
             [
              0.6666666666666666,
              "#ed7953"
             ],
             [
              0.7777777777777778,
              "#fb9f3a"
             ],
             [
              0.8888888888888888,
              "#fdca26"
             ],
             [
              1,
              "#f0f921"
             ]
            ],
            "type": "histogram2d"
           }
          ],
          "histogram2dcontour": [
           {
            "colorbar": {
             "outlinewidth": 0,
             "ticks": ""
            },
            "colorscale": [
             [
              0,
              "#0d0887"
             ],
             [
              0.1111111111111111,
              "#46039f"
             ],
             [
              0.2222222222222222,
              "#7201a8"
             ],
             [
              0.3333333333333333,
              "#9c179e"
             ],
             [
              0.4444444444444444,
              "#bd3786"
             ],
             [
              0.5555555555555556,
              "#d8576b"
             ],
             [
              0.6666666666666666,
              "#ed7953"
             ],
             [
              0.7777777777777778,
              "#fb9f3a"
             ],
             [
              0.8888888888888888,
              "#fdca26"
             ],
             [
              1,
              "#f0f921"
             ]
            ],
            "type": "histogram2dcontour"
           }
          ],
          "mesh3d": [
           {
            "colorbar": {
             "outlinewidth": 0,
             "ticks": ""
            },
            "type": "mesh3d"
           }
          ],
          "parcoords": [
           {
            "line": {
             "colorbar": {
              "outlinewidth": 0,
              "ticks": ""
             }
            },
            "type": "parcoords"
           }
          ],
          "pie": [
           {
            "automargin": true,
            "type": "pie"
           }
          ],
          "scatter": [
           {
            "fillpattern": {
             "fillmode": "overlay",
             "size": 10,
             "solidity": 0.2
            },
            "type": "scatter"
           }
          ],
          "scatter3d": [
           {
            "line": {
             "colorbar": {
              "outlinewidth": 0,
              "ticks": ""
             }
            },
            "marker": {
             "colorbar": {
              "outlinewidth": 0,
              "ticks": ""
             }
            },
            "type": "scatter3d"
           }
          ],
          "scattercarpet": [
           {
            "marker": {
             "colorbar": {
              "outlinewidth": 0,
              "ticks": ""
             }
            },
            "type": "scattercarpet"
           }
          ],
          "scattergeo": [
           {
            "marker": {
             "colorbar": {
              "outlinewidth": 0,
              "ticks": ""
             }
            },
            "type": "scattergeo"
           }
          ],
          "scattergl": [
           {
            "marker": {
             "colorbar": {
              "outlinewidth": 0,
              "ticks": ""
             }
            },
            "type": "scattergl"
           }
          ],
          "scattermap": [
           {
            "marker": {
             "colorbar": {
              "outlinewidth": 0,
              "ticks": ""
             }
            },
            "type": "scattermap"
           }
          ],
          "scattermapbox": [
           {
            "marker": {
             "colorbar": {
              "outlinewidth": 0,
              "ticks": ""
             }
            },
            "type": "scattermapbox"
           }
          ],
          "scatterpolar": [
           {
            "marker": {
             "colorbar": {
              "outlinewidth": 0,
              "ticks": ""
             }
            },
            "type": "scatterpolar"
           }
          ],
          "scatterpolargl": [
           {
            "marker": {
             "colorbar": {
              "outlinewidth": 0,
              "ticks": ""
             }
            },
            "type": "scatterpolargl"
           }
          ],
          "scatterternary": [
           {
            "marker": {
             "colorbar": {
              "outlinewidth": 0,
              "ticks": ""
             }
            },
            "type": "scatterternary"
           }
          ],
          "surface": [
           {
            "colorbar": {
             "outlinewidth": 0,
             "ticks": ""
            },
            "colorscale": [
             [
              0,
              "#0d0887"
             ],
             [
              0.1111111111111111,
              "#46039f"
             ],
             [
              0.2222222222222222,
              "#7201a8"
             ],
             [
              0.3333333333333333,
              "#9c179e"
             ],
             [
              0.4444444444444444,
              "#bd3786"
             ],
             [
              0.5555555555555556,
              "#d8576b"
             ],
             [
              0.6666666666666666,
              "#ed7953"
             ],
             [
              0.7777777777777778,
              "#fb9f3a"
             ],
             [
              0.8888888888888888,
              "#fdca26"
             ],
             [
              1,
              "#f0f921"
             ]
            ],
            "type": "surface"
           }
          ],
          "table": [
           {
            "cells": {
             "fill": {
              "color": "#EBF0F8"
             },
             "line": {
              "color": "white"
             }
            },
            "header": {
             "fill": {
              "color": "#C8D4E3"
             },
             "line": {
              "color": "white"
             }
            },
            "type": "table"
           }
          ]
         },
         "layout": {
          "annotationdefaults": {
           "arrowcolor": "#2a3f5f",
           "arrowhead": 0,
           "arrowwidth": 1
          },
          "autotypenumbers": "strict",
          "coloraxis": {
           "colorbar": {
            "outlinewidth": 0,
            "ticks": ""
           }
          },
          "colorscale": {
           "diverging": [
            [
             0,
             "#8e0152"
            ],
            [
             0.1,
             "#c51b7d"
            ],
            [
             0.2,
             "#de77ae"
            ],
            [
             0.3,
             "#f1b6da"
            ],
            [
             0.4,
             "#fde0ef"
            ],
            [
             0.5,
             "#f7f7f7"
            ],
            [
             0.6,
             "#e6f5d0"
            ],
            [
             0.7,
             "#b8e186"
            ],
            [
             0.8,
             "#7fbc41"
            ],
            [
             0.9,
             "#4d9221"
            ],
            [
             1,
             "#276419"
            ]
           ],
           "sequential": [
            [
             0,
             "#0d0887"
            ],
            [
             0.1111111111111111,
             "#46039f"
            ],
            [
             0.2222222222222222,
             "#7201a8"
            ],
            [
             0.3333333333333333,
             "#9c179e"
            ],
            [
             0.4444444444444444,
             "#bd3786"
            ],
            [
             0.5555555555555556,
             "#d8576b"
            ],
            [
             0.6666666666666666,
             "#ed7953"
            ],
            [
             0.7777777777777778,
             "#fb9f3a"
            ],
            [
             0.8888888888888888,
             "#fdca26"
            ],
            [
             1,
             "#f0f921"
            ]
           ],
           "sequentialminus": [
            [
             0,
             "#0d0887"
            ],
            [
             0.1111111111111111,
             "#46039f"
            ],
            [
             0.2222222222222222,
             "#7201a8"
            ],
            [
             0.3333333333333333,
             "#9c179e"
            ],
            [
             0.4444444444444444,
             "#bd3786"
            ],
            [
             0.5555555555555556,
             "#d8576b"
            ],
            [
             0.6666666666666666,
             "#ed7953"
            ],
            [
             0.7777777777777778,
             "#fb9f3a"
            ],
            [
             0.8888888888888888,
             "#fdca26"
            ],
            [
             1,
             "#f0f921"
            ]
           ]
          },
          "colorway": [
           "#636efa",
           "#EF553B",
           "#00cc96",
           "#ab63fa",
           "#FFA15A",
           "#19d3f3",
           "#FF6692",
           "#B6E880",
           "#FF97FF",
           "#FECB52"
          ],
          "font": {
           "color": "#2a3f5f"
          },
          "geo": {
           "bgcolor": "white",
           "lakecolor": "white",
           "landcolor": "#E5ECF6",
           "showlakes": true,
           "showland": true,
           "subunitcolor": "white"
          },
          "hoverlabel": {
           "align": "left"
          },
          "hovermode": "closest",
          "mapbox": {
           "style": "light"
          },
          "paper_bgcolor": "white",
          "plot_bgcolor": "#E5ECF6",
          "polar": {
           "angularaxis": {
            "gridcolor": "white",
            "linecolor": "white",
            "ticks": ""
           },
           "bgcolor": "#E5ECF6",
           "radialaxis": {
            "gridcolor": "white",
            "linecolor": "white",
            "ticks": ""
           }
          },
          "scene": {
           "xaxis": {
            "backgroundcolor": "#E5ECF6",
            "gridcolor": "white",
            "gridwidth": 2,
            "linecolor": "white",
            "showbackground": true,
            "ticks": "",
            "zerolinecolor": "white"
           },
           "yaxis": {
            "backgroundcolor": "#E5ECF6",
            "gridcolor": "white",
            "gridwidth": 2,
            "linecolor": "white",
            "showbackground": true,
            "ticks": "",
            "zerolinecolor": "white"
           },
           "zaxis": {
            "backgroundcolor": "#E5ECF6",
            "gridcolor": "white",
            "gridwidth": 2,
            "linecolor": "white",
            "showbackground": true,
            "ticks": "",
            "zerolinecolor": "white"
           }
          },
          "shapedefaults": {
           "line": {
            "color": "#2a3f5f"
           }
          },
          "ternary": {
           "aaxis": {
            "gridcolor": "white",
            "linecolor": "white",
            "ticks": ""
           },
           "baxis": {
            "gridcolor": "white",
            "linecolor": "white",
            "ticks": ""
           },
           "bgcolor": "#E5ECF6",
           "caxis": {
            "gridcolor": "white",
            "linecolor": "white",
            "ticks": ""
           }
          },
          "title": {
           "x": 0.05
          },
          "xaxis": {
           "automargin": true,
           "gridcolor": "white",
           "linecolor": "white",
           "ticks": "",
           "title": {
            "standoff": 15
           },
           "zerolinecolor": "white",
           "zerolinewidth": 2
          },
          "yaxis": {
           "automargin": true,
           "gridcolor": "white",
           "linecolor": "white",
           "ticks": "",
           "title": {
            "standoff": 15
           },
           "zerolinecolor": "white",
           "zerolinewidth": 2
          }
         }
        },
        "title": {
         "text": "Returns of Major Global Indices (2015-2025)"
        },
        "xaxis": {
         "anchor": "y",
         "domain": [
          0,
          1
         ],
         "title": {
          "text": "Period"
         }
        },
        "yaxis": {
         "anchor": "x",
         "domain": [
          0,
          1
         ],
         "title": {
          "text": "Returns (%)"
         }
        }
       }
      }
     },
     "metadata": {},
     "output_type": "display_data"
    }
   ],
   "source": [
    "# Create a line chart of cagr returns for major global indices over 3 years, 5 years, and 10 years using plotly\n",
    "fig_returns = px.line(returns_long, x='Period', y='Returns', color='Ticker (Country)', color_discrete_map=color_map_countries,\n",
    "                   markers='Ticker', title='Returns of Major Global Indices (2015-2025)',\n",
    "                   )\n",
    "fig_returns.update_layout(xaxis_title='Period', yaxis_title='Returns (%)',\n",
    "                       legend_title_text='Ticker (Country)')\n",
    "fig_returns.show()"
   ]
  }
 ],
 "metadata": {
  "kernelspec": {
   "display_name": "stock-market-zoomcamp",
   "language": "python",
   "name": "python3"
  },
  "language_info": {
   "codemirror_mode": {
    "name": "ipython",
    "version": 3
   },
   "file_extension": ".py",
   "mimetype": "text/x-python",
   "name": "python",
   "nbconvert_exporter": "python",
   "pygments_lexer": "ipython3",
   "version": "3.11.11"
  }
 },
 "nbformat": 4,
 "nbformat_minor": 5
}
