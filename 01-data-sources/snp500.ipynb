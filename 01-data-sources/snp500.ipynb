{
 "cells": [
  {
   "cell_type": "code",
   "execution_count": 24,
   "id": "e053a3bb",
   "metadata": {},
   "outputs": [],
   "source": [
    "import pandas as pd\n",
    "from datetime import date\n",
    "import plotly.express as px\n",
    "from utilities import color_map"
   ]
  },
  {
   "cell_type": "markdown",
   "id": "6a7d618b",
   "metadata": {},
   "source": [
    "# S&P 500\n",
    "- S&P 500 is a US-based stock market index that dates back to 1957. The index tracks the value of 503 US-registered companies. Although ~500 does not even scrap the surface of the total number of publicly traded companies in the US, the companies listed in the S&P 500 index account for roughly 80% of the total US market capitalization; hence how the performance of these companies has a significant affect on the US economy.\n",
    "- Tickers are abbreviations that link back to a given company."
   ]
  },
  {
   "cell_type": "code",
   "execution_count": 128,
   "id": "2f563eb4",
   "metadata": {},
   "outputs": [
    {
     "data": {
      "text/html": [
       "<div>\n",
       "<style scoped>\n",
       "    .dataframe tbody tr th:only-of-type {\n",
       "        vertical-align: middle;\n",
       "    }\n",
       "\n",
       "    .dataframe tbody tr th {\n",
       "        vertical-align: top;\n",
       "    }\n",
       "\n",
       "    .dataframe thead th {\n",
       "        text-align: right;\n",
       "    }\n",
       "</style>\n",
       "<table border=\"1\" class=\"dataframe\">\n",
       "  <thead>\n",
       "    <tr style=\"text-align: right;\">\n",
       "      <th></th>\n",
       "      <th>Ticker</th>\n",
       "      <th>Sector</th>\n",
       "      <th>MarketCap</th>\n",
       "      <th>Security</th>\n",
       "      <th>GICS Sector</th>\n",
       "      <th>GICS Sub-Industry</th>\n",
       "      <th>Headquarters Location</th>\n",
       "      <th>Date added</th>\n",
       "      <th>CIK</th>\n",
       "      <th>Founded</th>\n",
       "      <th>Year_Added</th>\n",
       "    </tr>\n",
       "  </thead>\n",
       "  <tbody>\n",
       "    <tr>\n",
       "      <th>0</th>\n",
       "      <td>MMM</td>\n",
       "      <td>Industrials</td>\n",
       "      <td>7.871449e+10</td>\n",
       "      <td>3M</td>\n",
       "      <td>Industrials</td>\n",
       "      <td>Industrial Conglomerates</td>\n",
       "      <td>Saint Paul, Minnesota</td>\n",
       "      <td>1957-03-04</td>\n",
       "      <td>66740</td>\n",
       "      <td>1902</td>\n",
       "      <td>1957</td>\n",
       "    </tr>\n",
       "    <tr>\n",
       "      <th>1</th>\n",
       "      <td>AOS</td>\n",
       "      <td>Industrials</td>\n",
       "      <td>9.143292e+09</td>\n",
       "      <td>A. O. Smith</td>\n",
       "      <td>Industrials</td>\n",
       "      <td>Building Products</td>\n",
       "      <td>Milwaukee, Wisconsin</td>\n",
       "      <td>2017-07-26</td>\n",
       "      <td>91142</td>\n",
       "      <td>1916</td>\n",
       "      <td>2017</td>\n",
       "    </tr>\n",
       "    <tr>\n",
       "      <th>2</th>\n",
       "      <td>ABT</td>\n",
       "      <td>Healthcare</td>\n",
       "      <td>2.330343e+11</td>\n",
       "      <td>Abbott Laboratories</td>\n",
       "      <td>Health Care</td>\n",
       "      <td>Health Care Equipment</td>\n",
       "      <td>North Chicago, Illinois</td>\n",
       "      <td>1957-03-04</td>\n",
       "      <td>1800</td>\n",
       "      <td>1888</td>\n",
       "      <td>1957</td>\n",
       "    </tr>\n",
       "  </tbody>\n",
       "</table>\n",
       "</div>"
      ],
      "text/plain": [
       "  Ticker       Sector     MarketCap  ...    CIK Founded Year_Added\n",
       "0    MMM  Industrials  7.871449e+10  ...  66740    1902       1957\n",
       "1    AOS  Industrials  9.143292e+09  ...  91142    1916       2017\n",
       "2    ABT   Healthcare  2.330343e+11  ...   1800    1888       1957\n",
       "\n",
       "[3 rows x 11 columns]"
      ]
     },
     "execution_count": 128,
     "metadata": {},
     "output_type": "execute_result"
    }
   ],
   "source": [
    "# url = 'https://en.wikipedia.org/wiki/List_of_S%26P_500_companies'\n",
    "\n",
    "# # Read the table from the Wikipedia page\n",
    "# tables = pd.read_html(url, header=0)\n",
    "# df = tables[0]\n",
    "\n",
    "# # Add year column\n",
    "# df['Year_Added'] = pd.to_datetime(df['Date added']).dt.year\n",
    "\n",
    "# # Keep the columns that are needed and discard the rest\n",
    "# df = df[['Symbol', 'Security', 'GICS Sector', 'Year_Added']]\n",
    "\n",
    "# # Rename columns in accordance with preference\n",
    "# df.columns = ['company_ticker', 'company_name', 'sector', 'year_added']\n",
    "# df.sample(5)\n",
    "\n",
    "df = pd.read_csv('data/snp_market_cap.csv')\n",
    "df.head(3)"
   ]
  },
  {
   "cell_type": "markdown",
   "id": "4400af7f",
   "metadata": {},
   "source": [
    "- It would be interesting to find out which original companies (i.e., added to the index at its inception back in 1957) are still in the index today. It indicates that these companies were able to withstand the volatility of the market and strategically evolve with the changing environment -- they are stable companies. In addition to which companies, it would be interesting to see which sector these companies belong to.\n",
    "    - Source: https://www.home.saxo/content/articles/equities/why-berkshire-hathaway-is-crushing-the-sp-500-19032025\n",
    "        - \"While many investors have a home-bias or prefer the better-known U.S. stocks, Berkshire has been quietly expanding internationally.\"\n",
    "            - \"Buffett has been increasing his stakes in five major Japanese trading houses (Itochu, Sumitomo, Marubeni, Mitsubishi, and Mitsui). These companies trade at low valuations, offer strong dividends, and provide exposure to global commodity markets.\"\n",
    "        - \"Tech-light portfolio. While the S&P 500 is heavily weighted toward high-growth, high-multiple tech names, Berkshire’s portfolio skews towards industrials, energy, and insurance – sectors that have historically held up well in periods of economic uncertainty and inflation.\"\n",
    "        "
   ]
  },
  {
   "cell_type": "code",
   "execution_count": 4,
   "id": "f45ef416",
   "metadata": {},
   "outputs": [
    {
     "data": {
      "text/html": [
       "<div>\n",
       "<style scoped>\n",
       "    .dataframe tbody tr th:only-of-type {\n",
       "        vertical-align: middle;\n",
       "    }\n",
       "\n",
       "    .dataframe tbody tr th {\n",
       "        vertical-align: top;\n",
       "    }\n",
       "\n",
       "    .dataframe thead th {\n",
       "        text-align: right;\n",
       "    }\n",
       "</style>\n",
       "<table border=\"1\" class=\"dataframe\">\n",
       "  <thead>\n",
       "    <tr style=\"text-align: right;\">\n",
       "      <th></th>\n",
       "      <th>Sector</th>\n",
       "      <th>Count</th>\n",
       "    </tr>\n",
       "  </thead>\n",
       "  <tbody>\n",
       "    <tr>\n",
       "      <th>0</th>\n",
       "      <td>Industrials</td>\n",
       "      <td>14</td>\n",
       "    </tr>\n",
       "    <tr>\n",
       "      <th>1</th>\n",
       "      <td>Consumer Defensive</td>\n",
       "      <td>11</td>\n",
       "    </tr>\n",
       "    <tr>\n",
       "      <th>2</th>\n",
       "      <td>Utilities</td>\n",
       "      <td>10</td>\n",
       "    </tr>\n",
       "    <tr>\n",
       "      <th>3</th>\n",
       "      <td>Energy</td>\n",
       "      <td>6</td>\n",
       "    </tr>\n",
       "    <tr>\n",
       "      <th>4</th>\n",
       "      <td>Healthcare</td>\n",
       "      <td>5</td>\n",
       "    </tr>\n",
       "    <tr>\n",
       "      <th>5</th>\n",
       "      <td>Consumer Cyclical</td>\n",
       "      <td>2</td>\n",
       "    </tr>\n",
       "    <tr>\n",
       "      <th>6</th>\n",
       "      <td>Financial Services</td>\n",
       "      <td>2</td>\n",
       "    </tr>\n",
       "    <tr>\n",
       "      <th>7</th>\n",
       "      <td>Technology</td>\n",
       "      <td>2</td>\n",
       "    </tr>\n",
       "    <tr>\n",
       "      <th>8</th>\n",
       "      <td>Basic Materials</td>\n",
       "      <td>1</td>\n",
       "    </tr>\n",
       "  </tbody>\n",
       "</table>\n",
       "</div>"
      ],
      "text/plain": [
       "               Sector  Count\n",
       "0         Industrials     14\n",
       "1  Consumer Defensive     11\n",
       "2           Utilities     10\n",
       "3              Energy      6\n",
       "4          Healthcare      5\n",
       "5   Consumer Cyclical      2\n",
       "6  Financial Services      2\n",
       "7          Technology      2\n",
       "8     Basic Materials      1"
      ]
     },
     "execution_count": 4,
     "metadata": {},
     "output_type": "execute_result"
    }
   ],
   "source": [
    "# Filter only companies that were added in 1957\n",
    "stocks_added_1957 = df[df['Year_Added'] == 1957] # 53 stocks added in 1957 and are still in the index\n",
    "# Create a dataframe of counts of original stocks to plot\n",
    "stocks_1957_counts = pd.DataFrame(stocks_added_1957.Sector.value_counts()).reset_index()\n",
    "stocks_1957_counts.columns = ['Sector', 'Count']\n",
    "stocks_1957_counts"
   ]
  },
  {
   "cell_type": "code",
   "execution_count": 5,
   "id": "dd41fdee",
   "metadata": {},
   "outputs": [
    {
     "data": {
      "application/vnd.plotly.v1+json": {
       "config": {
        "plotlyServerURL": "https://plotly.com"
       },
       "data": [
        {
         "customdata": [
          [
           "Industrials"
          ],
          [
           "Consumer Defensive"
          ],
          [
           "Utilities"
          ],
          [
           "Energy"
          ],
          [
           "Healthcare"
          ],
          [
           "Consumer Cyclical"
          ],
          [
           "Financial Services"
          ],
          [
           "Technology"
          ],
          [
           "Basic Materials"
          ]
         ],
         "domain": {
          "x": [
           0,
           1
          ],
          "y": [
           0,
           1
          ]
         },
         "hole": 0.3,
         "hovertemplate": "Sector=%{customdata[0]}<br>Count=%{value}<extra></extra>",
         "labels": [
          "Industrials",
          "Consumer Defensive",
          "Utilities",
          "Energy",
          "Healthcare",
          "Consumer Cyclical",
          "Financial Services",
          "Technology",
          "Basic Materials"
         ],
         "legendgroup": "",
         "marker": {
          "colors": [
           "#7f7f7f",
           "#d62728",
           "#1f4e1f",
           "#9467bd",
           "#e377c2",
           "#2ca02c",
           "#8c564b",
           "#17becf",
           "#1f77b4"
          ]
         },
         "name": "",
         "showlegend": true,
         "textinfo": "percent+label",
         "textposition": "outside",
         "type": "pie",
         "values": [
          14,
          11,
          10,
          6,
          5,
          2,
          2,
          2,
          1
         ]
        }
       ],
       "layout": {
        "legend": {
         "tracegroupgap": 0
        },
        "showlegend": false,
        "template": {
         "data": {
          "bar": [
           {
            "error_x": {
             "color": "#2a3f5f"
            },
            "error_y": {
             "color": "#2a3f5f"
            },
            "marker": {
             "line": {
              "color": "#E5ECF6",
              "width": 0.5
             },
             "pattern": {
              "fillmode": "overlay",
              "size": 10,
              "solidity": 0.2
             }
            },
            "type": "bar"
           }
          ],
          "barpolar": [
           {
            "marker": {
             "line": {
              "color": "#E5ECF6",
              "width": 0.5
             },
             "pattern": {
              "fillmode": "overlay",
              "size": 10,
              "solidity": 0.2
             }
            },
            "type": "barpolar"
           }
          ],
          "carpet": [
           {
            "aaxis": {
             "endlinecolor": "#2a3f5f",
             "gridcolor": "white",
             "linecolor": "white",
             "minorgridcolor": "white",
             "startlinecolor": "#2a3f5f"
            },
            "baxis": {
             "endlinecolor": "#2a3f5f",
             "gridcolor": "white",
             "linecolor": "white",
             "minorgridcolor": "white",
             "startlinecolor": "#2a3f5f"
            },
            "type": "carpet"
           }
          ],
          "choropleth": [
           {
            "colorbar": {
             "outlinewidth": 0,
             "ticks": ""
            },
            "type": "choropleth"
           }
          ],
          "contour": [
           {
            "colorbar": {
             "outlinewidth": 0,
             "ticks": ""
            },
            "colorscale": [
             [
              0,
              "#0d0887"
             ],
             [
              0.1111111111111111,
              "#46039f"
             ],
             [
              0.2222222222222222,
              "#7201a8"
             ],
             [
              0.3333333333333333,
              "#9c179e"
             ],
             [
              0.4444444444444444,
              "#bd3786"
             ],
             [
              0.5555555555555556,
              "#d8576b"
             ],
             [
              0.6666666666666666,
              "#ed7953"
             ],
             [
              0.7777777777777778,
              "#fb9f3a"
             ],
             [
              0.8888888888888888,
              "#fdca26"
             ],
             [
              1,
              "#f0f921"
             ]
            ],
            "type": "contour"
           }
          ],
          "contourcarpet": [
           {
            "colorbar": {
             "outlinewidth": 0,
             "ticks": ""
            },
            "type": "contourcarpet"
           }
          ],
          "heatmap": [
           {
            "colorbar": {
             "outlinewidth": 0,
             "ticks": ""
            },
            "colorscale": [
             [
              0,
              "#0d0887"
             ],
             [
              0.1111111111111111,
              "#46039f"
             ],
             [
              0.2222222222222222,
              "#7201a8"
             ],
             [
              0.3333333333333333,
              "#9c179e"
             ],
             [
              0.4444444444444444,
              "#bd3786"
             ],
             [
              0.5555555555555556,
              "#d8576b"
             ],
             [
              0.6666666666666666,
              "#ed7953"
             ],
             [
              0.7777777777777778,
              "#fb9f3a"
             ],
             [
              0.8888888888888888,
              "#fdca26"
             ],
             [
              1,
              "#f0f921"
             ]
            ],
            "type": "heatmap"
           }
          ],
          "heatmapgl": [
           {
            "colorbar": {
             "outlinewidth": 0,
             "ticks": ""
            },
            "colorscale": [
             [
              0,
              "#0d0887"
             ],
             [
              0.1111111111111111,
              "#46039f"
             ],
             [
              0.2222222222222222,
              "#7201a8"
             ],
             [
              0.3333333333333333,
              "#9c179e"
             ],
             [
              0.4444444444444444,
              "#bd3786"
             ],
             [
              0.5555555555555556,
              "#d8576b"
             ],
             [
              0.6666666666666666,
              "#ed7953"
             ],
             [
              0.7777777777777778,
              "#fb9f3a"
             ],
             [
              0.8888888888888888,
              "#fdca26"
             ],
             [
              1,
              "#f0f921"
             ]
            ],
            "type": "heatmapgl"
           }
          ],
          "histogram": [
           {
            "marker": {
             "pattern": {
              "fillmode": "overlay",
              "size": 10,
              "solidity": 0.2
             }
            },
            "type": "histogram"
           }
          ],
          "histogram2d": [
           {
            "colorbar": {
             "outlinewidth": 0,
             "ticks": ""
            },
            "colorscale": [
             [
              0,
              "#0d0887"
             ],
             [
              0.1111111111111111,
              "#46039f"
             ],
             [
              0.2222222222222222,
              "#7201a8"
             ],
             [
              0.3333333333333333,
              "#9c179e"
             ],
             [
              0.4444444444444444,
              "#bd3786"
             ],
             [
              0.5555555555555556,
              "#d8576b"
             ],
             [
              0.6666666666666666,
              "#ed7953"
             ],
             [
              0.7777777777777778,
              "#fb9f3a"
             ],
             [
              0.8888888888888888,
              "#fdca26"
             ],
             [
              1,
              "#f0f921"
             ]
            ],
            "type": "histogram2d"
           }
          ],
          "histogram2dcontour": [
           {
            "colorbar": {
             "outlinewidth": 0,
             "ticks": ""
            },
            "colorscale": [
             [
              0,
              "#0d0887"
             ],
             [
              0.1111111111111111,
              "#46039f"
             ],
             [
              0.2222222222222222,
              "#7201a8"
             ],
             [
              0.3333333333333333,
              "#9c179e"
             ],
             [
              0.4444444444444444,
              "#bd3786"
             ],
             [
              0.5555555555555556,
              "#d8576b"
             ],
             [
              0.6666666666666666,
              "#ed7953"
             ],
             [
              0.7777777777777778,
              "#fb9f3a"
             ],
             [
              0.8888888888888888,
              "#fdca26"
             ],
             [
              1,
              "#f0f921"
             ]
            ],
            "type": "histogram2dcontour"
           }
          ],
          "mesh3d": [
           {
            "colorbar": {
             "outlinewidth": 0,
             "ticks": ""
            },
            "type": "mesh3d"
           }
          ],
          "parcoords": [
           {
            "line": {
             "colorbar": {
              "outlinewidth": 0,
              "ticks": ""
             }
            },
            "type": "parcoords"
           }
          ],
          "pie": [
           {
            "automargin": true,
            "type": "pie"
           }
          ],
          "scatter": [
           {
            "fillpattern": {
             "fillmode": "overlay",
             "size": 10,
             "solidity": 0.2
            },
            "type": "scatter"
           }
          ],
          "scatter3d": [
           {
            "line": {
             "colorbar": {
              "outlinewidth": 0,
              "ticks": ""
             }
            },
            "marker": {
             "colorbar": {
              "outlinewidth": 0,
              "ticks": ""
             }
            },
            "type": "scatter3d"
           }
          ],
          "scattercarpet": [
           {
            "marker": {
             "colorbar": {
              "outlinewidth": 0,
              "ticks": ""
             }
            },
            "type": "scattercarpet"
           }
          ],
          "scattergeo": [
           {
            "marker": {
             "colorbar": {
              "outlinewidth": 0,
              "ticks": ""
             }
            },
            "type": "scattergeo"
           }
          ],
          "scattergl": [
           {
            "marker": {
             "colorbar": {
              "outlinewidth": 0,
              "ticks": ""
             }
            },
            "type": "scattergl"
           }
          ],
          "scattermapbox": [
           {
            "marker": {
             "colorbar": {
              "outlinewidth": 0,
              "ticks": ""
             }
            },
            "type": "scattermapbox"
           }
          ],
          "scatterpolar": [
           {
            "marker": {
             "colorbar": {
              "outlinewidth": 0,
              "ticks": ""
             }
            },
            "type": "scatterpolar"
           }
          ],
          "scatterpolargl": [
           {
            "marker": {
             "colorbar": {
              "outlinewidth": 0,
              "ticks": ""
             }
            },
            "type": "scatterpolargl"
           }
          ],
          "scatterternary": [
           {
            "marker": {
             "colorbar": {
              "outlinewidth": 0,
              "ticks": ""
             }
            },
            "type": "scatterternary"
           }
          ],
          "surface": [
           {
            "colorbar": {
             "outlinewidth": 0,
             "ticks": ""
            },
            "colorscale": [
             [
              0,
              "#0d0887"
             ],
             [
              0.1111111111111111,
              "#46039f"
             ],
             [
              0.2222222222222222,
              "#7201a8"
             ],
             [
              0.3333333333333333,
              "#9c179e"
             ],
             [
              0.4444444444444444,
              "#bd3786"
             ],
             [
              0.5555555555555556,
              "#d8576b"
             ],
             [
              0.6666666666666666,
              "#ed7953"
             ],
             [
              0.7777777777777778,
              "#fb9f3a"
             ],
             [
              0.8888888888888888,
              "#fdca26"
             ],
             [
              1,
              "#f0f921"
             ]
            ],
            "type": "surface"
           }
          ],
          "table": [
           {
            "cells": {
             "fill": {
              "color": "#EBF0F8"
             },
             "line": {
              "color": "white"
             }
            },
            "header": {
             "fill": {
              "color": "#C8D4E3"
             },
             "line": {
              "color": "white"
             }
            },
            "type": "table"
           }
          ]
         },
         "layout": {
          "annotationdefaults": {
           "arrowcolor": "#2a3f5f",
           "arrowhead": 0,
           "arrowwidth": 1
          },
          "autotypenumbers": "strict",
          "coloraxis": {
           "colorbar": {
            "outlinewidth": 0,
            "ticks": ""
           }
          },
          "colorscale": {
           "diverging": [
            [
             0,
             "#8e0152"
            ],
            [
             0.1,
             "#c51b7d"
            ],
            [
             0.2,
             "#de77ae"
            ],
            [
             0.3,
             "#f1b6da"
            ],
            [
             0.4,
             "#fde0ef"
            ],
            [
             0.5,
             "#f7f7f7"
            ],
            [
             0.6,
             "#e6f5d0"
            ],
            [
             0.7,
             "#b8e186"
            ],
            [
             0.8,
             "#7fbc41"
            ],
            [
             0.9,
             "#4d9221"
            ],
            [
             1,
             "#276419"
            ]
           ],
           "sequential": [
            [
             0,
             "#0d0887"
            ],
            [
             0.1111111111111111,
             "#46039f"
            ],
            [
             0.2222222222222222,
             "#7201a8"
            ],
            [
             0.3333333333333333,
             "#9c179e"
            ],
            [
             0.4444444444444444,
             "#bd3786"
            ],
            [
             0.5555555555555556,
             "#d8576b"
            ],
            [
             0.6666666666666666,
             "#ed7953"
            ],
            [
             0.7777777777777778,
             "#fb9f3a"
            ],
            [
             0.8888888888888888,
             "#fdca26"
            ],
            [
             1,
             "#f0f921"
            ]
           ],
           "sequentialminus": [
            [
             0,
             "#0d0887"
            ],
            [
             0.1111111111111111,
             "#46039f"
            ],
            [
             0.2222222222222222,
             "#7201a8"
            ],
            [
             0.3333333333333333,
             "#9c179e"
            ],
            [
             0.4444444444444444,
             "#bd3786"
            ],
            [
             0.5555555555555556,
             "#d8576b"
            ],
            [
             0.6666666666666666,
             "#ed7953"
            ],
            [
             0.7777777777777778,
             "#fb9f3a"
            ],
            [
             0.8888888888888888,
             "#fdca26"
            ],
            [
             1,
             "#f0f921"
            ]
           ]
          },
          "colorway": [
           "#636efa",
           "#EF553B",
           "#00cc96",
           "#ab63fa",
           "#FFA15A",
           "#19d3f3",
           "#FF6692",
           "#B6E880",
           "#FF97FF",
           "#FECB52"
          ],
          "font": {
           "color": "#2a3f5f"
          },
          "geo": {
           "bgcolor": "white",
           "lakecolor": "white",
           "landcolor": "#E5ECF6",
           "showlakes": true,
           "showland": true,
           "subunitcolor": "white"
          },
          "hoverlabel": {
           "align": "left"
          },
          "hovermode": "closest",
          "mapbox": {
           "style": "light"
          },
          "paper_bgcolor": "white",
          "plot_bgcolor": "#E5ECF6",
          "polar": {
           "angularaxis": {
            "gridcolor": "white",
            "linecolor": "white",
            "ticks": ""
           },
           "bgcolor": "#E5ECF6",
           "radialaxis": {
            "gridcolor": "white",
            "linecolor": "white",
            "ticks": ""
           }
          },
          "scene": {
           "xaxis": {
            "backgroundcolor": "#E5ECF6",
            "gridcolor": "white",
            "gridwidth": 2,
            "linecolor": "white",
            "showbackground": true,
            "ticks": "",
            "zerolinecolor": "white"
           },
           "yaxis": {
            "backgroundcolor": "#E5ECF6",
            "gridcolor": "white",
            "gridwidth": 2,
            "linecolor": "white",
            "showbackground": true,
            "ticks": "",
            "zerolinecolor": "white"
           },
           "zaxis": {
            "backgroundcolor": "#E5ECF6",
            "gridcolor": "white",
            "gridwidth": 2,
            "linecolor": "white",
            "showbackground": true,
            "ticks": "",
            "zerolinecolor": "white"
           }
          },
          "shapedefaults": {
           "line": {
            "color": "#2a3f5f"
           }
          },
          "ternary": {
           "aaxis": {
            "gridcolor": "white",
            "linecolor": "white",
            "ticks": ""
           },
           "baxis": {
            "gridcolor": "white",
            "linecolor": "white",
            "ticks": ""
           },
           "bgcolor": "#E5ECF6",
           "caxis": {
            "gridcolor": "white",
            "linecolor": "white",
            "ticks": ""
           }
          },
          "title": {
           "x": 0.05
          },
          "xaxis": {
           "automargin": true,
           "gridcolor": "white",
           "linecolor": "white",
           "ticks": "",
           "title": {
            "standoff": 15
           },
           "zerolinecolor": "white",
           "zerolinewidth": 2
          },
          "yaxis": {
           "automargin": true,
           "gridcolor": "white",
           "linecolor": "white",
           "ticks": "",
           "title": {
            "standoff": 15
           },
           "zerolinecolor": "white",
           "zerolinewidth": 2
          }
         }
        },
        "title": {
         "text": "S&P 500 Original Stocks Added in 1957 By Sector (2025)"
        }
       }
      }
     },
     "metadata": {},
     "output_type": "display_data"
    }
   ],
   "source": [
    "# Create a pie chart of the original compannies, categorized by sector\n",
    "fig_1957 = px.pie(stocks_1957_counts, \n",
    "                  values='Count', \n",
    "                  names='Sector', \n",
    "                  color ='Sector',\n",
    "                  color_discrete_map=color_map, \n",
    "                  title='S&P 500 Original Stocks Added in 1957 By Sector (2025)',\n",
    "                  hole=0.3)\n",
    "fig_1957.update_traces(textposition='outside', textinfo='percent+label')\n",
    "fig_1957.update_layout(showlegend=False)\n",
    "fig_1957.show()"
   ]
  },
  {
   "cell_type": "markdown",
   "id": "137ac8be",
   "metadata": {},
   "source": [
    "- It would be interesting to see how the sectors are divided in the index.\n",
    "    -  Source: https://www.home.saxo/content/articles/equities/why-berkshire-hathaway-is-crushing-the-sp-500-19032025\n",
    "        - Berkshire Hathaway is often called a \"mini-index fund\" because it provides exposure to a wide range of industries. Saxo’s Warren Buffett shortlist provides a quick look at the largest companies in the Berkshire Hathaway portfolio, but here is what one share of Berkshire effectively gives you exposure to:\n",
    "            - Financials – Bank of America, American Express, Citigroup\n",
    "            - Consumer staples – Coca-Cola, Kraft Heinz\n",
    "            - Consumer discretionary – Domino’s Pizza, Pool Corp, Constellation Brands\n",
    "            - Energy & utilities – Occidental Petroleum, Chevron Energy\n",
    "            - Insurance – GEICO, Chubb\n",
    "            - Industrials & railroads – BNSF Railway, Precision Castparts\n",
    "            - Technology (selective exposure) – Apple (Berkshire’s single largest holding, but the company avoids speculative tech investments)\n",
    "        - This could make Berkshire an excellent diversifier for investors who are too heavily weighted in U.S. tech stocks.\n",
    "            - If your portfolio is overloaded with tech, Berkshire offers exposure to more stable sectors like insurance, consumer goods, and industrials.\n",
    "            - If your portfolio is light on U.S. tech, you still get exposure to Apple, but in a way that’s balanced with traditional value plays.\n",
    "        - Interest rate & market cycle sensitivity: Many of Berkshire’s businesses, including insurance and financials, benefit from high interest rates. If rates fall sharply, profit margins could shrink. Similarly, if consumer demand weakens, holdings like Coca-Cola and retail-adjacent businesses could face headwinds. The same defensive qualities that make Berkshire attractive in uncertain markets might hold it back when markets turn risk-on.\n"
   ]
  },
  {
   "cell_type": "code",
   "execution_count": 134,
   "id": "300cf297",
   "metadata": {},
   "outputs": [],
   "source": [
    "# Create df to plot sector composition\n",
    "sector_composition = pd.DataFrame(df['Sector'].value_counts()).reset_index()\n",
    "sector_composition.columns = ['Sector', 'Count']"
   ]
  },
  {
   "cell_type": "code",
   "execution_count": 135,
   "id": "f9e38216",
   "metadata": {},
   "outputs": [
    {
     "data": {
      "application/vnd.plotly.v1+json": {
       "config": {
        "plotlyServerURL": "https://plotly.com"
       },
       "data": [
        {
         "customdata": [
          [
           "Technology"
          ],
          [
           "Industrials"
          ],
          [
           "Financial Services"
          ],
          [
           "Healthcare"
          ],
          [
           "Consumer Cyclical"
          ],
          [
           "Consumer Defensive"
          ],
          [
           "Utilities"
          ],
          [
           "Real Estate"
          ],
          [
           "Communication Services"
          ],
          [
           "Energy"
          ],
          [
           "Basic Materials"
          ]
         ],
         "domain": {
          "x": [
           0,
           1
          ],
          "y": [
           0,
           1
          ]
         },
         "hole": 0.6,
         "hovertemplate": "Sector=%{customdata[0]}<br>Count=%{value}<extra></extra>",
         "labels": [
          "Technology",
          "Industrials",
          "Financial Services",
          "Healthcare",
          "Consumer Cyclical",
          "Consumer Defensive",
          "Utilities",
          "Real Estate",
          "Communication Services",
          "Energy",
          "Basic Materials"
         ],
         "legendgroup": "",
         "marker": {
          "colors": [
           "#17becf",
           "#7f7f7f",
           "#8c564b",
           "#e377c2",
           "#2ca02c",
           "#d62728",
           "#1f4e1f",
           "#bcbd22",
           "#ff7f0e",
           "#9467bd",
           "#1f77b4"
          ]
         },
         "name": "",
         "showlegend": true,
         "textinfo": "percent+label",
         "textposition": "outside",
         "type": "pie",
         "values": [
          82,
          71,
          67,
          61,
          56,
          36,
          31,
          31,
          23,
          23,
          20
         ]
        }
       ],
       "layout": {
        "annotations": [
         {
          "font": {
           "size": 16
          },
          "showarrow": false,
          "text": "Total Count<br><b>503 Companies"
         }
        ],
        "legend": {
         "tracegroupgap": 0
        },
        "showlegend": false,
        "template": {
         "data": {
          "bar": [
           {
            "error_x": {
             "color": "#2a3f5f"
            },
            "error_y": {
             "color": "#2a3f5f"
            },
            "marker": {
             "line": {
              "color": "#E5ECF6",
              "width": 0.5
             },
             "pattern": {
              "fillmode": "overlay",
              "size": 10,
              "solidity": 0.2
             }
            },
            "type": "bar"
           }
          ],
          "barpolar": [
           {
            "marker": {
             "line": {
              "color": "#E5ECF6",
              "width": 0.5
             },
             "pattern": {
              "fillmode": "overlay",
              "size": 10,
              "solidity": 0.2
             }
            },
            "type": "barpolar"
           }
          ],
          "carpet": [
           {
            "aaxis": {
             "endlinecolor": "#2a3f5f",
             "gridcolor": "white",
             "linecolor": "white",
             "minorgridcolor": "white",
             "startlinecolor": "#2a3f5f"
            },
            "baxis": {
             "endlinecolor": "#2a3f5f",
             "gridcolor": "white",
             "linecolor": "white",
             "minorgridcolor": "white",
             "startlinecolor": "#2a3f5f"
            },
            "type": "carpet"
           }
          ],
          "choropleth": [
           {
            "colorbar": {
             "outlinewidth": 0,
             "ticks": ""
            },
            "type": "choropleth"
           }
          ],
          "contour": [
           {
            "colorbar": {
             "outlinewidth": 0,
             "ticks": ""
            },
            "colorscale": [
             [
              0,
              "#0d0887"
             ],
             [
              0.1111111111111111,
              "#46039f"
             ],
             [
              0.2222222222222222,
              "#7201a8"
             ],
             [
              0.3333333333333333,
              "#9c179e"
             ],
             [
              0.4444444444444444,
              "#bd3786"
             ],
             [
              0.5555555555555556,
              "#d8576b"
             ],
             [
              0.6666666666666666,
              "#ed7953"
             ],
             [
              0.7777777777777778,
              "#fb9f3a"
             ],
             [
              0.8888888888888888,
              "#fdca26"
             ],
             [
              1,
              "#f0f921"
             ]
            ],
            "type": "contour"
           }
          ],
          "contourcarpet": [
           {
            "colorbar": {
             "outlinewidth": 0,
             "ticks": ""
            },
            "type": "contourcarpet"
           }
          ],
          "heatmap": [
           {
            "colorbar": {
             "outlinewidth": 0,
             "ticks": ""
            },
            "colorscale": [
             [
              0,
              "#0d0887"
             ],
             [
              0.1111111111111111,
              "#46039f"
             ],
             [
              0.2222222222222222,
              "#7201a8"
             ],
             [
              0.3333333333333333,
              "#9c179e"
             ],
             [
              0.4444444444444444,
              "#bd3786"
             ],
             [
              0.5555555555555556,
              "#d8576b"
             ],
             [
              0.6666666666666666,
              "#ed7953"
             ],
             [
              0.7777777777777778,
              "#fb9f3a"
             ],
             [
              0.8888888888888888,
              "#fdca26"
             ],
             [
              1,
              "#f0f921"
             ]
            ],
            "type": "heatmap"
           }
          ],
          "heatmapgl": [
           {
            "colorbar": {
             "outlinewidth": 0,
             "ticks": ""
            },
            "colorscale": [
             [
              0,
              "#0d0887"
             ],
             [
              0.1111111111111111,
              "#46039f"
             ],
             [
              0.2222222222222222,
              "#7201a8"
             ],
             [
              0.3333333333333333,
              "#9c179e"
             ],
             [
              0.4444444444444444,
              "#bd3786"
             ],
             [
              0.5555555555555556,
              "#d8576b"
             ],
             [
              0.6666666666666666,
              "#ed7953"
             ],
             [
              0.7777777777777778,
              "#fb9f3a"
             ],
             [
              0.8888888888888888,
              "#fdca26"
             ],
             [
              1,
              "#f0f921"
             ]
            ],
            "type": "heatmapgl"
           }
          ],
          "histogram": [
           {
            "marker": {
             "pattern": {
              "fillmode": "overlay",
              "size": 10,
              "solidity": 0.2
             }
            },
            "type": "histogram"
           }
          ],
          "histogram2d": [
           {
            "colorbar": {
             "outlinewidth": 0,
             "ticks": ""
            },
            "colorscale": [
             [
              0,
              "#0d0887"
             ],
             [
              0.1111111111111111,
              "#46039f"
             ],
             [
              0.2222222222222222,
              "#7201a8"
             ],
             [
              0.3333333333333333,
              "#9c179e"
             ],
             [
              0.4444444444444444,
              "#bd3786"
             ],
             [
              0.5555555555555556,
              "#d8576b"
             ],
             [
              0.6666666666666666,
              "#ed7953"
             ],
             [
              0.7777777777777778,
              "#fb9f3a"
             ],
             [
              0.8888888888888888,
              "#fdca26"
             ],
             [
              1,
              "#f0f921"
             ]
            ],
            "type": "histogram2d"
           }
          ],
          "histogram2dcontour": [
           {
            "colorbar": {
             "outlinewidth": 0,
             "ticks": ""
            },
            "colorscale": [
             [
              0,
              "#0d0887"
             ],
             [
              0.1111111111111111,
              "#46039f"
             ],
             [
              0.2222222222222222,
              "#7201a8"
             ],
             [
              0.3333333333333333,
              "#9c179e"
             ],
             [
              0.4444444444444444,
              "#bd3786"
             ],
             [
              0.5555555555555556,
              "#d8576b"
             ],
             [
              0.6666666666666666,
              "#ed7953"
             ],
             [
              0.7777777777777778,
              "#fb9f3a"
             ],
             [
              0.8888888888888888,
              "#fdca26"
             ],
             [
              1,
              "#f0f921"
             ]
            ],
            "type": "histogram2dcontour"
           }
          ],
          "mesh3d": [
           {
            "colorbar": {
             "outlinewidth": 0,
             "ticks": ""
            },
            "type": "mesh3d"
           }
          ],
          "parcoords": [
           {
            "line": {
             "colorbar": {
              "outlinewidth": 0,
              "ticks": ""
             }
            },
            "type": "parcoords"
           }
          ],
          "pie": [
           {
            "automargin": true,
            "type": "pie"
           }
          ],
          "scatter": [
           {
            "fillpattern": {
             "fillmode": "overlay",
             "size": 10,
             "solidity": 0.2
            },
            "type": "scatter"
           }
          ],
          "scatter3d": [
           {
            "line": {
             "colorbar": {
              "outlinewidth": 0,
              "ticks": ""
             }
            },
            "marker": {
             "colorbar": {
              "outlinewidth": 0,
              "ticks": ""
             }
            },
            "type": "scatter3d"
           }
          ],
          "scattercarpet": [
           {
            "marker": {
             "colorbar": {
              "outlinewidth": 0,
              "ticks": ""
             }
            },
            "type": "scattercarpet"
           }
          ],
          "scattergeo": [
           {
            "marker": {
             "colorbar": {
              "outlinewidth": 0,
              "ticks": ""
             }
            },
            "type": "scattergeo"
           }
          ],
          "scattergl": [
           {
            "marker": {
             "colorbar": {
              "outlinewidth": 0,
              "ticks": ""
             }
            },
            "type": "scattergl"
           }
          ],
          "scattermapbox": [
           {
            "marker": {
             "colorbar": {
              "outlinewidth": 0,
              "ticks": ""
             }
            },
            "type": "scattermapbox"
           }
          ],
          "scatterpolar": [
           {
            "marker": {
             "colorbar": {
              "outlinewidth": 0,
              "ticks": ""
             }
            },
            "type": "scatterpolar"
           }
          ],
          "scatterpolargl": [
           {
            "marker": {
             "colorbar": {
              "outlinewidth": 0,
              "ticks": ""
             }
            },
            "type": "scatterpolargl"
           }
          ],
          "scatterternary": [
           {
            "marker": {
             "colorbar": {
              "outlinewidth": 0,
              "ticks": ""
             }
            },
            "type": "scatterternary"
           }
          ],
          "surface": [
           {
            "colorbar": {
             "outlinewidth": 0,
             "ticks": ""
            },
            "colorscale": [
             [
              0,
              "#0d0887"
             ],
             [
              0.1111111111111111,
              "#46039f"
             ],
             [
              0.2222222222222222,
              "#7201a8"
             ],
             [
              0.3333333333333333,
              "#9c179e"
             ],
             [
              0.4444444444444444,
              "#bd3786"
             ],
             [
              0.5555555555555556,
              "#d8576b"
             ],
             [
              0.6666666666666666,
              "#ed7953"
             ],
             [
              0.7777777777777778,
              "#fb9f3a"
             ],
             [
              0.8888888888888888,
              "#fdca26"
             ],
             [
              1,
              "#f0f921"
             ]
            ],
            "type": "surface"
           }
          ],
          "table": [
           {
            "cells": {
             "fill": {
              "color": "#EBF0F8"
             },
             "line": {
              "color": "white"
             }
            },
            "header": {
             "fill": {
              "color": "#C8D4E3"
             },
             "line": {
              "color": "white"
             }
            },
            "type": "table"
           }
          ]
         },
         "layout": {
          "annotationdefaults": {
           "arrowcolor": "#2a3f5f",
           "arrowhead": 0,
           "arrowwidth": 1
          },
          "autotypenumbers": "strict",
          "coloraxis": {
           "colorbar": {
            "outlinewidth": 0,
            "ticks": ""
           }
          },
          "colorscale": {
           "diverging": [
            [
             0,
             "#8e0152"
            ],
            [
             0.1,
             "#c51b7d"
            ],
            [
             0.2,
             "#de77ae"
            ],
            [
             0.3,
             "#f1b6da"
            ],
            [
             0.4,
             "#fde0ef"
            ],
            [
             0.5,
             "#f7f7f7"
            ],
            [
             0.6,
             "#e6f5d0"
            ],
            [
             0.7,
             "#b8e186"
            ],
            [
             0.8,
             "#7fbc41"
            ],
            [
             0.9,
             "#4d9221"
            ],
            [
             1,
             "#276419"
            ]
           ],
           "sequential": [
            [
             0,
             "#0d0887"
            ],
            [
             0.1111111111111111,
             "#46039f"
            ],
            [
             0.2222222222222222,
             "#7201a8"
            ],
            [
             0.3333333333333333,
             "#9c179e"
            ],
            [
             0.4444444444444444,
             "#bd3786"
            ],
            [
             0.5555555555555556,
             "#d8576b"
            ],
            [
             0.6666666666666666,
             "#ed7953"
            ],
            [
             0.7777777777777778,
             "#fb9f3a"
            ],
            [
             0.8888888888888888,
             "#fdca26"
            ],
            [
             1,
             "#f0f921"
            ]
           ],
           "sequentialminus": [
            [
             0,
             "#0d0887"
            ],
            [
             0.1111111111111111,
             "#46039f"
            ],
            [
             0.2222222222222222,
             "#7201a8"
            ],
            [
             0.3333333333333333,
             "#9c179e"
            ],
            [
             0.4444444444444444,
             "#bd3786"
            ],
            [
             0.5555555555555556,
             "#d8576b"
            ],
            [
             0.6666666666666666,
             "#ed7953"
            ],
            [
             0.7777777777777778,
             "#fb9f3a"
            ],
            [
             0.8888888888888888,
             "#fdca26"
            ],
            [
             1,
             "#f0f921"
            ]
           ]
          },
          "colorway": [
           "#636efa",
           "#EF553B",
           "#00cc96",
           "#ab63fa",
           "#FFA15A",
           "#19d3f3",
           "#FF6692",
           "#B6E880",
           "#FF97FF",
           "#FECB52"
          ],
          "font": {
           "color": "#2a3f5f"
          },
          "geo": {
           "bgcolor": "white",
           "lakecolor": "white",
           "landcolor": "#E5ECF6",
           "showlakes": true,
           "showland": true,
           "subunitcolor": "white"
          },
          "hoverlabel": {
           "align": "left"
          },
          "hovermode": "closest",
          "mapbox": {
           "style": "light"
          },
          "paper_bgcolor": "white",
          "plot_bgcolor": "#E5ECF6",
          "polar": {
           "angularaxis": {
            "gridcolor": "white",
            "linecolor": "white",
            "ticks": ""
           },
           "bgcolor": "#E5ECF6",
           "radialaxis": {
            "gridcolor": "white",
            "linecolor": "white",
            "ticks": ""
           }
          },
          "scene": {
           "xaxis": {
            "backgroundcolor": "#E5ECF6",
            "gridcolor": "white",
            "gridwidth": 2,
            "linecolor": "white",
            "showbackground": true,
            "ticks": "",
            "zerolinecolor": "white"
           },
           "yaxis": {
            "backgroundcolor": "#E5ECF6",
            "gridcolor": "white",
            "gridwidth": 2,
            "linecolor": "white",
            "showbackground": true,
            "ticks": "",
            "zerolinecolor": "white"
           },
           "zaxis": {
            "backgroundcolor": "#E5ECF6",
            "gridcolor": "white",
            "gridwidth": 2,
            "linecolor": "white",
            "showbackground": true,
            "ticks": "",
            "zerolinecolor": "white"
           }
          },
          "shapedefaults": {
           "line": {
            "color": "#2a3f5f"
           }
          },
          "ternary": {
           "aaxis": {
            "gridcolor": "white",
            "linecolor": "white",
            "ticks": ""
           },
           "baxis": {
            "gridcolor": "white",
            "linecolor": "white",
            "ticks": ""
           },
           "bgcolor": "#E5ECF6",
           "caxis": {
            "gridcolor": "white",
            "linecolor": "white",
            "ticks": ""
           }
          },
          "title": {
           "x": 0.05
          },
          "xaxis": {
           "automargin": true,
           "gridcolor": "white",
           "linecolor": "white",
           "ticks": "",
           "title": {
            "standoff": 15
           },
           "zerolinecolor": "white",
           "zerolinewidth": 2
          },
          "yaxis": {
           "automargin": true,
           "gridcolor": "white",
           "linecolor": "white",
           "ticks": "",
           "title": {
            "standoff": 15
           },
           "zerolinecolor": "white",
           "zerolinewidth": 2
          }
         }
        },
        "title": {
         "text": "Current S&P 500 by Sector (June 2025)"
        }
       }
      }
     },
     "metadata": {},
     "output_type": "display_data"
    }
   ],
   "source": [
    "# Create pie chart of snp500 by sector\n",
    "fig_sector = px.pie(\n",
    "    sector_composition, \n",
    "    values='Count',\n",
    "    names='Sector',\n",
    "    color='Sector',\n",
    "    color_discrete_map=color_map,\n",
    "    title='Current S&P 500 by Sector (June 2025)',\n",
    "    hole=0.6\n",
    ")\n",
    "fig_sector.update_traces(textposition='outside', textinfo='percent+label')\n",
    "fig_sector.update_layout(showlegend=False, annotations=[dict(\n",
    "        text='Total Count<br><b>503 Companies',\n",
    "        font_size=16,\n",
    "        showarrow=False,\n",
    "    )],)\n",
    "fig_sector.show()"
   ]
  },
  {
   "cell_type": "markdown",
   "id": "6aad2c7f",
   "metadata": {},
   "source": [
    "- What sector has the largest market cap?"
   ]
  },
  {
   "cell_type": "code",
   "execution_count": null,
   "id": "2f96772d",
   "metadata": {},
   "outputs": [],
   "source": [
    "from utilities import download_batches_market_cap"
   ]
  },
  {
   "cell_type": "code",
   "execution_count": 129,
   "id": "3b23b750",
   "metadata": {},
   "outputs": [
    {
     "data": {
      "text/html": [
       "<div>\n",
       "<style scoped>\n",
       "    .dataframe tbody tr th:only-of-type {\n",
       "        vertical-align: middle;\n",
       "    }\n",
       "\n",
       "    .dataframe tbody tr th {\n",
       "        vertical-align: top;\n",
       "    }\n",
       "\n",
       "    .dataframe thead th {\n",
       "        text-align: right;\n",
       "    }\n",
       "</style>\n",
       "<table border=\"1\" class=\"dataframe\">\n",
       "  <thead>\n",
       "    <tr style=\"text-align: right;\">\n",
       "      <th></th>\n",
       "      <th>Ticker</th>\n",
       "      <th>Sector</th>\n",
       "      <th>MarketCap</th>\n",
       "      <th>Security</th>\n",
       "      <th>GICS Sector</th>\n",
       "      <th>GICS Sub-Industry</th>\n",
       "      <th>Headquarters Location</th>\n",
       "      <th>Date added</th>\n",
       "      <th>CIK</th>\n",
       "      <th>Founded</th>\n",
       "      <th>Year_Added</th>\n",
       "    </tr>\n",
       "  </thead>\n",
       "  <tbody>\n",
       "    <tr>\n",
       "      <th>0</th>\n",
       "      <td>MMM</td>\n",
       "      <td>Industrials</td>\n",
       "      <td>7.871449e+10</td>\n",
       "      <td>3M</td>\n",
       "      <td>Industrials</td>\n",
       "      <td>Industrial Conglomerates</td>\n",
       "      <td>Saint Paul, Minnesota</td>\n",
       "      <td>1957-03-04</td>\n",
       "      <td>66740</td>\n",
       "      <td>1902</td>\n",
       "      <td>1957</td>\n",
       "    </tr>\n",
       "    <tr>\n",
       "      <th>1</th>\n",
       "      <td>AOS</td>\n",
       "      <td>Industrials</td>\n",
       "      <td>9.143292e+09</td>\n",
       "      <td>A. O. Smith</td>\n",
       "      <td>Industrials</td>\n",
       "      <td>Building Products</td>\n",
       "      <td>Milwaukee, Wisconsin</td>\n",
       "      <td>2017-07-26</td>\n",
       "      <td>91142</td>\n",
       "      <td>1916</td>\n",
       "      <td>2017</td>\n",
       "    </tr>\n",
       "    <tr>\n",
       "      <th>2</th>\n",
       "      <td>ABT</td>\n",
       "      <td>Healthcare</td>\n",
       "      <td>2.330343e+11</td>\n",
       "      <td>Abbott Laboratories</td>\n",
       "      <td>Health Care</td>\n",
       "      <td>Health Care Equipment</td>\n",
       "      <td>North Chicago, Illinois</td>\n",
       "      <td>1957-03-04</td>\n",
       "      <td>1800</td>\n",
       "      <td>1888</td>\n",
       "      <td>1957</td>\n",
       "    </tr>\n",
       "  </tbody>\n",
       "</table>\n",
       "</div>"
      ],
      "text/plain": [
       "  Ticker       Sector     MarketCap  ...    CIK Founded Year_Added\n",
       "0    MMM  Industrials  7.871449e+10  ...  66740    1902       1957\n",
       "1    AOS  Industrials  9.143292e+09  ...  91142    1916       2017\n",
       "2    ABT   Healthcare  2.330343e+11  ...   1800    1888       1957\n",
       "\n",
       "[3 rows x 11 columns]"
      ]
     },
     "execution_count": 129,
     "metadata": {},
     "output_type": "execute_result"
    }
   ],
   "source": [
    "# snp500_market_cap = download_batches_market_cap(ticker_list=df['company_ticker'], batch_size=100)\n",
    "snp500_market_cap = pd.read_csv('data/snp_market_cap.csv')\n",
    "snp500_market_cap.head(3)"
   ]
  },
  {
   "cell_type": "code",
   "execution_count": 130,
   "id": "ed2128ff",
   "metadata": {},
   "outputs": [
    {
     "name": "stdout",
     "output_type": "stream",
     "text": [
      "Total market cap: 54831.531 billion\n"
     ]
    }
   ],
   "source": [
    "market_cap_total = round(snp500_market_cap['MarketCap'].sum()/1e9,3)\n",
    "print(f'Total market cap: {market_cap_total} billion') # $54.83 trillion"
   ]
  },
  {
   "cell_type": "code",
   "execution_count": null,
   "id": "f0529c96",
   "metadata": {},
   "outputs": [],
   "source": [
    "# Create a dictionary with ticker as keys and sectors as values, using info from yfinance\n",
    "sector_map = snp500_market_cap.set_index('Ticker')['Sector'].to_dict()\n",
    "\n",
    "# Apply to wikipedia df\n",
    "df.loc[:,'Sector'] = snp500_market_cap['Ticker'].map(sector_map)"
   ]
  },
  {
   "cell_type": "markdown",
   "id": "2d176b07",
   "metadata": {},
   "source": [
    "- Sector names and company counts per sector do not match between Wikipedia and Yahoo Finance. Using Yahoo Finance's categorization because it's more current."
   ]
  },
  {
   "cell_type": "code",
   "execution_count": null,
   "id": "909a358b",
   "metadata": {},
   "outputs": [
    {
     "data": {
      "text/html": [
       "<div>\n",
       "<style scoped>\n",
       "    .dataframe tbody tr th:only-of-type {\n",
       "        vertical-align: middle;\n",
       "    }\n",
       "\n",
       "    .dataframe tbody tr th {\n",
       "        vertical-align: top;\n",
       "    }\n",
       "\n",
       "    .dataframe thead th {\n",
       "        text-align: right;\n",
       "    }\n",
       "</style>\n",
       "<table border=\"1\" class=\"dataframe\">\n",
       "  <thead>\n",
       "    <tr style=\"text-align: right;\">\n",
       "      <th></th>\n",
       "      <th>company_ticker</th>\n",
       "      <th>company_name</th>\n",
       "      <th>sector</th>\n",
       "      <th>year_added</th>\n",
       "      <th>Sector</th>\n",
       "      <th>Match</th>\n",
       "    </tr>\n",
       "  </thead>\n",
       "  <tbody>\n",
       "    <tr>\n",
       "      <th>0</th>\n",
       "      <td>MMM</td>\n",
       "      <td>3M</td>\n",
       "      <td>Industrials</td>\n",
       "      <td>1957</td>\n",
       "      <td>Industrials</td>\n",
       "      <td>True</td>\n",
       "    </tr>\n",
       "    <tr>\n",
       "      <th>1</th>\n",
       "      <td>AOS</td>\n",
       "      <td>A. O. Smith</td>\n",
       "      <td>Industrials</td>\n",
       "      <td>2017</td>\n",
       "      <td>Industrials</td>\n",
       "      <td>True</td>\n",
       "    </tr>\n",
       "    <tr>\n",
       "      <th>2</th>\n",
       "      <td>ABT</td>\n",
       "      <td>Abbott Laboratories</td>\n",
       "      <td>Health Care</td>\n",
       "      <td>1957</td>\n",
       "      <td>Healthcare</td>\n",
       "      <td>False</td>\n",
       "    </tr>\n",
       "    <tr>\n",
       "      <th>3</th>\n",
       "      <td>ABBV</td>\n",
       "      <td>AbbVie</td>\n",
       "      <td>Health Care</td>\n",
       "      <td>2012</td>\n",
       "      <td>Healthcare</td>\n",
       "      <td>False</td>\n",
       "    </tr>\n",
       "    <tr>\n",
       "      <th>4</th>\n",
       "      <td>ACN</td>\n",
       "      <td>Accenture</td>\n",
       "      <td>Information Technology</td>\n",
       "      <td>2011</td>\n",
       "      <td>Technology</td>\n",
       "      <td>False</td>\n",
       "    </tr>\n",
       "    <tr>\n",
       "      <th>...</th>\n",
       "      <td>...</td>\n",
       "      <td>...</td>\n",
       "      <td>...</td>\n",
       "      <td>...</td>\n",
       "      <td>...</td>\n",
       "      <td>...</td>\n",
       "    </tr>\n",
       "    <tr>\n",
       "      <th>498</th>\n",
       "      <td>XYL</td>\n",
       "      <td>Xylem Inc.</td>\n",
       "      <td>Industrials</td>\n",
       "      <td>2011</td>\n",
       "      <td>Industrials</td>\n",
       "      <td>True</td>\n",
       "    </tr>\n",
       "    <tr>\n",
       "      <th>499</th>\n",
       "      <td>YUM</td>\n",
       "      <td>Yum! Brands</td>\n",
       "      <td>Consumer Discretionary</td>\n",
       "      <td>1997</td>\n",
       "      <td>Consumer Cyclical</td>\n",
       "      <td>False</td>\n",
       "    </tr>\n",
       "    <tr>\n",
       "      <th>500</th>\n",
       "      <td>ZBRA</td>\n",
       "      <td>Zebra Technologies</td>\n",
       "      <td>Information Technology</td>\n",
       "      <td>2019</td>\n",
       "      <td>Technology</td>\n",
       "      <td>False</td>\n",
       "    </tr>\n",
       "    <tr>\n",
       "      <th>501</th>\n",
       "      <td>ZBH</td>\n",
       "      <td>Zimmer Biomet</td>\n",
       "      <td>Health Care</td>\n",
       "      <td>2001</td>\n",
       "      <td>Healthcare</td>\n",
       "      <td>False</td>\n",
       "    </tr>\n",
       "    <tr>\n",
       "      <th>502</th>\n",
       "      <td>ZTS</td>\n",
       "      <td>Zoetis</td>\n",
       "      <td>Health Care</td>\n",
       "      <td>2013</td>\n",
       "      <td>Healthcare</td>\n",
       "      <td>False</td>\n",
       "    </tr>\n",
       "  </tbody>\n",
       "</table>\n",
       "<p>503 rows × 6 columns</p>\n",
       "</div>"
      ],
      "text/plain": [
       "    company_ticker         company_name                  sector  year_added  \\\n",
       "0              MMM                   3M             Industrials        1957   \n",
       "1              AOS          A. O. Smith             Industrials        2017   \n",
       "2              ABT  Abbott Laboratories             Health Care        1957   \n",
       "3             ABBV               AbbVie             Health Care        2012   \n",
       "4              ACN            Accenture  Information Technology        2011   \n",
       "..             ...                  ...                     ...         ...   \n",
       "498            XYL           Xylem Inc.             Industrials        2011   \n",
       "499            YUM          Yum! Brands  Consumer Discretionary        1997   \n",
       "500           ZBRA   Zebra Technologies  Information Technology        2019   \n",
       "501            ZBH        Zimmer Biomet             Health Care        2001   \n",
       "502            ZTS               Zoetis             Health Care        2013   \n",
       "\n",
       "                Sector  Match  \n",
       "0          Industrials   True  \n",
       "1          Industrials   True  \n",
       "2           Healthcare  False  \n",
       "3           Healthcare  False  \n",
       "4           Technology  False  \n",
       "..                 ...    ...  \n",
       "498        Industrials   True  \n",
       "499  Consumer Cyclical  False  \n",
       "500         Technology  False  \n",
       "501         Healthcare  False  \n",
       "502         Healthcare  False  \n",
       "\n",
       "[503 rows x 6 columns]"
      ]
     },
     "execution_count": 36,
     "metadata": {},
     "output_type": "execute_result"
    }
   ],
   "source": [
    "# what sector categorizations do not match between Wikipedia and Yahoo?\n",
    "# Create a new column, Match, with boolean to filter the sectors that differ between sources later\n",
    "df.loc[:,'Match'] = df['sector'] == df['Sector']\n",
    "df"
   ]
  },
  {
   "cell_type": "code",
   "execution_count": null,
   "id": "cbbe9d87",
   "metadata": {},
   "outputs": [],
   "source": [
    "df[~df['Match']]  # only rows where columns differ"
   ]
  },
  {
   "cell_type": "code",
   "execution_count": 131,
   "id": "c65f6d36",
   "metadata": {},
   "outputs": [
    {
     "data": {
      "text/html": [
       "<div>\n",
       "<style scoped>\n",
       "    .dataframe tbody tr th:only-of-type {\n",
       "        vertical-align: middle;\n",
       "    }\n",
       "\n",
       "    .dataframe tbody tr th {\n",
       "        vertical-align: top;\n",
       "    }\n",
       "\n",
       "    .dataframe thead th {\n",
       "        text-align: right;\n",
       "    }\n",
       "</style>\n",
       "<table border=\"1\" class=\"dataframe\">\n",
       "  <thead>\n",
       "    <tr style=\"text-align: right;\">\n",
       "      <th></th>\n",
       "      <th>Sector</th>\n",
       "      <th>MarketCap</th>\n",
       "    </tr>\n",
       "  </thead>\n",
       "  <tbody>\n",
       "    <tr>\n",
       "      <th>9</th>\n",
       "      <td>Technology</td>\n",
       "      <td>17324.870</td>\n",
       "    </tr>\n",
       "    <tr>\n",
       "      <th>1</th>\n",
       "      <td>Communication Services</td>\n",
       "      <td>7677.517</td>\n",
       "    </tr>\n",
       "    <tr>\n",
       "      <th>5</th>\n",
       "      <td>Financial Services</td>\n",
       "      <td>6572.895</td>\n",
       "    </tr>\n",
       "    <tr>\n",
       "      <th>2</th>\n",
       "      <td>Consumer Cyclical</td>\n",
       "      <td>5898.559</td>\n",
       "    </tr>\n",
       "    <tr>\n",
       "      <th>6</th>\n",
       "      <td>Healthcare</td>\n",
       "      <td>5036.250</td>\n",
       "    </tr>\n",
       "    <tr>\n",
       "      <th>7</th>\n",
       "      <td>Industrials</td>\n",
       "      <td>4108.698</td>\n",
       "    </tr>\n",
       "    <tr>\n",
       "      <th>3</th>\n",
       "      <td>Consumer Defensive</td>\n",
       "      <td>3367.465</td>\n",
       "    </tr>\n",
       "    <tr>\n",
       "      <th>4</th>\n",
       "      <td>Energy</td>\n",
       "      <td>1584.529</td>\n",
       "    </tr>\n",
       "    <tr>\n",
       "      <th>10</th>\n",
       "      <td>Utilities</td>\n",
       "      <td>1245.188</td>\n",
       "    </tr>\n",
       "    <tr>\n",
       "      <th>8</th>\n",
       "      <td>Real Estate</td>\n",
       "      <td>1125.256</td>\n",
       "    </tr>\n",
       "    <tr>\n",
       "      <th>0</th>\n",
       "      <td>Basic Materials</td>\n",
       "      <td>890.302</td>\n",
       "    </tr>\n",
       "  </tbody>\n",
       "</table>\n",
       "</div>"
      ],
      "text/plain": [
       "                    Sector  MarketCap\n",
       "9               Technology  17324.870\n",
       "1   Communication Services   7677.517\n",
       "5       Financial Services   6572.895\n",
       "2        Consumer Cyclical   5898.559\n",
       "6               Healthcare   5036.250\n",
       "7              Industrials   4108.698\n",
       "3       Consumer Defensive   3367.465\n",
       "4                   Energy   1584.529\n",
       "10               Utilities   1245.188\n",
       "8              Real Estate   1125.256\n",
       "0          Basic Materials    890.302"
      ]
     },
     "execution_count": 131,
     "metadata": {},
     "output_type": "execute_result"
    }
   ],
   "source": [
    "# # Merge Wikipedia and yfinance market cap dfs\n",
    "# # NOTE: I saved the merged dataset so this code block is no longer neccesssary\n",
    "\n",
    "# df = df.rename(columns={\"company_ticker\": \"Ticker\"})\n",
    "# merged_df = pd.merge(left=snp500_market_cap, right=df, on=['Ticker', 'Sector'])\n",
    "# merged_df.head(2)\n",
    "\n",
    "# See which sectors are adding the most market cap to the index\n",
    "\n",
    "grouped = df.groupby(['Sector'])['MarketCap'].sum().reset_index()\n",
    "grouped['MarketCap'] = round(grouped['MarketCap'] / 1e9, 3)  # Convert to billions\n",
    "grouped.sort_values(by='MarketCap', ascending=False, inplace=True)\n",
    "grouped\n"
   ]
  },
  {
   "cell_type": "code",
   "execution_count": 132,
   "id": "425b7634",
   "metadata": {},
   "outputs": [
    {
     "data": {
      "application/vnd.plotly.v1+json": {
       "config": {
        "plotlyServerURL": "https://plotly.com"
       },
       "data": [
        {
         "customdata": [
          [
           "Technology"
          ],
          [
           "Communication Services"
          ],
          [
           "Financial Services"
          ],
          [
           "Consumer Cyclical"
          ],
          [
           "Healthcare"
          ],
          [
           "Industrials"
          ],
          [
           "Consumer Defensive"
          ],
          [
           "Energy"
          ],
          [
           "Utilities"
          ],
          [
           "Real Estate"
          ],
          [
           "Basic Materials"
          ]
         ],
         "domain": {
          "x": [
           0,
           1
          ],
          "y": [
           0,
           1
          ]
         },
         "hole": 0.6,
         "hovertemplate": "Sector=%{customdata[0]}<br>Market Cap=%{value}<extra></extra>",
         "labels": [
          "Technology",
          "Communication Services",
          "Financial Services",
          "Consumer Cyclical",
          "Healthcare",
          "Industrials",
          "Consumer Defensive",
          "Energy",
          "Utilities",
          "Real Estate",
          "Basic Materials"
         ],
         "legendgroup": "",
         "marker": {
          "colors": [
           "#17becf",
           "#ff7f0e",
           "#8c564b",
           "#2ca02c",
           "#e377c2",
           "#7f7f7f",
           "#d62728",
           "#9467bd",
           "#1f4e1f",
           "#bcbd22",
           "#1f77b4"
          ]
         },
         "name": "",
         "showlegend": true,
         "textinfo": "percent+label",
         "textposition": "outside",
         "type": "pie",
         "values": [
          17324.87,
          7677.517,
          6572.895,
          5898.559,
          5036.25,
          4108.698,
          3367.465,
          1584.529,
          1245.188,
          1125.256,
          890.302
         ]
        }
       ],
       "layout": {
        "annotations": [
         {
          "font": {
           "size": 16
          },
          "showarrow": false,
          "text": "Total Market Cap<br><b>$54.83 Trillion"
         }
        ],
        "legend": {
         "tracegroupgap": 0
        },
        "showlegend": false,
        "template": {
         "data": {
          "bar": [
           {
            "error_x": {
             "color": "#2a3f5f"
            },
            "error_y": {
             "color": "#2a3f5f"
            },
            "marker": {
             "line": {
              "color": "#E5ECF6",
              "width": 0.5
             },
             "pattern": {
              "fillmode": "overlay",
              "size": 10,
              "solidity": 0.2
             }
            },
            "type": "bar"
           }
          ],
          "barpolar": [
           {
            "marker": {
             "line": {
              "color": "#E5ECF6",
              "width": 0.5
             },
             "pattern": {
              "fillmode": "overlay",
              "size": 10,
              "solidity": 0.2
             }
            },
            "type": "barpolar"
           }
          ],
          "carpet": [
           {
            "aaxis": {
             "endlinecolor": "#2a3f5f",
             "gridcolor": "white",
             "linecolor": "white",
             "minorgridcolor": "white",
             "startlinecolor": "#2a3f5f"
            },
            "baxis": {
             "endlinecolor": "#2a3f5f",
             "gridcolor": "white",
             "linecolor": "white",
             "minorgridcolor": "white",
             "startlinecolor": "#2a3f5f"
            },
            "type": "carpet"
           }
          ],
          "choropleth": [
           {
            "colorbar": {
             "outlinewidth": 0,
             "ticks": ""
            },
            "type": "choropleth"
           }
          ],
          "contour": [
           {
            "colorbar": {
             "outlinewidth": 0,
             "ticks": ""
            },
            "colorscale": [
             [
              0,
              "#0d0887"
             ],
             [
              0.1111111111111111,
              "#46039f"
             ],
             [
              0.2222222222222222,
              "#7201a8"
             ],
             [
              0.3333333333333333,
              "#9c179e"
             ],
             [
              0.4444444444444444,
              "#bd3786"
             ],
             [
              0.5555555555555556,
              "#d8576b"
             ],
             [
              0.6666666666666666,
              "#ed7953"
             ],
             [
              0.7777777777777778,
              "#fb9f3a"
             ],
             [
              0.8888888888888888,
              "#fdca26"
             ],
             [
              1,
              "#f0f921"
             ]
            ],
            "type": "contour"
           }
          ],
          "contourcarpet": [
           {
            "colorbar": {
             "outlinewidth": 0,
             "ticks": ""
            },
            "type": "contourcarpet"
           }
          ],
          "heatmap": [
           {
            "colorbar": {
             "outlinewidth": 0,
             "ticks": ""
            },
            "colorscale": [
             [
              0,
              "#0d0887"
             ],
             [
              0.1111111111111111,
              "#46039f"
             ],
             [
              0.2222222222222222,
              "#7201a8"
             ],
             [
              0.3333333333333333,
              "#9c179e"
             ],
             [
              0.4444444444444444,
              "#bd3786"
             ],
             [
              0.5555555555555556,
              "#d8576b"
             ],
             [
              0.6666666666666666,
              "#ed7953"
             ],
             [
              0.7777777777777778,
              "#fb9f3a"
             ],
             [
              0.8888888888888888,
              "#fdca26"
             ],
             [
              1,
              "#f0f921"
             ]
            ],
            "type": "heatmap"
           }
          ],
          "heatmapgl": [
           {
            "colorbar": {
             "outlinewidth": 0,
             "ticks": ""
            },
            "colorscale": [
             [
              0,
              "#0d0887"
             ],
             [
              0.1111111111111111,
              "#46039f"
             ],
             [
              0.2222222222222222,
              "#7201a8"
             ],
             [
              0.3333333333333333,
              "#9c179e"
             ],
             [
              0.4444444444444444,
              "#bd3786"
             ],
             [
              0.5555555555555556,
              "#d8576b"
             ],
             [
              0.6666666666666666,
              "#ed7953"
             ],
             [
              0.7777777777777778,
              "#fb9f3a"
             ],
             [
              0.8888888888888888,
              "#fdca26"
             ],
             [
              1,
              "#f0f921"
             ]
            ],
            "type": "heatmapgl"
           }
          ],
          "histogram": [
           {
            "marker": {
             "pattern": {
              "fillmode": "overlay",
              "size": 10,
              "solidity": 0.2
             }
            },
            "type": "histogram"
           }
          ],
          "histogram2d": [
           {
            "colorbar": {
             "outlinewidth": 0,
             "ticks": ""
            },
            "colorscale": [
             [
              0,
              "#0d0887"
             ],
             [
              0.1111111111111111,
              "#46039f"
             ],
             [
              0.2222222222222222,
              "#7201a8"
             ],
             [
              0.3333333333333333,
              "#9c179e"
             ],
             [
              0.4444444444444444,
              "#bd3786"
             ],
             [
              0.5555555555555556,
              "#d8576b"
             ],
             [
              0.6666666666666666,
              "#ed7953"
             ],
             [
              0.7777777777777778,
              "#fb9f3a"
             ],
             [
              0.8888888888888888,
              "#fdca26"
             ],
             [
              1,
              "#f0f921"
             ]
            ],
            "type": "histogram2d"
           }
          ],
          "histogram2dcontour": [
           {
            "colorbar": {
             "outlinewidth": 0,
             "ticks": ""
            },
            "colorscale": [
             [
              0,
              "#0d0887"
             ],
             [
              0.1111111111111111,
              "#46039f"
             ],
             [
              0.2222222222222222,
              "#7201a8"
             ],
             [
              0.3333333333333333,
              "#9c179e"
             ],
             [
              0.4444444444444444,
              "#bd3786"
             ],
             [
              0.5555555555555556,
              "#d8576b"
             ],
             [
              0.6666666666666666,
              "#ed7953"
             ],
             [
              0.7777777777777778,
              "#fb9f3a"
             ],
             [
              0.8888888888888888,
              "#fdca26"
             ],
             [
              1,
              "#f0f921"
             ]
            ],
            "type": "histogram2dcontour"
           }
          ],
          "mesh3d": [
           {
            "colorbar": {
             "outlinewidth": 0,
             "ticks": ""
            },
            "type": "mesh3d"
           }
          ],
          "parcoords": [
           {
            "line": {
             "colorbar": {
              "outlinewidth": 0,
              "ticks": ""
             }
            },
            "type": "parcoords"
           }
          ],
          "pie": [
           {
            "automargin": true,
            "type": "pie"
           }
          ],
          "scatter": [
           {
            "fillpattern": {
             "fillmode": "overlay",
             "size": 10,
             "solidity": 0.2
            },
            "type": "scatter"
           }
          ],
          "scatter3d": [
           {
            "line": {
             "colorbar": {
              "outlinewidth": 0,
              "ticks": ""
             }
            },
            "marker": {
             "colorbar": {
              "outlinewidth": 0,
              "ticks": ""
             }
            },
            "type": "scatter3d"
           }
          ],
          "scattercarpet": [
           {
            "marker": {
             "colorbar": {
              "outlinewidth": 0,
              "ticks": ""
             }
            },
            "type": "scattercarpet"
           }
          ],
          "scattergeo": [
           {
            "marker": {
             "colorbar": {
              "outlinewidth": 0,
              "ticks": ""
             }
            },
            "type": "scattergeo"
           }
          ],
          "scattergl": [
           {
            "marker": {
             "colorbar": {
              "outlinewidth": 0,
              "ticks": ""
             }
            },
            "type": "scattergl"
           }
          ],
          "scattermapbox": [
           {
            "marker": {
             "colorbar": {
              "outlinewidth": 0,
              "ticks": ""
             }
            },
            "type": "scattermapbox"
           }
          ],
          "scatterpolar": [
           {
            "marker": {
             "colorbar": {
              "outlinewidth": 0,
              "ticks": ""
             }
            },
            "type": "scatterpolar"
           }
          ],
          "scatterpolargl": [
           {
            "marker": {
             "colorbar": {
              "outlinewidth": 0,
              "ticks": ""
             }
            },
            "type": "scatterpolargl"
           }
          ],
          "scatterternary": [
           {
            "marker": {
             "colorbar": {
              "outlinewidth": 0,
              "ticks": ""
             }
            },
            "type": "scatterternary"
           }
          ],
          "surface": [
           {
            "colorbar": {
             "outlinewidth": 0,
             "ticks": ""
            },
            "colorscale": [
             [
              0,
              "#0d0887"
             ],
             [
              0.1111111111111111,
              "#46039f"
             ],
             [
              0.2222222222222222,
              "#7201a8"
             ],
             [
              0.3333333333333333,
              "#9c179e"
             ],
             [
              0.4444444444444444,
              "#bd3786"
             ],
             [
              0.5555555555555556,
              "#d8576b"
             ],
             [
              0.6666666666666666,
              "#ed7953"
             ],
             [
              0.7777777777777778,
              "#fb9f3a"
             ],
             [
              0.8888888888888888,
              "#fdca26"
             ],
             [
              1,
              "#f0f921"
             ]
            ],
            "type": "surface"
           }
          ],
          "table": [
           {
            "cells": {
             "fill": {
              "color": "#EBF0F8"
             },
             "line": {
              "color": "white"
             }
            },
            "header": {
             "fill": {
              "color": "#C8D4E3"
             },
             "line": {
              "color": "white"
             }
            },
            "type": "table"
           }
          ]
         },
         "layout": {
          "annotationdefaults": {
           "arrowcolor": "#2a3f5f",
           "arrowhead": 0,
           "arrowwidth": 1
          },
          "autotypenumbers": "strict",
          "coloraxis": {
           "colorbar": {
            "outlinewidth": 0,
            "ticks": ""
           }
          },
          "colorscale": {
           "diverging": [
            [
             0,
             "#8e0152"
            ],
            [
             0.1,
             "#c51b7d"
            ],
            [
             0.2,
             "#de77ae"
            ],
            [
             0.3,
             "#f1b6da"
            ],
            [
             0.4,
             "#fde0ef"
            ],
            [
             0.5,
             "#f7f7f7"
            ],
            [
             0.6,
             "#e6f5d0"
            ],
            [
             0.7,
             "#b8e186"
            ],
            [
             0.8,
             "#7fbc41"
            ],
            [
             0.9,
             "#4d9221"
            ],
            [
             1,
             "#276419"
            ]
           ],
           "sequential": [
            [
             0,
             "#0d0887"
            ],
            [
             0.1111111111111111,
             "#46039f"
            ],
            [
             0.2222222222222222,
             "#7201a8"
            ],
            [
             0.3333333333333333,
             "#9c179e"
            ],
            [
             0.4444444444444444,
             "#bd3786"
            ],
            [
             0.5555555555555556,
             "#d8576b"
            ],
            [
             0.6666666666666666,
             "#ed7953"
            ],
            [
             0.7777777777777778,
             "#fb9f3a"
            ],
            [
             0.8888888888888888,
             "#fdca26"
            ],
            [
             1,
             "#f0f921"
            ]
           ],
           "sequentialminus": [
            [
             0,
             "#0d0887"
            ],
            [
             0.1111111111111111,
             "#46039f"
            ],
            [
             0.2222222222222222,
             "#7201a8"
            ],
            [
             0.3333333333333333,
             "#9c179e"
            ],
            [
             0.4444444444444444,
             "#bd3786"
            ],
            [
             0.5555555555555556,
             "#d8576b"
            ],
            [
             0.6666666666666666,
             "#ed7953"
            ],
            [
             0.7777777777777778,
             "#fb9f3a"
            ],
            [
             0.8888888888888888,
             "#fdca26"
            ],
            [
             1,
             "#f0f921"
            ]
           ]
          },
          "colorway": [
           "#636efa",
           "#EF553B",
           "#00cc96",
           "#ab63fa",
           "#FFA15A",
           "#19d3f3",
           "#FF6692",
           "#B6E880",
           "#FF97FF",
           "#FECB52"
          ],
          "font": {
           "color": "#2a3f5f"
          },
          "geo": {
           "bgcolor": "white",
           "lakecolor": "white",
           "landcolor": "#E5ECF6",
           "showlakes": true,
           "showland": true,
           "subunitcolor": "white"
          },
          "hoverlabel": {
           "align": "left"
          },
          "hovermode": "closest",
          "mapbox": {
           "style": "light"
          },
          "paper_bgcolor": "white",
          "plot_bgcolor": "#E5ECF6",
          "polar": {
           "angularaxis": {
            "gridcolor": "white",
            "linecolor": "white",
            "ticks": ""
           },
           "bgcolor": "#E5ECF6",
           "radialaxis": {
            "gridcolor": "white",
            "linecolor": "white",
            "ticks": ""
           }
          },
          "scene": {
           "xaxis": {
            "backgroundcolor": "#E5ECF6",
            "gridcolor": "white",
            "gridwidth": 2,
            "linecolor": "white",
            "showbackground": true,
            "ticks": "",
            "zerolinecolor": "white"
           },
           "yaxis": {
            "backgroundcolor": "#E5ECF6",
            "gridcolor": "white",
            "gridwidth": 2,
            "linecolor": "white",
            "showbackground": true,
            "ticks": "",
            "zerolinecolor": "white"
           },
           "zaxis": {
            "backgroundcolor": "#E5ECF6",
            "gridcolor": "white",
            "gridwidth": 2,
            "linecolor": "white",
            "showbackground": true,
            "ticks": "",
            "zerolinecolor": "white"
           }
          },
          "shapedefaults": {
           "line": {
            "color": "#2a3f5f"
           }
          },
          "ternary": {
           "aaxis": {
            "gridcolor": "white",
            "linecolor": "white",
            "ticks": ""
           },
           "baxis": {
            "gridcolor": "white",
            "linecolor": "white",
            "ticks": ""
           },
           "bgcolor": "#E5ECF6",
           "caxis": {
            "gridcolor": "white",
            "linecolor": "white",
            "ticks": ""
           }
          },
          "title": {
           "x": 0.05
          },
          "xaxis": {
           "automargin": true,
           "gridcolor": "white",
           "linecolor": "white",
           "ticks": "",
           "title": {
            "standoff": 15
           },
           "zerolinecolor": "white",
           "zerolinewidth": 2
          },
          "yaxis": {
           "automargin": true,
           "gridcolor": "white",
           "linecolor": "white",
           "ticks": "",
           "title": {
            "standoff": 15
           },
           "zerolinecolor": "white",
           "zerolinewidth": 2
          }
         }
        },
        "title": {
         "text": "S&P 500 Market Capitalization by Sector (June 2025)"
        }
       }
      }
     },
     "metadata": {},
     "output_type": "display_data"
    }
   ],
   "source": [
    "\n",
    "# Create bar chart\n",
    "fig_market_cap = px.pie(\n",
    "    grouped,\n",
    "    names='Sector',\n",
    "    values='MarketCap',\n",
    "    color='Sector',\n",
    "    hole=0.6,\n",
    "    color_discrete_map=color_map,\n",
    "    title='S&P 500 Market Capitalization by Sector (June 2025)',\n",
    "    labels={\"MarketCap\": \"Market Cap\"}\n",
    ")\n",
    "\n",
    "# Add center text using graph_objects\n",
    "fig_market_cap.update_layout(\n",
    "    annotations=[dict(\n",
    "        text='Total Market Cap<br><b>$54.83 Trillion',\n",
    "        font_size=16,\n",
    "        showarrow=False,\n",
    "    )],\n",
    "    showlegend=False\n",
    ")\n",
    "fig_market_cap.update_traces(textposition='outside', textinfo='percent+label')\n",
    "\n",
    "fig_market_cap.show()"
   ]
  },
  {
   "cell_type": "code",
   "execution_count": 126,
   "id": "1963244c",
   "metadata": {},
   "outputs": [],
   "source": [
    "from plotly.subplots import make_subplots\n",
    "import plotly.graph_objects as go"
   ]
  },
  {
   "cell_type": "code",
   "execution_count": 136,
   "id": "ebe5b1aa",
   "metadata": {},
   "outputs": [
    {
     "data": {
      "application/vnd.plotly.v1+json": {
       "config": {
        "plotlyServerURL": "https://plotly.com"
       },
       "data": [
        {
         "customdata": [
          [
           "Technology"
          ],
          [
           "Industrials"
          ],
          [
           "Financial Services"
          ],
          [
           "Healthcare"
          ],
          [
           "Consumer Cyclical"
          ],
          [
           "Consumer Defensive"
          ],
          [
           "Utilities"
          ],
          [
           "Real Estate"
          ],
          [
           "Communication Services"
          ],
          [
           "Energy"
          ],
          [
           "Basic Materials"
          ]
         ],
         "domain": {
          "x": [
           0,
           0.45
          ],
          "y": [
           0,
           1
          ]
         },
         "hole": 0.6,
         "hovertemplate": "Sector=%{customdata[0]}<br>Count=%{value}<extra></extra>",
         "labels": [
          "Technology",
          "Industrials",
          "Financial Services",
          "Healthcare",
          "Consumer Cyclical",
          "Consumer Defensive",
          "Utilities",
          "Real Estate",
          "Communication Services",
          "Energy",
          "Basic Materials"
         ],
         "legendgroup": "",
         "marker": {
          "colors": [
           "#17becf",
           "#7f7f7f",
           "#8c564b",
           "#e377c2",
           "#2ca02c",
           "#d62728",
           "#1f4e1f",
           "#bcbd22",
           "#ff7f0e",
           "#9467bd",
           "#1f77b4"
          ]
         },
         "name": "",
         "showlegend": true,
         "textinfo": "label+percent",
         "textposition": "outside",
         "type": "pie",
         "values": [
          82,
          71,
          67,
          61,
          56,
          36,
          31,
          31,
          23,
          23,
          20
         ]
        },
        {
         "customdata": [
          [
           "Technology"
          ],
          [
           "Communication Services"
          ],
          [
           "Financial Services"
          ],
          [
           "Consumer Cyclical"
          ],
          [
           "Healthcare"
          ],
          [
           "Industrials"
          ],
          [
           "Consumer Defensive"
          ],
          [
           "Energy"
          ],
          [
           "Utilities"
          ],
          [
           "Real Estate"
          ],
          [
           "Basic Materials"
          ]
         ],
         "domain": {
          "x": [
           0.55,
           1
          ],
          "y": [
           0,
           1
          ]
         },
         "hole": 0.6,
         "hovertemplate": "Sector=%{customdata[0]}<br>Market Cap=%{value}<extra></extra>",
         "labels": [
          "Technology",
          "Communication Services",
          "Financial Services",
          "Consumer Cyclical",
          "Healthcare",
          "Industrials",
          "Consumer Defensive",
          "Energy",
          "Utilities",
          "Real Estate",
          "Basic Materials"
         ],
         "legendgroup": "",
         "marker": {
          "colors": [
           "#17becf",
           "#ff7f0e",
           "#8c564b",
           "#2ca02c",
           "#e377c2",
           "#7f7f7f",
           "#d62728",
           "#9467bd",
           "#1f4e1f",
           "#bcbd22",
           "#1f77b4"
          ]
         },
         "name": "",
         "showlegend": true,
         "textinfo": "percent+label",
         "textposition": "outside",
         "type": "pie",
         "values": [
          17324.87,
          7677.517,
          6572.895,
          5898.559,
          5036.25,
          4108.698,
          3367.465,
          1584.529,
          1245.188,
          1125.256,
          890.302
         ]
        }
       ],
       "layout": {
        "annotations": [
         {
          "font": {
           "size": 16
          },
          "showarrow": false,
          "text": "Total Count<br><b>503 Companies",
          "x": 0.225,
          "xanchor": "center",
          "xref": "paper",
          "y": 0.45,
          "yanchor": "bottom",
          "yref": "paper"
         },
         {
          "font": {
           "size": 16
          },
          "showarrow": false,
          "text": "Total Market Cap<br><b>$54.83 Trillion",
          "x": 0.78,
          "xanchor": "center",
          "xref": "paper",
          "y": 0.45,
          "yanchor": "bottom",
          "yref": "paper"
         }
        ],
        "showlegend": false,
        "template": {
         "data": {
          "bar": [
           {
            "error_x": {
             "color": "#2a3f5f"
            },
            "error_y": {
             "color": "#2a3f5f"
            },
            "marker": {
             "line": {
              "color": "#E5ECF6",
              "width": 0.5
             },
             "pattern": {
              "fillmode": "overlay",
              "size": 10,
              "solidity": 0.2
             }
            },
            "type": "bar"
           }
          ],
          "barpolar": [
           {
            "marker": {
             "line": {
              "color": "#E5ECF6",
              "width": 0.5
             },
             "pattern": {
              "fillmode": "overlay",
              "size": 10,
              "solidity": 0.2
             }
            },
            "type": "barpolar"
           }
          ],
          "carpet": [
           {
            "aaxis": {
             "endlinecolor": "#2a3f5f",
             "gridcolor": "white",
             "linecolor": "white",
             "minorgridcolor": "white",
             "startlinecolor": "#2a3f5f"
            },
            "baxis": {
             "endlinecolor": "#2a3f5f",
             "gridcolor": "white",
             "linecolor": "white",
             "minorgridcolor": "white",
             "startlinecolor": "#2a3f5f"
            },
            "type": "carpet"
           }
          ],
          "choropleth": [
           {
            "colorbar": {
             "outlinewidth": 0,
             "ticks": ""
            },
            "type": "choropleth"
           }
          ],
          "contour": [
           {
            "colorbar": {
             "outlinewidth": 0,
             "ticks": ""
            },
            "colorscale": [
             [
              0,
              "#0d0887"
             ],
             [
              0.1111111111111111,
              "#46039f"
             ],
             [
              0.2222222222222222,
              "#7201a8"
             ],
             [
              0.3333333333333333,
              "#9c179e"
             ],
             [
              0.4444444444444444,
              "#bd3786"
             ],
             [
              0.5555555555555556,
              "#d8576b"
             ],
             [
              0.6666666666666666,
              "#ed7953"
             ],
             [
              0.7777777777777778,
              "#fb9f3a"
             ],
             [
              0.8888888888888888,
              "#fdca26"
             ],
             [
              1,
              "#f0f921"
             ]
            ],
            "type": "contour"
           }
          ],
          "contourcarpet": [
           {
            "colorbar": {
             "outlinewidth": 0,
             "ticks": ""
            },
            "type": "contourcarpet"
           }
          ],
          "heatmap": [
           {
            "colorbar": {
             "outlinewidth": 0,
             "ticks": ""
            },
            "colorscale": [
             [
              0,
              "#0d0887"
             ],
             [
              0.1111111111111111,
              "#46039f"
             ],
             [
              0.2222222222222222,
              "#7201a8"
             ],
             [
              0.3333333333333333,
              "#9c179e"
             ],
             [
              0.4444444444444444,
              "#bd3786"
             ],
             [
              0.5555555555555556,
              "#d8576b"
             ],
             [
              0.6666666666666666,
              "#ed7953"
             ],
             [
              0.7777777777777778,
              "#fb9f3a"
             ],
             [
              0.8888888888888888,
              "#fdca26"
             ],
             [
              1,
              "#f0f921"
             ]
            ],
            "type": "heatmap"
           }
          ],
          "heatmapgl": [
           {
            "colorbar": {
             "outlinewidth": 0,
             "ticks": ""
            },
            "colorscale": [
             [
              0,
              "#0d0887"
             ],
             [
              0.1111111111111111,
              "#46039f"
             ],
             [
              0.2222222222222222,
              "#7201a8"
             ],
             [
              0.3333333333333333,
              "#9c179e"
             ],
             [
              0.4444444444444444,
              "#bd3786"
             ],
             [
              0.5555555555555556,
              "#d8576b"
             ],
             [
              0.6666666666666666,
              "#ed7953"
             ],
             [
              0.7777777777777778,
              "#fb9f3a"
             ],
             [
              0.8888888888888888,
              "#fdca26"
             ],
             [
              1,
              "#f0f921"
             ]
            ],
            "type": "heatmapgl"
           }
          ],
          "histogram": [
           {
            "marker": {
             "pattern": {
              "fillmode": "overlay",
              "size": 10,
              "solidity": 0.2
             }
            },
            "type": "histogram"
           }
          ],
          "histogram2d": [
           {
            "colorbar": {
             "outlinewidth": 0,
             "ticks": ""
            },
            "colorscale": [
             [
              0,
              "#0d0887"
             ],
             [
              0.1111111111111111,
              "#46039f"
             ],
             [
              0.2222222222222222,
              "#7201a8"
             ],
             [
              0.3333333333333333,
              "#9c179e"
             ],
             [
              0.4444444444444444,
              "#bd3786"
             ],
             [
              0.5555555555555556,
              "#d8576b"
             ],
             [
              0.6666666666666666,
              "#ed7953"
             ],
             [
              0.7777777777777778,
              "#fb9f3a"
             ],
             [
              0.8888888888888888,
              "#fdca26"
             ],
             [
              1,
              "#f0f921"
             ]
            ],
            "type": "histogram2d"
           }
          ],
          "histogram2dcontour": [
           {
            "colorbar": {
             "outlinewidth": 0,
             "ticks": ""
            },
            "colorscale": [
             [
              0,
              "#0d0887"
             ],
             [
              0.1111111111111111,
              "#46039f"
             ],
             [
              0.2222222222222222,
              "#7201a8"
             ],
             [
              0.3333333333333333,
              "#9c179e"
             ],
             [
              0.4444444444444444,
              "#bd3786"
             ],
             [
              0.5555555555555556,
              "#d8576b"
             ],
             [
              0.6666666666666666,
              "#ed7953"
             ],
             [
              0.7777777777777778,
              "#fb9f3a"
             ],
             [
              0.8888888888888888,
              "#fdca26"
             ],
             [
              1,
              "#f0f921"
             ]
            ],
            "type": "histogram2dcontour"
           }
          ],
          "mesh3d": [
           {
            "colorbar": {
             "outlinewidth": 0,
             "ticks": ""
            },
            "type": "mesh3d"
           }
          ],
          "parcoords": [
           {
            "line": {
             "colorbar": {
              "outlinewidth": 0,
              "ticks": ""
             }
            },
            "type": "parcoords"
           }
          ],
          "pie": [
           {
            "automargin": true,
            "type": "pie"
           }
          ],
          "scatter": [
           {
            "fillpattern": {
             "fillmode": "overlay",
             "size": 10,
             "solidity": 0.2
            },
            "type": "scatter"
           }
          ],
          "scatter3d": [
           {
            "line": {
             "colorbar": {
              "outlinewidth": 0,
              "ticks": ""
             }
            },
            "marker": {
             "colorbar": {
              "outlinewidth": 0,
              "ticks": ""
             }
            },
            "type": "scatter3d"
           }
          ],
          "scattercarpet": [
           {
            "marker": {
             "colorbar": {
              "outlinewidth": 0,
              "ticks": ""
             }
            },
            "type": "scattercarpet"
           }
          ],
          "scattergeo": [
           {
            "marker": {
             "colorbar": {
              "outlinewidth": 0,
              "ticks": ""
             }
            },
            "type": "scattergeo"
           }
          ],
          "scattergl": [
           {
            "marker": {
             "colorbar": {
              "outlinewidth": 0,
              "ticks": ""
             }
            },
            "type": "scattergl"
           }
          ],
          "scattermapbox": [
           {
            "marker": {
             "colorbar": {
              "outlinewidth": 0,
              "ticks": ""
             }
            },
            "type": "scattermapbox"
           }
          ],
          "scatterpolar": [
           {
            "marker": {
             "colorbar": {
              "outlinewidth": 0,
              "ticks": ""
             }
            },
            "type": "scatterpolar"
           }
          ],
          "scatterpolargl": [
           {
            "marker": {
             "colorbar": {
              "outlinewidth": 0,
              "ticks": ""
             }
            },
            "type": "scatterpolargl"
           }
          ],
          "scatterternary": [
           {
            "marker": {
             "colorbar": {
              "outlinewidth": 0,
              "ticks": ""
             }
            },
            "type": "scatterternary"
           }
          ],
          "surface": [
           {
            "colorbar": {
             "outlinewidth": 0,
             "ticks": ""
            },
            "colorscale": [
             [
              0,
              "#0d0887"
             ],
             [
              0.1111111111111111,
              "#46039f"
             ],
             [
              0.2222222222222222,
              "#7201a8"
             ],
             [
              0.3333333333333333,
              "#9c179e"
             ],
             [
              0.4444444444444444,
              "#bd3786"
             ],
             [
              0.5555555555555556,
              "#d8576b"
             ],
             [
              0.6666666666666666,
              "#ed7953"
             ],
             [
              0.7777777777777778,
              "#fb9f3a"
             ],
             [
              0.8888888888888888,
              "#fdca26"
             ],
             [
              1,
              "#f0f921"
             ]
            ],
            "type": "surface"
           }
          ],
          "table": [
           {
            "cells": {
             "fill": {
              "color": "#EBF0F8"
             },
             "line": {
              "color": "white"
             }
            },
            "header": {
             "fill": {
              "color": "#C8D4E3"
             },
             "line": {
              "color": "white"
             }
            },
            "type": "table"
           }
          ]
         },
         "layout": {
          "annotationdefaults": {
           "arrowcolor": "#2a3f5f",
           "arrowhead": 0,
           "arrowwidth": 1
          },
          "autotypenumbers": "strict",
          "coloraxis": {
           "colorbar": {
            "outlinewidth": 0,
            "ticks": ""
           }
          },
          "colorscale": {
           "diverging": [
            [
             0,
             "#8e0152"
            ],
            [
             0.1,
             "#c51b7d"
            ],
            [
             0.2,
             "#de77ae"
            ],
            [
             0.3,
             "#f1b6da"
            ],
            [
             0.4,
             "#fde0ef"
            ],
            [
             0.5,
             "#f7f7f7"
            ],
            [
             0.6,
             "#e6f5d0"
            ],
            [
             0.7,
             "#b8e186"
            ],
            [
             0.8,
             "#7fbc41"
            ],
            [
             0.9,
             "#4d9221"
            ],
            [
             1,
             "#276419"
            ]
           ],
           "sequential": [
            [
             0,
             "#0d0887"
            ],
            [
             0.1111111111111111,
             "#46039f"
            ],
            [
             0.2222222222222222,
             "#7201a8"
            ],
            [
             0.3333333333333333,
             "#9c179e"
            ],
            [
             0.4444444444444444,
             "#bd3786"
            ],
            [
             0.5555555555555556,
             "#d8576b"
            ],
            [
             0.6666666666666666,
             "#ed7953"
            ],
            [
             0.7777777777777778,
             "#fb9f3a"
            ],
            [
             0.8888888888888888,
             "#fdca26"
            ],
            [
             1,
             "#f0f921"
            ]
           ],
           "sequentialminus": [
            [
             0,
             "#0d0887"
            ],
            [
             0.1111111111111111,
             "#46039f"
            ],
            [
             0.2222222222222222,
             "#7201a8"
            ],
            [
             0.3333333333333333,
             "#9c179e"
            ],
            [
             0.4444444444444444,
             "#bd3786"
            ],
            [
             0.5555555555555556,
             "#d8576b"
            ],
            [
             0.6666666666666666,
             "#ed7953"
            ],
            [
             0.7777777777777778,
             "#fb9f3a"
            ],
            [
             0.8888888888888888,
             "#fdca26"
            ],
            [
             1,
             "#f0f921"
            ]
           ]
          },
          "colorway": [
           "#636efa",
           "#EF553B",
           "#00cc96",
           "#ab63fa",
           "#FFA15A",
           "#19d3f3",
           "#FF6692",
           "#B6E880",
           "#FF97FF",
           "#FECB52"
          ],
          "font": {
           "color": "#2a3f5f"
          },
          "geo": {
           "bgcolor": "white",
           "lakecolor": "white",
           "landcolor": "#E5ECF6",
           "showlakes": true,
           "showland": true,
           "subunitcolor": "white"
          },
          "hoverlabel": {
           "align": "left"
          },
          "hovermode": "closest",
          "mapbox": {
           "style": "light"
          },
          "paper_bgcolor": "white",
          "plot_bgcolor": "#E5ECF6",
          "polar": {
           "angularaxis": {
            "gridcolor": "white",
            "linecolor": "white",
            "ticks": ""
           },
           "bgcolor": "#E5ECF6",
           "radialaxis": {
            "gridcolor": "white",
            "linecolor": "white",
            "ticks": ""
           }
          },
          "scene": {
           "xaxis": {
            "backgroundcolor": "#E5ECF6",
            "gridcolor": "white",
            "gridwidth": 2,
            "linecolor": "white",
            "showbackground": true,
            "ticks": "",
            "zerolinecolor": "white"
           },
           "yaxis": {
            "backgroundcolor": "#E5ECF6",
            "gridcolor": "white",
            "gridwidth": 2,
            "linecolor": "white",
            "showbackground": true,
            "ticks": "",
            "zerolinecolor": "white"
           },
           "zaxis": {
            "backgroundcolor": "#E5ECF6",
            "gridcolor": "white",
            "gridwidth": 2,
            "linecolor": "white",
            "showbackground": true,
            "ticks": "",
            "zerolinecolor": "white"
           }
          },
          "shapedefaults": {
           "line": {
            "color": "#2a3f5f"
           }
          },
          "ternary": {
           "aaxis": {
            "gridcolor": "white",
            "linecolor": "white",
            "ticks": ""
           },
           "baxis": {
            "gridcolor": "white",
            "linecolor": "white",
            "ticks": ""
           },
           "bgcolor": "#E5ECF6",
           "caxis": {
            "gridcolor": "white",
            "linecolor": "white",
            "ticks": ""
           }
          },
          "title": {
           "x": 0.05
          },
          "xaxis": {
           "automargin": true,
           "gridcolor": "white",
           "linecolor": "white",
           "ticks": "",
           "title": {
            "standoff": 15
           },
           "zerolinecolor": "white",
           "zerolinewidth": 2
          },
          "yaxis": {
           "automargin": true,
           "gridcolor": "white",
           "linecolor": "white",
           "ticks": "",
           "title": {
            "standoff": 15
           },
           "zerolinecolor": "white",
           "zerolinewidth": 2
          }
         }
        },
        "title": {
         "text": "S&P 500 by Sector and Market Capitalization (June 2025)"
        }
       }
      }
     },
     "metadata": {},
     "output_type": "display_data"
    }
   ],
   "source": [
    "# Create subplots with 1 row and 2 columns\n",
    "fig_combined = make_subplots(rows=1, cols=2, specs=[[{'type':'domain'}, {'type':'domain'}]],\n",
    "                    subplot_titles=['Pie Chart 1', 'Pie Chart 2'])\n",
    "\n",
    "\n",
    "pie1 = fig_sector.data[0]\n",
    "pie1.hole = 0.6\n",
    "pie1.textinfo='label+percent'\n",
    "\n",
    "fig_combined.add_trace(pie1, row=1, col=1)\n",
    "\n",
    "\n",
    "\n",
    "fig_combined.add_trace(fig_market_cap.data[0], row=1, col=2)\n",
    "\n",
    "\n",
    "fig_combined.update_layout(\n",
    "    annotations=[\n",
    "        dict(text='Total Count<br><b>503 Companies', x=0.225, y=0.45, font_size=16, showarrow=False),  # Center of left donut\n",
    "        dict(text='Total Market Cap<br><b>$54.83 Trillion', x=0.78, y=0.45, font_size=16, showarrow=False)   # Center of right donut\n",
    "    ], \n",
    "    showlegend=False,\n",
    "    title_text='S&P 500 by Sector and Market Capitalization (June 2025)'\n",
    ")\n",
    "fig_combined.show()"
   ]
  },
  {
   "cell_type": "markdown",
   "id": "96b48baf",
   "metadata": {},
   "source": [
    "- Technology accounts for approximately 1/3 of market cap hence how it performs signficantly influence the economy. Who are the biggest players in this sector?\n",
    "- Who are the biggest players, with the most market cap, in the Communications and Financials sectors?"
   ]
  },
  {
   "cell_type": "code",
   "execution_count": 107,
   "id": "ed08e0ce",
   "metadata": {},
   "outputs": [
    {
     "data": {
      "text/html": [
       "<div>\n",
       "<style scoped>\n",
       "    .dataframe tbody tr th:only-of-type {\n",
       "        vertical-align: middle;\n",
       "    }\n",
       "\n",
       "    .dataframe tbody tr th {\n",
       "        vertical-align: top;\n",
       "    }\n",
       "\n",
       "    .dataframe thead th {\n",
       "        text-align: right;\n",
       "    }\n",
       "</style>\n",
       "<table border=\"1\" class=\"dataframe\">\n",
       "  <thead>\n",
       "    <tr style=\"text-align: right;\">\n",
       "      <th></th>\n",
       "      <th>Ticker</th>\n",
       "      <th>Sector</th>\n",
       "      <th>MarketCap</th>\n",
       "      <th>Security</th>\n",
       "      <th>GICS Sector</th>\n",
       "      <th>GICS Sub-Industry</th>\n",
       "      <th>Headquarters Location</th>\n",
       "      <th>Date added</th>\n",
       "      <th>CIK</th>\n",
       "      <th>Founded</th>\n",
       "      <th>Year_Added</th>\n",
       "    </tr>\n",
       "  </thead>\n",
       "  <tbody>\n",
       "    <tr>\n",
       "      <th>13</th>\n",
       "      <td>ALB</td>\n",
       "      <td>Basic Materials</td>\n",
       "      <td>7.039658e+09</td>\n",
       "      <td>Albemarle Corporation</td>\n",
       "      <td>Materials</td>\n",
       "      <td>Specialty Chemicals</td>\n",
       "      <td>Charlotte, North Carolina</td>\n",
       "      <td>2016-07-01</td>\n",
       "      <td>915913</td>\n",
       "      <td>1994</td>\n",
       "      <td>2016</td>\n",
       "    </tr>\n",
       "    <tr>\n",
       "      <th>158</th>\n",
       "      <td>EMN</td>\n",
       "      <td>Basic Materials</td>\n",
       "      <td>9.101712e+09</td>\n",
       "      <td>Eastman Chemical Company</td>\n",
       "      <td>Materials</td>\n",
       "      <td>Specialty Chemicals</td>\n",
       "      <td>Kingsport, Tennessee</td>\n",
       "      <td>1994-01-01</td>\n",
       "      <td>915389</td>\n",
       "      <td>1920</td>\n",
       "      <td>1994</td>\n",
       "    </tr>\n",
       "    <tr>\n",
       "      <th>328</th>\n",
       "      <td>MOS</td>\n",
       "      <td>Basic Materials</td>\n",
       "      <td>1.154720e+10</td>\n",
       "      <td>Mosaic Company (The)</td>\n",
       "      <td>Materials</td>\n",
       "      <td>Fertilizers &amp; Agricultural Chemicals</td>\n",
       "      <td>Tampa, Florida</td>\n",
       "      <td>2011-09-26</td>\n",
       "      <td>1285785</td>\n",
       "      <td>2004 (1865 / 1909)</td>\n",
       "      <td>2011</td>\n",
       "    </tr>\n",
       "    <tr>\n",
       "      <th>95</th>\n",
       "      <td>CF</td>\n",
       "      <td>Basic Materials</td>\n",
       "      <td>1.492760e+10</td>\n",
       "      <td>CF Industries</td>\n",
       "      <td>Materials</td>\n",
       "      <td>Fertilizers &amp; Agricultural Chemicals</td>\n",
       "      <td>Deerfield, Illinois</td>\n",
       "      <td>2008-08-27</td>\n",
       "      <td>1324404</td>\n",
       "      <td>1946</td>\n",
       "      <td>2008</td>\n",
       "    </tr>\n",
       "    <tr>\n",
       "      <th>296</th>\n",
       "      <td>LYB</td>\n",
       "      <td>Basic Materials</td>\n",
       "      <td>1.817196e+10</td>\n",
       "      <td>LyondellBasell</td>\n",
       "      <td>Materials</td>\n",
       "      <td>Specialty Chemicals</td>\n",
       "      <td>Rotterdam, Netherlands</td>\n",
       "      <td>2012-09-05</td>\n",
       "      <td>1489393</td>\n",
       "      <td>2007</td>\n",
       "      <td>2012</td>\n",
       "    </tr>\n",
       "    <tr>\n",
       "      <th>...</th>\n",
       "      <td>...</td>\n",
       "      <td>...</td>\n",
       "      <td>...</td>\n",
       "      <td>...</td>\n",
       "      <td>...</td>\n",
       "      <td>...</td>\n",
       "      <td>...</td>\n",
       "      <td>...</td>\n",
       "      <td>...</td>\n",
       "      <td>...</td>\n",
       "      <td>...</td>\n",
       "    </tr>\n",
       "    <tr>\n",
       "      <th>121</th>\n",
       "      <td>CEG</td>\n",
       "      <td>Utilities</td>\n",
       "      <td>9.364899e+10</td>\n",
       "      <td>Constellation Energy</td>\n",
       "      <td>Utilities</td>\n",
       "      <td>Electric Utilities</td>\n",
       "      <td>Baltimore, Maryland</td>\n",
       "      <td>2022-02-02</td>\n",
       "      <td>1868275</td>\n",
       "      <td>1999</td>\n",
       "      <td>2022</td>\n",
       "    </tr>\n",
       "    <tr>\n",
       "      <th>419</th>\n",
       "      <td>SO</td>\n",
       "      <td>Utilities</td>\n",
       "      <td>9.710277e+10</td>\n",
       "      <td>Southern Company</td>\n",
       "      <td>Utilities</td>\n",
       "      <td>Electric Utilities</td>\n",
       "      <td>Atlanta, Georgia</td>\n",
       "      <td>1957-03-04</td>\n",
       "      <td>92122</td>\n",
       "      <td>1945</td>\n",
       "      <td>1957</td>\n",
       "    </tr>\n",
       "    <tr>\n",
       "      <th>337</th>\n",
       "      <td>NEE</td>\n",
       "      <td>Utilities</td>\n",
       "      <td>1.485507e+11</td>\n",
       "      <td>NextEra Energy</td>\n",
       "      <td>Utilities</td>\n",
       "      <td>Multi-Utilities</td>\n",
       "      <td>Juno Beach, Florida</td>\n",
       "      <td>1976-06-30</td>\n",
       "      <td>753308</td>\n",
       "      <td>1984 (1925)</td>\n",
       "      <td>1976</td>\n",
       "    </tr>\n",
       "    <tr>\n",
       "      <th>60</th>\n",
       "      <td>BRK.B</td>\n",
       "      <td>NaN</td>\n",
       "      <td>NaN</td>\n",
       "      <td>Berkshire Hathaway</td>\n",
       "      <td>Financials</td>\n",
       "      <td>Multi-Sector Holdings</td>\n",
       "      <td>Omaha, Nebraska</td>\n",
       "      <td>2010-02-16</td>\n",
       "      <td>1067983</td>\n",
       "      <td>1839</td>\n",
       "      <td>2010</td>\n",
       "    </tr>\n",
       "    <tr>\n",
       "      <th>74</th>\n",
       "      <td>BF.B</td>\n",
       "      <td>NaN</td>\n",
       "      <td>NaN</td>\n",
       "      <td>Brown–Forman</td>\n",
       "      <td>Consumer Staples</td>\n",
       "      <td>Distillers &amp; Vintners</td>\n",
       "      <td>Louisville, Kentucky</td>\n",
       "      <td>1982-10-31</td>\n",
       "      <td>14693</td>\n",
       "      <td>1870</td>\n",
       "      <td>1982</td>\n",
       "    </tr>\n",
       "  </tbody>\n",
       "</table>\n",
       "<p>503 rows × 11 columns</p>\n",
       "</div>"
      ],
      "text/plain": [
       "    Ticker           Sector     MarketCap                  Security  \\\n",
       "13     ALB  Basic Materials  7.039658e+09     Albemarle Corporation   \n",
       "158    EMN  Basic Materials  9.101712e+09  Eastman Chemical Company   \n",
       "328    MOS  Basic Materials  1.154720e+10      Mosaic Company (The)   \n",
       "95      CF  Basic Materials  1.492760e+10             CF Industries   \n",
       "296    LYB  Basic Materials  1.817196e+10            LyondellBasell   \n",
       "..     ...              ...           ...                       ...   \n",
       "121    CEG        Utilities  9.364899e+10      Constellation Energy   \n",
       "419     SO        Utilities  9.710277e+10          Southern Company   \n",
       "337    NEE        Utilities  1.485507e+11            NextEra Energy   \n",
       "60   BRK.B              NaN           NaN        Berkshire Hathaway   \n",
       "74    BF.B              NaN           NaN              Brown–Forman   \n",
       "\n",
       "          GICS Sector                     GICS Sub-Industry  \\\n",
       "13          Materials                   Specialty Chemicals   \n",
       "158         Materials                   Specialty Chemicals   \n",
       "328         Materials  Fertilizers & Agricultural Chemicals   \n",
       "95          Materials  Fertilizers & Agricultural Chemicals   \n",
       "296         Materials                   Specialty Chemicals   \n",
       "..                ...                                   ...   \n",
       "121         Utilities                    Electric Utilities   \n",
       "419         Utilities                    Electric Utilities   \n",
       "337         Utilities                       Multi-Utilities   \n",
       "60         Financials                 Multi-Sector Holdings   \n",
       "74   Consumer Staples                 Distillers & Vintners   \n",
       "\n",
       "         Headquarters Location  Date added      CIK             Founded  \\\n",
       "13   Charlotte, North Carolina  2016-07-01   915913                1994   \n",
       "158       Kingsport, Tennessee  1994-01-01   915389                1920   \n",
       "328             Tampa, Florida  2011-09-26  1285785  2004 (1865 / 1909)   \n",
       "95         Deerfield, Illinois  2008-08-27  1324404                1946   \n",
       "296     Rotterdam, Netherlands  2012-09-05  1489393                2007   \n",
       "..                         ...         ...      ...                 ...   \n",
       "121        Baltimore, Maryland  2022-02-02  1868275                1999   \n",
       "419           Atlanta, Georgia  1957-03-04    92122                1945   \n",
       "337        Juno Beach, Florida  1976-06-30   753308         1984 (1925)   \n",
       "60             Omaha, Nebraska  2010-02-16  1067983                1839   \n",
       "74        Louisville, Kentucky  1982-10-31    14693                1870   \n",
       "\n",
       "     Year_Added  \n",
       "13         2016  \n",
       "158        1994  \n",
       "328        2011  \n",
       "95         2008  \n",
       "296        2012  \n",
       "..          ...  \n",
       "121        2022  \n",
       "419        1957  \n",
       "337        1976  \n",
       "60         2010  \n",
       "74         1982  \n",
       "\n",
       "[503 rows x 11 columns]"
      ]
     },
     "execution_count": 107,
     "metadata": {},
     "output_type": "execute_result"
    }
   ],
   "source": [
    "snp_sorted_by_sector = snp500_market_cap.sort_values(['Sector', 'MarketCap'])\n",
    "\n",
    "# Get a descending list of market cap for Technology\n",
    "snp_sorted_by_sector"
   ]
  },
  {
   "cell_type": "code",
   "execution_count": 114,
   "id": "a3813a7c",
   "metadata": {},
   "outputs": [
    {
     "data": {
      "text/html": [
       "<div>\n",
       "<style scoped>\n",
       "    .dataframe tbody tr th:only-of-type {\n",
       "        vertical-align: middle;\n",
       "    }\n",
       "\n",
       "    .dataframe tbody tr th {\n",
       "        vertical-align: top;\n",
       "    }\n",
       "\n",
       "    .dataframe thead th {\n",
       "        text-align: right;\n",
       "    }\n",
       "</style>\n",
       "<table border=\"1\" class=\"dataframe\">\n",
       "  <thead>\n",
       "    <tr style=\"text-align: right;\">\n",
       "      <th></th>\n",
       "      <th>Ticker</th>\n",
       "      <th>Sector</th>\n",
       "      <th>MarketCap</th>\n",
       "      <th>Security</th>\n",
       "      <th>GICS Sector</th>\n",
       "      <th>GICS Sub-Industry</th>\n",
       "      <th>Headquarters Location</th>\n",
       "      <th>Date added</th>\n",
       "      <th>CIK</th>\n",
       "      <th>Founded</th>\n",
       "      <th>Year_Added</th>\n",
       "    </tr>\n",
       "  </thead>\n",
       "  <tbody>\n",
       "    <tr>\n",
       "      <th>317</th>\n",
       "      <td>MSFT</td>\n",
       "      <td>Technology</td>\n",
       "      <td>3.496118e+12</td>\n",
       "      <td>Microsoft</td>\n",
       "      <td>Information Technology</td>\n",
       "      <td>Systems Software</td>\n",
       "      <td>Redmond, Washington</td>\n",
       "      <td>1994-06-01</td>\n",
       "      <td>789019</td>\n",
       "      <td>1975</td>\n",
       "      <td>1994</td>\n",
       "    </tr>\n",
       "    <tr>\n",
       "      <th>347</th>\n",
       "      <td>NVDA</td>\n",
       "      <td>Technology</td>\n",
       "      <td>3.456211e+12</td>\n",
       "      <td>Nvidia</td>\n",
       "      <td>Information Technology</td>\n",
       "      <td>Semiconductors</td>\n",
       "      <td>Santa Clara, California</td>\n",
       "      <td>2001-11-30</td>\n",
       "      <td>1045810</td>\n",
       "      <td>1993</td>\n",
       "      <td>2001</td>\n",
       "    </tr>\n",
       "    <tr>\n",
       "      <th>39</th>\n",
       "      <td>AAPL</td>\n",
       "      <td>Technology</td>\n",
       "      <td>3.045708e+12</td>\n",
       "      <td>Apple Inc.</td>\n",
       "      <td>Information Technology</td>\n",
       "      <td>Technology Hardware, Storage &amp; Peripherals</td>\n",
       "      <td>Cupertino, California</td>\n",
       "      <td>1982-11-30</td>\n",
       "      <td>320193</td>\n",
       "      <td>1977</td>\n",
       "      <td>1982</td>\n",
       "    </tr>\n",
       "    <tr>\n",
       "      <th>71</th>\n",
       "      <td>AVGO</td>\n",
       "      <td>Technology</td>\n",
       "      <td>1.161052e+12</td>\n",
       "      <td>Broadcom</td>\n",
       "      <td>Information Technology</td>\n",
       "      <td>Semiconductors</td>\n",
       "      <td>Palo Alto, California</td>\n",
       "      <td>2014-05-08</td>\n",
       "      <td>1730168</td>\n",
       "      <td>1961</td>\n",
       "      <td>2014</td>\n",
       "    </tr>\n",
       "    <tr>\n",
       "      <th>356</th>\n",
       "      <td>ORCL</td>\n",
       "      <td>Technology</td>\n",
       "      <td>4.879921e+11</td>\n",
       "      <td>Oracle Corporation</td>\n",
       "      <td>Information Technology</td>\n",
       "      <td>Application Software</td>\n",
       "      <td>Austin, Texas</td>\n",
       "      <td>1989-08-31</td>\n",
       "      <td>1341439</td>\n",
       "      <td>1977</td>\n",
       "      <td>1989</td>\n",
       "    </tr>\n",
       "    <tr>\n",
       "      <th>360</th>\n",
       "      <td>PLTR</td>\n",
       "      <td>Technology</td>\n",
       "      <td>3.014077e+11</td>\n",
       "      <td>Palantir Technologies</td>\n",
       "      <td>Information Technology</td>\n",
       "      <td>Application Software</td>\n",
       "      <td>Denver, Colorado</td>\n",
       "      <td>2024-09-23</td>\n",
       "      <td>1321655</td>\n",
       "      <td>2003</td>\n",
       "      <td>2024</td>\n",
       "    </tr>\n",
       "    <tr>\n",
       "      <th>406</th>\n",
       "      <td>CRM</td>\n",
       "      <td>Technology</td>\n",
       "      <td>2.624316e+11</td>\n",
       "      <td>Salesforce</td>\n",
       "      <td>Information Technology</td>\n",
       "      <td>Application Software</td>\n",
       "      <td>San Francisco, California</td>\n",
       "      <td>2008-09-15</td>\n",
       "      <td>1108524</td>\n",
       "      <td>1999</td>\n",
       "      <td>2008</td>\n",
       "    </tr>\n",
       "    <tr>\n",
       "      <th>106</th>\n",
       "      <td>CSCO</td>\n",
       "      <td>Technology</td>\n",
       "      <td>2.615976e+11</td>\n",
       "      <td>Cisco</td>\n",
       "      <td>Information Technology</td>\n",
       "      <td>Communications Equipment</td>\n",
       "      <td>San Jose, California</td>\n",
       "      <td>1993-12-01</td>\n",
       "      <td>858877</td>\n",
       "      <td>1984</td>\n",
       "      <td>1993</td>\n",
       "    </tr>\n",
       "    <tr>\n",
       "      <th>242</th>\n",
       "      <td>IBM</td>\n",
       "      <td>Technology</td>\n",
       "      <td>2.498870e+11</td>\n",
       "      <td>IBM</td>\n",
       "      <td>Information Technology</td>\n",
       "      <td>IT Consulting &amp; Other Services</td>\n",
       "      <td>Armonk, New York</td>\n",
       "      <td>1957-03-04</td>\n",
       "      <td>51143</td>\n",
       "      <td>1911</td>\n",
       "      <td>1957</td>\n",
       "    </tr>\n",
       "    <tr>\n",
       "      <th>254</th>\n",
       "      <td>INTU</td>\n",
       "      <td>Technology</td>\n",
       "      <td>2.152299e+11</td>\n",
       "      <td>Intuit</td>\n",
       "      <td>Information Technology</td>\n",
       "      <td>Application Software</td>\n",
       "      <td>Mountain View, California</td>\n",
       "      <td>2000-12-05</td>\n",
       "      <td>896878</td>\n",
       "      <td>1983</td>\n",
       "      <td>2000</td>\n",
       "    </tr>\n",
       "  </tbody>\n",
       "</table>\n",
       "</div>"
      ],
      "text/plain": [
       "    Ticker      Sector     MarketCap               Security  \\\n",
       "317   MSFT  Technology  3.496118e+12              Microsoft   \n",
       "347   NVDA  Technology  3.456211e+12                 Nvidia   \n",
       "39    AAPL  Technology  3.045708e+12             Apple Inc.   \n",
       "71    AVGO  Technology  1.161052e+12               Broadcom   \n",
       "356   ORCL  Technology  4.879921e+11     Oracle Corporation   \n",
       "360   PLTR  Technology  3.014077e+11  Palantir Technologies   \n",
       "406    CRM  Technology  2.624316e+11             Salesforce   \n",
       "106   CSCO  Technology  2.615976e+11                  Cisco   \n",
       "242    IBM  Technology  2.498870e+11                    IBM   \n",
       "254   INTU  Technology  2.152299e+11                 Intuit   \n",
       "\n",
       "                GICS Sector                           GICS Sub-Industry  \\\n",
       "317  Information Technology                            Systems Software   \n",
       "347  Information Technology                              Semiconductors   \n",
       "39   Information Technology  Technology Hardware, Storage & Peripherals   \n",
       "71   Information Technology                              Semiconductors   \n",
       "356  Information Technology                        Application Software   \n",
       "360  Information Technology                        Application Software   \n",
       "406  Information Technology                        Application Software   \n",
       "106  Information Technology                    Communications Equipment   \n",
       "242  Information Technology              IT Consulting & Other Services   \n",
       "254  Information Technology                        Application Software   \n",
       "\n",
       "         Headquarters Location  Date added      CIK Founded  Year_Added  \n",
       "317        Redmond, Washington  1994-06-01   789019    1975        1994  \n",
       "347    Santa Clara, California  2001-11-30  1045810    1993        2001  \n",
       "39       Cupertino, California  1982-11-30   320193    1977        1982  \n",
       "71       Palo Alto, California  2014-05-08  1730168    1961        2014  \n",
       "356              Austin, Texas  1989-08-31  1341439    1977        1989  \n",
       "360           Denver, Colorado  2024-09-23  1321655    2003        2024  \n",
       "406  San Francisco, California  2008-09-15  1108524    1999        2008  \n",
       "106       San Jose, California  1993-12-01   858877    1984        1993  \n",
       "242           Armonk, New York  1957-03-04    51143    1911        1957  \n",
       "254  Mountain View, California  2000-12-05   896878    1983        2000  "
      ]
     },
     "execution_count": 114,
     "metadata": {},
     "output_type": "execute_result"
    }
   ],
   "source": [
    "# List the top 10 technology companies that have the highest market cap\n",
    "tech_top10 = snp_sorted_by_sector[snp_sorted_by_sector['Sector']=='Technology'].sort_values(by='MarketCap', ascending=False)[:10]\n",
    "tech_top10"
   ]
  },
  {
   "cell_type": "code",
   "execution_count": 115,
   "id": "367e488c",
   "metadata": {},
   "outputs": [
    {
     "data": {
      "text/html": [
       "<div>\n",
       "<style scoped>\n",
       "    .dataframe tbody tr th:only-of-type {\n",
       "        vertical-align: middle;\n",
       "    }\n",
       "\n",
       "    .dataframe tbody tr th {\n",
       "        vertical-align: top;\n",
       "    }\n",
       "\n",
       "    .dataframe thead th {\n",
       "        text-align: right;\n",
       "    }\n",
       "</style>\n",
       "<table border=\"1\" class=\"dataframe\">\n",
       "  <thead>\n",
       "    <tr style=\"text-align: right;\">\n",
       "      <th></th>\n",
       "      <th>Ticker</th>\n",
       "      <th>Sector</th>\n",
       "      <th>MarketCap</th>\n",
       "      <th>Security</th>\n",
       "      <th>GICS Sector</th>\n",
       "      <th>GICS Sub-Industry</th>\n",
       "      <th>Headquarters Location</th>\n",
       "      <th>Date added</th>\n",
       "      <th>CIK</th>\n",
       "      <th>Founded</th>\n",
       "      <th>Year_Added</th>\n",
       "    </tr>\n",
       "  </thead>\n",
       "  <tbody>\n",
       "    <tr>\n",
       "      <th>19</th>\n",
       "      <td>GOOGL</td>\n",
       "      <td>Communication Services</td>\n",
       "      <td>2.049928e+12</td>\n",
       "      <td>Alphabet Inc. (Class A)</td>\n",
       "      <td>Communication Services</td>\n",
       "      <td>Interactive Media &amp; Services</td>\n",
       "      <td>Mountain View, California</td>\n",
       "      <td>2014-04-03</td>\n",
       "      <td>1652044</td>\n",
       "      <td>1998</td>\n",
       "      <td>2014</td>\n",
       "    </tr>\n",
       "    <tr>\n",
       "      <th>20</th>\n",
       "      <td>GOOG</td>\n",
       "      <td>Communication Services</td>\n",
       "      <td>2.049922e+12</td>\n",
       "      <td>Alphabet Inc. (Class C)</td>\n",
       "      <td>Communication Services</td>\n",
       "      <td>Interactive Media &amp; Services</td>\n",
       "      <td>Mountain View, California</td>\n",
       "      <td>2006-04-03</td>\n",
       "      <td>1652044</td>\n",
       "      <td>1998</td>\n",
       "      <td>2006</td>\n",
       "    </tr>\n",
       "    <tr>\n",
       "      <th>311</th>\n",
       "      <td>META</td>\n",
       "      <td>Communication Services</td>\n",
       "      <td>1.721355e+12</td>\n",
       "      <td>Meta Platforms</td>\n",
       "      <td>Communication Services</td>\n",
       "      <td>Interactive Media &amp; Services</td>\n",
       "      <td>Menlo Park, California</td>\n",
       "      <td>2013-12-23</td>\n",
       "      <td>1326801</td>\n",
       "      <td>2004</td>\n",
       "      <td>2013</td>\n",
       "    </tr>\n",
       "    <tr>\n",
       "      <th>333</th>\n",
       "      <td>NFLX</td>\n",
       "      <td>Communication Services</td>\n",
       "      <td>5.321834e+11</td>\n",
       "      <td>Netflix</td>\n",
       "      <td>Communication Services</td>\n",
       "      <td>Movies &amp; Entertainment</td>\n",
       "      <td>Los Gatos, California</td>\n",
       "      <td>2010-12-20</td>\n",
       "      <td>1065280</td>\n",
       "      <td>1997</td>\n",
       "      <td>2010</td>\n",
       "    </tr>\n",
       "    <tr>\n",
       "      <th>431</th>\n",
       "      <td>TMUS</td>\n",
       "      <td>Communication Services</td>\n",
       "      <td>2.791617e+11</td>\n",
       "      <td>T-Mobile US</td>\n",
       "      <td>Communication Services</td>\n",
       "      <td>Wireless Telecommunication Services</td>\n",
       "      <td>Bellevue, Washington</td>\n",
       "      <td>2019-07-15</td>\n",
       "      <td>1283699</td>\n",
       "      <td>1994</td>\n",
       "      <td>2019</td>\n",
       "    </tr>\n",
       "    <tr>\n",
       "      <th>482</th>\n",
       "      <td>DIS</td>\n",
       "      <td>Communication Services</td>\n",
       "      <td>2.047637e+11</td>\n",
       "      <td>Walt Disney Company (The)</td>\n",
       "      <td>Communication Services</td>\n",
       "      <td>Movies &amp; Entertainment</td>\n",
       "      <td>Burbank, California</td>\n",
       "      <td>1976-06-30</td>\n",
       "      <td>1744489</td>\n",
       "      <td>1923</td>\n",
       "      <td>1976</td>\n",
       "    </tr>\n",
       "    <tr>\n",
       "      <th>47</th>\n",
       "      <td>T</td>\n",
       "      <td>Communication Services</td>\n",
       "      <td>2.021968e+11</td>\n",
       "      <td>AT&amp;T</td>\n",
       "      <td>Communication Services</td>\n",
       "      <td>Integrated Telecommunication Services</td>\n",
       "      <td>Dallas, Texas</td>\n",
       "      <td>1983-11-30</td>\n",
       "      <td>732717</td>\n",
       "      <td>1983 (1885)</td>\n",
       "      <td>1983</td>\n",
       "    </tr>\n",
       "    <tr>\n",
       "      <th>470</th>\n",
       "      <td>VZ</td>\n",
       "      <td>Communication Services</td>\n",
       "      <td>1.846717e+11</td>\n",
       "      <td>Verizon</td>\n",
       "      <td>Communication Services</td>\n",
       "      <td>Integrated Telecommunication Services</td>\n",
       "      <td>New York City, New York</td>\n",
       "      <td>1983-11-30</td>\n",
       "      <td>732712</td>\n",
       "      <td>1983 (1877)</td>\n",
       "      <td>1983</td>\n",
       "    </tr>\n",
       "    <tr>\n",
       "      <th>116</th>\n",
       "      <td>CMCSA</td>\n",
       "      <td>Communication Services</td>\n",
       "      <td>1.292318e+11</td>\n",
       "      <td>Comcast</td>\n",
       "      <td>Communication Services</td>\n",
       "      <td>Cable &amp; Satellite</td>\n",
       "      <td>Philadelphia, Pennsylvania</td>\n",
       "      <td>2002-11-19</td>\n",
       "      <td>1166691</td>\n",
       "      <td>1963</td>\n",
       "      <td>2002</td>\n",
       "    </tr>\n",
       "    <tr>\n",
       "      <th>98</th>\n",
       "      <td>CHTR</td>\n",
       "      <td>Communication Services</td>\n",
       "      <td>5.476323e+10</td>\n",
       "      <td>Charter Communications</td>\n",
       "      <td>Communication Services</td>\n",
       "      <td>Cable &amp; Satellite</td>\n",
       "      <td>Stamford, Connecticut</td>\n",
       "      <td>2016-09-08</td>\n",
       "      <td>1091667</td>\n",
       "      <td>1993</td>\n",
       "      <td>2016</td>\n",
       "    </tr>\n",
       "  </tbody>\n",
       "</table>\n",
       "</div>"
      ],
      "text/plain": [
       "    Ticker                  Sector     MarketCap                   Security  \\\n",
       "19   GOOGL  Communication Services  2.049928e+12    Alphabet Inc. (Class A)   \n",
       "20    GOOG  Communication Services  2.049922e+12    Alphabet Inc. (Class C)   \n",
       "311   META  Communication Services  1.721355e+12             Meta Platforms   \n",
       "333   NFLX  Communication Services  5.321834e+11                    Netflix   \n",
       "431   TMUS  Communication Services  2.791617e+11                T-Mobile US   \n",
       "482    DIS  Communication Services  2.047637e+11  Walt Disney Company (The)   \n",
       "47       T  Communication Services  2.021968e+11                       AT&T   \n",
       "470     VZ  Communication Services  1.846717e+11                    Verizon   \n",
       "116  CMCSA  Communication Services  1.292318e+11                    Comcast   \n",
       "98    CHTR  Communication Services  5.476323e+10     Charter Communications   \n",
       "\n",
       "                GICS Sector                      GICS Sub-Industry  \\\n",
       "19   Communication Services           Interactive Media & Services   \n",
       "20   Communication Services           Interactive Media & Services   \n",
       "311  Communication Services           Interactive Media & Services   \n",
       "333  Communication Services                 Movies & Entertainment   \n",
       "431  Communication Services    Wireless Telecommunication Services   \n",
       "482  Communication Services                 Movies & Entertainment   \n",
       "47   Communication Services  Integrated Telecommunication Services   \n",
       "470  Communication Services  Integrated Telecommunication Services   \n",
       "116  Communication Services                      Cable & Satellite   \n",
       "98   Communication Services                      Cable & Satellite   \n",
       "\n",
       "          Headquarters Location  Date added      CIK      Founded  Year_Added  \n",
       "19    Mountain View, California  2014-04-03  1652044         1998        2014  \n",
       "20    Mountain View, California  2006-04-03  1652044         1998        2006  \n",
       "311      Menlo Park, California  2013-12-23  1326801         2004        2013  \n",
       "333       Los Gatos, California  2010-12-20  1065280         1997        2010  \n",
       "431        Bellevue, Washington  2019-07-15  1283699         1994        2019  \n",
       "482         Burbank, California  1976-06-30  1744489         1923        1976  \n",
       "47                Dallas, Texas  1983-11-30   732717  1983 (1885)        1983  \n",
       "470     New York City, New York  1983-11-30   732712  1983 (1877)        1983  \n",
       "116  Philadelphia, Pennsylvania  2002-11-19  1166691         1963        2002  \n",
       "98        Stamford, Connecticut  2016-09-08  1091667         1993        2016  "
      ]
     },
     "execution_count": 115,
     "metadata": {},
     "output_type": "execute_result"
    }
   ],
   "source": [
    "comm_top10 = snp_sorted_by_sector[snp_sorted_by_sector['Sector']=='Communication Services'].sort_values(by='MarketCap', ascending=False)[:10]\n",
    "comm_top10"
   ]
  },
  {
   "cell_type": "code",
   "execution_count": 116,
   "id": "782cd184",
   "metadata": {},
   "outputs": [
    {
     "data": {
      "text/html": [
       "<div>\n",
       "<style scoped>\n",
       "    .dataframe tbody tr th:only-of-type {\n",
       "        vertical-align: middle;\n",
       "    }\n",
       "\n",
       "    .dataframe tbody tr th {\n",
       "        vertical-align: top;\n",
       "    }\n",
       "\n",
       "    .dataframe thead th {\n",
       "        text-align: right;\n",
       "    }\n",
       "</style>\n",
       "<table border=\"1\" class=\"dataframe\">\n",
       "  <thead>\n",
       "    <tr style=\"text-align: right;\">\n",
       "      <th></th>\n",
       "      <th>Ticker</th>\n",
       "      <th>Sector</th>\n",
       "      <th>MarketCap</th>\n",
       "      <th>Security</th>\n",
       "      <th>GICS Sector</th>\n",
       "      <th>GICS Sub-Industry</th>\n",
       "      <th>Headquarters Location</th>\n",
       "      <th>Date added</th>\n",
       "      <th>CIK</th>\n",
       "      <th>Founded</th>\n",
       "      <th>Year_Added</th>\n",
       "    </tr>\n",
       "  </thead>\n",
       "  <tbody>\n",
       "    <tr>\n",
       "      <th>266</th>\n",
       "      <td>JPM</td>\n",
       "      <td>Financial Services</td>\n",
       "      <td>7.384876e+11</td>\n",
       "      <td>JPMorgan Chase</td>\n",
       "      <td>Financials</td>\n",
       "      <td>Diversified Banks</td>\n",
       "      <td>New York City, New York</td>\n",
       "      <td>1975-06-30</td>\n",
       "      <td>19617</td>\n",
       "      <td>2000 (1799 / 1871)</td>\n",
       "      <td>1975</td>\n",
       "    </tr>\n",
       "    <tr>\n",
       "      <th>474</th>\n",
       "      <td>V</td>\n",
       "      <td>Financial Services</td>\n",
       "      <td>7.026109e+11</td>\n",
       "      <td>Visa Inc.</td>\n",
       "      <td>Financials</td>\n",
       "      <td>Transaction &amp; Payment Processing Services</td>\n",
       "      <td>San Francisco, California</td>\n",
       "      <td>2009-12-21</td>\n",
       "      <td>1403161</td>\n",
       "      <td>1958</td>\n",
       "      <td>2009</td>\n",
       "    </tr>\n",
       "    <tr>\n",
       "      <th>304</th>\n",
       "      <td>MA</td>\n",
       "      <td>Financial Services</td>\n",
       "      <td>5.318533e+11</td>\n",
       "      <td>Mastercard</td>\n",
       "      <td>Financials</td>\n",
       "      <td>Transaction &amp; Payment Processing Services</td>\n",
       "      <td>Harrison, New York</td>\n",
       "      <td>2008-07-18</td>\n",
       "      <td>1141391</td>\n",
       "      <td>1966</td>\n",
       "      <td>2008</td>\n",
       "    </tr>\n",
       "    <tr>\n",
       "      <th>57</th>\n",
       "      <td>BAC</td>\n",
       "      <td>Financial Services</td>\n",
       "      <td>3.387087e+11</td>\n",
       "      <td>Bank of America</td>\n",
       "      <td>Financials</td>\n",
       "      <td>Diversified Banks</td>\n",
       "      <td>Charlotte, North Carolina</td>\n",
       "      <td>1976-06-30</td>\n",
       "      <td>70858</td>\n",
       "      <td>1998 (1923 / 1874)</td>\n",
       "      <td>1976</td>\n",
       "    </tr>\n",
       "    <tr>\n",
       "      <th>487</th>\n",
       "      <td>WFC</td>\n",
       "      <td>Financial Services</td>\n",
       "      <td>2.483916e+11</td>\n",
       "      <td>Wells Fargo</td>\n",
       "      <td>Financials</td>\n",
       "      <td>Diversified Banks</td>\n",
       "      <td>San Francisco, California</td>\n",
       "      <td>1976-06-30</td>\n",
       "      <td>72971</td>\n",
       "      <td>1852</td>\n",
       "      <td>1976</td>\n",
       "    </tr>\n",
       "    <tr>\n",
       "      <th>26</th>\n",
       "      <td>AXP</td>\n",
       "      <td>Financial Services</td>\n",
       "      <td>2.119071e+11</td>\n",
       "      <td>American Express</td>\n",
       "      <td>Financials</td>\n",
       "      <td>Consumer Finance</td>\n",
       "      <td>New York City, New York</td>\n",
       "      <td>1976-06-30</td>\n",
       "      <td>4962</td>\n",
       "      <td>1850</td>\n",
       "      <td>1976</td>\n",
       "    </tr>\n",
       "    <tr>\n",
       "      <th>327</th>\n",
       "      <td>MS</td>\n",
       "      <td>Financial Services</td>\n",
       "      <td>2.114815e+11</td>\n",
       "      <td>Morgan Stanley</td>\n",
       "      <td>Financials</td>\n",
       "      <td>Investment Banking &amp; Brokerage</td>\n",
       "      <td>New York City, New York</td>\n",
       "      <td>1993-07-29</td>\n",
       "      <td>895421</td>\n",
       "      <td>1935</td>\n",
       "      <td>1993</td>\n",
       "    </tr>\n",
       "    <tr>\n",
       "      <th>220</th>\n",
       "      <td>GS</td>\n",
       "      <td>Financial Services</td>\n",
       "      <td>1.884004e+11</td>\n",
       "      <td>Goldman Sachs</td>\n",
       "      <td>Financials</td>\n",
       "      <td>Investment Banking &amp; Brokerage</td>\n",
       "      <td>New York City, New York</td>\n",
       "      <td>2002-07-22</td>\n",
       "      <td>886982</td>\n",
       "      <td>1869</td>\n",
       "      <td>2002</td>\n",
       "    </tr>\n",
       "    <tr>\n",
       "      <th>65</th>\n",
       "      <td>BX</td>\n",
       "      <td>Financial Services</td>\n",
       "      <td>1.671341e+11</td>\n",
       "      <td>Blackstone Inc.</td>\n",
       "      <td>Financials</td>\n",
       "      <td>Asset Management &amp; Custody Banks</td>\n",
       "      <td>New York City, New York</td>\n",
       "      <td>2023-09-18</td>\n",
       "      <td>1393818</td>\n",
       "      <td>1985</td>\n",
       "      <td>2023</td>\n",
       "    </tr>\n",
       "    <tr>\n",
       "      <th>380</th>\n",
       "      <td>PGR</td>\n",
       "      <td>Financial Services</td>\n",
       "      <td>1.637441e+11</td>\n",
       "      <td>Progressive Corporation</td>\n",
       "      <td>Financials</td>\n",
       "      <td>Property &amp; Casualty Insurance</td>\n",
       "      <td>Mayfield Village, Ohio</td>\n",
       "      <td>1997-08-04</td>\n",
       "      <td>80661</td>\n",
       "      <td>1937</td>\n",
       "      <td>1997</td>\n",
       "    </tr>\n",
       "  </tbody>\n",
       "</table>\n",
       "</div>"
      ],
      "text/plain": [
       "    Ticker              Sector     MarketCap                 Security  \\\n",
       "266    JPM  Financial Services  7.384876e+11           JPMorgan Chase   \n",
       "474      V  Financial Services  7.026109e+11                Visa Inc.   \n",
       "304     MA  Financial Services  5.318533e+11               Mastercard   \n",
       "57     BAC  Financial Services  3.387087e+11          Bank of America   \n",
       "487    WFC  Financial Services  2.483916e+11              Wells Fargo   \n",
       "26     AXP  Financial Services  2.119071e+11         American Express   \n",
       "327     MS  Financial Services  2.114815e+11           Morgan Stanley   \n",
       "220     GS  Financial Services  1.884004e+11            Goldman Sachs   \n",
       "65      BX  Financial Services  1.671341e+11          Blackstone Inc.   \n",
       "380    PGR  Financial Services  1.637441e+11  Progressive Corporation   \n",
       "\n",
       "    GICS Sector                          GICS Sub-Industry  \\\n",
       "266  Financials                          Diversified Banks   \n",
       "474  Financials  Transaction & Payment Processing Services   \n",
       "304  Financials  Transaction & Payment Processing Services   \n",
       "57   Financials                          Diversified Banks   \n",
       "487  Financials                          Diversified Banks   \n",
       "26   Financials                           Consumer Finance   \n",
       "327  Financials             Investment Banking & Brokerage   \n",
       "220  Financials             Investment Banking & Brokerage   \n",
       "65   Financials           Asset Management & Custody Banks   \n",
       "380  Financials              Property & Casualty Insurance   \n",
       "\n",
       "         Headquarters Location  Date added      CIK             Founded  \\\n",
       "266    New York City, New York  1975-06-30    19617  2000 (1799 / 1871)   \n",
       "474  San Francisco, California  2009-12-21  1403161                1958   \n",
       "304         Harrison, New York  2008-07-18  1141391                1966   \n",
       "57   Charlotte, North Carolina  1976-06-30    70858  1998 (1923 / 1874)   \n",
       "487  San Francisco, California  1976-06-30    72971                1852   \n",
       "26     New York City, New York  1976-06-30     4962                1850   \n",
       "327    New York City, New York  1993-07-29   895421                1935   \n",
       "220    New York City, New York  2002-07-22   886982                1869   \n",
       "65     New York City, New York  2023-09-18  1393818                1985   \n",
       "380     Mayfield Village, Ohio  1997-08-04    80661                1937   \n",
       "\n",
       "     Year_Added  \n",
       "266        1975  \n",
       "474        2009  \n",
       "304        2008  \n",
       "57         1976  \n",
       "487        1976  \n",
       "26         1976  \n",
       "327        1993  \n",
       "220        2002  \n",
       "65         2023  \n",
       "380        1997  "
      ]
     },
     "execution_count": 116,
     "metadata": {},
     "output_type": "execute_result"
    }
   ],
   "source": [
    "fin_top10 = snp_sorted_by_sector[snp_sorted_by_sector['Sector']=='Financial Services'].sort_values(by='MarketCap', ascending=False)[:10]\n",
    "fin_top10"
   ]
  },
  {
   "cell_type": "markdown",
   "id": "1d971ce3",
   "metadata": {},
   "source": [
    "- Plot YTD return for top 10 companies by market cap for the tech, communication, and financial industries, "
   ]
  },
  {
   "cell_type": "code",
   "execution_count": 20,
   "id": "9d0ee6c8",
   "metadata": {},
   "outputs": [],
   "source": [
    "import yfinance as yf\n",
    "from utilities import fetch_historical_data, calculate_ytd_return\n",
    "from datetime import date\n",
    "import numpy as np"
   ]
  },
  {
   "cell_type": "code",
   "execution_count": null,
   "id": "9996220f",
   "metadata": {},
   "outputs": [],
   "source": []
  },
  {
   "cell_type": "code",
   "execution_count": 6,
   "id": "85837946",
   "metadata": {},
   "outputs": [
    {
     "data": {
      "text/html": [
       "<div>\n",
       "<style scoped>\n",
       "    .dataframe tbody tr th:only-of-type {\n",
       "        vertical-align: middle;\n",
       "    }\n",
       "\n",
       "    .dataframe tbody tr th {\n",
       "        vertical-align: top;\n",
       "    }\n",
       "\n",
       "    .dataframe thead th {\n",
       "        text-align: right;\n",
       "    }\n",
       "</style>\n",
       "<table border=\"1\" class=\"dataframe\">\n",
       "  <thead>\n",
       "    <tr style=\"text-align: right;\">\n",
       "      <th></th>\n",
       "      <th>Date</th>\n",
       "      <th>Open</th>\n",
       "      <th>High</th>\n",
       "      <th>Low</th>\n",
       "      <th>Close</th>\n",
       "      <th>Volume</th>\n",
       "      <th>Dividends</th>\n",
       "      <th>Stock Splits</th>\n",
       "      <th>Ticker</th>\n",
       "    </tr>\n",
       "  </thead>\n",
       "  <tbody>\n",
       "    <tr>\n",
       "      <th>0</th>\n",
       "      <td>2025-01-02 00:00:00-05:00</td>\n",
       "      <td>423.900262</td>\n",
       "      <td>424.438202</td>\n",
       "      <td>413.261173</td>\n",
       "      <td>416.976868</td>\n",
       "      <td>16896500</td>\n",
       "      <td>0.0</td>\n",
       "      <td>0.0</td>\n",
       "      <td>MSFT</td>\n",
       "    </tr>\n",
       "    <tr>\n",
       "      <th>1</th>\n",
       "      <td>2025-01-03 00:00:00-05:00</td>\n",
       "      <td>419.467282</td>\n",
       "      <td>422.405996</td>\n",
       "      <td>417.933202</td>\n",
       "      <td>421.728607</td>\n",
       "      <td>16662900</td>\n",
       "      <td>0.0</td>\n",
       "      <td>0.0</td>\n",
       "      <td>MSFT</td>\n",
       "    </tr>\n",
       "    <tr>\n",
       "      <th>2</th>\n",
       "      <td>2025-01-06 00:00:00-05:00</td>\n",
       "      <td>426.360784</td>\n",
       "      <td>432.656586</td>\n",
       "      <td>423.850447</td>\n",
       "      <td>426.211365</td>\n",
       "      <td>20573600</td>\n",
       "      <td>0.0</td>\n",
       "      <td>0.0</td>\n",
       "      <td>MSFT</td>\n",
       "    </tr>\n",
       "    <tr>\n",
       "      <th>3</th>\n",
       "      <td>2025-01-07 00:00:00-05:00</td>\n",
       "      <td>427.356962</td>\n",
       "      <td>429.000637</td>\n",
       "      <td>419.188356</td>\n",
       "      <td>420.752350</td>\n",
       "      <td>18139100</td>\n",
       "      <td>0.0</td>\n",
       "      <td>0.0</td>\n",
       "      <td>MSFT</td>\n",
       "    </tr>\n",
       "    <tr>\n",
       "      <th>4</th>\n",
       "      <td>2025-01-08 00:00:00-05:00</td>\n",
       "      <td>421.838167</td>\n",
       "      <td>425.334733</td>\n",
       "      <td>419.925537</td>\n",
       "      <td>422.933960</td>\n",
       "      <td>15054600</td>\n",
       "      <td>0.0</td>\n",
       "      <td>0.0</td>\n",
       "      <td>MSFT</td>\n",
       "    </tr>\n",
       "    <tr>\n",
       "      <th>...</th>\n",
       "      <td>...</td>\n",
       "      <td>...</td>\n",
       "      <td>...</td>\n",
       "      <td>...</td>\n",
       "      <td>...</td>\n",
       "      <td>...</td>\n",
       "      <td>...</td>\n",
       "      <td>...</td>\n",
       "      <td>...</td>\n",
       "    </tr>\n",
       "    <tr>\n",
       "      <th>3355</th>\n",
       "      <td>2025-06-09 00:00:00-04:00</td>\n",
       "      <td>278.000000</td>\n",
       "      <td>278.709991</td>\n",
       "      <td>266.010010</td>\n",
       "      <td>271.309998</td>\n",
       "      <td>5885900</td>\n",
       "      <td>0.0</td>\n",
       "      <td>0.0</td>\n",
       "      <td>PGR</td>\n",
       "    </tr>\n",
       "    <tr>\n",
       "      <th>3356</th>\n",
       "      <td>2025-06-10 00:00:00-04:00</td>\n",
       "      <td>270.100006</td>\n",
       "      <td>271.000000</td>\n",
       "      <td>264.549988</td>\n",
       "      <td>265.489990</td>\n",
       "      <td>3987300</td>\n",
       "      <td>0.0</td>\n",
       "      <td>0.0</td>\n",
       "      <td>PGR</td>\n",
       "    </tr>\n",
       "    <tr>\n",
       "      <th>3357</th>\n",
       "      <td>2025-06-11 00:00:00-04:00</td>\n",
       "      <td>264.959991</td>\n",
       "      <td>265.500000</td>\n",
       "      <td>262.109985</td>\n",
       "      <td>263.220001</td>\n",
       "      <td>3013400</td>\n",
       "      <td>0.0</td>\n",
       "      <td>0.0</td>\n",
       "      <td>PGR</td>\n",
       "    </tr>\n",
       "    <tr>\n",
       "      <th>3358</th>\n",
       "      <td>2025-06-12 00:00:00-04:00</td>\n",
       "      <td>263.350006</td>\n",
       "      <td>268.450012</td>\n",
       "      <td>262.929993</td>\n",
       "      <td>268.420013</td>\n",
       "      <td>3045600</td>\n",
       "      <td>0.0</td>\n",
       "      <td>0.0</td>\n",
       "      <td>PGR</td>\n",
       "    </tr>\n",
       "    <tr>\n",
       "      <th>3359</th>\n",
       "      <td>2025-06-13 00:00:00-04:00</td>\n",
       "      <td>268.500000</td>\n",
       "      <td>269.839996</td>\n",
       "      <td>266.630005</td>\n",
       "      <td>267.850006</td>\n",
       "      <td>3152200</td>\n",
       "      <td>0.0</td>\n",
       "      <td>0.0</td>\n",
       "      <td>PGR</td>\n",
       "    </tr>\n",
       "  </tbody>\n",
       "</table>\n",
       "<p>3360 rows × 9 columns</p>\n",
       "</div>"
      ],
      "text/plain": [
       "                          Date        Open  ...  Stock Splits  Ticker\n",
       "0    2025-01-02 00:00:00-05:00  423.900262  ...           0.0    MSFT\n",
       "1    2025-01-03 00:00:00-05:00  419.467282  ...           0.0    MSFT\n",
       "2    2025-01-06 00:00:00-05:00  426.360784  ...           0.0    MSFT\n",
       "3    2025-01-07 00:00:00-05:00  427.356962  ...           0.0    MSFT\n",
       "4    2025-01-08 00:00:00-05:00  421.838167  ...           0.0    MSFT\n",
       "...                        ...         ...  ...           ...     ...\n",
       "3355 2025-06-09 00:00:00-04:00  278.000000  ...           0.0     PGR\n",
       "3356 2025-06-10 00:00:00-04:00  270.100006  ...           0.0     PGR\n",
       "3357 2025-06-11 00:00:00-04:00  264.959991  ...           0.0     PGR\n",
       "3358 2025-06-12 00:00:00-04:00  263.350006  ...           0.0     PGR\n",
       "3359 2025-06-13 00:00:00-04:00  268.500000  ...           0.0     PGR\n",
       "\n",
       "[3360 rows x 9 columns]"
      ]
     },
     "execution_count": 6,
     "metadata": {},
     "output_type": "execute_result"
    }
   ],
   "source": [
    "tech_top10_list = ['MSFT', 'NVDA', 'AAPL', 'AVGO', 'ORCL', 'PLTR', 'CRM', 'CSCO', 'IBM', 'INTU']\n",
    "comm_top10_list = ['GOOGL', 'GOOG', 'META', 'NFLX', 'TMUS', 'DIS', 'T', 'VZ', 'CMCSA', 'CHTR']\n",
    "fin_top10_list = ['JPM', 'V', 'MA', 'BAC', 'WFC', 'AXP', 'MS', 'GS', 'BX', 'PGR']\n",
    "full_top10_list = tech_top10_list + comm_top10_list + fin_top10_list\n",
    "\n",
    "today = date.today()\n",
    "start = date(year=today.year, month=1, day=1)\n",
    "\n",
    "hist_data = fetch_historical_data(full_top10_list, start_date=start, end_date=today)\n",
    "hist_data"
   ]
  },
  {
   "cell_type": "code",
   "execution_count": null,
   "id": "26e5f7a0",
   "metadata": {},
   "outputs": [],
   "source": [
    "# Assign sector information to historical data of top 10 companies by sector\n",
    "hist_data['Sector'] = ''\n",
    "hist_data.loc[hist_data['Ticker'].isin(tech_top10_list), 'Sector'] = 'Technology'\n",
    "hist_data.loc[hist_data['Ticker'].isin(comm_top10_list), 'Sector'] = 'Communication Services'\n",
    "hist_data.loc[hist_data['Ticker'].isin(fin_top10_list), 'Sector'] = 'Financial Services'\n",
    "hist_data_copy = hist_data.copy()\n"
   ]
  },
  {
   "cell_type": "code",
   "execution_count": 19,
   "id": "da2e2857",
   "metadata": {},
   "outputs": [
    {
     "data": {
      "text/html": [
       "<div>\n",
       "<style scoped>\n",
       "    .dataframe tbody tr th:only-of-type {\n",
       "        vertical-align: middle;\n",
       "    }\n",
       "\n",
       "    .dataframe tbody tr th {\n",
       "        vertical-align: top;\n",
       "    }\n",
       "\n",
       "    .dataframe thead th {\n",
       "        text-align: right;\n",
       "    }\n",
       "</style>\n",
       "<table border=\"1\" class=\"dataframe\">\n",
       "  <thead>\n",
       "    <tr style=\"text-align: right;\">\n",
       "      <th></th>\n",
       "      <th>Date</th>\n",
       "      <th>Open</th>\n",
       "      <th>High</th>\n",
       "      <th>Low</th>\n",
       "      <th>Close</th>\n",
       "      <th>Volume</th>\n",
       "      <th>Dividends</th>\n",
       "      <th>Stock Splits</th>\n",
       "      <th>Ticker</th>\n",
       "      <th>Sector</th>\n",
       "      <th>First Close</th>\n",
       "    </tr>\n",
       "  </thead>\n",
       "  <tbody>\n",
       "    <tr>\n",
       "      <th>0</th>\n",
       "      <td>2025-01-02 00:00:00-05:00</td>\n",
       "      <td>423.900262</td>\n",
       "      <td>424.438202</td>\n",
       "      <td>413.261173</td>\n",
       "      <td>416.976868</td>\n",
       "      <td>16896500</td>\n",
       "      <td>0.0</td>\n",
       "      <td>0.0</td>\n",
       "      <td>MSFT</td>\n",
       "      <td>Technology</td>\n",
       "      <td>416.976868</td>\n",
       "    </tr>\n",
       "    <tr>\n",
       "      <th>1</th>\n",
       "      <td>2025-01-03 00:00:00-05:00</td>\n",
       "      <td>419.467282</td>\n",
       "      <td>422.405996</td>\n",
       "      <td>417.933202</td>\n",
       "      <td>421.728607</td>\n",
       "      <td>16662900</td>\n",
       "      <td>0.0</td>\n",
       "      <td>0.0</td>\n",
       "      <td>MSFT</td>\n",
       "      <td>Technology</td>\n",
       "      <td>416.976868</td>\n",
       "    </tr>\n",
       "    <tr>\n",
       "      <th>2</th>\n",
       "      <td>2025-01-06 00:00:00-05:00</td>\n",
       "      <td>426.360784</td>\n",
       "      <td>432.656586</td>\n",
       "      <td>423.850447</td>\n",
       "      <td>426.211365</td>\n",
       "      <td>20573600</td>\n",
       "      <td>0.0</td>\n",
       "      <td>0.0</td>\n",
       "      <td>MSFT</td>\n",
       "      <td>Technology</td>\n",
       "      <td>416.976868</td>\n",
       "    </tr>\n",
       "    <tr>\n",
       "      <th>3</th>\n",
       "      <td>2025-01-07 00:00:00-05:00</td>\n",
       "      <td>427.356962</td>\n",
       "      <td>429.000637</td>\n",
       "      <td>419.188356</td>\n",
       "      <td>420.752350</td>\n",
       "      <td>18139100</td>\n",
       "      <td>0.0</td>\n",
       "      <td>0.0</td>\n",
       "      <td>MSFT</td>\n",
       "      <td>Technology</td>\n",
       "      <td>416.976868</td>\n",
       "    </tr>\n",
       "    <tr>\n",
       "      <th>4</th>\n",
       "      <td>2025-01-08 00:00:00-05:00</td>\n",
       "      <td>421.838167</td>\n",
       "      <td>425.334733</td>\n",
       "      <td>419.925537</td>\n",
       "      <td>422.933960</td>\n",
       "      <td>15054600</td>\n",
       "      <td>0.0</td>\n",
       "      <td>0.0</td>\n",
       "      <td>MSFT</td>\n",
       "      <td>Technology</td>\n",
       "      <td>416.976868</td>\n",
       "    </tr>\n",
       "    <tr>\n",
       "      <th>...</th>\n",
       "      <td>...</td>\n",
       "      <td>...</td>\n",
       "      <td>...</td>\n",
       "      <td>...</td>\n",
       "      <td>...</td>\n",
       "      <td>...</td>\n",
       "      <td>...</td>\n",
       "      <td>...</td>\n",
       "      <td>...</td>\n",
       "      <td>...</td>\n",
       "      <td>...</td>\n",
       "    </tr>\n",
       "    <tr>\n",
       "      <th>3355</th>\n",
       "      <td>2025-06-09 00:00:00-04:00</td>\n",
       "      <td>278.000000</td>\n",
       "      <td>278.709991</td>\n",
       "      <td>266.010010</td>\n",
       "      <td>271.309998</td>\n",
       "      <td>5885900</td>\n",
       "      <td>0.0</td>\n",
       "      <td>0.0</td>\n",
       "      <td>PGR</td>\n",
       "      <td>Financial Services</td>\n",
       "      <td>236.021561</td>\n",
       "    </tr>\n",
       "    <tr>\n",
       "      <th>3356</th>\n",
       "      <td>2025-06-10 00:00:00-04:00</td>\n",
       "      <td>270.100006</td>\n",
       "      <td>271.000000</td>\n",
       "      <td>264.549988</td>\n",
       "      <td>265.489990</td>\n",
       "      <td>3987300</td>\n",
       "      <td>0.0</td>\n",
       "      <td>0.0</td>\n",
       "      <td>PGR</td>\n",
       "      <td>Financial Services</td>\n",
       "      <td>236.021561</td>\n",
       "    </tr>\n",
       "    <tr>\n",
       "      <th>3357</th>\n",
       "      <td>2025-06-11 00:00:00-04:00</td>\n",
       "      <td>264.959991</td>\n",
       "      <td>265.500000</td>\n",
       "      <td>262.109985</td>\n",
       "      <td>263.220001</td>\n",
       "      <td>3013400</td>\n",
       "      <td>0.0</td>\n",
       "      <td>0.0</td>\n",
       "      <td>PGR</td>\n",
       "      <td>Financial Services</td>\n",
       "      <td>236.021561</td>\n",
       "    </tr>\n",
       "    <tr>\n",
       "      <th>3358</th>\n",
       "      <td>2025-06-12 00:00:00-04:00</td>\n",
       "      <td>263.350006</td>\n",
       "      <td>268.450012</td>\n",
       "      <td>262.929993</td>\n",
       "      <td>268.420013</td>\n",
       "      <td>3045600</td>\n",
       "      <td>0.0</td>\n",
       "      <td>0.0</td>\n",
       "      <td>PGR</td>\n",
       "      <td>Financial Services</td>\n",
       "      <td>236.021561</td>\n",
       "    </tr>\n",
       "    <tr>\n",
       "      <th>3359</th>\n",
       "      <td>2025-06-13 00:00:00-04:00</td>\n",
       "      <td>268.500000</td>\n",
       "      <td>269.839996</td>\n",
       "      <td>266.630005</td>\n",
       "      <td>267.850006</td>\n",
       "      <td>3152200</td>\n",
       "      <td>0.0</td>\n",
       "      <td>0.0</td>\n",
       "      <td>PGR</td>\n",
       "      <td>Financial Services</td>\n",
       "      <td>236.021561</td>\n",
       "    </tr>\n",
       "  </tbody>\n",
       "</table>\n",
       "<p>3360 rows × 11 columns</p>\n",
       "</div>"
      ],
      "text/plain": [
       "                          Date        Open  ...              Sector  First Close\n",
       "0    2025-01-02 00:00:00-05:00  423.900262  ...          Technology   416.976868\n",
       "1    2025-01-03 00:00:00-05:00  419.467282  ...          Technology   416.976868\n",
       "2    2025-01-06 00:00:00-05:00  426.360784  ...          Technology   416.976868\n",
       "3    2025-01-07 00:00:00-05:00  427.356962  ...          Technology   416.976868\n",
       "4    2025-01-08 00:00:00-05:00  421.838167  ...          Technology   416.976868\n",
       "...                        ...         ...  ...                 ...          ...\n",
       "3355 2025-06-09 00:00:00-04:00  278.000000  ...  Financial Services   236.021561\n",
       "3356 2025-06-10 00:00:00-04:00  270.100006  ...  Financial Services   236.021561\n",
       "3357 2025-06-11 00:00:00-04:00  264.959991  ...  Financial Services   236.021561\n",
       "3358 2025-06-12 00:00:00-04:00  263.350006  ...  Financial Services   236.021561\n",
       "3359 2025-06-13 00:00:00-04:00  268.500000  ...  Financial Services   236.021561\n",
       "\n",
       "[3360 rows x 11 columns]"
      ]
     },
     "execution_count": 19,
     "metadata": {},
     "output_type": "execute_result"
    }
   ],
   "source": [
    "hist_data_copy['First Close'] = hist_data_copy.groupby(['Ticker'])['Close'].transform('first')\n",
    "hist_data_copy"
   ]
  },
  {
   "cell_type": "code",
   "execution_count": 21,
   "id": "408a9d9a",
   "metadata": {},
   "outputs": [
    {
     "data": {
      "text/html": [
       "<div>\n",
       "<style scoped>\n",
       "    .dataframe tbody tr th:only-of-type {\n",
       "        vertical-align: middle;\n",
       "    }\n",
       "\n",
       "    .dataframe tbody tr th {\n",
       "        vertical-align: top;\n",
       "    }\n",
       "\n",
       "    .dataframe thead th {\n",
       "        text-align: right;\n",
       "    }\n",
       "</style>\n",
       "<table border=\"1\" class=\"dataframe\">\n",
       "  <thead>\n",
       "    <tr style=\"text-align: right;\">\n",
       "      <th></th>\n",
       "      <th>Date</th>\n",
       "      <th>Open</th>\n",
       "      <th>High</th>\n",
       "      <th>Low</th>\n",
       "      <th>Close</th>\n",
       "      <th>Volume</th>\n",
       "      <th>Dividends</th>\n",
       "      <th>Stock Splits</th>\n",
       "      <th>Ticker</th>\n",
       "      <th>Sector</th>\n",
       "      <th>First Close</th>\n",
       "      <th>YTD Return</th>\n",
       "    </tr>\n",
       "  </thead>\n",
       "  <tbody>\n",
       "    <tr>\n",
       "      <th>0</th>\n",
       "      <td>2025-01-02 00:00:00-05:00</td>\n",
       "      <td>423.900262</td>\n",
       "      <td>424.438202</td>\n",
       "      <td>413.261173</td>\n",
       "      <td>416.976868</td>\n",
       "      <td>16896500</td>\n",
       "      <td>0.0</td>\n",
       "      <td>0.0</td>\n",
       "      <td>MSFT</td>\n",
       "      <td>Technology</td>\n",
       "      <td>416.976868</td>\n",
       "      <td>0.000</td>\n",
       "    </tr>\n",
       "    <tr>\n",
       "      <th>1</th>\n",
       "      <td>2025-01-03 00:00:00-05:00</td>\n",
       "      <td>419.467282</td>\n",
       "      <td>422.405996</td>\n",
       "      <td>417.933202</td>\n",
       "      <td>421.728607</td>\n",
       "      <td>16662900</td>\n",
       "      <td>0.0</td>\n",
       "      <td>0.0</td>\n",
       "      <td>MSFT</td>\n",
       "      <td>Technology</td>\n",
       "      <td>416.976868</td>\n",
       "      <td>1.140</td>\n",
       "    </tr>\n",
       "    <tr>\n",
       "      <th>2</th>\n",
       "      <td>2025-01-06 00:00:00-05:00</td>\n",
       "      <td>426.360784</td>\n",
       "      <td>432.656586</td>\n",
       "      <td>423.850447</td>\n",
       "      <td>426.211365</td>\n",
       "      <td>20573600</td>\n",
       "      <td>0.0</td>\n",
       "      <td>0.0</td>\n",
       "      <td>MSFT</td>\n",
       "      <td>Technology</td>\n",
       "      <td>416.976868</td>\n",
       "      <td>2.215</td>\n",
       "    </tr>\n",
       "    <tr>\n",
       "      <th>3</th>\n",
       "      <td>2025-01-07 00:00:00-05:00</td>\n",
       "      <td>427.356962</td>\n",
       "      <td>429.000637</td>\n",
       "      <td>419.188356</td>\n",
       "      <td>420.752350</td>\n",
       "      <td>18139100</td>\n",
       "      <td>0.0</td>\n",
       "      <td>0.0</td>\n",
       "      <td>MSFT</td>\n",
       "      <td>Technology</td>\n",
       "      <td>416.976868</td>\n",
       "      <td>0.905</td>\n",
       "    </tr>\n",
       "    <tr>\n",
       "      <th>4</th>\n",
       "      <td>2025-01-08 00:00:00-05:00</td>\n",
       "      <td>421.838167</td>\n",
       "      <td>425.334733</td>\n",
       "      <td>419.925537</td>\n",
       "      <td>422.933960</td>\n",
       "      <td>15054600</td>\n",
       "      <td>0.0</td>\n",
       "      <td>0.0</td>\n",
       "      <td>MSFT</td>\n",
       "      <td>Technology</td>\n",
       "      <td>416.976868</td>\n",
       "      <td>1.429</td>\n",
       "    </tr>\n",
       "    <tr>\n",
       "      <th>...</th>\n",
       "      <td>...</td>\n",
       "      <td>...</td>\n",
       "      <td>...</td>\n",
       "      <td>...</td>\n",
       "      <td>...</td>\n",
       "      <td>...</td>\n",
       "      <td>...</td>\n",
       "      <td>...</td>\n",
       "      <td>...</td>\n",
       "      <td>...</td>\n",
       "      <td>...</td>\n",
       "      <td>...</td>\n",
       "    </tr>\n",
       "    <tr>\n",
       "      <th>3355</th>\n",
       "      <td>2025-06-09 00:00:00-04:00</td>\n",
       "      <td>278.000000</td>\n",
       "      <td>278.709991</td>\n",
       "      <td>266.010010</td>\n",
       "      <td>271.309998</td>\n",
       "      <td>5885900</td>\n",
       "      <td>0.0</td>\n",
       "      <td>0.0</td>\n",
       "      <td>PGR</td>\n",
       "      <td>Financial Services</td>\n",
       "      <td>236.021561</td>\n",
       "      <td>14.951</td>\n",
       "    </tr>\n",
       "    <tr>\n",
       "      <th>3356</th>\n",
       "      <td>2025-06-10 00:00:00-04:00</td>\n",
       "      <td>270.100006</td>\n",
       "      <td>271.000000</td>\n",
       "      <td>264.549988</td>\n",
       "      <td>265.489990</td>\n",
       "      <td>3987300</td>\n",
       "      <td>0.0</td>\n",
       "      <td>0.0</td>\n",
       "      <td>PGR</td>\n",
       "      <td>Financial Services</td>\n",
       "      <td>236.021561</td>\n",
       "      <td>12.485</td>\n",
       "    </tr>\n",
       "    <tr>\n",
       "      <th>3357</th>\n",
       "      <td>2025-06-11 00:00:00-04:00</td>\n",
       "      <td>264.959991</td>\n",
       "      <td>265.500000</td>\n",
       "      <td>262.109985</td>\n",
       "      <td>263.220001</td>\n",
       "      <td>3013400</td>\n",
       "      <td>0.0</td>\n",
       "      <td>0.0</td>\n",
       "      <td>PGR</td>\n",
       "      <td>Financial Services</td>\n",
       "      <td>236.021561</td>\n",
       "      <td>11.524</td>\n",
       "    </tr>\n",
       "    <tr>\n",
       "      <th>3358</th>\n",
       "      <td>2025-06-12 00:00:00-04:00</td>\n",
       "      <td>263.350006</td>\n",
       "      <td>268.450012</td>\n",
       "      <td>262.929993</td>\n",
       "      <td>268.420013</td>\n",
       "      <td>3045600</td>\n",
       "      <td>0.0</td>\n",
       "      <td>0.0</td>\n",
       "      <td>PGR</td>\n",
       "      <td>Financial Services</td>\n",
       "      <td>236.021561</td>\n",
       "      <td>13.727</td>\n",
       "    </tr>\n",
       "    <tr>\n",
       "      <th>3359</th>\n",
       "      <td>2025-06-13 00:00:00-04:00</td>\n",
       "      <td>268.500000</td>\n",
       "      <td>269.839996</td>\n",
       "      <td>266.630005</td>\n",
       "      <td>267.850006</td>\n",
       "      <td>3152200</td>\n",
       "      <td>0.0</td>\n",
       "      <td>0.0</td>\n",
       "      <td>PGR</td>\n",
       "      <td>Financial Services</td>\n",
       "      <td>236.021561</td>\n",
       "      <td>13.485</td>\n",
       "    </tr>\n",
       "  </tbody>\n",
       "</table>\n",
       "<p>3360 rows × 12 columns</p>\n",
       "</div>"
      ],
      "text/plain": [
       "                          Date        Open  ...  First Close  YTD Return\n",
       "0    2025-01-02 00:00:00-05:00  423.900262  ...   416.976868       0.000\n",
       "1    2025-01-03 00:00:00-05:00  419.467282  ...   416.976868       1.140\n",
       "2    2025-01-06 00:00:00-05:00  426.360784  ...   416.976868       2.215\n",
       "3    2025-01-07 00:00:00-05:00  427.356962  ...   416.976868       0.905\n",
       "4    2025-01-08 00:00:00-05:00  421.838167  ...   416.976868       1.429\n",
       "...                        ...         ...  ...          ...         ...\n",
       "3355 2025-06-09 00:00:00-04:00  278.000000  ...   236.021561      14.951\n",
       "3356 2025-06-10 00:00:00-04:00  270.100006  ...   236.021561      12.485\n",
       "3357 2025-06-11 00:00:00-04:00  264.959991  ...   236.021561      11.524\n",
       "3358 2025-06-12 00:00:00-04:00  263.350006  ...   236.021561      13.727\n",
       "3359 2025-06-13 00:00:00-04:00  268.500000  ...   236.021561      13.485\n",
       "\n",
       "[3360 rows x 12 columns]"
      ]
     },
     "execution_count": 21,
     "metadata": {},
     "output_type": "execute_result"
    }
   ],
   "source": [
    "# Calculate YTD\n",
    "hist_data_copy['YTD Return'] = calculate_ytd_return(hist_data_copy['Close'], hist_data_copy['First Close'])\n",
    "hist_data_copy"
   ]
  },
  {
   "cell_type": "code",
   "execution_count": null,
   "id": "f03ac59f",
   "metadata": {},
   "outputs": [
    {
     "data": {
      "text/html": [
       "<div>\n",
       "<style scoped>\n",
       "    .dataframe tbody tr th:only-of-type {\n",
       "        vertical-align: middle;\n",
       "    }\n",
       "\n",
       "    .dataframe tbody tr th {\n",
       "        vertical-align: top;\n",
       "    }\n",
       "\n",
       "    .dataframe thead th {\n",
       "        text-align: right;\n",
       "    }\n",
       "</style>\n",
       "<table border=\"1\" class=\"dataframe\">\n",
       "  <thead>\n",
       "    <tr style=\"text-align: right;\">\n",
       "      <th></th>\n",
       "      <th>Date</th>\n",
       "      <th>Open</th>\n",
       "      <th>High</th>\n",
       "      <th>Low</th>\n",
       "      <th>Close</th>\n",
       "      <th>Volume</th>\n",
       "      <th>Dividends</th>\n",
       "      <th>Stock Splits</th>\n",
       "      <th>Ticker</th>\n",
       "      <th>Sector</th>\n",
       "      <th>First Close</th>\n",
       "      <th>YTD Return</th>\n",
       "      <th>Security</th>\n",
       "    </tr>\n",
       "  </thead>\n",
       "  <tbody>\n",
       "    <tr>\n",
       "      <th>0</th>\n",
       "      <td>2025-01-02 00:00:00-05:00</td>\n",
       "      <td>423.900262</td>\n",
       "      <td>424.438202</td>\n",
       "      <td>413.261173</td>\n",
       "      <td>416.976868</td>\n",
       "      <td>16896500</td>\n",
       "      <td>0.0</td>\n",
       "      <td>0.0</td>\n",
       "      <td>MSFT</td>\n",
       "      <td>Technology</td>\n",
       "      <td>416.976868</td>\n",
       "      <td>0.000</td>\n",
       "      <td>Microsoft</td>\n",
       "    </tr>\n",
       "    <tr>\n",
       "      <th>1</th>\n",
       "      <td>2025-01-03 00:00:00-05:00</td>\n",
       "      <td>419.467282</td>\n",
       "      <td>422.405996</td>\n",
       "      <td>417.933202</td>\n",
       "      <td>421.728607</td>\n",
       "      <td>16662900</td>\n",
       "      <td>0.0</td>\n",
       "      <td>0.0</td>\n",
       "      <td>MSFT</td>\n",
       "      <td>Technology</td>\n",
       "      <td>416.976868</td>\n",
       "      <td>1.140</td>\n",
       "      <td>Microsoft</td>\n",
       "    </tr>\n",
       "    <tr>\n",
       "      <th>2</th>\n",
       "      <td>2025-01-06 00:00:00-05:00</td>\n",
       "      <td>426.360784</td>\n",
       "      <td>432.656586</td>\n",
       "      <td>423.850447</td>\n",
       "      <td>426.211365</td>\n",
       "      <td>20573600</td>\n",
       "      <td>0.0</td>\n",
       "      <td>0.0</td>\n",
       "      <td>MSFT</td>\n",
       "      <td>Technology</td>\n",
       "      <td>416.976868</td>\n",
       "      <td>2.215</td>\n",
       "      <td>Microsoft</td>\n",
       "    </tr>\n",
       "    <tr>\n",
       "      <th>3</th>\n",
       "      <td>2025-01-07 00:00:00-05:00</td>\n",
       "      <td>427.356962</td>\n",
       "      <td>429.000637</td>\n",
       "      <td>419.188356</td>\n",
       "      <td>420.752350</td>\n",
       "      <td>18139100</td>\n",
       "      <td>0.0</td>\n",
       "      <td>0.0</td>\n",
       "      <td>MSFT</td>\n",
       "      <td>Technology</td>\n",
       "      <td>416.976868</td>\n",
       "      <td>0.905</td>\n",
       "      <td>Microsoft</td>\n",
       "    </tr>\n",
       "    <tr>\n",
       "      <th>4</th>\n",
       "      <td>2025-01-08 00:00:00-05:00</td>\n",
       "      <td>421.838167</td>\n",
       "      <td>425.334733</td>\n",
       "      <td>419.925537</td>\n",
       "      <td>422.933960</td>\n",
       "      <td>15054600</td>\n",
       "      <td>0.0</td>\n",
       "      <td>0.0</td>\n",
       "      <td>MSFT</td>\n",
       "      <td>Technology</td>\n",
       "      <td>416.976868</td>\n",
       "      <td>1.429</td>\n",
       "      <td>Microsoft</td>\n",
       "    </tr>\n",
       "  </tbody>\n",
       "</table>\n",
       "</div>"
      ],
      "text/plain": [
       "                       Date        Open  ...  YTD Return   Security\n",
       "0 2025-01-02 00:00:00-05:00  423.900262  ...       0.000  Microsoft\n",
       "1 2025-01-03 00:00:00-05:00  419.467282  ...       1.140  Microsoft\n",
       "2 2025-01-06 00:00:00-05:00  426.360784  ...       2.215  Microsoft\n",
       "3 2025-01-07 00:00:00-05:00  427.356962  ...       0.905  Microsoft\n",
       "4 2025-01-08 00:00:00-05:00  421.838167  ...       1.429  Microsoft\n",
       "\n",
       "[5 rows x 13 columns]"
      ]
     },
     "execution_count": 37,
     "metadata": {},
     "output_type": "execute_result"
    }
   ],
   "source": [
    "# Merge to get a list of company names for better plotting\n",
    "security = pd.DataFrame(snp500_market_cap[['Security', 'Ticker']])\n",
    "hist_data_merge = pd.merge(hist_data_copy, security, how='inner', on='Ticker')\n",
    "hist_data_merge.head(5)"
   ]
  },
  {
   "cell_type": "code",
   "execution_count": 120,
   "id": "92c5307f",
   "metadata": {},
   "outputs": [
    {
     "data": {
      "application/vnd.plotly.v1+json": {
       "config": {
        "plotlyServerURL": "https://plotly.com"
       },
       "data": [
        {
         "hovertemplate": "Security=Microsoft<br>Sector=Technology<br>Date=%{x}<br>YTD Return=%{y}<extra></extra>",
         "legendgroup": "Microsoft",
         "line": {
          "color": "#636efa",
          "dash": "solid"
         },
         "marker": {
          "symbol": "circle"
         },
         "mode": "lines",
         "name": "Microsoft",
         "showlegend": true,
         "type": "scattergl",
         "x": [
          "2025-01-02T00:00:00-05:00",
          "2025-01-03T00:00:00-05:00",
          "2025-01-06T00:00:00-05:00",
          "2025-01-07T00:00:00-05:00",
          "2025-01-08T00:00:00-05:00",
          "2025-01-10T00:00:00-05:00",
          "2025-01-13T00:00:00-05:00",
          "2025-01-14T00:00:00-05:00",
          "2025-01-15T00:00:00-05:00",
          "2025-01-16T00:00:00-05:00",
          "2025-01-17T00:00:00-05:00",
          "2025-01-21T00:00:00-05:00",
          "2025-01-22T00:00:00-05:00",
          "2025-01-23T00:00:00-05:00",
          "2025-01-24T00:00:00-05:00",
          "2025-01-27T00:00:00-05:00",
          "2025-01-28T00:00:00-05:00",
          "2025-01-29T00:00:00-05:00",
          "2025-01-30T00:00:00-05:00",
          "2025-01-31T00:00:00-05:00",
          "2025-02-03T00:00:00-05:00",
          "2025-02-04T00:00:00-05:00",
          "2025-02-05T00:00:00-05:00",
          "2025-02-06T00:00:00-05:00",
          "2025-02-07T00:00:00-05:00",
          "2025-02-10T00:00:00-05:00",
          "2025-02-11T00:00:00-05:00",
          "2025-02-12T00:00:00-05:00",
          "2025-02-13T00:00:00-05:00",
          "2025-02-14T00:00:00-05:00",
          "2025-02-18T00:00:00-05:00",
          "2025-02-19T00:00:00-05:00",
          "2025-02-20T00:00:00-05:00",
          "2025-02-21T00:00:00-05:00",
          "2025-02-24T00:00:00-05:00",
          "2025-02-25T00:00:00-05:00",
          "2025-02-26T00:00:00-05:00",
          "2025-02-27T00:00:00-05:00",
          "2025-02-28T00:00:00-05:00",
          "2025-03-03T00:00:00-05:00",
          "2025-03-04T00:00:00-05:00",
          "2025-03-05T00:00:00-05:00",
          "2025-03-06T00:00:00-05:00",
          "2025-03-07T00:00:00-05:00",
          "2025-03-10T00:00:00-04:00",
          "2025-03-11T00:00:00-04:00",
          "2025-03-12T00:00:00-04:00",
          "2025-03-13T00:00:00-04:00",
          "2025-03-14T00:00:00-04:00",
          "2025-03-17T00:00:00-04:00",
          "2025-03-18T00:00:00-04:00",
          "2025-03-19T00:00:00-04:00",
          "2025-03-20T00:00:00-04:00",
          "2025-03-21T00:00:00-04:00",
          "2025-03-24T00:00:00-04:00",
          "2025-03-25T00:00:00-04:00",
          "2025-03-26T00:00:00-04:00",
          "2025-03-27T00:00:00-04:00",
          "2025-03-28T00:00:00-04:00",
          "2025-03-31T00:00:00-04:00",
          "2025-04-01T00:00:00-04:00",
          "2025-04-02T00:00:00-04:00",
          "2025-04-03T00:00:00-04:00",
          "2025-04-04T00:00:00-04:00",
          "2025-04-07T00:00:00-04:00",
          "2025-04-08T00:00:00-04:00",
          "2025-04-09T00:00:00-04:00",
          "2025-04-10T00:00:00-04:00",
          "2025-04-11T00:00:00-04:00",
          "2025-04-14T00:00:00-04:00",
          "2025-04-15T00:00:00-04:00",
          "2025-04-16T00:00:00-04:00",
          "2025-04-17T00:00:00-04:00",
          "2025-04-21T00:00:00-04:00",
          "2025-04-22T00:00:00-04:00",
          "2025-04-23T00:00:00-04:00",
          "2025-04-24T00:00:00-04:00",
          "2025-04-25T00:00:00-04:00",
          "2025-04-28T00:00:00-04:00",
          "2025-04-29T00:00:00-04:00",
          "2025-04-30T00:00:00-04:00",
          "2025-05-01T00:00:00-04:00",
          "2025-05-02T00:00:00-04:00",
          "2025-05-05T00:00:00-04:00",
          "2025-05-06T00:00:00-04:00",
          "2025-05-07T00:00:00-04:00",
          "2025-05-08T00:00:00-04:00",
          "2025-05-09T00:00:00-04:00",
          "2025-05-12T00:00:00-04:00",
          "2025-05-13T00:00:00-04:00",
          "2025-05-14T00:00:00-04:00",
          "2025-05-15T00:00:00-04:00",
          "2025-05-16T00:00:00-04:00",
          "2025-05-19T00:00:00-04:00",
          "2025-05-20T00:00:00-04:00",
          "2025-05-21T00:00:00-04:00",
          "2025-05-22T00:00:00-04:00",
          "2025-05-23T00:00:00-04:00",
          "2025-05-27T00:00:00-04:00",
          "2025-05-28T00:00:00-04:00",
          "2025-05-29T00:00:00-04:00",
          "2025-05-30T00:00:00-04:00",
          "2025-06-02T00:00:00-04:00",
          "2025-06-03T00:00:00-04:00",
          "2025-06-04T00:00:00-04:00",
          "2025-06-05T00:00:00-04:00",
          "2025-06-06T00:00:00-04:00",
          "2025-06-09T00:00:00-04:00",
          "2025-06-10T00:00:00-04:00",
          "2025-06-11T00:00:00-04:00",
          "2025-06-12T00:00:00-04:00",
          "2025-06-13T00:00:00-04:00"
         ],
         "xaxis": "x",
         "y": [
          0,
          1.14,
          2.215,
          0.905,
          1.429,
          0.088,
          -0.332,
          -0.695,
          1.847,
          1.433,
          2.497,
          2.37,
          6.599,
          6.72,
          6.087,
          3.818,
          6.837,
          5.674,
          -0.858,
          -0.841,
          -1.83,
          -1.484,
          -1.264,
          -0.659,
          -2.11,
          -1.519,
          -1.706,
          -2.279,
          -1.921,
          -2.425,
          -2.136,
          -0.91,
          -0.386,
          -2.282,
          -3.29,
          -4.75,
          -4.312,
          -6.035,
          -4.968,
          -7.002,
          -6.974,
          -4.003,
          -4.992,
          -5.849,
          -8.997,
          -8.927,
          -8.252,
          -9.329,
          -6.986,
          -6.952,
          -8.192,
          -7.163,
          -7.397,
          -6.339,
          -5.904,
          -5.406,
          -6.648,
          -6.502,
          -9.322,
          -10.138,
          -8.511,
          -8.523,
          -10.684,
          -13.861,
          -14.335,
          -15.125,
          -6.524,
          -8.712,
          -7.012,
          -7.165,
          -7.663,
          -11.043,
          -11.96,
          -14.033,
          -12.19,
          -10.378,
          -7.287,
          -6.198,
          -6.363,
          -5.674,
          -5.382,
          1.833,
          4.198,
          4.411,
          3.727,
          3.736,
          4.89,
          5.024,
          7.545,
          7.516,
          8.426,
          8.67,
          8.944,
          10.047,
          9.879,
          8.536,
          9.085,
          7.963,
          10.483,
          9.685,
          10.001,
          10.404,
          10.79,
          11.03,
          11.246,
          12.16,
          12.807,
          13.376,
          12.937,
          13.344,
          14.843,
          13.906
         ],
         "yaxis": "y"
        },
        {
         "hovertemplate": "Security=Nvidia<br>Sector=Technology<br>Date=%{x}<br>YTD Return=%{y}<extra></extra>",
         "legendgroup": "Nvidia",
         "line": {
          "color": "#EF553B",
          "dash": "solid"
         },
         "marker": {
          "symbol": "circle"
         },
         "mode": "lines",
         "name": "Nvidia",
         "showlegend": true,
         "type": "scattergl",
         "x": [
          "2025-01-02T00:00:00-05:00",
          "2025-01-03T00:00:00-05:00",
          "2025-01-06T00:00:00-05:00",
          "2025-01-07T00:00:00-05:00",
          "2025-01-08T00:00:00-05:00",
          "2025-01-10T00:00:00-05:00",
          "2025-01-13T00:00:00-05:00",
          "2025-01-14T00:00:00-05:00",
          "2025-01-15T00:00:00-05:00",
          "2025-01-16T00:00:00-05:00",
          "2025-01-17T00:00:00-05:00",
          "2025-01-21T00:00:00-05:00",
          "2025-01-22T00:00:00-05:00",
          "2025-01-23T00:00:00-05:00",
          "2025-01-24T00:00:00-05:00",
          "2025-01-27T00:00:00-05:00",
          "2025-01-28T00:00:00-05:00",
          "2025-01-29T00:00:00-05:00",
          "2025-01-30T00:00:00-05:00",
          "2025-01-31T00:00:00-05:00",
          "2025-02-03T00:00:00-05:00",
          "2025-02-04T00:00:00-05:00",
          "2025-02-05T00:00:00-05:00",
          "2025-02-06T00:00:00-05:00",
          "2025-02-07T00:00:00-05:00",
          "2025-02-10T00:00:00-05:00",
          "2025-02-11T00:00:00-05:00",
          "2025-02-12T00:00:00-05:00",
          "2025-02-13T00:00:00-05:00",
          "2025-02-14T00:00:00-05:00",
          "2025-02-18T00:00:00-05:00",
          "2025-02-19T00:00:00-05:00",
          "2025-02-20T00:00:00-05:00",
          "2025-02-21T00:00:00-05:00",
          "2025-02-24T00:00:00-05:00",
          "2025-02-25T00:00:00-05:00",
          "2025-02-26T00:00:00-05:00",
          "2025-02-27T00:00:00-05:00",
          "2025-02-28T00:00:00-05:00",
          "2025-03-03T00:00:00-05:00",
          "2025-03-04T00:00:00-05:00",
          "2025-03-05T00:00:00-05:00",
          "2025-03-06T00:00:00-05:00",
          "2025-03-07T00:00:00-05:00",
          "2025-03-10T00:00:00-04:00",
          "2025-03-11T00:00:00-04:00",
          "2025-03-12T00:00:00-04:00",
          "2025-03-13T00:00:00-04:00",
          "2025-03-14T00:00:00-04:00",
          "2025-03-17T00:00:00-04:00",
          "2025-03-18T00:00:00-04:00",
          "2025-03-19T00:00:00-04:00",
          "2025-03-20T00:00:00-04:00",
          "2025-03-21T00:00:00-04:00",
          "2025-03-24T00:00:00-04:00",
          "2025-03-25T00:00:00-04:00",
          "2025-03-26T00:00:00-04:00",
          "2025-03-27T00:00:00-04:00",
          "2025-03-28T00:00:00-04:00",
          "2025-03-31T00:00:00-04:00",
          "2025-04-01T00:00:00-04:00",
          "2025-04-02T00:00:00-04:00",
          "2025-04-03T00:00:00-04:00",
          "2025-04-04T00:00:00-04:00",
          "2025-04-07T00:00:00-04:00",
          "2025-04-08T00:00:00-04:00",
          "2025-04-09T00:00:00-04:00",
          "2025-04-10T00:00:00-04:00",
          "2025-04-11T00:00:00-04:00",
          "2025-04-14T00:00:00-04:00",
          "2025-04-15T00:00:00-04:00",
          "2025-04-16T00:00:00-04:00",
          "2025-04-17T00:00:00-04:00",
          "2025-04-21T00:00:00-04:00",
          "2025-04-22T00:00:00-04:00",
          "2025-04-23T00:00:00-04:00",
          "2025-04-24T00:00:00-04:00",
          "2025-04-25T00:00:00-04:00",
          "2025-04-28T00:00:00-04:00",
          "2025-04-29T00:00:00-04:00",
          "2025-04-30T00:00:00-04:00",
          "2025-05-01T00:00:00-04:00",
          "2025-05-02T00:00:00-04:00",
          "2025-05-05T00:00:00-04:00",
          "2025-05-06T00:00:00-04:00",
          "2025-05-07T00:00:00-04:00",
          "2025-05-08T00:00:00-04:00",
          "2025-05-09T00:00:00-04:00",
          "2025-05-12T00:00:00-04:00",
          "2025-05-13T00:00:00-04:00",
          "2025-05-14T00:00:00-04:00",
          "2025-05-15T00:00:00-04:00",
          "2025-05-16T00:00:00-04:00",
          "2025-05-19T00:00:00-04:00",
          "2025-05-20T00:00:00-04:00",
          "2025-05-21T00:00:00-04:00",
          "2025-05-22T00:00:00-04:00",
          "2025-05-23T00:00:00-04:00",
          "2025-05-27T00:00:00-04:00",
          "2025-05-28T00:00:00-04:00",
          "2025-05-29T00:00:00-04:00",
          "2025-05-30T00:00:00-04:00",
          "2025-06-02T00:00:00-04:00",
          "2025-06-03T00:00:00-04:00",
          "2025-06-04T00:00:00-04:00",
          "2025-06-05T00:00:00-04:00",
          "2025-06-06T00:00:00-04:00",
          "2025-06-09T00:00:00-04:00",
          "2025-06-10T00:00:00-04:00",
          "2025-06-11T00:00:00-04:00",
          "2025-06-12T00:00:00-04:00",
          "2025-06-13T00:00:00-04:00"
         ],
         "xaxis": "x",
         "y": [
          0,
          4.454,
          8.04,
          1.323,
          1.301,
          -1.735,
          -3.673,
          -4.736,
          -1.497,
          -3.427,
          -0.434,
          1.822,
          6.334,
          6.442,
          3.116,
          -14.381,
          -6.738,
          -10.563,
          -9.876,
          -13.188,
          -15.653,
          -14.214,
          -9.746,
          -6.963,
          -6.124,
          -3.427,
          -3.984,
          -5.184,
          -2.184,
          0.39,
          0.788,
          0.665,
          1.301,
          -2.805,
          -5.806,
          -8.445,
          -5.083,
          -13.13,
          -9.681,
          -17.533,
          -16.138,
          -15.191,
          -20.056,
          -18.524,
          -22.652,
          -21.365,
          -16.311,
          -16.426,
          -12.023,
          -13.57,
          -16.535,
          -15.024,
          -14.293,
          -14.893,
          -12.211,
          -12.731,
          -17.742,
          -19.427,
          -20.7,
          -21.633,
          -20.353,
          -20.158,
          -26.39,
          -31.806,
          -29.398,
          -30.367,
          -17.33,
          -22.218,
          -19.789,
          -19.948,
          -18.87,
          -24.445,
          -26.615,
          -29.926,
          -28.495,
          -25.732,
          -23.043,
          -19.731,
          -21.38,
          -21.17,
          -21.242,
          -19.297,
          -17.207,
          -17.699,
          -17.901,
          -15.356,
          -15.132,
          -15.653,
          -11.061,
          -6.05,
          -2.138,
          -2.507,
          -2.095,
          -1.972,
          -2.833,
          -4.698,
          -3.953,
          -5.067,
          -2.023,
          -2.522,
          0.646,
          -2.29,
          -0.663,
          2.113,
          2.62,
          1.224,
          2.475,
          3.133,
          4.095,
          3.285,
          4.854,
          2.663
         ],
         "yaxis": "y"
        },
        {
         "hovertemplate": "Security=Apple Inc.<br>Sector=Technology<br>Date=%{x}<br>YTD Return=%{y}<extra></extra>",
         "legendgroup": "Apple Inc.",
         "line": {
          "color": "#00cc96",
          "dash": "solid"
         },
         "marker": {
          "symbol": "circle"
         },
         "mode": "lines",
         "name": "Apple Inc.",
         "showlegend": true,
         "type": "scattergl",
         "x": [
          "2025-01-02T00:00:00-05:00",
          "2025-01-03T00:00:00-05:00",
          "2025-01-06T00:00:00-05:00",
          "2025-01-07T00:00:00-05:00",
          "2025-01-08T00:00:00-05:00",
          "2025-01-10T00:00:00-05:00",
          "2025-01-13T00:00:00-05:00",
          "2025-01-14T00:00:00-05:00",
          "2025-01-15T00:00:00-05:00",
          "2025-01-16T00:00:00-05:00",
          "2025-01-17T00:00:00-05:00",
          "2025-01-21T00:00:00-05:00",
          "2025-01-22T00:00:00-05:00",
          "2025-01-23T00:00:00-05:00",
          "2025-01-24T00:00:00-05:00",
          "2025-01-27T00:00:00-05:00",
          "2025-01-28T00:00:00-05:00",
          "2025-01-29T00:00:00-05:00",
          "2025-01-30T00:00:00-05:00",
          "2025-01-31T00:00:00-05:00",
          "2025-02-03T00:00:00-05:00",
          "2025-02-04T00:00:00-05:00",
          "2025-02-05T00:00:00-05:00",
          "2025-02-06T00:00:00-05:00",
          "2025-02-07T00:00:00-05:00",
          "2025-02-10T00:00:00-05:00",
          "2025-02-11T00:00:00-05:00",
          "2025-02-12T00:00:00-05:00",
          "2025-02-13T00:00:00-05:00",
          "2025-02-14T00:00:00-05:00",
          "2025-02-18T00:00:00-05:00",
          "2025-02-19T00:00:00-05:00",
          "2025-02-20T00:00:00-05:00",
          "2025-02-21T00:00:00-05:00",
          "2025-02-24T00:00:00-05:00",
          "2025-02-25T00:00:00-05:00",
          "2025-02-26T00:00:00-05:00",
          "2025-02-27T00:00:00-05:00",
          "2025-02-28T00:00:00-05:00",
          "2025-03-03T00:00:00-05:00",
          "2025-03-04T00:00:00-05:00",
          "2025-03-05T00:00:00-05:00",
          "2025-03-06T00:00:00-05:00",
          "2025-03-07T00:00:00-05:00",
          "2025-03-10T00:00:00-04:00",
          "2025-03-11T00:00:00-04:00",
          "2025-03-12T00:00:00-04:00",
          "2025-03-13T00:00:00-04:00",
          "2025-03-14T00:00:00-04:00",
          "2025-03-17T00:00:00-04:00",
          "2025-03-18T00:00:00-04:00",
          "2025-03-19T00:00:00-04:00",
          "2025-03-20T00:00:00-04:00",
          "2025-03-21T00:00:00-04:00",
          "2025-03-24T00:00:00-04:00",
          "2025-03-25T00:00:00-04:00",
          "2025-03-26T00:00:00-04:00",
          "2025-03-27T00:00:00-04:00",
          "2025-03-28T00:00:00-04:00",
          "2025-03-31T00:00:00-04:00",
          "2025-04-01T00:00:00-04:00",
          "2025-04-02T00:00:00-04:00",
          "2025-04-03T00:00:00-04:00",
          "2025-04-04T00:00:00-04:00",
          "2025-04-07T00:00:00-04:00",
          "2025-04-08T00:00:00-04:00",
          "2025-04-09T00:00:00-04:00",
          "2025-04-10T00:00:00-04:00",
          "2025-04-11T00:00:00-04:00",
          "2025-04-14T00:00:00-04:00",
          "2025-04-15T00:00:00-04:00",
          "2025-04-16T00:00:00-04:00",
          "2025-04-17T00:00:00-04:00",
          "2025-04-21T00:00:00-04:00",
          "2025-04-22T00:00:00-04:00",
          "2025-04-23T00:00:00-04:00",
          "2025-04-24T00:00:00-04:00",
          "2025-04-25T00:00:00-04:00",
          "2025-04-28T00:00:00-04:00",
          "2025-04-29T00:00:00-04:00",
          "2025-04-30T00:00:00-04:00",
          "2025-05-01T00:00:00-04:00",
          "2025-05-02T00:00:00-04:00",
          "2025-05-05T00:00:00-04:00",
          "2025-05-06T00:00:00-04:00",
          "2025-05-07T00:00:00-04:00",
          "2025-05-08T00:00:00-04:00",
          "2025-05-09T00:00:00-04:00",
          "2025-05-12T00:00:00-04:00",
          "2025-05-13T00:00:00-04:00",
          "2025-05-14T00:00:00-04:00",
          "2025-05-15T00:00:00-04:00",
          "2025-05-16T00:00:00-04:00",
          "2025-05-19T00:00:00-04:00",
          "2025-05-20T00:00:00-04:00",
          "2025-05-21T00:00:00-04:00",
          "2025-05-22T00:00:00-04:00",
          "2025-05-23T00:00:00-04:00",
          "2025-05-27T00:00:00-04:00",
          "2025-05-28T00:00:00-04:00",
          "2025-05-29T00:00:00-04:00",
          "2025-05-30T00:00:00-04:00",
          "2025-06-02T00:00:00-04:00",
          "2025-06-03T00:00:00-04:00",
          "2025-06-04T00:00:00-04:00",
          "2025-06-05T00:00:00-04:00",
          "2025-06-06T00:00:00-04:00",
          "2025-06-09T00:00:00-04:00",
          "2025-06-10T00:00:00-04:00",
          "2025-06-11T00:00:00-04:00",
          "2025-06-12T00:00:00-04:00",
          "2025-06-13T00:00:00-04:00"
         ],
         "xaxis": "x",
         "y": [
          0,
          -0.201,
          0.472,
          -0.673,
          -0.472,
          -2.871,
          -3.875,
          -4.335,
          -2.452,
          -6.393,
          -5.688,
          -8.698,
          -8.21,
          -8.28,
          -8.641,
          -5.737,
          -2.292,
          -1.841,
          -2.567,
          -3.219,
          -6.496,
          -4.531,
          -4.667,
          -4.359,
          -6.652,
          -6.541,
          -4.5,
          -2.756,
          -0.843,
          0.418,
          0.364,
          0.529,
          0.923,
          0.808,
          1.444,
          1.42,
          -1.323,
          -2.579,
          -0.715,
          -2.279,
          -3.142,
          -3.22,
          -3.388,
          -1.852,
          -6.611,
          -9.337,
          -10.921,
          -13.918,
          -12.354,
          -12.145,
          -12.682,
          -11.636,
          -12.104,
          -10.392,
          -9.382,
          -8.142,
          -9.053,
          -8.101,
          -10.544,
          -8.807,
          -8.372,
          -8.084,
          -16.583,
          -22.663,
          -25.504,
          -29.215,
          -18.364,
          -21.825,
          -18.652,
          -16.858,
          -17.014,
          -20.245,
          -19.132,
          -20.7,
          -17.999,
          -16.004,
          -14.456,
          -14.082,
          -13.729,
          -13.29,
          -12.76,
          -12.424,
          -15.696,
          -18.348,
          -18.504,
          -19.432,
          -18.923,
          -18.496,
          -13.349,
          -12.469,
          -12.716,
          -13.078,
          -13.156,
          -14.175,
          -14.965,
          -16.925,
          -17.225,
          -19.729,
          -17.698,
          -17.612,
          -17.805,
          -17.435,
          -17.086,
          -16.44,
          -16.625,
          -17.526,
          -16.173,
          -17.188,
          -16.687,
          -18.286,
          -18.113,
          -19.244
         ],
         "yaxis": "y"
        },
        {
         "hovertemplate": "Security=Broadcom<br>Sector=Technology<br>Date=%{x}<br>YTD Return=%{y}<extra></extra>",
         "legendgroup": "Broadcom",
         "line": {
          "color": "#ab63fa",
          "dash": "solid"
         },
         "marker": {
          "symbol": "circle"
         },
         "mode": "lines",
         "name": "Broadcom",
         "showlegend": true,
         "type": "scattergl",
         "x": [
          "2025-01-02T00:00:00-05:00",
          "2025-01-03T00:00:00-05:00",
          "2025-01-06T00:00:00-05:00",
          "2025-01-07T00:00:00-05:00",
          "2025-01-08T00:00:00-05:00",
          "2025-01-10T00:00:00-05:00",
          "2025-01-13T00:00:00-05:00",
          "2025-01-14T00:00:00-05:00",
          "2025-01-15T00:00:00-05:00",
          "2025-01-16T00:00:00-05:00",
          "2025-01-17T00:00:00-05:00",
          "2025-01-21T00:00:00-05:00",
          "2025-01-22T00:00:00-05:00",
          "2025-01-23T00:00:00-05:00",
          "2025-01-24T00:00:00-05:00",
          "2025-01-27T00:00:00-05:00",
          "2025-01-28T00:00:00-05:00",
          "2025-01-29T00:00:00-05:00",
          "2025-01-30T00:00:00-05:00",
          "2025-01-31T00:00:00-05:00",
          "2025-02-03T00:00:00-05:00",
          "2025-02-04T00:00:00-05:00",
          "2025-02-05T00:00:00-05:00",
          "2025-02-06T00:00:00-05:00",
          "2025-02-07T00:00:00-05:00",
          "2025-02-10T00:00:00-05:00",
          "2025-02-11T00:00:00-05:00",
          "2025-02-12T00:00:00-05:00",
          "2025-02-13T00:00:00-05:00",
          "2025-02-14T00:00:00-05:00",
          "2025-02-18T00:00:00-05:00",
          "2025-02-19T00:00:00-05:00",
          "2025-02-20T00:00:00-05:00",
          "2025-02-21T00:00:00-05:00",
          "2025-02-24T00:00:00-05:00",
          "2025-02-25T00:00:00-05:00",
          "2025-02-26T00:00:00-05:00",
          "2025-02-27T00:00:00-05:00",
          "2025-02-28T00:00:00-05:00",
          "2025-03-03T00:00:00-05:00",
          "2025-03-04T00:00:00-05:00",
          "2025-03-05T00:00:00-05:00",
          "2025-03-06T00:00:00-05:00",
          "2025-03-07T00:00:00-05:00",
          "2025-03-10T00:00:00-04:00",
          "2025-03-11T00:00:00-04:00",
          "2025-03-12T00:00:00-04:00",
          "2025-03-13T00:00:00-04:00",
          "2025-03-14T00:00:00-04:00",
          "2025-03-17T00:00:00-04:00",
          "2025-03-18T00:00:00-04:00",
          "2025-03-19T00:00:00-04:00",
          "2025-03-20T00:00:00-04:00",
          "2025-03-21T00:00:00-04:00",
          "2025-03-24T00:00:00-04:00",
          "2025-03-25T00:00:00-04:00",
          "2025-03-26T00:00:00-04:00",
          "2025-03-27T00:00:00-04:00",
          "2025-03-28T00:00:00-04:00",
          "2025-03-31T00:00:00-04:00",
          "2025-04-01T00:00:00-04:00",
          "2025-04-02T00:00:00-04:00",
          "2025-04-03T00:00:00-04:00",
          "2025-04-04T00:00:00-04:00",
          "2025-04-07T00:00:00-04:00",
          "2025-04-08T00:00:00-04:00",
          "2025-04-09T00:00:00-04:00",
          "2025-04-10T00:00:00-04:00",
          "2025-04-11T00:00:00-04:00",
          "2025-04-14T00:00:00-04:00",
          "2025-04-15T00:00:00-04:00",
          "2025-04-16T00:00:00-04:00",
          "2025-04-17T00:00:00-04:00",
          "2025-04-21T00:00:00-04:00",
          "2025-04-22T00:00:00-04:00",
          "2025-04-23T00:00:00-04:00",
          "2025-04-24T00:00:00-04:00",
          "2025-04-25T00:00:00-04:00",
          "2025-04-28T00:00:00-04:00",
          "2025-04-29T00:00:00-04:00",
          "2025-04-30T00:00:00-04:00",
          "2025-05-01T00:00:00-04:00",
          "2025-05-02T00:00:00-04:00",
          "2025-05-05T00:00:00-04:00",
          "2025-05-06T00:00:00-04:00",
          "2025-05-07T00:00:00-04:00",
          "2025-05-08T00:00:00-04:00",
          "2025-05-09T00:00:00-04:00",
          "2025-05-12T00:00:00-04:00",
          "2025-05-13T00:00:00-04:00",
          "2025-05-14T00:00:00-04:00",
          "2025-05-15T00:00:00-04:00",
          "2025-05-16T00:00:00-04:00",
          "2025-05-19T00:00:00-04:00",
          "2025-05-20T00:00:00-04:00",
          "2025-05-21T00:00:00-04:00",
          "2025-05-22T00:00:00-04:00",
          "2025-05-23T00:00:00-04:00",
          "2025-05-27T00:00:00-04:00",
          "2025-05-28T00:00:00-04:00",
          "2025-05-29T00:00:00-04:00",
          "2025-05-30T00:00:00-04:00",
          "2025-06-02T00:00:00-04:00",
          "2025-06-03T00:00:00-04:00",
          "2025-06-04T00:00:00-04:00",
          "2025-06-05T00:00:00-04:00",
          "2025-06-06T00:00:00-04:00",
          "2025-06-09T00:00:00-04:00",
          "2025-06-10T00:00:00-04:00",
          "2025-06-11T00:00:00-04:00",
          "2025-06-12T00:00:00-04:00",
          "2025-06-13T00:00:00-04:00"
         ],
         "xaxis": "x",
         "y": [
          0,
          0.246,
          1.91,
          -1.44,
          -1.151,
          -3.306,
          -2.884,
          -3.138,
          -1.716,
          -1.108,
          2.354,
          3.591,
          3.849,
          3.578,
          5.483,
          -12.867,
          -10.613,
          -11.048,
          -7.035,
          -4.617,
          -6.143,
          -4.117,
          0.009,
          -0.267,
          -3.065,
          1.319,
          1.319,
          1.884,
          1.647,
          0.457,
          -1.487,
          -1.401,
          -2.259,
          -5.742,
          -10.367,
          -12.691,
          -8.208,
          -14.734,
          -14.031,
          -19.23,
          -19.183,
          -17.415,
          -22.644,
          -15.958,
          -20.489,
          -18.058,
          -16.273,
          -17.51,
          -15.708,
          -16.157,
          -18.67,
          -15.695,
          -17.615,
          -17.131,
          -17.308,
          -18.601,
          -22.488,
          -25.636,
          -26.877,
          -27.607,
          -27.136,
          -25.592,
          -33.41,
          -36.748,
          -33.354,
          -32.536,
          -19.946,
          -25.502,
          -21.333,
          -22.881,
          -22.626,
          -24.503,
          -26.068,
          -28.135,
          -26.678,
          -23.508,
          -18.648,
          -16.85,
          -16.781,
          -17.343,
          -16.781,
          -14.679,
          -11.951,
          -13.213,
          -13.486,
          -11.445,
          -10.165,
          -9.979,
          -4.194,
          0.493,
          0.363,
          0.588,
          -1.155,
          -0.281,
          0.173,
          -0.67,
          -0.324,
          -1.107,
          1.889,
          3.524,
          4.622,
          4.665,
          7.536,
          11.056,
          12.885,
          12.388,
          6.767,
          5.621,
          5.772,
          9.352,
          10.719,
          7.532
         ],
         "yaxis": "y"
        },
        {
         "hovertemplate": "Security=Oracle Corporation<br>Sector=Technology<br>Date=%{x}<br>YTD Return=%{y}<extra></extra>",
         "legendgroup": "Oracle Corporation",
         "line": {
          "color": "#FFA15A",
          "dash": "solid"
         },
         "marker": {
          "symbol": "circle"
         },
         "mode": "lines",
         "name": "Oracle Corporation",
         "showlegend": true,
         "type": "scattergl",
         "x": [
          "2025-01-02T00:00:00-05:00",
          "2025-01-03T00:00:00-05:00",
          "2025-01-06T00:00:00-05:00",
          "2025-01-07T00:00:00-05:00",
          "2025-01-08T00:00:00-05:00",
          "2025-01-10T00:00:00-05:00",
          "2025-01-13T00:00:00-05:00",
          "2025-01-14T00:00:00-05:00",
          "2025-01-15T00:00:00-05:00",
          "2025-01-16T00:00:00-05:00",
          "2025-01-17T00:00:00-05:00",
          "2025-01-21T00:00:00-05:00",
          "2025-01-22T00:00:00-05:00",
          "2025-01-23T00:00:00-05:00",
          "2025-01-24T00:00:00-05:00",
          "2025-01-27T00:00:00-05:00",
          "2025-01-28T00:00:00-05:00",
          "2025-01-29T00:00:00-05:00",
          "2025-01-30T00:00:00-05:00",
          "2025-01-31T00:00:00-05:00",
          "2025-02-03T00:00:00-05:00",
          "2025-02-04T00:00:00-05:00",
          "2025-02-05T00:00:00-05:00",
          "2025-02-06T00:00:00-05:00",
          "2025-02-07T00:00:00-05:00",
          "2025-02-10T00:00:00-05:00",
          "2025-02-11T00:00:00-05:00",
          "2025-02-12T00:00:00-05:00",
          "2025-02-13T00:00:00-05:00",
          "2025-02-14T00:00:00-05:00",
          "2025-02-18T00:00:00-05:00",
          "2025-02-19T00:00:00-05:00",
          "2025-02-20T00:00:00-05:00",
          "2025-02-21T00:00:00-05:00",
          "2025-02-24T00:00:00-05:00",
          "2025-02-25T00:00:00-05:00",
          "2025-02-26T00:00:00-05:00",
          "2025-02-27T00:00:00-05:00",
          "2025-02-28T00:00:00-05:00",
          "2025-03-03T00:00:00-05:00",
          "2025-03-04T00:00:00-05:00",
          "2025-03-05T00:00:00-05:00",
          "2025-03-06T00:00:00-05:00",
          "2025-03-07T00:00:00-05:00",
          "2025-03-10T00:00:00-04:00",
          "2025-03-11T00:00:00-04:00",
          "2025-03-12T00:00:00-04:00",
          "2025-03-13T00:00:00-04:00",
          "2025-03-14T00:00:00-04:00",
          "2025-03-17T00:00:00-04:00",
          "2025-03-18T00:00:00-04:00",
          "2025-03-19T00:00:00-04:00",
          "2025-03-20T00:00:00-04:00",
          "2025-03-21T00:00:00-04:00",
          "2025-03-24T00:00:00-04:00",
          "2025-03-25T00:00:00-04:00",
          "2025-03-26T00:00:00-04:00",
          "2025-03-27T00:00:00-04:00",
          "2025-03-28T00:00:00-04:00",
          "2025-03-31T00:00:00-04:00",
          "2025-04-01T00:00:00-04:00",
          "2025-04-02T00:00:00-04:00",
          "2025-04-03T00:00:00-04:00",
          "2025-04-04T00:00:00-04:00",
          "2025-04-07T00:00:00-04:00",
          "2025-04-08T00:00:00-04:00",
          "2025-04-09T00:00:00-04:00",
          "2025-04-10T00:00:00-04:00",
          "2025-04-11T00:00:00-04:00",
          "2025-04-14T00:00:00-04:00",
          "2025-04-15T00:00:00-04:00",
          "2025-04-16T00:00:00-04:00",
          "2025-04-17T00:00:00-04:00",
          "2025-04-21T00:00:00-04:00",
          "2025-04-22T00:00:00-04:00",
          "2025-04-23T00:00:00-04:00",
          "2025-04-24T00:00:00-04:00",
          "2025-04-25T00:00:00-04:00",
          "2025-04-28T00:00:00-04:00",
          "2025-04-29T00:00:00-04:00",
          "2025-04-30T00:00:00-04:00",
          "2025-05-01T00:00:00-04:00",
          "2025-05-02T00:00:00-04:00",
          "2025-05-05T00:00:00-04:00",
          "2025-05-06T00:00:00-04:00",
          "2025-05-07T00:00:00-04:00",
          "2025-05-08T00:00:00-04:00",
          "2025-05-09T00:00:00-04:00",
          "2025-05-12T00:00:00-04:00",
          "2025-05-13T00:00:00-04:00",
          "2025-05-14T00:00:00-04:00",
          "2025-05-15T00:00:00-04:00",
          "2025-05-16T00:00:00-04:00",
          "2025-05-19T00:00:00-04:00",
          "2025-05-20T00:00:00-04:00",
          "2025-05-21T00:00:00-04:00",
          "2025-05-22T00:00:00-04:00",
          "2025-05-23T00:00:00-04:00",
          "2025-05-27T00:00:00-04:00",
          "2025-05-28T00:00:00-04:00",
          "2025-05-29T00:00:00-04:00",
          "2025-05-30T00:00:00-04:00",
          "2025-06-02T00:00:00-04:00",
          "2025-06-03T00:00:00-04:00",
          "2025-06-04T00:00:00-04:00",
          "2025-06-05T00:00:00-04:00",
          "2025-06-06T00:00:00-04:00",
          "2025-06-09T00:00:00-04:00",
          "2025-06-10T00:00:00-04:00",
          "2025-06-11T00:00:00-04:00",
          "2025-06-12T00:00:00-04:00",
          "2025-06-13T00:00:00-04:00"
         ],
         "xaxis": "x",
         "y": [
          0,
          0.175,
          -0.205,
          -2.409,
          -1.741,
          -6.716,
          -7.066,
          -5.623,
          -4.415,
          -3.673,
          -2.773,
          4.195,
          11.229,
          12.587,
          10.854,
          -4.434,
          -0.98,
          -2.175,
          2.872,
          2.679,
          1.798,
          1.369,
          3.645,
          4.062,
          5.336,
          8.029,
          6.984,
          3.983,
          4.973,
          5.155,
          8.56,
          9.598,
          6.265,
          1.321,
          2.619,
          1.761,
          4.134,
          -0.521,
          0.264,
          -2.175,
          -4.923,
          -2.453,
          -8.865,
          -6.317,
          -10.163,
          -12.947,
          -8.895,
          -10.846,
          -9.874,
          -7.012,
          -9.765,
          -7.954,
          -7.791,
          -8.086,
          -6.492,
          -7.06,
          -10.761,
          -11.981,
          -14.945,
          -15.585,
          -14.299,
          -11.932,
          -17.143,
          -22.553,
          -23.223,
          -24.829,
          -15.658,
          -19.197,
          -19.803,
          -18.415,
          -18.839,
          -21.372,
          -22.063,
          -25.577,
          -22.899,
          -20.378,
          -16.676,
          -16.082,
          -15.082,
          -14.688,
          -14.731,
          -11.84,
          -8.665,
          -9.538,
          -10.501,
          -9.489,
          -8.926,
          -8.901,
          -4.733,
          -1.672,
          -1.26,
          -3.412,
          -2.751,
          -3.266,
          -2.86,
          -4.757,
          -4.678,
          -5.49,
          -1.891,
          -0.715,
          -1.291,
          0.303,
          0.933,
          2.49,
          1.86,
          3.702,
          5.447,
          7.344,
          7.544,
          6.877,
          21.105,
          30.413
         ],
         "yaxis": "y"
        },
        {
         "hovertemplate": "Security=Palantir Technologies<br>Sector=Technology<br>Date=%{x}<br>YTD Return=%{y}<extra></extra>",
         "legendgroup": "Palantir Technologies",
         "line": {
          "color": "#19d3f3",
          "dash": "solid"
         },
         "marker": {
          "symbol": "circle"
         },
         "mode": "lines",
         "name": "Palantir Technologies",
         "showlegend": true,
         "type": "scattergl",
         "x": [
          "2025-01-02T00:00:00-05:00",
          "2025-01-03T00:00:00-05:00",
          "2025-01-06T00:00:00-05:00",
          "2025-01-07T00:00:00-05:00",
          "2025-01-08T00:00:00-05:00",
          "2025-01-10T00:00:00-05:00",
          "2025-01-13T00:00:00-05:00",
          "2025-01-14T00:00:00-05:00",
          "2025-01-15T00:00:00-05:00",
          "2025-01-16T00:00:00-05:00",
          "2025-01-17T00:00:00-05:00",
          "2025-01-21T00:00:00-05:00",
          "2025-01-22T00:00:00-05:00",
          "2025-01-23T00:00:00-05:00",
          "2025-01-24T00:00:00-05:00",
          "2025-01-27T00:00:00-05:00",
          "2025-01-28T00:00:00-05:00",
          "2025-01-29T00:00:00-05:00",
          "2025-01-30T00:00:00-05:00",
          "2025-01-31T00:00:00-05:00",
          "2025-02-03T00:00:00-05:00",
          "2025-02-04T00:00:00-05:00",
          "2025-02-05T00:00:00-05:00",
          "2025-02-06T00:00:00-05:00",
          "2025-02-07T00:00:00-05:00",
          "2025-02-10T00:00:00-05:00",
          "2025-02-11T00:00:00-05:00",
          "2025-02-12T00:00:00-05:00",
          "2025-02-13T00:00:00-05:00",
          "2025-02-14T00:00:00-05:00",
          "2025-02-18T00:00:00-05:00",
          "2025-02-19T00:00:00-05:00",
          "2025-02-20T00:00:00-05:00",
          "2025-02-21T00:00:00-05:00",
          "2025-02-24T00:00:00-05:00",
          "2025-02-25T00:00:00-05:00",
          "2025-02-26T00:00:00-05:00",
          "2025-02-27T00:00:00-05:00",
          "2025-02-28T00:00:00-05:00",
          "2025-03-03T00:00:00-05:00",
          "2025-03-04T00:00:00-05:00",
          "2025-03-05T00:00:00-05:00",
          "2025-03-06T00:00:00-05:00",
          "2025-03-07T00:00:00-05:00",
          "2025-03-10T00:00:00-04:00",
          "2025-03-11T00:00:00-04:00",
          "2025-03-12T00:00:00-04:00",
          "2025-03-13T00:00:00-04:00",
          "2025-03-14T00:00:00-04:00",
          "2025-03-17T00:00:00-04:00",
          "2025-03-18T00:00:00-04:00",
          "2025-03-19T00:00:00-04:00",
          "2025-03-20T00:00:00-04:00",
          "2025-03-21T00:00:00-04:00",
          "2025-03-24T00:00:00-04:00",
          "2025-03-25T00:00:00-04:00",
          "2025-03-26T00:00:00-04:00",
          "2025-03-27T00:00:00-04:00",
          "2025-03-28T00:00:00-04:00",
          "2025-03-31T00:00:00-04:00",
          "2025-04-01T00:00:00-04:00",
          "2025-04-02T00:00:00-04:00",
          "2025-04-03T00:00:00-04:00",
          "2025-04-04T00:00:00-04:00",
          "2025-04-07T00:00:00-04:00",
          "2025-04-08T00:00:00-04:00",
          "2025-04-09T00:00:00-04:00",
          "2025-04-10T00:00:00-04:00",
          "2025-04-11T00:00:00-04:00",
          "2025-04-14T00:00:00-04:00",
          "2025-04-15T00:00:00-04:00",
          "2025-04-16T00:00:00-04:00",
          "2025-04-17T00:00:00-04:00",
          "2025-04-21T00:00:00-04:00",
          "2025-04-22T00:00:00-04:00",
          "2025-04-23T00:00:00-04:00",
          "2025-04-24T00:00:00-04:00",
          "2025-04-25T00:00:00-04:00",
          "2025-04-28T00:00:00-04:00",
          "2025-04-29T00:00:00-04:00",
          "2025-04-30T00:00:00-04:00",
          "2025-05-01T00:00:00-04:00",
          "2025-05-02T00:00:00-04:00",
          "2025-05-05T00:00:00-04:00",
          "2025-05-06T00:00:00-04:00",
          "2025-05-07T00:00:00-04:00",
          "2025-05-08T00:00:00-04:00",
          "2025-05-09T00:00:00-04:00",
          "2025-05-12T00:00:00-04:00",
          "2025-05-13T00:00:00-04:00",
          "2025-05-14T00:00:00-04:00",
          "2025-05-15T00:00:00-04:00",
          "2025-05-16T00:00:00-04:00",
          "2025-05-19T00:00:00-04:00",
          "2025-05-20T00:00:00-04:00",
          "2025-05-21T00:00:00-04:00",
          "2025-05-22T00:00:00-04:00",
          "2025-05-23T00:00:00-04:00",
          "2025-05-27T00:00:00-04:00",
          "2025-05-28T00:00:00-04:00",
          "2025-05-29T00:00:00-04:00",
          "2025-05-30T00:00:00-04:00",
          "2025-06-02T00:00:00-04:00",
          "2025-06-03T00:00:00-04:00",
          "2025-06-04T00:00:00-04:00",
          "2025-06-05T00:00:00-04:00",
          "2025-06-06T00:00:00-04:00",
          "2025-06-09T00:00:00-04:00",
          "2025-06-10T00:00:00-04:00",
          "2025-06-11T00:00:00-04:00",
          "2025-06-12T00:00:00-04:00",
          "2025-06-13T00:00:00-04:00"
         ],
         "xaxis": "x",
         "y": [
          0,
          6.251,
          0.971,
          -6.916,
          -9.257,
          -10.547,
          -13.579,
          -12.342,
          -9.376,
          -7.913,
          -4.548,
          -2.82,
          2.234,
          5.041,
          5.041,
          0.332,
          6.703,
          6.078,
          8.02,
          9.709,
          11.371,
          38.09,
          34.805,
          47.998,
          47.427,
          55.14,
          49.781,
          56.124,
          56.816,
          58.479,
          65.74,
          49.036,
          41.335,
          34.792,
          20.601,
          16.824,
          18.779,
          12.741,
          12.941,
          10.946,
          12.249,
          19.87,
          7.009,
          12.927,
          1.583,
          3.804,
          11.251,
          5.892,
          14.696,
          16.172,
          11.571,
          14.51,
          16.226,
          20.974,
          28.674,
          28.342,
          22.729,
          19.816,
          14.177,
          12.249,
          12.621,
          16.305,
          11.185,
          -1.569,
          3.524,
          2.833,
          22.37,
          17.822,
          17.768,
          23.181,
          30.868,
          23.301,
          24.724,
          20.761,
          25.003,
          34.087,
          43.344,
          49.993,
          52.48,
          54.382,
          57.521,
          54.542,
          65.288,
          64.61,
          44.78,
          46.934,
          58.465,
          56.005,
          57.548,
          70.368,
          73.135,
          70.395,
          72.257,
          68.014,
          67.03,
          60.367,
          62.641,
          63.998,
          64.104,
          64.596,
          62.681,
          75.263,
          75.608,
          77.111,
          72.909,
          59.476,
          69.863,
          75.635,
          76.633,
          81.394,
          79.798,
          82.737
         ],
         "yaxis": "y"
        },
        {
         "hovertemplate": "Security=Salesforce<br>Sector=Technology<br>Date=%{x}<br>YTD Return=%{y}<extra></extra>",
         "legendgroup": "Salesforce",
         "line": {
          "color": "#FF6692",
          "dash": "solid"
         },
         "marker": {
          "symbol": "circle"
         },
         "mode": "lines",
         "name": "Salesforce",
         "showlegend": true,
         "type": "scattergl",
         "x": [
          "2025-01-02T00:00:00-05:00",
          "2025-01-03T00:00:00-05:00",
          "2025-01-06T00:00:00-05:00",
          "2025-01-07T00:00:00-05:00",
          "2025-01-08T00:00:00-05:00",
          "2025-01-10T00:00:00-05:00",
          "2025-01-13T00:00:00-05:00",
          "2025-01-14T00:00:00-05:00",
          "2025-01-15T00:00:00-05:00",
          "2025-01-16T00:00:00-05:00",
          "2025-01-17T00:00:00-05:00",
          "2025-01-21T00:00:00-05:00",
          "2025-01-22T00:00:00-05:00",
          "2025-01-23T00:00:00-05:00",
          "2025-01-24T00:00:00-05:00",
          "2025-01-27T00:00:00-05:00",
          "2025-01-28T00:00:00-05:00",
          "2025-01-29T00:00:00-05:00",
          "2025-01-30T00:00:00-05:00",
          "2025-01-31T00:00:00-05:00",
          "2025-02-03T00:00:00-05:00",
          "2025-02-04T00:00:00-05:00",
          "2025-02-05T00:00:00-05:00",
          "2025-02-06T00:00:00-05:00",
          "2025-02-07T00:00:00-05:00",
          "2025-02-10T00:00:00-05:00",
          "2025-02-11T00:00:00-05:00",
          "2025-02-12T00:00:00-05:00",
          "2025-02-13T00:00:00-05:00",
          "2025-02-14T00:00:00-05:00",
          "2025-02-18T00:00:00-05:00",
          "2025-02-19T00:00:00-05:00",
          "2025-02-20T00:00:00-05:00",
          "2025-02-21T00:00:00-05:00",
          "2025-02-24T00:00:00-05:00",
          "2025-02-25T00:00:00-05:00",
          "2025-02-26T00:00:00-05:00",
          "2025-02-27T00:00:00-05:00",
          "2025-02-28T00:00:00-05:00",
          "2025-03-03T00:00:00-05:00",
          "2025-03-04T00:00:00-05:00",
          "2025-03-05T00:00:00-05:00",
          "2025-03-06T00:00:00-05:00",
          "2025-03-07T00:00:00-05:00",
          "2025-03-10T00:00:00-04:00",
          "2025-03-11T00:00:00-04:00",
          "2025-03-12T00:00:00-04:00",
          "2025-03-13T00:00:00-04:00",
          "2025-03-14T00:00:00-04:00",
          "2025-03-17T00:00:00-04:00",
          "2025-03-18T00:00:00-04:00",
          "2025-03-19T00:00:00-04:00",
          "2025-03-20T00:00:00-04:00",
          "2025-03-21T00:00:00-04:00",
          "2025-03-24T00:00:00-04:00",
          "2025-03-25T00:00:00-04:00",
          "2025-03-26T00:00:00-04:00",
          "2025-03-27T00:00:00-04:00",
          "2025-03-28T00:00:00-04:00",
          "2025-03-31T00:00:00-04:00",
          "2025-04-01T00:00:00-04:00",
          "2025-04-02T00:00:00-04:00",
          "2025-04-03T00:00:00-04:00",
          "2025-04-04T00:00:00-04:00",
          "2025-04-07T00:00:00-04:00",
          "2025-04-08T00:00:00-04:00",
          "2025-04-09T00:00:00-04:00",
          "2025-04-10T00:00:00-04:00",
          "2025-04-11T00:00:00-04:00",
          "2025-04-14T00:00:00-04:00",
          "2025-04-15T00:00:00-04:00",
          "2025-04-16T00:00:00-04:00",
          "2025-04-17T00:00:00-04:00",
          "2025-04-21T00:00:00-04:00",
          "2025-04-22T00:00:00-04:00",
          "2025-04-23T00:00:00-04:00",
          "2025-04-24T00:00:00-04:00",
          "2025-04-25T00:00:00-04:00",
          "2025-04-28T00:00:00-04:00",
          "2025-04-29T00:00:00-04:00",
          "2025-04-30T00:00:00-04:00",
          "2025-05-01T00:00:00-04:00",
          "2025-05-02T00:00:00-04:00",
          "2025-05-05T00:00:00-04:00",
          "2025-05-06T00:00:00-04:00",
          "2025-05-07T00:00:00-04:00",
          "2025-05-08T00:00:00-04:00",
          "2025-05-09T00:00:00-04:00",
          "2025-05-12T00:00:00-04:00",
          "2025-05-13T00:00:00-04:00",
          "2025-05-14T00:00:00-04:00",
          "2025-05-15T00:00:00-04:00",
          "2025-05-16T00:00:00-04:00",
          "2025-05-19T00:00:00-04:00",
          "2025-05-20T00:00:00-04:00",
          "2025-05-21T00:00:00-04:00",
          "2025-05-22T00:00:00-04:00",
          "2025-05-23T00:00:00-04:00",
          "2025-05-27T00:00:00-04:00",
          "2025-05-28T00:00:00-04:00",
          "2025-05-29T00:00:00-04:00",
          "2025-05-30T00:00:00-04:00",
          "2025-06-02T00:00:00-04:00",
          "2025-06-03T00:00:00-04:00",
          "2025-06-04T00:00:00-04:00",
          "2025-06-05T00:00:00-04:00",
          "2025-06-06T00:00:00-04:00",
          "2025-06-09T00:00:00-04:00",
          "2025-06-10T00:00:00-04:00",
          "2025-06-11T00:00:00-04:00",
          "2025-06-12T00:00:00-04:00",
          "2025-06-13T00:00:00-04:00"
         ],
         "xaxis": "x",
         "y": [
          0,
          0.677,
          -0.039,
          -1.733,
          -1.137,
          -3.874,
          -3.505,
          -2.153,
          -2.873,
          -3.224,
          -1.845,
          -1.155,
          0.593,
          1.21,
          0.974,
          4.972,
          8.858,
          7.059,
          3.904,
          3.339,
          2.595,
          4.077,
          5.223,
          0.045,
          -1.461,
          -1.046,
          -1.893,
          -1.373,
          -0.245,
          -1.246,
          -0.514,
          -1.854,
          -3.699,
          -6.309,
          -6.756,
          -7.494,
          -7.056,
          -10.815,
          -9.923,
          -11.371,
          -13.101,
          -11.701,
          -13.491,
          -14.447,
          -17.468,
          -16.213,
          -13.936,
          -17.819,
          -15.502,
          -15.094,
          -15.705,
          -15.505,
          -15.614,
          -15.133,
          -13.518,
          -12.717,
          -15.021,
          -15.983,
          -18.354,
          -18.841,
          -18.285,
          -17.879,
          -22.812,
          -27.188,
          -26.145,
          -26.211,
          -19.806,
          -22.724,
          -22.76,
          -22.897,
          -22.782,
          -24.323,
          -25.105,
          -28.437,
          -26.277,
          -24.129,
          -19.822,
          -18.868,
          -19.537,
          -18.895,
          -18.608,
          -18.42,
          -16.678,
          -17.42,
          -17.199,
          -15.724,
          -15.267,
          -16.575,
          -12.516,
          -12.41,
          -11.935,
          -11.929,
          -11.81,
          -12.877,
          -12.746,
          -14.497,
          -14.152,
          -17.269,
          -16.039,
          -16.39,
          -19.15,
          -19.619,
          -20.755,
          -19.892,
          -20.286,
          -19.083,
          -16.851,
          -17.535,
          -18.756,
          -19.456,
          -19.153,
          -21.73
         ],
         "yaxis": "y"
        },
        {
         "hovertemplate": "Security=Cisco<br>Sector=Technology<br>Date=%{x}<br>YTD Return=%{y}<extra></extra>",
         "legendgroup": "Cisco",
         "line": {
          "color": "#B6E880",
          "dash": "solid"
         },
         "marker": {
          "symbol": "circle"
         },
         "mode": "lines",
         "name": "Cisco",
         "showlegend": true,
         "type": "scattergl",
         "x": [
          "2025-01-02T00:00:00-05:00",
          "2025-01-03T00:00:00-05:00",
          "2025-01-06T00:00:00-05:00",
          "2025-01-07T00:00:00-05:00",
          "2025-01-08T00:00:00-05:00",
          "2025-01-10T00:00:00-05:00",
          "2025-01-13T00:00:00-05:00",
          "2025-01-14T00:00:00-05:00",
          "2025-01-15T00:00:00-05:00",
          "2025-01-16T00:00:00-05:00",
          "2025-01-17T00:00:00-05:00",
          "2025-01-21T00:00:00-05:00",
          "2025-01-22T00:00:00-05:00",
          "2025-01-23T00:00:00-05:00",
          "2025-01-24T00:00:00-05:00",
          "2025-01-27T00:00:00-05:00",
          "2025-01-28T00:00:00-05:00",
          "2025-01-29T00:00:00-05:00",
          "2025-01-30T00:00:00-05:00",
          "2025-01-31T00:00:00-05:00",
          "2025-02-03T00:00:00-05:00",
          "2025-02-04T00:00:00-05:00",
          "2025-02-05T00:00:00-05:00",
          "2025-02-06T00:00:00-05:00",
          "2025-02-07T00:00:00-05:00",
          "2025-02-10T00:00:00-05:00",
          "2025-02-11T00:00:00-05:00",
          "2025-02-12T00:00:00-05:00",
          "2025-02-13T00:00:00-05:00",
          "2025-02-14T00:00:00-05:00",
          "2025-02-18T00:00:00-05:00",
          "2025-02-19T00:00:00-05:00",
          "2025-02-20T00:00:00-05:00",
          "2025-02-21T00:00:00-05:00",
          "2025-02-24T00:00:00-05:00",
          "2025-02-25T00:00:00-05:00",
          "2025-02-26T00:00:00-05:00",
          "2025-02-27T00:00:00-05:00",
          "2025-02-28T00:00:00-05:00",
          "2025-03-03T00:00:00-05:00",
          "2025-03-04T00:00:00-05:00",
          "2025-03-05T00:00:00-05:00",
          "2025-03-06T00:00:00-05:00",
          "2025-03-07T00:00:00-05:00",
          "2025-03-10T00:00:00-04:00",
          "2025-03-11T00:00:00-04:00",
          "2025-03-12T00:00:00-04:00",
          "2025-03-13T00:00:00-04:00",
          "2025-03-14T00:00:00-04:00",
          "2025-03-17T00:00:00-04:00",
          "2025-03-18T00:00:00-04:00",
          "2025-03-19T00:00:00-04:00",
          "2025-03-20T00:00:00-04:00",
          "2025-03-21T00:00:00-04:00",
          "2025-03-24T00:00:00-04:00",
          "2025-03-25T00:00:00-04:00",
          "2025-03-26T00:00:00-04:00",
          "2025-03-27T00:00:00-04:00",
          "2025-03-28T00:00:00-04:00",
          "2025-03-31T00:00:00-04:00",
          "2025-04-01T00:00:00-04:00",
          "2025-04-02T00:00:00-04:00",
          "2025-04-03T00:00:00-04:00",
          "2025-04-04T00:00:00-04:00",
          "2025-04-07T00:00:00-04:00",
          "2025-04-08T00:00:00-04:00",
          "2025-04-09T00:00:00-04:00",
          "2025-04-10T00:00:00-04:00",
          "2025-04-11T00:00:00-04:00",
          "2025-04-14T00:00:00-04:00",
          "2025-04-15T00:00:00-04:00",
          "2025-04-16T00:00:00-04:00",
          "2025-04-17T00:00:00-04:00",
          "2025-04-21T00:00:00-04:00",
          "2025-04-22T00:00:00-04:00",
          "2025-04-23T00:00:00-04:00",
          "2025-04-24T00:00:00-04:00",
          "2025-04-25T00:00:00-04:00",
          "2025-04-28T00:00:00-04:00",
          "2025-04-29T00:00:00-04:00",
          "2025-04-30T00:00:00-04:00",
          "2025-05-01T00:00:00-04:00",
          "2025-05-02T00:00:00-04:00",
          "2025-05-05T00:00:00-04:00",
          "2025-05-06T00:00:00-04:00",
          "2025-05-07T00:00:00-04:00",
          "2025-05-08T00:00:00-04:00",
          "2025-05-09T00:00:00-04:00",
          "2025-05-12T00:00:00-04:00",
          "2025-05-13T00:00:00-04:00",
          "2025-05-14T00:00:00-04:00",
          "2025-05-15T00:00:00-04:00",
          "2025-05-16T00:00:00-04:00",
          "2025-05-19T00:00:00-04:00",
          "2025-05-20T00:00:00-04:00",
          "2025-05-21T00:00:00-04:00",
          "2025-05-22T00:00:00-04:00",
          "2025-05-23T00:00:00-04:00",
          "2025-05-27T00:00:00-04:00",
          "2025-05-28T00:00:00-04:00",
          "2025-05-29T00:00:00-04:00",
          "2025-05-30T00:00:00-04:00",
          "2025-06-02T00:00:00-04:00",
          "2025-06-03T00:00:00-04:00",
          "2025-06-04T00:00:00-04:00",
          "2025-06-05T00:00:00-04:00",
          "2025-06-06T00:00:00-04:00",
          "2025-06-09T00:00:00-04:00",
          "2025-06-10T00:00:00-04:00",
          "2025-06-11T00:00:00-04:00",
          "2025-06-12T00:00:00-04:00",
          "2025-06-13T00:00:00-04:00"
         ],
         "xaxis": "x",
         "y": [
          0,
          0.273,
          0.119,
          0.392,
          0.852,
          0.068,
          0.102,
          1.073,
          2.181,
          1.908,
          2.606,
          3.969,
          4.991,
          6.014,
          6.014,
          0.647,
          1.244,
          1.448,
          3.015,
          3.237,
          3.986,
          4.497,
          6.593,
          6.082,
          6.082,
          7.002,
          6.354,
          6.525,
          8.756,
          10.511,
          10.034,
          10.46,
          10.17,
          8.995,
          7.734,
          9.489,
          9.165,
          8.705,
          9.216,
          8.143,
          7.768,
          8.961,
          8.024,
          8.927,
          5.724,
          3.356,
          2.998,
          1.652,
          3.066,
          3.731,
          2.726,
          4.123,
          3.271,
          2.726,
          3.867,
          3.901,
          5.281,
          4.6,
          3.68,
          5.128,
          5.281,
          5.315,
          -1.716,
          -6.467,
          -6.689,
          -8.782,
          -0.31,
          -2.951,
          -1.682,
          -1.545,
          -1.905,
          -4.374,
          -4.374,
          -6.758,
          -5.609,
          -4.597,
          -3.465,
          -2.745,
          -2.522,
          -1.665,
          -0.996,
          -0.327,
          1.748,
          1.731,
          1.559,
          2.16,
          2.4,
          2.503,
          5.761,
          5.95,
          5.109,
          10.203,
          9.105,
          9.62,
          8.762,
          8.385,
          8.659,
          8.231,
          9.328,
          8.625,
          8.128,
          8.111,
          9.5,
          10.374,
          10.426,
          10.82,
          13.29,
          13.015,
          11.729,
          10.083,
          11.643,
          9.911
         ],
         "yaxis": "y"
        },
        {
         "hovertemplate": "Security=IBM<br>Sector=Technology<br>Date=%{x}<br>YTD Return=%{y}<extra></extra>",
         "legendgroup": "IBM",
         "line": {
          "color": "#FF97FF",
          "dash": "solid"
         },
         "marker": {
          "symbol": "circle"
         },
         "mode": "lines",
         "name": "IBM",
         "showlegend": true,
         "type": "scattergl",
         "x": [
          "2025-01-02T00:00:00-05:00",
          "2025-01-03T00:00:00-05:00",
          "2025-01-06T00:00:00-05:00",
          "2025-01-07T00:00:00-05:00",
          "2025-01-08T00:00:00-05:00",
          "2025-01-10T00:00:00-05:00",
          "2025-01-13T00:00:00-05:00",
          "2025-01-14T00:00:00-05:00",
          "2025-01-15T00:00:00-05:00",
          "2025-01-16T00:00:00-05:00",
          "2025-01-17T00:00:00-05:00",
          "2025-01-21T00:00:00-05:00",
          "2025-01-22T00:00:00-05:00",
          "2025-01-23T00:00:00-05:00",
          "2025-01-24T00:00:00-05:00",
          "2025-01-27T00:00:00-05:00",
          "2025-01-28T00:00:00-05:00",
          "2025-01-29T00:00:00-05:00",
          "2025-01-30T00:00:00-05:00",
          "2025-01-31T00:00:00-05:00",
          "2025-02-03T00:00:00-05:00",
          "2025-02-04T00:00:00-05:00",
          "2025-02-05T00:00:00-05:00",
          "2025-02-06T00:00:00-05:00",
          "2025-02-07T00:00:00-05:00",
          "2025-02-10T00:00:00-05:00",
          "2025-02-11T00:00:00-05:00",
          "2025-02-12T00:00:00-05:00",
          "2025-02-13T00:00:00-05:00",
          "2025-02-14T00:00:00-05:00",
          "2025-02-18T00:00:00-05:00",
          "2025-02-19T00:00:00-05:00",
          "2025-02-20T00:00:00-05:00",
          "2025-02-21T00:00:00-05:00",
          "2025-02-24T00:00:00-05:00",
          "2025-02-25T00:00:00-05:00",
          "2025-02-26T00:00:00-05:00",
          "2025-02-27T00:00:00-05:00",
          "2025-02-28T00:00:00-05:00",
          "2025-03-03T00:00:00-05:00",
          "2025-03-04T00:00:00-05:00",
          "2025-03-05T00:00:00-05:00",
          "2025-03-06T00:00:00-05:00",
          "2025-03-07T00:00:00-05:00",
          "2025-03-10T00:00:00-04:00",
          "2025-03-11T00:00:00-04:00",
          "2025-03-12T00:00:00-04:00",
          "2025-03-13T00:00:00-04:00",
          "2025-03-14T00:00:00-04:00",
          "2025-03-17T00:00:00-04:00",
          "2025-03-18T00:00:00-04:00",
          "2025-03-19T00:00:00-04:00",
          "2025-03-20T00:00:00-04:00",
          "2025-03-21T00:00:00-04:00",
          "2025-03-24T00:00:00-04:00",
          "2025-03-25T00:00:00-04:00",
          "2025-03-26T00:00:00-04:00",
          "2025-03-27T00:00:00-04:00",
          "2025-03-28T00:00:00-04:00",
          "2025-03-31T00:00:00-04:00",
          "2025-04-01T00:00:00-04:00",
          "2025-04-02T00:00:00-04:00",
          "2025-04-03T00:00:00-04:00",
          "2025-04-04T00:00:00-04:00",
          "2025-04-07T00:00:00-04:00",
          "2025-04-08T00:00:00-04:00",
          "2025-04-09T00:00:00-04:00",
          "2025-04-10T00:00:00-04:00",
          "2025-04-11T00:00:00-04:00",
          "2025-04-14T00:00:00-04:00",
          "2025-04-15T00:00:00-04:00",
          "2025-04-16T00:00:00-04:00",
          "2025-04-17T00:00:00-04:00",
          "2025-04-21T00:00:00-04:00",
          "2025-04-22T00:00:00-04:00",
          "2025-04-23T00:00:00-04:00",
          "2025-04-24T00:00:00-04:00",
          "2025-04-25T00:00:00-04:00",
          "2025-04-28T00:00:00-04:00",
          "2025-04-29T00:00:00-04:00",
          "2025-04-30T00:00:00-04:00",
          "2025-05-01T00:00:00-04:00",
          "2025-05-02T00:00:00-04:00",
          "2025-05-05T00:00:00-04:00",
          "2025-05-06T00:00:00-04:00",
          "2025-05-07T00:00:00-04:00",
          "2025-05-08T00:00:00-04:00",
          "2025-05-09T00:00:00-04:00",
          "2025-05-12T00:00:00-04:00",
          "2025-05-13T00:00:00-04:00",
          "2025-05-14T00:00:00-04:00",
          "2025-05-15T00:00:00-04:00",
          "2025-05-16T00:00:00-04:00",
          "2025-05-19T00:00:00-04:00",
          "2025-05-20T00:00:00-04:00",
          "2025-05-21T00:00:00-04:00",
          "2025-05-22T00:00:00-04:00",
          "2025-05-23T00:00:00-04:00",
          "2025-05-27T00:00:00-04:00",
          "2025-05-28T00:00:00-04:00",
          "2025-05-29T00:00:00-04:00",
          "2025-05-30T00:00:00-04:00",
          "2025-06-02T00:00:00-04:00",
          "2025-06-03T00:00:00-04:00",
          "2025-06-04T00:00:00-04:00",
          "2025-06-05T00:00:00-04:00",
          "2025-06-06T00:00:00-04:00",
          "2025-06-09T00:00:00-04:00",
          "2025-06-10T00:00:00-04:00",
          "2025-06-11T00:00:00-04:00",
          "2025-06-12T00:00:00-04:00",
          "2025-06-13T00:00:00-04:00"
         ],
         "xaxis": "x",
         "y": [
          0,
          1.232,
          1.241,
          1.828,
          1.473,
          -0.086,
          -1.155,
          -0.996,
          0.041,
          1.237,
          2.205,
          1.964,
          1.509,
          2.773,
          2.21,
          1.905,
          2.601,
          3.951,
          17.427,
          16.259,
          18.546,
          20.242,
          19.714,
          15.231,
          14.731,
          14.091,
          16.576,
          17.084,
          18.631,
          19.587,
          20.407,
          20.979,
          21.171,
          19.679,
          19.858,
          17.972,
          17.098,
          15.903,
          15.541,
          14.512,
          15.894,
          15.043,
          13.825,
          19.706,
          17.583,
          13.944,
          14.255,
          12.502,
          13.669,
          15.784,
          13.029,
          15.473,
          11.367,
          11.619,
          13.715,
          14.379,
          14.58,
          12.69,
          11.678,
          13.811,
          14.58,
          14.415,
          11.445,
          4.117,
          3.339,
          1.165,
          7.701,
          5.065,
          7.779,
          9.417,
          10.168,
          9.193,
          9.303,
          8.118,
          10.26,
          12.356,
          4.964,
          6.374,
          8.09,
          9.568,
          10.681,
          9.692,
          12.388,
          14.049,
          14.022,
          15.967,
          16.32,
          14.817,
          16.886,
          19.144,
          18.789,
          22.871,
          22.908,
          23.668,
          22.996,
          20.194,
          19.042,
          19.162,
          21.282,
          19.904,
          19.19,
          19.36,
          21.59,
          22.189,
          22.337,
          22.954,
          23.88,
          25.359,
          27.276,
          29.709,
          29.483,
          27.728
         ],
         "yaxis": "y"
        },
        {
         "hovertemplate": "Security=Intuit<br>Sector=Technology<br>Date=%{x}<br>YTD Return=%{y}<extra></extra>",
         "legendgroup": "Intuit",
         "line": {
          "color": "#FECB52",
          "dash": "solid"
         },
         "marker": {
          "symbol": "circle"
         },
         "mode": "lines",
         "name": "Intuit",
         "showlegend": true,
         "type": "scattergl",
         "x": [
          "2025-01-02T00:00:00-05:00",
          "2025-01-03T00:00:00-05:00",
          "2025-01-06T00:00:00-05:00",
          "2025-01-07T00:00:00-05:00",
          "2025-01-08T00:00:00-05:00",
          "2025-01-10T00:00:00-05:00",
          "2025-01-13T00:00:00-05:00",
          "2025-01-14T00:00:00-05:00",
          "2025-01-15T00:00:00-05:00",
          "2025-01-16T00:00:00-05:00",
          "2025-01-17T00:00:00-05:00",
          "2025-01-21T00:00:00-05:00",
          "2025-01-22T00:00:00-05:00",
          "2025-01-23T00:00:00-05:00",
          "2025-01-24T00:00:00-05:00",
          "2025-01-27T00:00:00-05:00",
          "2025-01-28T00:00:00-05:00",
          "2025-01-29T00:00:00-05:00",
          "2025-01-30T00:00:00-05:00",
          "2025-01-31T00:00:00-05:00",
          "2025-02-03T00:00:00-05:00",
          "2025-02-04T00:00:00-05:00",
          "2025-02-05T00:00:00-05:00",
          "2025-02-06T00:00:00-05:00",
          "2025-02-07T00:00:00-05:00",
          "2025-02-10T00:00:00-05:00",
          "2025-02-11T00:00:00-05:00",
          "2025-02-12T00:00:00-05:00",
          "2025-02-13T00:00:00-05:00",
          "2025-02-14T00:00:00-05:00",
          "2025-02-18T00:00:00-05:00",
          "2025-02-19T00:00:00-05:00",
          "2025-02-20T00:00:00-05:00",
          "2025-02-21T00:00:00-05:00",
          "2025-02-24T00:00:00-05:00",
          "2025-02-25T00:00:00-05:00",
          "2025-02-26T00:00:00-05:00",
          "2025-02-27T00:00:00-05:00",
          "2025-02-28T00:00:00-05:00",
          "2025-03-03T00:00:00-05:00",
          "2025-03-04T00:00:00-05:00",
          "2025-03-05T00:00:00-05:00",
          "2025-03-06T00:00:00-05:00",
          "2025-03-07T00:00:00-05:00",
          "2025-03-10T00:00:00-04:00",
          "2025-03-11T00:00:00-04:00",
          "2025-03-12T00:00:00-04:00",
          "2025-03-13T00:00:00-04:00",
          "2025-03-14T00:00:00-04:00",
          "2025-03-17T00:00:00-04:00",
          "2025-03-18T00:00:00-04:00",
          "2025-03-19T00:00:00-04:00",
          "2025-03-20T00:00:00-04:00",
          "2025-03-21T00:00:00-04:00",
          "2025-03-24T00:00:00-04:00",
          "2025-03-25T00:00:00-04:00",
          "2025-03-26T00:00:00-04:00",
          "2025-03-27T00:00:00-04:00",
          "2025-03-28T00:00:00-04:00",
          "2025-03-31T00:00:00-04:00",
          "2025-04-01T00:00:00-04:00",
          "2025-04-02T00:00:00-04:00",
          "2025-04-03T00:00:00-04:00",
          "2025-04-04T00:00:00-04:00",
          "2025-04-07T00:00:00-04:00",
          "2025-04-08T00:00:00-04:00",
          "2025-04-09T00:00:00-04:00",
          "2025-04-10T00:00:00-04:00",
          "2025-04-11T00:00:00-04:00",
          "2025-04-14T00:00:00-04:00",
          "2025-04-15T00:00:00-04:00",
          "2025-04-16T00:00:00-04:00",
          "2025-04-17T00:00:00-04:00",
          "2025-04-21T00:00:00-04:00",
          "2025-04-22T00:00:00-04:00",
          "2025-04-23T00:00:00-04:00",
          "2025-04-24T00:00:00-04:00",
          "2025-04-25T00:00:00-04:00",
          "2025-04-28T00:00:00-04:00",
          "2025-04-29T00:00:00-04:00",
          "2025-04-30T00:00:00-04:00",
          "2025-05-01T00:00:00-04:00",
          "2025-05-02T00:00:00-04:00",
          "2025-05-05T00:00:00-04:00",
          "2025-05-06T00:00:00-04:00",
          "2025-05-07T00:00:00-04:00",
          "2025-05-08T00:00:00-04:00",
          "2025-05-09T00:00:00-04:00",
          "2025-05-12T00:00:00-04:00",
          "2025-05-13T00:00:00-04:00",
          "2025-05-14T00:00:00-04:00",
          "2025-05-15T00:00:00-04:00",
          "2025-05-16T00:00:00-04:00",
          "2025-05-19T00:00:00-04:00",
          "2025-05-20T00:00:00-04:00",
          "2025-05-21T00:00:00-04:00",
          "2025-05-22T00:00:00-04:00",
          "2025-05-23T00:00:00-04:00",
          "2025-05-27T00:00:00-04:00",
          "2025-05-28T00:00:00-04:00",
          "2025-05-29T00:00:00-04:00",
          "2025-05-30T00:00:00-04:00",
          "2025-06-02T00:00:00-04:00",
          "2025-06-03T00:00:00-04:00",
          "2025-06-04T00:00:00-04:00",
          "2025-06-05T00:00:00-04:00",
          "2025-06-06T00:00:00-04:00",
          "2025-06-09T00:00:00-04:00",
          "2025-06-10T00:00:00-04:00",
          "2025-06-11T00:00:00-04:00",
          "2025-06-12T00:00:00-04:00",
          "2025-06-13T00:00:00-04:00"
         ],
         "xaxis": "x",
         "y": [
          0,
          1.195,
          0.381,
          -1.182,
          0.523,
          0.269,
          -1.373,
          0.329,
          -0.049,
          -2.33,
          -2.835,
          -1.986,
          -1.62,
          -3.772,
          -3.829,
          -2.434,
          -3.393,
          -4.626,
          -2.759,
          -3.256,
          -3.377,
          -4.831,
          -5.387,
          -5.075,
          -6.901,
          -5.616,
          -5.77,
          -7.272,
          -6.088,
          -5.529,
          -6.725,
          -6.363,
          -6.864,
          -9.053,
          -8.768,
          -10.635,
          0.604,
          -3.431,
          -1.273,
          -3.324,
          -3.809,
          -0.683,
          -2.475,
          -1.953,
          -6.751,
          -5.637,
          -4.924,
          -6.503,
          -3.692,
          -3.16,
          -3.655,
          -2.999,
          -3.431,
          -2.849,
          -1.394,
          -0.488,
          -1.109,
          -1.038,
          -3.673,
          -1.249,
          -1.283,
          -0.136,
          -3.735,
          -9.686,
          -10.537,
          -12.495,
          -4.065,
          -6.96,
          -5.419,
          -4.37,
          -4.284,
          -5.251,
          -5.686,
          -8.351,
          -5.979,
          -3.967,
          -0.941,
          0.556,
          -0.393,
          0.399,
          1.095,
          0.406,
          1.774,
          1.854,
          0.947,
          3.298,
          5.705,
          5.35,
          6.707,
          5.821,
          5.181,
          6.548,
          7.993,
          8.086,
          8.135,
          6.333,
          7.314,
          16.024,
          21.153,
          21.554,
          22,
          21.396,
          23.252,
          23.199,
          23.545,
          23.518,
          24.314,
          23.154,
          22.786,
          23.213,
          23.449,
          21.478
         ],
         "yaxis": "y"
        },
        {
         "hovertemplate": "Security=Alphabet Inc. (Class A)<br>Sector=Communication Services<br>Date=%{x}<br>YTD Return=%{y}<extra></extra>",
         "legendgroup": "Alphabet Inc. (Class A)",
         "line": {
          "color": "#636efa",
          "dash": "solid"
         },
         "marker": {
          "symbol": "circle"
         },
         "mode": "lines",
         "name": "Alphabet Inc. (Class A)",
         "showlegend": true,
         "type": "scattergl",
         "x": [
          "2025-01-02T00:00:00-05:00",
          "2025-01-03T00:00:00-05:00",
          "2025-01-06T00:00:00-05:00",
          "2025-01-07T00:00:00-05:00",
          "2025-01-08T00:00:00-05:00",
          "2025-01-10T00:00:00-05:00",
          "2025-01-13T00:00:00-05:00",
          "2025-01-14T00:00:00-05:00",
          "2025-01-15T00:00:00-05:00",
          "2025-01-16T00:00:00-05:00",
          "2025-01-17T00:00:00-05:00",
          "2025-01-21T00:00:00-05:00",
          "2025-01-22T00:00:00-05:00",
          "2025-01-23T00:00:00-05:00",
          "2025-01-24T00:00:00-05:00",
          "2025-01-27T00:00:00-05:00",
          "2025-01-28T00:00:00-05:00",
          "2025-01-29T00:00:00-05:00",
          "2025-01-30T00:00:00-05:00",
          "2025-01-31T00:00:00-05:00",
          "2025-02-03T00:00:00-05:00",
          "2025-02-04T00:00:00-05:00",
          "2025-02-05T00:00:00-05:00",
          "2025-02-06T00:00:00-05:00",
          "2025-02-07T00:00:00-05:00",
          "2025-02-10T00:00:00-05:00",
          "2025-02-11T00:00:00-05:00",
          "2025-02-12T00:00:00-05:00",
          "2025-02-13T00:00:00-05:00",
          "2025-02-14T00:00:00-05:00",
          "2025-02-18T00:00:00-05:00",
          "2025-02-19T00:00:00-05:00",
          "2025-02-20T00:00:00-05:00",
          "2025-02-21T00:00:00-05:00",
          "2025-02-24T00:00:00-05:00",
          "2025-02-25T00:00:00-05:00",
          "2025-02-26T00:00:00-05:00",
          "2025-02-27T00:00:00-05:00",
          "2025-02-28T00:00:00-05:00",
          "2025-03-03T00:00:00-05:00",
          "2025-03-04T00:00:00-05:00",
          "2025-03-05T00:00:00-05:00",
          "2025-03-06T00:00:00-05:00",
          "2025-03-07T00:00:00-05:00",
          "2025-03-10T00:00:00-04:00",
          "2025-03-11T00:00:00-04:00",
          "2025-03-12T00:00:00-04:00",
          "2025-03-13T00:00:00-04:00",
          "2025-03-14T00:00:00-04:00",
          "2025-03-17T00:00:00-04:00",
          "2025-03-18T00:00:00-04:00",
          "2025-03-19T00:00:00-04:00",
          "2025-03-20T00:00:00-04:00",
          "2025-03-21T00:00:00-04:00",
          "2025-03-24T00:00:00-04:00",
          "2025-03-25T00:00:00-04:00",
          "2025-03-26T00:00:00-04:00",
          "2025-03-27T00:00:00-04:00",
          "2025-03-28T00:00:00-04:00",
          "2025-03-31T00:00:00-04:00",
          "2025-04-01T00:00:00-04:00",
          "2025-04-02T00:00:00-04:00",
          "2025-04-03T00:00:00-04:00",
          "2025-04-04T00:00:00-04:00",
          "2025-04-07T00:00:00-04:00",
          "2025-04-08T00:00:00-04:00",
          "2025-04-09T00:00:00-04:00",
          "2025-04-10T00:00:00-04:00",
          "2025-04-11T00:00:00-04:00",
          "2025-04-14T00:00:00-04:00",
          "2025-04-15T00:00:00-04:00",
          "2025-04-16T00:00:00-04:00",
          "2025-04-17T00:00:00-04:00",
          "2025-04-21T00:00:00-04:00",
          "2025-04-22T00:00:00-04:00",
          "2025-04-23T00:00:00-04:00",
          "2025-04-24T00:00:00-04:00",
          "2025-04-25T00:00:00-04:00",
          "2025-04-28T00:00:00-04:00",
          "2025-04-29T00:00:00-04:00",
          "2025-04-30T00:00:00-04:00",
          "2025-05-01T00:00:00-04:00",
          "2025-05-02T00:00:00-04:00",
          "2025-05-05T00:00:00-04:00",
          "2025-05-06T00:00:00-04:00",
          "2025-05-07T00:00:00-04:00",
          "2025-05-08T00:00:00-04:00",
          "2025-05-09T00:00:00-04:00",
          "2025-05-12T00:00:00-04:00",
          "2025-05-13T00:00:00-04:00",
          "2025-05-14T00:00:00-04:00",
          "2025-05-15T00:00:00-04:00",
          "2025-05-16T00:00:00-04:00",
          "2025-05-19T00:00:00-04:00",
          "2025-05-20T00:00:00-04:00",
          "2025-05-21T00:00:00-04:00",
          "2025-05-22T00:00:00-04:00",
          "2025-05-23T00:00:00-04:00",
          "2025-05-27T00:00:00-04:00",
          "2025-05-28T00:00:00-04:00",
          "2025-05-29T00:00:00-04:00",
          "2025-05-30T00:00:00-04:00",
          "2025-06-02T00:00:00-04:00",
          "2025-06-03T00:00:00-04:00",
          "2025-06-04T00:00:00-04:00",
          "2025-06-05T00:00:00-04:00",
          "2025-06-06T00:00:00-04:00",
          "2025-06-09T00:00:00-04:00",
          "2025-06-10T00:00:00-04:00",
          "2025-06-11T00:00:00-04:00",
          "2025-06-12T00:00:00-04:00",
          "2025-06-13T00:00:00-04:00"
         ],
         "xaxis": "x2",
         "y": [
          0,
          1.246,
          3.928,
          3.199,
          2.386,
          1.378,
          0.834,
          0.121,
          3.231,
          1.837,
          3.468,
          4.551,
          4.719,
          4.514,
          5.691,
          1.256,
          3.099,
          3.157,
          6.039,
          7.702,
          6.229,
          8.948,
          1.003,
          1.146,
          -2.159,
          -1.563,
          -2.17,
          -3.072,
          -1.737,
          -2.217,
          -2.988,
          -2.196,
          -2.571,
          -5.158,
          -5.374,
          -7.396,
          -8.816,
          -11.049,
          -10.109,
          -11.836,
          -9.771,
          -8.663,
          -9.017,
          -8.219,
          -12.336,
          -13.304,
          -11.681,
          -13.98,
          -12.537,
          -13.172,
          -15.085,
          -13.383,
          -13.959,
          -13.33,
          -11.38,
          -9.858,
          -12.765,
          -14.255,
          -18.435,
          -18.272,
          -16.987,
          -17.003,
          -20.343,
          -23.049,
          -22.442,
          -23.525,
          -16.121,
          -19.233,
          -16.95,
          -15.93,
          -17.389,
          -18.964,
          -20.111,
          -21.955,
          -19.947,
          -17.896,
          -15.819,
          -14.403,
          -15.116,
          -15.354,
          -16.073,
          -14.752,
          -13.309,
          -13.214,
          -13.732,
          -19.995,
          -18.462,
          -19.27,
          -16.253,
          -15.687,
          -12.601,
          -13.346,
          -12.167,
          -11.982,
          -13.335,
          -10.915,
          -9.694,
          -10.962,
          -8.621,
          -8.906,
          -9.171,
          -9.234,
          -10.666,
          -12.173,
          -11.184,
          -11.1,
          -8.209,
          -6.822,
          -5.494,
          -6.156,
          -7.029,
          -7.574
         ],
         "yaxis": "y2"
        },
        {
         "hovertemplate": "Security=Alphabet Inc. (Class C)<br>Sector=Communication Services<br>Date=%{x}<br>YTD Return=%{y}<extra></extra>",
         "legendgroup": "Alphabet Inc. (Class C)",
         "line": {
          "color": "#EF553B",
          "dash": "solid"
         },
         "marker": {
          "symbol": "circle"
         },
         "mode": "lines",
         "name": "Alphabet Inc. (Class C)",
         "showlegend": true,
         "type": "scattergl",
         "x": [
          "2025-01-02T00:00:00-05:00",
          "2025-01-03T00:00:00-05:00",
          "2025-01-06T00:00:00-05:00",
          "2025-01-07T00:00:00-05:00",
          "2025-01-08T00:00:00-05:00",
          "2025-01-10T00:00:00-05:00",
          "2025-01-13T00:00:00-05:00",
          "2025-01-14T00:00:00-05:00",
          "2025-01-15T00:00:00-05:00",
          "2025-01-16T00:00:00-05:00",
          "2025-01-17T00:00:00-05:00",
          "2025-01-21T00:00:00-05:00",
          "2025-01-22T00:00:00-05:00",
          "2025-01-23T00:00:00-05:00",
          "2025-01-24T00:00:00-05:00",
          "2025-01-27T00:00:00-05:00",
          "2025-01-28T00:00:00-05:00",
          "2025-01-29T00:00:00-05:00",
          "2025-01-30T00:00:00-05:00",
          "2025-01-31T00:00:00-05:00",
          "2025-02-03T00:00:00-05:00",
          "2025-02-04T00:00:00-05:00",
          "2025-02-05T00:00:00-05:00",
          "2025-02-06T00:00:00-05:00",
          "2025-02-07T00:00:00-05:00",
          "2025-02-10T00:00:00-05:00",
          "2025-02-11T00:00:00-05:00",
          "2025-02-12T00:00:00-05:00",
          "2025-02-13T00:00:00-05:00",
          "2025-02-14T00:00:00-05:00",
          "2025-02-18T00:00:00-05:00",
          "2025-02-19T00:00:00-05:00",
          "2025-02-20T00:00:00-05:00",
          "2025-02-21T00:00:00-05:00",
          "2025-02-24T00:00:00-05:00",
          "2025-02-25T00:00:00-05:00",
          "2025-02-26T00:00:00-05:00",
          "2025-02-27T00:00:00-05:00",
          "2025-02-28T00:00:00-05:00",
          "2025-03-03T00:00:00-05:00",
          "2025-03-04T00:00:00-05:00",
          "2025-03-05T00:00:00-05:00",
          "2025-03-06T00:00:00-05:00",
          "2025-03-07T00:00:00-05:00",
          "2025-03-10T00:00:00-04:00",
          "2025-03-11T00:00:00-04:00",
          "2025-03-12T00:00:00-04:00",
          "2025-03-13T00:00:00-04:00",
          "2025-03-14T00:00:00-04:00",
          "2025-03-17T00:00:00-04:00",
          "2025-03-18T00:00:00-04:00",
          "2025-03-19T00:00:00-04:00",
          "2025-03-20T00:00:00-04:00",
          "2025-03-21T00:00:00-04:00",
          "2025-03-24T00:00:00-04:00",
          "2025-03-25T00:00:00-04:00",
          "2025-03-26T00:00:00-04:00",
          "2025-03-27T00:00:00-04:00",
          "2025-03-28T00:00:00-04:00",
          "2025-03-31T00:00:00-04:00",
          "2025-04-01T00:00:00-04:00",
          "2025-04-02T00:00:00-04:00",
          "2025-04-03T00:00:00-04:00",
          "2025-04-04T00:00:00-04:00",
          "2025-04-07T00:00:00-04:00",
          "2025-04-08T00:00:00-04:00",
          "2025-04-09T00:00:00-04:00",
          "2025-04-10T00:00:00-04:00",
          "2025-04-11T00:00:00-04:00",
          "2025-04-14T00:00:00-04:00",
          "2025-04-15T00:00:00-04:00",
          "2025-04-16T00:00:00-04:00",
          "2025-04-17T00:00:00-04:00",
          "2025-04-21T00:00:00-04:00",
          "2025-04-22T00:00:00-04:00",
          "2025-04-23T00:00:00-04:00",
          "2025-04-24T00:00:00-04:00",
          "2025-04-25T00:00:00-04:00",
          "2025-04-28T00:00:00-04:00",
          "2025-04-29T00:00:00-04:00",
          "2025-04-30T00:00:00-04:00",
          "2025-05-01T00:00:00-04:00",
          "2025-05-02T00:00:00-04:00",
          "2025-05-05T00:00:00-04:00",
          "2025-05-06T00:00:00-04:00",
          "2025-05-07T00:00:00-04:00",
          "2025-05-08T00:00:00-04:00",
          "2025-05-09T00:00:00-04:00",
          "2025-05-12T00:00:00-04:00",
          "2025-05-13T00:00:00-04:00",
          "2025-05-14T00:00:00-04:00",
          "2025-05-15T00:00:00-04:00",
          "2025-05-16T00:00:00-04:00",
          "2025-05-19T00:00:00-04:00",
          "2025-05-20T00:00:00-04:00",
          "2025-05-21T00:00:00-04:00",
          "2025-05-22T00:00:00-04:00",
          "2025-05-23T00:00:00-04:00",
          "2025-05-27T00:00:00-04:00",
          "2025-05-28T00:00:00-04:00",
          "2025-05-29T00:00:00-04:00",
          "2025-05-30T00:00:00-04:00",
          "2025-06-02T00:00:00-04:00",
          "2025-06-03T00:00:00-04:00",
          "2025-06-04T00:00:00-04:00",
          "2025-06-05T00:00:00-04:00",
          "2025-06-06T00:00:00-04:00",
          "2025-06-09T00:00:00-04:00",
          "2025-06-10T00:00:00-04:00",
          "2025-06-11T00:00:00-04:00",
          "2025-06-12T00:00:00-04:00",
          "2025-06-13T00:00:00-04:00"
         ],
         "xaxis": "x2",
         "y": [
          0,
          1.311,
          3.845,
          3.189,
          2.497,
          1.332,
          0.871,
          0.22,
          3.331,
          1.983,
          3.63,
          4.721,
          4.931,
          4.695,
          5.912,
          1.647,
          3.378,
          3.436,
          6.295,
          7.853,
          6.3,
          8.96,
          1.401,
          1.406,
          -1.831,
          -1.275,
          -1.867,
          -2.728,
          -1.443,
          -1.972,
          -2.534,
          -1.836,
          -2.093,
          -4.747,
          -4.952,
          -6.956,
          -8.356,
          -10.712,
          -9.657,
          -11.525,
          -9.453,
          -8.204,
          -8.614,
          -7.806,
          -11.871,
          -12.832,
          -11.246,
          -13.488,
          -11.97,
          -12.522,
          -14.57,
          -12.674,
          -13.32,
          -12.69,
          -10.757,
          -9.255,
          -12.222,
          -13.829,
          -18.041,
          -17.952,
          -16.56,
          -16.571,
          -19.843,
          -22.411,
          -21.623,
          -23.02,
          -15.415,
          -18.404,
          -16.287,
          -15.2,
          -16.665,
          -18.335,
          -19.459,
          -21.297,
          -19.176,
          -17.17,
          -15.2,
          -13.95,
          -14.701,
          -14.89,
          -15.505,
          -14.507,
          -12.921,
          -12.795,
          -13.241,
          -19.753,
          -18.204,
          -18.924,
          -16.193,
          -15.505,
          -12.396,
          -13.136,
          -12.07,
          -11.839,
          -13.178,
          -10.689,
          -9.681,
          -10.936,
          -8.63,
          -8.945,
          -9.166,
          -9.224,
          -10.526,
          -11.923,
          -11.041,
          -10.82,
          -8.137,
          -6.601,
          -5.35,
          -5.991,
          -6.948,
          -7.521
         ],
         "yaxis": "y2"
        },
        {
         "hovertemplate": "Security=Meta Platforms<br>Sector=Communication Services<br>Date=%{x}<br>YTD Return=%{y}<extra></extra>",
         "legendgroup": "Meta Platforms",
         "line": {
          "color": "#00cc96",
          "dash": "solid"
         },
         "marker": {
          "symbol": "circle"
         },
         "mode": "lines",
         "name": "Meta Platforms",
         "showlegend": true,
         "type": "scattergl",
         "x": [
          "2025-01-02T00:00:00-05:00",
          "2025-01-03T00:00:00-05:00",
          "2025-01-06T00:00:00-05:00",
          "2025-01-07T00:00:00-05:00",
          "2025-01-08T00:00:00-05:00",
          "2025-01-10T00:00:00-05:00",
          "2025-01-13T00:00:00-05:00",
          "2025-01-14T00:00:00-05:00",
          "2025-01-15T00:00:00-05:00",
          "2025-01-16T00:00:00-05:00",
          "2025-01-17T00:00:00-05:00",
          "2025-01-21T00:00:00-05:00",
          "2025-01-22T00:00:00-05:00",
          "2025-01-23T00:00:00-05:00",
          "2025-01-24T00:00:00-05:00",
          "2025-01-27T00:00:00-05:00",
          "2025-01-28T00:00:00-05:00",
          "2025-01-29T00:00:00-05:00",
          "2025-01-30T00:00:00-05:00",
          "2025-01-31T00:00:00-05:00",
          "2025-02-03T00:00:00-05:00",
          "2025-02-04T00:00:00-05:00",
          "2025-02-05T00:00:00-05:00",
          "2025-02-06T00:00:00-05:00",
          "2025-02-07T00:00:00-05:00",
          "2025-02-10T00:00:00-05:00",
          "2025-02-11T00:00:00-05:00",
          "2025-02-12T00:00:00-05:00",
          "2025-02-13T00:00:00-05:00",
          "2025-02-14T00:00:00-05:00",
          "2025-02-18T00:00:00-05:00",
          "2025-02-19T00:00:00-05:00",
          "2025-02-20T00:00:00-05:00",
          "2025-02-21T00:00:00-05:00",
          "2025-02-24T00:00:00-05:00",
          "2025-02-25T00:00:00-05:00",
          "2025-02-26T00:00:00-05:00",
          "2025-02-27T00:00:00-05:00",
          "2025-02-28T00:00:00-05:00",
          "2025-03-03T00:00:00-05:00",
          "2025-03-04T00:00:00-05:00",
          "2025-03-05T00:00:00-05:00",
          "2025-03-06T00:00:00-05:00",
          "2025-03-07T00:00:00-05:00",
          "2025-03-10T00:00:00-04:00",
          "2025-03-11T00:00:00-04:00",
          "2025-03-12T00:00:00-04:00",
          "2025-03-13T00:00:00-04:00",
          "2025-03-14T00:00:00-04:00",
          "2025-03-17T00:00:00-04:00",
          "2025-03-18T00:00:00-04:00",
          "2025-03-19T00:00:00-04:00",
          "2025-03-20T00:00:00-04:00",
          "2025-03-21T00:00:00-04:00",
          "2025-03-24T00:00:00-04:00",
          "2025-03-25T00:00:00-04:00",
          "2025-03-26T00:00:00-04:00",
          "2025-03-27T00:00:00-04:00",
          "2025-03-28T00:00:00-04:00",
          "2025-03-31T00:00:00-04:00",
          "2025-04-01T00:00:00-04:00",
          "2025-04-02T00:00:00-04:00",
          "2025-04-03T00:00:00-04:00",
          "2025-04-04T00:00:00-04:00",
          "2025-04-07T00:00:00-04:00",
          "2025-04-08T00:00:00-04:00",
          "2025-04-09T00:00:00-04:00",
          "2025-04-10T00:00:00-04:00",
          "2025-04-11T00:00:00-04:00",
          "2025-04-14T00:00:00-04:00",
          "2025-04-15T00:00:00-04:00",
          "2025-04-16T00:00:00-04:00",
          "2025-04-17T00:00:00-04:00",
          "2025-04-21T00:00:00-04:00",
          "2025-04-22T00:00:00-04:00",
          "2025-04-23T00:00:00-04:00",
          "2025-04-24T00:00:00-04:00",
          "2025-04-25T00:00:00-04:00",
          "2025-04-28T00:00:00-04:00",
          "2025-04-29T00:00:00-04:00",
          "2025-04-30T00:00:00-04:00",
          "2025-05-01T00:00:00-04:00",
          "2025-05-02T00:00:00-04:00",
          "2025-05-05T00:00:00-04:00",
          "2025-05-06T00:00:00-04:00",
          "2025-05-07T00:00:00-04:00",
          "2025-05-08T00:00:00-04:00",
          "2025-05-09T00:00:00-04:00",
          "2025-05-12T00:00:00-04:00",
          "2025-05-13T00:00:00-04:00",
          "2025-05-14T00:00:00-04:00",
          "2025-05-15T00:00:00-04:00",
          "2025-05-16T00:00:00-04:00",
          "2025-05-19T00:00:00-04:00",
          "2025-05-20T00:00:00-04:00",
          "2025-05-21T00:00:00-04:00",
          "2025-05-22T00:00:00-04:00",
          "2025-05-23T00:00:00-04:00",
          "2025-05-27T00:00:00-04:00",
          "2025-05-28T00:00:00-04:00",
          "2025-05-29T00:00:00-04:00",
          "2025-05-30T00:00:00-04:00",
          "2025-06-02T00:00:00-04:00",
          "2025-06-03T00:00:00-04:00",
          "2025-06-04T00:00:00-04:00",
          "2025-06-05T00:00:00-04:00",
          "2025-06-06T00:00:00-04:00",
          "2025-06-09T00:00:00-04:00",
          "2025-06-10T00:00:00-04:00",
          "2025-06-11T00:00:00-04:00",
          "2025-06-12T00:00:00-04:00",
          "2025-06-13T00:00:00-04:00"
         ],
         "xaxis": "x2",
         "y": [
          0,
          0.899,
          5.167,
          3.112,
          1.916,
          2.774,
          1.517,
          -0.833,
          2.984,
          2.013,
          2.258,
          2.874,
          4.048,
          6.21,
          8.052,
          10.119,
          12.531,
          12.891,
          14.645,
          15.009,
          16.391,
          17.514,
          17.627,
          18.816,
          19.238,
          19.718,
          20.119,
          21.05,
          21.581,
          22.934,
          19.546,
          17.444,
          15.954,
          14.069,
          11.496,
          9.722,
          12.426,
          9.846,
          11.508,
          9.313,
          6.802,
          9.55,
          4.788,
          4.409,
          -0.209,
          1.08,
          3.391,
          -1.435,
          1.485,
          1.034,
          -2.73,
          -2.446,
          -2.122,
          -0.41,
          3.364,
          4.61,
          2.05,
          0.647,
          -3.669,
          -3.733,
          -2.122,
          -2.468,
          -11.205,
          -15.697,
          -13.773,
          -14.741,
          -2.161,
          -8.755,
          -9.209,
          -11.229,
          -12.892,
          -16.101,
          -16.24,
          -19.049,
          -16.44,
          -13.101,
          -10.95,
          -8.591,
          -8.179,
          -7.394,
          -8.302,
          -4.426,
          -0.282,
          0.094,
          -1.904,
          -0.317,
          -0.116,
          -1.038,
          6.802,
          9.574,
          10.131,
          7.545,
          6.954,
          6.969,
          6.413,
          6.145,
          6.324,
          4.736,
          7.284,
          7.495,
          7.74,
          8.148,
          12.058,
          11.382,
          14.906,
          14.35,
          16.536,
          15.926,
          17.319,
          15.94,
          15.81,
          14.057
         ],
         "yaxis": "y2"
        },
        {
         "hovertemplate": "Security=Netflix<br>Sector=Communication Services<br>Date=%{x}<br>YTD Return=%{y}<extra></extra>",
         "legendgroup": "Netflix",
         "line": {
          "color": "#ab63fa",
          "dash": "solid"
         },
         "marker": {
          "symbol": "circle"
         },
         "mode": "lines",
         "name": "Netflix",
         "showlegend": true,
         "type": "scattergl",
         "x": [
          "2025-01-02T00:00:00-05:00",
          "2025-01-03T00:00:00-05:00",
          "2025-01-06T00:00:00-05:00",
          "2025-01-07T00:00:00-05:00",
          "2025-01-08T00:00:00-05:00",
          "2025-01-10T00:00:00-05:00",
          "2025-01-13T00:00:00-05:00",
          "2025-01-14T00:00:00-05:00",
          "2025-01-15T00:00:00-05:00",
          "2025-01-16T00:00:00-05:00",
          "2025-01-17T00:00:00-05:00",
          "2025-01-21T00:00:00-05:00",
          "2025-01-22T00:00:00-05:00",
          "2025-01-23T00:00:00-05:00",
          "2025-01-24T00:00:00-05:00",
          "2025-01-27T00:00:00-05:00",
          "2025-01-28T00:00:00-05:00",
          "2025-01-29T00:00:00-05:00",
          "2025-01-30T00:00:00-05:00",
          "2025-01-31T00:00:00-05:00",
          "2025-02-03T00:00:00-05:00",
          "2025-02-04T00:00:00-05:00",
          "2025-02-05T00:00:00-05:00",
          "2025-02-06T00:00:00-05:00",
          "2025-02-07T00:00:00-05:00",
          "2025-02-10T00:00:00-05:00",
          "2025-02-11T00:00:00-05:00",
          "2025-02-12T00:00:00-05:00",
          "2025-02-13T00:00:00-05:00",
          "2025-02-14T00:00:00-05:00",
          "2025-02-18T00:00:00-05:00",
          "2025-02-19T00:00:00-05:00",
          "2025-02-20T00:00:00-05:00",
          "2025-02-21T00:00:00-05:00",
          "2025-02-24T00:00:00-05:00",
          "2025-02-25T00:00:00-05:00",
          "2025-02-26T00:00:00-05:00",
          "2025-02-27T00:00:00-05:00",
          "2025-02-28T00:00:00-05:00",
          "2025-03-03T00:00:00-05:00",
          "2025-03-04T00:00:00-05:00",
          "2025-03-05T00:00:00-05:00",
          "2025-03-06T00:00:00-05:00",
          "2025-03-07T00:00:00-05:00",
          "2025-03-10T00:00:00-04:00",
          "2025-03-11T00:00:00-04:00",
          "2025-03-12T00:00:00-04:00",
          "2025-03-13T00:00:00-04:00",
          "2025-03-14T00:00:00-04:00",
          "2025-03-17T00:00:00-04:00",
          "2025-03-18T00:00:00-04:00",
          "2025-03-19T00:00:00-04:00",
          "2025-03-20T00:00:00-04:00",
          "2025-03-21T00:00:00-04:00",
          "2025-03-24T00:00:00-04:00",
          "2025-03-25T00:00:00-04:00",
          "2025-03-26T00:00:00-04:00",
          "2025-03-27T00:00:00-04:00",
          "2025-03-28T00:00:00-04:00",
          "2025-03-31T00:00:00-04:00",
          "2025-04-01T00:00:00-04:00",
          "2025-04-02T00:00:00-04:00",
          "2025-04-03T00:00:00-04:00",
          "2025-04-04T00:00:00-04:00",
          "2025-04-07T00:00:00-04:00",
          "2025-04-08T00:00:00-04:00",
          "2025-04-09T00:00:00-04:00",
          "2025-04-10T00:00:00-04:00",
          "2025-04-11T00:00:00-04:00",
          "2025-04-14T00:00:00-04:00",
          "2025-04-15T00:00:00-04:00",
          "2025-04-16T00:00:00-04:00",
          "2025-04-17T00:00:00-04:00",
          "2025-04-21T00:00:00-04:00",
          "2025-04-22T00:00:00-04:00",
          "2025-04-23T00:00:00-04:00",
          "2025-04-24T00:00:00-04:00",
          "2025-04-25T00:00:00-04:00",
          "2025-04-28T00:00:00-04:00",
          "2025-04-29T00:00:00-04:00",
          "2025-04-30T00:00:00-04:00",
          "2025-05-01T00:00:00-04:00",
          "2025-05-02T00:00:00-04:00",
          "2025-05-05T00:00:00-04:00",
          "2025-05-06T00:00:00-04:00",
          "2025-05-07T00:00:00-04:00",
          "2025-05-08T00:00:00-04:00",
          "2025-05-09T00:00:00-04:00",
          "2025-05-12T00:00:00-04:00",
          "2025-05-13T00:00:00-04:00",
          "2025-05-14T00:00:00-04:00",
          "2025-05-15T00:00:00-04:00",
          "2025-05-16T00:00:00-04:00",
          "2025-05-19T00:00:00-04:00",
          "2025-05-20T00:00:00-04:00",
          "2025-05-21T00:00:00-04:00",
          "2025-05-22T00:00:00-04:00",
          "2025-05-23T00:00:00-04:00",
          "2025-05-27T00:00:00-04:00",
          "2025-05-28T00:00:00-04:00",
          "2025-05-29T00:00:00-04:00",
          "2025-05-30T00:00:00-04:00",
          "2025-06-02T00:00:00-04:00",
          "2025-06-03T00:00:00-04:00",
          "2025-06-04T00:00:00-04:00",
          "2025-06-05T00:00:00-04:00",
          "2025-06-06T00:00:00-04:00",
          "2025-06-09T00:00:00-04:00",
          "2025-06-10T00:00:00-04:00",
          "2025-06-11T00:00:00-04:00",
          "2025-06-12T00:00:00-04:00",
          "2025-06-13T00:00:00-04:00"
         ],
         "xaxis": "x2",
         "y": [
          0,
          -0.641,
          -0.557,
          -0.85,
          -1.323,
          -5.53,
          -5.237,
          -6.578,
          -4.338,
          -5.003,
          -3.229,
          -1.923,
          7.585,
          11.067,
          10.247,
          9.604,
          9.597,
          10.31,
          9.756,
          10.153,
          10.399,
          12.195,
          14.027,
          14.542,
          14.345,
          15.886,
          13.685,
          15.854,
          17.701,
          19.382,
          16.817,
          17.66,
          15.541,
          13.129,
          11.474,
          10.207,
          11.653,
          8.609,
          10.582,
          9.808,
          9.682,
          11.75,
          2.214,
          0.494,
          -2.261,
          0.944,
          3.716,
          0.388,
          3.526,
          7.137,
          4.877,
          8.205,
          7.23,
          8.296,
          9.615,
          12.467,
          9.464,
          10.149,
          5.314,
          5.165,
          4.697,
          5.502,
          3.419,
          -3.481,
          -2.131,
          -1.842,
          6.624,
          3.884,
          3.559,
          5.024,
          10.099,
          8.447,
          9.732,
          11.41,
          17.323,
          18.366,
          23.698,
          24.224,
          25.222,
          26.943,
          27.628,
          27.826,
          30.422,
          27.892,
          28.302,
          30.3,
          29.062,
          28.587,
          25.179,
          28.386,
          29.802,
          32.845,
          34.373,
          34.386,
          34.429,
          34.723,
          33.972,
          33.681,
          36.633,
          36.293,
          33.621,
          36.144,
          37.469,
          37.352,
          39.801,
          41.026,
          40.005,
          38.087,
          35.737,
          37.571,
          37.024,
          36.699
         ],
         "yaxis": "y2"
        },
        {
         "hovertemplate": "Security=T-Mobile US<br>Sector=Communication Services<br>Date=%{x}<br>YTD Return=%{y}<extra></extra>",
         "legendgroup": "T-Mobile US",
         "line": {
          "color": "#FFA15A",
          "dash": "solid"
         },
         "marker": {
          "symbol": "circle"
         },
         "mode": "lines",
         "name": "T-Mobile US",
         "showlegend": true,
         "type": "scattergl",
         "x": [
          "2025-01-02T00:00:00-05:00",
          "2025-01-03T00:00:00-05:00",
          "2025-01-06T00:00:00-05:00",
          "2025-01-07T00:00:00-05:00",
          "2025-01-08T00:00:00-05:00",
          "2025-01-10T00:00:00-05:00",
          "2025-01-13T00:00:00-05:00",
          "2025-01-14T00:00:00-05:00",
          "2025-01-15T00:00:00-05:00",
          "2025-01-16T00:00:00-05:00",
          "2025-01-17T00:00:00-05:00",
          "2025-01-21T00:00:00-05:00",
          "2025-01-22T00:00:00-05:00",
          "2025-01-23T00:00:00-05:00",
          "2025-01-24T00:00:00-05:00",
          "2025-01-27T00:00:00-05:00",
          "2025-01-28T00:00:00-05:00",
          "2025-01-29T00:00:00-05:00",
          "2025-01-30T00:00:00-05:00",
          "2025-01-31T00:00:00-05:00",
          "2025-02-03T00:00:00-05:00",
          "2025-02-04T00:00:00-05:00",
          "2025-02-05T00:00:00-05:00",
          "2025-02-06T00:00:00-05:00",
          "2025-02-07T00:00:00-05:00",
          "2025-02-10T00:00:00-05:00",
          "2025-02-11T00:00:00-05:00",
          "2025-02-12T00:00:00-05:00",
          "2025-02-13T00:00:00-05:00",
          "2025-02-14T00:00:00-05:00",
          "2025-02-18T00:00:00-05:00",
          "2025-02-19T00:00:00-05:00",
          "2025-02-20T00:00:00-05:00",
          "2025-02-21T00:00:00-05:00",
          "2025-02-24T00:00:00-05:00",
          "2025-02-25T00:00:00-05:00",
          "2025-02-26T00:00:00-05:00",
          "2025-02-27T00:00:00-05:00",
          "2025-02-28T00:00:00-05:00",
          "2025-03-03T00:00:00-05:00",
          "2025-03-04T00:00:00-05:00",
          "2025-03-05T00:00:00-05:00",
          "2025-03-06T00:00:00-05:00",
          "2025-03-07T00:00:00-05:00",
          "2025-03-10T00:00:00-04:00",
          "2025-03-11T00:00:00-04:00",
          "2025-03-12T00:00:00-04:00",
          "2025-03-13T00:00:00-04:00",
          "2025-03-14T00:00:00-04:00",
          "2025-03-17T00:00:00-04:00",
          "2025-03-18T00:00:00-04:00",
          "2025-03-19T00:00:00-04:00",
          "2025-03-20T00:00:00-04:00",
          "2025-03-21T00:00:00-04:00",
          "2025-03-24T00:00:00-04:00",
          "2025-03-25T00:00:00-04:00",
          "2025-03-26T00:00:00-04:00",
          "2025-03-27T00:00:00-04:00",
          "2025-03-28T00:00:00-04:00",
          "2025-03-31T00:00:00-04:00",
          "2025-04-01T00:00:00-04:00",
          "2025-04-02T00:00:00-04:00",
          "2025-04-03T00:00:00-04:00",
          "2025-04-04T00:00:00-04:00",
          "2025-04-07T00:00:00-04:00",
          "2025-04-08T00:00:00-04:00",
          "2025-04-09T00:00:00-04:00",
          "2025-04-10T00:00:00-04:00",
          "2025-04-11T00:00:00-04:00",
          "2025-04-14T00:00:00-04:00",
          "2025-04-15T00:00:00-04:00",
          "2025-04-16T00:00:00-04:00",
          "2025-04-17T00:00:00-04:00",
          "2025-04-21T00:00:00-04:00",
          "2025-04-22T00:00:00-04:00",
          "2025-04-23T00:00:00-04:00",
          "2025-04-24T00:00:00-04:00",
          "2025-04-25T00:00:00-04:00",
          "2025-04-28T00:00:00-04:00",
          "2025-04-29T00:00:00-04:00",
          "2025-04-30T00:00:00-04:00",
          "2025-05-01T00:00:00-04:00",
          "2025-05-02T00:00:00-04:00",
          "2025-05-05T00:00:00-04:00",
          "2025-05-06T00:00:00-04:00",
          "2025-05-07T00:00:00-04:00",
          "2025-05-08T00:00:00-04:00",
          "2025-05-09T00:00:00-04:00",
          "2025-05-12T00:00:00-04:00",
          "2025-05-13T00:00:00-04:00",
          "2025-05-14T00:00:00-04:00",
          "2025-05-15T00:00:00-04:00",
          "2025-05-16T00:00:00-04:00",
          "2025-05-19T00:00:00-04:00",
          "2025-05-20T00:00:00-04:00",
          "2025-05-21T00:00:00-04:00",
          "2025-05-22T00:00:00-04:00",
          "2025-05-23T00:00:00-04:00",
          "2025-05-27T00:00:00-04:00",
          "2025-05-28T00:00:00-04:00",
          "2025-05-29T00:00:00-04:00",
          "2025-05-30T00:00:00-04:00",
          "2025-06-02T00:00:00-04:00",
          "2025-06-03T00:00:00-04:00",
          "2025-06-04T00:00:00-04:00",
          "2025-06-05T00:00:00-04:00",
          "2025-06-06T00:00:00-04:00",
          "2025-06-09T00:00:00-04:00",
          "2025-06-10T00:00:00-04:00",
          "2025-06-11T00:00:00-04:00",
          "2025-06-12T00:00:00-04:00",
          "2025-06-13T00:00:00-04:00"
         ],
         "xaxis": "x2",
         "y": [
          0,
          -0.191,
          -3.257,
          -3.275,
          -1.827,
          -3.749,
          -2.765,
          -2.437,
          -2.428,
          -1.722,
          -0.255,
          -0.018,
          -0.615,
          -1.59,
          -0.437,
          0.865,
          0.733,
          7.115,
          6.76,
          6.122,
          8.459,
          8.072,
          10.431,
          12.591,
          12.167,
          16.535,
          17.843,
          16.285,
          20.749,
          23.364,
          19.897,
          19.961,
          20.895,
          20.79,
          22.138,
          23.236,
          20.066,
          20.334,
          23.259,
          24.695,
          20.956,
          20.083,
          20.179,
          21.226,
          21.861,
          17.309,
          16.824,
          18.419,
          16.993,
          18.908,
          19.164,
          18.488,
          17.473,
          16.929,
          18.355,
          18.259,
          19.978,
          22.615,
          21.084,
          21.897,
          22.734,
          20.915,
          22.437,
          13.396,
          12.738,
          12.569,
          16.5,
          17.057,
          18.223,
          20.037,
          21.897,
          18.666,
          19.763,
          15.851,
          18.054,
          18.534,
          19.827,
          6.385,
          8.214,
          10.417,
          12.866,
          12.889,
          13.748,
          13.483,
          15.997,
          14.836,
          13.113,
          11.431,
          9.836,
          8.474,
          7.537,
          9.763,
          10.906,
          11.632,
          10.243,
          10.037,
          10.065,
          11.006,
          11.226,
          10.38,
          9.37,
          11.104,
          11.498,
          11.875,
          10.994,
          12.342,
          12.783,
          9.154,
          8.709,
          5.939,
          4.911,
          4.59
         ],
         "yaxis": "y2"
        },
        {
         "hovertemplate": "Security=Walt Disney Company (The)<br>Sector=Communication Services<br>Date=%{x}<br>YTD Return=%{y}<extra></extra>",
         "legendgroup": "Walt Disney Company (The)",
         "line": {
          "color": "#19d3f3",
          "dash": "solid"
         },
         "marker": {
          "symbol": "circle"
         },
         "mode": "lines",
         "name": "Walt Disney Company (The)",
         "showlegend": true,
         "type": "scattergl",
         "x": [
          "2025-01-02T00:00:00-05:00",
          "2025-01-03T00:00:00-05:00",
          "2025-01-06T00:00:00-05:00",
          "2025-01-07T00:00:00-05:00",
          "2025-01-08T00:00:00-05:00",
          "2025-01-10T00:00:00-05:00",
          "2025-01-13T00:00:00-05:00",
          "2025-01-14T00:00:00-05:00",
          "2025-01-15T00:00:00-05:00",
          "2025-01-16T00:00:00-05:00",
          "2025-01-17T00:00:00-05:00",
          "2025-01-21T00:00:00-05:00",
          "2025-01-22T00:00:00-05:00",
          "2025-01-23T00:00:00-05:00",
          "2025-01-24T00:00:00-05:00",
          "2025-01-27T00:00:00-05:00",
          "2025-01-28T00:00:00-05:00",
          "2025-01-29T00:00:00-05:00",
          "2025-01-30T00:00:00-05:00",
          "2025-01-31T00:00:00-05:00",
          "2025-02-03T00:00:00-05:00",
          "2025-02-04T00:00:00-05:00",
          "2025-02-05T00:00:00-05:00",
          "2025-02-06T00:00:00-05:00",
          "2025-02-07T00:00:00-05:00",
          "2025-02-10T00:00:00-05:00",
          "2025-02-11T00:00:00-05:00",
          "2025-02-12T00:00:00-05:00",
          "2025-02-13T00:00:00-05:00",
          "2025-02-14T00:00:00-05:00",
          "2025-02-18T00:00:00-05:00",
          "2025-02-19T00:00:00-05:00",
          "2025-02-20T00:00:00-05:00",
          "2025-02-21T00:00:00-05:00",
          "2025-02-24T00:00:00-05:00",
          "2025-02-25T00:00:00-05:00",
          "2025-02-26T00:00:00-05:00",
          "2025-02-27T00:00:00-05:00",
          "2025-02-28T00:00:00-05:00",
          "2025-03-03T00:00:00-05:00",
          "2025-03-04T00:00:00-05:00",
          "2025-03-05T00:00:00-05:00",
          "2025-03-06T00:00:00-05:00",
          "2025-03-07T00:00:00-05:00",
          "2025-03-10T00:00:00-04:00",
          "2025-03-11T00:00:00-04:00",
          "2025-03-12T00:00:00-04:00",
          "2025-03-13T00:00:00-04:00",
          "2025-03-14T00:00:00-04:00",
          "2025-03-17T00:00:00-04:00",
          "2025-03-18T00:00:00-04:00",
          "2025-03-19T00:00:00-04:00",
          "2025-03-20T00:00:00-04:00",
          "2025-03-21T00:00:00-04:00",
          "2025-03-24T00:00:00-04:00",
          "2025-03-25T00:00:00-04:00",
          "2025-03-26T00:00:00-04:00",
          "2025-03-27T00:00:00-04:00",
          "2025-03-28T00:00:00-04:00",
          "2025-03-31T00:00:00-04:00",
          "2025-04-01T00:00:00-04:00",
          "2025-04-02T00:00:00-04:00",
          "2025-04-03T00:00:00-04:00",
          "2025-04-04T00:00:00-04:00",
          "2025-04-07T00:00:00-04:00",
          "2025-04-08T00:00:00-04:00",
          "2025-04-09T00:00:00-04:00",
          "2025-04-10T00:00:00-04:00",
          "2025-04-11T00:00:00-04:00",
          "2025-04-14T00:00:00-04:00",
          "2025-04-15T00:00:00-04:00",
          "2025-04-16T00:00:00-04:00",
          "2025-04-17T00:00:00-04:00",
          "2025-04-21T00:00:00-04:00",
          "2025-04-22T00:00:00-04:00",
          "2025-04-23T00:00:00-04:00",
          "2025-04-24T00:00:00-04:00",
          "2025-04-25T00:00:00-04:00",
          "2025-04-28T00:00:00-04:00",
          "2025-04-29T00:00:00-04:00",
          "2025-04-30T00:00:00-04:00",
          "2025-05-01T00:00:00-04:00",
          "2025-05-02T00:00:00-04:00",
          "2025-05-05T00:00:00-04:00",
          "2025-05-06T00:00:00-04:00",
          "2025-05-07T00:00:00-04:00",
          "2025-05-08T00:00:00-04:00",
          "2025-05-09T00:00:00-04:00",
          "2025-05-12T00:00:00-04:00",
          "2025-05-13T00:00:00-04:00",
          "2025-05-14T00:00:00-04:00",
          "2025-05-15T00:00:00-04:00",
          "2025-05-16T00:00:00-04:00",
          "2025-05-19T00:00:00-04:00",
          "2025-05-20T00:00:00-04:00",
          "2025-05-21T00:00:00-04:00",
          "2025-05-22T00:00:00-04:00",
          "2025-05-23T00:00:00-04:00",
          "2025-05-27T00:00:00-04:00",
          "2025-05-28T00:00:00-04:00",
          "2025-05-29T00:00:00-04:00",
          "2025-05-30T00:00:00-04:00",
          "2025-06-02T00:00:00-04:00",
          "2025-06-03T00:00:00-04:00",
          "2025-06-04T00:00:00-04:00",
          "2025-06-05T00:00:00-04:00",
          "2025-06-06T00:00:00-04:00",
          "2025-06-09T00:00:00-04:00",
          "2025-06-10T00:00:00-04:00",
          "2025-06-11T00:00:00-04:00",
          "2025-06-12T00:00:00-04:00",
          "2025-06-13T00:00:00-04:00"
         ],
         "xaxis": "x2",
         "y": [
          0,
          0.307,
          0.208,
          0.514,
          -0.957,
          -1.958,
          -2.472,
          -2.436,
          -2.382,
          -3.934,
          -3.429,
          -1.913,
          -1.814,
          0.199,
          1.209,
          2.274,
          1.191,
          2.139,
          2.355,
          2.021,
          2.87,
          2.238,
          -0.253,
          1.146,
          0.036,
          -1.39,
          -1.624,
          -1.435,
          -1.11,
          -0.397,
          -1.137,
          0.478,
          -0.244,
          -1.949,
          0.343,
          -0.262,
          0.911,
          0.442,
          2.689,
          1.778,
          -1.633,
          -1.363,
          -4.864,
          -4.792,
          -6.984,
          -11.659,
          -10.883,
          -12.588,
          -10.991,
          -10.341,
          -10.35,
          -9.502,
          -10.792,
          -10.251,
          -9.601,
          -8.311,
          -9.06,
          -9.358,
          -11.505,
          -10.937,
          -11.857,
          -11.677,
          -19.834,
          -24.626,
          -24.833,
          -26.259,
          -17.488,
          -23.091,
          -23.398,
          -23.606,
          -23.29,
          -25.311,
          -23.47,
          -24.201,
          -22.315,
          -21.233,
          -18.778,
          -18.535,
          -18.643,
          -17.731,
          -17.93,
          -18.056,
          -16.54,
          -16.883,
          -16.829,
          -7.878,
          -5.143,
          -4.404,
          -0.298,
          0.505,
          1.913,
          1.263,
          2.346,
          1.66,
          1.39,
          -0.325,
          0.28,
          -0.993,
          1.39,
          0.632,
          1.083,
          2.003,
          1.922,
          2.509,
          2.409,
          1.543,
          2.779,
          4.367,
          7.138,
          7.851,
          7.029,
          6.425
         ],
         "yaxis": "y2"
        },
        {
         "hovertemplate": "Security=AT&T<br>Sector=Communication Services<br>Date=%{x}<br>YTD Return=%{y}<extra></extra>",
         "legendgroup": "AT&T",
         "line": {
          "color": "#FF6692",
          "dash": "solid"
         },
         "marker": {
          "symbol": "circle"
         },
         "mode": "lines",
         "name": "AT&T",
         "showlegend": true,
         "type": "scattergl",
         "x": [
          "2025-01-02T00:00:00-05:00",
          "2025-01-03T00:00:00-05:00",
          "2025-01-06T00:00:00-05:00",
          "2025-01-07T00:00:00-05:00",
          "2025-01-08T00:00:00-05:00",
          "2025-01-10T00:00:00-05:00",
          "2025-01-13T00:00:00-05:00",
          "2025-01-14T00:00:00-05:00",
          "2025-01-15T00:00:00-05:00",
          "2025-01-16T00:00:00-05:00",
          "2025-01-17T00:00:00-05:00",
          "2025-01-21T00:00:00-05:00",
          "2025-01-22T00:00:00-05:00",
          "2025-01-23T00:00:00-05:00",
          "2025-01-24T00:00:00-05:00",
          "2025-01-27T00:00:00-05:00",
          "2025-01-28T00:00:00-05:00",
          "2025-01-29T00:00:00-05:00",
          "2025-01-30T00:00:00-05:00",
          "2025-01-31T00:00:00-05:00",
          "2025-02-03T00:00:00-05:00",
          "2025-02-04T00:00:00-05:00",
          "2025-02-05T00:00:00-05:00",
          "2025-02-06T00:00:00-05:00",
          "2025-02-07T00:00:00-05:00",
          "2025-02-10T00:00:00-05:00",
          "2025-02-11T00:00:00-05:00",
          "2025-02-12T00:00:00-05:00",
          "2025-02-13T00:00:00-05:00",
          "2025-02-14T00:00:00-05:00",
          "2025-02-18T00:00:00-05:00",
          "2025-02-19T00:00:00-05:00",
          "2025-02-20T00:00:00-05:00",
          "2025-02-21T00:00:00-05:00",
          "2025-02-24T00:00:00-05:00",
          "2025-02-25T00:00:00-05:00",
          "2025-02-26T00:00:00-05:00",
          "2025-02-27T00:00:00-05:00",
          "2025-02-28T00:00:00-05:00",
          "2025-03-03T00:00:00-05:00",
          "2025-03-04T00:00:00-05:00",
          "2025-03-05T00:00:00-05:00",
          "2025-03-06T00:00:00-05:00",
          "2025-03-07T00:00:00-05:00",
          "2025-03-10T00:00:00-04:00",
          "2025-03-11T00:00:00-04:00",
          "2025-03-12T00:00:00-04:00",
          "2025-03-13T00:00:00-04:00",
          "2025-03-14T00:00:00-04:00",
          "2025-03-17T00:00:00-04:00",
          "2025-03-18T00:00:00-04:00",
          "2025-03-19T00:00:00-04:00",
          "2025-03-20T00:00:00-04:00",
          "2025-03-21T00:00:00-04:00",
          "2025-03-24T00:00:00-04:00",
          "2025-03-25T00:00:00-04:00",
          "2025-03-26T00:00:00-04:00",
          "2025-03-27T00:00:00-04:00",
          "2025-03-28T00:00:00-04:00",
          "2025-03-31T00:00:00-04:00",
          "2025-04-01T00:00:00-04:00",
          "2025-04-02T00:00:00-04:00",
          "2025-04-03T00:00:00-04:00",
          "2025-04-04T00:00:00-04:00",
          "2025-04-07T00:00:00-04:00",
          "2025-04-08T00:00:00-04:00",
          "2025-04-09T00:00:00-04:00",
          "2025-04-10T00:00:00-04:00",
          "2025-04-11T00:00:00-04:00",
          "2025-04-14T00:00:00-04:00",
          "2025-04-15T00:00:00-04:00",
          "2025-04-16T00:00:00-04:00",
          "2025-04-17T00:00:00-04:00",
          "2025-04-21T00:00:00-04:00",
          "2025-04-22T00:00:00-04:00",
          "2025-04-23T00:00:00-04:00",
          "2025-04-24T00:00:00-04:00",
          "2025-04-25T00:00:00-04:00",
          "2025-04-28T00:00:00-04:00",
          "2025-04-29T00:00:00-04:00",
          "2025-04-30T00:00:00-04:00",
          "2025-05-01T00:00:00-04:00",
          "2025-05-02T00:00:00-04:00",
          "2025-05-05T00:00:00-04:00",
          "2025-05-06T00:00:00-04:00",
          "2025-05-07T00:00:00-04:00",
          "2025-05-08T00:00:00-04:00",
          "2025-05-09T00:00:00-04:00",
          "2025-05-12T00:00:00-04:00",
          "2025-05-13T00:00:00-04:00",
          "2025-05-14T00:00:00-04:00",
          "2025-05-15T00:00:00-04:00",
          "2025-05-16T00:00:00-04:00",
          "2025-05-19T00:00:00-04:00",
          "2025-05-20T00:00:00-04:00",
          "2025-05-21T00:00:00-04:00",
          "2025-05-22T00:00:00-04:00",
          "2025-05-23T00:00:00-04:00",
          "2025-05-27T00:00:00-04:00",
          "2025-05-28T00:00:00-04:00",
          "2025-05-29T00:00:00-04:00",
          "2025-05-30T00:00:00-04:00",
          "2025-06-02T00:00:00-04:00",
          "2025-06-03T00:00:00-04:00",
          "2025-06-04T00:00:00-04:00",
          "2025-06-05T00:00:00-04:00",
          "2025-06-06T00:00:00-04:00",
          "2025-06-09T00:00:00-04:00",
          "2025-06-10T00:00:00-04:00",
          "2025-06-11T00:00:00-04:00",
          "2025-06-12T00:00:00-04:00",
          "2025-06-13T00:00:00-04:00"
         ],
         "xaxis": "x2",
         "y": [
          0,
          -0.701,
          -1.007,
          -2.76,
          -2.847,
          -3.788,
          -4.364,
          -3.3,
          -2.812,
          -2.324,
          -1.126,
          -0.239,
          -0.993,
          -0.061,
          0.781,
          7.08,
          8.233,
          7.479,
          6.548,
          5.262,
          7.568,
          7.568,
          8.544,
          8.455,
          8.855,
          10.274,
          11.56,
          12.492,
          13.69,
          14.754,
          15.641,
          16.395,
          15.996,
          18.081,
          18.613,
          18.214,
          17.859,
          19.323,
          21.585,
          22.96,
          16.307,
          16.129,
          18.569,
          20.299,
          21.009,
          15.375,
          14.089,
          15.73,
          17.904,
          19.012,
          18.037,
          19.057,
          18.835,
          19.855,
          19.589,
          21.142,
          22.65,
          25.09,
          25.001,
          25.444,
          26.332,
          24.823,
          26.864,
          18.17,
          19.012,
          17.061,
          17.416,
          18.303,
          20.096,
          21.934,
          23.279,
          21.127,
          21.71,
          18.034,
          20.858,
          21.89,
          23.414,
          20.186,
          22.203,
          22.383,
          24.176,
          23.907,
          23.772,
          23.324,
          26.238,
          25.969,
          23.145,
          24.803,
          21.083,
          18.572,
          18.527,
          22.517,
          24.265,
          25.61,
          24.534,
          23.145,
          22.069,
          22.921,
          22.786,
          23.279,
          22.741,
          24.624,
          25.207,
          25.341,
          22.652,
          24.445,
          25.879,
          24.893,
          27.403,
          27.045,
          26.731,
          26.372
         ],
         "yaxis": "y2"
        },
        {
         "hovertemplate": "Security=Verizon<br>Sector=Communication Services<br>Date=%{x}<br>YTD Return=%{y}<extra></extra>",
         "legendgroup": "Verizon",
         "line": {
          "color": "#B6E880",
          "dash": "solid"
         },
         "marker": {
          "symbol": "circle"
         },
         "mode": "lines",
         "name": "Verizon",
         "showlegend": true,
         "type": "scattergl",
         "x": [
          "2025-01-02T00:00:00-05:00",
          "2025-01-03T00:00:00-05:00",
          "2025-01-06T00:00:00-05:00",
          "2025-01-07T00:00:00-05:00",
          "2025-01-08T00:00:00-05:00",
          "2025-01-10T00:00:00-05:00",
          "2025-01-13T00:00:00-05:00",
          "2025-01-14T00:00:00-05:00",
          "2025-01-15T00:00:00-05:00",
          "2025-01-16T00:00:00-05:00",
          "2025-01-17T00:00:00-05:00",
          "2025-01-21T00:00:00-05:00",
          "2025-01-22T00:00:00-05:00",
          "2025-01-23T00:00:00-05:00",
          "2025-01-24T00:00:00-05:00",
          "2025-01-27T00:00:00-05:00",
          "2025-01-28T00:00:00-05:00",
          "2025-01-29T00:00:00-05:00",
          "2025-01-30T00:00:00-05:00",
          "2025-01-31T00:00:00-05:00",
          "2025-02-03T00:00:00-05:00",
          "2025-02-04T00:00:00-05:00",
          "2025-02-05T00:00:00-05:00",
          "2025-02-06T00:00:00-05:00",
          "2025-02-07T00:00:00-05:00",
          "2025-02-10T00:00:00-05:00",
          "2025-02-11T00:00:00-05:00",
          "2025-02-12T00:00:00-05:00",
          "2025-02-13T00:00:00-05:00",
          "2025-02-14T00:00:00-05:00",
          "2025-02-18T00:00:00-05:00",
          "2025-02-19T00:00:00-05:00",
          "2025-02-20T00:00:00-05:00",
          "2025-02-21T00:00:00-05:00",
          "2025-02-24T00:00:00-05:00",
          "2025-02-25T00:00:00-05:00",
          "2025-02-26T00:00:00-05:00",
          "2025-02-27T00:00:00-05:00",
          "2025-02-28T00:00:00-05:00",
          "2025-03-03T00:00:00-05:00",
          "2025-03-04T00:00:00-05:00",
          "2025-03-05T00:00:00-05:00",
          "2025-03-06T00:00:00-05:00",
          "2025-03-07T00:00:00-05:00",
          "2025-03-10T00:00:00-04:00",
          "2025-03-11T00:00:00-04:00",
          "2025-03-12T00:00:00-04:00",
          "2025-03-13T00:00:00-04:00",
          "2025-03-14T00:00:00-04:00",
          "2025-03-17T00:00:00-04:00",
          "2025-03-18T00:00:00-04:00",
          "2025-03-19T00:00:00-04:00",
          "2025-03-20T00:00:00-04:00",
          "2025-03-21T00:00:00-04:00",
          "2025-03-24T00:00:00-04:00",
          "2025-03-25T00:00:00-04:00",
          "2025-03-26T00:00:00-04:00",
          "2025-03-27T00:00:00-04:00",
          "2025-03-28T00:00:00-04:00",
          "2025-03-31T00:00:00-04:00",
          "2025-04-01T00:00:00-04:00",
          "2025-04-02T00:00:00-04:00",
          "2025-04-03T00:00:00-04:00",
          "2025-04-04T00:00:00-04:00",
          "2025-04-07T00:00:00-04:00",
          "2025-04-08T00:00:00-04:00",
          "2025-04-09T00:00:00-04:00",
          "2025-04-10T00:00:00-04:00",
          "2025-04-11T00:00:00-04:00",
          "2025-04-14T00:00:00-04:00",
          "2025-04-15T00:00:00-04:00",
          "2025-04-16T00:00:00-04:00",
          "2025-04-17T00:00:00-04:00",
          "2025-04-21T00:00:00-04:00",
          "2025-04-22T00:00:00-04:00",
          "2025-04-23T00:00:00-04:00",
          "2025-04-24T00:00:00-04:00",
          "2025-04-25T00:00:00-04:00",
          "2025-04-28T00:00:00-04:00",
          "2025-04-29T00:00:00-04:00",
          "2025-04-30T00:00:00-04:00",
          "2025-05-01T00:00:00-04:00",
          "2025-05-02T00:00:00-04:00",
          "2025-05-05T00:00:00-04:00",
          "2025-05-06T00:00:00-04:00",
          "2025-05-07T00:00:00-04:00",
          "2025-05-08T00:00:00-04:00",
          "2025-05-09T00:00:00-04:00",
          "2025-05-12T00:00:00-04:00",
          "2025-05-13T00:00:00-04:00",
          "2025-05-14T00:00:00-04:00",
          "2025-05-15T00:00:00-04:00",
          "2025-05-16T00:00:00-04:00",
          "2025-05-19T00:00:00-04:00",
          "2025-05-20T00:00:00-04:00",
          "2025-05-21T00:00:00-04:00",
          "2025-05-22T00:00:00-04:00",
          "2025-05-23T00:00:00-04:00",
          "2025-05-27T00:00:00-04:00",
          "2025-05-28T00:00:00-04:00",
          "2025-05-29T00:00:00-04:00",
          "2025-05-30T00:00:00-04:00",
          "2025-06-02T00:00:00-04:00",
          "2025-06-03T00:00:00-04:00",
          "2025-06-04T00:00:00-04:00",
          "2025-06-05T00:00:00-04:00",
          "2025-06-06T00:00:00-04:00",
          "2025-06-09T00:00:00-04:00",
          "2025-06-10T00:00:00-04:00",
          "2025-06-11T00:00:00-04:00",
          "2025-06-12T00:00:00-04:00",
          "2025-06-13T00:00:00-04:00"
         ],
         "xaxis": "x2",
         "y": [
          0,
          0.124,
          -1.492,
          -3.208,
          -3.158,
          -4.302,
          -3.518,
          -3.113,
          -3.366,
          -2.961,
          -1.847,
          -1.24,
          -1.417,
          -0.835,
          0.076,
          2.86,
          2.253,
          1.949,
          -0.101,
          -0.303,
          1.19,
          0.76,
          1.57,
          1.089,
          0.937,
          1.114,
          2.481,
          2.582,
          3.873,
          3.746,
          4.278,
          6.328,
          7.543,
          8.226,
          9.643,
          10.631,
          9.289,
          9.517,
          9.087,
          11.035,
          8.504,
          8.429,
          11.947,
          16.578,
          17.667,
          9.922,
          7.796,
          10.631,
          10.276,
          10.479,
          11.947,
          11.213,
          10.732,
          11.339,
          10.251,
          10.074,
          11.82,
          13.794,
          13.718,
          14.807,
          14.857,
          13.237,
          15.465,
          8.909,
          7.77,
          6.733,
          8.555,
          10.376,
          12.459,
          13.925,
          14.388,
          12.15,
          13.256,
          10.402,
          11.07,
          9.81,
          10.093,
          7.778,
          9.013,
          10.453,
          13.308,
          11.353,
          12.485,
          11.97,
          13.539,
          12.87,
          12.15,
          12.15,
          10.582,
          9.682,
          8.91,
          11.816,
          13.128,
          13.95,
          13.719,
          12.51,
          10.916,
          11.405,
          11.867,
          10.916,
          11.43,
          13.05,
          13.41,
          12.716,
          11.199,
          11.353,
          12.639,
          12.253,
          13.488,
          12.485,
          10.993,
          10.607
         ],
         "yaxis": "y2"
        },
        {
         "hovertemplate": "Security=Comcast<br>Sector=Communication Services<br>Date=%{x}<br>YTD Return=%{y}<extra></extra>",
         "legendgroup": "Comcast",
         "line": {
          "color": "#FF97FF",
          "dash": "solid"
         },
         "marker": {
          "symbol": "circle"
         },
         "mode": "lines",
         "name": "Comcast",
         "showlegend": true,
         "type": "scattergl",
         "x": [
          "2025-01-02T00:00:00-05:00",
          "2025-01-03T00:00:00-05:00",
          "2025-01-06T00:00:00-05:00",
          "2025-01-07T00:00:00-05:00",
          "2025-01-08T00:00:00-05:00",
          "2025-01-10T00:00:00-05:00",
          "2025-01-13T00:00:00-05:00",
          "2025-01-14T00:00:00-05:00",
          "2025-01-15T00:00:00-05:00",
          "2025-01-16T00:00:00-05:00",
          "2025-01-17T00:00:00-05:00",
          "2025-01-21T00:00:00-05:00",
          "2025-01-22T00:00:00-05:00",
          "2025-01-23T00:00:00-05:00",
          "2025-01-24T00:00:00-05:00",
          "2025-01-27T00:00:00-05:00",
          "2025-01-28T00:00:00-05:00",
          "2025-01-29T00:00:00-05:00",
          "2025-01-30T00:00:00-05:00",
          "2025-01-31T00:00:00-05:00",
          "2025-02-03T00:00:00-05:00",
          "2025-02-04T00:00:00-05:00",
          "2025-02-05T00:00:00-05:00",
          "2025-02-06T00:00:00-05:00",
          "2025-02-07T00:00:00-05:00",
          "2025-02-10T00:00:00-05:00",
          "2025-02-11T00:00:00-05:00",
          "2025-02-12T00:00:00-05:00",
          "2025-02-13T00:00:00-05:00",
          "2025-02-14T00:00:00-05:00",
          "2025-02-18T00:00:00-05:00",
          "2025-02-19T00:00:00-05:00",
          "2025-02-20T00:00:00-05:00",
          "2025-02-21T00:00:00-05:00",
          "2025-02-24T00:00:00-05:00",
          "2025-02-25T00:00:00-05:00",
          "2025-02-26T00:00:00-05:00",
          "2025-02-27T00:00:00-05:00",
          "2025-02-28T00:00:00-05:00",
          "2025-03-03T00:00:00-05:00",
          "2025-03-04T00:00:00-05:00",
          "2025-03-05T00:00:00-05:00",
          "2025-03-06T00:00:00-05:00",
          "2025-03-07T00:00:00-05:00",
          "2025-03-10T00:00:00-04:00",
          "2025-03-11T00:00:00-04:00",
          "2025-03-12T00:00:00-04:00",
          "2025-03-13T00:00:00-04:00",
          "2025-03-14T00:00:00-04:00",
          "2025-03-17T00:00:00-04:00",
          "2025-03-18T00:00:00-04:00",
          "2025-03-19T00:00:00-04:00",
          "2025-03-20T00:00:00-04:00",
          "2025-03-21T00:00:00-04:00",
          "2025-03-24T00:00:00-04:00",
          "2025-03-25T00:00:00-04:00",
          "2025-03-26T00:00:00-04:00",
          "2025-03-27T00:00:00-04:00",
          "2025-03-28T00:00:00-04:00",
          "2025-03-31T00:00:00-04:00",
          "2025-04-01T00:00:00-04:00",
          "2025-04-02T00:00:00-04:00",
          "2025-04-03T00:00:00-04:00",
          "2025-04-04T00:00:00-04:00",
          "2025-04-07T00:00:00-04:00",
          "2025-04-08T00:00:00-04:00",
          "2025-04-09T00:00:00-04:00",
          "2025-04-10T00:00:00-04:00",
          "2025-04-11T00:00:00-04:00",
          "2025-04-14T00:00:00-04:00",
          "2025-04-15T00:00:00-04:00",
          "2025-04-16T00:00:00-04:00",
          "2025-04-17T00:00:00-04:00",
          "2025-04-21T00:00:00-04:00",
          "2025-04-22T00:00:00-04:00",
          "2025-04-23T00:00:00-04:00",
          "2025-04-24T00:00:00-04:00",
          "2025-04-25T00:00:00-04:00",
          "2025-04-28T00:00:00-04:00",
          "2025-04-29T00:00:00-04:00",
          "2025-04-30T00:00:00-04:00",
          "2025-05-01T00:00:00-04:00",
          "2025-05-02T00:00:00-04:00",
          "2025-05-05T00:00:00-04:00",
          "2025-05-06T00:00:00-04:00",
          "2025-05-07T00:00:00-04:00",
          "2025-05-08T00:00:00-04:00",
          "2025-05-09T00:00:00-04:00",
          "2025-05-12T00:00:00-04:00",
          "2025-05-13T00:00:00-04:00",
          "2025-05-14T00:00:00-04:00",
          "2025-05-15T00:00:00-04:00",
          "2025-05-16T00:00:00-04:00",
          "2025-05-19T00:00:00-04:00",
          "2025-05-20T00:00:00-04:00",
          "2025-05-21T00:00:00-04:00",
          "2025-05-22T00:00:00-04:00",
          "2025-05-23T00:00:00-04:00",
          "2025-05-27T00:00:00-04:00",
          "2025-05-28T00:00:00-04:00",
          "2025-05-29T00:00:00-04:00",
          "2025-05-30T00:00:00-04:00",
          "2025-06-02T00:00:00-04:00",
          "2025-06-03T00:00:00-04:00",
          "2025-06-04T00:00:00-04:00",
          "2025-06-05T00:00:00-04:00",
          "2025-06-06T00:00:00-04:00",
          "2025-06-09T00:00:00-04:00",
          "2025-06-10T00:00:00-04:00",
          "2025-06-11T00:00:00-04:00",
          "2025-06-12T00:00:00-04:00",
          "2025-06-13T00:00:00-04:00"
         ],
         "xaxis": "x2",
         "y": [
          0,
          0.668,
          0.187,
          -0.641,
          0.167,
          -2.016,
          -1.773,
          -1.962,
          -1.638,
          -2.15,
          -1.423,
          -0.372,
          0.005,
          0.976,
          1.38,
          3.024,
          1.191,
          0.679,
          -10.397,
          -9.292,
          -10.558,
          -9.588,
          -8.537,
          -7.109,
          -7.378,
          -7.109,
          -5.061,
          -5.95,
          -4.657,
          -4.63,
          -2.043,
          -1.692,
          -1.881,
          -2.339,
          -2.177,
          -3.39,
          -5.411,
          -4.63,
          -3.309,
          -3.04,
          -4.333,
          -4.172,
          -2.258,
          1.299,
          -2.689,
          -3.121,
          -5.169,
          -6.489,
          -4.522,
          -3.66,
          -2.959,
          -2.743,
          -1.638,
          -0.965,
          -1.369,
          -0.453,
          0.706,
          0.706,
          -1.315,
          -0.561,
          -1.046,
          -0.447,
          -2.867,
          -9.231,
          -8.986,
          -10.699,
          -4.336,
          -8.415,
          -8.306,
          -7.137,
          -6.457,
          -8.768,
          -7.517,
          -8.632,
          -7.001,
          -6.267,
          -9.747,
          -7.817,
          -8.17,
          -7.708,
          -7.001,
          -8.034,
          -6.294,
          -6.321,
          -6.212,
          -6.484,
          -6.946,
          -6.865,
          -5.587,
          -5.396,
          -6.022,
          -3.928,
          -3.52,
          -3.629,
          -3.221,
          -4.553,
          -5.94,
          -6.131,
          -4.961,
          -5.832,
          -6.783,
          -5.995,
          -6.647,
          -5.75,
          -6.348,
          -6.946,
          -5.641,
          -5.913,
          -3.139,
          -4.336,
          -4.091,
          -4.798
         ],
         "yaxis": "y2"
        },
        {
         "hovertemplate": "Security=Charter Communications<br>Sector=Communication Services<br>Date=%{x}<br>YTD Return=%{y}<extra></extra>",
         "legendgroup": "Charter Communications",
         "line": {
          "color": "#FECB52",
          "dash": "solid"
         },
         "marker": {
          "symbol": "circle"
         },
         "mode": "lines",
         "name": "Charter Communications",
         "showlegend": true,
         "type": "scattergl",
         "x": [
          "2025-01-02T00:00:00-05:00",
          "2025-01-03T00:00:00-05:00",
          "2025-01-06T00:00:00-05:00",
          "2025-01-07T00:00:00-05:00",
          "2025-01-08T00:00:00-05:00",
          "2025-01-10T00:00:00-05:00",
          "2025-01-13T00:00:00-05:00",
          "2025-01-14T00:00:00-05:00",
          "2025-01-15T00:00:00-05:00",
          "2025-01-16T00:00:00-05:00",
          "2025-01-17T00:00:00-05:00",
          "2025-01-21T00:00:00-05:00",
          "2025-01-22T00:00:00-05:00",
          "2025-01-23T00:00:00-05:00",
          "2025-01-24T00:00:00-05:00",
          "2025-01-27T00:00:00-05:00",
          "2025-01-28T00:00:00-05:00",
          "2025-01-29T00:00:00-05:00",
          "2025-01-30T00:00:00-05:00",
          "2025-01-31T00:00:00-05:00",
          "2025-02-03T00:00:00-05:00",
          "2025-02-04T00:00:00-05:00",
          "2025-02-05T00:00:00-05:00",
          "2025-02-06T00:00:00-05:00",
          "2025-02-07T00:00:00-05:00",
          "2025-02-10T00:00:00-05:00",
          "2025-02-11T00:00:00-05:00",
          "2025-02-12T00:00:00-05:00",
          "2025-02-13T00:00:00-05:00",
          "2025-02-14T00:00:00-05:00",
          "2025-02-18T00:00:00-05:00",
          "2025-02-19T00:00:00-05:00",
          "2025-02-20T00:00:00-05:00",
          "2025-02-21T00:00:00-05:00",
          "2025-02-24T00:00:00-05:00",
          "2025-02-25T00:00:00-05:00",
          "2025-02-26T00:00:00-05:00",
          "2025-02-27T00:00:00-05:00",
          "2025-02-28T00:00:00-05:00",
          "2025-03-03T00:00:00-05:00",
          "2025-03-04T00:00:00-05:00",
          "2025-03-05T00:00:00-05:00",
          "2025-03-06T00:00:00-05:00",
          "2025-03-07T00:00:00-05:00",
          "2025-03-10T00:00:00-04:00",
          "2025-03-11T00:00:00-04:00",
          "2025-03-12T00:00:00-04:00",
          "2025-03-13T00:00:00-04:00",
          "2025-03-14T00:00:00-04:00",
          "2025-03-17T00:00:00-04:00",
          "2025-03-18T00:00:00-04:00",
          "2025-03-19T00:00:00-04:00",
          "2025-03-20T00:00:00-04:00",
          "2025-03-21T00:00:00-04:00",
          "2025-03-24T00:00:00-04:00",
          "2025-03-25T00:00:00-04:00",
          "2025-03-26T00:00:00-04:00",
          "2025-03-27T00:00:00-04:00",
          "2025-03-28T00:00:00-04:00",
          "2025-03-31T00:00:00-04:00",
          "2025-04-01T00:00:00-04:00",
          "2025-04-02T00:00:00-04:00",
          "2025-04-03T00:00:00-04:00",
          "2025-04-04T00:00:00-04:00",
          "2025-04-07T00:00:00-04:00",
          "2025-04-08T00:00:00-04:00",
          "2025-04-09T00:00:00-04:00",
          "2025-04-10T00:00:00-04:00",
          "2025-04-11T00:00:00-04:00",
          "2025-04-14T00:00:00-04:00",
          "2025-04-15T00:00:00-04:00",
          "2025-04-16T00:00:00-04:00",
          "2025-04-17T00:00:00-04:00",
          "2025-04-21T00:00:00-04:00",
          "2025-04-22T00:00:00-04:00",
          "2025-04-23T00:00:00-04:00",
          "2025-04-24T00:00:00-04:00",
          "2025-04-25T00:00:00-04:00",
          "2025-04-28T00:00:00-04:00",
          "2025-04-29T00:00:00-04:00",
          "2025-04-30T00:00:00-04:00",
          "2025-05-01T00:00:00-04:00",
          "2025-05-02T00:00:00-04:00",
          "2025-05-05T00:00:00-04:00",
          "2025-05-06T00:00:00-04:00",
          "2025-05-07T00:00:00-04:00",
          "2025-05-08T00:00:00-04:00",
          "2025-05-09T00:00:00-04:00",
          "2025-05-12T00:00:00-04:00",
          "2025-05-13T00:00:00-04:00",
          "2025-05-14T00:00:00-04:00",
          "2025-05-15T00:00:00-04:00",
          "2025-05-16T00:00:00-04:00",
          "2025-05-19T00:00:00-04:00",
          "2025-05-20T00:00:00-04:00",
          "2025-05-21T00:00:00-04:00",
          "2025-05-22T00:00:00-04:00",
          "2025-05-23T00:00:00-04:00",
          "2025-05-27T00:00:00-04:00",
          "2025-05-28T00:00:00-04:00",
          "2025-05-29T00:00:00-04:00",
          "2025-05-30T00:00:00-04:00",
          "2025-06-02T00:00:00-04:00",
          "2025-06-03T00:00:00-04:00",
          "2025-06-04T00:00:00-04:00",
          "2025-06-05T00:00:00-04:00",
          "2025-06-06T00:00:00-04:00",
          "2025-06-09T00:00:00-04:00",
          "2025-06-10T00:00:00-04:00",
          "2025-06-11T00:00:00-04:00",
          "2025-06-12T00:00:00-04:00",
          "2025-06-13T00:00:00-04:00"
         ],
         "xaxis": "x2",
         "y": [
          0,
          2.576,
          0.057,
          -0.492,
          -0.009,
          -4.139,
          -3.295,
          -0.876,
          -0.386,
          -0.764,
          0.578,
          0.346,
          0.988,
          3.037,
          5.218,
          5.192,
          4.589,
          2.857,
          -3.644,
          -1.105,
          -2.247,
          -2.602,
          -1.231,
          1.134,
          -0.432,
          -1.609,
          0.449,
          1.491,
          3.269,
          3.126,
          3.547,
          3.501,
          3.91,
          3.335,
          4.709,
          2.685,
          1.182,
          2.774,
          4.07,
          6.1,
          5.442,
          8.321,
          9.615,
          8.636,
          6.919,
          1.866,
          0.114,
          -1.131,
          0.615,
          1.354,
          1.46,
          1.051,
          3.787,
          4.139,
          5.195,
          7.345,
          10.139,
          9.352,
          5.63,
          5.49,
          6.171,
          8.564,
          5.453,
          -3.166,
          -4.712,
          -7.92,
          -0.678,
          -3.973,
          -4.285,
          -2.562,
          -1.766,
          -4.823,
          -2.974,
          -7.706,
          -5.155,
          -3.389,
          -4.013,
          6.956,
          7.877,
          10.585,
          12.168,
          9.632,
          10.205,
          12.85,
          15.074,
          15.683,
          15.761,
          14.994,
          15.22,
          17.684,
          18.466,
          20.1,
          22.299,
          19.831,
          21.222,
          18.918,
          17.341,
          16.319,
          17.684,
          16.611,
          13.299,
          13.431,
          13.004,
          11.865,
          11.284,
          11.999,
          13.482,
          12.941,
          16.436,
          14.438,
          13.611,
          11.269
         ],
         "yaxis": "y2"
        },
        {
         "hovertemplate": "Security=JPMorgan Chase<br>Sector=Financial Services<br>Date=%{x}<br>YTD Return=%{y}<extra></extra>",
         "legendgroup": "JPMorgan Chase",
         "line": {
          "color": "#636efa",
          "dash": "solid"
         },
         "marker": {
          "symbol": "circle"
         },
         "mode": "lines",
         "name": "JPMorgan Chase",
         "showlegend": true,
         "type": "scattergl",
         "x": [
          "2025-01-02T00:00:00-05:00",
          "2025-01-03T00:00:00-05:00",
          "2025-01-06T00:00:00-05:00",
          "2025-01-07T00:00:00-05:00",
          "2025-01-08T00:00:00-05:00",
          "2025-01-10T00:00:00-05:00",
          "2025-01-13T00:00:00-05:00",
          "2025-01-14T00:00:00-05:00",
          "2025-01-15T00:00:00-05:00",
          "2025-01-16T00:00:00-05:00",
          "2025-01-17T00:00:00-05:00",
          "2025-01-21T00:00:00-05:00",
          "2025-01-22T00:00:00-05:00",
          "2025-01-23T00:00:00-05:00",
          "2025-01-24T00:00:00-05:00",
          "2025-01-27T00:00:00-05:00",
          "2025-01-28T00:00:00-05:00",
          "2025-01-29T00:00:00-05:00",
          "2025-01-30T00:00:00-05:00",
          "2025-01-31T00:00:00-05:00",
          "2025-02-03T00:00:00-05:00",
          "2025-02-04T00:00:00-05:00",
          "2025-02-05T00:00:00-05:00",
          "2025-02-06T00:00:00-05:00",
          "2025-02-07T00:00:00-05:00",
          "2025-02-10T00:00:00-05:00",
          "2025-02-11T00:00:00-05:00",
          "2025-02-12T00:00:00-05:00",
          "2025-02-13T00:00:00-05:00",
          "2025-02-14T00:00:00-05:00",
          "2025-02-18T00:00:00-05:00",
          "2025-02-19T00:00:00-05:00",
          "2025-02-20T00:00:00-05:00",
          "2025-02-21T00:00:00-05:00",
          "2025-02-24T00:00:00-05:00",
          "2025-02-25T00:00:00-05:00",
          "2025-02-26T00:00:00-05:00",
          "2025-02-27T00:00:00-05:00",
          "2025-02-28T00:00:00-05:00",
          "2025-03-03T00:00:00-05:00",
          "2025-03-04T00:00:00-05:00",
          "2025-03-05T00:00:00-05:00",
          "2025-03-06T00:00:00-05:00",
          "2025-03-07T00:00:00-05:00",
          "2025-03-10T00:00:00-04:00",
          "2025-03-11T00:00:00-04:00",
          "2025-03-12T00:00:00-04:00",
          "2025-03-13T00:00:00-04:00",
          "2025-03-14T00:00:00-04:00",
          "2025-03-17T00:00:00-04:00",
          "2025-03-18T00:00:00-04:00",
          "2025-03-19T00:00:00-04:00",
          "2025-03-20T00:00:00-04:00",
          "2025-03-21T00:00:00-04:00",
          "2025-03-24T00:00:00-04:00",
          "2025-03-25T00:00:00-04:00",
          "2025-03-26T00:00:00-04:00",
          "2025-03-27T00:00:00-04:00",
          "2025-03-28T00:00:00-04:00",
          "2025-03-31T00:00:00-04:00",
          "2025-04-01T00:00:00-04:00",
          "2025-04-02T00:00:00-04:00",
          "2025-04-03T00:00:00-04:00",
          "2025-04-04T00:00:00-04:00",
          "2025-04-07T00:00:00-04:00",
          "2025-04-08T00:00:00-04:00",
          "2025-04-09T00:00:00-04:00",
          "2025-04-10T00:00:00-04:00",
          "2025-04-11T00:00:00-04:00",
          "2025-04-14T00:00:00-04:00",
          "2025-04-15T00:00:00-04:00",
          "2025-04-16T00:00:00-04:00",
          "2025-04-17T00:00:00-04:00",
          "2025-04-21T00:00:00-04:00",
          "2025-04-22T00:00:00-04:00",
          "2025-04-23T00:00:00-04:00",
          "2025-04-24T00:00:00-04:00",
          "2025-04-25T00:00:00-04:00",
          "2025-04-28T00:00:00-04:00",
          "2025-04-29T00:00:00-04:00",
          "2025-04-30T00:00:00-04:00",
          "2025-05-01T00:00:00-04:00",
          "2025-05-02T00:00:00-04:00",
          "2025-05-05T00:00:00-04:00",
          "2025-05-06T00:00:00-04:00",
          "2025-05-07T00:00:00-04:00",
          "2025-05-08T00:00:00-04:00",
          "2025-05-09T00:00:00-04:00",
          "2025-05-12T00:00:00-04:00",
          "2025-05-13T00:00:00-04:00",
          "2025-05-14T00:00:00-04:00",
          "2025-05-15T00:00:00-04:00",
          "2025-05-16T00:00:00-04:00",
          "2025-05-19T00:00:00-04:00",
          "2025-05-20T00:00:00-04:00",
          "2025-05-21T00:00:00-04:00",
          "2025-05-22T00:00:00-04:00",
          "2025-05-23T00:00:00-04:00",
          "2025-05-27T00:00:00-04:00",
          "2025-05-28T00:00:00-04:00",
          "2025-05-29T00:00:00-04:00",
          "2025-05-30T00:00:00-04:00",
          "2025-06-02T00:00:00-04:00",
          "2025-06-03T00:00:00-04:00",
          "2025-06-04T00:00:00-04:00",
          "2025-06-05T00:00:00-04:00",
          "2025-06-06T00:00:00-04:00",
          "2025-06-09T00:00:00-04:00",
          "2025-06-10T00:00:00-04:00",
          "2025-06-11T00:00:00-04:00",
          "2025-06-12T00:00:00-04:00",
          "2025-06-13T00:00:00-04:00"
         ],
         "xaxis": "x3",
         "y": [
          0,
          1.367,
          0.872,
          1.844,
          1.827,
          0.462,
          2.28,
          3.645,
          5.689,
          6.493,
          8.541,
          10.162,
          10.082,
          11.385,
          10.92,
          11.343,
          11.883,
          11.649,
          12.34,
          11.95,
          11.745,
          12.218,
          13.261,
          15.971,
          15.51,
          13.517,
          15.171,
          15.364,
          15.728,
          15.841,
          17.248,
          16.955,
          11.741,
          10.669,
          9.454,
          7.804,
          8.386,
          8.495,
          10.84,
          9.153,
          4.809,
          5.345,
          3.256,
          1.471,
          -2.742,
          -4.032,
          -4.551,
          -5.686,
          -2.65,
          -2.026,
          -1.59,
          0.144,
          0.102,
          1.199,
          3.892,
          5.178,
          5.136,
          3.917,
          1.71,
          2.736,
          2.049,
          2.954,
          -4.22,
          -11.388,
          -9.635,
          -8.611,
          -1.25,
          -4.296,
          -0.466,
          -1.089,
          -1.759,
          -3.243,
          -2.252,
          -3.504,
          -0.723,
          1.506,
          3.091,
          2.632,
          2.493,
          3.082,
          3.082,
          4.039,
          6.407,
          6.428,
          5.034,
          5.093,
          6.812,
          6.647,
          9.585,
          10.832,
          11.94,
          12.72,
          12.749,
          11.62,
          11.957,
          10.002,
          9.846,
          9.863,
          11.793,
          11.034,
          11.405,
          11.249,
          11.527,
          12.206,
          11.342,
          10.385,
          11.978,
          12.404,
          13.188,
          12.998,
          13.036,
          11.649
         ],
         "yaxis": "y3"
        },
        {
         "hovertemplate": "Security=Visa Inc.<br>Sector=Financial Services<br>Date=%{x}<br>YTD Return=%{y}<extra></extra>",
         "legendgroup": "Visa Inc.",
         "line": {
          "color": "#EF553B",
          "dash": "solid"
         },
         "marker": {
          "symbol": "circle"
         },
         "mode": "lines",
         "name": "Visa Inc.",
         "showlegend": true,
         "type": "scattergl",
         "x": [
          "2025-01-02T00:00:00-05:00",
          "2025-01-03T00:00:00-05:00",
          "2025-01-06T00:00:00-05:00",
          "2025-01-07T00:00:00-05:00",
          "2025-01-08T00:00:00-05:00",
          "2025-01-10T00:00:00-05:00",
          "2025-01-13T00:00:00-05:00",
          "2025-01-14T00:00:00-05:00",
          "2025-01-15T00:00:00-05:00",
          "2025-01-16T00:00:00-05:00",
          "2025-01-17T00:00:00-05:00",
          "2025-01-21T00:00:00-05:00",
          "2025-01-22T00:00:00-05:00",
          "2025-01-23T00:00:00-05:00",
          "2025-01-24T00:00:00-05:00",
          "2025-01-27T00:00:00-05:00",
          "2025-01-28T00:00:00-05:00",
          "2025-01-29T00:00:00-05:00",
          "2025-01-30T00:00:00-05:00",
          "2025-01-31T00:00:00-05:00",
          "2025-02-03T00:00:00-05:00",
          "2025-02-04T00:00:00-05:00",
          "2025-02-05T00:00:00-05:00",
          "2025-02-06T00:00:00-05:00",
          "2025-02-07T00:00:00-05:00",
          "2025-02-10T00:00:00-05:00",
          "2025-02-11T00:00:00-05:00",
          "2025-02-12T00:00:00-05:00",
          "2025-02-13T00:00:00-05:00",
          "2025-02-14T00:00:00-05:00",
          "2025-02-18T00:00:00-05:00",
          "2025-02-19T00:00:00-05:00",
          "2025-02-20T00:00:00-05:00",
          "2025-02-21T00:00:00-05:00",
          "2025-02-24T00:00:00-05:00",
          "2025-02-25T00:00:00-05:00",
          "2025-02-26T00:00:00-05:00",
          "2025-02-27T00:00:00-05:00",
          "2025-02-28T00:00:00-05:00",
          "2025-03-03T00:00:00-05:00",
          "2025-03-04T00:00:00-05:00",
          "2025-03-05T00:00:00-05:00",
          "2025-03-06T00:00:00-05:00",
          "2025-03-07T00:00:00-05:00",
          "2025-03-10T00:00:00-04:00",
          "2025-03-11T00:00:00-04:00",
          "2025-03-12T00:00:00-04:00",
          "2025-03-13T00:00:00-04:00",
          "2025-03-14T00:00:00-04:00",
          "2025-03-17T00:00:00-04:00",
          "2025-03-18T00:00:00-04:00",
          "2025-03-19T00:00:00-04:00",
          "2025-03-20T00:00:00-04:00",
          "2025-03-21T00:00:00-04:00",
          "2025-03-24T00:00:00-04:00",
          "2025-03-25T00:00:00-04:00",
          "2025-03-26T00:00:00-04:00",
          "2025-03-27T00:00:00-04:00",
          "2025-03-28T00:00:00-04:00",
          "2025-03-31T00:00:00-04:00",
          "2025-04-01T00:00:00-04:00",
          "2025-04-02T00:00:00-04:00",
          "2025-04-03T00:00:00-04:00",
          "2025-04-04T00:00:00-04:00",
          "2025-04-07T00:00:00-04:00",
          "2025-04-08T00:00:00-04:00",
          "2025-04-09T00:00:00-04:00",
          "2025-04-10T00:00:00-04:00",
          "2025-04-11T00:00:00-04:00",
          "2025-04-14T00:00:00-04:00",
          "2025-04-15T00:00:00-04:00",
          "2025-04-16T00:00:00-04:00",
          "2025-04-17T00:00:00-04:00",
          "2025-04-21T00:00:00-04:00",
          "2025-04-22T00:00:00-04:00",
          "2025-04-23T00:00:00-04:00",
          "2025-04-24T00:00:00-04:00",
          "2025-04-25T00:00:00-04:00",
          "2025-04-28T00:00:00-04:00",
          "2025-04-29T00:00:00-04:00",
          "2025-04-30T00:00:00-04:00",
          "2025-05-01T00:00:00-04:00",
          "2025-05-02T00:00:00-04:00",
          "2025-05-05T00:00:00-04:00",
          "2025-05-06T00:00:00-04:00",
          "2025-05-07T00:00:00-04:00",
          "2025-05-08T00:00:00-04:00",
          "2025-05-09T00:00:00-04:00",
          "2025-05-12T00:00:00-04:00",
          "2025-05-13T00:00:00-04:00",
          "2025-05-14T00:00:00-04:00",
          "2025-05-15T00:00:00-04:00",
          "2025-05-16T00:00:00-04:00",
          "2025-05-19T00:00:00-04:00",
          "2025-05-20T00:00:00-04:00",
          "2025-05-21T00:00:00-04:00",
          "2025-05-22T00:00:00-04:00",
          "2025-05-23T00:00:00-04:00",
          "2025-05-27T00:00:00-04:00",
          "2025-05-28T00:00:00-04:00",
          "2025-05-29T00:00:00-04:00",
          "2025-05-30T00:00:00-04:00",
          "2025-06-02T00:00:00-04:00",
          "2025-06-03T00:00:00-04:00",
          "2025-06-04T00:00:00-04:00",
          "2025-06-05T00:00:00-04:00",
          "2025-06-06T00:00:00-04:00",
          "2025-06-09T00:00:00-04:00",
          "2025-06-10T00:00:00-04:00",
          "2025-06-11T00:00:00-04:00",
          "2025-06-12T00:00:00-04:00",
          "2025-06-13T00:00:00-04:00"
         ],
         "xaxis": "x3",
         "y": [
          0,
          0.162,
          -0.433,
          -0.868,
          -0.573,
          -2.128,
          -2.379,
          -1.689,
          0.598,
          0.906,
          1.66,
          2.936,
          2.913,
          4.392,
          5.025,
          6.406,
          6.387,
          6.832,
          9.113,
          8.715,
          9.994,
          9.781,
          11.145,
          10.522,
          10.693,
          11.714,
          11.74,
          11.985,
          13.304,
          12.724,
          13.655,
          13.177,
          11.667,
          11.042,
          11.466,
          12.176,
          11.711,
          13.339,
          15.56,
          15.276,
          12.221,
          12.364,
          9.65,
          10.019,
          8.796,
          5.82,
          6.043,
          4.676,
          5.712,
          6.588,
          6.658,
          8.283,
          8.165,
          6.942,
          9.557,
          9.796,
          9.656,
          11.466,
          9.232,
          11.657,
          10.348,
          10.341,
          8.13,
          -0.236,
          -0.494,
          -1.785,
          5.913,
          3.421,
          6.222,
          6.789,
          6.99,
          5.562,
          5.014,
          1.984,
          5.584,
          6.531,
          6.958,
          6.786,
          7.531,
          8.809,
          10.077,
          9.105,
          10.746,
          11.077,
          10.778,
          11.463,
          11.915,
          12.32,
          13.374,
          13.655,
          13.757,
          15.621,
          16.521,
          17.408,
          17.07,
          14.344,
          14.239,
          12.825,
          14.664,
          14.801,
          15.653,
          16.543,
          16.585,
          16.757,
          17.44,
          17.047,
          18.148,
          17.012,
          18.302,
          19.135,
          18.525,
          12.605
         ],
         "yaxis": "y3"
        },
        {
         "hovertemplate": "Security=Mastercard<br>Sector=Financial Services<br>Date=%{x}<br>YTD Return=%{y}<extra></extra>",
         "legendgroup": "Mastercard",
         "line": {
          "color": "#00cc96",
          "dash": "solid"
         },
         "marker": {
          "symbol": "circle"
         },
         "mode": "lines",
         "name": "Mastercard",
         "showlegend": true,
         "type": "scattergl",
         "x": [
          "2025-01-02T00:00:00-05:00",
          "2025-01-03T00:00:00-05:00",
          "2025-01-06T00:00:00-05:00",
          "2025-01-07T00:00:00-05:00",
          "2025-01-08T00:00:00-05:00",
          "2025-01-10T00:00:00-05:00",
          "2025-01-13T00:00:00-05:00",
          "2025-01-14T00:00:00-05:00",
          "2025-01-15T00:00:00-05:00",
          "2025-01-16T00:00:00-05:00",
          "2025-01-17T00:00:00-05:00",
          "2025-01-21T00:00:00-05:00",
          "2025-01-22T00:00:00-05:00",
          "2025-01-23T00:00:00-05:00",
          "2025-01-24T00:00:00-05:00",
          "2025-01-27T00:00:00-05:00",
          "2025-01-28T00:00:00-05:00",
          "2025-01-29T00:00:00-05:00",
          "2025-01-30T00:00:00-05:00",
          "2025-01-31T00:00:00-05:00",
          "2025-02-03T00:00:00-05:00",
          "2025-02-04T00:00:00-05:00",
          "2025-02-05T00:00:00-05:00",
          "2025-02-06T00:00:00-05:00",
          "2025-02-07T00:00:00-05:00",
          "2025-02-10T00:00:00-05:00",
          "2025-02-11T00:00:00-05:00",
          "2025-02-12T00:00:00-05:00",
          "2025-02-13T00:00:00-05:00",
          "2025-02-14T00:00:00-05:00",
          "2025-02-18T00:00:00-05:00",
          "2025-02-19T00:00:00-05:00",
          "2025-02-20T00:00:00-05:00",
          "2025-02-21T00:00:00-05:00",
          "2025-02-24T00:00:00-05:00",
          "2025-02-25T00:00:00-05:00",
          "2025-02-26T00:00:00-05:00",
          "2025-02-27T00:00:00-05:00",
          "2025-02-28T00:00:00-05:00",
          "2025-03-03T00:00:00-05:00",
          "2025-03-04T00:00:00-05:00",
          "2025-03-05T00:00:00-05:00",
          "2025-03-06T00:00:00-05:00",
          "2025-03-07T00:00:00-05:00",
          "2025-03-10T00:00:00-04:00",
          "2025-03-11T00:00:00-04:00",
          "2025-03-12T00:00:00-04:00",
          "2025-03-13T00:00:00-04:00",
          "2025-03-14T00:00:00-04:00",
          "2025-03-17T00:00:00-04:00",
          "2025-03-18T00:00:00-04:00",
          "2025-03-19T00:00:00-04:00",
          "2025-03-20T00:00:00-04:00",
          "2025-03-21T00:00:00-04:00",
          "2025-03-24T00:00:00-04:00",
          "2025-03-25T00:00:00-04:00",
          "2025-03-26T00:00:00-04:00",
          "2025-03-27T00:00:00-04:00",
          "2025-03-28T00:00:00-04:00",
          "2025-03-31T00:00:00-04:00",
          "2025-04-01T00:00:00-04:00",
          "2025-04-02T00:00:00-04:00",
          "2025-04-03T00:00:00-04:00",
          "2025-04-04T00:00:00-04:00",
          "2025-04-07T00:00:00-04:00",
          "2025-04-08T00:00:00-04:00",
          "2025-04-09T00:00:00-04:00",
          "2025-04-10T00:00:00-04:00",
          "2025-04-11T00:00:00-04:00",
          "2025-04-14T00:00:00-04:00",
          "2025-04-15T00:00:00-04:00",
          "2025-04-16T00:00:00-04:00",
          "2025-04-17T00:00:00-04:00",
          "2025-04-21T00:00:00-04:00",
          "2025-04-22T00:00:00-04:00",
          "2025-04-23T00:00:00-04:00",
          "2025-04-24T00:00:00-04:00",
          "2025-04-25T00:00:00-04:00",
          "2025-04-28T00:00:00-04:00",
          "2025-04-29T00:00:00-04:00",
          "2025-04-30T00:00:00-04:00",
          "2025-05-01T00:00:00-04:00",
          "2025-05-02T00:00:00-04:00",
          "2025-05-05T00:00:00-04:00",
          "2025-05-06T00:00:00-04:00",
          "2025-05-07T00:00:00-04:00",
          "2025-05-08T00:00:00-04:00",
          "2025-05-09T00:00:00-04:00",
          "2025-05-12T00:00:00-04:00",
          "2025-05-13T00:00:00-04:00",
          "2025-05-14T00:00:00-04:00",
          "2025-05-15T00:00:00-04:00",
          "2025-05-16T00:00:00-04:00",
          "2025-05-19T00:00:00-04:00",
          "2025-05-20T00:00:00-04:00",
          "2025-05-21T00:00:00-04:00",
          "2025-05-22T00:00:00-04:00",
          "2025-05-23T00:00:00-04:00",
          "2025-05-27T00:00:00-04:00",
          "2025-05-28T00:00:00-04:00",
          "2025-05-29T00:00:00-04:00",
          "2025-05-30T00:00:00-04:00",
          "2025-06-02T00:00:00-04:00",
          "2025-06-03T00:00:00-04:00",
          "2025-06-04T00:00:00-04:00",
          "2025-06-05T00:00:00-04:00",
          "2025-06-06T00:00:00-04:00",
          "2025-06-09T00:00:00-04:00",
          "2025-06-10T00:00:00-04:00",
          "2025-06-11T00:00:00-04:00",
          "2025-06-12T00:00:00-04:00",
          "2025-06-13T00:00:00-04:00"
         ],
         "xaxis": "x3",
         "y": [
          0,
          -0.199,
          -2.004,
          -2.106,
          -1.149,
          -3.252,
          -3.206,
          -2.418,
          0.138,
          0.289,
          0.588,
          1.232,
          1.064,
          2.413,
          2.273,
          4.986,
          4.932,
          5.208,
          8.508,
          6.479,
          8.113,
          7.185,
          8.561,
          8.728,
          7.883,
          8.408,
          8.257,
          8.237,
          8.565,
          8.268,
          9.006,
          8.985,
          7.984,
          6.878,
          7.164,
          8.128,
          7.599,
          8.28,
          10.482,
          10.216,
          6.41,
          7.03,
          5.404,
          4.819,
          2.969,
          0.799,
          0.577,
          -0.345,
          1.152,
          1.986,
          1.641,
          2.772,
          2.827,
          2.695,
          4.225,
          4.511,
          5.26,
          6.89,
          3.638,
          5.078,
          5.153,
          4.936,
          1.71,
          -6.108,
          -6.923,
          -7.996,
          -1.032,
          -4.122,
          -2.123,
          -1.602,
          -0.658,
          -1.416,
          -0.667,
          -2.205,
          1.253,
          1.767,
          2.814,
          2.434,
          2.628,
          3.624,
          5.233,
          4.959,
          7.409,
          7.741,
          7.332,
          8.741,
          8.893,
          9.185,
          11.034,
          10.711,
          10.076,
          11.788,
          11.996,
          12.597,
          11.579,
          9.358,
          9.473,
          8.213,
          10.32,
          10.583,
          10.94,
          12.441,
          11.6,
          11.744,
          12.159,
          12.411,
          13.309,
          12.197,
          13.198,
          13.428,
          13.148,
          7.916
         ],
         "yaxis": "y3"
        },
        {
         "hovertemplate": "Security=Bank of America<br>Sector=Financial Services<br>Date=%{x}<br>YTD Return=%{y}<extra></extra>",
         "legendgroup": "Bank of America",
         "line": {
          "color": "#ab63fa",
          "dash": "solid"
         },
         "marker": {
          "symbol": "circle"
         },
         "mode": "lines",
         "name": "Bank of America",
         "showlegend": true,
         "type": "scattergl",
         "x": [
          "2025-01-02T00:00:00-05:00",
          "2025-01-03T00:00:00-05:00",
          "2025-01-06T00:00:00-05:00",
          "2025-01-07T00:00:00-05:00",
          "2025-01-08T00:00:00-05:00",
          "2025-01-10T00:00:00-05:00",
          "2025-01-13T00:00:00-05:00",
          "2025-01-14T00:00:00-05:00",
          "2025-01-15T00:00:00-05:00",
          "2025-01-16T00:00:00-05:00",
          "2025-01-17T00:00:00-05:00",
          "2025-01-21T00:00:00-05:00",
          "2025-01-22T00:00:00-05:00",
          "2025-01-23T00:00:00-05:00",
          "2025-01-24T00:00:00-05:00",
          "2025-01-27T00:00:00-05:00",
          "2025-01-28T00:00:00-05:00",
          "2025-01-29T00:00:00-05:00",
          "2025-01-30T00:00:00-05:00",
          "2025-01-31T00:00:00-05:00",
          "2025-02-03T00:00:00-05:00",
          "2025-02-04T00:00:00-05:00",
          "2025-02-05T00:00:00-05:00",
          "2025-02-06T00:00:00-05:00",
          "2025-02-07T00:00:00-05:00",
          "2025-02-10T00:00:00-05:00",
          "2025-02-11T00:00:00-05:00",
          "2025-02-12T00:00:00-05:00",
          "2025-02-13T00:00:00-05:00",
          "2025-02-14T00:00:00-05:00",
          "2025-02-18T00:00:00-05:00",
          "2025-02-19T00:00:00-05:00",
          "2025-02-20T00:00:00-05:00",
          "2025-02-21T00:00:00-05:00",
          "2025-02-24T00:00:00-05:00",
          "2025-02-25T00:00:00-05:00",
          "2025-02-26T00:00:00-05:00",
          "2025-02-27T00:00:00-05:00",
          "2025-02-28T00:00:00-05:00",
          "2025-03-03T00:00:00-05:00",
          "2025-03-04T00:00:00-05:00",
          "2025-03-05T00:00:00-05:00",
          "2025-03-06T00:00:00-05:00",
          "2025-03-07T00:00:00-05:00",
          "2025-03-10T00:00:00-04:00",
          "2025-03-11T00:00:00-04:00",
          "2025-03-12T00:00:00-04:00",
          "2025-03-13T00:00:00-04:00",
          "2025-03-14T00:00:00-04:00",
          "2025-03-17T00:00:00-04:00",
          "2025-03-18T00:00:00-04:00",
          "2025-03-19T00:00:00-04:00",
          "2025-03-20T00:00:00-04:00",
          "2025-03-21T00:00:00-04:00",
          "2025-03-24T00:00:00-04:00",
          "2025-03-25T00:00:00-04:00",
          "2025-03-26T00:00:00-04:00",
          "2025-03-27T00:00:00-04:00",
          "2025-03-28T00:00:00-04:00",
          "2025-03-31T00:00:00-04:00",
          "2025-04-01T00:00:00-04:00",
          "2025-04-02T00:00:00-04:00",
          "2025-04-03T00:00:00-04:00",
          "2025-04-04T00:00:00-04:00",
          "2025-04-07T00:00:00-04:00",
          "2025-04-08T00:00:00-04:00",
          "2025-04-09T00:00:00-04:00",
          "2025-04-10T00:00:00-04:00",
          "2025-04-11T00:00:00-04:00",
          "2025-04-14T00:00:00-04:00",
          "2025-04-15T00:00:00-04:00",
          "2025-04-16T00:00:00-04:00",
          "2025-04-17T00:00:00-04:00",
          "2025-04-21T00:00:00-04:00",
          "2025-04-22T00:00:00-04:00",
          "2025-04-23T00:00:00-04:00",
          "2025-04-24T00:00:00-04:00",
          "2025-04-25T00:00:00-04:00",
          "2025-04-28T00:00:00-04:00",
          "2025-04-29T00:00:00-04:00",
          "2025-04-30T00:00:00-04:00",
          "2025-05-01T00:00:00-04:00",
          "2025-05-02T00:00:00-04:00",
          "2025-05-05T00:00:00-04:00",
          "2025-05-06T00:00:00-04:00",
          "2025-05-07T00:00:00-04:00",
          "2025-05-08T00:00:00-04:00",
          "2025-05-09T00:00:00-04:00",
          "2025-05-12T00:00:00-04:00",
          "2025-05-13T00:00:00-04:00",
          "2025-05-14T00:00:00-04:00",
          "2025-05-15T00:00:00-04:00",
          "2025-05-16T00:00:00-04:00",
          "2025-05-19T00:00:00-04:00",
          "2025-05-20T00:00:00-04:00",
          "2025-05-21T00:00:00-04:00",
          "2025-05-22T00:00:00-04:00",
          "2025-05-23T00:00:00-04:00",
          "2025-05-27T00:00:00-04:00",
          "2025-05-28T00:00:00-04:00",
          "2025-05-29T00:00:00-04:00",
          "2025-05-30T00:00:00-04:00",
          "2025-06-02T00:00:00-04:00",
          "2025-06-03T00:00:00-04:00",
          "2025-06-04T00:00:00-04:00",
          "2025-06-05T00:00:00-04:00",
          "2025-06-06T00:00:00-04:00",
          "2025-06-09T00:00:00-04:00",
          "2025-06-10T00:00:00-04:00",
          "2025-06-11T00:00:00-04:00",
          "2025-06-12T00:00:00-04:00",
          "2025-06-13T00:00:00-04:00"
         ],
         "xaxis": "x3",
         "y": [
          0,
          1.174,
          2.506,
          4.042,
          4.335,
          1.851,
          1.739,
          3.364,
          6.345,
          5.306,
          5.058,
          5.351,
          3.387,
          4.741,
          5.035,
          6.322,
          5.758,
          5.554,
          5.487,
          4.538,
          4.335,
          5.464,
          6.367,
          7.79,
          7.022,
          5.374,
          5.645,
          4.335,
          4.606,
          6.028,
          5.058,
          3.883,
          2.28,
          1.174,
          0.384,
          -0.79,
          -0.79,
          -0.384,
          4.087,
          2.867,
          -3.658,
          -4.516,
          -6.39,
          -5.935,
          -9.502,
          -10.002,
          -9.321,
          -9.866,
          -7.094,
          -5.844,
          -5.367,
          -4.095,
          -3.481,
          -3.504,
          -2.141,
          -1.664,
          -2.709,
          -3.3,
          -6.276,
          -5.185,
          -5.731,
          -4.913,
          -15.433,
          -21.863,
          -19.159,
          -20.409,
          -15.592,
          -18.545,
          -18.318,
          -16.682,
          -13.683,
          -15.183,
          -15.001,
          -16.114,
          -12.933,
          -11.956,
          -10.07,
          -9.821,
          -9.616,
          -9.139,
          -9.389,
          -8.73,
          -6.685,
          -6.571,
          -7.208,
          -7.003,
          -5.481,
          -5.049,
          -1.482,
          0.608,
          1.654,
          0.836,
          1.54,
          1.722,
          1.54,
          -1.732,
          -1.596,
          -1.846,
          0.472,
          0.108,
          0.517,
          0.268,
          0.154,
          1.449,
          0.79,
          0.836,
          2.778,
          2.55,
          3.052,
          2.23,
          1.978,
          0.767
         ],
         "yaxis": "y3"
        },
        {
         "hovertemplate": "Security=Wells Fargo<br>Sector=Financial Services<br>Date=%{x}<br>YTD Return=%{y}<extra></extra>",
         "legendgroup": "Wells Fargo",
         "line": {
          "color": "#FFA15A",
          "dash": "solid"
         },
         "marker": {
          "symbol": "circle"
         },
         "mode": "lines",
         "name": "Wells Fargo",
         "showlegend": true,
         "type": "scattergl",
         "x": [
          "2025-01-02T00:00:00-05:00",
          "2025-01-03T00:00:00-05:00",
          "2025-01-06T00:00:00-05:00",
          "2025-01-07T00:00:00-05:00",
          "2025-01-08T00:00:00-05:00",
          "2025-01-10T00:00:00-05:00",
          "2025-01-13T00:00:00-05:00",
          "2025-01-14T00:00:00-05:00",
          "2025-01-15T00:00:00-05:00",
          "2025-01-16T00:00:00-05:00",
          "2025-01-17T00:00:00-05:00",
          "2025-01-21T00:00:00-05:00",
          "2025-01-22T00:00:00-05:00",
          "2025-01-23T00:00:00-05:00",
          "2025-01-24T00:00:00-05:00",
          "2025-01-27T00:00:00-05:00",
          "2025-01-28T00:00:00-05:00",
          "2025-01-29T00:00:00-05:00",
          "2025-01-30T00:00:00-05:00",
          "2025-01-31T00:00:00-05:00",
          "2025-02-03T00:00:00-05:00",
          "2025-02-04T00:00:00-05:00",
          "2025-02-05T00:00:00-05:00",
          "2025-02-06T00:00:00-05:00",
          "2025-02-07T00:00:00-05:00",
          "2025-02-10T00:00:00-05:00",
          "2025-02-11T00:00:00-05:00",
          "2025-02-12T00:00:00-05:00",
          "2025-02-13T00:00:00-05:00",
          "2025-02-14T00:00:00-05:00",
          "2025-02-18T00:00:00-05:00",
          "2025-02-19T00:00:00-05:00",
          "2025-02-20T00:00:00-05:00",
          "2025-02-21T00:00:00-05:00",
          "2025-02-24T00:00:00-05:00",
          "2025-02-25T00:00:00-05:00",
          "2025-02-26T00:00:00-05:00",
          "2025-02-27T00:00:00-05:00",
          "2025-02-28T00:00:00-05:00",
          "2025-03-03T00:00:00-05:00",
          "2025-03-04T00:00:00-05:00",
          "2025-03-05T00:00:00-05:00",
          "2025-03-06T00:00:00-05:00",
          "2025-03-07T00:00:00-05:00",
          "2025-03-10T00:00:00-04:00",
          "2025-03-11T00:00:00-04:00",
          "2025-03-12T00:00:00-04:00",
          "2025-03-13T00:00:00-04:00",
          "2025-03-14T00:00:00-04:00",
          "2025-03-17T00:00:00-04:00",
          "2025-03-18T00:00:00-04:00",
          "2025-03-19T00:00:00-04:00",
          "2025-03-20T00:00:00-04:00",
          "2025-03-21T00:00:00-04:00",
          "2025-03-24T00:00:00-04:00",
          "2025-03-25T00:00:00-04:00",
          "2025-03-26T00:00:00-04:00",
          "2025-03-27T00:00:00-04:00",
          "2025-03-28T00:00:00-04:00",
          "2025-03-31T00:00:00-04:00",
          "2025-04-01T00:00:00-04:00",
          "2025-04-02T00:00:00-04:00",
          "2025-04-03T00:00:00-04:00",
          "2025-04-04T00:00:00-04:00",
          "2025-04-07T00:00:00-04:00",
          "2025-04-08T00:00:00-04:00",
          "2025-04-09T00:00:00-04:00",
          "2025-04-10T00:00:00-04:00",
          "2025-04-11T00:00:00-04:00",
          "2025-04-14T00:00:00-04:00",
          "2025-04-15T00:00:00-04:00",
          "2025-04-16T00:00:00-04:00",
          "2025-04-17T00:00:00-04:00",
          "2025-04-21T00:00:00-04:00",
          "2025-04-22T00:00:00-04:00",
          "2025-04-23T00:00:00-04:00",
          "2025-04-24T00:00:00-04:00",
          "2025-04-25T00:00:00-04:00",
          "2025-04-28T00:00:00-04:00",
          "2025-04-29T00:00:00-04:00",
          "2025-04-30T00:00:00-04:00",
          "2025-05-01T00:00:00-04:00",
          "2025-05-02T00:00:00-04:00",
          "2025-05-05T00:00:00-04:00",
          "2025-05-06T00:00:00-04:00",
          "2025-05-07T00:00:00-04:00",
          "2025-05-08T00:00:00-04:00",
          "2025-05-09T00:00:00-04:00",
          "2025-05-12T00:00:00-04:00",
          "2025-05-13T00:00:00-04:00",
          "2025-05-14T00:00:00-04:00",
          "2025-05-15T00:00:00-04:00",
          "2025-05-16T00:00:00-04:00",
          "2025-05-19T00:00:00-04:00",
          "2025-05-20T00:00:00-04:00",
          "2025-05-21T00:00:00-04:00",
          "2025-05-22T00:00:00-04:00",
          "2025-05-23T00:00:00-04:00",
          "2025-05-27T00:00:00-04:00",
          "2025-05-28T00:00:00-04:00",
          "2025-05-29T00:00:00-04:00",
          "2025-05-30T00:00:00-04:00",
          "2025-06-02T00:00:00-04:00",
          "2025-06-03T00:00:00-04:00",
          "2025-06-04T00:00:00-04:00",
          "2025-06-05T00:00:00-04:00",
          "2025-06-06T00:00:00-04:00",
          "2025-06-09T00:00:00-04:00",
          "2025-06-10T00:00:00-04:00",
          "2025-06-11T00:00:00-04:00",
          "2025-06-12T00:00:00-04:00",
          "2025-06-13T00:00:00-04:00"
         ],
         "xaxis": "x3",
         "y": [
          0,
          1.596,
          2.621,
          1.995,
          1.966,
          -0.328,
          0.484,
          1.425,
          8.206,
          8.206,
          9.816,
          10.913,
          10.472,
          10.315,
          10.158,
          11.041,
          10.956,
          11.654,
          12.295,
          12.267,
          11.326,
          13.221,
          14.048,
          15.999,
          15.498,
          13.25,
          14.024,
          13.465,
          12.893,
          14.51,
          15.656,
          15.04,
          12.578,
          10.96,
          10.559,
          8.812,
          9.456,
          9.7,
          12.134,
          10.287,
          4.946,
          6.178,
          4.016,
          1.725,
          -4.389,
          -3.673,
          -1.31,
          -1.983,
          1.439,
          1.424,
          1.811,
          4.173,
          3.83,
          3.83,
          6.35,
          6.292,
          5.19,
          3.486,
          1.21,
          2.784,
          2.097,
          3.457,
          -5.978,
          -12.693,
          -10.989,
          -11.118,
          -5.033,
          -9.643,
          -10.502,
          -9.657,
          -7.596,
          -8.397,
          -7.352,
          -8.354,
          -5.176,
          -2.728,
          -0.408,
          -0.165,
          -0.594,
          1.797,
          1.668,
          2.813,
          5.662,
          5.734,
          5.204,
          4.775,
          4.961,
          4.299,
          7.797,
          9.395,
          9.812,
          8.819,
          9.668,
          9.495,
          8.718,
          5.364,
          5.652,
          4.846,
          6.515,
          6.141,
          7.264,
          7.653,
          7.566,
          8.905,
          8.517,
          7.826,
          9.884,
          10.071,
          8.617,
          7.869,
          6.544,
          4.169
         ],
         "yaxis": "y3"
        },
        {
         "hovertemplate": "Security=American Express<br>Sector=Financial Services<br>Date=%{x}<br>YTD Return=%{y}<extra></extra>",
         "legendgroup": "American Express",
         "line": {
          "color": "#19d3f3",
          "dash": "solid"
         },
         "marker": {
          "symbol": "circle"
         },
         "mode": "lines",
         "name": "American Express",
         "showlegend": true,
         "type": "scattergl",
         "x": [
          "2025-01-02T00:00:00-05:00",
          "2025-01-03T00:00:00-05:00",
          "2025-01-06T00:00:00-05:00",
          "2025-01-07T00:00:00-05:00",
          "2025-01-08T00:00:00-05:00",
          "2025-01-10T00:00:00-05:00",
          "2025-01-13T00:00:00-05:00",
          "2025-01-14T00:00:00-05:00",
          "2025-01-15T00:00:00-05:00",
          "2025-01-16T00:00:00-05:00",
          "2025-01-17T00:00:00-05:00",
          "2025-01-21T00:00:00-05:00",
          "2025-01-22T00:00:00-05:00",
          "2025-01-23T00:00:00-05:00",
          "2025-01-24T00:00:00-05:00",
          "2025-01-27T00:00:00-05:00",
          "2025-01-28T00:00:00-05:00",
          "2025-01-29T00:00:00-05:00",
          "2025-01-30T00:00:00-05:00",
          "2025-01-31T00:00:00-05:00",
          "2025-02-03T00:00:00-05:00",
          "2025-02-04T00:00:00-05:00",
          "2025-02-05T00:00:00-05:00",
          "2025-02-06T00:00:00-05:00",
          "2025-02-07T00:00:00-05:00",
          "2025-02-10T00:00:00-05:00",
          "2025-02-11T00:00:00-05:00",
          "2025-02-12T00:00:00-05:00",
          "2025-02-13T00:00:00-05:00",
          "2025-02-14T00:00:00-05:00",
          "2025-02-18T00:00:00-05:00",
          "2025-02-19T00:00:00-05:00",
          "2025-02-20T00:00:00-05:00",
          "2025-02-21T00:00:00-05:00",
          "2025-02-24T00:00:00-05:00",
          "2025-02-25T00:00:00-05:00",
          "2025-02-26T00:00:00-05:00",
          "2025-02-27T00:00:00-05:00",
          "2025-02-28T00:00:00-05:00",
          "2025-03-03T00:00:00-05:00",
          "2025-03-04T00:00:00-05:00",
          "2025-03-05T00:00:00-05:00",
          "2025-03-06T00:00:00-05:00",
          "2025-03-07T00:00:00-05:00",
          "2025-03-10T00:00:00-04:00",
          "2025-03-11T00:00:00-04:00",
          "2025-03-12T00:00:00-04:00",
          "2025-03-13T00:00:00-04:00",
          "2025-03-14T00:00:00-04:00",
          "2025-03-17T00:00:00-04:00",
          "2025-03-18T00:00:00-04:00",
          "2025-03-19T00:00:00-04:00",
          "2025-03-20T00:00:00-04:00",
          "2025-03-21T00:00:00-04:00",
          "2025-03-24T00:00:00-04:00",
          "2025-03-25T00:00:00-04:00",
          "2025-03-26T00:00:00-04:00",
          "2025-03-27T00:00:00-04:00",
          "2025-03-28T00:00:00-04:00",
          "2025-03-31T00:00:00-04:00",
          "2025-04-01T00:00:00-04:00",
          "2025-04-02T00:00:00-04:00",
          "2025-04-03T00:00:00-04:00",
          "2025-04-04T00:00:00-04:00",
          "2025-04-07T00:00:00-04:00",
          "2025-04-08T00:00:00-04:00",
          "2025-04-09T00:00:00-04:00",
          "2025-04-10T00:00:00-04:00",
          "2025-04-11T00:00:00-04:00",
          "2025-04-14T00:00:00-04:00",
          "2025-04-15T00:00:00-04:00",
          "2025-04-16T00:00:00-04:00",
          "2025-04-17T00:00:00-04:00",
          "2025-04-21T00:00:00-04:00",
          "2025-04-22T00:00:00-04:00",
          "2025-04-23T00:00:00-04:00",
          "2025-04-24T00:00:00-04:00",
          "2025-04-25T00:00:00-04:00",
          "2025-04-28T00:00:00-04:00",
          "2025-04-29T00:00:00-04:00",
          "2025-04-30T00:00:00-04:00",
          "2025-05-01T00:00:00-04:00",
          "2025-05-02T00:00:00-04:00",
          "2025-05-05T00:00:00-04:00",
          "2025-05-06T00:00:00-04:00",
          "2025-05-07T00:00:00-04:00",
          "2025-05-08T00:00:00-04:00",
          "2025-05-09T00:00:00-04:00",
          "2025-05-12T00:00:00-04:00",
          "2025-05-13T00:00:00-04:00",
          "2025-05-14T00:00:00-04:00",
          "2025-05-15T00:00:00-04:00",
          "2025-05-16T00:00:00-04:00",
          "2025-05-19T00:00:00-04:00",
          "2025-05-20T00:00:00-04:00",
          "2025-05-21T00:00:00-04:00",
          "2025-05-22T00:00:00-04:00",
          "2025-05-23T00:00:00-04:00",
          "2025-05-27T00:00:00-04:00",
          "2025-05-28T00:00:00-04:00",
          "2025-05-29T00:00:00-04:00",
          "2025-05-30T00:00:00-04:00",
          "2025-06-02T00:00:00-04:00",
          "2025-06-03T00:00:00-04:00",
          "2025-06-04T00:00:00-04:00",
          "2025-06-05T00:00:00-04:00",
          "2025-06-06T00:00:00-04:00",
          "2025-06-09T00:00:00-04:00",
          "2025-06-10T00:00:00-04:00",
          "2025-06-11T00:00:00-04:00",
          "2025-06-12T00:00:00-04:00",
          "2025-06-13T00:00:00-04:00"
         ],
         "xaxis": "x3",
         "y": [
          0,
          1.797,
          1.394,
          1.441,
          1.72,
          -1.488,
          -0.238,
          0.883,
          4.9,
          4.618,
          4.981,
          6.791,
          8.236,
          9.452,
          7.93,
          6.278,
          6.486,
          5.885,
          7.127,
          6.623,
          6.314,
          6.079,
          7.658,
          7.53,
          6.395,
          4.209,
          3.977,
          2.912,
          3.282,
          4.471,
          5.078,
          4.094,
          2.059,
          -0.783,
          -0.739,
          -1.474,
          -0.547,
          -1.186,
          1.085,
          -0.752,
          -4.79,
          -4.551,
          -7.419,
          -8.236,
          -12.229,
          -14.221,
          -12.421,
          -13.872,
          -10.782,
          -11.201,
          -11.759,
          -9.095,
          -9.035,
          -9.143,
          -6.674,
          -6.197,
          -7.299,
          -8.635,
          -10.832,
          -9.633,
          -9.153,
          -7.55,
          -16.764,
          -21.252,
          -21.05,
          -22.024,
          -11.587,
          -16.801,
          -15.372,
          -13.94,
          -13.104,
          -14.769,
          -15.311,
          -18.277,
          -14.937,
          -12.335,
          -9.916,
          -10.762,
          -10.715,
          -10.017,
          -10.223,
          -9.505,
          -6.704,
          -6.307,
          -7.203,
          -6.91,
          -4.409,
          -4.123,
          0.733,
          1.872,
          1.131,
          0.945,
          1.003,
          0.861,
          -0.194,
          -3.621,
          -3.223,
          -3.884,
          -1.006,
          -1.141,
          -0.46,
          -0.908,
          -0.477,
          0.217,
          -0.275,
          -0.264,
          1.929,
          1.623,
          0.935,
          0.794,
          0.42,
          -3.018
         ],
         "yaxis": "y3"
        },
        {
         "hovertemplate": "Security=Morgan Stanley<br>Sector=Financial Services<br>Date=%{x}<br>YTD Return=%{y}<extra></extra>",
         "legendgroup": "Morgan Stanley",
         "line": {
          "color": "#FF6692",
          "dash": "solid"
         },
         "marker": {
          "symbol": "circle"
         },
         "mode": "lines",
         "name": "Morgan Stanley",
         "showlegend": true,
         "type": "scattergl",
         "x": [
          "2025-01-02T00:00:00-05:00",
          "2025-01-03T00:00:00-05:00",
          "2025-01-06T00:00:00-05:00",
          "2025-01-07T00:00:00-05:00",
          "2025-01-08T00:00:00-05:00",
          "2025-01-10T00:00:00-05:00",
          "2025-01-13T00:00:00-05:00",
          "2025-01-14T00:00:00-05:00",
          "2025-01-15T00:00:00-05:00",
          "2025-01-16T00:00:00-05:00",
          "2025-01-17T00:00:00-05:00",
          "2025-01-21T00:00:00-05:00",
          "2025-01-22T00:00:00-05:00",
          "2025-01-23T00:00:00-05:00",
          "2025-01-24T00:00:00-05:00",
          "2025-01-27T00:00:00-05:00",
          "2025-01-28T00:00:00-05:00",
          "2025-01-29T00:00:00-05:00",
          "2025-01-30T00:00:00-05:00",
          "2025-01-31T00:00:00-05:00",
          "2025-02-03T00:00:00-05:00",
          "2025-02-04T00:00:00-05:00",
          "2025-02-05T00:00:00-05:00",
          "2025-02-06T00:00:00-05:00",
          "2025-02-07T00:00:00-05:00",
          "2025-02-10T00:00:00-05:00",
          "2025-02-11T00:00:00-05:00",
          "2025-02-12T00:00:00-05:00",
          "2025-02-13T00:00:00-05:00",
          "2025-02-14T00:00:00-05:00",
          "2025-02-18T00:00:00-05:00",
          "2025-02-19T00:00:00-05:00",
          "2025-02-20T00:00:00-05:00",
          "2025-02-21T00:00:00-05:00",
          "2025-02-24T00:00:00-05:00",
          "2025-02-25T00:00:00-05:00",
          "2025-02-26T00:00:00-05:00",
          "2025-02-27T00:00:00-05:00",
          "2025-02-28T00:00:00-05:00",
          "2025-03-03T00:00:00-05:00",
          "2025-03-04T00:00:00-05:00",
          "2025-03-05T00:00:00-05:00",
          "2025-03-06T00:00:00-05:00",
          "2025-03-07T00:00:00-05:00",
          "2025-03-10T00:00:00-04:00",
          "2025-03-11T00:00:00-04:00",
          "2025-03-12T00:00:00-04:00",
          "2025-03-13T00:00:00-04:00",
          "2025-03-14T00:00:00-04:00",
          "2025-03-17T00:00:00-04:00",
          "2025-03-18T00:00:00-04:00",
          "2025-03-19T00:00:00-04:00",
          "2025-03-20T00:00:00-04:00",
          "2025-03-21T00:00:00-04:00",
          "2025-03-24T00:00:00-04:00",
          "2025-03-25T00:00:00-04:00",
          "2025-03-26T00:00:00-04:00",
          "2025-03-27T00:00:00-04:00",
          "2025-03-28T00:00:00-04:00",
          "2025-03-31T00:00:00-04:00",
          "2025-04-01T00:00:00-04:00",
          "2025-04-02T00:00:00-04:00",
          "2025-04-03T00:00:00-04:00",
          "2025-04-04T00:00:00-04:00",
          "2025-04-07T00:00:00-04:00",
          "2025-04-08T00:00:00-04:00",
          "2025-04-09T00:00:00-04:00",
          "2025-04-10T00:00:00-04:00",
          "2025-04-11T00:00:00-04:00",
          "2025-04-14T00:00:00-04:00",
          "2025-04-15T00:00:00-04:00",
          "2025-04-16T00:00:00-04:00",
          "2025-04-17T00:00:00-04:00",
          "2025-04-21T00:00:00-04:00",
          "2025-04-22T00:00:00-04:00",
          "2025-04-23T00:00:00-04:00",
          "2025-04-24T00:00:00-04:00",
          "2025-04-25T00:00:00-04:00",
          "2025-04-28T00:00:00-04:00",
          "2025-04-29T00:00:00-04:00",
          "2025-04-30T00:00:00-04:00",
          "2025-05-01T00:00:00-04:00",
          "2025-05-02T00:00:00-04:00",
          "2025-05-05T00:00:00-04:00",
          "2025-05-06T00:00:00-04:00",
          "2025-05-07T00:00:00-04:00",
          "2025-05-08T00:00:00-04:00",
          "2025-05-09T00:00:00-04:00",
          "2025-05-12T00:00:00-04:00",
          "2025-05-13T00:00:00-04:00",
          "2025-05-14T00:00:00-04:00",
          "2025-05-15T00:00:00-04:00",
          "2025-05-16T00:00:00-04:00",
          "2025-05-19T00:00:00-04:00",
          "2025-05-20T00:00:00-04:00",
          "2025-05-21T00:00:00-04:00",
          "2025-05-22T00:00:00-04:00",
          "2025-05-23T00:00:00-04:00",
          "2025-05-27T00:00:00-04:00",
          "2025-05-28T00:00:00-04:00",
          "2025-05-29T00:00:00-04:00",
          "2025-05-30T00:00:00-04:00",
          "2025-06-02T00:00:00-04:00",
          "2025-06-03T00:00:00-04:00",
          "2025-06-04T00:00:00-04:00",
          "2025-06-05T00:00:00-04:00",
          "2025-06-06T00:00:00-04:00",
          "2025-06-09T00:00:00-04:00",
          "2025-06-10T00:00:00-04:00",
          "2025-06-11T00:00:00-04:00",
          "2025-06-12T00:00:00-04:00",
          "2025-06-13T00:00:00-04:00"
         ],
         "xaxis": "x3",
         "y": [
          0,
          0.93,
          3.093,
          1.683,
          2.468,
          -1.066,
          -0.633,
          -0.128,
          4.624,
          8.84,
          10.49,
          10.034,
          8.992,
          10.434,
          10.45,
          9.513,
          11.027,
          11.164,
          12.149,
          11.677,
          10.653,
          10.338,
          12.081,
          13.815,
          12.928,
          10.774,
          11.161,
          10.613,
          10.395,
          12.097,
          13.517,
          13.501,
          8.378,
          6.24,
          4.852,
          4.554,
          5.724,
          4.263,
          7.386,
          4.175,
          -1.803,
          -0.166,
          -3.699,
          -3.764,
          -9.895,
          -9.613,
          -8.031,
          -9.903,
          -6.95,
          -4.837,
          -4.716,
          -3.312,
          -2.812,
          -3.078,
          0.254,
          1.004,
          -1.416,
          -3.998,
          -6.958,
          -5.877,
          -6.628,
          -3.78,
          -12.928,
          -19.463,
          -18.583,
          -19.076,
          -9.887,
          -14.017,
          -12.775,
          -11.976,
          -10.903,
          -12.985,
          -11.92,
          -14.243,
          -10.952,
          -9.395,
          -6.741,
          -6.41,
          -6.555,
          -6.248,
          -6.139,
          -5.049,
          -2.235,
          -2.739,
          -3.772,
          -3.146,
          -0.885,
          -1.032,
          3.327,
          5.19,
          6.564,
          7.759,
          7.491,
          6.401,
          5.011,
          1.896,
          2.677,
          2.522,
          5.076,
          3.693,
          4.222,
          4.116,
          4.417,
          4.645,
          4.222,
          6.222,
          7.198,
          7.304,
          7.198,
          7.19,
          7.279,
          5.303
         ],
         "yaxis": "y3"
        },
        {
         "hovertemplate": "Security=Goldman Sachs<br>Sector=Financial Services<br>Date=%{x}<br>YTD Return=%{y}<extra></extra>",
         "legendgroup": "Goldman Sachs",
         "line": {
          "color": "#B6E880",
          "dash": "solid"
         },
         "marker": {
          "symbol": "circle"
         },
         "mode": "lines",
         "name": "Goldman Sachs",
         "showlegend": true,
         "type": "scattergl",
         "x": [
          "2025-01-02T00:00:00-05:00",
          "2025-01-03T00:00:00-05:00",
          "2025-01-06T00:00:00-05:00",
          "2025-01-07T00:00:00-05:00",
          "2025-01-08T00:00:00-05:00",
          "2025-01-10T00:00:00-05:00",
          "2025-01-13T00:00:00-05:00",
          "2025-01-14T00:00:00-05:00",
          "2025-01-15T00:00:00-05:00",
          "2025-01-16T00:00:00-05:00",
          "2025-01-17T00:00:00-05:00",
          "2025-01-21T00:00:00-05:00",
          "2025-01-22T00:00:00-05:00",
          "2025-01-23T00:00:00-05:00",
          "2025-01-24T00:00:00-05:00",
          "2025-01-27T00:00:00-05:00",
          "2025-01-28T00:00:00-05:00",
          "2025-01-29T00:00:00-05:00",
          "2025-01-30T00:00:00-05:00",
          "2025-01-31T00:00:00-05:00",
          "2025-02-03T00:00:00-05:00",
          "2025-02-04T00:00:00-05:00",
          "2025-02-05T00:00:00-05:00",
          "2025-02-06T00:00:00-05:00",
          "2025-02-07T00:00:00-05:00",
          "2025-02-10T00:00:00-05:00",
          "2025-02-11T00:00:00-05:00",
          "2025-02-12T00:00:00-05:00",
          "2025-02-13T00:00:00-05:00",
          "2025-02-14T00:00:00-05:00",
          "2025-02-18T00:00:00-05:00",
          "2025-02-19T00:00:00-05:00",
          "2025-02-20T00:00:00-05:00",
          "2025-02-21T00:00:00-05:00",
          "2025-02-24T00:00:00-05:00",
          "2025-02-25T00:00:00-05:00",
          "2025-02-26T00:00:00-05:00",
          "2025-02-27T00:00:00-05:00",
          "2025-02-28T00:00:00-05:00",
          "2025-03-03T00:00:00-05:00",
          "2025-03-04T00:00:00-05:00",
          "2025-03-05T00:00:00-05:00",
          "2025-03-06T00:00:00-05:00",
          "2025-03-07T00:00:00-05:00",
          "2025-03-10T00:00:00-04:00",
          "2025-03-11T00:00:00-04:00",
          "2025-03-12T00:00:00-04:00",
          "2025-03-13T00:00:00-04:00",
          "2025-03-14T00:00:00-04:00",
          "2025-03-17T00:00:00-04:00",
          "2025-03-18T00:00:00-04:00",
          "2025-03-19T00:00:00-04:00",
          "2025-03-20T00:00:00-04:00",
          "2025-03-21T00:00:00-04:00",
          "2025-03-24T00:00:00-04:00",
          "2025-03-25T00:00:00-04:00",
          "2025-03-26T00:00:00-04:00",
          "2025-03-27T00:00:00-04:00",
          "2025-03-28T00:00:00-04:00",
          "2025-03-31T00:00:00-04:00",
          "2025-04-01T00:00:00-04:00",
          "2025-04-02T00:00:00-04:00",
          "2025-04-03T00:00:00-04:00",
          "2025-04-04T00:00:00-04:00",
          "2025-04-07T00:00:00-04:00",
          "2025-04-08T00:00:00-04:00",
          "2025-04-09T00:00:00-04:00",
          "2025-04-10T00:00:00-04:00",
          "2025-04-11T00:00:00-04:00",
          "2025-04-14T00:00:00-04:00",
          "2025-04-15T00:00:00-04:00",
          "2025-04-16T00:00:00-04:00",
          "2025-04-17T00:00:00-04:00",
          "2025-04-21T00:00:00-04:00",
          "2025-04-22T00:00:00-04:00",
          "2025-04-23T00:00:00-04:00",
          "2025-04-24T00:00:00-04:00",
          "2025-04-25T00:00:00-04:00",
          "2025-04-28T00:00:00-04:00",
          "2025-04-29T00:00:00-04:00",
          "2025-04-30T00:00:00-04:00",
          "2025-05-01T00:00:00-04:00",
          "2025-05-02T00:00:00-04:00",
          "2025-05-05T00:00:00-04:00",
          "2025-05-06T00:00:00-04:00",
          "2025-05-07T00:00:00-04:00",
          "2025-05-08T00:00:00-04:00",
          "2025-05-09T00:00:00-04:00",
          "2025-05-12T00:00:00-04:00",
          "2025-05-13T00:00:00-04:00",
          "2025-05-14T00:00:00-04:00",
          "2025-05-15T00:00:00-04:00",
          "2025-05-16T00:00:00-04:00",
          "2025-05-19T00:00:00-04:00",
          "2025-05-20T00:00:00-04:00",
          "2025-05-21T00:00:00-04:00",
          "2025-05-22T00:00:00-04:00",
          "2025-05-23T00:00:00-04:00",
          "2025-05-27T00:00:00-04:00",
          "2025-05-28T00:00:00-04:00",
          "2025-05-29T00:00:00-04:00",
          "2025-05-30T00:00:00-04:00",
          "2025-06-02T00:00:00-04:00",
          "2025-06-03T00:00:00-04:00",
          "2025-06-04T00:00:00-04:00",
          "2025-06-05T00:00:00-04:00",
          "2025-06-06T00:00:00-04:00",
          "2025-06-09T00:00:00-04:00",
          "2025-06-10T00:00:00-04:00",
          "2025-06-11T00:00:00-04:00",
          "2025-06-12T00:00:00-04:00",
          "2025-06-13T00:00:00-04:00"
         ],
         "xaxis": "x3",
         "y": [
          0,
          0.897,
          1.464,
          0.896,
          0.878,
          -2.604,
          -2.091,
          -0.598,
          5.383,
          6.613,
          8.865,
          10.395,
          10.046,
          11.223,
          10.771,
          10.141,
          10.928,
          10.854,
          12.302,
          11.38,
          9.983,
          10.298,
          12.258,
          14.479,
          14.076,
          13.142,
          12.569,
          12.875,
          12.867,
          14.884,
          16.909,
          16.206,
          11.703,
          8.806,
          8.9,
          6.946,
          7.444,
          5.745,
          8.767,
          5.79,
          1.574,
          3.659,
          -0.78,
          -2.178,
          -7.074,
          -7.114,
          -6.366,
          -8.271,
          -5.37,
          -3.634,
          -3.557,
          -2.586,
          -1.652,
          -1.222,
          1.393,
          2.413,
          0.312,
          -2.309,
          -5.071,
          -4.517,
          -4.139,
          -1.579,
          -10.645,
          -17.71,
          -18.636,
          -19.211,
          -9.659,
          -14.391,
          -13.58,
          -11.912,
          -11.229,
          -12.774,
          -10.949,
          -12.37,
          -9.114,
          -7.485,
          -4.678,
          -4.767,
          -4.498,
          -4.057,
          -4.297,
          -3.199,
          -1.054,
          -2.198,
          -3.98,
          -3.533,
          -1.124,
          -0.88,
          3.357,
          5.537,
          6.898,
          7.65,
          8.197,
          7.021,
          6.01,
          3.728,
          4.561,
          4.616,
          7.62,
          6.346,
          5.72,
          5.473,
          5.169,
          6.066,
          5.255,
          6.426,
          7.853,
          7.768,
          8.005,
          9.639,
          9.804,
          7.772
         ],
         "yaxis": "y3"
        },
        {
         "hovertemplate": "Security=Blackstone Inc.<br>Sector=Financial Services<br>Date=%{x}<br>YTD Return=%{y}<extra></extra>",
         "legendgroup": "Blackstone Inc.",
         "line": {
          "color": "#FF97FF",
          "dash": "solid"
         },
         "marker": {
          "symbol": "circle"
         },
         "mode": "lines",
         "name": "Blackstone Inc.",
         "showlegend": true,
         "type": "scattergl",
         "x": [
          "2025-01-02T00:00:00-05:00",
          "2025-01-03T00:00:00-05:00",
          "2025-01-06T00:00:00-05:00",
          "2025-01-07T00:00:00-05:00",
          "2025-01-08T00:00:00-05:00",
          "2025-01-10T00:00:00-05:00",
          "2025-01-13T00:00:00-05:00",
          "2025-01-14T00:00:00-05:00",
          "2025-01-15T00:00:00-05:00",
          "2025-01-16T00:00:00-05:00",
          "2025-01-17T00:00:00-05:00",
          "2025-01-21T00:00:00-05:00",
          "2025-01-22T00:00:00-05:00",
          "2025-01-23T00:00:00-05:00",
          "2025-01-24T00:00:00-05:00",
          "2025-01-27T00:00:00-05:00",
          "2025-01-28T00:00:00-05:00",
          "2025-01-29T00:00:00-05:00",
          "2025-01-30T00:00:00-05:00",
          "2025-01-31T00:00:00-05:00",
          "2025-02-03T00:00:00-05:00",
          "2025-02-04T00:00:00-05:00",
          "2025-02-05T00:00:00-05:00",
          "2025-02-06T00:00:00-05:00",
          "2025-02-07T00:00:00-05:00",
          "2025-02-10T00:00:00-05:00",
          "2025-02-11T00:00:00-05:00",
          "2025-02-12T00:00:00-05:00",
          "2025-02-13T00:00:00-05:00",
          "2025-02-14T00:00:00-05:00",
          "2025-02-18T00:00:00-05:00",
          "2025-02-19T00:00:00-05:00",
          "2025-02-20T00:00:00-05:00",
          "2025-02-21T00:00:00-05:00",
          "2025-02-24T00:00:00-05:00",
          "2025-02-25T00:00:00-05:00",
          "2025-02-26T00:00:00-05:00",
          "2025-02-27T00:00:00-05:00",
          "2025-02-28T00:00:00-05:00",
          "2025-03-03T00:00:00-05:00",
          "2025-03-04T00:00:00-05:00",
          "2025-03-05T00:00:00-05:00",
          "2025-03-06T00:00:00-05:00",
          "2025-03-07T00:00:00-05:00",
          "2025-03-10T00:00:00-04:00",
          "2025-03-11T00:00:00-04:00",
          "2025-03-12T00:00:00-04:00",
          "2025-03-13T00:00:00-04:00",
          "2025-03-14T00:00:00-04:00",
          "2025-03-17T00:00:00-04:00",
          "2025-03-18T00:00:00-04:00",
          "2025-03-19T00:00:00-04:00",
          "2025-03-20T00:00:00-04:00",
          "2025-03-21T00:00:00-04:00",
          "2025-03-24T00:00:00-04:00",
          "2025-03-25T00:00:00-04:00",
          "2025-03-26T00:00:00-04:00",
          "2025-03-27T00:00:00-04:00",
          "2025-03-28T00:00:00-04:00",
          "2025-03-31T00:00:00-04:00",
          "2025-04-01T00:00:00-04:00",
          "2025-04-02T00:00:00-04:00",
          "2025-04-03T00:00:00-04:00",
          "2025-04-04T00:00:00-04:00",
          "2025-04-07T00:00:00-04:00",
          "2025-04-08T00:00:00-04:00",
          "2025-04-09T00:00:00-04:00",
          "2025-04-10T00:00:00-04:00",
          "2025-04-11T00:00:00-04:00",
          "2025-04-14T00:00:00-04:00",
          "2025-04-15T00:00:00-04:00",
          "2025-04-16T00:00:00-04:00",
          "2025-04-17T00:00:00-04:00",
          "2025-04-21T00:00:00-04:00",
          "2025-04-22T00:00:00-04:00",
          "2025-04-23T00:00:00-04:00",
          "2025-04-24T00:00:00-04:00",
          "2025-04-25T00:00:00-04:00",
          "2025-04-28T00:00:00-04:00",
          "2025-04-29T00:00:00-04:00",
          "2025-04-30T00:00:00-04:00",
          "2025-05-01T00:00:00-04:00",
          "2025-05-02T00:00:00-04:00",
          "2025-05-05T00:00:00-04:00",
          "2025-05-06T00:00:00-04:00",
          "2025-05-07T00:00:00-04:00",
          "2025-05-08T00:00:00-04:00",
          "2025-05-09T00:00:00-04:00",
          "2025-05-12T00:00:00-04:00",
          "2025-05-13T00:00:00-04:00",
          "2025-05-14T00:00:00-04:00",
          "2025-05-15T00:00:00-04:00",
          "2025-05-16T00:00:00-04:00",
          "2025-05-19T00:00:00-04:00",
          "2025-05-20T00:00:00-04:00",
          "2025-05-21T00:00:00-04:00",
          "2025-05-22T00:00:00-04:00",
          "2025-05-23T00:00:00-04:00",
          "2025-05-27T00:00:00-04:00",
          "2025-05-28T00:00:00-04:00",
          "2025-05-29T00:00:00-04:00",
          "2025-05-30T00:00:00-04:00",
          "2025-06-02T00:00:00-04:00",
          "2025-06-03T00:00:00-04:00",
          "2025-06-04T00:00:00-04:00",
          "2025-06-05T00:00:00-04:00",
          "2025-06-06T00:00:00-04:00",
          "2025-06-09T00:00:00-04:00",
          "2025-06-10T00:00:00-04:00",
          "2025-06-11T00:00:00-04:00",
          "2025-06-12T00:00:00-04:00",
          "2025-06-13T00:00:00-04:00"
         ],
         "xaxis": "x3",
         "y": [
          0,
          1.243,
          0.599,
          -1.387,
          0.127,
          -5.122,
          -4.593,
          -2.55,
          0.8,
          1.709,
          3.568,
          4.472,
          5.191,
          6.774,
          7.476,
          5.047,
          6.814,
          6.694,
          2.319,
          1.934,
          -0.121,
          -1.681,
          0.633,
          0.46,
          -2.003,
          -2.131,
          -4.354,
          -6.612,
          -6.85,
          -4.319,
          -3.216,
          -3.152,
          -4.864,
          -8.069,
          -8.829,
          -8.736,
          -7.442,
          -8.643,
          -6.455,
          -7.981,
          -12.509,
          -11.749,
          -15.469,
          -15.748,
          -19.103,
          -19.817,
          -18.424,
          -20.751,
          -18.221,
          -14.221,
          -15.144,
          -13.095,
          -13.658,
          -13.925,
          -11.725,
          -12.23,
          -14.871,
          -16.125,
          -19.834,
          -18.865,
          -17.112,
          -14.291,
          -22.742,
          -27.421,
          -27.647,
          -30.306,
          -20.27,
          -26.022,
          -26.179,
          -24.269,
          -22.487,
          -24.902,
          -24.315,
          -30.218,
          -27.496,
          -26.283,
          -21.901,
          -22.882,
          -21.917,
          -21.941,
          -23.01,
          -22.028,
          -19.672,
          -20.438,
          -21.672,
          -20.421,
          -18.275,
          -18.521,
          -12.904,
          -13.137,
          -13.243,
          -14.219,
          -14.248,
          -14.979,
          -15.709,
          -19.632,
          -19.959,
          -20.432,
          -18.574,
          -19.094,
          -18.819,
          -18.889,
          -18.86,
          -18.743,
          -18.889,
          -19.474,
          -17.901,
          -18.176,
          -16.434,
          -17.352,
          -17.703,
          -20.263
         ],
         "yaxis": "y3"
        },
        {
         "hovertemplate": "Security=Progressive Corporation<br>Sector=Financial Services<br>Date=%{x}<br>YTD Return=%{y}<extra></extra>",
         "legendgroup": "Progressive Corporation",
         "line": {
          "color": "#FECB52",
          "dash": "solid"
         },
         "marker": {
          "symbol": "circle"
         },
         "mode": "lines",
         "name": "Progressive Corporation",
         "showlegend": true,
         "type": "scattergl",
         "x": [
          "2025-01-02T00:00:00-05:00",
          "2025-01-03T00:00:00-05:00",
          "2025-01-06T00:00:00-05:00",
          "2025-01-07T00:00:00-05:00",
          "2025-01-08T00:00:00-05:00",
          "2025-01-10T00:00:00-05:00",
          "2025-01-13T00:00:00-05:00",
          "2025-01-14T00:00:00-05:00",
          "2025-01-15T00:00:00-05:00",
          "2025-01-16T00:00:00-05:00",
          "2025-01-17T00:00:00-05:00",
          "2025-01-21T00:00:00-05:00",
          "2025-01-22T00:00:00-05:00",
          "2025-01-23T00:00:00-05:00",
          "2025-01-24T00:00:00-05:00",
          "2025-01-27T00:00:00-05:00",
          "2025-01-28T00:00:00-05:00",
          "2025-01-29T00:00:00-05:00",
          "2025-01-30T00:00:00-05:00",
          "2025-01-31T00:00:00-05:00",
          "2025-02-03T00:00:00-05:00",
          "2025-02-04T00:00:00-05:00",
          "2025-02-05T00:00:00-05:00",
          "2025-02-06T00:00:00-05:00",
          "2025-02-07T00:00:00-05:00",
          "2025-02-10T00:00:00-05:00",
          "2025-02-11T00:00:00-05:00",
          "2025-02-12T00:00:00-05:00",
          "2025-02-13T00:00:00-05:00",
          "2025-02-14T00:00:00-05:00",
          "2025-02-18T00:00:00-05:00",
          "2025-02-19T00:00:00-05:00",
          "2025-02-20T00:00:00-05:00",
          "2025-02-21T00:00:00-05:00",
          "2025-02-24T00:00:00-05:00",
          "2025-02-25T00:00:00-05:00",
          "2025-02-26T00:00:00-05:00",
          "2025-02-27T00:00:00-05:00",
          "2025-02-28T00:00:00-05:00",
          "2025-03-03T00:00:00-05:00",
          "2025-03-04T00:00:00-05:00",
          "2025-03-05T00:00:00-05:00",
          "2025-03-06T00:00:00-05:00",
          "2025-03-07T00:00:00-05:00",
          "2025-03-10T00:00:00-04:00",
          "2025-03-11T00:00:00-04:00",
          "2025-03-12T00:00:00-04:00",
          "2025-03-13T00:00:00-04:00",
          "2025-03-14T00:00:00-04:00",
          "2025-03-17T00:00:00-04:00",
          "2025-03-18T00:00:00-04:00",
          "2025-03-19T00:00:00-04:00",
          "2025-03-20T00:00:00-04:00",
          "2025-03-21T00:00:00-04:00",
          "2025-03-24T00:00:00-04:00",
          "2025-03-25T00:00:00-04:00",
          "2025-03-26T00:00:00-04:00",
          "2025-03-27T00:00:00-04:00",
          "2025-03-28T00:00:00-04:00",
          "2025-03-31T00:00:00-04:00",
          "2025-04-01T00:00:00-04:00",
          "2025-04-02T00:00:00-04:00",
          "2025-04-03T00:00:00-04:00",
          "2025-04-04T00:00:00-04:00",
          "2025-04-07T00:00:00-04:00",
          "2025-04-08T00:00:00-04:00",
          "2025-04-09T00:00:00-04:00",
          "2025-04-10T00:00:00-04:00",
          "2025-04-11T00:00:00-04:00",
          "2025-04-14T00:00:00-04:00",
          "2025-04-15T00:00:00-04:00",
          "2025-04-16T00:00:00-04:00",
          "2025-04-17T00:00:00-04:00",
          "2025-04-21T00:00:00-04:00",
          "2025-04-22T00:00:00-04:00",
          "2025-04-23T00:00:00-04:00",
          "2025-04-24T00:00:00-04:00",
          "2025-04-25T00:00:00-04:00",
          "2025-04-28T00:00:00-04:00",
          "2025-04-29T00:00:00-04:00",
          "2025-04-30T00:00:00-04:00",
          "2025-05-01T00:00:00-04:00",
          "2025-05-02T00:00:00-04:00",
          "2025-05-05T00:00:00-04:00",
          "2025-05-06T00:00:00-04:00",
          "2025-05-07T00:00:00-04:00",
          "2025-05-08T00:00:00-04:00",
          "2025-05-09T00:00:00-04:00",
          "2025-05-12T00:00:00-04:00",
          "2025-05-13T00:00:00-04:00",
          "2025-05-14T00:00:00-04:00",
          "2025-05-15T00:00:00-04:00",
          "2025-05-16T00:00:00-04:00",
          "2025-05-19T00:00:00-04:00",
          "2025-05-20T00:00:00-04:00",
          "2025-05-21T00:00:00-04:00",
          "2025-05-22T00:00:00-04:00",
          "2025-05-23T00:00:00-04:00",
          "2025-05-27T00:00:00-04:00",
          "2025-05-28T00:00:00-04:00",
          "2025-05-29T00:00:00-04:00",
          "2025-05-30T00:00:00-04:00",
          "2025-06-02T00:00:00-04:00",
          "2025-06-03T00:00:00-04:00",
          "2025-06-04T00:00:00-04:00",
          "2025-06-05T00:00:00-04:00",
          "2025-06-06T00:00:00-04:00",
          "2025-06-09T00:00:00-04:00",
          "2025-06-10T00:00:00-04:00",
          "2025-06-11T00:00:00-04:00",
          "2025-06-12T00:00:00-04:00",
          "2025-06-13T00:00:00-04:00"
         ],
         "xaxis": "x3",
         "y": [
          0,
          0.652,
          -0.44,
          0.677,
          1.222,
          -0.21,
          -0.138,
          1.548,
          2.696,
          3.996,
          3.208,
          2.077,
          1.298,
          1.442,
          1.15,
          4.576,
          3.788,
          4.36,
          5.554,
          4.377,
          5.427,
          5.038,
          5.461,
          6.457,
          6.139,
          5.754,
          9.091,
          8.761,
          11.022,
          11.221,
          11.785,
          14.195,
          13.369,
          12.742,
          15.47,
          17.964,
          15.808,
          18.07,
          19.438,
          20.743,
          19.942,
          19.379,
          19.087,
          18.515,
          18.036,
          17.295,
          17.553,
          18.337,
          20.154,
          23.343,
          19.98,
          15.749,
          16.312,
          15.567,
          16.05,
          16.232,
          15.431,
          16.334,
          18.108,
          19.866,
          20.408,
          19.112,
          21.599,
          9.16,
          8.155,
          10.32,
          14.443,
          15.744,
          16.786,
          18.023,
          16.985,
          16.57,
          12.469,
          9.062,
          12.312,
          12.291,
          12.358,
          12.282,
          14.218,
          17.07,
          19.37,
          17.642,
          19.824,
          19.548,
          20.184,
          21.336,
          20.294,
          20.544,
          18.739,
          19.731,
          17.858,
          19.12,
          21.188,
          22.124,
          21.019,
          19.057,
          17.413,
          17.489,
          18.104,
          17.375,
          17.489,
          20.722,
          22.336,
          21.705,
          19.553,
          18.718,
          18.345,
          14.951,
          12.485,
          11.524,
          13.727,
          13.485
         ],
         "yaxis": "y3"
        }
       ],
       "layout": {
        "annotations": [
         {
          "font": {},
          "showarrow": false,
          "text": "Sector=Technology",
          "x": 0.15999999999999998,
          "xanchor": "center",
          "xref": "paper",
          "y": 1,
          "yanchor": "bottom",
          "yref": "paper"
         },
         {
          "font": {},
          "showarrow": false,
          "text": "Sector=Communication Services",
          "x": 0.49999999999999994,
          "xanchor": "center",
          "xref": "paper",
          "y": 1,
          "yanchor": "bottom",
          "yref": "paper"
         },
         {
          "font": {},
          "showarrow": false,
          "text": "Sector=Financial Services",
          "x": 0.8399999999999999,
          "xanchor": "center",
          "xref": "paper",
          "y": 1,
          "yanchor": "bottom",
          "yref": "paper"
         }
        ],
        "legend": {
         "title": {
          "text": "Security"
         },
         "tracegroupgap": 0
        },
        "margin": {
         "t": 60
        },
        "template": {
         "data": {
          "bar": [
           {
            "error_x": {
             "color": "#2a3f5f"
            },
            "error_y": {
             "color": "#2a3f5f"
            },
            "marker": {
             "line": {
              "color": "#E5ECF6",
              "width": 0.5
             },
             "pattern": {
              "fillmode": "overlay",
              "size": 10,
              "solidity": 0.2
             }
            },
            "type": "bar"
           }
          ],
          "barpolar": [
           {
            "marker": {
             "line": {
              "color": "#E5ECF6",
              "width": 0.5
             },
             "pattern": {
              "fillmode": "overlay",
              "size": 10,
              "solidity": 0.2
             }
            },
            "type": "barpolar"
           }
          ],
          "carpet": [
           {
            "aaxis": {
             "endlinecolor": "#2a3f5f",
             "gridcolor": "white",
             "linecolor": "white",
             "minorgridcolor": "white",
             "startlinecolor": "#2a3f5f"
            },
            "baxis": {
             "endlinecolor": "#2a3f5f",
             "gridcolor": "white",
             "linecolor": "white",
             "minorgridcolor": "white",
             "startlinecolor": "#2a3f5f"
            },
            "type": "carpet"
           }
          ],
          "choropleth": [
           {
            "colorbar": {
             "outlinewidth": 0,
             "ticks": ""
            },
            "type": "choropleth"
           }
          ],
          "contour": [
           {
            "colorbar": {
             "outlinewidth": 0,
             "ticks": ""
            },
            "colorscale": [
             [
              0,
              "#0d0887"
             ],
             [
              0.1111111111111111,
              "#46039f"
             ],
             [
              0.2222222222222222,
              "#7201a8"
             ],
             [
              0.3333333333333333,
              "#9c179e"
             ],
             [
              0.4444444444444444,
              "#bd3786"
             ],
             [
              0.5555555555555556,
              "#d8576b"
             ],
             [
              0.6666666666666666,
              "#ed7953"
             ],
             [
              0.7777777777777778,
              "#fb9f3a"
             ],
             [
              0.8888888888888888,
              "#fdca26"
             ],
             [
              1,
              "#f0f921"
             ]
            ],
            "type": "contour"
           }
          ],
          "contourcarpet": [
           {
            "colorbar": {
             "outlinewidth": 0,
             "ticks": ""
            },
            "type": "contourcarpet"
           }
          ],
          "heatmap": [
           {
            "colorbar": {
             "outlinewidth": 0,
             "ticks": ""
            },
            "colorscale": [
             [
              0,
              "#0d0887"
             ],
             [
              0.1111111111111111,
              "#46039f"
             ],
             [
              0.2222222222222222,
              "#7201a8"
             ],
             [
              0.3333333333333333,
              "#9c179e"
             ],
             [
              0.4444444444444444,
              "#bd3786"
             ],
             [
              0.5555555555555556,
              "#d8576b"
             ],
             [
              0.6666666666666666,
              "#ed7953"
             ],
             [
              0.7777777777777778,
              "#fb9f3a"
             ],
             [
              0.8888888888888888,
              "#fdca26"
             ],
             [
              1,
              "#f0f921"
             ]
            ],
            "type": "heatmap"
           }
          ],
          "heatmapgl": [
           {
            "colorbar": {
             "outlinewidth": 0,
             "ticks": ""
            },
            "colorscale": [
             [
              0,
              "#0d0887"
             ],
             [
              0.1111111111111111,
              "#46039f"
             ],
             [
              0.2222222222222222,
              "#7201a8"
             ],
             [
              0.3333333333333333,
              "#9c179e"
             ],
             [
              0.4444444444444444,
              "#bd3786"
             ],
             [
              0.5555555555555556,
              "#d8576b"
             ],
             [
              0.6666666666666666,
              "#ed7953"
             ],
             [
              0.7777777777777778,
              "#fb9f3a"
             ],
             [
              0.8888888888888888,
              "#fdca26"
             ],
             [
              1,
              "#f0f921"
             ]
            ],
            "type": "heatmapgl"
           }
          ],
          "histogram": [
           {
            "marker": {
             "pattern": {
              "fillmode": "overlay",
              "size": 10,
              "solidity": 0.2
             }
            },
            "type": "histogram"
           }
          ],
          "histogram2d": [
           {
            "colorbar": {
             "outlinewidth": 0,
             "ticks": ""
            },
            "colorscale": [
             [
              0,
              "#0d0887"
             ],
             [
              0.1111111111111111,
              "#46039f"
             ],
             [
              0.2222222222222222,
              "#7201a8"
             ],
             [
              0.3333333333333333,
              "#9c179e"
             ],
             [
              0.4444444444444444,
              "#bd3786"
             ],
             [
              0.5555555555555556,
              "#d8576b"
             ],
             [
              0.6666666666666666,
              "#ed7953"
             ],
             [
              0.7777777777777778,
              "#fb9f3a"
             ],
             [
              0.8888888888888888,
              "#fdca26"
             ],
             [
              1,
              "#f0f921"
             ]
            ],
            "type": "histogram2d"
           }
          ],
          "histogram2dcontour": [
           {
            "colorbar": {
             "outlinewidth": 0,
             "ticks": ""
            },
            "colorscale": [
             [
              0,
              "#0d0887"
             ],
             [
              0.1111111111111111,
              "#46039f"
             ],
             [
              0.2222222222222222,
              "#7201a8"
             ],
             [
              0.3333333333333333,
              "#9c179e"
             ],
             [
              0.4444444444444444,
              "#bd3786"
             ],
             [
              0.5555555555555556,
              "#d8576b"
             ],
             [
              0.6666666666666666,
              "#ed7953"
             ],
             [
              0.7777777777777778,
              "#fb9f3a"
             ],
             [
              0.8888888888888888,
              "#fdca26"
             ],
             [
              1,
              "#f0f921"
             ]
            ],
            "type": "histogram2dcontour"
           }
          ],
          "mesh3d": [
           {
            "colorbar": {
             "outlinewidth": 0,
             "ticks": ""
            },
            "type": "mesh3d"
           }
          ],
          "parcoords": [
           {
            "line": {
             "colorbar": {
              "outlinewidth": 0,
              "ticks": ""
             }
            },
            "type": "parcoords"
           }
          ],
          "pie": [
           {
            "automargin": true,
            "type": "pie"
           }
          ],
          "scatter": [
           {
            "fillpattern": {
             "fillmode": "overlay",
             "size": 10,
             "solidity": 0.2
            },
            "type": "scatter"
           }
          ],
          "scatter3d": [
           {
            "line": {
             "colorbar": {
              "outlinewidth": 0,
              "ticks": ""
             }
            },
            "marker": {
             "colorbar": {
              "outlinewidth": 0,
              "ticks": ""
             }
            },
            "type": "scatter3d"
           }
          ],
          "scattercarpet": [
           {
            "marker": {
             "colorbar": {
              "outlinewidth": 0,
              "ticks": ""
             }
            },
            "type": "scattercarpet"
           }
          ],
          "scattergeo": [
           {
            "marker": {
             "colorbar": {
              "outlinewidth": 0,
              "ticks": ""
             }
            },
            "type": "scattergeo"
           }
          ],
          "scattergl": [
           {
            "marker": {
             "colorbar": {
              "outlinewidth": 0,
              "ticks": ""
             }
            },
            "type": "scattergl"
           }
          ],
          "scattermapbox": [
           {
            "marker": {
             "colorbar": {
              "outlinewidth": 0,
              "ticks": ""
             }
            },
            "type": "scattermapbox"
           }
          ],
          "scatterpolar": [
           {
            "marker": {
             "colorbar": {
              "outlinewidth": 0,
              "ticks": ""
             }
            },
            "type": "scatterpolar"
           }
          ],
          "scatterpolargl": [
           {
            "marker": {
             "colorbar": {
              "outlinewidth": 0,
              "ticks": ""
             }
            },
            "type": "scatterpolargl"
           }
          ],
          "scatterternary": [
           {
            "marker": {
             "colorbar": {
              "outlinewidth": 0,
              "ticks": ""
             }
            },
            "type": "scatterternary"
           }
          ],
          "surface": [
           {
            "colorbar": {
             "outlinewidth": 0,
             "ticks": ""
            },
            "colorscale": [
             [
              0,
              "#0d0887"
             ],
             [
              0.1111111111111111,
              "#46039f"
             ],
             [
              0.2222222222222222,
              "#7201a8"
             ],
             [
              0.3333333333333333,
              "#9c179e"
             ],
             [
              0.4444444444444444,
              "#bd3786"
             ],
             [
              0.5555555555555556,
              "#d8576b"
             ],
             [
              0.6666666666666666,
              "#ed7953"
             ],
             [
              0.7777777777777778,
              "#fb9f3a"
             ],
             [
              0.8888888888888888,
              "#fdca26"
             ],
             [
              1,
              "#f0f921"
             ]
            ],
            "type": "surface"
           }
          ],
          "table": [
           {
            "cells": {
             "fill": {
              "color": "#EBF0F8"
             },
             "line": {
              "color": "white"
             }
            },
            "header": {
             "fill": {
              "color": "#C8D4E3"
             },
             "line": {
              "color": "white"
             }
            },
            "type": "table"
           }
          ]
         },
         "layout": {
          "annotationdefaults": {
           "arrowcolor": "#2a3f5f",
           "arrowhead": 0,
           "arrowwidth": 1
          },
          "autotypenumbers": "strict",
          "coloraxis": {
           "colorbar": {
            "outlinewidth": 0,
            "ticks": ""
           }
          },
          "colorscale": {
           "diverging": [
            [
             0,
             "#8e0152"
            ],
            [
             0.1,
             "#c51b7d"
            ],
            [
             0.2,
             "#de77ae"
            ],
            [
             0.3,
             "#f1b6da"
            ],
            [
             0.4,
             "#fde0ef"
            ],
            [
             0.5,
             "#f7f7f7"
            ],
            [
             0.6,
             "#e6f5d0"
            ],
            [
             0.7,
             "#b8e186"
            ],
            [
             0.8,
             "#7fbc41"
            ],
            [
             0.9,
             "#4d9221"
            ],
            [
             1,
             "#276419"
            ]
           ],
           "sequential": [
            [
             0,
             "#0d0887"
            ],
            [
             0.1111111111111111,
             "#46039f"
            ],
            [
             0.2222222222222222,
             "#7201a8"
            ],
            [
             0.3333333333333333,
             "#9c179e"
            ],
            [
             0.4444444444444444,
             "#bd3786"
            ],
            [
             0.5555555555555556,
             "#d8576b"
            ],
            [
             0.6666666666666666,
             "#ed7953"
            ],
            [
             0.7777777777777778,
             "#fb9f3a"
            ],
            [
             0.8888888888888888,
             "#fdca26"
            ],
            [
             1,
             "#f0f921"
            ]
           ],
           "sequentialminus": [
            [
             0,
             "#0d0887"
            ],
            [
             0.1111111111111111,
             "#46039f"
            ],
            [
             0.2222222222222222,
             "#7201a8"
            ],
            [
             0.3333333333333333,
             "#9c179e"
            ],
            [
             0.4444444444444444,
             "#bd3786"
            ],
            [
             0.5555555555555556,
             "#d8576b"
            ],
            [
             0.6666666666666666,
             "#ed7953"
            ],
            [
             0.7777777777777778,
             "#fb9f3a"
            ],
            [
             0.8888888888888888,
             "#fdca26"
            ],
            [
             1,
             "#f0f921"
            ]
           ]
          },
          "colorway": [
           "#636efa",
           "#EF553B",
           "#00cc96",
           "#ab63fa",
           "#FFA15A",
           "#19d3f3",
           "#FF6692",
           "#B6E880",
           "#FF97FF",
           "#FECB52"
          ],
          "font": {
           "color": "#2a3f5f"
          },
          "geo": {
           "bgcolor": "white",
           "lakecolor": "white",
           "landcolor": "#E5ECF6",
           "showlakes": true,
           "showland": true,
           "subunitcolor": "white"
          },
          "hoverlabel": {
           "align": "left"
          },
          "hovermode": "closest",
          "mapbox": {
           "style": "light"
          },
          "paper_bgcolor": "white",
          "plot_bgcolor": "#E5ECF6",
          "polar": {
           "angularaxis": {
            "gridcolor": "white",
            "linecolor": "white",
            "ticks": ""
           },
           "bgcolor": "#E5ECF6",
           "radialaxis": {
            "gridcolor": "white",
            "linecolor": "white",
            "ticks": ""
           }
          },
          "scene": {
           "xaxis": {
            "backgroundcolor": "#E5ECF6",
            "gridcolor": "white",
            "gridwidth": 2,
            "linecolor": "white",
            "showbackground": true,
            "ticks": "",
            "zerolinecolor": "white"
           },
           "yaxis": {
            "backgroundcolor": "#E5ECF6",
            "gridcolor": "white",
            "gridwidth": 2,
            "linecolor": "white",
            "showbackground": true,
            "ticks": "",
            "zerolinecolor": "white"
           },
           "zaxis": {
            "backgroundcolor": "#E5ECF6",
            "gridcolor": "white",
            "gridwidth": 2,
            "linecolor": "white",
            "showbackground": true,
            "ticks": "",
            "zerolinecolor": "white"
           }
          },
          "shapedefaults": {
           "line": {
            "color": "#2a3f5f"
           }
          },
          "ternary": {
           "aaxis": {
            "gridcolor": "white",
            "linecolor": "white",
            "ticks": ""
           },
           "baxis": {
            "gridcolor": "white",
            "linecolor": "white",
            "ticks": ""
           },
           "bgcolor": "#E5ECF6",
           "caxis": {
            "gridcolor": "white",
            "linecolor": "white",
            "ticks": ""
           }
          },
          "title": {
           "x": 0.05
          },
          "xaxis": {
           "automargin": true,
           "gridcolor": "white",
           "linecolor": "white",
           "ticks": "",
           "title": {
            "standoff": 15
           },
           "zerolinecolor": "white",
           "zerolinewidth": 2
          },
          "yaxis": {
           "automargin": true,
           "gridcolor": "white",
           "linecolor": "white",
           "ticks": "",
           "title": {
            "standoff": 15
           },
           "zerolinecolor": "white",
           "zerolinewidth": 2
          }
         }
        },
        "xaxis": {
         "anchor": "y",
         "domain": [
          0,
          0.31999999999999995
         ],
         "title": {
          "text": "Date"
         }
        },
        "xaxis2": {
         "anchor": "y2",
         "domain": [
          0.33999999999999997,
          0.6599999999999999
         ],
         "matches": "x",
         "title": {
          "text": "Date"
         }
        },
        "xaxis3": {
         "anchor": "y3",
         "domain": [
          0.6799999999999999,
          0.9999999999999999
         ],
         "matches": "x",
         "title": {
          "text": "Date"
         }
        },
        "yaxis": {
         "anchor": "x",
         "domain": [
          0,
          1
         ],
         "title": {
          "text": "YTD Return"
         }
        },
        "yaxis2": {
         "anchor": "x2",
         "domain": [
          0,
          1
         ],
         "matches": "y",
         "showticklabels": false
        },
        "yaxis3": {
         "anchor": "x3",
         "domain": [
          0,
          1
         ],
         "matches": "y",
         "showticklabels": false
        }
       }
      }
     },
     "metadata": {},
     "output_type": "display_data"
    }
   ],
   "source": [
    "ytd_top10= px.line(\n",
    "    hist_data_merge, x='Date', y='YTD Return', color='Security', facet_col='Sector'\n",
    ")\n",
    "ytd_top10.show()"
   ]
  },
  {
   "cell_type": "code",
   "execution_count": 82,
   "id": "2a04985f",
   "metadata": {},
   "outputs": [
    {
     "data": {
      "application/vnd.plotly.v1+json": {
       "config": {
        "plotlyServerURL": "https://plotly.com"
       },
       "data": [
        {
         "hovertemplate": "Security=Microsoft<br>Date=%{x}<br>YTD Return=%{y}<extra></extra>",
         "legendgroup": "Microsoft",
         "line": {
          "color": "#4C78A8",
          "dash": "solid"
         },
         "marker": {
          "symbol": "circle"
         },
         "mode": "lines",
         "name": "Microsoft",
         "showlegend": true,
         "type": "scattergl",
         "x": [
          "2025-01-02T00:00:00-05:00",
          "2025-01-03T00:00:00-05:00",
          "2025-01-06T00:00:00-05:00",
          "2025-01-07T00:00:00-05:00",
          "2025-01-08T00:00:00-05:00",
          "2025-01-10T00:00:00-05:00",
          "2025-01-13T00:00:00-05:00",
          "2025-01-14T00:00:00-05:00",
          "2025-01-15T00:00:00-05:00",
          "2025-01-16T00:00:00-05:00",
          "2025-01-17T00:00:00-05:00",
          "2025-01-21T00:00:00-05:00",
          "2025-01-22T00:00:00-05:00",
          "2025-01-23T00:00:00-05:00",
          "2025-01-24T00:00:00-05:00",
          "2025-01-27T00:00:00-05:00",
          "2025-01-28T00:00:00-05:00",
          "2025-01-29T00:00:00-05:00",
          "2025-01-30T00:00:00-05:00",
          "2025-01-31T00:00:00-05:00",
          "2025-02-03T00:00:00-05:00",
          "2025-02-04T00:00:00-05:00",
          "2025-02-05T00:00:00-05:00",
          "2025-02-06T00:00:00-05:00",
          "2025-02-07T00:00:00-05:00",
          "2025-02-10T00:00:00-05:00",
          "2025-02-11T00:00:00-05:00",
          "2025-02-12T00:00:00-05:00",
          "2025-02-13T00:00:00-05:00",
          "2025-02-14T00:00:00-05:00",
          "2025-02-18T00:00:00-05:00",
          "2025-02-19T00:00:00-05:00",
          "2025-02-20T00:00:00-05:00",
          "2025-02-21T00:00:00-05:00",
          "2025-02-24T00:00:00-05:00",
          "2025-02-25T00:00:00-05:00",
          "2025-02-26T00:00:00-05:00",
          "2025-02-27T00:00:00-05:00",
          "2025-02-28T00:00:00-05:00",
          "2025-03-03T00:00:00-05:00",
          "2025-03-04T00:00:00-05:00",
          "2025-03-05T00:00:00-05:00",
          "2025-03-06T00:00:00-05:00",
          "2025-03-07T00:00:00-05:00",
          "2025-03-10T00:00:00-04:00",
          "2025-03-11T00:00:00-04:00",
          "2025-03-12T00:00:00-04:00",
          "2025-03-13T00:00:00-04:00",
          "2025-03-14T00:00:00-04:00",
          "2025-03-17T00:00:00-04:00",
          "2025-03-18T00:00:00-04:00",
          "2025-03-19T00:00:00-04:00",
          "2025-03-20T00:00:00-04:00",
          "2025-03-21T00:00:00-04:00",
          "2025-03-24T00:00:00-04:00",
          "2025-03-25T00:00:00-04:00",
          "2025-03-26T00:00:00-04:00",
          "2025-03-27T00:00:00-04:00",
          "2025-03-28T00:00:00-04:00",
          "2025-03-31T00:00:00-04:00",
          "2025-04-01T00:00:00-04:00",
          "2025-04-02T00:00:00-04:00",
          "2025-04-03T00:00:00-04:00",
          "2025-04-04T00:00:00-04:00",
          "2025-04-07T00:00:00-04:00",
          "2025-04-08T00:00:00-04:00",
          "2025-04-09T00:00:00-04:00",
          "2025-04-10T00:00:00-04:00",
          "2025-04-11T00:00:00-04:00",
          "2025-04-14T00:00:00-04:00",
          "2025-04-15T00:00:00-04:00",
          "2025-04-16T00:00:00-04:00",
          "2025-04-17T00:00:00-04:00",
          "2025-04-21T00:00:00-04:00",
          "2025-04-22T00:00:00-04:00",
          "2025-04-23T00:00:00-04:00",
          "2025-04-24T00:00:00-04:00",
          "2025-04-25T00:00:00-04:00",
          "2025-04-28T00:00:00-04:00",
          "2025-04-29T00:00:00-04:00",
          "2025-04-30T00:00:00-04:00",
          "2025-05-01T00:00:00-04:00",
          "2025-05-02T00:00:00-04:00",
          "2025-05-05T00:00:00-04:00",
          "2025-05-06T00:00:00-04:00",
          "2025-05-07T00:00:00-04:00",
          "2025-05-08T00:00:00-04:00",
          "2025-05-09T00:00:00-04:00",
          "2025-05-12T00:00:00-04:00",
          "2025-05-13T00:00:00-04:00",
          "2025-05-14T00:00:00-04:00",
          "2025-05-15T00:00:00-04:00",
          "2025-05-16T00:00:00-04:00",
          "2025-05-19T00:00:00-04:00",
          "2025-05-20T00:00:00-04:00",
          "2025-05-21T00:00:00-04:00",
          "2025-05-22T00:00:00-04:00",
          "2025-05-23T00:00:00-04:00",
          "2025-05-27T00:00:00-04:00",
          "2025-05-28T00:00:00-04:00",
          "2025-05-29T00:00:00-04:00",
          "2025-05-30T00:00:00-04:00",
          "2025-06-02T00:00:00-04:00",
          "2025-06-03T00:00:00-04:00",
          "2025-06-04T00:00:00-04:00",
          "2025-06-05T00:00:00-04:00",
          "2025-06-06T00:00:00-04:00",
          "2025-06-09T00:00:00-04:00",
          "2025-06-10T00:00:00-04:00",
          "2025-06-11T00:00:00-04:00",
          "2025-06-12T00:00:00-04:00",
          "2025-06-13T00:00:00-04:00"
         ],
         "xaxis": "x",
         "y": [
          0,
          1.14,
          2.215,
          0.905,
          1.429,
          0.088,
          -0.332,
          -0.695,
          1.847,
          1.433,
          2.497,
          2.37,
          6.599,
          6.72,
          6.087,
          3.818,
          6.837,
          5.674,
          -0.858,
          -0.841,
          -1.83,
          -1.484,
          -1.264,
          -0.659,
          -2.11,
          -1.519,
          -1.706,
          -2.279,
          -1.921,
          -2.425,
          -2.136,
          -0.91,
          -0.386,
          -2.282,
          -3.29,
          -4.75,
          -4.312,
          -6.035,
          -4.968,
          -7.002,
          -6.974,
          -4.003,
          -4.992,
          -5.849,
          -8.997,
          -8.927,
          -8.252,
          -9.329,
          -6.986,
          -6.952,
          -8.192,
          -7.163,
          -7.397,
          -6.339,
          -5.904,
          -5.406,
          -6.648,
          -6.502,
          -9.322,
          -10.138,
          -8.511,
          -8.523,
          -10.684,
          -13.861,
          -14.335,
          -15.125,
          -6.524,
          -8.712,
          -7.012,
          -7.165,
          -7.663,
          -11.043,
          -11.96,
          -14.033,
          -12.19,
          -10.378,
          -7.287,
          -6.198,
          -6.363,
          -5.674,
          -5.382,
          1.833,
          4.198,
          4.411,
          3.727,
          3.736,
          4.89,
          5.024,
          7.545,
          7.516,
          8.426,
          8.67,
          8.944,
          10.047,
          9.879,
          8.536,
          9.085,
          7.963,
          10.483,
          9.685,
          10.001,
          10.404,
          10.79,
          11.03,
          11.246,
          12.16,
          12.807,
          13.376,
          12.937,
          13.344,
          14.843,
          13.906
         ],
         "yaxis": "y"
        },
        {
         "hovertemplate": "Security=Nvidia<br>Date=%{x}<br>YTD Return=%{y}<extra></extra>",
         "legendgroup": "Nvidia",
         "line": {
          "color": "#F58518",
          "dash": "solid"
         },
         "marker": {
          "symbol": "circle"
         },
         "mode": "lines",
         "name": "Nvidia",
         "showlegend": true,
         "type": "scattergl",
         "x": [
          "2025-01-02T00:00:00-05:00",
          "2025-01-03T00:00:00-05:00",
          "2025-01-06T00:00:00-05:00",
          "2025-01-07T00:00:00-05:00",
          "2025-01-08T00:00:00-05:00",
          "2025-01-10T00:00:00-05:00",
          "2025-01-13T00:00:00-05:00",
          "2025-01-14T00:00:00-05:00",
          "2025-01-15T00:00:00-05:00",
          "2025-01-16T00:00:00-05:00",
          "2025-01-17T00:00:00-05:00",
          "2025-01-21T00:00:00-05:00",
          "2025-01-22T00:00:00-05:00",
          "2025-01-23T00:00:00-05:00",
          "2025-01-24T00:00:00-05:00",
          "2025-01-27T00:00:00-05:00",
          "2025-01-28T00:00:00-05:00",
          "2025-01-29T00:00:00-05:00",
          "2025-01-30T00:00:00-05:00",
          "2025-01-31T00:00:00-05:00",
          "2025-02-03T00:00:00-05:00",
          "2025-02-04T00:00:00-05:00",
          "2025-02-05T00:00:00-05:00",
          "2025-02-06T00:00:00-05:00",
          "2025-02-07T00:00:00-05:00",
          "2025-02-10T00:00:00-05:00",
          "2025-02-11T00:00:00-05:00",
          "2025-02-12T00:00:00-05:00",
          "2025-02-13T00:00:00-05:00",
          "2025-02-14T00:00:00-05:00",
          "2025-02-18T00:00:00-05:00",
          "2025-02-19T00:00:00-05:00",
          "2025-02-20T00:00:00-05:00",
          "2025-02-21T00:00:00-05:00",
          "2025-02-24T00:00:00-05:00",
          "2025-02-25T00:00:00-05:00",
          "2025-02-26T00:00:00-05:00",
          "2025-02-27T00:00:00-05:00",
          "2025-02-28T00:00:00-05:00",
          "2025-03-03T00:00:00-05:00",
          "2025-03-04T00:00:00-05:00",
          "2025-03-05T00:00:00-05:00",
          "2025-03-06T00:00:00-05:00",
          "2025-03-07T00:00:00-05:00",
          "2025-03-10T00:00:00-04:00",
          "2025-03-11T00:00:00-04:00",
          "2025-03-12T00:00:00-04:00",
          "2025-03-13T00:00:00-04:00",
          "2025-03-14T00:00:00-04:00",
          "2025-03-17T00:00:00-04:00",
          "2025-03-18T00:00:00-04:00",
          "2025-03-19T00:00:00-04:00",
          "2025-03-20T00:00:00-04:00",
          "2025-03-21T00:00:00-04:00",
          "2025-03-24T00:00:00-04:00",
          "2025-03-25T00:00:00-04:00",
          "2025-03-26T00:00:00-04:00",
          "2025-03-27T00:00:00-04:00",
          "2025-03-28T00:00:00-04:00",
          "2025-03-31T00:00:00-04:00",
          "2025-04-01T00:00:00-04:00",
          "2025-04-02T00:00:00-04:00",
          "2025-04-03T00:00:00-04:00",
          "2025-04-04T00:00:00-04:00",
          "2025-04-07T00:00:00-04:00",
          "2025-04-08T00:00:00-04:00",
          "2025-04-09T00:00:00-04:00",
          "2025-04-10T00:00:00-04:00",
          "2025-04-11T00:00:00-04:00",
          "2025-04-14T00:00:00-04:00",
          "2025-04-15T00:00:00-04:00",
          "2025-04-16T00:00:00-04:00",
          "2025-04-17T00:00:00-04:00",
          "2025-04-21T00:00:00-04:00",
          "2025-04-22T00:00:00-04:00",
          "2025-04-23T00:00:00-04:00",
          "2025-04-24T00:00:00-04:00",
          "2025-04-25T00:00:00-04:00",
          "2025-04-28T00:00:00-04:00",
          "2025-04-29T00:00:00-04:00",
          "2025-04-30T00:00:00-04:00",
          "2025-05-01T00:00:00-04:00",
          "2025-05-02T00:00:00-04:00",
          "2025-05-05T00:00:00-04:00",
          "2025-05-06T00:00:00-04:00",
          "2025-05-07T00:00:00-04:00",
          "2025-05-08T00:00:00-04:00",
          "2025-05-09T00:00:00-04:00",
          "2025-05-12T00:00:00-04:00",
          "2025-05-13T00:00:00-04:00",
          "2025-05-14T00:00:00-04:00",
          "2025-05-15T00:00:00-04:00",
          "2025-05-16T00:00:00-04:00",
          "2025-05-19T00:00:00-04:00",
          "2025-05-20T00:00:00-04:00",
          "2025-05-21T00:00:00-04:00",
          "2025-05-22T00:00:00-04:00",
          "2025-05-23T00:00:00-04:00",
          "2025-05-27T00:00:00-04:00",
          "2025-05-28T00:00:00-04:00",
          "2025-05-29T00:00:00-04:00",
          "2025-05-30T00:00:00-04:00",
          "2025-06-02T00:00:00-04:00",
          "2025-06-03T00:00:00-04:00",
          "2025-06-04T00:00:00-04:00",
          "2025-06-05T00:00:00-04:00",
          "2025-06-06T00:00:00-04:00",
          "2025-06-09T00:00:00-04:00",
          "2025-06-10T00:00:00-04:00",
          "2025-06-11T00:00:00-04:00",
          "2025-06-12T00:00:00-04:00",
          "2025-06-13T00:00:00-04:00"
         ],
         "xaxis": "x",
         "y": [
          0,
          4.454,
          8.04,
          1.323,
          1.301,
          -1.735,
          -3.673,
          -4.736,
          -1.497,
          -3.427,
          -0.434,
          1.822,
          6.334,
          6.442,
          3.116,
          -14.381,
          -6.738,
          -10.563,
          -9.876,
          -13.188,
          -15.653,
          -14.214,
          -9.746,
          -6.963,
          -6.124,
          -3.427,
          -3.984,
          -5.184,
          -2.184,
          0.39,
          0.788,
          0.665,
          1.301,
          -2.805,
          -5.806,
          -8.445,
          -5.083,
          -13.13,
          -9.681,
          -17.533,
          -16.138,
          -15.191,
          -20.056,
          -18.524,
          -22.652,
          -21.365,
          -16.311,
          -16.426,
          -12.023,
          -13.57,
          -16.535,
          -15.024,
          -14.293,
          -14.893,
          -12.211,
          -12.731,
          -17.742,
          -19.427,
          -20.7,
          -21.633,
          -20.353,
          -20.158,
          -26.39,
          -31.806,
          -29.398,
          -30.367,
          -17.33,
          -22.218,
          -19.789,
          -19.948,
          -18.87,
          -24.445,
          -26.615,
          -29.926,
          -28.495,
          -25.732,
          -23.043,
          -19.731,
          -21.38,
          -21.17,
          -21.242,
          -19.297,
          -17.207,
          -17.699,
          -17.901,
          -15.356,
          -15.132,
          -15.653,
          -11.061,
          -6.05,
          -2.138,
          -2.507,
          -2.095,
          -1.972,
          -2.833,
          -4.698,
          -3.953,
          -5.067,
          -2.023,
          -2.522,
          0.646,
          -2.29,
          -0.663,
          2.113,
          2.62,
          1.224,
          2.475,
          3.133,
          4.095,
          3.285,
          4.854,
          2.663
         ],
         "yaxis": "y"
        },
        {
         "hovertemplate": "Security=Apple Inc.<br>Date=%{x}<br>YTD Return=%{y}<extra></extra>",
         "legendgroup": "Apple Inc.",
         "line": {
          "color": "#E45756",
          "dash": "solid"
         },
         "marker": {
          "symbol": "circle"
         },
         "mode": "lines",
         "name": "Apple Inc.",
         "showlegend": true,
         "type": "scattergl",
         "x": [
          "2025-01-02T00:00:00-05:00",
          "2025-01-03T00:00:00-05:00",
          "2025-01-06T00:00:00-05:00",
          "2025-01-07T00:00:00-05:00",
          "2025-01-08T00:00:00-05:00",
          "2025-01-10T00:00:00-05:00",
          "2025-01-13T00:00:00-05:00",
          "2025-01-14T00:00:00-05:00",
          "2025-01-15T00:00:00-05:00",
          "2025-01-16T00:00:00-05:00",
          "2025-01-17T00:00:00-05:00",
          "2025-01-21T00:00:00-05:00",
          "2025-01-22T00:00:00-05:00",
          "2025-01-23T00:00:00-05:00",
          "2025-01-24T00:00:00-05:00",
          "2025-01-27T00:00:00-05:00",
          "2025-01-28T00:00:00-05:00",
          "2025-01-29T00:00:00-05:00",
          "2025-01-30T00:00:00-05:00",
          "2025-01-31T00:00:00-05:00",
          "2025-02-03T00:00:00-05:00",
          "2025-02-04T00:00:00-05:00",
          "2025-02-05T00:00:00-05:00",
          "2025-02-06T00:00:00-05:00",
          "2025-02-07T00:00:00-05:00",
          "2025-02-10T00:00:00-05:00",
          "2025-02-11T00:00:00-05:00",
          "2025-02-12T00:00:00-05:00",
          "2025-02-13T00:00:00-05:00",
          "2025-02-14T00:00:00-05:00",
          "2025-02-18T00:00:00-05:00",
          "2025-02-19T00:00:00-05:00",
          "2025-02-20T00:00:00-05:00",
          "2025-02-21T00:00:00-05:00",
          "2025-02-24T00:00:00-05:00",
          "2025-02-25T00:00:00-05:00",
          "2025-02-26T00:00:00-05:00",
          "2025-02-27T00:00:00-05:00",
          "2025-02-28T00:00:00-05:00",
          "2025-03-03T00:00:00-05:00",
          "2025-03-04T00:00:00-05:00",
          "2025-03-05T00:00:00-05:00",
          "2025-03-06T00:00:00-05:00",
          "2025-03-07T00:00:00-05:00",
          "2025-03-10T00:00:00-04:00",
          "2025-03-11T00:00:00-04:00",
          "2025-03-12T00:00:00-04:00",
          "2025-03-13T00:00:00-04:00",
          "2025-03-14T00:00:00-04:00",
          "2025-03-17T00:00:00-04:00",
          "2025-03-18T00:00:00-04:00",
          "2025-03-19T00:00:00-04:00",
          "2025-03-20T00:00:00-04:00",
          "2025-03-21T00:00:00-04:00",
          "2025-03-24T00:00:00-04:00",
          "2025-03-25T00:00:00-04:00",
          "2025-03-26T00:00:00-04:00",
          "2025-03-27T00:00:00-04:00",
          "2025-03-28T00:00:00-04:00",
          "2025-03-31T00:00:00-04:00",
          "2025-04-01T00:00:00-04:00",
          "2025-04-02T00:00:00-04:00",
          "2025-04-03T00:00:00-04:00",
          "2025-04-04T00:00:00-04:00",
          "2025-04-07T00:00:00-04:00",
          "2025-04-08T00:00:00-04:00",
          "2025-04-09T00:00:00-04:00",
          "2025-04-10T00:00:00-04:00",
          "2025-04-11T00:00:00-04:00",
          "2025-04-14T00:00:00-04:00",
          "2025-04-15T00:00:00-04:00",
          "2025-04-16T00:00:00-04:00",
          "2025-04-17T00:00:00-04:00",
          "2025-04-21T00:00:00-04:00",
          "2025-04-22T00:00:00-04:00",
          "2025-04-23T00:00:00-04:00",
          "2025-04-24T00:00:00-04:00",
          "2025-04-25T00:00:00-04:00",
          "2025-04-28T00:00:00-04:00",
          "2025-04-29T00:00:00-04:00",
          "2025-04-30T00:00:00-04:00",
          "2025-05-01T00:00:00-04:00",
          "2025-05-02T00:00:00-04:00",
          "2025-05-05T00:00:00-04:00",
          "2025-05-06T00:00:00-04:00",
          "2025-05-07T00:00:00-04:00",
          "2025-05-08T00:00:00-04:00",
          "2025-05-09T00:00:00-04:00",
          "2025-05-12T00:00:00-04:00",
          "2025-05-13T00:00:00-04:00",
          "2025-05-14T00:00:00-04:00",
          "2025-05-15T00:00:00-04:00",
          "2025-05-16T00:00:00-04:00",
          "2025-05-19T00:00:00-04:00",
          "2025-05-20T00:00:00-04:00",
          "2025-05-21T00:00:00-04:00",
          "2025-05-22T00:00:00-04:00",
          "2025-05-23T00:00:00-04:00",
          "2025-05-27T00:00:00-04:00",
          "2025-05-28T00:00:00-04:00",
          "2025-05-29T00:00:00-04:00",
          "2025-05-30T00:00:00-04:00",
          "2025-06-02T00:00:00-04:00",
          "2025-06-03T00:00:00-04:00",
          "2025-06-04T00:00:00-04:00",
          "2025-06-05T00:00:00-04:00",
          "2025-06-06T00:00:00-04:00",
          "2025-06-09T00:00:00-04:00",
          "2025-06-10T00:00:00-04:00",
          "2025-06-11T00:00:00-04:00",
          "2025-06-12T00:00:00-04:00",
          "2025-06-13T00:00:00-04:00"
         ],
         "xaxis": "x",
         "y": [
          0,
          -0.201,
          0.472,
          -0.673,
          -0.472,
          -2.871,
          -3.875,
          -4.335,
          -2.452,
          -6.393,
          -5.688,
          -8.698,
          -8.21,
          -8.28,
          -8.641,
          -5.737,
          -2.292,
          -1.841,
          -2.567,
          -3.219,
          -6.496,
          -4.531,
          -4.667,
          -4.359,
          -6.652,
          -6.541,
          -4.5,
          -2.756,
          -0.843,
          0.418,
          0.364,
          0.529,
          0.923,
          0.808,
          1.444,
          1.42,
          -1.323,
          -2.579,
          -0.715,
          -2.279,
          -3.142,
          -3.22,
          -3.388,
          -1.852,
          -6.611,
          -9.337,
          -10.921,
          -13.918,
          -12.354,
          -12.145,
          -12.682,
          -11.636,
          -12.104,
          -10.392,
          -9.382,
          -8.142,
          -9.053,
          -8.101,
          -10.544,
          -8.807,
          -8.372,
          -8.084,
          -16.583,
          -22.663,
          -25.504,
          -29.215,
          -18.364,
          -21.825,
          -18.652,
          -16.858,
          -17.014,
          -20.245,
          -19.132,
          -20.7,
          -17.999,
          -16.004,
          -14.456,
          -14.082,
          -13.729,
          -13.29,
          -12.76,
          -12.424,
          -15.696,
          -18.348,
          -18.504,
          -19.432,
          -18.923,
          -18.496,
          -13.349,
          -12.469,
          -12.716,
          -13.078,
          -13.156,
          -14.175,
          -14.965,
          -16.925,
          -17.225,
          -19.729,
          -17.698,
          -17.612,
          -17.805,
          -17.435,
          -17.086,
          -16.44,
          -16.625,
          -17.526,
          -16.173,
          -17.188,
          -16.687,
          -18.286,
          -18.113,
          -19.244
         ],
         "yaxis": "y"
        },
        {
         "hovertemplate": "Security=Broadcom<br>Date=%{x}<br>YTD Return=%{y}<extra></extra>",
         "legendgroup": "Broadcom",
         "line": {
          "color": "#72B7B2",
          "dash": "solid"
         },
         "marker": {
          "symbol": "circle"
         },
         "mode": "lines",
         "name": "Broadcom",
         "showlegend": true,
         "type": "scattergl",
         "x": [
          "2025-01-02T00:00:00-05:00",
          "2025-01-03T00:00:00-05:00",
          "2025-01-06T00:00:00-05:00",
          "2025-01-07T00:00:00-05:00",
          "2025-01-08T00:00:00-05:00",
          "2025-01-10T00:00:00-05:00",
          "2025-01-13T00:00:00-05:00",
          "2025-01-14T00:00:00-05:00",
          "2025-01-15T00:00:00-05:00",
          "2025-01-16T00:00:00-05:00",
          "2025-01-17T00:00:00-05:00",
          "2025-01-21T00:00:00-05:00",
          "2025-01-22T00:00:00-05:00",
          "2025-01-23T00:00:00-05:00",
          "2025-01-24T00:00:00-05:00",
          "2025-01-27T00:00:00-05:00",
          "2025-01-28T00:00:00-05:00",
          "2025-01-29T00:00:00-05:00",
          "2025-01-30T00:00:00-05:00",
          "2025-01-31T00:00:00-05:00",
          "2025-02-03T00:00:00-05:00",
          "2025-02-04T00:00:00-05:00",
          "2025-02-05T00:00:00-05:00",
          "2025-02-06T00:00:00-05:00",
          "2025-02-07T00:00:00-05:00",
          "2025-02-10T00:00:00-05:00",
          "2025-02-11T00:00:00-05:00",
          "2025-02-12T00:00:00-05:00",
          "2025-02-13T00:00:00-05:00",
          "2025-02-14T00:00:00-05:00",
          "2025-02-18T00:00:00-05:00",
          "2025-02-19T00:00:00-05:00",
          "2025-02-20T00:00:00-05:00",
          "2025-02-21T00:00:00-05:00",
          "2025-02-24T00:00:00-05:00",
          "2025-02-25T00:00:00-05:00",
          "2025-02-26T00:00:00-05:00",
          "2025-02-27T00:00:00-05:00",
          "2025-02-28T00:00:00-05:00",
          "2025-03-03T00:00:00-05:00",
          "2025-03-04T00:00:00-05:00",
          "2025-03-05T00:00:00-05:00",
          "2025-03-06T00:00:00-05:00",
          "2025-03-07T00:00:00-05:00",
          "2025-03-10T00:00:00-04:00",
          "2025-03-11T00:00:00-04:00",
          "2025-03-12T00:00:00-04:00",
          "2025-03-13T00:00:00-04:00",
          "2025-03-14T00:00:00-04:00",
          "2025-03-17T00:00:00-04:00",
          "2025-03-18T00:00:00-04:00",
          "2025-03-19T00:00:00-04:00",
          "2025-03-20T00:00:00-04:00",
          "2025-03-21T00:00:00-04:00",
          "2025-03-24T00:00:00-04:00",
          "2025-03-25T00:00:00-04:00",
          "2025-03-26T00:00:00-04:00",
          "2025-03-27T00:00:00-04:00",
          "2025-03-28T00:00:00-04:00",
          "2025-03-31T00:00:00-04:00",
          "2025-04-01T00:00:00-04:00",
          "2025-04-02T00:00:00-04:00",
          "2025-04-03T00:00:00-04:00",
          "2025-04-04T00:00:00-04:00",
          "2025-04-07T00:00:00-04:00",
          "2025-04-08T00:00:00-04:00",
          "2025-04-09T00:00:00-04:00",
          "2025-04-10T00:00:00-04:00",
          "2025-04-11T00:00:00-04:00",
          "2025-04-14T00:00:00-04:00",
          "2025-04-15T00:00:00-04:00",
          "2025-04-16T00:00:00-04:00",
          "2025-04-17T00:00:00-04:00",
          "2025-04-21T00:00:00-04:00",
          "2025-04-22T00:00:00-04:00",
          "2025-04-23T00:00:00-04:00",
          "2025-04-24T00:00:00-04:00",
          "2025-04-25T00:00:00-04:00",
          "2025-04-28T00:00:00-04:00",
          "2025-04-29T00:00:00-04:00",
          "2025-04-30T00:00:00-04:00",
          "2025-05-01T00:00:00-04:00",
          "2025-05-02T00:00:00-04:00",
          "2025-05-05T00:00:00-04:00",
          "2025-05-06T00:00:00-04:00",
          "2025-05-07T00:00:00-04:00",
          "2025-05-08T00:00:00-04:00",
          "2025-05-09T00:00:00-04:00",
          "2025-05-12T00:00:00-04:00",
          "2025-05-13T00:00:00-04:00",
          "2025-05-14T00:00:00-04:00",
          "2025-05-15T00:00:00-04:00",
          "2025-05-16T00:00:00-04:00",
          "2025-05-19T00:00:00-04:00",
          "2025-05-20T00:00:00-04:00",
          "2025-05-21T00:00:00-04:00",
          "2025-05-22T00:00:00-04:00",
          "2025-05-23T00:00:00-04:00",
          "2025-05-27T00:00:00-04:00",
          "2025-05-28T00:00:00-04:00",
          "2025-05-29T00:00:00-04:00",
          "2025-05-30T00:00:00-04:00",
          "2025-06-02T00:00:00-04:00",
          "2025-06-03T00:00:00-04:00",
          "2025-06-04T00:00:00-04:00",
          "2025-06-05T00:00:00-04:00",
          "2025-06-06T00:00:00-04:00",
          "2025-06-09T00:00:00-04:00",
          "2025-06-10T00:00:00-04:00",
          "2025-06-11T00:00:00-04:00",
          "2025-06-12T00:00:00-04:00",
          "2025-06-13T00:00:00-04:00"
         ],
         "xaxis": "x",
         "y": [
          0,
          0.246,
          1.91,
          -1.44,
          -1.151,
          -3.306,
          -2.884,
          -3.138,
          -1.716,
          -1.108,
          2.354,
          3.591,
          3.849,
          3.578,
          5.483,
          -12.867,
          -10.613,
          -11.048,
          -7.035,
          -4.617,
          -6.143,
          -4.117,
          0.009,
          -0.267,
          -3.065,
          1.319,
          1.319,
          1.884,
          1.647,
          0.457,
          -1.487,
          -1.401,
          -2.259,
          -5.742,
          -10.367,
          -12.691,
          -8.208,
          -14.734,
          -14.031,
          -19.23,
          -19.183,
          -17.415,
          -22.644,
          -15.958,
          -20.489,
          -18.058,
          -16.273,
          -17.51,
          -15.708,
          -16.157,
          -18.67,
          -15.695,
          -17.615,
          -17.131,
          -17.308,
          -18.601,
          -22.488,
          -25.636,
          -26.877,
          -27.607,
          -27.136,
          -25.592,
          -33.41,
          -36.748,
          -33.354,
          -32.536,
          -19.946,
          -25.502,
          -21.333,
          -22.881,
          -22.626,
          -24.503,
          -26.068,
          -28.135,
          -26.678,
          -23.508,
          -18.648,
          -16.85,
          -16.781,
          -17.343,
          -16.781,
          -14.679,
          -11.951,
          -13.213,
          -13.486,
          -11.445,
          -10.165,
          -9.979,
          -4.194,
          0.493,
          0.363,
          0.588,
          -1.155,
          -0.281,
          0.173,
          -0.67,
          -0.324,
          -1.107,
          1.889,
          3.524,
          4.622,
          4.665,
          7.536,
          11.056,
          12.885,
          12.388,
          6.767,
          5.621,
          5.772,
          9.352,
          10.719,
          7.532
         ],
         "yaxis": "y"
        },
        {
         "hovertemplate": "Security=Oracle Corporation<br>Date=%{x}<br>YTD Return=%{y}<extra></extra>",
         "legendgroup": "Oracle Corporation",
         "line": {
          "color": "#54A24B",
          "dash": "solid"
         },
         "marker": {
          "symbol": "circle"
         },
         "mode": "lines",
         "name": "Oracle Corporation",
         "showlegend": true,
         "type": "scattergl",
         "x": [
          "2025-01-02T00:00:00-05:00",
          "2025-01-03T00:00:00-05:00",
          "2025-01-06T00:00:00-05:00",
          "2025-01-07T00:00:00-05:00",
          "2025-01-08T00:00:00-05:00",
          "2025-01-10T00:00:00-05:00",
          "2025-01-13T00:00:00-05:00",
          "2025-01-14T00:00:00-05:00",
          "2025-01-15T00:00:00-05:00",
          "2025-01-16T00:00:00-05:00",
          "2025-01-17T00:00:00-05:00",
          "2025-01-21T00:00:00-05:00",
          "2025-01-22T00:00:00-05:00",
          "2025-01-23T00:00:00-05:00",
          "2025-01-24T00:00:00-05:00",
          "2025-01-27T00:00:00-05:00",
          "2025-01-28T00:00:00-05:00",
          "2025-01-29T00:00:00-05:00",
          "2025-01-30T00:00:00-05:00",
          "2025-01-31T00:00:00-05:00",
          "2025-02-03T00:00:00-05:00",
          "2025-02-04T00:00:00-05:00",
          "2025-02-05T00:00:00-05:00",
          "2025-02-06T00:00:00-05:00",
          "2025-02-07T00:00:00-05:00",
          "2025-02-10T00:00:00-05:00",
          "2025-02-11T00:00:00-05:00",
          "2025-02-12T00:00:00-05:00",
          "2025-02-13T00:00:00-05:00",
          "2025-02-14T00:00:00-05:00",
          "2025-02-18T00:00:00-05:00",
          "2025-02-19T00:00:00-05:00",
          "2025-02-20T00:00:00-05:00",
          "2025-02-21T00:00:00-05:00",
          "2025-02-24T00:00:00-05:00",
          "2025-02-25T00:00:00-05:00",
          "2025-02-26T00:00:00-05:00",
          "2025-02-27T00:00:00-05:00",
          "2025-02-28T00:00:00-05:00",
          "2025-03-03T00:00:00-05:00",
          "2025-03-04T00:00:00-05:00",
          "2025-03-05T00:00:00-05:00",
          "2025-03-06T00:00:00-05:00",
          "2025-03-07T00:00:00-05:00",
          "2025-03-10T00:00:00-04:00",
          "2025-03-11T00:00:00-04:00",
          "2025-03-12T00:00:00-04:00",
          "2025-03-13T00:00:00-04:00",
          "2025-03-14T00:00:00-04:00",
          "2025-03-17T00:00:00-04:00",
          "2025-03-18T00:00:00-04:00",
          "2025-03-19T00:00:00-04:00",
          "2025-03-20T00:00:00-04:00",
          "2025-03-21T00:00:00-04:00",
          "2025-03-24T00:00:00-04:00",
          "2025-03-25T00:00:00-04:00",
          "2025-03-26T00:00:00-04:00",
          "2025-03-27T00:00:00-04:00",
          "2025-03-28T00:00:00-04:00",
          "2025-03-31T00:00:00-04:00",
          "2025-04-01T00:00:00-04:00",
          "2025-04-02T00:00:00-04:00",
          "2025-04-03T00:00:00-04:00",
          "2025-04-04T00:00:00-04:00",
          "2025-04-07T00:00:00-04:00",
          "2025-04-08T00:00:00-04:00",
          "2025-04-09T00:00:00-04:00",
          "2025-04-10T00:00:00-04:00",
          "2025-04-11T00:00:00-04:00",
          "2025-04-14T00:00:00-04:00",
          "2025-04-15T00:00:00-04:00",
          "2025-04-16T00:00:00-04:00",
          "2025-04-17T00:00:00-04:00",
          "2025-04-21T00:00:00-04:00",
          "2025-04-22T00:00:00-04:00",
          "2025-04-23T00:00:00-04:00",
          "2025-04-24T00:00:00-04:00",
          "2025-04-25T00:00:00-04:00",
          "2025-04-28T00:00:00-04:00",
          "2025-04-29T00:00:00-04:00",
          "2025-04-30T00:00:00-04:00",
          "2025-05-01T00:00:00-04:00",
          "2025-05-02T00:00:00-04:00",
          "2025-05-05T00:00:00-04:00",
          "2025-05-06T00:00:00-04:00",
          "2025-05-07T00:00:00-04:00",
          "2025-05-08T00:00:00-04:00",
          "2025-05-09T00:00:00-04:00",
          "2025-05-12T00:00:00-04:00",
          "2025-05-13T00:00:00-04:00",
          "2025-05-14T00:00:00-04:00",
          "2025-05-15T00:00:00-04:00",
          "2025-05-16T00:00:00-04:00",
          "2025-05-19T00:00:00-04:00",
          "2025-05-20T00:00:00-04:00",
          "2025-05-21T00:00:00-04:00",
          "2025-05-22T00:00:00-04:00",
          "2025-05-23T00:00:00-04:00",
          "2025-05-27T00:00:00-04:00",
          "2025-05-28T00:00:00-04:00",
          "2025-05-29T00:00:00-04:00",
          "2025-05-30T00:00:00-04:00",
          "2025-06-02T00:00:00-04:00",
          "2025-06-03T00:00:00-04:00",
          "2025-06-04T00:00:00-04:00",
          "2025-06-05T00:00:00-04:00",
          "2025-06-06T00:00:00-04:00",
          "2025-06-09T00:00:00-04:00",
          "2025-06-10T00:00:00-04:00",
          "2025-06-11T00:00:00-04:00",
          "2025-06-12T00:00:00-04:00",
          "2025-06-13T00:00:00-04:00"
         ],
         "xaxis": "x",
         "y": [
          0,
          0.175,
          -0.205,
          -2.409,
          -1.741,
          -6.716,
          -7.066,
          -5.623,
          -4.415,
          -3.673,
          -2.773,
          4.195,
          11.229,
          12.587,
          10.854,
          -4.434,
          -0.98,
          -2.175,
          2.872,
          2.679,
          1.798,
          1.369,
          3.645,
          4.062,
          5.336,
          8.029,
          6.984,
          3.983,
          4.973,
          5.155,
          8.56,
          9.598,
          6.265,
          1.321,
          2.619,
          1.761,
          4.134,
          -0.521,
          0.264,
          -2.175,
          -4.923,
          -2.453,
          -8.865,
          -6.317,
          -10.163,
          -12.947,
          -8.895,
          -10.846,
          -9.874,
          -7.012,
          -9.765,
          -7.954,
          -7.791,
          -8.086,
          -6.492,
          -7.06,
          -10.761,
          -11.981,
          -14.945,
          -15.585,
          -14.299,
          -11.932,
          -17.143,
          -22.553,
          -23.223,
          -24.829,
          -15.658,
          -19.197,
          -19.803,
          -18.415,
          -18.839,
          -21.372,
          -22.063,
          -25.577,
          -22.899,
          -20.378,
          -16.676,
          -16.082,
          -15.082,
          -14.688,
          -14.731,
          -11.84,
          -8.665,
          -9.538,
          -10.501,
          -9.489,
          -8.926,
          -8.901,
          -4.733,
          -1.672,
          -1.26,
          -3.412,
          -2.751,
          -3.266,
          -2.86,
          -4.757,
          -4.678,
          -5.49,
          -1.891,
          -0.715,
          -1.291,
          0.303,
          0.933,
          2.49,
          1.86,
          3.702,
          5.447,
          7.344,
          7.544,
          6.877,
          21.105,
          30.413
         ],
         "yaxis": "y"
        },
        {
         "hovertemplate": "Security=Palantir Technologies<br>Date=%{x}<br>YTD Return=%{y}<extra></extra>",
         "legendgroup": "Palantir Technologies",
         "line": {
          "color": "#EECA3B",
          "dash": "solid"
         },
         "marker": {
          "symbol": "circle"
         },
         "mode": "lines",
         "name": "Palantir Technologies",
         "showlegend": true,
         "type": "scattergl",
         "x": [
          "2025-01-02T00:00:00-05:00",
          "2025-01-03T00:00:00-05:00",
          "2025-01-06T00:00:00-05:00",
          "2025-01-07T00:00:00-05:00",
          "2025-01-08T00:00:00-05:00",
          "2025-01-10T00:00:00-05:00",
          "2025-01-13T00:00:00-05:00",
          "2025-01-14T00:00:00-05:00",
          "2025-01-15T00:00:00-05:00",
          "2025-01-16T00:00:00-05:00",
          "2025-01-17T00:00:00-05:00",
          "2025-01-21T00:00:00-05:00",
          "2025-01-22T00:00:00-05:00",
          "2025-01-23T00:00:00-05:00",
          "2025-01-24T00:00:00-05:00",
          "2025-01-27T00:00:00-05:00",
          "2025-01-28T00:00:00-05:00",
          "2025-01-29T00:00:00-05:00",
          "2025-01-30T00:00:00-05:00",
          "2025-01-31T00:00:00-05:00",
          "2025-02-03T00:00:00-05:00",
          "2025-02-04T00:00:00-05:00",
          "2025-02-05T00:00:00-05:00",
          "2025-02-06T00:00:00-05:00",
          "2025-02-07T00:00:00-05:00",
          "2025-02-10T00:00:00-05:00",
          "2025-02-11T00:00:00-05:00",
          "2025-02-12T00:00:00-05:00",
          "2025-02-13T00:00:00-05:00",
          "2025-02-14T00:00:00-05:00",
          "2025-02-18T00:00:00-05:00",
          "2025-02-19T00:00:00-05:00",
          "2025-02-20T00:00:00-05:00",
          "2025-02-21T00:00:00-05:00",
          "2025-02-24T00:00:00-05:00",
          "2025-02-25T00:00:00-05:00",
          "2025-02-26T00:00:00-05:00",
          "2025-02-27T00:00:00-05:00",
          "2025-02-28T00:00:00-05:00",
          "2025-03-03T00:00:00-05:00",
          "2025-03-04T00:00:00-05:00",
          "2025-03-05T00:00:00-05:00",
          "2025-03-06T00:00:00-05:00",
          "2025-03-07T00:00:00-05:00",
          "2025-03-10T00:00:00-04:00",
          "2025-03-11T00:00:00-04:00",
          "2025-03-12T00:00:00-04:00",
          "2025-03-13T00:00:00-04:00",
          "2025-03-14T00:00:00-04:00",
          "2025-03-17T00:00:00-04:00",
          "2025-03-18T00:00:00-04:00",
          "2025-03-19T00:00:00-04:00",
          "2025-03-20T00:00:00-04:00",
          "2025-03-21T00:00:00-04:00",
          "2025-03-24T00:00:00-04:00",
          "2025-03-25T00:00:00-04:00",
          "2025-03-26T00:00:00-04:00",
          "2025-03-27T00:00:00-04:00",
          "2025-03-28T00:00:00-04:00",
          "2025-03-31T00:00:00-04:00",
          "2025-04-01T00:00:00-04:00",
          "2025-04-02T00:00:00-04:00",
          "2025-04-03T00:00:00-04:00",
          "2025-04-04T00:00:00-04:00",
          "2025-04-07T00:00:00-04:00",
          "2025-04-08T00:00:00-04:00",
          "2025-04-09T00:00:00-04:00",
          "2025-04-10T00:00:00-04:00",
          "2025-04-11T00:00:00-04:00",
          "2025-04-14T00:00:00-04:00",
          "2025-04-15T00:00:00-04:00",
          "2025-04-16T00:00:00-04:00",
          "2025-04-17T00:00:00-04:00",
          "2025-04-21T00:00:00-04:00",
          "2025-04-22T00:00:00-04:00",
          "2025-04-23T00:00:00-04:00",
          "2025-04-24T00:00:00-04:00",
          "2025-04-25T00:00:00-04:00",
          "2025-04-28T00:00:00-04:00",
          "2025-04-29T00:00:00-04:00",
          "2025-04-30T00:00:00-04:00",
          "2025-05-01T00:00:00-04:00",
          "2025-05-02T00:00:00-04:00",
          "2025-05-05T00:00:00-04:00",
          "2025-05-06T00:00:00-04:00",
          "2025-05-07T00:00:00-04:00",
          "2025-05-08T00:00:00-04:00",
          "2025-05-09T00:00:00-04:00",
          "2025-05-12T00:00:00-04:00",
          "2025-05-13T00:00:00-04:00",
          "2025-05-14T00:00:00-04:00",
          "2025-05-15T00:00:00-04:00",
          "2025-05-16T00:00:00-04:00",
          "2025-05-19T00:00:00-04:00",
          "2025-05-20T00:00:00-04:00",
          "2025-05-21T00:00:00-04:00",
          "2025-05-22T00:00:00-04:00",
          "2025-05-23T00:00:00-04:00",
          "2025-05-27T00:00:00-04:00",
          "2025-05-28T00:00:00-04:00",
          "2025-05-29T00:00:00-04:00",
          "2025-05-30T00:00:00-04:00",
          "2025-06-02T00:00:00-04:00",
          "2025-06-03T00:00:00-04:00",
          "2025-06-04T00:00:00-04:00",
          "2025-06-05T00:00:00-04:00",
          "2025-06-06T00:00:00-04:00",
          "2025-06-09T00:00:00-04:00",
          "2025-06-10T00:00:00-04:00",
          "2025-06-11T00:00:00-04:00",
          "2025-06-12T00:00:00-04:00",
          "2025-06-13T00:00:00-04:00"
         ],
         "xaxis": "x",
         "y": [
          0,
          6.251,
          0.971,
          -6.916,
          -9.257,
          -10.547,
          -13.579,
          -12.342,
          -9.376,
          -7.913,
          -4.548,
          -2.82,
          2.234,
          5.041,
          5.041,
          0.332,
          6.703,
          6.078,
          8.02,
          9.709,
          11.371,
          38.09,
          34.805,
          47.998,
          47.427,
          55.14,
          49.781,
          56.124,
          56.816,
          58.479,
          65.74,
          49.036,
          41.335,
          34.792,
          20.601,
          16.824,
          18.779,
          12.741,
          12.941,
          10.946,
          12.249,
          19.87,
          7.009,
          12.927,
          1.583,
          3.804,
          11.251,
          5.892,
          14.696,
          16.172,
          11.571,
          14.51,
          16.226,
          20.974,
          28.674,
          28.342,
          22.729,
          19.816,
          14.177,
          12.249,
          12.621,
          16.305,
          11.185,
          -1.569,
          3.524,
          2.833,
          22.37,
          17.822,
          17.768,
          23.181,
          30.868,
          23.301,
          24.724,
          20.761,
          25.003,
          34.087,
          43.344,
          49.993,
          52.48,
          54.382,
          57.521,
          54.542,
          65.288,
          64.61,
          44.78,
          46.934,
          58.465,
          56.005,
          57.548,
          70.368,
          73.135,
          70.395,
          72.257,
          68.014,
          67.03,
          60.367,
          62.641,
          63.998,
          64.104,
          64.596,
          62.681,
          75.263,
          75.608,
          77.111,
          72.909,
          59.476,
          69.863,
          75.635,
          76.633,
          81.394,
          79.798,
          82.737
         ],
         "yaxis": "y"
        },
        {
         "hovertemplate": "Security=Salesforce<br>Date=%{x}<br>YTD Return=%{y}<extra></extra>",
         "legendgroup": "Salesforce",
         "line": {
          "color": "#B279A2",
          "dash": "solid"
         },
         "marker": {
          "symbol": "circle"
         },
         "mode": "lines",
         "name": "Salesforce",
         "showlegend": true,
         "type": "scattergl",
         "x": [
          "2025-01-02T00:00:00-05:00",
          "2025-01-03T00:00:00-05:00",
          "2025-01-06T00:00:00-05:00",
          "2025-01-07T00:00:00-05:00",
          "2025-01-08T00:00:00-05:00",
          "2025-01-10T00:00:00-05:00",
          "2025-01-13T00:00:00-05:00",
          "2025-01-14T00:00:00-05:00",
          "2025-01-15T00:00:00-05:00",
          "2025-01-16T00:00:00-05:00",
          "2025-01-17T00:00:00-05:00",
          "2025-01-21T00:00:00-05:00",
          "2025-01-22T00:00:00-05:00",
          "2025-01-23T00:00:00-05:00",
          "2025-01-24T00:00:00-05:00",
          "2025-01-27T00:00:00-05:00",
          "2025-01-28T00:00:00-05:00",
          "2025-01-29T00:00:00-05:00",
          "2025-01-30T00:00:00-05:00",
          "2025-01-31T00:00:00-05:00",
          "2025-02-03T00:00:00-05:00",
          "2025-02-04T00:00:00-05:00",
          "2025-02-05T00:00:00-05:00",
          "2025-02-06T00:00:00-05:00",
          "2025-02-07T00:00:00-05:00",
          "2025-02-10T00:00:00-05:00",
          "2025-02-11T00:00:00-05:00",
          "2025-02-12T00:00:00-05:00",
          "2025-02-13T00:00:00-05:00",
          "2025-02-14T00:00:00-05:00",
          "2025-02-18T00:00:00-05:00",
          "2025-02-19T00:00:00-05:00",
          "2025-02-20T00:00:00-05:00",
          "2025-02-21T00:00:00-05:00",
          "2025-02-24T00:00:00-05:00",
          "2025-02-25T00:00:00-05:00",
          "2025-02-26T00:00:00-05:00",
          "2025-02-27T00:00:00-05:00",
          "2025-02-28T00:00:00-05:00",
          "2025-03-03T00:00:00-05:00",
          "2025-03-04T00:00:00-05:00",
          "2025-03-05T00:00:00-05:00",
          "2025-03-06T00:00:00-05:00",
          "2025-03-07T00:00:00-05:00",
          "2025-03-10T00:00:00-04:00",
          "2025-03-11T00:00:00-04:00",
          "2025-03-12T00:00:00-04:00",
          "2025-03-13T00:00:00-04:00",
          "2025-03-14T00:00:00-04:00",
          "2025-03-17T00:00:00-04:00",
          "2025-03-18T00:00:00-04:00",
          "2025-03-19T00:00:00-04:00",
          "2025-03-20T00:00:00-04:00",
          "2025-03-21T00:00:00-04:00",
          "2025-03-24T00:00:00-04:00",
          "2025-03-25T00:00:00-04:00",
          "2025-03-26T00:00:00-04:00",
          "2025-03-27T00:00:00-04:00",
          "2025-03-28T00:00:00-04:00",
          "2025-03-31T00:00:00-04:00",
          "2025-04-01T00:00:00-04:00",
          "2025-04-02T00:00:00-04:00",
          "2025-04-03T00:00:00-04:00",
          "2025-04-04T00:00:00-04:00",
          "2025-04-07T00:00:00-04:00",
          "2025-04-08T00:00:00-04:00",
          "2025-04-09T00:00:00-04:00",
          "2025-04-10T00:00:00-04:00",
          "2025-04-11T00:00:00-04:00",
          "2025-04-14T00:00:00-04:00",
          "2025-04-15T00:00:00-04:00",
          "2025-04-16T00:00:00-04:00",
          "2025-04-17T00:00:00-04:00",
          "2025-04-21T00:00:00-04:00",
          "2025-04-22T00:00:00-04:00",
          "2025-04-23T00:00:00-04:00",
          "2025-04-24T00:00:00-04:00",
          "2025-04-25T00:00:00-04:00",
          "2025-04-28T00:00:00-04:00",
          "2025-04-29T00:00:00-04:00",
          "2025-04-30T00:00:00-04:00",
          "2025-05-01T00:00:00-04:00",
          "2025-05-02T00:00:00-04:00",
          "2025-05-05T00:00:00-04:00",
          "2025-05-06T00:00:00-04:00",
          "2025-05-07T00:00:00-04:00",
          "2025-05-08T00:00:00-04:00",
          "2025-05-09T00:00:00-04:00",
          "2025-05-12T00:00:00-04:00",
          "2025-05-13T00:00:00-04:00",
          "2025-05-14T00:00:00-04:00",
          "2025-05-15T00:00:00-04:00",
          "2025-05-16T00:00:00-04:00",
          "2025-05-19T00:00:00-04:00",
          "2025-05-20T00:00:00-04:00",
          "2025-05-21T00:00:00-04:00",
          "2025-05-22T00:00:00-04:00",
          "2025-05-23T00:00:00-04:00",
          "2025-05-27T00:00:00-04:00",
          "2025-05-28T00:00:00-04:00",
          "2025-05-29T00:00:00-04:00",
          "2025-05-30T00:00:00-04:00",
          "2025-06-02T00:00:00-04:00",
          "2025-06-03T00:00:00-04:00",
          "2025-06-04T00:00:00-04:00",
          "2025-06-05T00:00:00-04:00",
          "2025-06-06T00:00:00-04:00",
          "2025-06-09T00:00:00-04:00",
          "2025-06-10T00:00:00-04:00",
          "2025-06-11T00:00:00-04:00",
          "2025-06-12T00:00:00-04:00",
          "2025-06-13T00:00:00-04:00"
         ],
         "xaxis": "x",
         "y": [
          0,
          0.677,
          -0.039,
          -1.733,
          -1.137,
          -3.874,
          -3.505,
          -2.153,
          -2.873,
          -3.224,
          -1.845,
          -1.155,
          0.593,
          1.21,
          0.974,
          4.972,
          8.858,
          7.059,
          3.904,
          3.339,
          2.595,
          4.077,
          5.223,
          0.045,
          -1.461,
          -1.046,
          -1.893,
          -1.373,
          -0.245,
          -1.246,
          -0.514,
          -1.854,
          -3.699,
          -6.309,
          -6.756,
          -7.494,
          -7.056,
          -10.815,
          -9.923,
          -11.371,
          -13.101,
          -11.701,
          -13.491,
          -14.447,
          -17.468,
          -16.213,
          -13.936,
          -17.819,
          -15.502,
          -15.094,
          -15.705,
          -15.505,
          -15.614,
          -15.133,
          -13.518,
          -12.717,
          -15.021,
          -15.983,
          -18.354,
          -18.841,
          -18.285,
          -17.879,
          -22.812,
          -27.188,
          -26.145,
          -26.211,
          -19.806,
          -22.724,
          -22.76,
          -22.897,
          -22.782,
          -24.323,
          -25.105,
          -28.437,
          -26.277,
          -24.129,
          -19.822,
          -18.868,
          -19.537,
          -18.895,
          -18.608,
          -18.42,
          -16.678,
          -17.42,
          -17.199,
          -15.724,
          -15.267,
          -16.575,
          -12.516,
          -12.41,
          -11.935,
          -11.929,
          -11.81,
          -12.877,
          -12.746,
          -14.497,
          -14.152,
          -17.269,
          -16.039,
          -16.39,
          -19.15,
          -19.619,
          -20.755,
          -19.892,
          -20.286,
          -19.083,
          -16.851,
          -17.535,
          -18.756,
          -19.456,
          -19.153,
          -21.73
         ],
         "yaxis": "y"
        },
        {
         "hovertemplate": "Security=Cisco<br>Date=%{x}<br>YTD Return=%{y}<extra></extra>",
         "legendgroup": "Cisco",
         "line": {
          "color": "#FF9DA6",
          "dash": "solid"
         },
         "marker": {
          "symbol": "circle"
         },
         "mode": "lines",
         "name": "Cisco",
         "showlegend": true,
         "type": "scattergl",
         "x": [
          "2025-01-02T00:00:00-05:00",
          "2025-01-03T00:00:00-05:00",
          "2025-01-06T00:00:00-05:00",
          "2025-01-07T00:00:00-05:00",
          "2025-01-08T00:00:00-05:00",
          "2025-01-10T00:00:00-05:00",
          "2025-01-13T00:00:00-05:00",
          "2025-01-14T00:00:00-05:00",
          "2025-01-15T00:00:00-05:00",
          "2025-01-16T00:00:00-05:00",
          "2025-01-17T00:00:00-05:00",
          "2025-01-21T00:00:00-05:00",
          "2025-01-22T00:00:00-05:00",
          "2025-01-23T00:00:00-05:00",
          "2025-01-24T00:00:00-05:00",
          "2025-01-27T00:00:00-05:00",
          "2025-01-28T00:00:00-05:00",
          "2025-01-29T00:00:00-05:00",
          "2025-01-30T00:00:00-05:00",
          "2025-01-31T00:00:00-05:00",
          "2025-02-03T00:00:00-05:00",
          "2025-02-04T00:00:00-05:00",
          "2025-02-05T00:00:00-05:00",
          "2025-02-06T00:00:00-05:00",
          "2025-02-07T00:00:00-05:00",
          "2025-02-10T00:00:00-05:00",
          "2025-02-11T00:00:00-05:00",
          "2025-02-12T00:00:00-05:00",
          "2025-02-13T00:00:00-05:00",
          "2025-02-14T00:00:00-05:00",
          "2025-02-18T00:00:00-05:00",
          "2025-02-19T00:00:00-05:00",
          "2025-02-20T00:00:00-05:00",
          "2025-02-21T00:00:00-05:00",
          "2025-02-24T00:00:00-05:00",
          "2025-02-25T00:00:00-05:00",
          "2025-02-26T00:00:00-05:00",
          "2025-02-27T00:00:00-05:00",
          "2025-02-28T00:00:00-05:00",
          "2025-03-03T00:00:00-05:00",
          "2025-03-04T00:00:00-05:00",
          "2025-03-05T00:00:00-05:00",
          "2025-03-06T00:00:00-05:00",
          "2025-03-07T00:00:00-05:00",
          "2025-03-10T00:00:00-04:00",
          "2025-03-11T00:00:00-04:00",
          "2025-03-12T00:00:00-04:00",
          "2025-03-13T00:00:00-04:00",
          "2025-03-14T00:00:00-04:00",
          "2025-03-17T00:00:00-04:00",
          "2025-03-18T00:00:00-04:00",
          "2025-03-19T00:00:00-04:00",
          "2025-03-20T00:00:00-04:00",
          "2025-03-21T00:00:00-04:00",
          "2025-03-24T00:00:00-04:00",
          "2025-03-25T00:00:00-04:00",
          "2025-03-26T00:00:00-04:00",
          "2025-03-27T00:00:00-04:00",
          "2025-03-28T00:00:00-04:00",
          "2025-03-31T00:00:00-04:00",
          "2025-04-01T00:00:00-04:00",
          "2025-04-02T00:00:00-04:00",
          "2025-04-03T00:00:00-04:00",
          "2025-04-04T00:00:00-04:00",
          "2025-04-07T00:00:00-04:00",
          "2025-04-08T00:00:00-04:00",
          "2025-04-09T00:00:00-04:00",
          "2025-04-10T00:00:00-04:00",
          "2025-04-11T00:00:00-04:00",
          "2025-04-14T00:00:00-04:00",
          "2025-04-15T00:00:00-04:00",
          "2025-04-16T00:00:00-04:00",
          "2025-04-17T00:00:00-04:00",
          "2025-04-21T00:00:00-04:00",
          "2025-04-22T00:00:00-04:00",
          "2025-04-23T00:00:00-04:00",
          "2025-04-24T00:00:00-04:00",
          "2025-04-25T00:00:00-04:00",
          "2025-04-28T00:00:00-04:00",
          "2025-04-29T00:00:00-04:00",
          "2025-04-30T00:00:00-04:00",
          "2025-05-01T00:00:00-04:00",
          "2025-05-02T00:00:00-04:00",
          "2025-05-05T00:00:00-04:00",
          "2025-05-06T00:00:00-04:00",
          "2025-05-07T00:00:00-04:00",
          "2025-05-08T00:00:00-04:00",
          "2025-05-09T00:00:00-04:00",
          "2025-05-12T00:00:00-04:00",
          "2025-05-13T00:00:00-04:00",
          "2025-05-14T00:00:00-04:00",
          "2025-05-15T00:00:00-04:00",
          "2025-05-16T00:00:00-04:00",
          "2025-05-19T00:00:00-04:00",
          "2025-05-20T00:00:00-04:00",
          "2025-05-21T00:00:00-04:00",
          "2025-05-22T00:00:00-04:00",
          "2025-05-23T00:00:00-04:00",
          "2025-05-27T00:00:00-04:00",
          "2025-05-28T00:00:00-04:00",
          "2025-05-29T00:00:00-04:00",
          "2025-05-30T00:00:00-04:00",
          "2025-06-02T00:00:00-04:00",
          "2025-06-03T00:00:00-04:00",
          "2025-06-04T00:00:00-04:00",
          "2025-06-05T00:00:00-04:00",
          "2025-06-06T00:00:00-04:00",
          "2025-06-09T00:00:00-04:00",
          "2025-06-10T00:00:00-04:00",
          "2025-06-11T00:00:00-04:00",
          "2025-06-12T00:00:00-04:00",
          "2025-06-13T00:00:00-04:00"
         ],
         "xaxis": "x",
         "y": [
          0,
          0.273,
          0.119,
          0.392,
          0.852,
          0.068,
          0.102,
          1.073,
          2.181,
          1.908,
          2.606,
          3.969,
          4.991,
          6.014,
          6.014,
          0.647,
          1.244,
          1.448,
          3.015,
          3.237,
          3.986,
          4.497,
          6.593,
          6.082,
          6.082,
          7.002,
          6.354,
          6.525,
          8.756,
          10.511,
          10.034,
          10.46,
          10.17,
          8.995,
          7.734,
          9.489,
          9.165,
          8.705,
          9.216,
          8.143,
          7.768,
          8.961,
          8.024,
          8.927,
          5.724,
          3.356,
          2.998,
          1.652,
          3.066,
          3.731,
          2.726,
          4.123,
          3.271,
          2.726,
          3.867,
          3.901,
          5.281,
          4.6,
          3.68,
          5.128,
          5.281,
          5.315,
          -1.716,
          -6.467,
          -6.689,
          -8.782,
          -0.31,
          -2.951,
          -1.682,
          -1.545,
          -1.905,
          -4.374,
          -4.374,
          -6.758,
          -5.609,
          -4.597,
          -3.465,
          -2.745,
          -2.522,
          -1.665,
          -0.996,
          -0.327,
          1.748,
          1.731,
          1.559,
          2.16,
          2.4,
          2.503,
          5.761,
          5.95,
          5.109,
          10.203,
          9.105,
          9.62,
          8.762,
          8.385,
          8.659,
          8.231,
          9.328,
          8.625,
          8.128,
          8.111,
          9.5,
          10.374,
          10.426,
          10.82,
          13.29,
          13.015,
          11.729,
          10.083,
          11.643,
          9.911
         ],
         "yaxis": "y"
        },
        {
         "hovertemplate": "Security=IBM<br>Date=%{x}<br>YTD Return=%{y}<extra></extra>",
         "legendgroup": "IBM",
         "line": {
          "color": "#9D755D",
          "dash": "solid"
         },
         "marker": {
          "symbol": "circle"
         },
         "mode": "lines",
         "name": "IBM",
         "showlegend": true,
         "type": "scattergl",
         "x": [
          "2025-01-02T00:00:00-05:00",
          "2025-01-03T00:00:00-05:00",
          "2025-01-06T00:00:00-05:00",
          "2025-01-07T00:00:00-05:00",
          "2025-01-08T00:00:00-05:00",
          "2025-01-10T00:00:00-05:00",
          "2025-01-13T00:00:00-05:00",
          "2025-01-14T00:00:00-05:00",
          "2025-01-15T00:00:00-05:00",
          "2025-01-16T00:00:00-05:00",
          "2025-01-17T00:00:00-05:00",
          "2025-01-21T00:00:00-05:00",
          "2025-01-22T00:00:00-05:00",
          "2025-01-23T00:00:00-05:00",
          "2025-01-24T00:00:00-05:00",
          "2025-01-27T00:00:00-05:00",
          "2025-01-28T00:00:00-05:00",
          "2025-01-29T00:00:00-05:00",
          "2025-01-30T00:00:00-05:00",
          "2025-01-31T00:00:00-05:00",
          "2025-02-03T00:00:00-05:00",
          "2025-02-04T00:00:00-05:00",
          "2025-02-05T00:00:00-05:00",
          "2025-02-06T00:00:00-05:00",
          "2025-02-07T00:00:00-05:00",
          "2025-02-10T00:00:00-05:00",
          "2025-02-11T00:00:00-05:00",
          "2025-02-12T00:00:00-05:00",
          "2025-02-13T00:00:00-05:00",
          "2025-02-14T00:00:00-05:00",
          "2025-02-18T00:00:00-05:00",
          "2025-02-19T00:00:00-05:00",
          "2025-02-20T00:00:00-05:00",
          "2025-02-21T00:00:00-05:00",
          "2025-02-24T00:00:00-05:00",
          "2025-02-25T00:00:00-05:00",
          "2025-02-26T00:00:00-05:00",
          "2025-02-27T00:00:00-05:00",
          "2025-02-28T00:00:00-05:00",
          "2025-03-03T00:00:00-05:00",
          "2025-03-04T00:00:00-05:00",
          "2025-03-05T00:00:00-05:00",
          "2025-03-06T00:00:00-05:00",
          "2025-03-07T00:00:00-05:00",
          "2025-03-10T00:00:00-04:00",
          "2025-03-11T00:00:00-04:00",
          "2025-03-12T00:00:00-04:00",
          "2025-03-13T00:00:00-04:00",
          "2025-03-14T00:00:00-04:00",
          "2025-03-17T00:00:00-04:00",
          "2025-03-18T00:00:00-04:00",
          "2025-03-19T00:00:00-04:00",
          "2025-03-20T00:00:00-04:00",
          "2025-03-21T00:00:00-04:00",
          "2025-03-24T00:00:00-04:00",
          "2025-03-25T00:00:00-04:00",
          "2025-03-26T00:00:00-04:00",
          "2025-03-27T00:00:00-04:00",
          "2025-03-28T00:00:00-04:00",
          "2025-03-31T00:00:00-04:00",
          "2025-04-01T00:00:00-04:00",
          "2025-04-02T00:00:00-04:00",
          "2025-04-03T00:00:00-04:00",
          "2025-04-04T00:00:00-04:00",
          "2025-04-07T00:00:00-04:00",
          "2025-04-08T00:00:00-04:00",
          "2025-04-09T00:00:00-04:00",
          "2025-04-10T00:00:00-04:00",
          "2025-04-11T00:00:00-04:00",
          "2025-04-14T00:00:00-04:00",
          "2025-04-15T00:00:00-04:00",
          "2025-04-16T00:00:00-04:00",
          "2025-04-17T00:00:00-04:00",
          "2025-04-21T00:00:00-04:00",
          "2025-04-22T00:00:00-04:00",
          "2025-04-23T00:00:00-04:00",
          "2025-04-24T00:00:00-04:00",
          "2025-04-25T00:00:00-04:00",
          "2025-04-28T00:00:00-04:00",
          "2025-04-29T00:00:00-04:00",
          "2025-04-30T00:00:00-04:00",
          "2025-05-01T00:00:00-04:00",
          "2025-05-02T00:00:00-04:00",
          "2025-05-05T00:00:00-04:00",
          "2025-05-06T00:00:00-04:00",
          "2025-05-07T00:00:00-04:00",
          "2025-05-08T00:00:00-04:00",
          "2025-05-09T00:00:00-04:00",
          "2025-05-12T00:00:00-04:00",
          "2025-05-13T00:00:00-04:00",
          "2025-05-14T00:00:00-04:00",
          "2025-05-15T00:00:00-04:00",
          "2025-05-16T00:00:00-04:00",
          "2025-05-19T00:00:00-04:00",
          "2025-05-20T00:00:00-04:00",
          "2025-05-21T00:00:00-04:00",
          "2025-05-22T00:00:00-04:00",
          "2025-05-23T00:00:00-04:00",
          "2025-05-27T00:00:00-04:00",
          "2025-05-28T00:00:00-04:00",
          "2025-05-29T00:00:00-04:00",
          "2025-05-30T00:00:00-04:00",
          "2025-06-02T00:00:00-04:00",
          "2025-06-03T00:00:00-04:00",
          "2025-06-04T00:00:00-04:00",
          "2025-06-05T00:00:00-04:00",
          "2025-06-06T00:00:00-04:00",
          "2025-06-09T00:00:00-04:00",
          "2025-06-10T00:00:00-04:00",
          "2025-06-11T00:00:00-04:00",
          "2025-06-12T00:00:00-04:00",
          "2025-06-13T00:00:00-04:00"
         ],
         "xaxis": "x",
         "y": [
          0,
          1.232,
          1.241,
          1.828,
          1.473,
          -0.086,
          -1.155,
          -0.996,
          0.041,
          1.237,
          2.205,
          1.964,
          1.509,
          2.773,
          2.21,
          1.905,
          2.601,
          3.951,
          17.427,
          16.259,
          18.546,
          20.242,
          19.714,
          15.231,
          14.731,
          14.091,
          16.576,
          17.084,
          18.631,
          19.587,
          20.407,
          20.979,
          21.171,
          19.679,
          19.858,
          17.972,
          17.098,
          15.903,
          15.541,
          14.512,
          15.894,
          15.043,
          13.825,
          19.706,
          17.583,
          13.944,
          14.255,
          12.502,
          13.669,
          15.784,
          13.029,
          15.473,
          11.367,
          11.619,
          13.715,
          14.379,
          14.58,
          12.69,
          11.678,
          13.811,
          14.58,
          14.415,
          11.445,
          4.117,
          3.339,
          1.165,
          7.701,
          5.065,
          7.779,
          9.417,
          10.168,
          9.193,
          9.303,
          8.118,
          10.26,
          12.356,
          4.964,
          6.374,
          8.09,
          9.568,
          10.681,
          9.692,
          12.388,
          14.049,
          14.022,
          15.967,
          16.32,
          14.817,
          16.886,
          19.144,
          18.789,
          22.871,
          22.908,
          23.668,
          22.996,
          20.194,
          19.042,
          19.162,
          21.282,
          19.904,
          19.19,
          19.36,
          21.59,
          22.189,
          22.337,
          22.954,
          23.88,
          25.359,
          27.276,
          29.709,
          29.483,
          27.728
         ],
         "yaxis": "y"
        },
        {
         "hovertemplate": "Security=Intuit<br>Date=%{x}<br>YTD Return=%{y}<extra></extra>",
         "legendgroup": "Intuit",
         "line": {
          "color": "#BAB0AC",
          "dash": "solid"
         },
         "marker": {
          "symbol": "circle"
         },
         "mode": "lines",
         "name": "Intuit",
         "showlegend": true,
         "type": "scattergl",
         "x": [
          "2025-01-02T00:00:00-05:00",
          "2025-01-03T00:00:00-05:00",
          "2025-01-06T00:00:00-05:00",
          "2025-01-07T00:00:00-05:00",
          "2025-01-08T00:00:00-05:00",
          "2025-01-10T00:00:00-05:00",
          "2025-01-13T00:00:00-05:00",
          "2025-01-14T00:00:00-05:00",
          "2025-01-15T00:00:00-05:00",
          "2025-01-16T00:00:00-05:00",
          "2025-01-17T00:00:00-05:00",
          "2025-01-21T00:00:00-05:00",
          "2025-01-22T00:00:00-05:00",
          "2025-01-23T00:00:00-05:00",
          "2025-01-24T00:00:00-05:00",
          "2025-01-27T00:00:00-05:00",
          "2025-01-28T00:00:00-05:00",
          "2025-01-29T00:00:00-05:00",
          "2025-01-30T00:00:00-05:00",
          "2025-01-31T00:00:00-05:00",
          "2025-02-03T00:00:00-05:00",
          "2025-02-04T00:00:00-05:00",
          "2025-02-05T00:00:00-05:00",
          "2025-02-06T00:00:00-05:00",
          "2025-02-07T00:00:00-05:00",
          "2025-02-10T00:00:00-05:00",
          "2025-02-11T00:00:00-05:00",
          "2025-02-12T00:00:00-05:00",
          "2025-02-13T00:00:00-05:00",
          "2025-02-14T00:00:00-05:00",
          "2025-02-18T00:00:00-05:00",
          "2025-02-19T00:00:00-05:00",
          "2025-02-20T00:00:00-05:00",
          "2025-02-21T00:00:00-05:00",
          "2025-02-24T00:00:00-05:00",
          "2025-02-25T00:00:00-05:00",
          "2025-02-26T00:00:00-05:00",
          "2025-02-27T00:00:00-05:00",
          "2025-02-28T00:00:00-05:00",
          "2025-03-03T00:00:00-05:00",
          "2025-03-04T00:00:00-05:00",
          "2025-03-05T00:00:00-05:00",
          "2025-03-06T00:00:00-05:00",
          "2025-03-07T00:00:00-05:00",
          "2025-03-10T00:00:00-04:00",
          "2025-03-11T00:00:00-04:00",
          "2025-03-12T00:00:00-04:00",
          "2025-03-13T00:00:00-04:00",
          "2025-03-14T00:00:00-04:00",
          "2025-03-17T00:00:00-04:00",
          "2025-03-18T00:00:00-04:00",
          "2025-03-19T00:00:00-04:00",
          "2025-03-20T00:00:00-04:00",
          "2025-03-21T00:00:00-04:00",
          "2025-03-24T00:00:00-04:00",
          "2025-03-25T00:00:00-04:00",
          "2025-03-26T00:00:00-04:00",
          "2025-03-27T00:00:00-04:00",
          "2025-03-28T00:00:00-04:00",
          "2025-03-31T00:00:00-04:00",
          "2025-04-01T00:00:00-04:00",
          "2025-04-02T00:00:00-04:00",
          "2025-04-03T00:00:00-04:00",
          "2025-04-04T00:00:00-04:00",
          "2025-04-07T00:00:00-04:00",
          "2025-04-08T00:00:00-04:00",
          "2025-04-09T00:00:00-04:00",
          "2025-04-10T00:00:00-04:00",
          "2025-04-11T00:00:00-04:00",
          "2025-04-14T00:00:00-04:00",
          "2025-04-15T00:00:00-04:00",
          "2025-04-16T00:00:00-04:00",
          "2025-04-17T00:00:00-04:00",
          "2025-04-21T00:00:00-04:00",
          "2025-04-22T00:00:00-04:00",
          "2025-04-23T00:00:00-04:00",
          "2025-04-24T00:00:00-04:00",
          "2025-04-25T00:00:00-04:00",
          "2025-04-28T00:00:00-04:00",
          "2025-04-29T00:00:00-04:00",
          "2025-04-30T00:00:00-04:00",
          "2025-05-01T00:00:00-04:00",
          "2025-05-02T00:00:00-04:00",
          "2025-05-05T00:00:00-04:00",
          "2025-05-06T00:00:00-04:00",
          "2025-05-07T00:00:00-04:00",
          "2025-05-08T00:00:00-04:00",
          "2025-05-09T00:00:00-04:00",
          "2025-05-12T00:00:00-04:00",
          "2025-05-13T00:00:00-04:00",
          "2025-05-14T00:00:00-04:00",
          "2025-05-15T00:00:00-04:00",
          "2025-05-16T00:00:00-04:00",
          "2025-05-19T00:00:00-04:00",
          "2025-05-20T00:00:00-04:00",
          "2025-05-21T00:00:00-04:00",
          "2025-05-22T00:00:00-04:00",
          "2025-05-23T00:00:00-04:00",
          "2025-05-27T00:00:00-04:00",
          "2025-05-28T00:00:00-04:00",
          "2025-05-29T00:00:00-04:00",
          "2025-05-30T00:00:00-04:00",
          "2025-06-02T00:00:00-04:00",
          "2025-06-03T00:00:00-04:00",
          "2025-06-04T00:00:00-04:00",
          "2025-06-05T00:00:00-04:00",
          "2025-06-06T00:00:00-04:00",
          "2025-06-09T00:00:00-04:00",
          "2025-06-10T00:00:00-04:00",
          "2025-06-11T00:00:00-04:00",
          "2025-06-12T00:00:00-04:00",
          "2025-06-13T00:00:00-04:00"
         ],
         "xaxis": "x",
         "y": [
          0,
          1.195,
          0.381,
          -1.182,
          0.523,
          0.269,
          -1.373,
          0.329,
          -0.049,
          -2.33,
          -2.835,
          -1.986,
          -1.62,
          -3.772,
          -3.829,
          -2.434,
          -3.393,
          -4.626,
          -2.759,
          -3.256,
          -3.377,
          -4.831,
          -5.387,
          -5.075,
          -6.901,
          -5.616,
          -5.77,
          -7.272,
          -6.088,
          -5.529,
          -6.725,
          -6.363,
          -6.864,
          -9.053,
          -8.768,
          -10.635,
          0.604,
          -3.431,
          -1.273,
          -3.324,
          -3.809,
          -0.683,
          -2.475,
          -1.953,
          -6.751,
          -5.637,
          -4.924,
          -6.503,
          -3.692,
          -3.16,
          -3.655,
          -2.999,
          -3.431,
          -2.849,
          -1.394,
          -0.488,
          -1.109,
          -1.038,
          -3.673,
          -1.249,
          -1.283,
          -0.136,
          -3.735,
          -9.686,
          -10.537,
          -12.495,
          -4.065,
          -6.96,
          -5.419,
          -4.37,
          -4.284,
          -5.251,
          -5.686,
          -8.351,
          -5.979,
          -3.967,
          -0.941,
          0.556,
          -0.393,
          0.399,
          1.095,
          0.406,
          1.774,
          1.854,
          0.947,
          3.298,
          5.705,
          5.35,
          6.707,
          5.821,
          5.181,
          6.548,
          7.993,
          8.086,
          8.135,
          6.333,
          7.314,
          16.024,
          21.153,
          21.554,
          22,
          21.396,
          23.252,
          23.199,
          23.545,
          23.518,
          24.314,
          23.154,
          22.786,
          23.213,
          23.449,
          21.478
         ],
         "yaxis": "y"
        }
       ],
       "layout": {
        "legend": {
         "title": {
          "text": "Companies"
         },
         "tracegroupgap": 0
        },
        "template": {
         "data": {
          "bar": [
           {
            "error_x": {
             "color": "#2a3f5f"
            },
            "error_y": {
             "color": "#2a3f5f"
            },
            "marker": {
             "line": {
              "color": "#E5ECF6",
              "width": 0.5
             },
             "pattern": {
              "fillmode": "overlay",
              "size": 10,
              "solidity": 0.2
             }
            },
            "type": "bar"
           }
          ],
          "barpolar": [
           {
            "marker": {
             "line": {
              "color": "#E5ECF6",
              "width": 0.5
             },
             "pattern": {
              "fillmode": "overlay",
              "size": 10,
              "solidity": 0.2
             }
            },
            "type": "barpolar"
           }
          ],
          "carpet": [
           {
            "aaxis": {
             "endlinecolor": "#2a3f5f",
             "gridcolor": "white",
             "linecolor": "white",
             "minorgridcolor": "white",
             "startlinecolor": "#2a3f5f"
            },
            "baxis": {
             "endlinecolor": "#2a3f5f",
             "gridcolor": "white",
             "linecolor": "white",
             "minorgridcolor": "white",
             "startlinecolor": "#2a3f5f"
            },
            "type": "carpet"
           }
          ],
          "choropleth": [
           {
            "colorbar": {
             "outlinewidth": 0,
             "ticks": ""
            },
            "type": "choropleth"
           }
          ],
          "contour": [
           {
            "colorbar": {
             "outlinewidth": 0,
             "ticks": ""
            },
            "colorscale": [
             [
              0,
              "#0d0887"
             ],
             [
              0.1111111111111111,
              "#46039f"
             ],
             [
              0.2222222222222222,
              "#7201a8"
             ],
             [
              0.3333333333333333,
              "#9c179e"
             ],
             [
              0.4444444444444444,
              "#bd3786"
             ],
             [
              0.5555555555555556,
              "#d8576b"
             ],
             [
              0.6666666666666666,
              "#ed7953"
             ],
             [
              0.7777777777777778,
              "#fb9f3a"
             ],
             [
              0.8888888888888888,
              "#fdca26"
             ],
             [
              1,
              "#f0f921"
             ]
            ],
            "type": "contour"
           }
          ],
          "contourcarpet": [
           {
            "colorbar": {
             "outlinewidth": 0,
             "ticks": ""
            },
            "type": "contourcarpet"
           }
          ],
          "heatmap": [
           {
            "colorbar": {
             "outlinewidth": 0,
             "ticks": ""
            },
            "colorscale": [
             [
              0,
              "#0d0887"
             ],
             [
              0.1111111111111111,
              "#46039f"
             ],
             [
              0.2222222222222222,
              "#7201a8"
             ],
             [
              0.3333333333333333,
              "#9c179e"
             ],
             [
              0.4444444444444444,
              "#bd3786"
             ],
             [
              0.5555555555555556,
              "#d8576b"
             ],
             [
              0.6666666666666666,
              "#ed7953"
             ],
             [
              0.7777777777777778,
              "#fb9f3a"
             ],
             [
              0.8888888888888888,
              "#fdca26"
             ],
             [
              1,
              "#f0f921"
             ]
            ],
            "type": "heatmap"
           }
          ],
          "heatmapgl": [
           {
            "colorbar": {
             "outlinewidth": 0,
             "ticks": ""
            },
            "colorscale": [
             [
              0,
              "#0d0887"
             ],
             [
              0.1111111111111111,
              "#46039f"
             ],
             [
              0.2222222222222222,
              "#7201a8"
             ],
             [
              0.3333333333333333,
              "#9c179e"
             ],
             [
              0.4444444444444444,
              "#bd3786"
             ],
             [
              0.5555555555555556,
              "#d8576b"
             ],
             [
              0.6666666666666666,
              "#ed7953"
             ],
             [
              0.7777777777777778,
              "#fb9f3a"
             ],
             [
              0.8888888888888888,
              "#fdca26"
             ],
             [
              1,
              "#f0f921"
             ]
            ],
            "type": "heatmapgl"
           }
          ],
          "histogram": [
           {
            "marker": {
             "pattern": {
              "fillmode": "overlay",
              "size": 10,
              "solidity": 0.2
             }
            },
            "type": "histogram"
           }
          ],
          "histogram2d": [
           {
            "colorbar": {
             "outlinewidth": 0,
             "ticks": ""
            },
            "colorscale": [
             [
              0,
              "#0d0887"
             ],
             [
              0.1111111111111111,
              "#46039f"
             ],
             [
              0.2222222222222222,
              "#7201a8"
             ],
             [
              0.3333333333333333,
              "#9c179e"
             ],
             [
              0.4444444444444444,
              "#bd3786"
             ],
             [
              0.5555555555555556,
              "#d8576b"
             ],
             [
              0.6666666666666666,
              "#ed7953"
             ],
             [
              0.7777777777777778,
              "#fb9f3a"
             ],
             [
              0.8888888888888888,
              "#fdca26"
             ],
             [
              1,
              "#f0f921"
             ]
            ],
            "type": "histogram2d"
           }
          ],
          "histogram2dcontour": [
           {
            "colorbar": {
             "outlinewidth": 0,
             "ticks": ""
            },
            "colorscale": [
             [
              0,
              "#0d0887"
             ],
             [
              0.1111111111111111,
              "#46039f"
             ],
             [
              0.2222222222222222,
              "#7201a8"
             ],
             [
              0.3333333333333333,
              "#9c179e"
             ],
             [
              0.4444444444444444,
              "#bd3786"
             ],
             [
              0.5555555555555556,
              "#d8576b"
             ],
             [
              0.6666666666666666,
              "#ed7953"
             ],
             [
              0.7777777777777778,
              "#fb9f3a"
             ],
             [
              0.8888888888888888,
              "#fdca26"
             ],
             [
              1,
              "#f0f921"
             ]
            ],
            "type": "histogram2dcontour"
           }
          ],
          "mesh3d": [
           {
            "colorbar": {
             "outlinewidth": 0,
             "ticks": ""
            },
            "type": "mesh3d"
           }
          ],
          "parcoords": [
           {
            "line": {
             "colorbar": {
              "outlinewidth": 0,
              "ticks": ""
             }
            },
            "type": "parcoords"
           }
          ],
          "pie": [
           {
            "automargin": true,
            "type": "pie"
           }
          ],
          "scatter": [
           {
            "fillpattern": {
             "fillmode": "overlay",
             "size": 10,
             "solidity": 0.2
            },
            "type": "scatter"
           }
          ],
          "scatter3d": [
           {
            "line": {
             "colorbar": {
              "outlinewidth": 0,
              "ticks": ""
             }
            },
            "marker": {
             "colorbar": {
              "outlinewidth": 0,
              "ticks": ""
             }
            },
            "type": "scatter3d"
           }
          ],
          "scattercarpet": [
           {
            "marker": {
             "colorbar": {
              "outlinewidth": 0,
              "ticks": ""
             }
            },
            "type": "scattercarpet"
           }
          ],
          "scattergeo": [
           {
            "marker": {
             "colorbar": {
              "outlinewidth": 0,
              "ticks": ""
             }
            },
            "type": "scattergeo"
           }
          ],
          "scattergl": [
           {
            "marker": {
             "colorbar": {
              "outlinewidth": 0,
              "ticks": ""
             }
            },
            "type": "scattergl"
           }
          ],
          "scattermapbox": [
           {
            "marker": {
             "colorbar": {
              "outlinewidth": 0,
              "ticks": ""
             }
            },
            "type": "scattermapbox"
           }
          ],
          "scatterpolar": [
           {
            "marker": {
             "colorbar": {
              "outlinewidth": 0,
              "ticks": ""
             }
            },
            "type": "scatterpolar"
           }
          ],
          "scatterpolargl": [
           {
            "marker": {
             "colorbar": {
              "outlinewidth": 0,
              "ticks": ""
             }
            },
            "type": "scatterpolargl"
           }
          ],
          "scatterternary": [
           {
            "marker": {
             "colorbar": {
              "outlinewidth": 0,
              "ticks": ""
             }
            },
            "type": "scatterternary"
           }
          ],
          "surface": [
           {
            "colorbar": {
             "outlinewidth": 0,
             "ticks": ""
            },
            "colorscale": [
             [
              0,
              "#0d0887"
             ],
             [
              0.1111111111111111,
              "#46039f"
             ],
             [
              0.2222222222222222,
              "#7201a8"
             ],
             [
              0.3333333333333333,
              "#9c179e"
             ],
             [
              0.4444444444444444,
              "#bd3786"
             ],
             [
              0.5555555555555556,
              "#d8576b"
             ],
             [
              0.6666666666666666,
              "#ed7953"
             ],
             [
              0.7777777777777778,
              "#fb9f3a"
             ],
             [
              0.8888888888888888,
              "#fdca26"
             ],
             [
              1,
              "#f0f921"
             ]
            ],
            "type": "surface"
           }
          ],
          "table": [
           {
            "cells": {
             "fill": {
              "color": "#EBF0F8"
             },
             "line": {
              "color": "white"
             }
            },
            "header": {
             "fill": {
              "color": "#C8D4E3"
             },
             "line": {
              "color": "white"
             }
            },
            "type": "table"
           }
          ]
         },
         "layout": {
          "annotationdefaults": {
           "arrowcolor": "#2a3f5f",
           "arrowhead": 0,
           "arrowwidth": 1
          },
          "autotypenumbers": "strict",
          "coloraxis": {
           "colorbar": {
            "outlinewidth": 0,
            "ticks": ""
           }
          },
          "colorscale": {
           "diverging": [
            [
             0,
             "#8e0152"
            ],
            [
             0.1,
             "#c51b7d"
            ],
            [
             0.2,
             "#de77ae"
            ],
            [
             0.3,
             "#f1b6da"
            ],
            [
             0.4,
             "#fde0ef"
            ],
            [
             0.5,
             "#f7f7f7"
            ],
            [
             0.6,
             "#e6f5d0"
            ],
            [
             0.7,
             "#b8e186"
            ],
            [
             0.8,
             "#7fbc41"
            ],
            [
             0.9,
             "#4d9221"
            ],
            [
             1,
             "#276419"
            ]
           ],
           "sequential": [
            [
             0,
             "#0d0887"
            ],
            [
             0.1111111111111111,
             "#46039f"
            ],
            [
             0.2222222222222222,
             "#7201a8"
            ],
            [
             0.3333333333333333,
             "#9c179e"
            ],
            [
             0.4444444444444444,
             "#bd3786"
            ],
            [
             0.5555555555555556,
             "#d8576b"
            ],
            [
             0.6666666666666666,
             "#ed7953"
            ],
            [
             0.7777777777777778,
             "#fb9f3a"
            ],
            [
             0.8888888888888888,
             "#fdca26"
            ],
            [
             1,
             "#f0f921"
            ]
           ],
           "sequentialminus": [
            [
             0,
             "#0d0887"
            ],
            [
             0.1111111111111111,
             "#46039f"
            ],
            [
             0.2222222222222222,
             "#7201a8"
            ],
            [
             0.3333333333333333,
             "#9c179e"
            ],
            [
             0.4444444444444444,
             "#bd3786"
            ],
            [
             0.5555555555555556,
             "#d8576b"
            ],
            [
             0.6666666666666666,
             "#ed7953"
            ],
            [
             0.7777777777777778,
             "#fb9f3a"
            ],
            [
             0.8888888888888888,
             "#fdca26"
            ],
            [
             1,
             "#f0f921"
            ]
           ]
          },
          "colorway": [
           "#636efa",
           "#EF553B",
           "#00cc96",
           "#ab63fa",
           "#FFA15A",
           "#19d3f3",
           "#FF6692",
           "#B6E880",
           "#FF97FF",
           "#FECB52"
          ],
          "font": {
           "color": "#2a3f5f"
          },
          "geo": {
           "bgcolor": "white",
           "lakecolor": "white",
           "landcolor": "#E5ECF6",
           "showlakes": true,
           "showland": true,
           "subunitcolor": "white"
          },
          "hoverlabel": {
           "align": "left"
          },
          "hovermode": "closest",
          "mapbox": {
           "style": "light"
          },
          "paper_bgcolor": "white",
          "plot_bgcolor": "#E5ECF6",
          "polar": {
           "angularaxis": {
            "gridcolor": "white",
            "linecolor": "white",
            "ticks": ""
           },
           "bgcolor": "#E5ECF6",
           "radialaxis": {
            "gridcolor": "white",
            "linecolor": "white",
            "ticks": ""
           }
          },
          "scene": {
           "xaxis": {
            "backgroundcolor": "#E5ECF6",
            "gridcolor": "white",
            "gridwidth": 2,
            "linecolor": "white",
            "showbackground": true,
            "ticks": "",
            "zerolinecolor": "white"
           },
           "yaxis": {
            "backgroundcolor": "#E5ECF6",
            "gridcolor": "white",
            "gridwidth": 2,
            "linecolor": "white",
            "showbackground": true,
            "ticks": "",
            "zerolinecolor": "white"
           },
           "zaxis": {
            "backgroundcolor": "#E5ECF6",
            "gridcolor": "white",
            "gridwidth": 2,
            "linecolor": "white",
            "showbackground": true,
            "ticks": "",
            "zerolinecolor": "white"
           }
          },
          "shapedefaults": {
           "line": {
            "color": "#2a3f5f"
           }
          },
          "ternary": {
           "aaxis": {
            "gridcolor": "white",
            "linecolor": "white",
            "ticks": ""
           },
           "baxis": {
            "gridcolor": "white",
            "linecolor": "white",
            "ticks": ""
           },
           "bgcolor": "#E5ECF6",
           "caxis": {
            "gridcolor": "white",
            "linecolor": "white",
            "ticks": ""
           }
          },
          "title": {
           "x": 0.05
          },
          "xaxis": {
           "automargin": true,
           "gridcolor": "white",
           "linecolor": "white",
           "ticks": "",
           "title": {
            "standoff": 15
           },
           "zerolinecolor": "white",
           "zerolinewidth": 2
          },
          "yaxis": {
           "automargin": true,
           "gridcolor": "white",
           "linecolor": "white",
           "ticks": "",
           "title": {
            "standoff": 15
           },
           "zerolinecolor": "white",
           "zerolinewidth": 2
          }
         }
        },
        "title": {
         "text": "Top 10 Technology Companies YTD Returns (%)"
        },
        "xaxis": {
         "anchor": "y",
         "domain": [
          0,
          1
         ],
         "title": {
          "text": "Date"
         }
        },
        "yaxis": {
         "anchor": "x",
         "domain": [
          0,
          1
         ],
         "title": {
          "text": "YTD Returns (%)"
         }
        }
       }
      }
     },
     "metadata": {},
     "output_type": "display_data"
    }
   ],
   "source": [
    "ytd_top10_tech = px.line(\n",
    "    hist_data_merge[hist_data_merge['Sector']=='Technology'], x='Date', y='YTD Return', color='Security', color_discrete_sequence=px.colors.qualitative.T10,\n",
    "    title='Top 10 Technology Companies YTD Returns (%)'\n",
    ")\n",
    "ytd_top10_tech.update_layout(yaxis_title='YTD Returns (%)', legend_title='Companies')\n",
    "ytd_top10_tech.show()"
   ]
  },
  {
   "cell_type": "code",
   "execution_count": 83,
   "id": "6fe4a38a",
   "metadata": {},
   "outputs": [
    {
     "data": {
      "application/vnd.plotly.v1+json": {
       "config": {
        "plotlyServerURL": "https://plotly.com"
       },
       "data": [
        {
         "hovertemplate": "Security=Alphabet Inc. (Class A)<br>Date=%{x}<br>YTD Return=%{y}<extra></extra>",
         "legendgroup": "Alphabet Inc. (Class A)",
         "line": {
          "color": "#4C78A8",
          "dash": "solid"
         },
         "marker": {
          "symbol": "circle"
         },
         "mode": "lines",
         "name": "Alphabet Inc. (Class A)",
         "showlegend": true,
         "type": "scattergl",
         "x": [
          "2025-01-02T00:00:00-05:00",
          "2025-01-03T00:00:00-05:00",
          "2025-01-06T00:00:00-05:00",
          "2025-01-07T00:00:00-05:00",
          "2025-01-08T00:00:00-05:00",
          "2025-01-10T00:00:00-05:00",
          "2025-01-13T00:00:00-05:00",
          "2025-01-14T00:00:00-05:00",
          "2025-01-15T00:00:00-05:00",
          "2025-01-16T00:00:00-05:00",
          "2025-01-17T00:00:00-05:00",
          "2025-01-21T00:00:00-05:00",
          "2025-01-22T00:00:00-05:00",
          "2025-01-23T00:00:00-05:00",
          "2025-01-24T00:00:00-05:00",
          "2025-01-27T00:00:00-05:00",
          "2025-01-28T00:00:00-05:00",
          "2025-01-29T00:00:00-05:00",
          "2025-01-30T00:00:00-05:00",
          "2025-01-31T00:00:00-05:00",
          "2025-02-03T00:00:00-05:00",
          "2025-02-04T00:00:00-05:00",
          "2025-02-05T00:00:00-05:00",
          "2025-02-06T00:00:00-05:00",
          "2025-02-07T00:00:00-05:00",
          "2025-02-10T00:00:00-05:00",
          "2025-02-11T00:00:00-05:00",
          "2025-02-12T00:00:00-05:00",
          "2025-02-13T00:00:00-05:00",
          "2025-02-14T00:00:00-05:00",
          "2025-02-18T00:00:00-05:00",
          "2025-02-19T00:00:00-05:00",
          "2025-02-20T00:00:00-05:00",
          "2025-02-21T00:00:00-05:00",
          "2025-02-24T00:00:00-05:00",
          "2025-02-25T00:00:00-05:00",
          "2025-02-26T00:00:00-05:00",
          "2025-02-27T00:00:00-05:00",
          "2025-02-28T00:00:00-05:00",
          "2025-03-03T00:00:00-05:00",
          "2025-03-04T00:00:00-05:00",
          "2025-03-05T00:00:00-05:00",
          "2025-03-06T00:00:00-05:00",
          "2025-03-07T00:00:00-05:00",
          "2025-03-10T00:00:00-04:00",
          "2025-03-11T00:00:00-04:00",
          "2025-03-12T00:00:00-04:00",
          "2025-03-13T00:00:00-04:00",
          "2025-03-14T00:00:00-04:00",
          "2025-03-17T00:00:00-04:00",
          "2025-03-18T00:00:00-04:00",
          "2025-03-19T00:00:00-04:00",
          "2025-03-20T00:00:00-04:00",
          "2025-03-21T00:00:00-04:00",
          "2025-03-24T00:00:00-04:00",
          "2025-03-25T00:00:00-04:00",
          "2025-03-26T00:00:00-04:00",
          "2025-03-27T00:00:00-04:00",
          "2025-03-28T00:00:00-04:00",
          "2025-03-31T00:00:00-04:00",
          "2025-04-01T00:00:00-04:00",
          "2025-04-02T00:00:00-04:00",
          "2025-04-03T00:00:00-04:00",
          "2025-04-04T00:00:00-04:00",
          "2025-04-07T00:00:00-04:00",
          "2025-04-08T00:00:00-04:00",
          "2025-04-09T00:00:00-04:00",
          "2025-04-10T00:00:00-04:00",
          "2025-04-11T00:00:00-04:00",
          "2025-04-14T00:00:00-04:00",
          "2025-04-15T00:00:00-04:00",
          "2025-04-16T00:00:00-04:00",
          "2025-04-17T00:00:00-04:00",
          "2025-04-21T00:00:00-04:00",
          "2025-04-22T00:00:00-04:00",
          "2025-04-23T00:00:00-04:00",
          "2025-04-24T00:00:00-04:00",
          "2025-04-25T00:00:00-04:00",
          "2025-04-28T00:00:00-04:00",
          "2025-04-29T00:00:00-04:00",
          "2025-04-30T00:00:00-04:00",
          "2025-05-01T00:00:00-04:00",
          "2025-05-02T00:00:00-04:00",
          "2025-05-05T00:00:00-04:00",
          "2025-05-06T00:00:00-04:00",
          "2025-05-07T00:00:00-04:00",
          "2025-05-08T00:00:00-04:00",
          "2025-05-09T00:00:00-04:00",
          "2025-05-12T00:00:00-04:00",
          "2025-05-13T00:00:00-04:00",
          "2025-05-14T00:00:00-04:00",
          "2025-05-15T00:00:00-04:00",
          "2025-05-16T00:00:00-04:00",
          "2025-05-19T00:00:00-04:00",
          "2025-05-20T00:00:00-04:00",
          "2025-05-21T00:00:00-04:00",
          "2025-05-22T00:00:00-04:00",
          "2025-05-23T00:00:00-04:00",
          "2025-05-27T00:00:00-04:00",
          "2025-05-28T00:00:00-04:00",
          "2025-05-29T00:00:00-04:00",
          "2025-05-30T00:00:00-04:00",
          "2025-06-02T00:00:00-04:00",
          "2025-06-03T00:00:00-04:00",
          "2025-06-04T00:00:00-04:00",
          "2025-06-05T00:00:00-04:00",
          "2025-06-06T00:00:00-04:00",
          "2025-06-09T00:00:00-04:00",
          "2025-06-10T00:00:00-04:00",
          "2025-06-11T00:00:00-04:00",
          "2025-06-12T00:00:00-04:00",
          "2025-06-13T00:00:00-04:00"
         ],
         "xaxis": "x",
         "y": [
          0,
          1.246,
          3.928,
          3.199,
          2.386,
          1.378,
          0.834,
          0.121,
          3.231,
          1.837,
          3.468,
          4.551,
          4.719,
          4.514,
          5.691,
          1.256,
          3.099,
          3.157,
          6.039,
          7.702,
          6.229,
          8.948,
          1.003,
          1.146,
          -2.159,
          -1.563,
          -2.17,
          -3.072,
          -1.737,
          -2.217,
          -2.988,
          -2.196,
          -2.571,
          -5.158,
          -5.374,
          -7.396,
          -8.816,
          -11.049,
          -10.109,
          -11.836,
          -9.771,
          -8.663,
          -9.017,
          -8.219,
          -12.336,
          -13.304,
          -11.681,
          -13.98,
          -12.537,
          -13.172,
          -15.085,
          -13.383,
          -13.959,
          -13.33,
          -11.38,
          -9.858,
          -12.765,
          -14.255,
          -18.435,
          -18.272,
          -16.987,
          -17.003,
          -20.343,
          -23.049,
          -22.442,
          -23.525,
          -16.121,
          -19.233,
          -16.95,
          -15.93,
          -17.389,
          -18.964,
          -20.111,
          -21.955,
          -19.947,
          -17.896,
          -15.819,
          -14.403,
          -15.116,
          -15.354,
          -16.073,
          -14.752,
          -13.309,
          -13.214,
          -13.732,
          -19.995,
          -18.462,
          -19.27,
          -16.253,
          -15.687,
          -12.601,
          -13.346,
          -12.167,
          -11.982,
          -13.335,
          -10.915,
          -9.694,
          -10.962,
          -8.621,
          -8.906,
          -9.171,
          -9.234,
          -10.666,
          -12.173,
          -11.184,
          -11.1,
          -8.209,
          -6.822,
          -5.494,
          -6.156,
          -7.029,
          -7.574
         ],
         "yaxis": "y"
        },
        {
         "hovertemplate": "Security=Alphabet Inc. (Class C)<br>Date=%{x}<br>YTD Return=%{y}<extra></extra>",
         "legendgroup": "Alphabet Inc. (Class C)",
         "line": {
          "color": "#F58518",
          "dash": "solid"
         },
         "marker": {
          "symbol": "circle"
         },
         "mode": "lines",
         "name": "Alphabet Inc. (Class C)",
         "showlegend": true,
         "type": "scattergl",
         "x": [
          "2025-01-02T00:00:00-05:00",
          "2025-01-03T00:00:00-05:00",
          "2025-01-06T00:00:00-05:00",
          "2025-01-07T00:00:00-05:00",
          "2025-01-08T00:00:00-05:00",
          "2025-01-10T00:00:00-05:00",
          "2025-01-13T00:00:00-05:00",
          "2025-01-14T00:00:00-05:00",
          "2025-01-15T00:00:00-05:00",
          "2025-01-16T00:00:00-05:00",
          "2025-01-17T00:00:00-05:00",
          "2025-01-21T00:00:00-05:00",
          "2025-01-22T00:00:00-05:00",
          "2025-01-23T00:00:00-05:00",
          "2025-01-24T00:00:00-05:00",
          "2025-01-27T00:00:00-05:00",
          "2025-01-28T00:00:00-05:00",
          "2025-01-29T00:00:00-05:00",
          "2025-01-30T00:00:00-05:00",
          "2025-01-31T00:00:00-05:00",
          "2025-02-03T00:00:00-05:00",
          "2025-02-04T00:00:00-05:00",
          "2025-02-05T00:00:00-05:00",
          "2025-02-06T00:00:00-05:00",
          "2025-02-07T00:00:00-05:00",
          "2025-02-10T00:00:00-05:00",
          "2025-02-11T00:00:00-05:00",
          "2025-02-12T00:00:00-05:00",
          "2025-02-13T00:00:00-05:00",
          "2025-02-14T00:00:00-05:00",
          "2025-02-18T00:00:00-05:00",
          "2025-02-19T00:00:00-05:00",
          "2025-02-20T00:00:00-05:00",
          "2025-02-21T00:00:00-05:00",
          "2025-02-24T00:00:00-05:00",
          "2025-02-25T00:00:00-05:00",
          "2025-02-26T00:00:00-05:00",
          "2025-02-27T00:00:00-05:00",
          "2025-02-28T00:00:00-05:00",
          "2025-03-03T00:00:00-05:00",
          "2025-03-04T00:00:00-05:00",
          "2025-03-05T00:00:00-05:00",
          "2025-03-06T00:00:00-05:00",
          "2025-03-07T00:00:00-05:00",
          "2025-03-10T00:00:00-04:00",
          "2025-03-11T00:00:00-04:00",
          "2025-03-12T00:00:00-04:00",
          "2025-03-13T00:00:00-04:00",
          "2025-03-14T00:00:00-04:00",
          "2025-03-17T00:00:00-04:00",
          "2025-03-18T00:00:00-04:00",
          "2025-03-19T00:00:00-04:00",
          "2025-03-20T00:00:00-04:00",
          "2025-03-21T00:00:00-04:00",
          "2025-03-24T00:00:00-04:00",
          "2025-03-25T00:00:00-04:00",
          "2025-03-26T00:00:00-04:00",
          "2025-03-27T00:00:00-04:00",
          "2025-03-28T00:00:00-04:00",
          "2025-03-31T00:00:00-04:00",
          "2025-04-01T00:00:00-04:00",
          "2025-04-02T00:00:00-04:00",
          "2025-04-03T00:00:00-04:00",
          "2025-04-04T00:00:00-04:00",
          "2025-04-07T00:00:00-04:00",
          "2025-04-08T00:00:00-04:00",
          "2025-04-09T00:00:00-04:00",
          "2025-04-10T00:00:00-04:00",
          "2025-04-11T00:00:00-04:00",
          "2025-04-14T00:00:00-04:00",
          "2025-04-15T00:00:00-04:00",
          "2025-04-16T00:00:00-04:00",
          "2025-04-17T00:00:00-04:00",
          "2025-04-21T00:00:00-04:00",
          "2025-04-22T00:00:00-04:00",
          "2025-04-23T00:00:00-04:00",
          "2025-04-24T00:00:00-04:00",
          "2025-04-25T00:00:00-04:00",
          "2025-04-28T00:00:00-04:00",
          "2025-04-29T00:00:00-04:00",
          "2025-04-30T00:00:00-04:00",
          "2025-05-01T00:00:00-04:00",
          "2025-05-02T00:00:00-04:00",
          "2025-05-05T00:00:00-04:00",
          "2025-05-06T00:00:00-04:00",
          "2025-05-07T00:00:00-04:00",
          "2025-05-08T00:00:00-04:00",
          "2025-05-09T00:00:00-04:00",
          "2025-05-12T00:00:00-04:00",
          "2025-05-13T00:00:00-04:00",
          "2025-05-14T00:00:00-04:00",
          "2025-05-15T00:00:00-04:00",
          "2025-05-16T00:00:00-04:00",
          "2025-05-19T00:00:00-04:00",
          "2025-05-20T00:00:00-04:00",
          "2025-05-21T00:00:00-04:00",
          "2025-05-22T00:00:00-04:00",
          "2025-05-23T00:00:00-04:00",
          "2025-05-27T00:00:00-04:00",
          "2025-05-28T00:00:00-04:00",
          "2025-05-29T00:00:00-04:00",
          "2025-05-30T00:00:00-04:00",
          "2025-06-02T00:00:00-04:00",
          "2025-06-03T00:00:00-04:00",
          "2025-06-04T00:00:00-04:00",
          "2025-06-05T00:00:00-04:00",
          "2025-06-06T00:00:00-04:00",
          "2025-06-09T00:00:00-04:00",
          "2025-06-10T00:00:00-04:00",
          "2025-06-11T00:00:00-04:00",
          "2025-06-12T00:00:00-04:00",
          "2025-06-13T00:00:00-04:00"
         ],
         "xaxis": "x",
         "y": [
          0,
          1.311,
          3.845,
          3.189,
          2.497,
          1.332,
          0.871,
          0.22,
          3.331,
          1.983,
          3.63,
          4.721,
          4.931,
          4.695,
          5.912,
          1.647,
          3.378,
          3.436,
          6.295,
          7.853,
          6.3,
          8.96,
          1.401,
          1.406,
          -1.831,
          -1.275,
          -1.867,
          -2.728,
          -1.443,
          -1.972,
          -2.534,
          -1.836,
          -2.093,
          -4.747,
          -4.952,
          -6.956,
          -8.356,
          -10.712,
          -9.657,
          -11.525,
          -9.453,
          -8.204,
          -8.614,
          -7.806,
          -11.871,
          -12.832,
          -11.246,
          -13.488,
          -11.97,
          -12.522,
          -14.57,
          -12.674,
          -13.32,
          -12.69,
          -10.757,
          -9.255,
          -12.222,
          -13.829,
          -18.041,
          -17.952,
          -16.56,
          -16.571,
          -19.843,
          -22.411,
          -21.623,
          -23.02,
          -15.415,
          -18.404,
          -16.287,
          -15.2,
          -16.665,
          -18.335,
          -19.459,
          -21.297,
          -19.176,
          -17.17,
          -15.2,
          -13.95,
          -14.701,
          -14.89,
          -15.505,
          -14.507,
          -12.921,
          -12.795,
          -13.241,
          -19.753,
          -18.204,
          -18.924,
          -16.193,
          -15.505,
          -12.396,
          -13.136,
          -12.07,
          -11.839,
          -13.178,
          -10.689,
          -9.681,
          -10.936,
          -8.63,
          -8.945,
          -9.166,
          -9.224,
          -10.526,
          -11.923,
          -11.041,
          -10.82,
          -8.137,
          -6.601,
          -5.35,
          -5.991,
          -6.948,
          -7.521
         ],
         "yaxis": "y"
        },
        {
         "hovertemplate": "Security=Meta Platforms<br>Date=%{x}<br>YTD Return=%{y}<extra></extra>",
         "legendgroup": "Meta Platforms",
         "line": {
          "color": "#E45756",
          "dash": "solid"
         },
         "marker": {
          "symbol": "circle"
         },
         "mode": "lines",
         "name": "Meta Platforms",
         "showlegend": true,
         "type": "scattergl",
         "x": [
          "2025-01-02T00:00:00-05:00",
          "2025-01-03T00:00:00-05:00",
          "2025-01-06T00:00:00-05:00",
          "2025-01-07T00:00:00-05:00",
          "2025-01-08T00:00:00-05:00",
          "2025-01-10T00:00:00-05:00",
          "2025-01-13T00:00:00-05:00",
          "2025-01-14T00:00:00-05:00",
          "2025-01-15T00:00:00-05:00",
          "2025-01-16T00:00:00-05:00",
          "2025-01-17T00:00:00-05:00",
          "2025-01-21T00:00:00-05:00",
          "2025-01-22T00:00:00-05:00",
          "2025-01-23T00:00:00-05:00",
          "2025-01-24T00:00:00-05:00",
          "2025-01-27T00:00:00-05:00",
          "2025-01-28T00:00:00-05:00",
          "2025-01-29T00:00:00-05:00",
          "2025-01-30T00:00:00-05:00",
          "2025-01-31T00:00:00-05:00",
          "2025-02-03T00:00:00-05:00",
          "2025-02-04T00:00:00-05:00",
          "2025-02-05T00:00:00-05:00",
          "2025-02-06T00:00:00-05:00",
          "2025-02-07T00:00:00-05:00",
          "2025-02-10T00:00:00-05:00",
          "2025-02-11T00:00:00-05:00",
          "2025-02-12T00:00:00-05:00",
          "2025-02-13T00:00:00-05:00",
          "2025-02-14T00:00:00-05:00",
          "2025-02-18T00:00:00-05:00",
          "2025-02-19T00:00:00-05:00",
          "2025-02-20T00:00:00-05:00",
          "2025-02-21T00:00:00-05:00",
          "2025-02-24T00:00:00-05:00",
          "2025-02-25T00:00:00-05:00",
          "2025-02-26T00:00:00-05:00",
          "2025-02-27T00:00:00-05:00",
          "2025-02-28T00:00:00-05:00",
          "2025-03-03T00:00:00-05:00",
          "2025-03-04T00:00:00-05:00",
          "2025-03-05T00:00:00-05:00",
          "2025-03-06T00:00:00-05:00",
          "2025-03-07T00:00:00-05:00",
          "2025-03-10T00:00:00-04:00",
          "2025-03-11T00:00:00-04:00",
          "2025-03-12T00:00:00-04:00",
          "2025-03-13T00:00:00-04:00",
          "2025-03-14T00:00:00-04:00",
          "2025-03-17T00:00:00-04:00",
          "2025-03-18T00:00:00-04:00",
          "2025-03-19T00:00:00-04:00",
          "2025-03-20T00:00:00-04:00",
          "2025-03-21T00:00:00-04:00",
          "2025-03-24T00:00:00-04:00",
          "2025-03-25T00:00:00-04:00",
          "2025-03-26T00:00:00-04:00",
          "2025-03-27T00:00:00-04:00",
          "2025-03-28T00:00:00-04:00",
          "2025-03-31T00:00:00-04:00",
          "2025-04-01T00:00:00-04:00",
          "2025-04-02T00:00:00-04:00",
          "2025-04-03T00:00:00-04:00",
          "2025-04-04T00:00:00-04:00",
          "2025-04-07T00:00:00-04:00",
          "2025-04-08T00:00:00-04:00",
          "2025-04-09T00:00:00-04:00",
          "2025-04-10T00:00:00-04:00",
          "2025-04-11T00:00:00-04:00",
          "2025-04-14T00:00:00-04:00",
          "2025-04-15T00:00:00-04:00",
          "2025-04-16T00:00:00-04:00",
          "2025-04-17T00:00:00-04:00",
          "2025-04-21T00:00:00-04:00",
          "2025-04-22T00:00:00-04:00",
          "2025-04-23T00:00:00-04:00",
          "2025-04-24T00:00:00-04:00",
          "2025-04-25T00:00:00-04:00",
          "2025-04-28T00:00:00-04:00",
          "2025-04-29T00:00:00-04:00",
          "2025-04-30T00:00:00-04:00",
          "2025-05-01T00:00:00-04:00",
          "2025-05-02T00:00:00-04:00",
          "2025-05-05T00:00:00-04:00",
          "2025-05-06T00:00:00-04:00",
          "2025-05-07T00:00:00-04:00",
          "2025-05-08T00:00:00-04:00",
          "2025-05-09T00:00:00-04:00",
          "2025-05-12T00:00:00-04:00",
          "2025-05-13T00:00:00-04:00",
          "2025-05-14T00:00:00-04:00",
          "2025-05-15T00:00:00-04:00",
          "2025-05-16T00:00:00-04:00",
          "2025-05-19T00:00:00-04:00",
          "2025-05-20T00:00:00-04:00",
          "2025-05-21T00:00:00-04:00",
          "2025-05-22T00:00:00-04:00",
          "2025-05-23T00:00:00-04:00",
          "2025-05-27T00:00:00-04:00",
          "2025-05-28T00:00:00-04:00",
          "2025-05-29T00:00:00-04:00",
          "2025-05-30T00:00:00-04:00",
          "2025-06-02T00:00:00-04:00",
          "2025-06-03T00:00:00-04:00",
          "2025-06-04T00:00:00-04:00",
          "2025-06-05T00:00:00-04:00",
          "2025-06-06T00:00:00-04:00",
          "2025-06-09T00:00:00-04:00",
          "2025-06-10T00:00:00-04:00",
          "2025-06-11T00:00:00-04:00",
          "2025-06-12T00:00:00-04:00",
          "2025-06-13T00:00:00-04:00"
         ],
         "xaxis": "x",
         "y": [
          0,
          0.899,
          5.167,
          3.112,
          1.916,
          2.774,
          1.517,
          -0.833,
          2.984,
          2.013,
          2.258,
          2.874,
          4.048,
          6.21,
          8.052,
          10.119,
          12.531,
          12.891,
          14.645,
          15.009,
          16.391,
          17.514,
          17.627,
          18.816,
          19.238,
          19.718,
          20.119,
          21.05,
          21.581,
          22.934,
          19.546,
          17.444,
          15.954,
          14.069,
          11.496,
          9.722,
          12.426,
          9.846,
          11.508,
          9.313,
          6.802,
          9.55,
          4.788,
          4.409,
          -0.209,
          1.08,
          3.391,
          -1.435,
          1.485,
          1.034,
          -2.73,
          -2.446,
          -2.122,
          -0.41,
          3.364,
          4.61,
          2.05,
          0.647,
          -3.669,
          -3.733,
          -2.122,
          -2.468,
          -11.205,
          -15.697,
          -13.773,
          -14.741,
          -2.161,
          -8.755,
          -9.209,
          -11.229,
          -12.892,
          -16.101,
          -16.24,
          -19.049,
          -16.44,
          -13.101,
          -10.95,
          -8.591,
          -8.179,
          -7.394,
          -8.302,
          -4.426,
          -0.282,
          0.094,
          -1.904,
          -0.317,
          -0.116,
          -1.038,
          6.802,
          9.574,
          10.131,
          7.545,
          6.954,
          6.969,
          6.413,
          6.145,
          6.324,
          4.736,
          7.284,
          7.495,
          7.74,
          8.148,
          12.058,
          11.382,
          14.906,
          14.35,
          16.536,
          15.926,
          17.319,
          15.94,
          15.81,
          14.057
         ],
         "yaxis": "y"
        },
        {
         "hovertemplate": "Security=Netflix<br>Date=%{x}<br>YTD Return=%{y}<extra></extra>",
         "legendgroup": "Netflix",
         "line": {
          "color": "#72B7B2",
          "dash": "solid"
         },
         "marker": {
          "symbol": "circle"
         },
         "mode": "lines",
         "name": "Netflix",
         "showlegend": true,
         "type": "scattergl",
         "x": [
          "2025-01-02T00:00:00-05:00",
          "2025-01-03T00:00:00-05:00",
          "2025-01-06T00:00:00-05:00",
          "2025-01-07T00:00:00-05:00",
          "2025-01-08T00:00:00-05:00",
          "2025-01-10T00:00:00-05:00",
          "2025-01-13T00:00:00-05:00",
          "2025-01-14T00:00:00-05:00",
          "2025-01-15T00:00:00-05:00",
          "2025-01-16T00:00:00-05:00",
          "2025-01-17T00:00:00-05:00",
          "2025-01-21T00:00:00-05:00",
          "2025-01-22T00:00:00-05:00",
          "2025-01-23T00:00:00-05:00",
          "2025-01-24T00:00:00-05:00",
          "2025-01-27T00:00:00-05:00",
          "2025-01-28T00:00:00-05:00",
          "2025-01-29T00:00:00-05:00",
          "2025-01-30T00:00:00-05:00",
          "2025-01-31T00:00:00-05:00",
          "2025-02-03T00:00:00-05:00",
          "2025-02-04T00:00:00-05:00",
          "2025-02-05T00:00:00-05:00",
          "2025-02-06T00:00:00-05:00",
          "2025-02-07T00:00:00-05:00",
          "2025-02-10T00:00:00-05:00",
          "2025-02-11T00:00:00-05:00",
          "2025-02-12T00:00:00-05:00",
          "2025-02-13T00:00:00-05:00",
          "2025-02-14T00:00:00-05:00",
          "2025-02-18T00:00:00-05:00",
          "2025-02-19T00:00:00-05:00",
          "2025-02-20T00:00:00-05:00",
          "2025-02-21T00:00:00-05:00",
          "2025-02-24T00:00:00-05:00",
          "2025-02-25T00:00:00-05:00",
          "2025-02-26T00:00:00-05:00",
          "2025-02-27T00:00:00-05:00",
          "2025-02-28T00:00:00-05:00",
          "2025-03-03T00:00:00-05:00",
          "2025-03-04T00:00:00-05:00",
          "2025-03-05T00:00:00-05:00",
          "2025-03-06T00:00:00-05:00",
          "2025-03-07T00:00:00-05:00",
          "2025-03-10T00:00:00-04:00",
          "2025-03-11T00:00:00-04:00",
          "2025-03-12T00:00:00-04:00",
          "2025-03-13T00:00:00-04:00",
          "2025-03-14T00:00:00-04:00",
          "2025-03-17T00:00:00-04:00",
          "2025-03-18T00:00:00-04:00",
          "2025-03-19T00:00:00-04:00",
          "2025-03-20T00:00:00-04:00",
          "2025-03-21T00:00:00-04:00",
          "2025-03-24T00:00:00-04:00",
          "2025-03-25T00:00:00-04:00",
          "2025-03-26T00:00:00-04:00",
          "2025-03-27T00:00:00-04:00",
          "2025-03-28T00:00:00-04:00",
          "2025-03-31T00:00:00-04:00",
          "2025-04-01T00:00:00-04:00",
          "2025-04-02T00:00:00-04:00",
          "2025-04-03T00:00:00-04:00",
          "2025-04-04T00:00:00-04:00",
          "2025-04-07T00:00:00-04:00",
          "2025-04-08T00:00:00-04:00",
          "2025-04-09T00:00:00-04:00",
          "2025-04-10T00:00:00-04:00",
          "2025-04-11T00:00:00-04:00",
          "2025-04-14T00:00:00-04:00",
          "2025-04-15T00:00:00-04:00",
          "2025-04-16T00:00:00-04:00",
          "2025-04-17T00:00:00-04:00",
          "2025-04-21T00:00:00-04:00",
          "2025-04-22T00:00:00-04:00",
          "2025-04-23T00:00:00-04:00",
          "2025-04-24T00:00:00-04:00",
          "2025-04-25T00:00:00-04:00",
          "2025-04-28T00:00:00-04:00",
          "2025-04-29T00:00:00-04:00",
          "2025-04-30T00:00:00-04:00",
          "2025-05-01T00:00:00-04:00",
          "2025-05-02T00:00:00-04:00",
          "2025-05-05T00:00:00-04:00",
          "2025-05-06T00:00:00-04:00",
          "2025-05-07T00:00:00-04:00",
          "2025-05-08T00:00:00-04:00",
          "2025-05-09T00:00:00-04:00",
          "2025-05-12T00:00:00-04:00",
          "2025-05-13T00:00:00-04:00",
          "2025-05-14T00:00:00-04:00",
          "2025-05-15T00:00:00-04:00",
          "2025-05-16T00:00:00-04:00",
          "2025-05-19T00:00:00-04:00",
          "2025-05-20T00:00:00-04:00",
          "2025-05-21T00:00:00-04:00",
          "2025-05-22T00:00:00-04:00",
          "2025-05-23T00:00:00-04:00",
          "2025-05-27T00:00:00-04:00",
          "2025-05-28T00:00:00-04:00",
          "2025-05-29T00:00:00-04:00",
          "2025-05-30T00:00:00-04:00",
          "2025-06-02T00:00:00-04:00",
          "2025-06-03T00:00:00-04:00",
          "2025-06-04T00:00:00-04:00",
          "2025-06-05T00:00:00-04:00",
          "2025-06-06T00:00:00-04:00",
          "2025-06-09T00:00:00-04:00",
          "2025-06-10T00:00:00-04:00",
          "2025-06-11T00:00:00-04:00",
          "2025-06-12T00:00:00-04:00",
          "2025-06-13T00:00:00-04:00"
         ],
         "xaxis": "x",
         "y": [
          0,
          -0.641,
          -0.557,
          -0.85,
          -1.323,
          -5.53,
          -5.237,
          -6.578,
          -4.338,
          -5.003,
          -3.229,
          -1.923,
          7.585,
          11.067,
          10.247,
          9.604,
          9.597,
          10.31,
          9.756,
          10.153,
          10.399,
          12.195,
          14.027,
          14.542,
          14.345,
          15.886,
          13.685,
          15.854,
          17.701,
          19.382,
          16.817,
          17.66,
          15.541,
          13.129,
          11.474,
          10.207,
          11.653,
          8.609,
          10.582,
          9.808,
          9.682,
          11.75,
          2.214,
          0.494,
          -2.261,
          0.944,
          3.716,
          0.388,
          3.526,
          7.137,
          4.877,
          8.205,
          7.23,
          8.296,
          9.615,
          12.467,
          9.464,
          10.149,
          5.314,
          5.165,
          4.697,
          5.502,
          3.419,
          -3.481,
          -2.131,
          -1.842,
          6.624,
          3.884,
          3.559,
          5.024,
          10.099,
          8.447,
          9.732,
          11.41,
          17.323,
          18.366,
          23.698,
          24.224,
          25.222,
          26.943,
          27.628,
          27.826,
          30.422,
          27.892,
          28.302,
          30.3,
          29.062,
          28.587,
          25.179,
          28.386,
          29.802,
          32.845,
          34.373,
          34.386,
          34.429,
          34.723,
          33.972,
          33.681,
          36.633,
          36.293,
          33.621,
          36.144,
          37.469,
          37.352,
          39.801,
          41.026,
          40.005,
          38.087,
          35.737,
          37.571,
          37.024,
          36.699
         ],
         "yaxis": "y"
        },
        {
         "hovertemplate": "Security=T-Mobile US<br>Date=%{x}<br>YTD Return=%{y}<extra></extra>",
         "legendgroup": "T-Mobile US",
         "line": {
          "color": "#54A24B",
          "dash": "solid"
         },
         "marker": {
          "symbol": "circle"
         },
         "mode": "lines",
         "name": "T-Mobile US",
         "showlegend": true,
         "type": "scattergl",
         "x": [
          "2025-01-02T00:00:00-05:00",
          "2025-01-03T00:00:00-05:00",
          "2025-01-06T00:00:00-05:00",
          "2025-01-07T00:00:00-05:00",
          "2025-01-08T00:00:00-05:00",
          "2025-01-10T00:00:00-05:00",
          "2025-01-13T00:00:00-05:00",
          "2025-01-14T00:00:00-05:00",
          "2025-01-15T00:00:00-05:00",
          "2025-01-16T00:00:00-05:00",
          "2025-01-17T00:00:00-05:00",
          "2025-01-21T00:00:00-05:00",
          "2025-01-22T00:00:00-05:00",
          "2025-01-23T00:00:00-05:00",
          "2025-01-24T00:00:00-05:00",
          "2025-01-27T00:00:00-05:00",
          "2025-01-28T00:00:00-05:00",
          "2025-01-29T00:00:00-05:00",
          "2025-01-30T00:00:00-05:00",
          "2025-01-31T00:00:00-05:00",
          "2025-02-03T00:00:00-05:00",
          "2025-02-04T00:00:00-05:00",
          "2025-02-05T00:00:00-05:00",
          "2025-02-06T00:00:00-05:00",
          "2025-02-07T00:00:00-05:00",
          "2025-02-10T00:00:00-05:00",
          "2025-02-11T00:00:00-05:00",
          "2025-02-12T00:00:00-05:00",
          "2025-02-13T00:00:00-05:00",
          "2025-02-14T00:00:00-05:00",
          "2025-02-18T00:00:00-05:00",
          "2025-02-19T00:00:00-05:00",
          "2025-02-20T00:00:00-05:00",
          "2025-02-21T00:00:00-05:00",
          "2025-02-24T00:00:00-05:00",
          "2025-02-25T00:00:00-05:00",
          "2025-02-26T00:00:00-05:00",
          "2025-02-27T00:00:00-05:00",
          "2025-02-28T00:00:00-05:00",
          "2025-03-03T00:00:00-05:00",
          "2025-03-04T00:00:00-05:00",
          "2025-03-05T00:00:00-05:00",
          "2025-03-06T00:00:00-05:00",
          "2025-03-07T00:00:00-05:00",
          "2025-03-10T00:00:00-04:00",
          "2025-03-11T00:00:00-04:00",
          "2025-03-12T00:00:00-04:00",
          "2025-03-13T00:00:00-04:00",
          "2025-03-14T00:00:00-04:00",
          "2025-03-17T00:00:00-04:00",
          "2025-03-18T00:00:00-04:00",
          "2025-03-19T00:00:00-04:00",
          "2025-03-20T00:00:00-04:00",
          "2025-03-21T00:00:00-04:00",
          "2025-03-24T00:00:00-04:00",
          "2025-03-25T00:00:00-04:00",
          "2025-03-26T00:00:00-04:00",
          "2025-03-27T00:00:00-04:00",
          "2025-03-28T00:00:00-04:00",
          "2025-03-31T00:00:00-04:00",
          "2025-04-01T00:00:00-04:00",
          "2025-04-02T00:00:00-04:00",
          "2025-04-03T00:00:00-04:00",
          "2025-04-04T00:00:00-04:00",
          "2025-04-07T00:00:00-04:00",
          "2025-04-08T00:00:00-04:00",
          "2025-04-09T00:00:00-04:00",
          "2025-04-10T00:00:00-04:00",
          "2025-04-11T00:00:00-04:00",
          "2025-04-14T00:00:00-04:00",
          "2025-04-15T00:00:00-04:00",
          "2025-04-16T00:00:00-04:00",
          "2025-04-17T00:00:00-04:00",
          "2025-04-21T00:00:00-04:00",
          "2025-04-22T00:00:00-04:00",
          "2025-04-23T00:00:00-04:00",
          "2025-04-24T00:00:00-04:00",
          "2025-04-25T00:00:00-04:00",
          "2025-04-28T00:00:00-04:00",
          "2025-04-29T00:00:00-04:00",
          "2025-04-30T00:00:00-04:00",
          "2025-05-01T00:00:00-04:00",
          "2025-05-02T00:00:00-04:00",
          "2025-05-05T00:00:00-04:00",
          "2025-05-06T00:00:00-04:00",
          "2025-05-07T00:00:00-04:00",
          "2025-05-08T00:00:00-04:00",
          "2025-05-09T00:00:00-04:00",
          "2025-05-12T00:00:00-04:00",
          "2025-05-13T00:00:00-04:00",
          "2025-05-14T00:00:00-04:00",
          "2025-05-15T00:00:00-04:00",
          "2025-05-16T00:00:00-04:00",
          "2025-05-19T00:00:00-04:00",
          "2025-05-20T00:00:00-04:00",
          "2025-05-21T00:00:00-04:00",
          "2025-05-22T00:00:00-04:00",
          "2025-05-23T00:00:00-04:00",
          "2025-05-27T00:00:00-04:00",
          "2025-05-28T00:00:00-04:00",
          "2025-05-29T00:00:00-04:00",
          "2025-05-30T00:00:00-04:00",
          "2025-06-02T00:00:00-04:00",
          "2025-06-03T00:00:00-04:00",
          "2025-06-04T00:00:00-04:00",
          "2025-06-05T00:00:00-04:00",
          "2025-06-06T00:00:00-04:00",
          "2025-06-09T00:00:00-04:00",
          "2025-06-10T00:00:00-04:00",
          "2025-06-11T00:00:00-04:00",
          "2025-06-12T00:00:00-04:00",
          "2025-06-13T00:00:00-04:00"
         ],
         "xaxis": "x",
         "y": [
          0,
          -0.191,
          -3.257,
          -3.275,
          -1.827,
          -3.749,
          -2.765,
          -2.437,
          -2.428,
          -1.722,
          -0.255,
          -0.018,
          -0.615,
          -1.59,
          -0.437,
          0.865,
          0.733,
          7.115,
          6.76,
          6.122,
          8.459,
          8.072,
          10.431,
          12.591,
          12.167,
          16.535,
          17.843,
          16.285,
          20.749,
          23.364,
          19.897,
          19.961,
          20.895,
          20.79,
          22.138,
          23.236,
          20.066,
          20.334,
          23.259,
          24.695,
          20.956,
          20.083,
          20.179,
          21.226,
          21.861,
          17.309,
          16.824,
          18.419,
          16.993,
          18.908,
          19.164,
          18.488,
          17.473,
          16.929,
          18.355,
          18.259,
          19.978,
          22.615,
          21.084,
          21.897,
          22.734,
          20.915,
          22.437,
          13.396,
          12.738,
          12.569,
          16.5,
          17.057,
          18.223,
          20.037,
          21.897,
          18.666,
          19.763,
          15.851,
          18.054,
          18.534,
          19.827,
          6.385,
          8.214,
          10.417,
          12.866,
          12.889,
          13.748,
          13.483,
          15.997,
          14.836,
          13.113,
          11.431,
          9.836,
          8.474,
          7.537,
          9.763,
          10.906,
          11.632,
          10.243,
          10.037,
          10.065,
          11.006,
          11.226,
          10.38,
          9.37,
          11.104,
          11.498,
          11.875,
          10.994,
          12.342,
          12.783,
          9.154,
          8.709,
          5.939,
          4.911,
          4.59
         ],
         "yaxis": "y"
        },
        {
         "hovertemplate": "Security=Walt Disney Company (The)<br>Date=%{x}<br>YTD Return=%{y}<extra></extra>",
         "legendgroup": "Walt Disney Company (The)",
         "line": {
          "color": "#EECA3B",
          "dash": "solid"
         },
         "marker": {
          "symbol": "circle"
         },
         "mode": "lines",
         "name": "Walt Disney Company (The)",
         "showlegend": true,
         "type": "scattergl",
         "x": [
          "2025-01-02T00:00:00-05:00",
          "2025-01-03T00:00:00-05:00",
          "2025-01-06T00:00:00-05:00",
          "2025-01-07T00:00:00-05:00",
          "2025-01-08T00:00:00-05:00",
          "2025-01-10T00:00:00-05:00",
          "2025-01-13T00:00:00-05:00",
          "2025-01-14T00:00:00-05:00",
          "2025-01-15T00:00:00-05:00",
          "2025-01-16T00:00:00-05:00",
          "2025-01-17T00:00:00-05:00",
          "2025-01-21T00:00:00-05:00",
          "2025-01-22T00:00:00-05:00",
          "2025-01-23T00:00:00-05:00",
          "2025-01-24T00:00:00-05:00",
          "2025-01-27T00:00:00-05:00",
          "2025-01-28T00:00:00-05:00",
          "2025-01-29T00:00:00-05:00",
          "2025-01-30T00:00:00-05:00",
          "2025-01-31T00:00:00-05:00",
          "2025-02-03T00:00:00-05:00",
          "2025-02-04T00:00:00-05:00",
          "2025-02-05T00:00:00-05:00",
          "2025-02-06T00:00:00-05:00",
          "2025-02-07T00:00:00-05:00",
          "2025-02-10T00:00:00-05:00",
          "2025-02-11T00:00:00-05:00",
          "2025-02-12T00:00:00-05:00",
          "2025-02-13T00:00:00-05:00",
          "2025-02-14T00:00:00-05:00",
          "2025-02-18T00:00:00-05:00",
          "2025-02-19T00:00:00-05:00",
          "2025-02-20T00:00:00-05:00",
          "2025-02-21T00:00:00-05:00",
          "2025-02-24T00:00:00-05:00",
          "2025-02-25T00:00:00-05:00",
          "2025-02-26T00:00:00-05:00",
          "2025-02-27T00:00:00-05:00",
          "2025-02-28T00:00:00-05:00",
          "2025-03-03T00:00:00-05:00",
          "2025-03-04T00:00:00-05:00",
          "2025-03-05T00:00:00-05:00",
          "2025-03-06T00:00:00-05:00",
          "2025-03-07T00:00:00-05:00",
          "2025-03-10T00:00:00-04:00",
          "2025-03-11T00:00:00-04:00",
          "2025-03-12T00:00:00-04:00",
          "2025-03-13T00:00:00-04:00",
          "2025-03-14T00:00:00-04:00",
          "2025-03-17T00:00:00-04:00",
          "2025-03-18T00:00:00-04:00",
          "2025-03-19T00:00:00-04:00",
          "2025-03-20T00:00:00-04:00",
          "2025-03-21T00:00:00-04:00",
          "2025-03-24T00:00:00-04:00",
          "2025-03-25T00:00:00-04:00",
          "2025-03-26T00:00:00-04:00",
          "2025-03-27T00:00:00-04:00",
          "2025-03-28T00:00:00-04:00",
          "2025-03-31T00:00:00-04:00",
          "2025-04-01T00:00:00-04:00",
          "2025-04-02T00:00:00-04:00",
          "2025-04-03T00:00:00-04:00",
          "2025-04-04T00:00:00-04:00",
          "2025-04-07T00:00:00-04:00",
          "2025-04-08T00:00:00-04:00",
          "2025-04-09T00:00:00-04:00",
          "2025-04-10T00:00:00-04:00",
          "2025-04-11T00:00:00-04:00",
          "2025-04-14T00:00:00-04:00",
          "2025-04-15T00:00:00-04:00",
          "2025-04-16T00:00:00-04:00",
          "2025-04-17T00:00:00-04:00",
          "2025-04-21T00:00:00-04:00",
          "2025-04-22T00:00:00-04:00",
          "2025-04-23T00:00:00-04:00",
          "2025-04-24T00:00:00-04:00",
          "2025-04-25T00:00:00-04:00",
          "2025-04-28T00:00:00-04:00",
          "2025-04-29T00:00:00-04:00",
          "2025-04-30T00:00:00-04:00",
          "2025-05-01T00:00:00-04:00",
          "2025-05-02T00:00:00-04:00",
          "2025-05-05T00:00:00-04:00",
          "2025-05-06T00:00:00-04:00",
          "2025-05-07T00:00:00-04:00",
          "2025-05-08T00:00:00-04:00",
          "2025-05-09T00:00:00-04:00",
          "2025-05-12T00:00:00-04:00",
          "2025-05-13T00:00:00-04:00",
          "2025-05-14T00:00:00-04:00",
          "2025-05-15T00:00:00-04:00",
          "2025-05-16T00:00:00-04:00",
          "2025-05-19T00:00:00-04:00",
          "2025-05-20T00:00:00-04:00",
          "2025-05-21T00:00:00-04:00",
          "2025-05-22T00:00:00-04:00",
          "2025-05-23T00:00:00-04:00",
          "2025-05-27T00:00:00-04:00",
          "2025-05-28T00:00:00-04:00",
          "2025-05-29T00:00:00-04:00",
          "2025-05-30T00:00:00-04:00",
          "2025-06-02T00:00:00-04:00",
          "2025-06-03T00:00:00-04:00",
          "2025-06-04T00:00:00-04:00",
          "2025-06-05T00:00:00-04:00",
          "2025-06-06T00:00:00-04:00",
          "2025-06-09T00:00:00-04:00",
          "2025-06-10T00:00:00-04:00",
          "2025-06-11T00:00:00-04:00",
          "2025-06-12T00:00:00-04:00",
          "2025-06-13T00:00:00-04:00"
         ],
         "xaxis": "x",
         "y": [
          0,
          0.307,
          0.208,
          0.514,
          -0.957,
          -1.958,
          -2.472,
          -2.436,
          -2.382,
          -3.934,
          -3.429,
          -1.913,
          -1.814,
          0.199,
          1.209,
          2.274,
          1.191,
          2.139,
          2.355,
          2.021,
          2.87,
          2.238,
          -0.253,
          1.146,
          0.036,
          -1.39,
          -1.624,
          -1.435,
          -1.11,
          -0.397,
          -1.137,
          0.478,
          -0.244,
          -1.949,
          0.343,
          -0.262,
          0.911,
          0.442,
          2.689,
          1.778,
          -1.633,
          -1.363,
          -4.864,
          -4.792,
          -6.984,
          -11.659,
          -10.883,
          -12.588,
          -10.991,
          -10.341,
          -10.35,
          -9.502,
          -10.792,
          -10.251,
          -9.601,
          -8.311,
          -9.06,
          -9.358,
          -11.505,
          -10.937,
          -11.857,
          -11.677,
          -19.834,
          -24.626,
          -24.833,
          -26.259,
          -17.488,
          -23.091,
          -23.398,
          -23.606,
          -23.29,
          -25.311,
          -23.47,
          -24.201,
          -22.315,
          -21.233,
          -18.778,
          -18.535,
          -18.643,
          -17.731,
          -17.93,
          -18.056,
          -16.54,
          -16.883,
          -16.829,
          -7.878,
          -5.143,
          -4.404,
          -0.298,
          0.505,
          1.913,
          1.263,
          2.346,
          1.66,
          1.39,
          -0.325,
          0.28,
          -0.993,
          1.39,
          0.632,
          1.083,
          2.003,
          1.922,
          2.509,
          2.409,
          1.543,
          2.779,
          4.367,
          7.138,
          7.851,
          7.029,
          6.425
         ],
         "yaxis": "y"
        },
        {
         "hovertemplate": "Security=AT&T<br>Date=%{x}<br>YTD Return=%{y}<extra></extra>",
         "legendgroup": "AT&T",
         "line": {
          "color": "#B279A2",
          "dash": "solid"
         },
         "marker": {
          "symbol": "circle"
         },
         "mode": "lines",
         "name": "AT&T",
         "showlegend": true,
         "type": "scattergl",
         "x": [
          "2025-01-02T00:00:00-05:00",
          "2025-01-03T00:00:00-05:00",
          "2025-01-06T00:00:00-05:00",
          "2025-01-07T00:00:00-05:00",
          "2025-01-08T00:00:00-05:00",
          "2025-01-10T00:00:00-05:00",
          "2025-01-13T00:00:00-05:00",
          "2025-01-14T00:00:00-05:00",
          "2025-01-15T00:00:00-05:00",
          "2025-01-16T00:00:00-05:00",
          "2025-01-17T00:00:00-05:00",
          "2025-01-21T00:00:00-05:00",
          "2025-01-22T00:00:00-05:00",
          "2025-01-23T00:00:00-05:00",
          "2025-01-24T00:00:00-05:00",
          "2025-01-27T00:00:00-05:00",
          "2025-01-28T00:00:00-05:00",
          "2025-01-29T00:00:00-05:00",
          "2025-01-30T00:00:00-05:00",
          "2025-01-31T00:00:00-05:00",
          "2025-02-03T00:00:00-05:00",
          "2025-02-04T00:00:00-05:00",
          "2025-02-05T00:00:00-05:00",
          "2025-02-06T00:00:00-05:00",
          "2025-02-07T00:00:00-05:00",
          "2025-02-10T00:00:00-05:00",
          "2025-02-11T00:00:00-05:00",
          "2025-02-12T00:00:00-05:00",
          "2025-02-13T00:00:00-05:00",
          "2025-02-14T00:00:00-05:00",
          "2025-02-18T00:00:00-05:00",
          "2025-02-19T00:00:00-05:00",
          "2025-02-20T00:00:00-05:00",
          "2025-02-21T00:00:00-05:00",
          "2025-02-24T00:00:00-05:00",
          "2025-02-25T00:00:00-05:00",
          "2025-02-26T00:00:00-05:00",
          "2025-02-27T00:00:00-05:00",
          "2025-02-28T00:00:00-05:00",
          "2025-03-03T00:00:00-05:00",
          "2025-03-04T00:00:00-05:00",
          "2025-03-05T00:00:00-05:00",
          "2025-03-06T00:00:00-05:00",
          "2025-03-07T00:00:00-05:00",
          "2025-03-10T00:00:00-04:00",
          "2025-03-11T00:00:00-04:00",
          "2025-03-12T00:00:00-04:00",
          "2025-03-13T00:00:00-04:00",
          "2025-03-14T00:00:00-04:00",
          "2025-03-17T00:00:00-04:00",
          "2025-03-18T00:00:00-04:00",
          "2025-03-19T00:00:00-04:00",
          "2025-03-20T00:00:00-04:00",
          "2025-03-21T00:00:00-04:00",
          "2025-03-24T00:00:00-04:00",
          "2025-03-25T00:00:00-04:00",
          "2025-03-26T00:00:00-04:00",
          "2025-03-27T00:00:00-04:00",
          "2025-03-28T00:00:00-04:00",
          "2025-03-31T00:00:00-04:00",
          "2025-04-01T00:00:00-04:00",
          "2025-04-02T00:00:00-04:00",
          "2025-04-03T00:00:00-04:00",
          "2025-04-04T00:00:00-04:00",
          "2025-04-07T00:00:00-04:00",
          "2025-04-08T00:00:00-04:00",
          "2025-04-09T00:00:00-04:00",
          "2025-04-10T00:00:00-04:00",
          "2025-04-11T00:00:00-04:00",
          "2025-04-14T00:00:00-04:00",
          "2025-04-15T00:00:00-04:00",
          "2025-04-16T00:00:00-04:00",
          "2025-04-17T00:00:00-04:00",
          "2025-04-21T00:00:00-04:00",
          "2025-04-22T00:00:00-04:00",
          "2025-04-23T00:00:00-04:00",
          "2025-04-24T00:00:00-04:00",
          "2025-04-25T00:00:00-04:00",
          "2025-04-28T00:00:00-04:00",
          "2025-04-29T00:00:00-04:00",
          "2025-04-30T00:00:00-04:00",
          "2025-05-01T00:00:00-04:00",
          "2025-05-02T00:00:00-04:00",
          "2025-05-05T00:00:00-04:00",
          "2025-05-06T00:00:00-04:00",
          "2025-05-07T00:00:00-04:00",
          "2025-05-08T00:00:00-04:00",
          "2025-05-09T00:00:00-04:00",
          "2025-05-12T00:00:00-04:00",
          "2025-05-13T00:00:00-04:00",
          "2025-05-14T00:00:00-04:00",
          "2025-05-15T00:00:00-04:00",
          "2025-05-16T00:00:00-04:00",
          "2025-05-19T00:00:00-04:00",
          "2025-05-20T00:00:00-04:00",
          "2025-05-21T00:00:00-04:00",
          "2025-05-22T00:00:00-04:00",
          "2025-05-23T00:00:00-04:00",
          "2025-05-27T00:00:00-04:00",
          "2025-05-28T00:00:00-04:00",
          "2025-05-29T00:00:00-04:00",
          "2025-05-30T00:00:00-04:00",
          "2025-06-02T00:00:00-04:00",
          "2025-06-03T00:00:00-04:00",
          "2025-06-04T00:00:00-04:00",
          "2025-06-05T00:00:00-04:00",
          "2025-06-06T00:00:00-04:00",
          "2025-06-09T00:00:00-04:00",
          "2025-06-10T00:00:00-04:00",
          "2025-06-11T00:00:00-04:00",
          "2025-06-12T00:00:00-04:00",
          "2025-06-13T00:00:00-04:00"
         ],
         "xaxis": "x",
         "y": [
          0,
          -0.701,
          -1.007,
          -2.76,
          -2.847,
          -3.788,
          -4.364,
          -3.3,
          -2.812,
          -2.324,
          -1.126,
          -0.239,
          -0.993,
          -0.061,
          0.781,
          7.08,
          8.233,
          7.479,
          6.548,
          5.262,
          7.568,
          7.568,
          8.544,
          8.455,
          8.855,
          10.274,
          11.56,
          12.492,
          13.69,
          14.754,
          15.641,
          16.395,
          15.996,
          18.081,
          18.613,
          18.214,
          17.859,
          19.323,
          21.585,
          22.96,
          16.307,
          16.129,
          18.569,
          20.299,
          21.009,
          15.375,
          14.089,
          15.73,
          17.904,
          19.012,
          18.037,
          19.057,
          18.835,
          19.855,
          19.589,
          21.142,
          22.65,
          25.09,
          25.001,
          25.444,
          26.332,
          24.823,
          26.864,
          18.17,
          19.012,
          17.061,
          17.416,
          18.303,
          20.096,
          21.934,
          23.279,
          21.127,
          21.71,
          18.034,
          20.858,
          21.89,
          23.414,
          20.186,
          22.203,
          22.383,
          24.176,
          23.907,
          23.772,
          23.324,
          26.238,
          25.969,
          23.145,
          24.803,
          21.083,
          18.572,
          18.527,
          22.517,
          24.265,
          25.61,
          24.534,
          23.145,
          22.069,
          22.921,
          22.786,
          23.279,
          22.741,
          24.624,
          25.207,
          25.341,
          22.652,
          24.445,
          25.879,
          24.893,
          27.403,
          27.045,
          26.731,
          26.372
         ],
         "yaxis": "y"
        },
        {
         "hovertemplate": "Security=Verizon<br>Date=%{x}<br>YTD Return=%{y}<extra></extra>",
         "legendgroup": "Verizon",
         "line": {
          "color": "#FF9DA6",
          "dash": "solid"
         },
         "marker": {
          "symbol": "circle"
         },
         "mode": "lines",
         "name": "Verizon",
         "showlegend": true,
         "type": "scattergl",
         "x": [
          "2025-01-02T00:00:00-05:00",
          "2025-01-03T00:00:00-05:00",
          "2025-01-06T00:00:00-05:00",
          "2025-01-07T00:00:00-05:00",
          "2025-01-08T00:00:00-05:00",
          "2025-01-10T00:00:00-05:00",
          "2025-01-13T00:00:00-05:00",
          "2025-01-14T00:00:00-05:00",
          "2025-01-15T00:00:00-05:00",
          "2025-01-16T00:00:00-05:00",
          "2025-01-17T00:00:00-05:00",
          "2025-01-21T00:00:00-05:00",
          "2025-01-22T00:00:00-05:00",
          "2025-01-23T00:00:00-05:00",
          "2025-01-24T00:00:00-05:00",
          "2025-01-27T00:00:00-05:00",
          "2025-01-28T00:00:00-05:00",
          "2025-01-29T00:00:00-05:00",
          "2025-01-30T00:00:00-05:00",
          "2025-01-31T00:00:00-05:00",
          "2025-02-03T00:00:00-05:00",
          "2025-02-04T00:00:00-05:00",
          "2025-02-05T00:00:00-05:00",
          "2025-02-06T00:00:00-05:00",
          "2025-02-07T00:00:00-05:00",
          "2025-02-10T00:00:00-05:00",
          "2025-02-11T00:00:00-05:00",
          "2025-02-12T00:00:00-05:00",
          "2025-02-13T00:00:00-05:00",
          "2025-02-14T00:00:00-05:00",
          "2025-02-18T00:00:00-05:00",
          "2025-02-19T00:00:00-05:00",
          "2025-02-20T00:00:00-05:00",
          "2025-02-21T00:00:00-05:00",
          "2025-02-24T00:00:00-05:00",
          "2025-02-25T00:00:00-05:00",
          "2025-02-26T00:00:00-05:00",
          "2025-02-27T00:00:00-05:00",
          "2025-02-28T00:00:00-05:00",
          "2025-03-03T00:00:00-05:00",
          "2025-03-04T00:00:00-05:00",
          "2025-03-05T00:00:00-05:00",
          "2025-03-06T00:00:00-05:00",
          "2025-03-07T00:00:00-05:00",
          "2025-03-10T00:00:00-04:00",
          "2025-03-11T00:00:00-04:00",
          "2025-03-12T00:00:00-04:00",
          "2025-03-13T00:00:00-04:00",
          "2025-03-14T00:00:00-04:00",
          "2025-03-17T00:00:00-04:00",
          "2025-03-18T00:00:00-04:00",
          "2025-03-19T00:00:00-04:00",
          "2025-03-20T00:00:00-04:00",
          "2025-03-21T00:00:00-04:00",
          "2025-03-24T00:00:00-04:00",
          "2025-03-25T00:00:00-04:00",
          "2025-03-26T00:00:00-04:00",
          "2025-03-27T00:00:00-04:00",
          "2025-03-28T00:00:00-04:00",
          "2025-03-31T00:00:00-04:00",
          "2025-04-01T00:00:00-04:00",
          "2025-04-02T00:00:00-04:00",
          "2025-04-03T00:00:00-04:00",
          "2025-04-04T00:00:00-04:00",
          "2025-04-07T00:00:00-04:00",
          "2025-04-08T00:00:00-04:00",
          "2025-04-09T00:00:00-04:00",
          "2025-04-10T00:00:00-04:00",
          "2025-04-11T00:00:00-04:00",
          "2025-04-14T00:00:00-04:00",
          "2025-04-15T00:00:00-04:00",
          "2025-04-16T00:00:00-04:00",
          "2025-04-17T00:00:00-04:00",
          "2025-04-21T00:00:00-04:00",
          "2025-04-22T00:00:00-04:00",
          "2025-04-23T00:00:00-04:00",
          "2025-04-24T00:00:00-04:00",
          "2025-04-25T00:00:00-04:00",
          "2025-04-28T00:00:00-04:00",
          "2025-04-29T00:00:00-04:00",
          "2025-04-30T00:00:00-04:00",
          "2025-05-01T00:00:00-04:00",
          "2025-05-02T00:00:00-04:00",
          "2025-05-05T00:00:00-04:00",
          "2025-05-06T00:00:00-04:00",
          "2025-05-07T00:00:00-04:00",
          "2025-05-08T00:00:00-04:00",
          "2025-05-09T00:00:00-04:00",
          "2025-05-12T00:00:00-04:00",
          "2025-05-13T00:00:00-04:00",
          "2025-05-14T00:00:00-04:00",
          "2025-05-15T00:00:00-04:00",
          "2025-05-16T00:00:00-04:00",
          "2025-05-19T00:00:00-04:00",
          "2025-05-20T00:00:00-04:00",
          "2025-05-21T00:00:00-04:00",
          "2025-05-22T00:00:00-04:00",
          "2025-05-23T00:00:00-04:00",
          "2025-05-27T00:00:00-04:00",
          "2025-05-28T00:00:00-04:00",
          "2025-05-29T00:00:00-04:00",
          "2025-05-30T00:00:00-04:00",
          "2025-06-02T00:00:00-04:00",
          "2025-06-03T00:00:00-04:00",
          "2025-06-04T00:00:00-04:00",
          "2025-06-05T00:00:00-04:00",
          "2025-06-06T00:00:00-04:00",
          "2025-06-09T00:00:00-04:00",
          "2025-06-10T00:00:00-04:00",
          "2025-06-11T00:00:00-04:00",
          "2025-06-12T00:00:00-04:00",
          "2025-06-13T00:00:00-04:00"
         ],
         "xaxis": "x",
         "y": [
          0,
          0.124,
          -1.492,
          -3.208,
          -3.158,
          -4.302,
          -3.518,
          -3.113,
          -3.366,
          -2.961,
          -1.847,
          -1.24,
          -1.417,
          -0.835,
          0.076,
          2.86,
          2.253,
          1.949,
          -0.101,
          -0.303,
          1.19,
          0.76,
          1.57,
          1.089,
          0.937,
          1.114,
          2.481,
          2.582,
          3.873,
          3.746,
          4.278,
          6.328,
          7.543,
          8.226,
          9.643,
          10.631,
          9.289,
          9.517,
          9.087,
          11.035,
          8.504,
          8.429,
          11.947,
          16.578,
          17.667,
          9.922,
          7.796,
          10.631,
          10.276,
          10.479,
          11.947,
          11.213,
          10.732,
          11.339,
          10.251,
          10.074,
          11.82,
          13.794,
          13.718,
          14.807,
          14.857,
          13.237,
          15.465,
          8.909,
          7.77,
          6.733,
          8.555,
          10.376,
          12.459,
          13.925,
          14.388,
          12.15,
          13.256,
          10.402,
          11.07,
          9.81,
          10.093,
          7.778,
          9.013,
          10.453,
          13.308,
          11.353,
          12.485,
          11.97,
          13.539,
          12.87,
          12.15,
          12.15,
          10.582,
          9.682,
          8.91,
          11.816,
          13.128,
          13.95,
          13.719,
          12.51,
          10.916,
          11.405,
          11.867,
          10.916,
          11.43,
          13.05,
          13.41,
          12.716,
          11.199,
          11.353,
          12.639,
          12.253,
          13.488,
          12.485,
          10.993,
          10.607
         ],
         "yaxis": "y"
        },
        {
         "hovertemplate": "Security=Comcast<br>Date=%{x}<br>YTD Return=%{y}<extra></extra>",
         "legendgroup": "Comcast",
         "line": {
          "color": "#9D755D",
          "dash": "solid"
         },
         "marker": {
          "symbol": "circle"
         },
         "mode": "lines",
         "name": "Comcast",
         "showlegend": true,
         "type": "scattergl",
         "x": [
          "2025-01-02T00:00:00-05:00",
          "2025-01-03T00:00:00-05:00",
          "2025-01-06T00:00:00-05:00",
          "2025-01-07T00:00:00-05:00",
          "2025-01-08T00:00:00-05:00",
          "2025-01-10T00:00:00-05:00",
          "2025-01-13T00:00:00-05:00",
          "2025-01-14T00:00:00-05:00",
          "2025-01-15T00:00:00-05:00",
          "2025-01-16T00:00:00-05:00",
          "2025-01-17T00:00:00-05:00",
          "2025-01-21T00:00:00-05:00",
          "2025-01-22T00:00:00-05:00",
          "2025-01-23T00:00:00-05:00",
          "2025-01-24T00:00:00-05:00",
          "2025-01-27T00:00:00-05:00",
          "2025-01-28T00:00:00-05:00",
          "2025-01-29T00:00:00-05:00",
          "2025-01-30T00:00:00-05:00",
          "2025-01-31T00:00:00-05:00",
          "2025-02-03T00:00:00-05:00",
          "2025-02-04T00:00:00-05:00",
          "2025-02-05T00:00:00-05:00",
          "2025-02-06T00:00:00-05:00",
          "2025-02-07T00:00:00-05:00",
          "2025-02-10T00:00:00-05:00",
          "2025-02-11T00:00:00-05:00",
          "2025-02-12T00:00:00-05:00",
          "2025-02-13T00:00:00-05:00",
          "2025-02-14T00:00:00-05:00",
          "2025-02-18T00:00:00-05:00",
          "2025-02-19T00:00:00-05:00",
          "2025-02-20T00:00:00-05:00",
          "2025-02-21T00:00:00-05:00",
          "2025-02-24T00:00:00-05:00",
          "2025-02-25T00:00:00-05:00",
          "2025-02-26T00:00:00-05:00",
          "2025-02-27T00:00:00-05:00",
          "2025-02-28T00:00:00-05:00",
          "2025-03-03T00:00:00-05:00",
          "2025-03-04T00:00:00-05:00",
          "2025-03-05T00:00:00-05:00",
          "2025-03-06T00:00:00-05:00",
          "2025-03-07T00:00:00-05:00",
          "2025-03-10T00:00:00-04:00",
          "2025-03-11T00:00:00-04:00",
          "2025-03-12T00:00:00-04:00",
          "2025-03-13T00:00:00-04:00",
          "2025-03-14T00:00:00-04:00",
          "2025-03-17T00:00:00-04:00",
          "2025-03-18T00:00:00-04:00",
          "2025-03-19T00:00:00-04:00",
          "2025-03-20T00:00:00-04:00",
          "2025-03-21T00:00:00-04:00",
          "2025-03-24T00:00:00-04:00",
          "2025-03-25T00:00:00-04:00",
          "2025-03-26T00:00:00-04:00",
          "2025-03-27T00:00:00-04:00",
          "2025-03-28T00:00:00-04:00",
          "2025-03-31T00:00:00-04:00",
          "2025-04-01T00:00:00-04:00",
          "2025-04-02T00:00:00-04:00",
          "2025-04-03T00:00:00-04:00",
          "2025-04-04T00:00:00-04:00",
          "2025-04-07T00:00:00-04:00",
          "2025-04-08T00:00:00-04:00",
          "2025-04-09T00:00:00-04:00",
          "2025-04-10T00:00:00-04:00",
          "2025-04-11T00:00:00-04:00",
          "2025-04-14T00:00:00-04:00",
          "2025-04-15T00:00:00-04:00",
          "2025-04-16T00:00:00-04:00",
          "2025-04-17T00:00:00-04:00",
          "2025-04-21T00:00:00-04:00",
          "2025-04-22T00:00:00-04:00",
          "2025-04-23T00:00:00-04:00",
          "2025-04-24T00:00:00-04:00",
          "2025-04-25T00:00:00-04:00",
          "2025-04-28T00:00:00-04:00",
          "2025-04-29T00:00:00-04:00",
          "2025-04-30T00:00:00-04:00",
          "2025-05-01T00:00:00-04:00",
          "2025-05-02T00:00:00-04:00",
          "2025-05-05T00:00:00-04:00",
          "2025-05-06T00:00:00-04:00",
          "2025-05-07T00:00:00-04:00",
          "2025-05-08T00:00:00-04:00",
          "2025-05-09T00:00:00-04:00",
          "2025-05-12T00:00:00-04:00",
          "2025-05-13T00:00:00-04:00",
          "2025-05-14T00:00:00-04:00",
          "2025-05-15T00:00:00-04:00",
          "2025-05-16T00:00:00-04:00",
          "2025-05-19T00:00:00-04:00",
          "2025-05-20T00:00:00-04:00",
          "2025-05-21T00:00:00-04:00",
          "2025-05-22T00:00:00-04:00",
          "2025-05-23T00:00:00-04:00",
          "2025-05-27T00:00:00-04:00",
          "2025-05-28T00:00:00-04:00",
          "2025-05-29T00:00:00-04:00",
          "2025-05-30T00:00:00-04:00",
          "2025-06-02T00:00:00-04:00",
          "2025-06-03T00:00:00-04:00",
          "2025-06-04T00:00:00-04:00",
          "2025-06-05T00:00:00-04:00",
          "2025-06-06T00:00:00-04:00",
          "2025-06-09T00:00:00-04:00",
          "2025-06-10T00:00:00-04:00",
          "2025-06-11T00:00:00-04:00",
          "2025-06-12T00:00:00-04:00",
          "2025-06-13T00:00:00-04:00"
         ],
         "xaxis": "x",
         "y": [
          0,
          0.668,
          0.187,
          -0.641,
          0.167,
          -2.016,
          -1.773,
          -1.962,
          -1.638,
          -2.15,
          -1.423,
          -0.372,
          0.005,
          0.976,
          1.38,
          3.024,
          1.191,
          0.679,
          -10.397,
          -9.292,
          -10.558,
          -9.588,
          -8.537,
          -7.109,
          -7.378,
          -7.109,
          -5.061,
          -5.95,
          -4.657,
          -4.63,
          -2.043,
          -1.692,
          -1.881,
          -2.339,
          -2.177,
          -3.39,
          -5.411,
          -4.63,
          -3.309,
          -3.04,
          -4.333,
          -4.172,
          -2.258,
          1.299,
          -2.689,
          -3.121,
          -5.169,
          -6.489,
          -4.522,
          -3.66,
          -2.959,
          -2.743,
          -1.638,
          -0.965,
          -1.369,
          -0.453,
          0.706,
          0.706,
          -1.315,
          -0.561,
          -1.046,
          -0.447,
          -2.867,
          -9.231,
          -8.986,
          -10.699,
          -4.336,
          -8.415,
          -8.306,
          -7.137,
          -6.457,
          -8.768,
          -7.517,
          -8.632,
          -7.001,
          -6.267,
          -9.747,
          -7.817,
          -8.17,
          -7.708,
          -7.001,
          -8.034,
          -6.294,
          -6.321,
          -6.212,
          -6.484,
          -6.946,
          -6.865,
          -5.587,
          -5.396,
          -6.022,
          -3.928,
          -3.52,
          -3.629,
          -3.221,
          -4.553,
          -5.94,
          -6.131,
          -4.961,
          -5.832,
          -6.783,
          -5.995,
          -6.647,
          -5.75,
          -6.348,
          -6.946,
          -5.641,
          -5.913,
          -3.139,
          -4.336,
          -4.091,
          -4.798
         ],
         "yaxis": "y"
        },
        {
         "hovertemplate": "Security=Charter Communications<br>Date=%{x}<br>YTD Return=%{y}<extra></extra>",
         "legendgroup": "Charter Communications",
         "line": {
          "color": "#BAB0AC",
          "dash": "solid"
         },
         "marker": {
          "symbol": "circle"
         },
         "mode": "lines",
         "name": "Charter Communications",
         "showlegend": true,
         "type": "scattergl",
         "x": [
          "2025-01-02T00:00:00-05:00",
          "2025-01-03T00:00:00-05:00",
          "2025-01-06T00:00:00-05:00",
          "2025-01-07T00:00:00-05:00",
          "2025-01-08T00:00:00-05:00",
          "2025-01-10T00:00:00-05:00",
          "2025-01-13T00:00:00-05:00",
          "2025-01-14T00:00:00-05:00",
          "2025-01-15T00:00:00-05:00",
          "2025-01-16T00:00:00-05:00",
          "2025-01-17T00:00:00-05:00",
          "2025-01-21T00:00:00-05:00",
          "2025-01-22T00:00:00-05:00",
          "2025-01-23T00:00:00-05:00",
          "2025-01-24T00:00:00-05:00",
          "2025-01-27T00:00:00-05:00",
          "2025-01-28T00:00:00-05:00",
          "2025-01-29T00:00:00-05:00",
          "2025-01-30T00:00:00-05:00",
          "2025-01-31T00:00:00-05:00",
          "2025-02-03T00:00:00-05:00",
          "2025-02-04T00:00:00-05:00",
          "2025-02-05T00:00:00-05:00",
          "2025-02-06T00:00:00-05:00",
          "2025-02-07T00:00:00-05:00",
          "2025-02-10T00:00:00-05:00",
          "2025-02-11T00:00:00-05:00",
          "2025-02-12T00:00:00-05:00",
          "2025-02-13T00:00:00-05:00",
          "2025-02-14T00:00:00-05:00",
          "2025-02-18T00:00:00-05:00",
          "2025-02-19T00:00:00-05:00",
          "2025-02-20T00:00:00-05:00",
          "2025-02-21T00:00:00-05:00",
          "2025-02-24T00:00:00-05:00",
          "2025-02-25T00:00:00-05:00",
          "2025-02-26T00:00:00-05:00",
          "2025-02-27T00:00:00-05:00",
          "2025-02-28T00:00:00-05:00",
          "2025-03-03T00:00:00-05:00",
          "2025-03-04T00:00:00-05:00",
          "2025-03-05T00:00:00-05:00",
          "2025-03-06T00:00:00-05:00",
          "2025-03-07T00:00:00-05:00",
          "2025-03-10T00:00:00-04:00",
          "2025-03-11T00:00:00-04:00",
          "2025-03-12T00:00:00-04:00",
          "2025-03-13T00:00:00-04:00",
          "2025-03-14T00:00:00-04:00",
          "2025-03-17T00:00:00-04:00",
          "2025-03-18T00:00:00-04:00",
          "2025-03-19T00:00:00-04:00",
          "2025-03-20T00:00:00-04:00",
          "2025-03-21T00:00:00-04:00",
          "2025-03-24T00:00:00-04:00",
          "2025-03-25T00:00:00-04:00",
          "2025-03-26T00:00:00-04:00",
          "2025-03-27T00:00:00-04:00",
          "2025-03-28T00:00:00-04:00",
          "2025-03-31T00:00:00-04:00",
          "2025-04-01T00:00:00-04:00",
          "2025-04-02T00:00:00-04:00",
          "2025-04-03T00:00:00-04:00",
          "2025-04-04T00:00:00-04:00",
          "2025-04-07T00:00:00-04:00",
          "2025-04-08T00:00:00-04:00",
          "2025-04-09T00:00:00-04:00",
          "2025-04-10T00:00:00-04:00",
          "2025-04-11T00:00:00-04:00",
          "2025-04-14T00:00:00-04:00",
          "2025-04-15T00:00:00-04:00",
          "2025-04-16T00:00:00-04:00",
          "2025-04-17T00:00:00-04:00",
          "2025-04-21T00:00:00-04:00",
          "2025-04-22T00:00:00-04:00",
          "2025-04-23T00:00:00-04:00",
          "2025-04-24T00:00:00-04:00",
          "2025-04-25T00:00:00-04:00",
          "2025-04-28T00:00:00-04:00",
          "2025-04-29T00:00:00-04:00",
          "2025-04-30T00:00:00-04:00",
          "2025-05-01T00:00:00-04:00",
          "2025-05-02T00:00:00-04:00",
          "2025-05-05T00:00:00-04:00",
          "2025-05-06T00:00:00-04:00",
          "2025-05-07T00:00:00-04:00",
          "2025-05-08T00:00:00-04:00",
          "2025-05-09T00:00:00-04:00",
          "2025-05-12T00:00:00-04:00",
          "2025-05-13T00:00:00-04:00",
          "2025-05-14T00:00:00-04:00",
          "2025-05-15T00:00:00-04:00",
          "2025-05-16T00:00:00-04:00",
          "2025-05-19T00:00:00-04:00",
          "2025-05-20T00:00:00-04:00",
          "2025-05-21T00:00:00-04:00",
          "2025-05-22T00:00:00-04:00",
          "2025-05-23T00:00:00-04:00",
          "2025-05-27T00:00:00-04:00",
          "2025-05-28T00:00:00-04:00",
          "2025-05-29T00:00:00-04:00",
          "2025-05-30T00:00:00-04:00",
          "2025-06-02T00:00:00-04:00",
          "2025-06-03T00:00:00-04:00",
          "2025-06-04T00:00:00-04:00",
          "2025-06-05T00:00:00-04:00",
          "2025-06-06T00:00:00-04:00",
          "2025-06-09T00:00:00-04:00",
          "2025-06-10T00:00:00-04:00",
          "2025-06-11T00:00:00-04:00",
          "2025-06-12T00:00:00-04:00",
          "2025-06-13T00:00:00-04:00"
         ],
         "xaxis": "x",
         "y": [
          0,
          2.576,
          0.057,
          -0.492,
          -0.009,
          -4.139,
          -3.295,
          -0.876,
          -0.386,
          -0.764,
          0.578,
          0.346,
          0.988,
          3.037,
          5.218,
          5.192,
          4.589,
          2.857,
          -3.644,
          -1.105,
          -2.247,
          -2.602,
          -1.231,
          1.134,
          -0.432,
          -1.609,
          0.449,
          1.491,
          3.269,
          3.126,
          3.547,
          3.501,
          3.91,
          3.335,
          4.709,
          2.685,
          1.182,
          2.774,
          4.07,
          6.1,
          5.442,
          8.321,
          9.615,
          8.636,
          6.919,
          1.866,
          0.114,
          -1.131,
          0.615,
          1.354,
          1.46,
          1.051,
          3.787,
          4.139,
          5.195,
          7.345,
          10.139,
          9.352,
          5.63,
          5.49,
          6.171,
          8.564,
          5.453,
          -3.166,
          -4.712,
          -7.92,
          -0.678,
          -3.973,
          -4.285,
          -2.562,
          -1.766,
          -4.823,
          -2.974,
          -7.706,
          -5.155,
          -3.389,
          -4.013,
          6.956,
          7.877,
          10.585,
          12.168,
          9.632,
          10.205,
          12.85,
          15.074,
          15.683,
          15.761,
          14.994,
          15.22,
          17.684,
          18.466,
          20.1,
          22.299,
          19.831,
          21.222,
          18.918,
          17.341,
          16.319,
          17.684,
          16.611,
          13.299,
          13.431,
          13.004,
          11.865,
          11.284,
          11.999,
          13.482,
          12.941,
          16.436,
          14.438,
          13.611,
          11.269
         ],
         "yaxis": "y"
        }
       ],
       "layout": {
        "legend": {
         "title": {
          "text": "Companies"
         },
         "tracegroupgap": 0
        },
        "template": {
         "data": {
          "bar": [
           {
            "error_x": {
             "color": "#2a3f5f"
            },
            "error_y": {
             "color": "#2a3f5f"
            },
            "marker": {
             "line": {
              "color": "#E5ECF6",
              "width": 0.5
             },
             "pattern": {
              "fillmode": "overlay",
              "size": 10,
              "solidity": 0.2
             }
            },
            "type": "bar"
           }
          ],
          "barpolar": [
           {
            "marker": {
             "line": {
              "color": "#E5ECF6",
              "width": 0.5
             },
             "pattern": {
              "fillmode": "overlay",
              "size": 10,
              "solidity": 0.2
             }
            },
            "type": "barpolar"
           }
          ],
          "carpet": [
           {
            "aaxis": {
             "endlinecolor": "#2a3f5f",
             "gridcolor": "white",
             "linecolor": "white",
             "minorgridcolor": "white",
             "startlinecolor": "#2a3f5f"
            },
            "baxis": {
             "endlinecolor": "#2a3f5f",
             "gridcolor": "white",
             "linecolor": "white",
             "minorgridcolor": "white",
             "startlinecolor": "#2a3f5f"
            },
            "type": "carpet"
           }
          ],
          "choropleth": [
           {
            "colorbar": {
             "outlinewidth": 0,
             "ticks": ""
            },
            "type": "choropleth"
           }
          ],
          "contour": [
           {
            "colorbar": {
             "outlinewidth": 0,
             "ticks": ""
            },
            "colorscale": [
             [
              0,
              "#0d0887"
             ],
             [
              0.1111111111111111,
              "#46039f"
             ],
             [
              0.2222222222222222,
              "#7201a8"
             ],
             [
              0.3333333333333333,
              "#9c179e"
             ],
             [
              0.4444444444444444,
              "#bd3786"
             ],
             [
              0.5555555555555556,
              "#d8576b"
             ],
             [
              0.6666666666666666,
              "#ed7953"
             ],
             [
              0.7777777777777778,
              "#fb9f3a"
             ],
             [
              0.8888888888888888,
              "#fdca26"
             ],
             [
              1,
              "#f0f921"
             ]
            ],
            "type": "contour"
           }
          ],
          "contourcarpet": [
           {
            "colorbar": {
             "outlinewidth": 0,
             "ticks": ""
            },
            "type": "contourcarpet"
           }
          ],
          "heatmap": [
           {
            "colorbar": {
             "outlinewidth": 0,
             "ticks": ""
            },
            "colorscale": [
             [
              0,
              "#0d0887"
             ],
             [
              0.1111111111111111,
              "#46039f"
             ],
             [
              0.2222222222222222,
              "#7201a8"
             ],
             [
              0.3333333333333333,
              "#9c179e"
             ],
             [
              0.4444444444444444,
              "#bd3786"
             ],
             [
              0.5555555555555556,
              "#d8576b"
             ],
             [
              0.6666666666666666,
              "#ed7953"
             ],
             [
              0.7777777777777778,
              "#fb9f3a"
             ],
             [
              0.8888888888888888,
              "#fdca26"
             ],
             [
              1,
              "#f0f921"
             ]
            ],
            "type": "heatmap"
           }
          ],
          "heatmapgl": [
           {
            "colorbar": {
             "outlinewidth": 0,
             "ticks": ""
            },
            "colorscale": [
             [
              0,
              "#0d0887"
             ],
             [
              0.1111111111111111,
              "#46039f"
             ],
             [
              0.2222222222222222,
              "#7201a8"
             ],
             [
              0.3333333333333333,
              "#9c179e"
             ],
             [
              0.4444444444444444,
              "#bd3786"
             ],
             [
              0.5555555555555556,
              "#d8576b"
             ],
             [
              0.6666666666666666,
              "#ed7953"
             ],
             [
              0.7777777777777778,
              "#fb9f3a"
             ],
             [
              0.8888888888888888,
              "#fdca26"
             ],
             [
              1,
              "#f0f921"
             ]
            ],
            "type": "heatmapgl"
           }
          ],
          "histogram": [
           {
            "marker": {
             "pattern": {
              "fillmode": "overlay",
              "size": 10,
              "solidity": 0.2
             }
            },
            "type": "histogram"
           }
          ],
          "histogram2d": [
           {
            "colorbar": {
             "outlinewidth": 0,
             "ticks": ""
            },
            "colorscale": [
             [
              0,
              "#0d0887"
             ],
             [
              0.1111111111111111,
              "#46039f"
             ],
             [
              0.2222222222222222,
              "#7201a8"
             ],
             [
              0.3333333333333333,
              "#9c179e"
             ],
             [
              0.4444444444444444,
              "#bd3786"
             ],
             [
              0.5555555555555556,
              "#d8576b"
             ],
             [
              0.6666666666666666,
              "#ed7953"
             ],
             [
              0.7777777777777778,
              "#fb9f3a"
             ],
             [
              0.8888888888888888,
              "#fdca26"
             ],
             [
              1,
              "#f0f921"
             ]
            ],
            "type": "histogram2d"
           }
          ],
          "histogram2dcontour": [
           {
            "colorbar": {
             "outlinewidth": 0,
             "ticks": ""
            },
            "colorscale": [
             [
              0,
              "#0d0887"
             ],
             [
              0.1111111111111111,
              "#46039f"
             ],
             [
              0.2222222222222222,
              "#7201a8"
             ],
             [
              0.3333333333333333,
              "#9c179e"
             ],
             [
              0.4444444444444444,
              "#bd3786"
             ],
             [
              0.5555555555555556,
              "#d8576b"
             ],
             [
              0.6666666666666666,
              "#ed7953"
             ],
             [
              0.7777777777777778,
              "#fb9f3a"
             ],
             [
              0.8888888888888888,
              "#fdca26"
             ],
             [
              1,
              "#f0f921"
             ]
            ],
            "type": "histogram2dcontour"
           }
          ],
          "mesh3d": [
           {
            "colorbar": {
             "outlinewidth": 0,
             "ticks": ""
            },
            "type": "mesh3d"
           }
          ],
          "parcoords": [
           {
            "line": {
             "colorbar": {
              "outlinewidth": 0,
              "ticks": ""
             }
            },
            "type": "parcoords"
           }
          ],
          "pie": [
           {
            "automargin": true,
            "type": "pie"
           }
          ],
          "scatter": [
           {
            "fillpattern": {
             "fillmode": "overlay",
             "size": 10,
             "solidity": 0.2
            },
            "type": "scatter"
           }
          ],
          "scatter3d": [
           {
            "line": {
             "colorbar": {
              "outlinewidth": 0,
              "ticks": ""
             }
            },
            "marker": {
             "colorbar": {
              "outlinewidth": 0,
              "ticks": ""
             }
            },
            "type": "scatter3d"
           }
          ],
          "scattercarpet": [
           {
            "marker": {
             "colorbar": {
              "outlinewidth": 0,
              "ticks": ""
             }
            },
            "type": "scattercarpet"
           }
          ],
          "scattergeo": [
           {
            "marker": {
             "colorbar": {
              "outlinewidth": 0,
              "ticks": ""
             }
            },
            "type": "scattergeo"
           }
          ],
          "scattergl": [
           {
            "marker": {
             "colorbar": {
              "outlinewidth": 0,
              "ticks": ""
             }
            },
            "type": "scattergl"
           }
          ],
          "scattermapbox": [
           {
            "marker": {
             "colorbar": {
              "outlinewidth": 0,
              "ticks": ""
             }
            },
            "type": "scattermapbox"
           }
          ],
          "scatterpolar": [
           {
            "marker": {
             "colorbar": {
              "outlinewidth": 0,
              "ticks": ""
             }
            },
            "type": "scatterpolar"
           }
          ],
          "scatterpolargl": [
           {
            "marker": {
             "colorbar": {
              "outlinewidth": 0,
              "ticks": ""
             }
            },
            "type": "scatterpolargl"
           }
          ],
          "scatterternary": [
           {
            "marker": {
             "colorbar": {
              "outlinewidth": 0,
              "ticks": ""
             }
            },
            "type": "scatterternary"
           }
          ],
          "surface": [
           {
            "colorbar": {
             "outlinewidth": 0,
             "ticks": ""
            },
            "colorscale": [
             [
              0,
              "#0d0887"
             ],
             [
              0.1111111111111111,
              "#46039f"
             ],
             [
              0.2222222222222222,
              "#7201a8"
             ],
             [
              0.3333333333333333,
              "#9c179e"
             ],
             [
              0.4444444444444444,
              "#bd3786"
             ],
             [
              0.5555555555555556,
              "#d8576b"
             ],
             [
              0.6666666666666666,
              "#ed7953"
             ],
             [
              0.7777777777777778,
              "#fb9f3a"
             ],
             [
              0.8888888888888888,
              "#fdca26"
             ],
             [
              1,
              "#f0f921"
             ]
            ],
            "type": "surface"
           }
          ],
          "table": [
           {
            "cells": {
             "fill": {
              "color": "#EBF0F8"
             },
             "line": {
              "color": "white"
             }
            },
            "header": {
             "fill": {
              "color": "#C8D4E3"
             },
             "line": {
              "color": "white"
             }
            },
            "type": "table"
           }
          ]
         },
         "layout": {
          "annotationdefaults": {
           "arrowcolor": "#2a3f5f",
           "arrowhead": 0,
           "arrowwidth": 1
          },
          "autotypenumbers": "strict",
          "coloraxis": {
           "colorbar": {
            "outlinewidth": 0,
            "ticks": ""
           }
          },
          "colorscale": {
           "diverging": [
            [
             0,
             "#8e0152"
            ],
            [
             0.1,
             "#c51b7d"
            ],
            [
             0.2,
             "#de77ae"
            ],
            [
             0.3,
             "#f1b6da"
            ],
            [
             0.4,
             "#fde0ef"
            ],
            [
             0.5,
             "#f7f7f7"
            ],
            [
             0.6,
             "#e6f5d0"
            ],
            [
             0.7,
             "#b8e186"
            ],
            [
             0.8,
             "#7fbc41"
            ],
            [
             0.9,
             "#4d9221"
            ],
            [
             1,
             "#276419"
            ]
           ],
           "sequential": [
            [
             0,
             "#0d0887"
            ],
            [
             0.1111111111111111,
             "#46039f"
            ],
            [
             0.2222222222222222,
             "#7201a8"
            ],
            [
             0.3333333333333333,
             "#9c179e"
            ],
            [
             0.4444444444444444,
             "#bd3786"
            ],
            [
             0.5555555555555556,
             "#d8576b"
            ],
            [
             0.6666666666666666,
             "#ed7953"
            ],
            [
             0.7777777777777778,
             "#fb9f3a"
            ],
            [
             0.8888888888888888,
             "#fdca26"
            ],
            [
             1,
             "#f0f921"
            ]
           ],
           "sequentialminus": [
            [
             0,
             "#0d0887"
            ],
            [
             0.1111111111111111,
             "#46039f"
            ],
            [
             0.2222222222222222,
             "#7201a8"
            ],
            [
             0.3333333333333333,
             "#9c179e"
            ],
            [
             0.4444444444444444,
             "#bd3786"
            ],
            [
             0.5555555555555556,
             "#d8576b"
            ],
            [
             0.6666666666666666,
             "#ed7953"
            ],
            [
             0.7777777777777778,
             "#fb9f3a"
            ],
            [
             0.8888888888888888,
             "#fdca26"
            ],
            [
             1,
             "#f0f921"
            ]
           ]
          },
          "colorway": [
           "#636efa",
           "#EF553B",
           "#00cc96",
           "#ab63fa",
           "#FFA15A",
           "#19d3f3",
           "#FF6692",
           "#B6E880",
           "#FF97FF",
           "#FECB52"
          ],
          "font": {
           "color": "#2a3f5f"
          },
          "geo": {
           "bgcolor": "white",
           "lakecolor": "white",
           "landcolor": "#E5ECF6",
           "showlakes": true,
           "showland": true,
           "subunitcolor": "white"
          },
          "hoverlabel": {
           "align": "left"
          },
          "hovermode": "closest",
          "mapbox": {
           "style": "light"
          },
          "paper_bgcolor": "white",
          "plot_bgcolor": "#E5ECF6",
          "polar": {
           "angularaxis": {
            "gridcolor": "white",
            "linecolor": "white",
            "ticks": ""
           },
           "bgcolor": "#E5ECF6",
           "radialaxis": {
            "gridcolor": "white",
            "linecolor": "white",
            "ticks": ""
           }
          },
          "scene": {
           "xaxis": {
            "backgroundcolor": "#E5ECF6",
            "gridcolor": "white",
            "gridwidth": 2,
            "linecolor": "white",
            "showbackground": true,
            "ticks": "",
            "zerolinecolor": "white"
           },
           "yaxis": {
            "backgroundcolor": "#E5ECF6",
            "gridcolor": "white",
            "gridwidth": 2,
            "linecolor": "white",
            "showbackground": true,
            "ticks": "",
            "zerolinecolor": "white"
           },
           "zaxis": {
            "backgroundcolor": "#E5ECF6",
            "gridcolor": "white",
            "gridwidth": 2,
            "linecolor": "white",
            "showbackground": true,
            "ticks": "",
            "zerolinecolor": "white"
           }
          },
          "shapedefaults": {
           "line": {
            "color": "#2a3f5f"
           }
          },
          "ternary": {
           "aaxis": {
            "gridcolor": "white",
            "linecolor": "white",
            "ticks": ""
           },
           "baxis": {
            "gridcolor": "white",
            "linecolor": "white",
            "ticks": ""
           },
           "bgcolor": "#E5ECF6",
           "caxis": {
            "gridcolor": "white",
            "linecolor": "white",
            "ticks": ""
           }
          },
          "title": {
           "x": 0.05
          },
          "xaxis": {
           "automargin": true,
           "gridcolor": "white",
           "linecolor": "white",
           "ticks": "",
           "title": {
            "standoff": 15
           },
           "zerolinecolor": "white",
           "zerolinewidth": 2
          },
          "yaxis": {
           "automargin": true,
           "gridcolor": "white",
           "linecolor": "white",
           "ticks": "",
           "title": {
            "standoff": 15
           },
           "zerolinecolor": "white",
           "zerolinewidth": 2
          }
         }
        },
        "title": {
         "text": "Top 10 Communication Companies YTD Returns (%)"
        },
        "xaxis": {
         "anchor": "y",
         "domain": [
          0,
          1
         ],
         "title": {
          "text": "Date"
         }
        },
        "yaxis": {
         "anchor": "x",
         "domain": [
          0,
          1
         ],
         "title": {
          "text": "YTD Returns (%)"
         }
        }
       }
      }
     },
     "metadata": {},
     "output_type": "display_data"
    }
   ],
   "source": [
    "ytd_top10_comm = px.line(\n",
    "    hist_data_merge[hist_data_merge['Sector']=='Communication Services'], x='Date', y='YTD Return', color='Security', color_discrete_sequence=px.colors.qualitative.T10,\n",
    "    title='Top 10 Communication Companies YTD Returns (%)'\n",
    ")\n",
    "ytd_top10_comm.update_layout(yaxis_title='YTD Returns (%)', legend_title='Companies')\n",
    "ytd_top10_comm.show()"
   ]
  },
  {
   "cell_type": "code",
   "execution_count": 84,
   "id": "f51637c3",
   "metadata": {},
   "outputs": [
    {
     "data": {
      "application/vnd.plotly.v1+json": {
       "config": {
        "plotlyServerURL": "https://plotly.com"
       },
       "data": [
        {
         "hovertemplate": "Security=JPMorgan Chase<br>Date=%{x}<br>YTD Return=%{y}<extra></extra>",
         "legendgroup": "JPMorgan Chase",
         "line": {
          "color": "#4C78A8",
          "dash": "solid"
         },
         "marker": {
          "symbol": "circle"
         },
         "mode": "lines",
         "name": "JPMorgan Chase",
         "showlegend": true,
         "type": "scattergl",
         "x": [
          "2025-01-02T00:00:00-05:00",
          "2025-01-03T00:00:00-05:00",
          "2025-01-06T00:00:00-05:00",
          "2025-01-07T00:00:00-05:00",
          "2025-01-08T00:00:00-05:00",
          "2025-01-10T00:00:00-05:00",
          "2025-01-13T00:00:00-05:00",
          "2025-01-14T00:00:00-05:00",
          "2025-01-15T00:00:00-05:00",
          "2025-01-16T00:00:00-05:00",
          "2025-01-17T00:00:00-05:00",
          "2025-01-21T00:00:00-05:00",
          "2025-01-22T00:00:00-05:00",
          "2025-01-23T00:00:00-05:00",
          "2025-01-24T00:00:00-05:00",
          "2025-01-27T00:00:00-05:00",
          "2025-01-28T00:00:00-05:00",
          "2025-01-29T00:00:00-05:00",
          "2025-01-30T00:00:00-05:00",
          "2025-01-31T00:00:00-05:00",
          "2025-02-03T00:00:00-05:00",
          "2025-02-04T00:00:00-05:00",
          "2025-02-05T00:00:00-05:00",
          "2025-02-06T00:00:00-05:00",
          "2025-02-07T00:00:00-05:00",
          "2025-02-10T00:00:00-05:00",
          "2025-02-11T00:00:00-05:00",
          "2025-02-12T00:00:00-05:00",
          "2025-02-13T00:00:00-05:00",
          "2025-02-14T00:00:00-05:00",
          "2025-02-18T00:00:00-05:00",
          "2025-02-19T00:00:00-05:00",
          "2025-02-20T00:00:00-05:00",
          "2025-02-21T00:00:00-05:00",
          "2025-02-24T00:00:00-05:00",
          "2025-02-25T00:00:00-05:00",
          "2025-02-26T00:00:00-05:00",
          "2025-02-27T00:00:00-05:00",
          "2025-02-28T00:00:00-05:00",
          "2025-03-03T00:00:00-05:00",
          "2025-03-04T00:00:00-05:00",
          "2025-03-05T00:00:00-05:00",
          "2025-03-06T00:00:00-05:00",
          "2025-03-07T00:00:00-05:00",
          "2025-03-10T00:00:00-04:00",
          "2025-03-11T00:00:00-04:00",
          "2025-03-12T00:00:00-04:00",
          "2025-03-13T00:00:00-04:00",
          "2025-03-14T00:00:00-04:00",
          "2025-03-17T00:00:00-04:00",
          "2025-03-18T00:00:00-04:00",
          "2025-03-19T00:00:00-04:00",
          "2025-03-20T00:00:00-04:00",
          "2025-03-21T00:00:00-04:00",
          "2025-03-24T00:00:00-04:00",
          "2025-03-25T00:00:00-04:00",
          "2025-03-26T00:00:00-04:00",
          "2025-03-27T00:00:00-04:00",
          "2025-03-28T00:00:00-04:00",
          "2025-03-31T00:00:00-04:00",
          "2025-04-01T00:00:00-04:00",
          "2025-04-02T00:00:00-04:00",
          "2025-04-03T00:00:00-04:00",
          "2025-04-04T00:00:00-04:00",
          "2025-04-07T00:00:00-04:00",
          "2025-04-08T00:00:00-04:00",
          "2025-04-09T00:00:00-04:00",
          "2025-04-10T00:00:00-04:00",
          "2025-04-11T00:00:00-04:00",
          "2025-04-14T00:00:00-04:00",
          "2025-04-15T00:00:00-04:00",
          "2025-04-16T00:00:00-04:00",
          "2025-04-17T00:00:00-04:00",
          "2025-04-21T00:00:00-04:00",
          "2025-04-22T00:00:00-04:00",
          "2025-04-23T00:00:00-04:00",
          "2025-04-24T00:00:00-04:00",
          "2025-04-25T00:00:00-04:00",
          "2025-04-28T00:00:00-04:00",
          "2025-04-29T00:00:00-04:00",
          "2025-04-30T00:00:00-04:00",
          "2025-05-01T00:00:00-04:00",
          "2025-05-02T00:00:00-04:00",
          "2025-05-05T00:00:00-04:00",
          "2025-05-06T00:00:00-04:00",
          "2025-05-07T00:00:00-04:00",
          "2025-05-08T00:00:00-04:00",
          "2025-05-09T00:00:00-04:00",
          "2025-05-12T00:00:00-04:00",
          "2025-05-13T00:00:00-04:00",
          "2025-05-14T00:00:00-04:00",
          "2025-05-15T00:00:00-04:00",
          "2025-05-16T00:00:00-04:00",
          "2025-05-19T00:00:00-04:00",
          "2025-05-20T00:00:00-04:00",
          "2025-05-21T00:00:00-04:00",
          "2025-05-22T00:00:00-04:00",
          "2025-05-23T00:00:00-04:00",
          "2025-05-27T00:00:00-04:00",
          "2025-05-28T00:00:00-04:00",
          "2025-05-29T00:00:00-04:00",
          "2025-05-30T00:00:00-04:00",
          "2025-06-02T00:00:00-04:00",
          "2025-06-03T00:00:00-04:00",
          "2025-06-04T00:00:00-04:00",
          "2025-06-05T00:00:00-04:00",
          "2025-06-06T00:00:00-04:00",
          "2025-06-09T00:00:00-04:00",
          "2025-06-10T00:00:00-04:00",
          "2025-06-11T00:00:00-04:00",
          "2025-06-12T00:00:00-04:00",
          "2025-06-13T00:00:00-04:00"
         ],
         "xaxis": "x",
         "y": [
          0,
          1.367,
          0.872,
          1.844,
          1.827,
          0.462,
          2.28,
          3.645,
          5.689,
          6.493,
          8.541,
          10.162,
          10.082,
          11.385,
          10.92,
          11.343,
          11.883,
          11.649,
          12.34,
          11.95,
          11.745,
          12.218,
          13.261,
          15.971,
          15.51,
          13.517,
          15.171,
          15.364,
          15.728,
          15.841,
          17.248,
          16.955,
          11.741,
          10.669,
          9.454,
          7.804,
          8.386,
          8.495,
          10.84,
          9.153,
          4.809,
          5.345,
          3.256,
          1.471,
          -2.742,
          -4.032,
          -4.551,
          -5.686,
          -2.65,
          -2.026,
          -1.59,
          0.144,
          0.102,
          1.199,
          3.892,
          5.178,
          5.136,
          3.917,
          1.71,
          2.736,
          2.049,
          2.954,
          -4.22,
          -11.388,
          -9.635,
          -8.611,
          -1.25,
          -4.296,
          -0.466,
          -1.089,
          -1.759,
          -3.243,
          -2.252,
          -3.504,
          -0.723,
          1.506,
          3.091,
          2.632,
          2.493,
          3.082,
          3.082,
          4.039,
          6.407,
          6.428,
          5.034,
          5.093,
          6.812,
          6.647,
          9.585,
          10.832,
          11.94,
          12.72,
          12.749,
          11.62,
          11.957,
          10.002,
          9.846,
          9.863,
          11.793,
          11.034,
          11.405,
          11.249,
          11.527,
          12.206,
          11.342,
          10.385,
          11.978,
          12.404,
          13.188,
          12.998,
          13.036,
          11.649
         ],
         "yaxis": "y"
        },
        {
         "hovertemplate": "Security=Visa Inc.<br>Date=%{x}<br>YTD Return=%{y}<extra></extra>",
         "legendgroup": "Visa Inc.",
         "line": {
          "color": "#F58518",
          "dash": "solid"
         },
         "marker": {
          "symbol": "circle"
         },
         "mode": "lines",
         "name": "Visa Inc.",
         "showlegend": true,
         "type": "scattergl",
         "x": [
          "2025-01-02T00:00:00-05:00",
          "2025-01-03T00:00:00-05:00",
          "2025-01-06T00:00:00-05:00",
          "2025-01-07T00:00:00-05:00",
          "2025-01-08T00:00:00-05:00",
          "2025-01-10T00:00:00-05:00",
          "2025-01-13T00:00:00-05:00",
          "2025-01-14T00:00:00-05:00",
          "2025-01-15T00:00:00-05:00",
          "2025-01-16T00:00:00-05:00",
          "2025-01-17T00:00:00-05:00",
          "2025-01-21T00:00:00-05:00",
          "2025-01-22T00:00:00-05:00",
          "2025-01-23T00:00:00-05:00",
          "2025-01-24T00:00:00-05:00",
          "2025-01-27T00:00:00-05:00",
          "2025-01-28T00:00:00-05:00",
          "2025-01-29T00:00:00-05:00",
          "2025-01-30T00:00:00-05:00",
          "2025-01-31T00:00:00-05:00",
          "2025-02-03T00:00:00-05:00",
          "2025-02-04T00:00:00-05:00",
          "2025-02-05T00:00:00-05:00",
          "2025-02-06T00:00:00-05:00",
          "2025-02-07T00:00:00-05:00",
          "2025-02-10T00:00:00-05:00",
          "2025-02-11T00:00:00-05:00",
          "2025-02-12T00:00:00-05:00",
          "2025-02-13T00:00:00-05:00",
          "2025-02-14T00:00:00-05:00",
          "2025-02-18T00:00:00-05:00",
          "2025-02-19T00:00:00-05:00",
          "2025-02-20T00:00:00-05:00",
          "2025-02-21T00:00:00-05:00",
          "2025-02-24T00:00:00-05:00",
          "2025-02-25T00:00:00-05:00",
          "2025-02-26T00:00:00-05:00",
          "2025-02-27T00:00:00-05:00",
          "2025-02-28T00:00:00-05:00",
          "2025-03-03T00:00:00-05:00",
          "2025-03-04T00:00:00-05:00",
          "2025-03-05T00:00:00-05:00",
          "2025-03-06T00:00:00-05:00",
          "2025-03-07T00:00:00-05:00",
          "2025-03-10T00:00:00-04:00",
          "2025-03-11T00:00:00-04:00",
          "2025-03-12T00:00:00-04:00",
          "2025-03-13T00:00:00-04:00",
          "2025-03-14T00:00:00-04:00",
          "2025-03-17T00:00:00-04:00",
          "2025-03-18T00:00:00-04:00",
          "2025-03-19T00:00:00-04:00",
          "2025-03-20T00:00:00-04:00",
          "2025-03-21T00:00:00-04:00",
          "2025-03-24T00:00:00-04:00",
          "2025-03-25T00:00:00-04:00",
          "2025-03-26T00:00:00-04:00",
          "2025-03-27T00:00:00-04:00",
          "2025-03-28T00:00:00-04:00",
          "2025-03-31T00:00:00-04:00",
          "2025-04-01T00:00:00-04:00",
          "2025-04-02T00:00:00-04:00",
          "2025-04-03T00:00:00-04:00",
          "2025-04-04T00:00:00-04:00",
          "2025-04-07T00:00:00-04:00",
          "2025-04-08T00:00:00-04:00",
          "2025-04-09T00:00:00-04:00",
          "2025-04-10T00:00:00-04:00",
          "2025-04-11T00:00:00-04:00",
          "2025-04-14T00:00:00-04:00",
          "2025-04-15T00:00:00-04:00",
          "2025-04-16T00:00:00-04:00",
          "2025-04-17T00:00:00-04:00",
          "2025-04-21T00:00:00-04:00",
          "2025-04-22T00:00:00-04:00",
          "2025-04-23T00:00:00-04:00",
          "2025-04-24T00:00:00-04:00",
          "2025-04-25T00:00:00-04:00",
          "2025-04-28T00:00:00-04:00",
          "2025-04-29T00:00:00-04:00",
          "2025-04-30T00:00:00-04:00",
          "2025-05-01T00:00:00-04:00",
          "2025-05-02T00:00:00-04:00",
          "2025-05-05T00:00:00-04:00",
          "2025-05-06T00:00:00-04:00",
          "2025-05-07T00:00:00-04:00",
          "2025-05-08T00:00:00-04:00",
          "2025-05-09T00:00:00-04:00",
          "2025-05-12T00:00:00-04:00",
          "2025-05-13T00:00:00-04:00",
          "2025-05-14T00:00:00-04:00",
          "2025-05-15T00:00:00-04:00",
          "2025-05-16T00:00:00-04:00",
          "2025-05-19T00:00:00-04:00",
          "2025-05-20T00:00:00-04:00",
          "2025-05-21T00:00:00-04:00",
          "2025-05-22T00:00:00-04:00",
          "2025-05-23T00:00:00-04:00",
          "2025-05-27T00:00:00-04:00",
          "2025-05-28T00:00:00-04:00",
          "2025-05-29T00:00:00-04:00",
          "2025-05-30T00:00:00-04:00",
          "2025-06-02T00:00:00-04:00",
          "2025-06-03T00:00:00-04:00",
          "2025-06-04T00:00:00-04:00",
          "2025-06-05T00:00:00-04:00",
          "2025-06-06T00:00:00-04:00",
          "2025-06-09T00:00:00-04:00",
          "2025-06-10T00:00:00-04:00",
          "2025-06-11T00:00:00-04:00",
          "2025-06-12T00:00:00-04:00",
          "2025-06-13T00:00:00-04:00"
         ],
         "xaxis": "x",
         "y": [
          0,
          0.162,
          -0.433,
          -0.868,
          -0.573,
          -2.128,
          -2.379,
          -1.689,
          0.598,
          0.906,
          1.66,
          2.936,
          2.913,
          4.392,
          5.025,
          6.406,
          6.387,
          6.832,
          9.113,
          8.715,
          9.994,
          9.781,
          11.145,
          10.522,
          10.693,
          11.714,
          11.74,
          11.985,
          13.304,
          12.724,
          13.655,
          13.177,
          11.667,
          11.042,
          11.466,
          12.176,
          11.711,
          13.339,
          15.56,
          15.276,
          12.221,
          12.364,
          9.65,
          10.019,
          8.796,
          5.82,
          6.043,
          4.676,
          5.712,
          6.588,
          6.658,
          8.283,
          8.165,
          6.942,
          9.557,
          9.796,
          9.656,
          11.466,
          9.232,
          11.657,
          10.348,
          10.341,
          8.13,
          -0.236,
          -0.494,
          -1.785,
          5.913,
          3.421,
          6.222,
          6.789,
          6.99,
          5.562,
          5.014,
          1.984,
          5.584,
          6.531,
          6.958,
          6.786,
          7.531,
          8.809,
          10.077,
          9.105,
          10.746,
          11.077,
          10.778,
          11.463,
          11.915,
          12.32,
          13.374,
          13.655,
          13.757,
          15.621,
          16.521,
          17.408,
          17.07,
          14.344,
          14.239,
          12.825,
          14.664,
          14.801,
          15.653,
          16.543,
          16.585,
          16.757,
          17.44,
          17.047,
          18.148,
          17.012,
          18.302,
          19.135,
          18.525,
          12.605
         ],
         "yaxis": "y"
        },
        {
         "hovertemplate": "Security=Mastercard<br>Date=%{x}<br>YTD Return=%{y}<extra></extra>",
         "legendgroup": "Mastercard",
         "line": {
          "color": "#E45756",
          "dash": "solid"
         },
         "marker": {
          "symbol": "circle"
         },
         "mode": "lines",
         "name": "Mastercard",
         "showlegend": true,
         "type": "scattergl",
         "x": [
          "2025-01-02T00:00:00-05:00",
          "2025-01-03T00:00:00-05:00",
          "2025-01-06T00:00:00-05:00",
          "2025-01-07T00:00:00-05:00",
          "2025-01-08T00:00:00-05:00",
          "2025-01-10T00:00:00-05:00",
          "2025-01-13T00:00:00-05:00",
          "2025-01-14T00:00:00-05:00",
          "2025-01-15T00:00:00-05:00",
          "2025-01-16T00:00:00-05:00",
          "2025-01-17T00:00:00-05:00",
          "2025-01-21T00:00:00-05:00",
          "2025-01-22T00:00:00-05:00",
          "2025-01-23T00:00:00-05:00",
          "2025-01-24T00:00:00-05:00",
          "2025-01-27T00:00:00-05:00",
          "2025-01-28T00:00:00-05:00",
          "2025-01-29T00:00:00-05:00",
          "2025-01-30T00:00:00-05:00",
          "2025-01-31T00:00:00-05:00",
          "2025-02-03T00:00:00-05:00",
          "2025-02-04T00:00:00-05:00",
          "2025-02-05T00:00:00-05:00",
          "2025-02-06T00:00:00-05:00",
          "2025-02-07T00:00:00-05:00",
          "2025-02-10T00:00:00-05:00",
          "2025-02-11T00:00:00-05:00",
          "2025-02-12T00:00:00-05:00",
          "2025-02-13T00:00:00-05:00",
          "2025-02-14T00:00:00-05:00",
          "2025-02-18T00:00:00-05:00",
          "2025-02-19T00:00:00-05:00",
          "2025-02-20T00:00:00-05:00",
          "2025-02-21T00:00:00-05:00",
          "2025-02-24T00:00:00-05:00",
          "2025-02-25T00:00:00-05:00",
          "2025-02-26T00:00:00-05:00",
          "2025-02-27T00:00:00-05:00",
          "2025-02-28T00:00:00-05:00",
          "2025-03-03T00:00:00-05:00",
          "2025-03-04T00:00:00-05:00",
          "2025-03-05T00:00:00-05:00",
          "2025-03-06T00:00:00-05:00",
          "2025-03-07T00:00:00-05:00",
          "2025-03-10T00:00:00-04:00",
          "2025-03-11T00:00:00-04:00",
          "2025-03-12T00:00:00-04:00",
          "2025-03-13T00:00:00-04:00",
          "2025-03-14T00:00:00-04:00",
          "2025-03-17T00:00:00-04:00",
          "2025-03-18T00:00:00-04:00",
          "2025-03-19T00:00:00-04:00",
          "2025-03-20T00:00:00-04:00",
          "2025-03-21T00:00:00-04:00",
          "2025-03-24T00:00:00-04:00",
          "2025-03-25T00:00:00-04:00",
          "2025-03-26T00:00:00-04:00",
          "2025-03-27T00:00:00-04:00",
          "2025-03-28T00:00:00-04:00",
          "2025-03-31T00:00:00-04:00",
          "2025-04-01T00:00:00-04:00",
          "2025-04-02T00:00:00-04:00",
          "2025-04-03T00:00:00-04:00",
          "2025-04-04T00:00:00-04:00",
          "2025-04-07T00:00:00-04:00",
          "2025-04-08T00:00:00-04:00",
          "2025-04-09T00:00:00-04:00",
          "2025-04-10T00:00:00-04:00",
          "2025-04-11T00:00:00-04:00",
          "2025-04-14T00:00:00-04:00",
          "2025-04-15T00:00:00-04:00",
          "2025-04-16T00:00:00-04:00",
          "2025-04-17T00:00:00-04:00",
          "2025-04-21T00:00:00-04:00",
          "2025-04-22T00:00:00-04:00",
          "2025-04-23T00:00:00-04:00",
          "2025-04-24T00:00:00-04:00",
          "2025-04-25T00:00:00-04:00",
          "2025-04-28T00:00:00-04:00",
          "2025-04-29T00:00:00-04:00",
          "2025-04-30T00:00:00-04:00",
          "2025-05-01T00:00:00-04:00",
          "2025-05-02T00:00:00-04:00",
          "2025-05-05T00:00:00-04:00",
          "2025-05-06T00:00:00-04:00",
          "2025-05-07T00:00:00-04:00",
          "2025-05-08T00:00:00-04:00",
          "2025-05-09T00:00:00-04:00",
          "2025-05-12T00:00:00-04:00",
          "2025-05-13T00:00:00-04:00",
          "2025-05-14T00:00:00-04:00",
          "2025-05-15T00:00:00-04:00",
          "2025-05-16T00:00:00-04:00",
          "2025-05-19T00:00:00-04:00",
          "2025-05-20T00:00:00-04:00",
          "2025-05-21T00:00:00-04:00",
          "2025-05-22T00:00:00-04:00",
          "2025-05-23T00:00:00-04:00",
          "2025-05-27T00:00:00-04:00",
          "2025-05-28T00:00:00-04:00",
          "2025-05-29T00:00:00-04:00",
          "2025-05-30T00:00:00-04:00",
          "2025-06-02T00:00:00-04:00",
          "2025-06-03T00:00:00-04:00",
          "2025-06-04T00:00:00-04:00",
          "2025-06-05T00:00:00-04:00",
          "2025-06-06T00:00:00-04:00",
          "2025-06-09T00:00:00-04:00",
          "2025-06-10T00:00:00-04:00",
          "2025-06-11T00:00:00-04:00",
          "2025-06-12T00:00:00-04:00",
          "2025-06-13T00:00:00-04:00"
         ],
         "xaxis": "x",
         "y": [
          0,
          -0.199,
          -2.004,
          -2.106,
          -1.149,
          -3.252,
          -3.206,
          -2.418,
          0.138,
          0.289,
          0.588,
          1.232,
          1.064,
          2.413,
          2.273,
          4.986,
          4.932,
          5.208,
          8.508,
          6.479,
          8.113,
          7.185,
          8.561,
          8.728,
          7.883,
          8.408,
          8.257,
          8.237,
          8.565,
          8.268,
          9.006,
          8.985,
          7.984,
          6.878,
          7.164,
          8.128,
          7.599,
          8.28,
          10.482,
          10.216,
          6.41,
          7.03,
          5.404,
          4.819,
          2.969,
          0.799,
          0.577,
          -0.345,
          1.152,
          1.986,
          1.641,
          2.772,
          2.827,
          2.695,
          4.225,
          4.511,
          5.26,
          6.89,
          3.638,
          5.078,
          5.153,
          4.936,
          1.71,
          -6.108,
          -6.923,
          -7.996,
          -1.032,
          -4.122,
          -2.123,
          -1.602,
          -0.658,
          -1.416,
          -0.667,
          -2.205,
          1.253,
          1.767,
          2.814,
          2.434,
          2.628,
          3.624,
          5.233,
          4.959,
          7.409,
          7.741,
          7.332,
          8.741,
          8.893,
          9.185,
          11.034,
          10.711,
          10.076,
          11.788,
          11.996,
          12.597,
          11.579,
          9.358,
          9.473,
          8.213,
          10.32,
          10.583,
          10.94,
          12.441,
          11.6,
          11.744,
          12.159,
          12.411,
          13.309,
          12.197,
          13.198,
          13.428,
          13.148,
          7.916
         ],
         "yaxis": "y"
        },
        {
         "hovertemplate": "Security=Bank of America<br>Date=%{x}<br>YTD Return=%{y}<extra></extra>",
         "legendgroup": "Bank of America",
         "line": {
          "color": "#72B7B2",
          "dash": "solid"
         },
         "marker": {
          "symbol": "circle"
         },
         "mode": "lines",
         "name": "Bank of America",
         "showlegend": true,
         "type": "scattergl",
         "x": [
          "2025-01-02T00:00:00-05:00",
          "2025-01-03T00:00:00-05:00",
          "2025-01-06T00:00:00-05:00",
          "2025-01-07T00:00:00-05:00",
          "2025-01-08T00:00:00-05:00",
          "2025-01-10T00:00:00-05:00",
          "2025-01-13T00:00:00-05:00",
          "2025-01-14T00:00:00-05:00",
          "2025-01-15T00:00:00-05:00",
          "2025-01-16T00:00:00-05:00",
          "2025-01-17T00:00:00-05:00",
          "2025-01-21T00:00:00-05:00",
          "2025-01-22T00:00:00-05:00",
          "2025-01-23T00:00:00-05:00",
          "2025-01-24T00:00:00-05:00",
          "2025-01-27T00:00:00-05:00",
          "2025-01-28T00:00:00-05:00",
          "2025-01-29T00:00:00-05:00",
          "2025-01-30T00:00:00-05:00",
          "2025-01-31T00:00:00-05:00",
          "2025-02-03T00:00:00-05:00",
          "2025-02-04T00:00:00-05:00",
          "2025-02-05T00:00:00-05:00",
          "2025-02-06T00:00:00-05:00",
          "2025-02-07T00:00:00-05:00",
          "2025-02-10T00:00:00-05:00",
          "2025-02-11T00:00:00-05:00",
          "2025-02-12T00:00:00-05:00",
          "2025-02-13T00:00:00-05:00",
          "2025-02-14T00:00:00-05:00",
          "2025-02-18T00:00:00-05:00",
          "2025-02-19T00:00:00-05:00",
          "2025-02-20T00:00:00-05:00",
          "2025-02-21T00:00:00-05:00",
          "2025-02-24T00:00:00-05:00",
          "2025-02-25T00:00:00-05:00",
          "2025-02-26T00:00:00-05:00",
          "2025-02-27T00:00:00-05:00",
          "2025-02-28T00:00:00-05:00",
          "2025-03-03T00:00:00-05:00",
          "2025-03-04T00:00:00-05:00",
          "2025-03-05T00:00:00-05:00",
          "2025-03-06T00:00:00-05:00",
          "2025-03-07T00:00:00-05:00",
          "2025-03-10T00:00:00-04:00",
          "2025-03-11T00:00:00-04:00",
          "2025-03-12T00:00:00-04:00",
          "2025-03-13T00:00:00-04:00",
          "2025-03-14T00:00:00-04:00",
          "2025-03-17T00:00:00-04:00",
          "2025-03-18T00:00:00-04:00",
          "2025-03-19T00:00:00-04:00",
          "2025-03-20T00:00:00-04:00",
          "2025-03-21T00:00:00-04:00",
          "2025-03-24T00:00:00-04:00",
          "2025-03-25T00:00:00-04:00",
          "2025-03-26T00:00:00-04:00",
          "2025-03-27T00:00:00-04:00",
          "2025-03-28T00:00:00-04:00",
          "2025-03-31T00:00:00-04:00",
          "2025-04-01T00:00:00-04:00",
          "2025-04-02T00:00:00-04:00",
          "2025-04-03T00:00:00-04:00",
          "2025-04-04T00:00:00-04:00",
          "2025-04-07T00:00:00-04:00",
          "2025-04-08T00:00:00-04:00",
          "2025-04-09T00:00:00-04:00",
          "2025-04-10T00:00:00-04:00",
          "2025-04-11T00:00:00-04:00",
          "2025-04-14T00:00:00-04:00",
          "2025-04-15T00:00:00-04:00",
          "2025-04-16T00:00:00-04:00",
          "2025-04-17T00:00:00-04:00",
          "2025-04-21T00:00:00-04:00",
          "2025-04-22T00:00:00-04:00",
          "2025-04-23T00:00:00-04:00",
          "2025-04-24T00:00:00-04:00",
          "2025-04-25T00:00:00-04:00",
          "2025-04-28T00:00:00-04:00",
          "2025-04-29T00:00:00-04:00",
          "2025-04-30T00:00:00-04:00",
          "2025-05-01T00:00:00-04:00",
          "2025-05-02T00:00:00-04:00",
          "2025-05-05T00:00:00-04:00",
          "2025-05-06T00:00:00-04:00",
          "2025-05-07T00:00:00-04:00",
          "2025-05-08T00:00:00-04:00",
          "2025-05-09T00:00:00-04:00",
          "2025-05-12T00:00:00-04:00",
          "2025-05-13T00:00:00-04:00",
          "2025-05-14T00:00:00-04:00",
          "2025-05-15T00:00:00-04:00",
          "2025-05-16T00:00:00-04:00",
          "2025-05-19T00:00:00-04:00",
          "2025-05-20T00:00:00-04:00",
          "2025-05-21T00:00:00-04:00",
          "2025-05-22T00:00:00-04:00",
          "2025-05-23T00:00:00-04:00",
          "2025-05-27T00:00:00-04:00",
          "2025-05-28T00:00:00-04:00",
          "2025-05-29T00:00:00-04:00",
          "2025-05-30T00:00:00-04:00",
          "2025-06-02T00:00:00-04:00",
          "2025-06-03T00:00:00-04:00",
          "2025-06-04T00:00:00-04:00",
          "2025-06-05T00:00:00-04:00",
          "2025-06-06T00:00:00-04:00",
          "2025-06-09T00:00:00-04:00",
          "2025-06-10T00:00:00-04:00",
          "2025-06-11T00:00:00-04:00",
          "2025-06-12T00:00:00-04:00",
          "2025-06-13T00:00:00-04:00"
         ],
         "xaxis": "x",
         "y": [
          0,
          1.174,
          2.506,
          4.042,
          4.335,
          1.851,
          1.739,
          3.364,
          6.345,
          5.306,
          5.058,
          5.351,
          3.387,
          4.741,
          5.035,
          6.322,
          5.758,
          5.554,
          5.487,
          4.538,
          4.335,
          5.464,
          6.367,
          7.79,
          7.022,
          5.374,
          5.645,
          4.335,
          4.606,
          6.028,
          5.058,
          3.883,
          2.28,
          1.174,
          0.384,
          -0.79,
          -0.79,
          -0.384,
          4.087,
          2.867,
          -3.658,
          -4.516,
          -6.39,
          -5.935,
          -9.502,
          -10.002,
          -9.321,
          -9.866,
          -7.094,
          -5.844,
          -5.367,
          -4.095,
          -3.481,
          -3.504,
          -2.141,
          -1.664,
          -2.709,
          -3.3,
          -6.276,
          -5.185,
          -5.731,
          -4.913,
          -15.433,
          -21.863,
          -19.159,
          -20.409,
          -15.592,
          -18.545,
          -18.318,
          -16.682,
          -13.683,
          -15.183,
          -15.001,
          -16.114,
          -12.933,
          -11.956,
          -10.07,
          -9.821,
          -9.616,
          -9.139,
          -9.389,
          -8.73,
          -6.685,
          -6.571,
          -7.208,
          -7.003,
          -5.481,
          -5.049,
          -1.482,
          0.608,
          1.654,
          0.836,
          1.54,
          1.722,
          1.54,
          -1.732,
          -1.596,
          -1.846,
          0.472,
          0.108,
          0.517,
          0.268,
          0.154,
          1.449,
          0.79,
          0.836,
          2.778,
          2.55,
          3.052,
          2.23,
          1.978,
          0.767
         ],
         "yaxis": "y"
        },
        {
         "hovertemplate": "Security=Wells Fargo<br>Date=%{x}<br>YTD Return=%{y}<extra></extra>",
         "legendgroup": "Wells Fargo",
         "line": {
          "color": "#54A24B",
          "dash": "solid"
         },
         "marker": {
          "symbol": "circle"
         },
         "mode": "lines",
         "name": "Wells Fargo",
         "showlegend": true,
         "type": "scattergl",
         "x": [
          "2025-01-02T00:00:00-05:00",
          "2025-01-03T00:00:00-05:00",
          "2025-01-06T00:00:00-05:00",
          "2025-01-07T00:00:00-05:00",
          "2025-01-08T00:00:00-05:00",
          "2025-01-10T00:00:00-05:00",
          "2025-01-13T00:00:00-05:00",
          "2025-01-14T00:00:00-05:00",
          "2025-01-15T00:00:00-05:00",
          "2025-01-16T00:00:00-05:00",
          "2025-01-17T00:00:00-05:00",
          "2025-01-21T00:00:00-05:00",
          "2025-01-22T00:00:00-05:00",
          "2025-01-23T00:00:00-05:00",
          "2025-01-24T00:00:00-05:00",
          "2025-01-27T00:00:00-05:00",
          "2025-01-28T00:00:00-05:00",
          "2025-01-29T00:00:00-05:00",
          "2025-01-30T00:00:00-05:00",
          "2025-01-31T00:00:00-05:00",
          "2025-02-03T00:00:00-05:00",
          "2025-02-04T00:00:00-05:00",
          "2025-02-05T00:00:00-05:00",
          "2025-02-06T00:00:00-05:00",
          "2025-02-07T00:00:00-05:00",
          "2025-02-10T00:00:00-05:00",
          "2025-02-11T00:00:00-05:00",
          "2025-02-12T00:00:00-05:00",
          "2025-02-13T00:00:00-05:00",
          "2025-02-14T00:00:00-05:00",
          "2025-02-18T00:00:00-05:00",
          "2025-02-19T00:00:00-05:00",
          "2025-02-20T00:00:00-05:00",
          "2025-02-21T00:00:00-05:00",
          "2025-02-24T00:00:00-05:00",
          "2025-02-25T00:00:00-05:00",
          "2025-02-26T00:00:00-05:00",
          "2025-02-27T00:00:00-05:00",
          "2025-02-28T00:00:00-05:00",
          "2025-03-03T00:00:00-05:00",
          "2025-03-04T00:00:00-05:00",
          "2025-03-05T00:00:00-05:00",
          "2025-03-06T00:00:00-05:00",
          "2025-03-07T00:00:00-05:00",
          "2025-03-10T00:00:00-04:00",
          "2025-03-11T00:00:00-04:00",
          "2025-03-12T00:00:00-04:00",
          "2025-03-13T00:00:00-04:00",
          "2025-03-14T00:00:00-04:00",
          "2025-03-17T00:00:00-04:00",
          "2025-03-18T00:00:00-04:00",
          "2025-03-19T00:00:00-04:00",
          "2025-03-20T00:00:00-04:00",
          "2025-03-21T00:00:00-04:00",
          "2025-03-24T00:00:00-04:00",
          "2025-03-25T00:00:00-04:00",
          "2025-03-26T00:00:00-04:00",
          "2025-03-27T00:00:00-04:00",
          "2025-03-28T00:00:00-04:00",
          "2025-03-31T00:00:00-04:00",
          "2025-04-01T00:00:00-04:00",
          "2025-04-02T00:00:00-04:00",
          "2025-04-03T00:00:00-04:00",
          "2025-04-04T00:00:00-04:00",
          "2025-04-07T00:00:00-04:00",
          "2025-04-08T00:00:00-04:00",
          "2025-04-09T00:00:00-04:00",
          "2025-04-10T00:00:00-04:00",
          "2025-04-11T00:00:00-04:00",
          "2025-04-14T00:00:00-04:00",
          "2025-04-15T00:00:00-04:00",
          "2025-04-16T00:00:00-04:00",
          "2025-04-17T00:00:00-04:00",
          "2025-04-21T00:00:00-04:00",
          "2025-04-22T00:00:00-04:00",
          "2025-04-23T00:00:00-04:00",
          "2025-04-24T00:00:00-04:00",
          "2025-04-25T00:00:00-04:00",
          "2025-04-28T00:00:00-04:00",
          "2025-04-29T00:00:00-04:00",
          "2025-04-30T00:00:00-04:00",
          "2025-05-01T00:00:00-04:00",
          "2025-05-02T00:00:00-04:00",
          "2025-05-05T00:00:00-04:00",
          "2025-05-06T00:00:00-04:00",
          "2025-05-07T00:00:00-04:00",
          "2025-05-08T00:00:00-04:00",
          "2025-05-09T00:00:00-04:00",
          "2025-05-12T00:00:00-04:00",
          "2025-05-13T00:00:00-04:00",
          "2025-05-14T00:00:00-04:00",
          "2025-05-15T00:00:00-04:00",
          "2025-05-16T00:00:00-04:00",
          "2025-05-19T00:00:00-04:00",
          "2025-05-20T00:00:00-04:00",
          "2025-05-21T00:00:00-04:00",
          "2025-05-22T00:00:00-04:00",
          "2025-05-23T00:00:00-04:00",
          "2025-05-27T00:00:00-04:00",
          "2025-05-28T00:00:00-04:00",
          "2025-05-29T00:00:00-04:00",
          "2025-05-30T00:00:00-04:00",
          "2025-06-02T00:00:00-04:00",
          "2025-06-03T00:00:00-04:00",
          "2025-06-04T00:00:00-04:00",
          "2025-06-05T00:00:00-04:00",
          "2025-06-06T00:00:00-04:00",
          "2025-06-09T00:00:00-04:00",
          "2025-06-10T00:00:00-04:00",
          "2025-06-11T00:00:00-04:00",
          "2025-06-12T00:00:00-04:00",
          "2025-06-13T00:00:00-04:00"
         ],
         "xaxis": "x",
         "y": [
          0,
          1.596,
          2.621,
          1.995,
          1.966,
          -0.328,
          0.484,
          1.425,
          8.206,
          8.206,
          9.816,
          10.913,
          10.472,
          10.315,
          10.158,
          11.041,
          10.956,
          11.654,
          12.295,
          12.267,
          11.326,
          13.221,
          14.048,
          15.999,
          15.498,
          13.25,
          14.024,
          13.465,
          12.893,
          14.51,
          15.656,
          15.04,
          12.578,
          10.96,
          10.559,
          8.812,
          9.456,
          9.7,
          12.134,
          10.287,
          4.946,
          6.178,
          4.016,
          1.725,
          -4.389,
          -3.673,
          -1.31,
          -1.983,
          1.439,
          1.424,
          1.811,
          4.173,
          3.83,
          3.83,
          6.35,
          6.292,
          5.19,
          3.486,
          1.21,
          2.784,
          2.097,
          3.457,
          -5.978,
          -12.693,
          -10.989,
          -11.118,
          -5.033,
          -9.643,
          -10.502,
          -9.657,
          -7.596,
          -8.397,
          -7.352,
          -8.354,
          -5.176,
          -2.728,
          -0.408,
          -0.165,
          -0.594,
          1.797,
          1.668,
          2.813,
          5.662,
          5.734,
          5.204,
          4.775,
          4.961,
          4.299,
          7.797,
          9.395,
          9.812,
          8.819,
          9.668,
          9.495,
          8.718,
          5.364,
          5.652,
          4.846,
          6.515,
          6.141,
          7.264,
          7.653,
          7.566,
          8.905,
          8.517,
          7.826,
          9.884,
          10.071,
          8.617,
          7.869,
          6.544,
          4.169
         ],
         "yaxis": "y"
        },
        {
         "hovertemplate": "Security=American Express<br>Date=%{x}<br>YTD Return=%{y}<extra></extra>",
         "legendgroup": "American Express",
         "line": {
          "color": "#EECA3B",
          "dash": "solid"
         },
         "marker": {
          "symbol": "circle"
         },
         "mode": "lines",
         "name": "American Express",
         "showlegend": true,
         "type": "scattergl",
         "x": [
          "2025-01-02T00:00:00-05:00",
          "2025-01-03T00:00:00-05:00",
          "2025-01-06T00:00:00-05:00",
          "2025-01-07T00:00:00-05:00",
          "2025-01-08T00:00:00-05:00",
          "2025-01-10T00:00:00-05:00",
          "2025-01-13T00:00:00-05:00",
          "2025-01-14T00:00:00-05:00",
          "2025-01-15T00:00:00-05:00",
          "2025-01-16T00:00:00-05:00",
          "2025-01-17T00:00:00-05:00",
          "2025-01-21T00:00:00-05:00",
          "2025-01-22T00:00:00-05:00",
          "2025-01-23T00:00:00-05:00",
          "2025-01-24T00:00:00-05:00",
          "2025-01-27T00:00:00-05:00",
          "2025-01-28T00:00:00-05:00",
          "2025-01-29T00:00:00-05:00",
          "2025-01-30T00:00:00-05:00",
          "2025-01-31T00:00:00-05:00",
          "2025-02-03T00:00:00-05:00",
          "2025-02-04T00:00:00-05:00",
          "2025-02-05T00:00:00-05:00",
          "2025-02-06T00:00:00-05:00",
          "2025-02-07T00:00:00-05:00",
          "2025-02-10T00:00:00-05:00",
          "2025-02-11T00:00:00-05:00",
          "2025-02-12T00:00:00-05:00",
          "2025-02-13T00:00:00-05:00",
          "2025-02-14T00:00:00-05:00",
          "2025-02-18T00:00:00-05:00",
          "2025-02-19T00:00:00-05:00",
          "2025-02-20T00:00:00-05:00",
          "2025-02-21T00:00:00-05:00",
          "2025-02-24T00:00:00-05:00",
          "2025-02-25T00:00:00-05:00",
          "2025-02-26T00:00:00-05:00",
          "2025-02-27T00:00:00-05:00",
          "2025-02-28T00:00:00-05:00",
          "2025-03-03T00:00:00-05:00",
          "2025-03-04T00:00:00-05:00",
          "2025-03-05T00:00:00-05:00",
          "2025-03-06T00:00:00-05:00",
          "2025-03-07T00:00:00-05:00",
          "2025-03-10T00:00:00-04:00",
          "2025-03-11T00:00:00-04:00",
          "2025-03-12T00:00:00-04:00",
          "2025-03-13T00:00:00-04:00",
          "2025-03-14T00:00:00-04:00",
          "2025-03-17T00:00:00-04:00",
          "2025-03-18T00:00:00-04:00",
          "2025-03-19T00:00:00-04:00",
          "2025-03-20T00:00:00-04:00",
          "2025-03-21T00:00:00-04:00",
          "2025-03-24T00:00:00-04:00",
          "2025-03-25T00:00:00-04:00",
          "2025-03-26T00:00:00-04:00",
          "2025-03-27T00:00:00-04:00",
          "2025-03-28T00:00:00-04:00",
          "2025-03-31T00:00:00-04:00",
          "2025-04-01T00:00:00-04:00",
          "2025-04-02T00:00:00-04:00",
          "2025-04-03T00:00:00-04:00",
          "2025-04-04T00:00:00-04:00",
          "2025-04-07T00:00:00-04:00",
          "2025-04-08T00:00:00-04:00",
          "2025-04-09T00:00:00-04:00",
          "2025-04-10T00:00:00-04:00",
          "2025-04-11T00:00:00-04:00",
          "2025-04-14T00:00:00-04:00",
          "2025-04-15T00:00:00-04:00",
          "2025-04-16T00:00:00-04:00",
          "2025-04-17T00:00:00-04:00",
          "2025-04-21T00:00:00-04:00",
          "2025-04-22T00:00:00-04:00",
          "2025-04-23T00:00:00-04:00",
          "2025-04-24T00:00:00-04:00",
          "2025-04-25T00:00:00-04:00",
          "2025-04-28T00:00:00-04:00",
          "2025-04-29T00:00:00-04:00",
          "2025-04-30T00:00:00-04:00",
          "2025-05-01T00:00:00-04:00",
          "2025-05-02T00:00:00-04:00",
          "2025-05-05T00:00:00-04:00",
          "2025-05-06T00:00:00-04:00",
          "2025-05-07T00:00:00-04:00",
          "2025-05-08T00:00:00-04:00",
          "2025-05-09T00:00:00-04:00",
          "2025-05-12T00:00:00-04:00",
          "2025-05-13T00:00:00-04:00",
          "2025-05-14T00:00:00-04:00",
          "2025-05-15T00:00:00-04:00",
          "2025-05-16T00:00:00-04:00",
          "2025-05-19T00:00:00-04:00",
          "2025-05-20T00:00:00-04:00",
          "2025-05-21T00:00:00-04:00",
          "2025-05-22T00:00:00-04:00",
          "2025-05-23T00:00:00-04:00",
          "2025-05-27T00:00:00-04:00",
          "2025-05-28T00:00:00-04:00",
          "2025-05-29T00:00:00-04:00",
          "2025-05-30T00:00:00-04:00",
          "2025-06-02T00:00:00-04:00",
          "2025-06-03T00:00:00-04:00",
          "2025-06-04T00:00:00-04:00",
          "2025-06-05T00:00:00-04:00",
          "2025-06-06T00:00:00-04:00",
          "2025-06-09T00:00:00-04:00",
          "2025-06-10T00:00:00-04:00",
          "2025-06-11T00:00:00-04:00",
          "2025-06-12T00:00:00-04:00",
          "2025-06-13T00:00:00-04:00"
         ],
         "xaxis": "x",
         "y": [
          0,
          1.797,
          1.394,
          1.441,
          1.72,
          -1.488,
          -0.238,
          0.883,
          4.9,
          4.618,
          4.981,
          6.791,
          8.236,
          9.452,
          7.93,
          6.278,
          6.486,
          5.885,
          7.127,
          6.623,
          6.314,
          6.079,
          7.658,
          7.53,
          6.395,
          4.209,
          3.977,
          2.912,
          3.282,
          4.471,
          5.078,
          4.094,
          2.059,
          -0.783,
          -0.739,
          -1.474,
          -0.547,
          -1.186,
          1.085,
          -0.752,
          -4.79,
          -4.551,
          -7.419,
          -8.236,
          -12.229,
          -14.221,
          -12.421,
          -13.872,
          -10.782,
          -11.201,
          -11.759,
          -9.095,
          -9.035,
          -9.143,
          -6.674,
          -6.197,
          -7.299,
          -8.635,
          -10.832,
          -9.633,
          -9.153,
          -7.55,
          -16.764,
          -21.252,
          -21.05,
          -22.024,
          -11.587,
          -16.801,
          -15.372,
          -13.94,
          -13.104,
          -14.769,
          -15.311,
          -18.277,
          -14.937,
          -12.335,
          -9.916,
          -10.762,
          -10.715,
          -10.017,
          -10.223,
          -9.505,
          -6.704,
          -6.307,
          -7.203,
          -6.91,
          -4.409,
          -4.123,
          0.733,
          1.872,
          1.131,
          0.945,
          1.003,
          0.861,
          -0.194,
          -3.621,
          -3.223,
          -3.884,
          -1.006,
          -1.141,
          -0.46,
          -0.908,
          -0.477,
          0.217,
          -0.275,
          -0.264,
          1.929,
          1.623,
          0.935,
          0.794,
          0.42,
          -3.018
         ],
         "yaxis": "y"
        },
        {
         "hovertemplate": "Security=Morgan Stanley<br>Date=%{x}<br>YTD Return=%{y}<extra></extra>",
         "legendgroup": "Morgan Stanley",
         "line": {
          "color": "#B279A2",
          "dash": "solid"
         },
         "marker": {
          "symbol": "circle"
         },
         "mode": "lines",
         "name": "Morgan Stanley",
         "showlegend": true,
         "type": "scattergl",
         "x": [
          "2025-01-02T00:00:00-05:00",
          "2025-01-03T00:00:00-05:00",
          "2025-01-06T00:00:00-05:00",
          "2025-01-07T00:00:00-05:00",
          "2025-01-08T00:00:00-05:00",
          "2025-01-10T00:00:00-05:00",
          "2025-01-13T00:00:00-05:00",
          "2025-01-14T00:00:00-05:00",
          "2025-01-15T00:00:00-05:00",
          "2025-01-16T00:00:00-05:00",
          "2025-01-17T00:00:00-05:00",
          "2025-01-21T00:00:00-05:00",
          "2025-01-22T00:00:00-05:00",
          "2025-01-23T00:00:00-05:00",
          "2025-01-24T00:00:00-05:00",
          "2025-01-27T00:00:00-05:00",
          "2025-01-28T00:00:00-05:00",
          "2025-01-29T00:00:00-05:00",
          "2025-01-30T00:00:00-05:00",
          "2025-01-31T00:00:00-05:00",
          "2025-02-03T00:00:00-05:00",
          "2025-02-04T00:00:00-05:00",
          "2025-02-05T00:00:00-05:00",
          "2025-02-06T00:00:00-05:00",
          "2025-02-07T00:00:00-05:00",
          "2025-02-10T00:00:00-05:00",
          "2025-02-11T00:00:00-05:00",
          "2025-02-12T00:00:00-05:00",
          "2025-02-13T00:00:00-05:00",
          "2025-02-14T00:00:00-05:00",
          "2025-02-18T00:00:00-05:00",
          "2025-02-19T00:00:00-05:00",
          "2025-02-20T00:00:00-05:00",
          "2025-02-21T00:00:00-05:00",
          "2025-02-24T00:00:00-05:00",
          "2025-02-25T00:00:00-05:00",
          "2025-02-26T00:00:00-05:00",
          "2025-02-27T00:00:00-05:00",
          "2025-02-28T00:00:00-05:00",
          "2025-03-03T00:00:00-05:00",
          "2025-03-04T00:00:00-05:00",
          "2025-03-05T00:00:00-05:00",
          "2025-03-06T00:00:00-05:00",
          "2025-03-07T00:00:00-05:00",
          "2025-03-10T00:00:00-04:00",
          "2025-03-11T00:00:00-04:00",
          "2025-03-12T00:00:00-04:00",
          "2025-03-13T00:00:00-04:00",
          "2025-03-14T00:00:00-04:00",
          "2025-03-17T00:00:00-04:00",
          "2025-03-18T00:00:00-04:00",
          "2025-03-19T00:00:00-04:00",
          "2025-03-20T00:00:00-04:00",
          "2025-03-21T00:00:00-04:00",
          "2025-03-24T00:00:00-04:00",
          "2025-03-25T00:00:00-04:00",
          "2025-03-26T00:00:00-04:00",
          "2025-03-27T00:00:00-04:00",
          "2025-03-28T00:00:00-04:00",
          "2025-03-31T00:00:00-04:00",
          "2025-04-01T00:00:00-04:00",
          "2025-04-02T00:00:00-04:00",
          "2025-04-03T00:00:00-04:00",
          "2025-04-04T00:00:00-04:00",
          "2025-04-07T00:00:00-04:00",
          "2025-04-08T00:00:00-04:00",
          "2025-04-09T00:00:00-04:00",
          "2025-04-10T00:00:00-04:00",
          "2025-04-11T00:00:00-04:00",
          "2025-04-14T00:00:00-04:00",
          "2025-04-15T00:00:00-04:00",
          "2025-04-16T00:00:00-04:00",
          "2025-04-17T00:00:00-04:00",
          "2025-04-21T00:00:00-04:00",
          "2025-04-22T00:00:00-04:00",
          "2025-04-23T00:00:00-04:00",
          "2025-04-24T00:00:00-04:00",
          "2025-04-25T00:00:00-04:00",
          "2025-04-28T00:00:00-04:00",
          "2025-04-29T00:00:00-04:00",
          "2025-04-30T00:00:00-04:00",
          "2025-05-01T00:00:00-04:00",
          "2025-05-02T00:00:00-04:00",
          "2025-05-05T00:00:00-04:00",
          "2025-05-06T00:00:00-04:00",
          "2025-05-07T00:00:00-04:00",
          "2025-05-08T00:00:00-04:00",
          "2025-05-09T00:00:00-04:00",
          "2025-05-12T00:00:00-04:00",
          "2025-05-13T00:00:00-04:00",
          "2025-05-14T00:00:00-04:00",
          "2025-05-15T00:00:00-04:00",
          "2025-05-16T00:00:00-04:00",
          "2025-05-19T00:00:00-04:00",
          "2025-05-20T00:00:00-04:00",
          "2025-05-21T00:00:00-04:00",
          "2025-05-22T00:00:00-04:00",
          "2025-05-23T00:00:00-04:00",
          "2025-05-27T00:00:00-04:00",
          "2025-05-28T00:00:00-04:00",
          "2025-05-29T00:00:00-04:00",
          "2025-05-30T00:00:00-04:00",
          "2025-06-02T00:00:00-04:00",
          "2025-06-03T00:00:00-04:00",
          "2025-06-04T00:00:00-04:00",
          "2025-06-05T00:00:00-04:00",
          "2025-06-06T00:00:00-04:00",
          "2025-06-09T00:00:00-04:00",
          "2025-06-10T00:00:00-04:00",
          "2025-06-11T00:00:00-04:00",
          "2025-06-12T00:00:00-04:00",
          "2025-06-13T00:00:00-04:00"
         ],
         "xaxis": "x",
         "y": [
          0,
          0.93,
          3.093,
          1.683,
          2.468,
          -1.066,
          -0.633,
          -0.128,
          4.624,
          8.84,
          10.49,
          10.034,
          8.992,
          10.434,
          10.45,
          9.513,
          11.027,
          11.164,
          12.149,
          11.677,
          10.653,
          10.338,
          12.081,
          13.815,
          12.928,
          10.774,
          11.161,
          10.613,
          10.395,
          12.097,
          13.517,
          13.501,
          8.378,
          6.24,
          4.852,
          4.554,
          5.724,
          4.263,
          7.386,
          4.175,
          -1.803,
          -0.166,
          -3.699,
          -3.764,
          -9.895,
          -9.613,
          -8.031,
          -9.903,
          -6.95,
          -4.837,
          -4.716,
          -3.312,
          -2.812,
          -3.078,
          0.254,
          1.004,
          -1.416,
          -3.998,
          -6.958,
          -5.877,
          -6.628,
          -3.78,
          -12.928,
          -19.463,
          -18.583,
          -19.076,
          -9.887,
          -14.017,
          -12.775,
          -11.976,
          -10.903,
          -12.985,
          -11.92,
          -14.243,
          -10.952,
          -9.395,
          -6.741,
          -6.41,
          -6.555,
          -6.248,
          -6.139,
          -5.049,
          -2.235,
          -2.739,
          -3.772,
          -3.146,
          -0.885,
          -1.032,
          3.327,
          5.19,
          6.564,
          7.759,
          7.491,
          6.401,
          5.011,
          1.896,
          2.677,
          2.522,
          5.076,
          3.693,
          4.222,
          4.116,
          4.417,
          4.645,
          4.222,
          6.222,
          7.198,
          7.304,
          7.198,
          7.19,
          7.279,
          5.303
         ],
         "yaxis": "y"
        },
        {
         "hovertemplate": "Security=Goldman Sachs<br>Date=%{x}<br>YTD Return=%{y}<extra></extra>",
         "legendgroup": "Goldman Sachs",
         "line": {
          "color": "#FF9DA6",
          "dash": "solid"
         },
         "marker": {
          "symbol": "circle"
         },
         "mode": "lines",
         "name": "Goldman Sachs",
         "showlegend": true,
         "type": "scattergl",
         "x": [
          "2025-01-02T00:00:00-05:00",
          "2025-01-03T00:00:00-05:00",
          "2025-01-06T00:00:00-05:00",
          "2025-01-07T00:00:00-05:00",
          "2025-01-08T00:00:00-05:00",
          "2025-01-10T00:00:00-05:00",
          "2025-01-13T00:00:00-05:00",
          "2025-01-14T00:00:00-05:00",
          "2025-01-15T00:00:00-05:00",
          "2025-01-16T00:00:00-05:00",
          "2025-01-17T00:00:00-05:00",
          "2025-01-21T00:00:00-05:00",
          "2025-01-22T00:00:00-05:00",
          "2025-01-23T00:00:00-05:00",
          "2025-01-24T00:00:00-05:00",
          "2025-01-27T00:00:00-05:00",
          "2025-01-28T00:00:00-05:00",
          "2025-01-29T00:00:00-05:00",
          "2025-01-30T00:00:00-05:00",
          "2025-01-31T00:00:00-05:00",
          "2025-02-03T00:00:00-05:00",
          "2025-02-04T00:00:00-05:00",
          "2025-02-05T00:00:00-05:00",
          "2025-02-06T00:00:00-05:00",
          "2025-02-07T00:00:00-05:00",
          "2025-02-10T00:00:00-05:00",
          "2025-02-11T00:00:00-05:00",
          "2025-02-12T00:00:00-05:00",
          "2025-02-13T00:00:00-05:00",
          "2025-02-14T00:00:00-05:00",
          "2025-02-18T00:00:00-05:00",
          "2025-02-19T00:00:00-05:00",
          "2025-02-20T00:00:00-05:00",
          "2025-02-21T00:00:00-05:00",
          "2025-02-24T00:00:00-05:00",
          "2025-02-25T00:00:00-05:00",
          "2025-02-26T00:00:00-05:00",
          "2025-02-27T00:00:00-05:00",
          "2025-02-28T00:00:00-05:00",
          "2025-03-03T00:00:00-05:00",
          "2025-03-04T00:00:00-05:00",
          "2025-03-05T00:00:00-05:00",
          "2025-03-06T00:00:00-05:00",
          "2025-03-07T00:00:00-05:00",
          "2025-03-10T00:00:00-04:00",
          "2025-03-11T00:00:00-04:00",
          "2025-03-12T00:00:00-04:00",
          "2025-03-13T00:00:00-04:00",
          "2025-03-14T00:00:00-04:00",
          "2025-03-17T00:00:00-04:00",
          "2025-03-18T00:00:00-04:00",
          "2025-03-19T00:00:00-04:00",
          "2025-03-20T00:00:00-04:00",
          "2025-03-21T00:00:00-04:00",
          "2025-03-24T00:00:00-04:00",
          "2025-03-25T00:00:00-04:00",
          "2025-03-26T00:00:00-04:00",
          "2025-03-27T00:00:00-04:00",
          "2025-03-28T00:00:00-04:00",
          "2025-03-31T00:00:00-04:00",
          "2025-04-01T00:00:00-04:00",
          "2025-04-02T00:00:00-04:00",
          "2025-04-03T00:00:00-04:00",
          "2025-04-04T00:00:00-04:00",
          "2025-04-07T00:00:00-04:00",
          "2025-04-08T00:00:00-04:00",
          "2025-04-09T00:00:00-04:00",
          "2025-04-10T00:00:00-04:00",
          "2025-04-11T00:00:00-04:00",
          "2025-04-14T00:00:00-04:00",
          "2025-04-15T00:00:00-04:00",
          "2025-04-16T00:00:00-04:00",
          "2025-04-17T00:00:00-04:00",
          "2025-04-21T00:00:00-04:00",
          "2025-04-22T00:00:00-04:00",
          "2025-04-23T00:00:00-04:00",
          "2025-04-24T00:00:00-04:00",
          "2025-04-25T00:00:00-04:00",
          "2025-04-28T00:00:00-04:00",
          "2025-04-29T00:00:00-04:00",
          "2025-04-30T00:00:00-04:00",
          "2025-05-01T00:00:00-04:00",
          "2025-05-02T00:00:00-04:00",
          "2025-05-05T00:00:00-04:00",
          "2025-05-06T00:00:00-04:00",
          "2025-05-07T00:00:00-04:00",
          "2025-05-08T00:00:00-04:00",
          "2025-05-09T00:00:00-04:00",
          "2025-05-12T00:00:00-04:00",
          "2025-05-13T00:00:00-04:00",
          "2025-05-14T00:00:00-04:00",
          "2025-05-15T00:00:00-04:00",
          "2025-05-16T00:00:00-04:00",
          "2025-05-19T00:00:00-04:00",
          "2025-05-20T00:00:00-04:00",
          "2025-05-21T00:00:00-04:00",
          "2025-05-22T00:00:00-04:00",
          "2025-05-23T00:00:00-04:00",
          "2025-05-27T00:00:00-04:00",
          "2025-05-28T00:00:00-04:00",
          "2025-05-29T00:00:00-04:00",
          "2025-05-30T00:00:00-04:00",
          "2025-06-02T00:00:00-04:00",
          "2025-06-03T00:00:00-04:00",
          "2025-06-04T00:00:00-04:00",
          "2025-06-05T00:00:00-04:00",
          "2025-06-06T00:00:00-04:00",
          "2025-06-09T00:00:00-04:00",
          "2025-06-10T00:00:00-04:00",
          "2025-06-11T00:00:00-04:00",
          "2025-06-12T00:00:00-04:00",
          "2025-06-13T00:00:00-04:00"
         ],
         "xaxis": "x",
         "y": [
          0,
          0.897,
          1.464,
          0.896,
          0.878,
          -2.604,
          -2.091,
          -0.598,
          5.383,
          6.613,
          8.865,
          10.395,
          10.046,
          11.223,
          10.771,
          10.141,
          10.928,
          10.854,
          12.302,
          11.38,
          9.983,
          10.298,
          12.258,
          14.479,
          14.076,
          13.142,
          12.569,
          12.875,
          12.867,
          14.884,
          16.909,
          16.206,
          11.703,
          8.806,
          8.9,
          6.946,
          7.444,
          5.745,
          8.767,
          5.79,
          1.574,
          3.659,
          -0.78,
          -2.178,
          -7.074,
          -7.114,
          -6.366,
          -8.271,
          -5.37,
          -3.634,
          -3.557,
          -2.586,
          -1.652,
          -1.222,
          1.393,
          2.413,
          0.312,
          -2.309,
          -5.071,
          -4.517,
          -4.139,
          -1.579,
          -10.645,
          -17.71,
          -18.636,
          -19.211,
          -9.659,
          -14.391,
          -13.58,
          -11.912,
          -11.229,
          -12.774,
          -10.949,
          -12.37,
          -9.114,
          -7.485,
          -4.678,
          -4.767,
          -4.498,
          -4.057,
          -4.297,
          -3.199,
          -1.054,
          -2.198,
          -3.98,
          -3.533,
          -1.124,
          -0.88,
          3.357,
          5.537,
          6.898,
          7.65,
          8.197,
          7.021,
          6.01,
          3.728,
          4.561,
          4.616,
          7.62,
          6.346,
          5.72,
          5.473,
          5.169,
          6.066,
          5.255,
          6.426,
          7.853,
          7.768,
          8.005,
          9.639,
          9.804,
          7.772
         ],
         "yaxis": "y"
        },
        {
         "hovertemplate": "Security=Blackstone Inc.<br>Date=%{x}<br>YTD Return=%{y}<extra></extra>",
         "legendgroup": "Blackstone Inc.",
         "line": {
          "color": "#9D755D",
          "dash": "solid"
         },
         "marker": {
          "symbol": "circle"
         },
         "mode": "lines",
         "name": "Blackstone Inc.",
         "showlegend": true,
         "type": "scattergl",
         "x": [
          "2025-01-02T00:00:00-05:00",
          "2025-01-03T00:00:00-05:00",
          "2025-01-06T00:00:00-05:00",
          "2025-01-07T00:00:00-05:00",
          "2025-01-08T00:00:00-05:00",
          "2025-01-10T00:00:00-05:00",
          "2025-01-13T00:00:00-05:00",
          "2025-01-14T00:00:00-05:00",
          "2025-01-15T00:00:00-05:00",
          "2025-01-16T00:00:00-05:00",
          "2025-01-17T00:00:00-05:00",
          "2025-01-21T00:00:00-05:00",
          "2025-01-22T00:00:00-05:00",
          "2025-01-23T00:00:00-05:00",
          "2025-01-24T00:00:00-05:00",
          "2025-01-27T00:00:00-05:00",
          "2025-01-28T00:00:00-05:00",
          "2025-01-29T00:00:00-05:00",
          "2025-01-30T00:00:00-05:00",
          "2025-01-31T00:00:00-05:00",
          "2025-02-03T00:00:00-05:00",
          "2025-02-04T00:00:00-05:00",
          "2025-02-05T00:00:00-05:00",
          "2025-02-06T00:00:00-05:00",
          "2025-02-07T00:00:00-05:00",
          "2025-02-10T00:00:00-05:00",
          "2025-02-11T00:00:00-05:00",
          "2025-02-12T00:00:00-05:00",
          "2025-02-13T00:00:00-05:00",
          "2025-02-14T00:00:00-05:00",
          "2025-02-18T00:00:00-05:00",
          "2025-02-19T00:00:00-05:00",
          "2025-02-20T00:00:00-05:00",
          "2025-02-21T00:00:00-05:00",
          "2025-02-24T00:00:00-05:00",
          "2025-02-25T00:00:00-05:00",
          "2025-02-26T00:00:00-05:00",
          "2025-02-27T00:00:00-05:00",
          "2025-02-28T00:00:00-05:00",
          "2025-03-03T00:00:00-05:00",
          "2025-03-04T00:00:00-05:00",
          "2025-03-05T00:00:00-05:00",
          "2025-03-06T00:00:00-05:00",
          "2025-03-07T00:00:00-05:00",
          "2025-03-10T00:00:00-04:00",
          "2025-03-11T00:00:00-04:00",
          "2025-03-12T00:00:00-04:00",
          "2025-03-13T00:00:00-04:00",
          "2025-03-14T00:00:00-04:00",
          "2025-03-17T00:00:00-04:00",
          "2025-03-18T00:00:00-04:00",
          "2025-03-19T00:00:00-04:00",
          "2025-03-20T00:00:00-04:00",
          "2025-03-21T00:00:00-04:00",
          "2025-03-24T00:00:00-04:00",
          "2025-03-25T00:00:00-04:00",
          "2025-03-26T00:00:00-04:00",
          "2025-03-27T00:00:00-04:00",
          "2025-03-28T00:00:00-04:00",
          "2025-03-31T00:00:00-04:00",
          "2025-04-01T00:00:00-04:00",
          "2025-04-02T00:00:00-04:00",
          "2025-04-03T00:00:00-04:00",
          "2025-04-04T00:00:00-04:00",
          "2025-04-07T00:00:00-04:00",
          "2025-04-08T00:00:00-04:00",
          "2025-04-09T00:00:00-04:00",
          "2025-04-10T00:00:00-04:00",
          "2025-04-11T00:00:00-04:00",
          "2025-04-14T00:00:00-04:00",
          "2025-04-15T00:00:00-04:00",
          "2025-04-16T00:00:00-04:00",
          "2025-04-17T00:00:00-04:00",
          "2025-04-21T00:00:00-04:00",
          "2025-04-22T00:00:00-04:00",
          "2025-04-23T00:00:00-04:00",
          "2025-04-24T00:00:00-04:00",
          "2025-04-25T00:00:00-04:00",
          "2025-04-28T00:00:00-04:00",
          "2025-04-29T00:00:00-04:00",
          "2025-04-30T00:00:00-04:00",
          "2025-05-01T00:00:00-04:00",
          "2025-05-02T00:00:00-04:00",
          "2025-05-05T00:00:00-04:00",
          "2025-05-06T00:00:00-04:00",
          "2025-05-07T00:00:00-04:00",
          "2025-05-08T00:00:00-04:00",
          "2025-05-09T00:00:00-04:00",
          "2025-05-12T00:00:00-04:00",
          "2025-05-13T00:00:00-04:00",
          "2025-05-14T00:00:00-04:00",
          "2025-05-15T00:00:00-04:00",
          "2025-05-16T00:00:00-04:00",
          "2025-05-19T00:00:00-04:00",
          "2025-05-20T00:00:00-04:00",
          "2025-05-21T00:00:00-04:00",
          "2025-05-22T00:00:00-04:00",
          "2025-05-23T00:00:00-04:00",
          "2025-05-27T00:00:00-04:00",
          "2025-05-28T00:00:00-04:00",
          "2025-05-29T00:00:00-04:00",
          "2025-05-30T00:00:00-04:00",
          "2025-06-02T00:00:00-04:00",
          "2025-06-03T00:00:00-04:00",
          "2025-06-04T00:00:00-04:00",
          "2025-06-05T00:00:00-04:00",
          "2025-06-06T00:00:00-04:00",
          "2025-06-09T00:00:00-04:00",
          "2025-06-10T00:00:00-04:00",
          "2025-06-11T00:00:00-04:00",
          "2025-06-12T00:00:00-04:00",
          "2025-06-13T00:00:00-04:00"
         ],
         "xaxis": "x",
         "y": [
          0,
          1.243,
          0.599,
          -1.387,
          0.127,
          -5.122,
          -4.593,
          -2.55,
          0.8,
          1.709,
          3.568,
          4.472,
          5.191,
          6.774,
          7.476,
          5.047,
          6.814,
          6.694,
          2.319,
          1.934,
          -0.121,
          -1.681,
          0.633,
          0.46,
          -2.003,
          -2.131,
          -4.354,
          -6.612,
          -6.85,
          -4.319,
          -3.216,
          -3.152,
          -4.864,
          -8.069,
          -8.829,
          -8.736,
          -7.442,
          -8.643,
          -6.455,
          -7.981,
          -12.509,
          -11.749,
          -15.469,
          -15.748,
          -19.103,
          -19.817,
          -18.424,
          -20.751,
          -18.221,
          -14.221,
          -15.144,
          -13.095,
          -13.658,
          -13.925,
          -11.725,
          -12.23,
          -14.871,
          -16.125,
          -19.834,
          -18.865,
          -17.112,
          -14.291,
          -22.742,
          -27.421,
          -27.647,
          -30.306,
          -20.27,
          -26.022,
          -26.179,
          -24.269,
          -22.487,
          -24.902,
          -24.315,
          -30.218,
          -27.496,
          -26.283,
          -21.901,
          -22.882,
          -21.917,
          -21.941,
          -23.01,
          -22.028,
          -19.672,
          -20.438,
          -21.672,
          -20.421,
          -18.275,
          -18.521,
          -12.904,
          -13.137,
          -13.243,
          -14.219,
          -14.248,
          -14.979,
          -15.709,
          -19.632,
          -19.959,
          -20.432,
          -18.574,
          -19.094,
          -18.819,
          -18.889,
          -18.86,
          -18.743,
          -18.889,
          -19.474,
          -17.901,
          -18.176,
          -16.434,
          -17.352,
          -17.703,
          -20.263
         ],
         "yaxis": "y"
        },
        {
         "hovertemplate": "Security=Progressive Corporation<br>Date=%{x}<br>YTD Return=%{y}<extra></extra>",
         "legendgroup": "Progressive Corporation",
         "line": {
          "color": "#BAB0AC",
          "dash": "solid"
         },
         "marker": {
          "symbol": "circle"
         },
         "mode": "lines",
         "name": "Progressive Corporation",
         "showlegend": true,
         "type": "scattergl",
         "x": [
          "2025-01-02T00:00:00-05:00",
          "2025-01-03T00:00:00-05:00",
          "2025-01-06T00:00:00-05:00",
          "2025-01-07T00:00:00-05:00",
          "2025-01-08T00:00:00-05:00",
          "2025-01-10T00:00:00-05:00",
          "2025-01-13T00:00:00-05:00",
          "2025-01-14T00:00:00-05:00",
          "2025-01-15T00:00:00-05:00",
          "2025-01-16T00:00:00-05:00",
          "2025-01-17T00:00:00-05:00",
          "2025-01-21T00:00:00-05:00",
          "2025-01-22T00:00:00-05:00",
          "2025-01-23T00:00:00-05:00",
          "2025-01-24T00:00:00-05:00",
          "2025-01-27T00:00:00-05:00",
          "2025-01-28T00:00:00-05:00",
          "2025-01-29T00:00:00-05:00",
          "2025-01-30T00:00:00-05:00",
          "2025-01-31T00:00:00-05:00",
          "2025-02-03T00:00:00-05:00",
          "2025-02-04T00:00:00-05:00",
          "2025-02-05T00:00:00-05:00",
          "2025-02-06T00:00:00-05:00",
          "2025-02-07T00:00:00-05:00",
          "2025-02-10T00:00:00-05:00",
          "2025-02-11T00:00:00-05:00",
          "2025-02-12T00:00:00-05:00",
          "2025-02-13T00:00:00-05:00",
          "2025-02-14T00:00:00-05:00",
          "2025-02-18T00:00:00-05:00",
          "2025-02-19T00:00:00-05:00",
          "2025-02-20T00:00:00-05:00",
          "2025-02-21T00:00:00-05:00",
          "2025-02-24T00:00:00-05:00",
          "2025-02-25T00:00:00-05:00",
          "2025-02-26T00:00:00-05:00",
          "2025-02-27T00:00:00-05:00",
          "2025-02-28T00:00:00-05:00",
          "2025-03-03T00:00:00-05:00",
          "2025-03-04T00:00:00-05:00",
          "2025-03-05T00:00:00-05:00",
          "2025-03-06T00:00:00-05:00",
          "2025-03-07T00:00:00-05:00",
          "2025-03-10T00:00:00-04:00",
          "2025-03-11T00:00:00-04:00",
          "2025-03-12T00:00:00-04:00",
          "2025-03-13T00:00:00-04:00",
          "2025-03-14T00:00:00-04:00",
          "2025-03-17T00:00:00-04:00",
          "2025-03-18T00:00:00-04:00",
          "2025-03-19T00:00:00-04:00",
          "2025-03-20T00:00:00-04:00",
          "2025-03-21T00:00:00-04:00",
          "2025-03-24T00:00:00-04:00",
          "2025-03-25T00:00:00-04:00",
          "2025-03-26T00:00:00-04:00",
          "2025-03-27T00:00:00-04:00",
          "2025-03-28T00:00:00-04:00",
          "2025-03-31T00:00:00-04:00",
          "2025-04-01T00:00:00-04:00",
          "2025-04-02T00:00:00-04:00",
          "2025-04-03T00:00:00-04:00",
          "2025-04-04T00:00:00-04:00",
          "2025-04-07T00:00:00-04:00",
          "2025-04-08T00:00:00-04:00",
          "2025-04-09T00:00:00-04:00",
          "2025-04-10T00:00:00-04:00",
          "2025-04-11T00:00:00-04:00",
          "2025-04-14T00:00:00-04:00",
          "2025-04-15T00:00:00-04:00",
          "2025-04-16T00:00:00-04:00",
          "2025-04-17T00:00:00-04:00",
          "2025-04-21T00:00:00-04:00",
          "2025-04-22T00:00:00-04:00",
          "2025-04-23T00:00:00-04:00",
          "2025-04-24T00:00:00-04:00",
          "2025-04-25T00:00:00-04:00",
          "2025-04-28T00:00:00-04:00",
          "2025-04-29T00:00:00-04:00",
          "2025-04-30T00:00:00-04:00",
          "2025-05-01T00:00:00-04:00",
          "2025-05-02T00:00:00-04:00",
          "2025-05-05T00:00:00-04:00",
          "2025-05-06T00:00:00-04:00",
          "2025-05-07T00:00:00-04:00",
          "2025-05-08T00:00:00-04:00",
          "2025-05-09T00:00:00-04:00",
          "2025-05-12T00:00:00-04:00",
          "2025-05-13T00:00:00-04:00",
          "2025-05-14T00:00:00-04:00",
          "2025-05-15T00:00:00-04:00",
          "2025-05-16T00:00:00-04:00",
          "2025-05-19T00:00:00-04:00",
          "2025-05-20T00:00:00-04:00",
          "2025-05-21T00:00:00-04:00",
          "2025-05-22T00:00:00-04:00",
          "2025-05-23T00:00:00-04:00",
          "2025-05-27T00:00:00-04:00",
          "2025-05-28T00:00:00-04:00",
          "2025-05-29T00:00:00-04:00",
          "2025-05-30T00:00:00-04:00",
          "2025-06-02T00:00:00-04:00",
          "2025-06-03T00:00:00-04:00",
          "2025-06-04T00:00:00-04:00",
          "2025-06-05T00:00:00-04:00",
          "2025-06-06T00:00:00-04:00",
          "2025-06-09T00:00:00-04:00",
          "2025-06-10T00:00:00-04:00",
          "2025-06-11T00:00:00-04:00",
          "2025-06-12T00:00:00-04:00",
          "2025-06-13T00:00:00-04:00"
         ],
         "xaxis": "x",
         "y": [
          0,
          0.652,
          -0.44,
          0.677,
          1.222,
          -0.21,
          -0.138,
          1.548,
          2.696,
          3.996,
          3.208,
          2.077,
          1.298,
          1.442,
          1.15,
          4.576,
          3.788,
          4.36,
          5.554,
          4.377,
          5.427,
          5.038,
          5.461,
          6.457,
          6.139,
          5.754,
          9.091,
          8.761,
          11.022,
          11.221,
          11.785,
          14.195,
          13.369,
          12.742,
          15.47,
          17.964,
          15.808,
          18.07,
          19.438,
          20.743,
          19.942,
          19.379,
          19.087,
          18.515,
          18.036,
          17.295,
          17.553,
          18.337,
          20.154,
          23.343,
          19.98,
          15.749,
          16.312,
          15.567,
          16.05,
          16.232,
          15.431,
          16.334,
          18.108,
          19.866,
          20.408,
          19.112,
          21.599,
          9.16,
          8.155,
          10.32,
          14.443,
          15.744,
          16.786,
          18.023,
          16.985,
          16.57,
          12.469,
          9.062,
          12.312,
          12.291,
          12.358,
          12.282,
          14.218,
          17.07,
          19.37,
          17.642,
          19.824,
          19.548,
          20.184,
          21.336,
          20.294,
          20.544,
          18.739,
          19.731,
          17.858,
          19.12,
          21.188,
          22.124,
          21.019,
          19.057,
          17.413,
          17.489,
          18.104,
          17.375,
          17.489,
          20.722,
          22.336,
          21.705,
          19.553,
          18.718,
          18.345,
          14.951,
          12.485,
          11.524,
          13.727,
          13.485
         ],
         "yaxis": "y"
        }
       ],
       "layout": {
        "legend": {
         "title": {
          "text": "Companies"
         },
         "tracegroupgap": 0
        },
        "template": {
         "data": {
          "bar": [
           {
            "error_x": {
             "color": "#2a3f5f"
            },
            "error_y": {
             "color": "#2a3f5f"
            },
            "marker": {
             "line": {
              "color": "#E5ECF6",
              "width": 0.5
             },
             "pattern": {
              "fillmode": "overlay",
              "size": 10,
              "solidity": 0.2
             }
            },
            "type": "bar"
           }
          ],
          "barpolar": [
           {
            "marker": {
             "line": {
              "color": "#E5ECF6",
              "width": 0.5
             },
             "pattern": {
              "fillmode": "overlay",
              "size": 10,
              "solidity": 0.2
             }
            },
            "type": "barpolar"
           }
          ],
          "carpet": [
           {
            "aaxis": {
             "endlinecolor": "#2a3f5f",
             "gridcolor": "white",
             "linecolor": "white",
             "minorgridcolor": "white",
             "startlinecolor": "#2a3f5f"
            },
            "baxis": {
             "endlinecolor": "#2a3f5f",
             "gridcolor": "white",
             "linecolor": "white",
             "minorgridcolor": "white",
             "startlinecolor": "#2a3f5f"
            },
            "type": "carpet"
           }
          ],
          "choropleth": [
           {
            "colorbar": {
             "outlinewidth": 0,
             "ticks": ""
            },
            "type": "choropleth"
           }
          ],
          "contour": [
           {
            "colorbar": {
             "outlinewidth": 0,
             "ticks": ""
            },
            "colorscale": [
             [
              0,
              "#0d0887"
             ],
             [
              0.1111111111111111,
              "#46039f"
             ],
             [
              0.2222222222222222,
              "#7201a8"
             ],
             [
              0.3333333333333333,
              "#9c179e"
             ],
             [
              0.4444444444444444,
              "#bd3786"
             ],
             [
              0.5555555555555556,
              "#d8576b"
             ],
             [
              0.6666666666666666,
              "#ed7953"
             ],
             [
              0.7777777777777778,
              "#fb9f3a"
             ],
             [
              0.8888888888888888,
              "#fdca26"
             ],
             [
              1,
              "#f0f921"
             ]
            ],
            "type": "contour"
           }
          ],
          "contourcarpet": [
           {
            "colorbar": {
             "outlinewidth": 0,
             "ticks": ""
            },
            "type": "contourcarpet"
           }
          ],
          "heatmap": [
           {
            "colorbar": {
             "outlinewidth": 0,
             "ticks": ""
            },
            "colorscale": [
             [
              0,
              "#0d0887"
             ],
             [
              0.1111111111111111,
              "#46039f"
             ],
             [
              0.2222222222222222,
              "#7201a8"
             ],
             [
              0.3333333333333333,
              "#9c179e"
             ],
             [
              0.4444444444444444,
              "#bd3786"
             ],
             [
              0.5555555555555556,
              "#d8576b"
             ],
             [
              0.6666666666666666,
              "#ed7953"
             ],
             [
              0.7777777777777778,
              "#fb9f3a"
             ],
             [
              0.8888888888888888,
              "#fdca26"
             ],
             [
              1,
              "#f0f921"
             ]
            ],
            "type": "heatmap"
           }
          ],
          "heatmapgl": [
           {
            "colorbar": {
             "outlinewidth": 0,
             "ticks": ""
            },
            "colorscale": [
             [
              0,
              "#0d0887"
             ],
             [
              0.1111111111111111,
              "#46039f"
             ],
             [
              0.2222222222222222,
              "#7201a8"
             ],
             [
              0.3333333333333333,
              "#9c179e"
             ],
             [
              0.4444444444444444,
              "#bd3786"
             ],
             [
              0.5555555555555556,
              "#d8576b"
             ],
             [
              0.6666666666666666,
              "#ed7953"
             ],
             [
              0.7777777777777778,
              "#fb9f3a"
             ],
             [
              0.8888888888888888,
              "#fdca26"
             ],
             [
              1,
              "#f0f921"
             ]
            ],
            "type": "heatmapgl"
           }
          ],
          "histogram": [
           {
            "marker": {
             "pattern": {
              "fillmode": "overlay",
              "size": 10,
              "solidity": 0.2
             }
            },
            "type": "histogram"
           }
          ],
          "histogram2d": [
           {
            "colorbar": {
             "outlinewidth": 0,
             "ticks": ""
            },
            "colorscale": [
             [
              0,
              "#0d0887"
             ],
             [
              0.1111111111111111,
              "#46039f"
             ],
             [
              0.2222222222222222,
              "#7201a8"
             ],
             [
              0.3333333333333333,
              "#9c179e"
             ],
             [
              0.4444444444444444,
              "#bd3786"
             ],
             [
              0.5555555555555556,
              "#d8576b"
             ],
             [
              0.6666666666666666,
              "#ed7953"
             ],
             [
              0.7777777777777778,
              "#fb9f3a"
             ],
             [
              0.8888888888888888,
              "#fdca26"
             ],
             [
              1,
              "#f0f921"
             ]
            ],
            "type": "histogram2d"
           }
          ],
          "histogram2dcontour": [
           {
            "colorbar": {
             "outlinewidth": 0,
             "ticks": ""
            },
            "colorscale": [
             [
              0,
              "#0d0887"
             ],
             [
              0.1111111111111111,
              "#46039f"
             ],
             [
              0.2222222222222222,
              "#7201a8"
             ],
             [
              0.3333333333333333,
              "#9c179e"
             ],
             [
              0.4444444444444444,
              "#bd3786"
             ],
             [
              0.5555555555555556,
              "#d8576b"
             ],
             [
              0.6666666666666666,
              "#ed7953"
             ],
             [
              0.7777777777777778,
              "#fb9f3a"
             ],
             [
              0.8888888888888888,
              "#fdca26"
             ],
             [
              1,
              "#f0f921"
             ]
            ],
            "type": "histogram2dcontour"
           }
          ],
          "mesh3d": [
           {
            "colorbar": {
             "outlinewidth": 0,
             "ticks": ""
            },
            "type": "mesh3d"
           }
          ],
          "parcoords": [
           {
            "line": {
             "colorbar": {
              "outlinewidth": 0,
              "ticks": ""
             }
            },
            "type": "parcoords"
           }
          ],
          "pie": [
           {
            "automargin": true,
            "type": "pie"
           }
          ],
          "scatter": [
           {
            "fillpattern": {
             "fillmode": "overlay",
             "size": 10,
             "solidity": 0.2
            },
            "type": "scatter"
           }
          ],
          "scatter3d": [
           {
            "line": {
             "colorbar": {
              "outlinewidth": 0,
              "ticks": ""
             }
            },
            "marker": {
             "colorbar": {
              "outlinewidth": 0,
              "ticks": ""
             }
            },
            "type": "scatter3d"
           }
          ],
          "scattercarpet": [
           {
            "marker": {
             "colorbar": {
              "outlinewidth": 0,
              "ticks": ""
             }
            },
            "type": "scattercarpet"
           }
          ],
          "scattergeo": [
           {
            "marker": {
             "colorbar": {
              "outlinewidth": 0,
              "ticks": ""
             }
            },
            "type": "scattergeo"
           }
          ],
          "scattergl": [
           {
            "marker": {
             "colorbar": {
              "outlinewidth": 0,
              "ticks": ""
             }
            },
            "type": "scattergl"
           }
          ],
          "scattermapbox": [
           {
            "marker": {
             "colorbar": {
              "outlinewidth": 0,
              "ticks": ""
             }
            },
            "type": "scattermapbox"
           }
          ],
          "scatterpolar": [
           {
            "marker": {
             "colorbar": {
              "outlinewidth": 0,
              "ticks": ""
             }
            },
            "type": "scatterpolar"
           }
          ],
          "scatterpolargl": [
           {
            "marker": {
             "colorbar": {
              "outlinewidth": 0,
              "ticks": ""
             }
            },
            "type": "scatterpolargl"
           }
          ],
          "scatterternary": [
           {
            "marker": {
             "colorbar": {
              "outlinewidth": 0,
              "ticks": ""
             }
            },
            "type": "scatterternary"
           }
          ],
          "surface": [
           {
            "colorbar": {
             "outlinewidth": 0,
             "ticks": ""
            },
            "colorscale": [
             [
              0,
              "#0d0887"
             ],
             [
              0.1111111111111111,
              "#46039f"
             ],
             [
              0.2222222222222222,
              "#7201a8"
             ],
             [
              0.3333333333333333,
              "#9c179e"
             ],
             [
              0.4444444444444444,
              "#bd3786"
             ],
             [
              0.5555555555555556,
              "#d8576b"
             ],
             [
              0.6666666666666666,
              "#ed7953"
             ],
             [
              0.7777777777777778,
              "#fb9f3a"
             ],
             [
              0.8888888888888888,
              "#fdca26"
             ],
             [
              1,
              "#f0f921"
             ]
            ],
            "type": "surface"
           }
          ],
          "table": [
           {
            "cells": {
             "fill": {
              "color": "#EBF0F8"
             },
             "line": {
              "color": "white"
             }
            },
            "header": {
             "fill": {
              "color": "#C8D4E3"
             },
             "line": {
              "color": "white"
             }
            },
            "type": "table"
           }
          ]
         },
         "layout": {
          "annotationdefaults": {
           "arrowcolor": "#2a3f5f",
           "arrowhead": 0,
           "arrowwidth": 1
          },
          "autotypenumbers": "strict",
          "coloraxis": {
           "colorbar": {
            "outlinewidth": 0,
            "ticks": ""
           }
          },
          "colorscale": {
           "diverging": [
            [
             0,
             "#8e0152"
            ],
            [
             0.1,
             "#c51b7d"
            ],
            [
             0.2,
             "#de77ae"
            ],
            [
             0.3,
             "#f1b6da"
            ],
            [
             0.4,
             "#fde0ef"
            ],
            [
             0.5,
             "#f7f7f7"
            ],
            [
             0.6,
             "#e6f5d0"
            ],
            [
             0.7,
             "#b8e186"
            ],
            [
             0.8,
             "#7fbc41"
            ],
            [
             0.9,
             "#4d9221"
            ],
            [
             1,
             "#276419"
            ]
           ],
           "sequential": [
            [
             0,
             "#0d0887"
            ],
            [
             0.1111111111111111,
             "#46039f"
            ],
            [
             0.2222222222222222,
             "#7201a8"
            ],
            [
             0.3333333333333333,
             "#9c179e"
            ],
            [
             0.4444444444444444,
             "#bd3786"
            ],
            [
             0.5555555555555556,
             "#d8576b"
            ],
            [
             0.6666666666666666,
             "#ed7953"
            ],
            [
             0.7777777777777778,
             "#fb9f3a"
            ],
            [
             0.8888888888888888,
             "#fdca26"
            ],
            [
             1,
             "#f0f921"
            ]
           ],
           "sequentialminus": [
            [
             0,
             "#0d0887"
            ],
            [
             0.1111111111111111,
             "#46039f"
            ],
            [
             0.2222222222222222,
             "#7201a8"
            ],
            [
             0.3333333333333333,
             "#9c179e"
            ],
            [
             0.4444444444444444,
             "#bd3786"
            ],
            [
             0.5555555555555556,
             "#d8576b"
            ],
            [
             0.6666666666666666,
             "#ed7953"
            ],
            [
             0.7777777777777778,
             "#fb9f3a"
            ],
            [
             0.8888888888888888,
             "#fdca26"
            ],
            [
             1,
             "#f0f921"
            ]
           ]
          },
          "colorway": [
           "#636efa",
           "#EF553B",
           "#00cc96",
           "#ab63fa",
           "#FFA15A",
           "#19d3f3",
           "#FF6692",
           "#B6E880",
           "#FF97FF",
           "#FECB52"
          ],
          "font": {
           "color": "#2a3f5f"
          },
          "geo": {
           "bgcolor": "white",
           "lakecolor": "white",
           "landcolor": "#E5ECF6",
           "showlakes": true,
           "showland": true,
           "subunitcolor": "white"
          },
          "hoverlabel": {
           "align": "left"
          },
          "hovermode": "closest",
          "mapbox": {
           "style": "light"
          },
          "paper_bgcolor": "white",
          "plot_bgcolor": "#E5ECF6",
          "polar": {
           "angularaxis": {
            "gridcolor": "white",
            "linecolor": "white",
            "ticks": ""
           },
           "bgcolor": "#E5ECF6",
           "radialaxis": {
            "gridcolor": "white",
            "linecolor": "white",
            "ticks": ""
           }
          },
          "scene": {
           "xaxis": {
            "backgroundcolor": "#E5ECF6",
            "gridcolor": "white",
            "gridwidth": 2,
            "linecolor": "white",
            "showbackground": true,
            "ticks": "",
            "zerolinecolor": "white"
           },
           "yaxis": {
            "backgroundcolor": "#E5ECF6",
            "gridcolor": "white",
            "gridwidth": 2,
            "linecolor": "white",
            "showbackground": true,
            "ticks": "",
            "zerolinecolor": "white"
           },
           "zaxis": {
            "backgroundcolor": "#E5ECF6",
            "gridcolor": "white",
            "gridwidth": 2,
            "linecolor": "white",
            "showbackground": true,
            "ticks": "",
            "zerolinecolor": "white"
           }
          },
          "shapedefaults": {
           "line": {
            "color": "#2a3f5f"
           }
          },
          "ternary": {
           "aaxis": {
            "gridcolor": "white",
            "linecolor": "white",
            "ticks": ""
           },
           "baxis": {
            "gridcolor": "white",
            "linecolor": "white",
            "ticks": ""
           },
           "bgcolor": "#E5ECF6",
           "caxis": {
            "gridcolor": "white",
            "linecolor": "white",
            "ticks": ""
           }
          },
          "title": {
           "x": 0.05
          },
          "xaxis": {
           "automargin": true,
           "gridcolor": "white",
           "linecolor": "white",
           "ticks": "",
           "title": {
            "standoff": 15
           },
           "zerolinecolor": "white",
           "zerolinewidth": 2
          },
          "yaxis": {
           "automargin": true,
           "gridcolor": "white",
           "linecolor": "white",
           "ticks": "",
           "title": {
            "standoff": 15
           },
           "zerolinecolor": "white",
           "zerolinewidth": 2
          }
         }
        },
        "title": {
         "text": "Top 10 Financial Companies YTD Returns (%)"
        },
        "xaxis": {
         "anchor": "y",
         "domain": [
          0,
          1
         ],
         "title": {
          "text": "Date"
         }
        },
        "yaxis": {
         "anchor": "x",
         "domain": [
          0,
          1
         ],
         "title": {
          "text": "YTD Returns (%)"
         }
        }
       }
      }
     },
     "metadata": {},
     "output_type": "display_data"
    }
   ],
   "source": [
    "ytd_top10_fin = px.line(\n",
    "    hist_data_merge[hist_data_merge['Sector']=='Financial Services'], x='Date', y='YTD Return', color='Security', color_discrete_sequence=px.colors.qualitative.T10,\n",
    "    title='Top 10 Financial Companies YTD Returns (%)'\n",
    ")\n",
    "ytd_top10_fin.update_layout(yaxis_title='YTD Returns (%)', legend_title='Companies')\n",
    "\n",
    "ytd_top10_fin.show()"
   ]
  },
  {
   "cell_type": "markdown",
   "id": "36ef5db3",
   "metadata": {},
   "source": [
    "- The original 53 companies that were added in 1957 are still in the index today. Let's see how they performed this year and see if they were affected by the tarrif announcement."
   ]
  },
  {
   "cell_type": "code",
   "execution_count": null,
   "id": "71927fda",
   "metadata": {},
   "outputs": [],
   "source": [
    "original_list = snp500_market_cap[snp500_market_cap['Year_Added']==1957]['Ticker'].to_list() #53"
   ]
  },
  {
   "cell_type": "code",
   "execution_count": null,
   "id": "a86f1f43",
   "metadata": {},
   "outputs": [
    {
     "data": {
      "text/html": [
       "<div>\n",
       "<style scoped>\n",
       "    .dataframe tbody tr th:only-of-type {\n",
       "        vertical-align: middle;\n",
       "    }\n",
       "\n",
       "    .dataframe tbody tr th {\n",
       "        vertical-align: top;\n",
       "    }\n",
       "\n",
       "    .dataframe thead th {\n",
       "        text-align: right;\n",
       "    }\n",
       "</style>\n",
       "<table border=\"1\" class=\"dataframe\">\n",
       "  <thead>\n",
       "    <tr style=\"text-align: right;\">\n",
       "      <th></th>\n",
       "      <th>Ticker</th>\n",
       "      <th>Sector</th>\n",
       "      <th>MarketCap</th>\n",
       "      <th>Security</th>\n",
       "      <th>GICS Sector</th>\n",
       "      <th>GICS Sub-Industry</th>\n",
       "      <th>Headquarters Location</th>\n",
       "      <th>Date added</th>\n",
       "      <th>CIK</th>\n",
       "      <th>Founded</th>\n",
       "      <th>Year_Added</th>\n",
       "    </tr>\n",
       "  </thead>\n",
       "  <tbody>\n",
       "    <tr>\n",
       "      <th>186</th>\n",
       "      <td>XOM</td>\n",
       "      <td>Energy</td>\n",
       "      <td>4.493662e+11</td>\n",
       "      <td>ExxonMobil</td>\n",
       "      <td>Energy</td>\n",
       "      <td>Integrated Oil &amp; Gas</td>\n",
       "      <td>Irving, Texas</td>\n",
       "      <td>1957-03-04</td>\n",
       "      <td>34088</td>\n",
       "      <td>1999</td>\n",
       "      <td>1957</td>\n",
       "    </tr>\n",
       "    <tr>\n",
       "      <th>379</th>\n",
       "      <td>PG</td>\n",
       "      <td>Consumer Defensive</td>\n",
       "      <td>3.845515e+11</td>\n",
       "      <td>Procter &amp; Gamble</td>\n",
       "      <td>Consumer Staples</td>\n",
       "      <td>Personal Care Products</td>\n",
       "      <td>Cincinnati, Ohio</td>\n",
       "      <td>1957-03-04</td>\n",
       "      <td>80424</td>\n",
       "      <td>1837</td>\n",
       "      <td>1957</td>\n",
       "    </tr>\n",
       "    <tr>\n",
       "      <th>112</th>\n",
       "      <td>KO</td>\n",
       "      <td>Consumer Defensive</td>\n",
       "      <td>3.071097e+11</td>\n",
       "      <td>Coca-Cola Company (The)</td>\n",
       "      <td>Consumer Staples</td>\n",
       "      <td>Soft Drinks &amp; Non-alcoholic Beverages</td>\n",
       "      <td>Atlanta, Georgia</td>\n",
       "      <td>1957-03-04</td>\n",
       "      <td>21344</td>\n",
       "      <td>1886</td>\n",
       "      <td>1957</td>\n",
       "    </tr>\n",
       "    <tr>\n",
       "      <th>207</th>\n",
       "      <td>GE</td>\n",
       "      <td>Industrials</td>\n",
       "      <td>2.726013e+11</td>\n",
       "      <td>GE Aerospace</td>\n",
       "      <td>Industrials</td>\n",
       "      <td>Aerospace &amp; Defense</td>\n",
       "      <td>Evendale, Ohio</td>\n",
       "      <td>1957-03-04</td>\n",
       "      <td>40545</td>\n",
       "      <td>1892</td>\n",
       "      <td>1957</td>\n",
       "    </tr>\n",
       "    <tr>\n",
       "      <th>242</th>\n",
       "      <td>IBM</td>\n",
       "      <td>Technology</td>\n",
       "      <td>2.498870e+11</td>\n",
       "      <td>IBM</td>\n",
       "      <td>Information Technology</td>\n",
       "      <td>IT Consulting &amp; Other Services</td>\n",
       "      <td>Armonk, New York</td>\n",
       "      <td>1957-03-04</td>\n",
       "      <td>51143</td>\n",
       "      <td>1911</td>\n",
       "      <td>1957</td>\n",
       "    </tr>\n",
       "    <tr>\n",
       "      <th>99</th>\n",
       "      <td>CVX</td>\n",
       "      <td>Energy</td>\n",
       "      <td>2.428760e+11</td>\n",
       "      <td>Chevron Corporation</td>\n",
       "      <td>Energy</td>\n",
       "      <td>Integrated Oil &amp; Gas</td>\n",
       "      <td>San Ramon, California</td>\n",
       "      <td>1957-03-04</td>\n",
       "      <td>93410</td>\n",
       "      <td>1879</td>\n",
       "      <td>1957</td>\n",
       "    </tr>\n",
       "    <tr>\n",
       "      <th>2</th>\n",
       "      <td>ABT</td>\n",
       "      <td>Healthcare</td>\n",
       "      <td>2.330343e+11</td>\n",
       "      <td>Abbott Laboratories</td>\n",
       "      <td>Health Care</td>\n",
       "      <td>Health Care Equipment</td>\n",
       "      <td>North Chicago, Illinois</td>\n",
       "      <td>1957-03-04</td>\n",
       "      <td>1800</td>\n",
       "      <td>1888</td>\n",
       "      <td>1957</td>\n",
       "    </tr>\n",
       "    <tr>\n",
       "      <th>310</th>\n",
       "      <td>MRK</td>\n",
       "      <td>Healthcare</td>\n",
       "      <td>1.982960e+11</td>\n",
       "      <td>Merck &amp; Co.</td>\n",
       "      <td>Health Care</td>\n",
       "      <td>Pharmaceuticals</td>\n",
       "      <td>Kenilworth, New Jersey</td>\n",
       "      <td>1957-03-04</td>\n",
       "      <td>310158</td>\n",
       "      <td>1891</td>\n",
       "      <td>1957</td>\n",
       "    </tr>\n",
       "    <tr>\n",
       "      <th>392</th>\n",
       "      <td>RTX</td>\n",
       "      <td>Industrials</td>\n",
       "      <td>1.858307e+11</td>\n",
       "      <td>RTX Corporation</td>\n",
       "      <td>Industrials</td>\n",
       "      <td>Aerospace &amp; Defense</td>\n",
       "      <td>Waltham, Massachusetts</td>\n",
       "      <td>1957-03-04</td>\n",
       "      <td>101829</td>\n",
       "      <td>1922</td>\n",
       "      <td>1957</td>\n",
       "    </tr>\n",
       "    <tr>\n",
       "      <th>368</th>\n",
       "      <td>PEP</td>\n",
       "      <td>Consumer Defensive</td>\n",
       "      <td>1.797626e+11</td>\n",
       "      <td>PepsiCo</td>\n",
       "      <td>Consumer Staples</td>\n",
       "      <td>Soft Drinks &amp; Non-alcoholic Beverages</td>\n",
       "      <td>Purchase, New York</td>\n",
       "      <td>1957-03-04</td>\n",
       "      <td>77476</td>\n",
       "      <td>1898</td>\n",
       "      <td>1957</td>\n",
       "    </tr>\n",
       "  </tbody>\n",
       "</table>\n",
       "</div>"
      ],
      "text/plain": [
       "    Ticker              Sector     MarketCap  ...     CIK Founded Year_Added\n",
       "186    XOM              Energy  4.493662e+11  ...   34088    1999       1957\n",
       "379     PG  Consumer Defensive  3.845515e+11  ...   80424    1837       1957\n",
       "112     KO  Consumer Defensive  3.071097e+11  ...   21344    1886       1957\n",
       "207     GE         Industrials  2.726013e+11  ...   40545    1892       1957\n",
       "242    IBM          Technology  2.498870e+11  ...   51143    1911       1957\n",
       "99     CVX              Energy  2.428760e+11  ...   93410    1879       1957\n",
       "2      ABT          Healthcare  2.330343e+11  ...    1800    1888       1957\n",
       "310    MRK          Healthcare  1.982960e+11  ...  310158    1891       1957\n",
       "392    RTX         Industrials  1.858307e+11  ...  101829    1922       1957\n",
       "368    PEP  Consumer Defensive  1.797626e+11  ...   77476    1898       1957\n",
       "\n",
       "[10 rows x 11 columns]"
      ]
     },
     "execution_count": 67,
     "metadata": {},
     "output_type": "execute_result"
    }
   ],
   "source": [
    "# top 10 original by market cap\n",
    "snp500_market_cap[snp500_market_cap['Year_Added']==1957].sort_values('MarketCap', ascending=False)[:10]"
   ]
  },
  {
   "cell_type": "code",
   "execution_count": 69,
   "id": "b8c7f174",
   "metadata": {},
   "outputs": [
    {
     "data": {
      "text/html": [
       "<div>\n",
       "<style scoped>\n",
       "    .dataframe tbody tr th:only-of-type {\n",
       "        vertical-align: middle;\n",
       "    }\n",
       "\n",
       "    .dataframe tbody tr th {\n",
       "        vertical-align: top;\n",
       "    }\n",
       "\n",
       "    .dataframe thead th {\n",
       "        text-align: right;\n",
       "    }\n",
       "</style>\n",
       "<table border=\"1\" class=\"dataframe\">\n",
       "  <thead>\n",
       "    <tr style=\"text-align: right;\">\n",
       "      <th></th>\n",
       "      <th>Date</th>\n",
       "      <th>Open</th>\n",
       "      <th>High</th>\n",
       "      <th>Low</th>\n",
       "      <th>Close</th>\n",
       "      <th>Volume</th>\n",
       "      <th>Dividends</th>\n",
       "      <th>Stock Splits</th>\n",
       "      <th>Ticker</th>\n",
       "    </tr>\n",
       "  </thead>\n",
       "  <tbody>\n",
       "    <tr>\n",
       "      <th>0</th>\n",
       "      <td>2025-01-02 00:00:00-05:00</td>\n",
       "      <td>106.340636</td>\n",
       "      <td>107.047742</td>\n",
       "      <td>104.965709</td>\n",
       "      <td>105.388008</td>\n",
       "      <td>12685400</td>\n",
       "      <td>0.0</td>\n",
       "      <td>0.0</td>\n",
       "      <td>XOM</td>\n",
       "    </tr>\n",
       "    <tr>\n",
       "      <th>1</th>\n",
       "      <td>2025-01-03 00:00:00-05:00</td>\n",
       "      <td>106.065654</td>\n",
       "      <td>106.546875</td>\n",
       "      <td>105.535324</td>\n",
       "      <td>105.928162</td>\n",
       "      <td>14237900</td>\n",
       "      <td>0.0</td>\n",
       "      <td>0.0</td>\n",
       "      <td>XOM</td>\n",
       "    </tr>\n",
       "    <tr>\n",
       "      <th>2</th>\n",
       "      <td>2025-01-06 00:00:00-05:00</td>\n",
       "      <td>106.301347</td>\n",
       "      <td>107.813766</td>\n",
       "      <td>105.594242</td>\n",
       "      <td>105.810303</td>\n",
       "      <td>15623700</td>\n",
       "      <td>0.0</td>\n",
       "      <td>0.0</td>\n",
       "      <td>XOM</td>\n",
       "    </tr>\n",
       "    <tr>\n",
       "      <th>3</th>\n",
       "      <td>2025-01-07 00:00:00-05:00</td>\n",
       "      <td>106.988823</td>\n",
       "      <td>108.088758</td>\n",
       "      <td>106.340640</td>\n",
       "      <td>106.802223</td>\n",
       "      <td>12625900</td>\n",
       "      <td>0.0</td>\n",
       "      <td>0.0</td>\n",
       "      <td>XOM</td>\n",
       "    </tr>\n",
       "    <tr>\n",
       "      <th>4</th>\n",
       "      <td>2025-01-08 00:00:00-05:00</td>\n",
       "      <td>105.388008</td>\n",
       "      <td>105.780845</td>\n",
       "      <td>104.111296</td>\n",
       "      <td>105.014816</td>\n",
       "      <td>17858100</td>\n",
       "      <td>0.0</td>\n",
       "      <td>0.0</td>\n",
       "      <td>XOM</td>\n",
       "    </tr>\n",
       "    <tr>\n",
       "      <th>...</th>\n",
       "      <td>...</td>\n",
       "      <td>...</td>\n",
       "      <td>...</td>\n",
       "      <td>...</td>\n",
       "      <td>...</td>\n",
       "      <td>...</td>\n",
       "      <td>...</td>\n",
       "      <td>...</td>\n",
       "      <td>...</td>\n",
       "    </tr>\n",
       "    <tr>\n",
       "      <th>1115</th>\n",
       "      <td>2025-06-09 00:00:00-04:00</td>\n",
       "      <td>129.830002</td>\n",
       "      <td>130.649994</td>\n",
       "      <td>129.179993</td>\n",
       "      <td>129.960007</td>\n",
       "      <td>8453100</td>\n",
       "      <td>0.0</td>\n",
       "      <td>0.0</td>\n",
       "      <td>PEP</td>\n",
       "    </tr>\n",
       "    <tr>\n",
       "      <th>1116</th>\n",
       "      <td>2025-06-10 00:00:00-04:00</td>\n",
       "      <td>130.199997</td>\n",
       "      <td>132.119995</td>\n",
       "      <td>129.460007</td>\n",
       "      <td>131.830002</td>\n",
       "      <td>11852900</td>\n",
       "      <td>0.0</td>\n",
       "      <td>0.0</td>\n",
       "      <td>PEP</td>\n",
       "    </tr>\n",
       "    <tr>\n",
       "      <th>1117</th>\n",
       "      <td>2025-06-11 00:00:00-04:00</td>\n",
       "      <td>131.940002</td>\n",
       "      <td>131.970001</td>\n",
       "      <td>129.789993</td>\n",
       "      <td>129.899994</td>\n",
       "      <td>9168400</td>\n",
       "      <td>0.0</td>\n",
       "      <td>0.0</td>\n",
       "      <td>PEP</td>\n",
       "    </tr>\n",
       "    <tr>\n",
       "      <th>1118</th>\n",
       "      <td>2025-06-12 00:00:00-04:00</td>\n",
       "      <td>129.889999</td>\n",
       "      <td>132.330002</td>\n",
       "      <td>129.710007</td>\n",
       "      <td>132.300003</td>\n",
       "      <td>11444900</td>\n",
       "      <td>0.0</td>\n",
       "      <td>0.0</td>\n",
       "      <td>PEP</td>\n",
       "    </tr>\n",
       "    <tr>\n",
       "      <th>1119</th>\n",
       "      <td>2025-06-13 00:00:00-04:00</td>\n",
       "      <td>131.759995</td>\n",
       "      <td>133.059998</td>\n",
       "      <td>130.589996</td>\n",
       "      <td>130.850006</td>\n",
       "      <td>9578600</td>\n",
       "      <td>0.0</td>\n",
       "      <td>0.0</td>\n",
       "      <td>PEP</td>\n",
       "    </tr>\n",
       "  </tbody>\n",
       "</table>\n",
       "<p>1120 rows × 9 columns</p>\n",
       "</div>"
      ],
      "text/plain": [
       "                          Date        Open  ...  Stock Splits  Ticker\n",
       "0    2025-01-02 00:00:00-05:00  106.340636  ...           0.0     XOM\n",
       "1    2025-01-03 00:00:00-05:00  106.065654  ...           0.0     XOM\n",
       "2    2025-01-06 00:00:00-05:00  106.301347  ...           0.0     XOM\n",
       "3    2025-01-07 00:00:00-05:00  106.988823  ...           0.0     XOM\n",
       "4    2025-01-08 00:00:00-05:00  105.388008  ...           0.0     XOM\n",
       "...                        ...         ...  ...           ...     ...\n",
       "1115 2025-06-09 00:00:00-04:00  129.830002  ...           0.0     PEP\n",
       "1116 2025-06-10 00:00:00-04:00  130.199997  ...           0.0     PEP\n",
       "1117 2025-06-11 00:00:00-04:00  131.940002  ...           0.0     PEP\n",
       "1118 2025-06-12 00:00:00-04:00  129.889999  ...           0.0     PEP\n",
       "1119 2025-06-13 00:00:00-04:00  131.759995  ...           0.0     PEP\n",
       "\n",
       "[1120 rows x 9 columns]"
      ]
     },
     "execution_count": 69,
     "metadata": {},
     "output_type": "execute_result"
    }
   ],
   "source": [
    "top10_original_list = snp500_market_cap[snp500_market_cap['Year_Added']==1957].sort_values('MarketCap', ascending=False)[:10]['Ticker'].to_list()\n",
    "\n",
    "hist_data_original = fetch_historical_data(top10_original_list, start_date=start, end_date=today)\n",
    "hist_data_original"
   ]
  },
  {
   "cell_type": "code",
   "execution_count": null,
   "id": "ddbab606",
   "metadata": {},
   "outputs": [
    {
     "data": {
      "text/html": [
       "<div>\n",
       "<style scoped>\n",
       "    .dataframe tbody tr th:only-of-type {\n",
       "        vertical-align: middle;\n",
       "    }\n",
       "\n",
       "    .dataframe tbody tr th {\n",
       "        vertical-align: top;\n",
       "    }\n",
       "\n",
       "    .dataframe thead th {\n",
       "        text-align: right;\n",
       "    }\n",
       "</style>\n",
       "<table border=\"1\" class=\"dataframe\">\n",
       "  <thead>\n",
       "    <tr style=\"text-align: right;\">\n",
       "      <th></th>\n",
       "      <th>Date</th>\n",
       "      <th>Open</th>\n",
       "      <th>High</th>\n",
       "      <th>Low</th>\n",
       "      <th>Close</th>\n",
       "      <th>Volume</th>\n",
       "      <th>Dividends</th>\n",
       "      <th>Stock Splits</th>\n",
       "      <th>Ticker</th>\n",
       "      <th>First Close</th>\n",
       "      <th>YTD Returns</th>\n",
       "    </tr>\n",
       "  </thead>\n",
       "  <tbody>\n",
       "    <tr>\n",
       "      <th>0</th>\n",
       "      <td>2025-01-02 00:00:00-05:00</td>\n",
       "      <td>106.340636</td>\n",
       "      <td>107.047742</td>\n",
       "      <td>104.965709</td>\n",
       "      <td>105.388008</td>\n",
       "      <td>12685400</td>\n",
       "      <td>0.0</td>\n",
       "      <td>0.0</td>\n",
       "      <td>XOM</td>\n",
       "      <td>105.388008</td>\n",
       "      <td>0.000</td>\n",
       "    </tr>\n",
       "    <tr>\n",
       "      <th>1</th>\n",
       "      <td>2025-01-03 00:00:00-05:00</td>\n",
       "      <td>106.065654</td>\n",
       "      <td>106.546875</td>\n",
       "      <td>105.535324</td>\n",
       "      <td>105.928162</td>\n",
       "      <td>14237900</td>\n",
       "      <td>0.0</td>\n",
       "      <td>0.0</td>\n",
       "      <td>XOM</td>\n",
       "      <td>105.388008</td>\n",
       "      <td>0.513</td>\n",
       "    </tr>\n",
       "    <tr>\n",
       "      <th>2</th>\n",
       "      <td>2025-01-06 00:00:00-05:00</td>\n",
       "      <td>106.301347</td>\n",
       "      <td>107.813766</td>\n",
       "      <td>105.594242</td>\n",
       "      <td>105.810303</td>\n",
       "      <td>15623700</td>\n",
       "      <td>0.0</td>\n",
       "      <td>0.0</td>\n",
       "      <td>XOM</td>\n",
       "      <td>105.388008</td>\n",
       "      <td>0.401</td>\n",
       "    </tr>\n",
       "    <tr>\n",
       "      <th>3</th>\n",
       "      <td>2025-01-07 00:00:00-05:00</td>\n",
       "      <td>106.988823</td>\n",
       "      <td>108.088758</td>\n",
       "      <td>106.340640</td>\n",
       "      <td>106.802223</td>\n",
       "      <td>12625900</td>\n",
       "      <td>0.0</td>\n",
       "      <td>0.0</td>\n",
       "      <td>XOM</td>\n",
       "      <td>105.388008</td>\n",
       "      <td>1.342</td>\n",
       "    </tr>\n",
       "    <tr>\n",
       "      <th>4</th>\n",
       "      <td>2025-01-08 00:00:00-05:00</td>\n",
       "      <td>105.388008</td>\n",
       "      <td>105.780845</td>\n",
       "      <td>104.111296</td>\n",
       "      <td>105.014816</td>\n",
       "      <td>17858100</td>\n",
       "      <td>0.0</td>\n",
       "      <td>0.0</td>\n",
       "      <td>XOM</td>\n",
       "      <td>105.388008</td>\n",
       "      <td>-0.354</td>\n",
       "    </tr>\n",
       "    <tr>\n",
       "      <th>...</th>\n",
       "      <td>...</td>\n",
       "      <td>...</td>\n",
       "      <td>...</td>\n",
       "      <td>...</td>\n",
       "      <td>...</td>\n",
       "      <td>...</td>\n",
       "      <td>...</td>\n",
       "      <td>...</td>\n",
       "      <td>...</td>\n",
       "      <td>...</td>\n",
       "      <td>...</td>\n",
       "    </tr>\n",
       "    <tr>\n",
       "      <th>1115</th>\n",
       "      <td>2025-06-09 00:00:00-04:00</td>\n",
       "      <td>129.830002</td>\n",
       "      <td>130.649994</td>\n",
       "      <td>129.179993</td>\n",
       "      <td>129.960007</td>\n",
       "      <td>8453100</td>\n",
       "      <td>0.0</td>\n",
       "      <td>0.0</td>\n",
       "      <td>PEP</td>\n",
       "      <td>147.277557</td>\n",
       "      <td>-11.758</td>\n",
       "    </tr>\n",
       "    <tr>\n",
       "      <th>1116</th>\n",
       "      <td>2025-06-10 00:00:00-04:00</td>\n",
       "      <td>130.199997</td>\n",
       "      <td>132.119995</td>\n",
       "      <td>129.460007</td>\n",
       "      <td>131.830002</td>\n",
       "      <td>11852900</td>\n",
       "      <td>0.0</td>\n",
       "      <td>0.0</td>\n",
       "      <td>PEP</td>\n",
       "      <td>147.277557</td>\n",
       "      <td>-10.489</td>\n",
       "    </tr>\n",
       "    <tr>\n",
       "      <th>1117</th>\n",
       "      <td>2025-06-11 00:00:00-04:00</td>\n",
       "      <td>131.940002</td>\n",
       "      <td>131.970001</td>\n",
       "      <td>129.789993</td>\n",
       "      <td>129.899994</td>\n",
       "      <td>9168400</td>\n",
       "      <td>0.0</td>\n",
       "      <td>0.0</td>\n",
       "      <td>PEP</td>\n",
       "      <td>147.277557</td>\n",
       "      <td>-11.799</td>\n",
       "    </tr>\n",
       "    <tr>\n",
       "      <th>1118</th>\n",
       "      <td>2025-06-12 00:00:00-04:00</td>\n",
       "      <td>129.889999</td>\n",
       "      <td>132.330002</td>\n",
       "      <td>129.710007</td>\n",
       "      <td>132.300003</td>\n",
       "      <td>11444900</td>\n",
       "      <td>0.0</td>\n",
       "      <td>0.0</td>\n",
       "      <td>PEP</td>\n",
       "      <td>147.277557</td>\n",
       "      <td>-10.170</td>\n",
       "    </tr>\n",
       "    <tr>\n",
       "      <th>1119</th>\n",
       "      <td>2025-06-13 00:00:00-04:00</td>\n",
       "      <td>131.759995</td>\n",
       "      <td>133.059998</td>\n",
       "      <td>130.589996</td>\n",
       "      <td>130.850006</td>\n",
       "      <td>9578600</td>\n",
       "      <td>0.0</td>\n",
       "      <td>0.0</td>\n",
       "      <td>PEP</td>\n",
       "      <td>147.277557</td>\n",
       "      <td>-11.154</td>\n",
       "    </tr>\n",
       "  </tbody>\n",
       "</table>\n",
       "<p>1120 rows × 11 columns</p>\n",
       "</div>"
      ],
      "text/plain": [
       "                          Date        Open  ...  First Close  YTD Returns\n",
       "0    2025-01-02 00:00:00-05:00  106.340636  ...   105.388008        0.000\n",
       "1    2025-01-03 00:00:00-05:00  106.065654  ...   105.388008        0.513\n",
       "2    2025-01-06 00:00:00-05:00  106.301347  ...   105.388008        0.401\n",
       "3    2025-01-07 00:00:00-05:00  106.988823  ...   105.388008        1.342\n",
       "4    2025-01-08 00:00:00-05:00  105.388008  ...   105.388008       -0.354\n",
       "...                        ...         ...  ...          ...          ...\n",
       "1115 2025-06-09 00:00:00-04:00  129.830002  ...   147.277557      -11.758\n",
       "1116 2025-06-10 00:00:00-04:00  130.199997  ...   147.277557      -10.489\n",
       "1117 2025-06-11 00:00:00-04:00  131.940002  ...   147.277557      -11.799\n",
       "1118 2025-06-12 00:00:00-04:00  129.889999  ...   147.277557      -10.170\n",
       "1119 2025-06-13 00:00:00-04:00  131.759995  ...   147.277557      -11.154\n",
       "\n",
       "[1120 rows x 11 columns]"
      ]
     },
     "execution_count": 71,
     "metadata": {},
     "output_type": "execute_result"
    }
   ],
   "source": [
    "hist_data_original['First Close'] = hist_data_original.groupby('Ticker')['Close'].transform('first')\n",
    "hist_data_original['YTD Returns'] = calculate_ytd_return(hist_data_original['Close'], hist_data_original['First Close'])\n",
    "hist_data_original"
   ]
  },
  {
   "cell_type": "code",
   "execution_count": 76,
   "id": "ac7b8074",
   "metadata": {},
   "outputs": [],
   "source": [
    "top10_original = snp500_market_cap[snp500_market_cap['Year_Added']==1957].sort_values('MarketCap', ascending=False)[:10][['Security', 'Ticker']]\n",
    "ytd_top10_og = pd.merge(hist_data_original, top10_original, how='inner', on='Ticker')"
   ]
  },
  {
   "cell_type": "code",
   "execution_count": 78,
   "id": "cb285ce3",
   "metadata": {},
   "outputs": [
    {
     "data": {
      "text/html": [
       "<div>\n",
       "<style scoped>\n",
       "    .dataframe tbody tr th:only-of-type {\n",
       "        vertical-align: middle;\n",
       "    }\n",
       "\n",
       "    .dataframe tbody tr th {\n",
       "        vertical-align: top;\n",
       "    }\n",
       "\n",
       "    .dataframe thead th {\n",
       "        text-align: right;\n",
       "    }\n",
       "</style>\n",
       "<table border=\"1\" class=\"dataframe\">\n",
       "  <thead>\n",
       "    <tr style=\"text-align: right;\">\n",
       "      <th></th>\n",
       "      <th>Date</th>\n",
       "      <th>Open</th>\n",
       "      <th>High</th>\n",
       "      <th>Low</th>\n",
       "      <th>Close</th>\n",
       "      <th>Volume</th>\n",
       "      <th>Dividends</th>\n",
       "      <th>Stock Splits</th>\n",
       "      <th>Ticker</th>\n",
       "      <th>First Close</th>\n",
       "      <th>YTD Returns</th>\n",
       "      <th>Security</th>\n",
       "    </tr>\n",
       "  </thead>\n",
       "  <tbody>\n",
       "    <tr>\n",
       "      <th>0</th>\n",
       "      <td>2025-01-02 00:00:00-05:00</td>\n",
       "      <td>106.340636</td>\n",
       "      <td>107.047742</td>\n",
       "      <td>104.965709</td>\n",
       "      <td>105.388008</td>\n",
       "      <td>12685400</td>\n",
       "      <td>0.0</td>\n",
       "      <td>0.0</td>\n",
       "      <td>XOM</td>\n",
       "      <td>105.388008</td>\n",
       "      <td>0.000</td>\n",
       "      <td>ExxonMobil</td>\n",
       "    </tr>\n",
       "    <tr>\n",
       "      <th>1</th>\n",
       "      <td>2025-01-03 00:00:00-05:00</td>\n",
       "      <td>106.065654</td>\n",
       "      <td>106.546875</td>\n",
       "      <td>105.535324</td>\n",
       "      <td>105.928162</td>\n",
       "      <td>14237900</td>\n",
       "      <td>0.0</td>\n",
       "      <td>0.0</td>\n",
       "      <td>XOM</td>\n",
       "      <td>105.388008</td>\n",
       "      <td>0.513</td>\n",
       "      <td>ExxonMobil</td>\n",
       "    </tr>\n",
       "    <tr>\n",
       "      <th>2</th>\n",
       "      <td>2025-01-06 00:00:00-05:00</td>\n",
       "      <td>106.301347</td>\n",
       "      <td>107.813766</td>\n",
       "      <td>105.594242</td>\n",
       "      <td>105.810303</td>\n",
       "      <td>15623700</td>\n",
       "      <td>0.0</td>\n",
       "      <td>0.0</td>\n",
       "      <td>XOM</td>\n",
       "      <td>105.388008</td>\n",
       "      <td>0.401</td>\n",
       "      <td>ExxonMobil</td>\n",
       "    </tr>\n",
       "    <tr>\n",
       "      <th>3</th>\n",
       "      <td>2025-01-07 00:00:00-05:00</td>\n",
       "      <td>106.988823</td>\n",
       "      <td>108.088758</td>\n",
       "      <td>106.340640</td>\n",
       "      <td>106.802223</td>\n",
       "      <td>12625900</td>\n",
       "      <td>0.0</td>\n",
       "      <td>0.0</td>\n",
       "      <td>XOM</td>\n",
       "      <td>105.388008</td>\n",
       "      <td>1.342</td>\n",
       "      <td>ExxonMobil</td>\n",
       "    </tr>\n",
       "    <tr>\n",
       "      <th>4</th>\n",
       "      <td>2025-01-08 00:00:00-05:00</td>\n",
       "      <td>105.388008</td>\n",
       "      <td>105.780845</td>\n",
       "      <td>104.111296</td>\n",
       "      <td>105.014816</td>\n",
       "      <td>17858100</td>\n",
       "      <td>0.0</td>\n",
       "      <td>0.0</td>\n",
       "      <td>XOM</td>\n",
       "      <td>105.388008</td>\n",
       "      <td>-0.354</td>\n",
       "      <td>ExxonMobil</td>\n",
       "    </tr>\n",
       "    <tr>\n",
       "      <th>...</th>\n",
       "      <td>...</td>\n",
       "      <td>...</td>\n",
       "      <td>...</td>\n",
       "      <td>...</td>\n",
       "      <td>...</td>\n",
       "      <td>...</td>\n",
       "      <td>...</td>\n",
       "      <td>...</td>\n",
       "      <td>...</td>\n",
       "      <td>...</td>\n",
       "      <td>...</td>\n",
       "      <td>...</td>\n",
       "    </tr>\n",
       "    <tr>\n",
       "      <th>1115</th>\n",
       "      <td>2025-06-09 00:00:00-04:00</td>\n",
       "      <td>129.830002</td>\n",
       "      <td>130.649994</td>\n",
       "      <td>129.179993</td>\n",
       "      <td>129.960007</td>\n",
       "      <td>8453100</td>\n",
       "      <td>0.0</td>\n",
       "      <td>0.0</td>\n",
       "      <td>PEP</td>\n",
       "      <td>147.277557</td>\n",
       "      <td>-11.758</td>\n",
       "      <td>PepsiCo</td>\n",
       "    </tr>\n",
       "    <tr>\n",
       "      <th>1116</th>\n",
       "      <td>2025-06-10 00:00:00-04:00</td>\n",
       "      <td>130.199997</td>\n",
       "      <td>132.119995</td>\n",
       "      <td>129.460007</td>\n",
       "      <td>131.830002</td>\n",
       "      <td>11852900</td>\n",
       "      <td>0.0</td>\n",
       "      <td>0.0</td>\n",
       "      <td>PEP</td>\n",
       "      <td>147.277557</td>\n",
       "      <td>-10.489</td>\n",
       "      <td>PepsiCo</td>\n",
       "    </tr>\n",
       "    <tr>\n",
       "      <th>1117</th>\n",
       "      <td>2025-06-11 00:00:00-04:00</td>\n",
       "      <td>131.940002</td>\n",
       "      <td>131.970001</td>\n",
       "      <td>129.789993</td>\n",
       "      <td>129.899994</td>\n",
       "      <td>9168400</td>\n",
       "      <td>0.0</td>\n",
       "      <td>0.0</td>\n",
       "      <td>PEP</td>\n",
       "      <td>147.277557</td>\n",
       "      <td>-11.799</td>\n",
       "      <td>PepsiCo</td>\n",
       "    </tr>\n",
       "    <tr>\n",
       "      <th>1118</th>\n",
       "      <td>2025-06-12 00:00:00-04:00</td>\n",
       "      <td>129.889999</td>\n",
       "      <td>132.330002</td>\n",
       "      <td>129.710007</td>\n",
       "      <td>132.300003</td>\n",
       "      <td>11444900</td>\n",
       "      <td>0.0</td>\n",
       "      <td>0.0</td>\n",
       "      <td>PEP</td>\n",
       "      <td>147.277557</td>\n",
       "      <td>-10.170</td>\n",
       "      <td>PepsiCo</td>\n",
       "    </tr>\n",
       "    <tr>\n",
       "      <th>1119</th>\n",
       "      <td>2025-06-13 00:00:00-04:00</td>\n",
       "      <td>131.759995</td>\n",
       "      <td>133.059998</td>\n",
       "      <td>130.589996</td>\n",
       "      <td>130.850006</td>\n",
       "      <td>9578600</td>\n",
       "      <td>0.0</td>\n",
       "      <td>0.0</td>\n",
       "      <td>PEP</td>\n",
       "      <td>147.277557</td>\n",
       "      <td>-11.154</td>\n",
       "      <td>PepsiCo</td>\n",
       "    </tr>\n",
       "  </tbody>\n",
       "</table>\n",
       "<p>1120 rows × 12 columns</p>\n",
       "</div>"
      ],
      "text/plain": [
       "                          Date        Open  ...  YTD Returns    Security\n",
       "0    2025-01-02 00:00:00-05:00  106.340636  ...        0.000  ExxonMobil\n",
       "1    2025-01-03 00:00:00-05:00  106.065654  ...        0.513  ExxonMobil\n",
       "2    2025-01-06 00:00:00-05:00  106.301347  ...        0.401  ExxonMobil\n",
       "3    2025-01-07 00:00:00-05:00  106.988823  ...        1.342  ExxonMobil\n",
       "4    2025-01-08 00:00:00-05:00  105.388008  ...       -0.354  ExxonMobil\n",
       "...                        ...         ...  ...          ...         ...\n",
       "1115 2025-06-09 00:00:00-04:00  129.830002  ...      -11.758     PepsiCo\n",
       "1116 2025-06-10 00:00:00-04:00  130.199997  ...      -10.489     PepsiCo\n",
       "1117 2025-06-11 00:00:00-04:00  131.940002  ...      -11.799     PepsiCo\n",
       "1118 2025-06-12 00:00:00-04:00  129.889999  ...      -10.170     PepsiCo\n",
       "1119 2025-06-13 00:00:00-04:00  131.759995  ...      -11.154     PepsiCo\n",
       "\n",
       "[1120 rows x 12 columns]"
      ]
     },
     "execution_count": 78,
     "metadata": {},
     "output_type": "execute_result"
    }
   ],
   "source": [
    "ytd_top10_og"
   ]
  },
  {
   "cell_type": "code",
   "execution_count": 85,
   "id": "81375683",
   "metadata": {},
   "outputs": [
    {
     "data": {
      "application/vnd.plotly.v1+json": {
       "config": {
        "plotlyServerURL": "https://plotly.com"
       },
       "data": [
        {
         "hovertemplate": "Security=ExxonMobil<br>Date=%{x}<br>YTD Returns=%{y}<extra></extra>",
         "legendgroup": "ExxonMobil",
         "line": {
          "color": "#4C78A8",
          "dash": "solid"
         },
         "marker": {
          "symbol": "circle"
         },
         "mode": "lines",
         "name": "ExxonMobil",
         "showlegend": true,
         "type": "scattergl",
         "x": [
          "2025-01-02T00:00:00-05:00",
          "2025-01-03T00:00:00-05:00",
          "2025-01-06T00:00:00-05:00",
          "2025-01-07T00:00:00-05:00",
          "2025-01-08T00:00:00-05:00",
          "2025-01-10T00:00:00-05:00",
          "2025-01-13T00:00:00-05:00",
          "2025-01-14T00:00:00-05:00",
          "2025-01-15T00:00:00-05:00",
          "2025-01-16T00:00:00-05:00",
          "2025-01-17T00:00:00-05:00",
          "2025-01-21T00:00:00-05:00",
          "2025-01-22T00:00:00-05:00",
          "2025-01-23T00:00:00-05:00",
          "2025-01-24T00:00:00-05:00",
          "2025-01-27T00:00:00-05:00",
          "2025-01-28T00:00:00-05:00",
          "2025-01-29T00:00:00-05:00",
          "2025-01-30T00:00:00-05:00",
          "2025-01-31T00:00:00-05:00",
          "2025-02-03T00:00:00-05:00",
          "2025-02-04T00:00:00-05:00",
          "2025-02-05T00:00:00-05:00",
          "2025-02-06T00:00:00-05:00",
          "2025-02-07T00:00:00-05:00",
          "2025-02-10T00:00:00-05:00",
          "2025-02-11T00:00:00-05:00",
          "2025-02-12T00:00:00-05:00",
          "2025-02-13T00:00:00-05:00",
          "2025-02-14T00:00:00-05:00",
          "2025-02-18T00:00:00-05:00",
          "2025-02-19T00:00:00-05:00",
          "2025-02-20T00:00:00-05:00",
          "2025-02-21T00:00:00-05:00",
          "2025-02-24T00:00:00-05:00",
          "2025-02-25T00:00:00-05:00",
          "2025-02-26T00:00:00-05:00",
          "2025-02-27T00:00:00-05:00",
          "2025-02-28T00:00:00-05:00",
          "2025-03-03T00:00:00-05:00",
          "2025-03-04T00:00:00-05:00",
          "2025-03-05T00:00:00-05:00",
          "2025-03-06T00:00:00-05:00",
          "2025-03-07T00:00:00-05:00",
          "2025-03-10T00:00:00-04:00",
          "2025-03-11T00:00:00-04:00",
          "2025-03-12T00:00:00-04:00",
          "2025-03-13T00:00:00-04:00",
          "2025-03-14T00:00:00-04:00",
          "2025-03-17T00:00:00-04:00",
          "2025-03-18T00:00:00-04:00",
          "2025-03-19T00:00:00-04:00",
          "2025-03-20T00:00:00-04:00",
          "2025-03-21T00:00:00-04:00",
          "2025-03-24T00:00:00-04:00",
          "2025-03-25T00:00:00-04:00",
          "2025-03-26T00:00:00-04:00",
          "2025-03-27T00:00:00-04:00",
          "2025-03-28T00:00:00-04:00",
          "2025-03-31T00:00:00-04:00",
          "2025-04-01T00:00:00-04:00",
          "2025-04-02T00:00:00-04:00",
          "2025-04-03T00:00:00-04:00",
          "2025-04-04T00:00:00-04:00",
          "2025-04-07T00:00:00-04:00",
          "2025-04-08T00:00:00-04:00",
          "2025-04-09T00:00:00-04:00",
          "2025-04-10T00:00:00-04:00",
          "2025-04-11T00:00:00-04:00",
          "2025-04-14T00:00:00-04:00",
          "2025-04-15T00:00:00-04:00",
          "2025-04-16T00:00:00-04:00",
          "2025-04-17T00:00:00-04:00",
          "2025-04-21T00:00:00-04:00",
          "2025-04-22T00:00:00-04:00",
          "2025-04-23T00:00:00-04:00",
          "2025-04-24T00:00:00-04:00",
          "2025-04-25T00:00:00-04:00",
          "2025-04-28T00:00:00-04:00",
          "2025-04-29T00:00:00-04:00",
          "2025-04-30T00:00:00-04:00",
          "2025-05-01T00:00:00-04:00",
          "2025-05-02T00:00:00-04:00",
          "2025-05-05T00:00:00-04:00",
          "2025-05-06T00:00:00-04:00",
          "2025-05-07T00:00:00-04:00",
          "2025-05-08T00:00:00-04:00",
          "2025-05-09T00:00:00-04:00",
          "2025-05-12T00:00:00-04:00",
          "2025-05-13T00:00:00-04:00",
          "2025-05-14T00:00:00-04:00",
          "2025-05-15T00:00:00-04:00",
          "2025-05-16T00:00:00-04:00",
          "2025-05-19T00:00:00-04:00",
          "2025-05-20T00:00:00-04:00",
          "2025-05-21T00:00:00-04:00",
          "2025-05-22T00:00:00-04:00",
          "2025-05-23T00:00:00-04:00",
          "2025-05-27T00:00:00-04:00",
          "2025-05-28T00:00:00-04:00",
          "2025-05-29T00:00:00-04:00",
          "2025-05-30T00:00:00-04:00",
          "2025-06-02T00:00:00-04:00",
          "2025-06-03T00:00:00-04:00",
          "2025-06-04T00:00:00-04:00",
          "2025-06-05T00:00:00-04:00",
          "2025-06-06T00:00:00-04:00",
          "2025-06-09T00:00:00-04:00",
          "2025-06-10T00:00:00-04:00",
          "2025-06-11T00:00:00-04:00",
          "2025-06-12T00:00:00-04:00",
          "2025-06-13T00:00:00-04:00"
         ],
         "xaxis": "x",
         "y": [
          0,
          0.513,
          0.401,
          1.342,
          -0.354,
          -0.718,
          1.845,
          2.246,
          3.914,
          3.737,
          4.669,
          3.877,
          2.069,
          2.647,
          1.258,
          2.665,
          0.68,
          1.267,
          2.106,
          -0.447,
          -0.205,
          2.469,
          2.395,
          1.044,
          1.472,
          3.411,
          4.063,
          0.932,
          1.665,
          1.769,
          3.555,
          3.706,
          5.304,
          4.072,
          4.618,
          3.17,
          2.916,
          3.565,
          4.674,
          1.318,
          1.111,
          -0.864,
          1.186,
          2.502,
          5.116,
          2.634,
          2.606,
          2.173,
          5.21,
          6.959,
          6.846,
          8.51,
          8.971,
          8.595,
          8.877,
          9.62,
          11.199,
          10.842,
          10.692,
          11.82,
          11.923,
          11.575,
          5.708,
          -1.898,
          -3.214,
          -5.255,
          -0.525,
          -6.044,
          -3.026,
          -2.791,
          -3.064,
          -2.039,
          0.528,
          -0.948,
          1.825,
          0.951,
          2.136,
          2.079,
          2.136,
          1.882,
          -0.685,
          -0.544,
          -0.14,
          -2.904,
          -1.55,
          -1.644,
          -0.271,
          0.894,
          2.634,
          2.916,
          1.995,
          3.029,
          2.659,
          1.027,
          -0.416,
          -1.64,
          -2.294,
          -2.237,
          -1.773,
          -3.11,
          -2.56,
          -2.93,
          -2.218,
          -1.507,
          -2.93,
          -3.376,
          -1.061,
          -0.397,
          1.738,
          3.721,
          4.12,
          6.388
         ],
         "yaxis": "y"
        },
        {
         "hovertemplate": "Security=Procter & Gamble<br>Date=%{x}<br>YTD Returns=%{y}<extra></extra>",
         "legendgroup": "Procter & Gamble",
         "line": {
          "color": "#F58518",
          "dash": "solid"
         },
         "marker": {
          "symbol": "circle"
         },
         "mode": "lines",
         "name": "Procter & Gamble",
         "showlegend": true,
         "type": "scattergl",
         "x": [
          "2025-01-02T00:00:00-05:00",
          "2025-01-03T00:00:00-05:00",
          "2025-01-06T00:00:00-05:00",
          "2025-01-07T00:00:00-05:00",
          "2025-01-08T00:00:00-05:00",
          "2025-01-10T00:00:00-05:00",
          "2025-01-13T00:00:00-05:00",
          "2025-01-14T00:00:00-05:00",
          "2025-01-15T00:00:00-05:00",
          "2025-01-16T00:00:00-05:00",
          "2025-01-17T00:00:00-05:00",
          "2025-01-21T00:00:00-05:00",
          "2025-01-22T00:00:00-05:00",
          "2025-01-23T00:00:00-05:00",
          "2025-01-24T00:00:00-05:00",
          "2025-01-27T00:00:00-05:00",
          "2025-01-28T00:00:00-05:00",
          "2025-01-29T00:00:00-05:00",
          "2025-01-30T00:00:00-05:00",
          "2025-01-31T00:00:00-05:00",
          "2025-02-03T00:00:00-05:00",
          "2025-02-04T00:00:00-05:00",
          "2025-02-05T00:00:00-05:00",
          "2025-02-06T00:00:00-05:00",
          "2025-02-07T00:00:00-05:00",
          "2025-02-10T00:00:00-05:00",
          "2025-02-11T00:00:00-05:00",
          "2025-02-12T00:00:00-05:00",
          "2025-02-13T00:00:00-05:00",
          "2025-02-14T00:00:00-05:00",
          "2025-02-18T00:00:00-05:00",
          "2025-02-19T00:00:00-05:00",
          "2025-02-20T00:00:00-05:00",
          "2025-02-21T00:00:00-05:00",
          "2025-02-24T00:00:00-05:00",
          "2025-02-25T00:00:00-05:00",
          "2025-02-26T00:00:00-05:00",
          "2025-02-27T00:00:00-05:00",
          "2025-02-28T00:00:00-05:00",
          "2025-03-03T00:00:00-05:00",
          "2025-03-04T00:00:00-05:00",
          "2025-03-05T00:00:00-05:00",
          "2025-03-06T00:00:00-05:00",
          "2025-03-07T00:00:00-05:00",
          "2025-03-10T00:00:00-04:00",
          "2025-03-11T00:00:00-04:00",
          "2025-03-12T00:00:00-04:00",
          "2025-03-13T00:00:00-04:00",
          "2025-03-14T00:00:00-04:00",
          "2025-03-17T00:00:00-04:00",
          "2025-03-18T00:00:00-04:00",
          "2025-03-19T00:00:00-04:00",
          "2025-03-20T00:00:00-04:00",
          "2025-03-21T00:00:00-04:00",
          "2025-03-24T00:00:00-04:00",
          "2025-03-25T00:00:00-04:00",
          "2025-03-26T00:00:00-04:00",
          "2025-03-27T00:00:00-04:00",
          "2025-03-28T00:00:00-04:00",
          "2025-03-31T00:00:00-04:00",
          "2025-04-01T00:00:00-04:00",
          "2025-04-02T00:00:00-04:00",
          "2025-04-03T00:00:00-04:00",
          "2025-04-04T00:00:00-04:00",
          "2025-04-07T00:00:00-04:00",
          "2025-04-08T00:00:00-04:00",
          "2025-04-09T00:00:00-04:00",
          "2025-04-10T00:00:00-04:00",
          "2025-04-11T00:00:00-04:00",
          "2025-04-14T00:00:00-04:00",
          "2025-04-15T00:00:00-04:00",
          "2025-04-16T00:00:00-04:00",
          "2025-04-17T00:00:00-04:00",
          "2025-04-21T00:00:00-04:00",
          "2025-04-22T00:00:00-04:00",
          "2025-04-23T00:00:00-04:00",
          "2025-04-24T00:00:00-04:00",
          "2025-04-25T00:00:00-04:00",
          "2025-04-28T00:00:00-04:00",
          "2025-04-29T00:00:00-04:00",
          "2025-04-30T00:00:00-04:00",
          "2025-05-01T00:00:00-04:00",
          "2025-05-02T00:00:00-04:00",
          "2025-05-05T00:00:00-04:00",
          "2025-05-06T00:00:00-04:00",
          "2025-05-07T00:00:00-04:00",
          "2025-05-08T00:00:00-04:00",
          "2025-05-09T00:00:00-04:00",
          "2025-05-12T00:00:00-04:00",
          "2025-05-13T00:00:00-04:00",
          "2025-05-14T00:00:00-04:00",
          "2025-05-15T00:00:00-04:00",
          "2025-05-16T00:00:00-04:00",
          "2025-05-19T00:00:00-04:00",
          "2025-05-20T00:00:00-04:00",
          "2025-05-21T00:00:00-04:00",
          "2025-05-22T00:00:00-04:00",
          "2025-05-23T00:00:00-04:00",
          "2025-05-27T00:00:00-04:00",
          "2025-05-28T00:00:00-04:00",
          "2025-05-29T00:00:00-04:00",
          "2025-05-30T00:00:00-04:00",
          "2025-06-02T00:00:00-04:00",
          "2025-06-03T00:00:00-04:00",
          "2025-06-04T00:00:00-04:00",
          "2025-06-05T00:00:00-04:00",
          "2025-06-06T00:00:00-04:00",
          "2025-06-09T00:00:00-04:00",
          "2025-06-10T00:00:00-04:00",
          "2025-06-11T00:00:00-04:00",
          "2025-06-12T00:00:00-04:00",
          "2025-06-13T00:00:00-04:00"
         ],
         "xaxis": "x",
         "y": [
          0,
          -0.512,
          -3.241,
          -2.82,
          -2.338,
          -4.47,
          -4.302,
          -3.759,
          -3.814,
          -3.302,
          -2.922,
          -2.567,
          -0.747,
          0.102,
          -0.518,
          2.84,
          0.737,
          0.761,
          1.477,
          0.616,
          2.295,
          1.913,
          2.446,
          2.368,
          1.816,
          1.549,
          2.701,
          2.792,
          3.665,
          -1.263,
          0.276,
          0.919,
          1.355,
          3.186,
          3.374,
          4.653,
          3.835,
          4.241,
          5.374,
          6.435,
          4.974,
          5.841,
          5.871,
          6.653,
          6.841,
          4.938,
          2.058,
          2.192,
          1.816,
          2.901,
          1.658,
          2.18,
          1.561,
          1.04,
          0.41,
          -1.287,
          0.973,
          2.265,
          1.852,
          3.301,
          3.386,
          2.743,
          4.495,
          -0.742,
          -2.876,
          -3.991,
          -1.609,
          -0.857,
          1.174,
          2.519,
          2.119,
          0.858,
          3.428,
          1.097,
          2.396,
          1.084,
          -2.697,
          -1.788,
          -1.282,
          -1.032,
          -0.843,
          -2.423,
          -2.093,
          -3.124,
          -2.868,
          -2.844,
          -3.234,
          -3.838,
          -1.862,
          -3.185,
          -3.618,
          -0.941,
          -0.41,
          0.499,
          1.03,
          0.901,
          0.657,
          1.164,
          2.323,
          2.079,
          2.811,
          3.622,
          2.335,
          1.768,
          1.219,
          -0.703,
          0.041,
          -0.849,
          -0.678,
          -1.124,
          -0.471,
          -2.24
         ],
         "yaxis": "y"
        },
        {
         "hovertemplate": "Security=Coca-Cola Company (The)<br>Date=%{x}<br>YTD Returns=%{y}<extra></extra>",
         "legendgroup": "Coca-Cola Company (The)",
         "line": {
          "color": "#E45756",
          "dash": "solid"
         },
         "marker": {
          "symbol": "circle"
         },
         "mode": "lines",
         "name": "Coca-Cola Company (The)",
         "showlegend": true,
         "type": "scattergl",
         "x": [
          "2025-01-02T00:00:00-05:00",
          "2025-01-03T00:00:00-05:00",
          "2025-01-06T00:00:00-05:00",
          "2025-01-07T00:00:00-05:00",
          "2025-01-08T00:00:00-05:00",
          "2025-01-10T00:00:00-05:00",
          "2025-01-13T00:00:00-05:00",
          "2025-01-14T00:00:00-05:00",
          "2025-01-15T00:00:00-05:00",
          "2025-01-16T00:00:00-05:00",
          "2025-01-17T00:00:00-05:00",
          "2025-01-21T00:00:00-05:00",
          "2025-01-22T00:00:00-05:00",
          "2025-01-23T00:00:00-05:00",
          "2025-01-24T00:00:00-05:00",
          "2025-01-27T00:00:00-05:00",
          "2025-01-28T00:00:00-05:00",
          "2025-01-29T00:00:00-05:00",
          "2025-01-30T00:00:00-05:00",
          "2025-01-31T00:00:00-05:00",
          "2025-02-03T00:00:00-05:00",
          "2025-02-04T00:00:00-05:00",
          "2025-02-05T00:00:00-05:00",
          "2025-02-06T00:00:00-05:00",
          "2025-02-07T00:00:00-05:00",
          "2025-02-10T00:00:00-05:00",
          "2025-02-11T00:00:00-05:00",
          "2025-02-12T00:00:00-05:00",
          "2025-02-13T00:00:00-05:00",
          "2025-02-14T00:00:00-05:00",
          "2025-02-18T00:00:00-05:00",
          "2025-02-19T00:00:00-05:00",
          "2025-02-20T00:00:00-05:00",
          "2025-02-21T00:00:00-05:00",
          "2025-02-24T00:00:00-05:00",
          "2025-02-25T00:00:00-05:00",
          "2025-02-26T00:00:00-05:00",
          "2025-02-27T00:00:00-05:00",
          "2025-02-28T00:00:00-05:00",
          "2025-03-03T00:00:00-05:00",
          "2025-03-04T00:00:00-05:00",
          "2025-03-05T00:00:00-05:00",
          "2025-03-06T00:00:00-05:00",
          "2025-03-07T00:00:00-05:00",
          "2025-03-10T00:00:00-04:00",
          "2025-03-11T00:00:00-04:00",
          "2025-03-12T00:00:00-04:00",
          "2025-03-13T00:00:00-04:00",
          "2025-03-14T00:00:00-04:00",
          "2025-03-17T00:00:00-04:00",
          "2025-03-18T00:00:00-04:00",
          "2025-03-19T00:00:00-04:00",
          "2025-03-20T00:00:00-04:00",
          "2025-03-21T00:00:00-04:00",
          "2025-03-24T00:00:00-04:00",
          "2025-03-25T00:00:00-04:00",
          "2025-03-26T00:00:00-04:00",
          "2025-03-27T00:00:00-04:00",
          "2025-03-28T00:00:00-04:00",
          "2025-03-31T00:00:00-04:00",
          "2025-04-01T00:00:00-04:00",
          "2025-04-02T00:00:00-04:00",
          "2025-04-03T00:00:00-04:00",
          "2025-04-04T00:00:00-04:00",
          "2025-04-07T00:00:00-04:00",
          "2025-04-08T00:00:00-04:00",
          "2025-04-09T00:00:00-04:00",
          "2025-04-10T00:00:00-04:00",
          "2025-04-11T00:00:00-04:00",
          "2025-04-14T00:00:00-04:00",
          "2025-04-15T00:00:00-04:00",
          "2025-04-16T00:00:00-04:00",
          "2025-04-17T00:00:00-04:00",
          "2025-04-21T00:00:00-04:00",
          "2025-04-22T00:00:00-04:00",
          "2025-04-23T00:00:00-04:00",
          "2025-04-24T00:00:00-04:00",
          "2025-04-25T00:00:00-04:00",
          "2025-04-28T00:00:00-04:00",
          "2025-04-29T00:00:00-04:00",
          "2025-04-30T00:00:00-04:00",
          "2025-05-01T00:00:00-04:00",
          "2025-05-02T00:00:00-04:00",
          "2025-05-05T00:00:00-04:00",
          "2025-05-06T00:00:00-04:00",
          "2025-05-07T00:00:00-04:00",
          "2025-05-08T00:00:00-04:00",
          "2025-05-09T00:00:00-04:00",
          "2025-05-12T00:00:00-04:00",
          "2025-05-13T00:00:00-04:00",
          "2025-05-14T00:00:00-04:00",
          "2025-05-15T00:00:00-04:00",
          "2025-05-16T00:00:00-04:00",
          "2025-05-19T00:00:00-04:00",
          "2025-05-20T00:00:00-04:00",
          "2025-05-21T00:00:00-04:00",
          "2025-05-22T00:00:00-04:00",
          "2025-05-23T00:00:00-04:00",
          "2025-05-27T00:00:00-04:00",
          "2025-05-28T00:00:00-04:00",
          "2025-05-29T00:00:00-04:00",
          "2025-05-30T00:00:00-04:00",
          "2025-06-02T00:00:00-04:00",
          "2025-06-03T00:00:00-04:00",
          "2025-06-04T00:00:00-04:00",
          "2025-06-05T00:00:00-04:00",
          "2025-06-06T00:00:00-04:00",
          "2025-06-09T00:00:00-04:00",
          "2025-06-10T00:00:00-04:00",
          "2025-06-11T00:00:00-04:00",
          "2025-06-12T00:00:00-04:00",
          "2025-06-13T00:00:00-04:00"
         ],
         "xaxis": "x",
         "y": [
          0,
          -0.146,
          -1.666,
          -1.617,
          -0.21,
          -1.245,
          -0.307,
          0.323,
          -0.113,
          0.663,
          1.407,
          0.938,
          -0.097,
          -0.501,
          0.129,
          3.283,
          0.841,
          1.601,
          3.574,
          2.652,
          2.442,
          1.342,
          2.07,
          2.458,
          3.234,
          4.382,
          9.314,
          11.109,
          12.387,
          11.368,
          11.659,
          13.309,
          13.26,
          15.378,
          14.149,
          15.605,
          14.489,
          14.602,
          15.152,
          16.947,
          13.503,
          13.325,
          13.939,
          15.508,
          15.54,
          14.877,
          13.098,
          12.581,
          12.662,
          14.226,
          13.021,
          12.858,
          13.558,
          11.864,
          12.32,
          12.092,
          14.063,
          15.236,
          14.633,
          16.67,
          17.077,
          16.197,
          19.211,
          13.917,
          11.375,
          11.457,
          13.949,
          15.269,
          16.36,
          18.022,
          17.061,
          16.767,
          18.918,
          18.543,
          20.384,
          19.406,
          18.136,
          17.142,
          16.947,
          17.859,
          18.185,
          16.132,
          16.719,
          16.8,
          16.833,
          17.94,
          15.937,
          14.878,
          13.265,
          12.337,
          12.662,
          16.653,
          17.289,
          17.175,
          16.784,
          17.044,
          15.888,
          16.914,
          16.93,
          15.904,
          16.458,
          17.452,
          17.289,
          15.92,
          16.262,
          15.513,
          16.23,
          16.914,
          17.859,
          17.403,
          17.68,
          16.515
         ],
         "yaxis": "y"
        },
        {
         "hovertemplate": "Security=GE Aerospace<br>Date=%{x}<br>YTD Returns=%{y}<extra></extra>",
         "legendgroup": "GE Aerospace",
         "line": {
          "color": "#72B7B2",
          "dash": "solid"
         },
         "marker": {
          "symbol": "circle"
         },
         "mode": "lines",
         "name": "GE Aerospace",
         "showlegend": true,
         "type": "scattergl",
         "x": [
          "2025-01-02T00:00:00-05:00",
          "2025-01-03T00:00:00-05:00",
          "2025-01-06T00:00:00-05:00",
          "2025-01-07T00:00:00-05:00",
          "2025-01-08T00:00:00-05:00",
          "2025-01-10T00:00:00-05:00",
          "2025-01-13T00:00:00-05:00",
          "2025-01-14T00:00:00-05:00",
          "2025-01-15T00:00:00-05:00",
          "2025-01-16T00:00:00-05:00",
          "2025-01-17T00:00:00-05:00",
          "2025-01-21T00:00:00-05:00",
          "2025-01-22T00:00:00-05:00",
          "2025-01-23T00:00:00-05:00",
          "2025-01-24T00:00:00-05:00",
          "2025-01-27T00:00:00-05:00",
          "2025-01-28T00:00:00-05:00",
          "2025-01-29T00:00:00-05:00",
          "2025-01-30T00:00:00-05:00",
          "2025-01-31T00:00:00-05:00",
          "2025-02-03T00:00:00-05:00",
          "2025-02-04T00:00:00-05:00",
          "2025-02-05T00:00:00-05:00",
          "2025-02-06T00:00:00-05:00",
          "2025-02-07T00:00:00-05:00",
          "2025-02-10T00:00:00-05:00",
          "2025-02-11T00:00:00-05:00",
          "2025-02-12T00:00:00-05:00",
          "2025-02-13T00:00:00-05:00",
          "2025-02-14T00:00:00-05:00",
          "2025-02-18T00:00:00-05:00",
          "2025-02-19T00:00:00-05:00",
          "2025-02-20T00:00:00-05:00",
          "2025-02-21T00:00:00-05:00",
          "2025-02-24T00:00:00-05:00",
          "2025-02-25T00:00:00-05:00",
          "2025-02-26T00:00:00-05:00",
          "2025-02-27T00:00:00-05:00",
          "2025-02-28T00:00:00-05:00",
          "2025-03-03T00:00:00-05:00",
          "2025-03-04T00:00:00-05:00",
          "2025-03-05T00:00:00-05:00",
          "2025-03-06T00:00:00-05:00",
          "2025-03-07T00:00:00-05:00",
          "2025-03-10T00:00:00-04:00",
          "2025-03-11T00:00:00-04:00",
          "2025-03-12T00:00:00-04:00",
          "2025-03-13T00:00:00-04:00",
          "2025-03-14T00:00:00-04:00",
          "2025-03-17T00:00:00-04:00",
          "2025-03-18T00:00:00-04:00",
          "2025-03-19T00:00:00-04:00",
          "2025-03-20T00:00:00-04:00",
          "2025-03-21T00:00:00-04:00",
          "2025-03-24T00:00:00-04:00",
          "2025-03-25T00:00:00-04:00",
          "2025-03-26T00:00:00-04:00",
          "2025-03-27T00:00:00-04:00",
          "2025-03-28T00:00:00-04:00",
          "2025-03-31T00:00:00-04:00",
          "2025-04-01T00:00:00-04:00",
          "2025-04-02T00:00:00-04:00",
          "2025-04-03T00:00:00-04:00",
          "2025-04-04T00:00:00-04:00",
          "2025-04-07T00:00:00-04:00",
          "2025-04-08T00:00:00-04:00",
          "2025-04-09T00:00:00-04:00",
          "2025-04-10T00:00:00-04:00",
          "2025-04-11T00:00:00-04:00",
          "2025-04-14T00:00:00-04:00",
          "2025-04-15T00:00:00-04:00",
          "2025-04-16T00:00:00-04:00",
          "2025-04-17T00:00:00-04:00",
          "2025-04-21T00:00:00-04:00",
          "2025-04-22T00:00:00-04:00",
          "2025-04-23T00:00:00-04:00",
          "2025-04-24T00:00:00-04:00",
          "2025-04-25T00:00:00-04:00",
          "2025-04-28T00:00:00-04:00",
          "2025-04-29T00:00:00-04:00",
          "2025-04-30T00:00:00-04:00",
          "2025-05-01T00:00:00-04:00",
          "2025-05-02T00:00:00-04:00",
          "2025-05-05T00:00:00-04:00",
          "2025-05-06T00:00:00-04:00",
          "2025-05-07T00:00:00-04:00",
          "2025-05-08T00:00:00-04:00",
          "2025-05-09T00:00:00-04:00",
          "2025-05-12T00:00:00-04:00",
          "2025-05-13T00:00:00-04:00",
          "2025-05-14T00:00:00-04:00",
          "2025-05-15T00:00:00-04:00",
          "2025-05-16T00:00:00-04:00",
          "2025-05-19T00:00:00-04:00",
          "2025-05-20T00:00:00-04:00",
          "2025-05-21T00:00:00-04:00",
          "2025-05-22T00:00:00-04:00",
          "2025-05-23T00:00:00-04:00",
          "2025-05-27T00:00:00-04:00",
          "2025-05-28T00:00:00-04:00",
          "2025-05-29T00:00:00-04:00",
          "2025-05-30T00:00:00-04:00",
          "2025-06-02T00:00:00-04:00",
          "2025-06-03T00:00:00-04:00",
          "2025-06-04T00:00:00-04:00",
          "2025-06-05T00:00:00-04:00",
          "2025-06-06T00:00:00-04:00",
          "2025-06-09T00:00:00-04:00",
          "2025-06-10T00:00:00-04:00",
          "2025-06-11T00:00:00-04:00",
          "2025-06-12T00:00:00-04:00",
          "2025-06-13T00:00:00-04:00"
         ],
         "xaxis": "x",
         "y": [
          0,
          1.999,
          2.29,
          2.207,
          2.551,
          1.839,
          1.768,
          4.905,
          6.94,
          6.614,
          8.458,
          11.217,
          11.727,
          19.106,
          16.703,
          15.345,
          15.327,
          18.097,
          21.935,
          20.749,
          21.069,
          19.924,
          21.348,
          22.226,
          21.763,
          21.727,
          23.863,
          24.349,
          23.59,
          23.536,
          24.61,
          24.859,
          23.815,
          18.53,
          17.866,
          18.198,
          19.586,
          19.479,
          22.771,
          19.794,
          17.901,
          20.114,
          16.288,
          14.983,
          14.169,
          13.931,
          15.88,
          14.347,
          17.134,
          20.058,
          19.321,
          22.162,
          21.187,
          21.306,
          24.931,
          26.06,
          23.231,
          22.346,
          18.78,
          18.941,
          21.104,
          18.715,
          11.501,
          -0.872,
          -0.343,
          0.65,
          11.287,
          7.864,
          7.959,
          10.532,
          10.336,
          8.422,
          8.03,
          5.986,
          12.422,
          15.096,
          17.313,
          17.919,
          19.363,
          19.149,
          19.767,
          20.997,
          23.428,
          24.164,
          23.962,
          24.747,
          27.463,
          27.742,
          30.113,
          31.676,
          32.662,
          36.311,
          37.737,
          39.823,
          39.805,
          38.783,
          36.84,
          38.337,
          43.68,
          44.803,
          45.094,
          46.134,
          47.067,
          47.893,
          49.088,
          49.706,
          51.91,
          49.403,
          43.811,
          45.902,
          42.616,
          40.602
         ],
         "yaxis": "y"
        },
        {
         "hovertemplate": "Security=IBM<br>Date=%{x}<br>YTD Returns=%{y}<extra></extra>",
         "legendgroup": "IBM",
         "line": {
          "color": "#54A24B",
          "dash": "solid"
         },
         "marker": {
          "symbol": "circle"
         },
         "mode": "lines",
         "name": "IBM",
         "showlegend": true,
         "type": "scattergl",
         "x": [
          "2025-01-02T00:00:00-05:00",
          "2025-01-03T00:00:00-05:00",
          "2025-01-06T00:00:00-05:00",
          "2025-01-07T00:00:00-05:00",
          "2025-01-08T00:00:00-05:00",
          "2025-01-10T00:00:00-05:00",
          "2025-01-13T00:00:00-05:00",
          "2025-01-14T00:00:00-05:00",
          "2025-01-15T00:00:00-05:00",
          "2025-01-16T00:00:00-05:00",
          "2025-01-17T00:00:00-05:00",
          "2025-01-21T00:00:00-05:00",
          "2025-01-22T00:00:00-05:00",
          "2025-01-23T00:00:00-05:00",
          "2025-01-24T00:00:00-05:00",
          "2025-01-27T00:00:00-05:00",
          "2025-01-28T00:00:00-05:00",
          "2025-01-29T00:00:00-05:00",
          "2025-01-30T00:00:00-05:00",
          "2025-01-31T00:00:00-05:00",
          "2025-02-03T00:00:00-05:00",
          "2025-02-04T00:00:00-05:00",
          "2025-02-05T00:00:00-05:00",
          "2025-02-06T00:00:00-05:00",
          "2025-02-07T00:00:00-05:00",
          "2025-02-10T00:00:00-05:00",
          "2025-02-11T00:00:00-05:00",
          "2025-02-12T00:00:00-05:00",
          "2025-02-13T00:00:00-05:00",
          "2025-02-14T00:00:00-05:00",
          "2025-02-18T00:00:00-05:00",
          "2025-02-19T00:00:00-05:00",
          "2025-02-20T00:00:00-05:00",
          "2025-02-21T00:00:00-05:00",
          "2025-02-24T00:00:00-05:00",
          "2025-02-25T00:00:00-05:00",
          "2025-02-26T00:00:00-05:00",
          "2025-02-27T00:00:00-05:00",
          "2025-02-28T00:00:00-05:00",
          "2025-03-03T00:00:00-05:00",
          "2025-03-04T00:00:00-05:00",
          "2025-03-05T00:00:00-05:00",
          "2025-03-06T00:00:00-05:00",
          "2025-03-07T00:00:00-05:00",
          "2025-03-10T00:00:00-04:00",
          "2025-03-11T00:00:00-04:00",
          "2025-03-12T00:00:00-04:00",
          "2025-03-13T00:00:00-04:00",
          "2025-03-14T00:00:00-04:00",
          "2025-03-17T00:00:00-04:00",
          "2025-03-18T00:00:00-04:00",
          "2025-03-19T00:00:00-04:00",
          "2025-03-20T00:00:00-04:00",
          "2025-03-21T00:00:00-04:00",
          "2025-03-24T00:00:00-04:00",
          "2025-03-25T00:00:00-04:00",
          "2025-03-26T00:00:00-04:00",
          "2025-03-27T00:00:00-04:00",
          "2025-03-28T00:00:00-04:00",
          "2025-03-31T00:00:00-04:00",
          "2025-04-01T00:00:00-04:00",
          "2025-04-02T00:00:00-04:00",
          "2025-04-03T00:00:00-04:00",
          "2025-04-04T00:00:00-04:00",
          "2025-04-07T00:00:00-04:00",
          "2025-04-08T00:00:00-04:00",
          "2025-04-09T00:00:00-04:00",
          "2025-04-10T00:00:00-04:00",
          "2025-04-11T00:00:00-04:00",
          "2025-04-14T00:00:00-04:00",
          "2025-04-15T00:00:00-04:00",
          "2025-04-16T00:00:00-04:00",
          "2025-04-17T00:00:00-04:00",
          "2025-04-21T00:00:00-04:00",
          "2025-04-22T00:00:00-04:00",
          "2025-04-23T00:00:00-04:00",
          "2025-04-24T00:00:00-04:00",
          "2025-04-25T00:00:00-04:00",
          "2025-04-28T00:00:00-04:00",
          "2025-04-29T00:00:00-04:00",
          "2025-04-30T00:00:00-04:00",
          "2025-05-01T00:00:00-04:00",
          "2025-05-02T00:00:00-04:00",
          "2025-05-05T00:00:00-04:00",
          "2025-05-06T00:00:00-04:00",
          "2025-05-07T00:00:00-04:00",
          "2025-05-08T00:00:00-04:00",
          "2025-05-09T00:00:00-04:00",
          "2025-05-12T00:00:00-04:00",
          "2025-05-13T00:00:00-04:00",
          "2025-05-14T00:00:00-04:00",
          "2025-05-15T00:00:00-04:00",
          "2025-05-16T00:00:00-04:00",
          "2025-05-19T00:00:00-04:00",
          "2025-05-20T00:00:00-04:00",
          "2025-05-21T00:00:00-04:00",
          "2025-05-22T00:00:00-04:00",
          "2025-05-23T00:00:00-04:00",
          "2025-05-27T00:00:00-04:00",
          "2025-05-28T00:00:00-04:00",
          "2025-05-29T00:00:00-04:00",
          "2025-05-30T00:00:00-04:00",
          "2025-06-02T00:00:00-04:00",
          "2025-06-03T00:00:00-04:00",
          "2025-06-04T00:00:00-04:00",
          "2025-06-05T00:00:00-04:00",
          "2025-06-06T00:00:00-04:00",
          "2025-06-09T00:00:00-04:00",
          "2025-06-10T00:00:00-04:00",
          "2025-06-11T00:00:00-04:00",
          "2025-06-12T00:00:00-04:00",
          "2025-06-13T00:00:00-04:00"
         ],
         "xaxis": "x",
         "y": [
          0,
          1.232,
          1.241,
          1.828,
          1.473,
          -0.086,
          -1.155,
          -0.996,
          0.041,
          1.237,
          2.205,
          1.964,
          1.509,
          2.773,
          2.21,
          1.905,
          2.601,
          3.951,
          17.427,
          16.259,
          18.546,
          20.242,
          19.714,
          15.231,
          14.731,
          14.091,
          16.576,
          17.084,
          18.631,
          19.587,
          20.407,
          20.979,
          21.171,
          19.679,
          19.858,
          17.972,
          17.098,
          15.903,
          15.541,
          14.512,
          15.894,
          15.043,
          13.825,
          19.706,
          17.583,
          13.944,
          14.255,
          12.502,
          13.669,
          15.784,
          13.029,
          15.473,
          11.367,
          11.619,
          13.715,
          14.379,
          14.58,
          12.69,
          11.678,
          13.811,
          14.58,
          14.415,
          11.445,
          4.117,
          3.339,
          1.165,
          7.701,
          5.065,
          7.779,
          9.417,
          10.168,
          9.193,
          9.303,
          8.118,
          10.26,
          12.356,
          4.964,
          6.374,
          8.09,
          9.568,
          10.681,
          9.692,
          12.388,
          14.049,
          14.022,
          15.967,
          16.32,
          14.817,
          16.886,
          19.144,
          18.789,
          22.871,
          22.908,
          23.668,
          22.996,
          20.194,
          19.042,
          19.162,
          21.282,
          19.904,
          19.19,
          19.36,
          21.59,
          22.189,
          22.337,
          22.954,
          23.88,
          25.359,
          27.276,
          29.709,
          29.483,
          27.728
         ],
         "yaxis": "y"
        },
        {
         "hovertemplate": "Security=Chevron Corporation<br>Date=%{x}<br>YTD Returns=%{y}<extra></extra>",
         "legendgroup": "Chevron Corporation",
         "line": {
          "color": "#EECA3B",
          "dash": "solid"
         },
         "marker": {
          "symbol": "circle"
         },
         "mode": "lines",
         "name": "Chevron Corporation",
         "showlegend": true,
         "type": "scattergl",
         "x": [
          "2025-01-02T00:00:00-05:00",
          "2025-01-03T00:00:00-05:00",
          "2025-01-06T00:00:00-05:00",
          "2025-01-07T00:00:00-05:00",
          "2025-01-08T00:00:00-05:00",
          "2025-01-10T00:00:00-05:00",
          "2025-01-13T00:00:00-05:00",
          "2025-01-14T00:00:00-05:00",
          "2025-01-15T00:00:00-05:00",
          "2025-01-16T00:00:00-05:00",
          "2025-01-17T00:00:00-05:00",
          "2025-01-21T00:00:00-05:00",
          "2025-01-22T00:00:00-05:00",
          "2025-01-23T00:00:00-05:00",
          "2025-01-24T00:00:00-05:00",
          "2025-01-27T00:00:00-05:00",
          "2025-01-28T00:00:00-05:00",
          "2025-01-29T00:00:00-05:00",
          "2025-01-30T00:00:00-05:00",
          "2025-01-31T00:00:00-05:00",
          "2025-02-03T00:00:00-05:00",
          "2025-02-04T00:00:00-05:00",
          "2025-02-05T00:00:00-05:00",
          "2025-02-06T00:00:00-05:00",
          "2025-02-07T00:00:00-05:00",
          "2025-02-10T00:00:00-05:00",
          "2025-02-11T00:00:00-05:00",
          "2025-02-12T00:00:00-05:00",
          "2025-02-13T00:00:00-05:00",
          "2025-02-14T00:00:00-05:00",
          "2025-02-18T00:00:00-05:00",
          "2025-02-19T00:00:00-05:00",
          "2025-02-20T00:00:00-05:00",
          "2025-02-21T00:00:00-05:00",
          "2025-02-24T00:00:00-05:00",
          "2025-02-25T00:00:00-05:00",
          "2025-02-26T00:00:00-05:00",
          "2025-02-27T00:00:00-05:00",
          "2025-02-28T00:00:00-05:00",
          "2025-03-03T00:00:00-05:00",
          "2025-03-04T00:00:00-05:00",
          "2025-03-05T00:00:00-05:00",
          "2025-03-06T00:00:00-05:00",
          "2025-03-07T00:00:00-05:00",
          "2025-03-10T00:00:00-04:00",
          "2025-03-11T00:00:00-04:00",
          "2025-03-12T00:00:00-04:00",
          "2025-03-13T00:00:00-04:00",
          "2025-03-14T00:00:00-04:00",
          "2025-03-17T00:00:00-04:00",
          "2025-03-18T00:00:00-04:00",
          "2025-03-19T00:00:00-04:00",
          "2025-03-20T00:00:00-04:00",
          "2025-03-21T00:00:00-04:00",
          "2025-03-24T00:00:00-04:00",
          "2025-03-25T00:00:00-04:00",
          "2025-03-26T00:00:00-04:00",
          "2025-03-27T00:00:00-04:00",
          "2025-03-28T00:00:00-04:00",
          "2025-03-31T00:00:00-04:00",
          "2025-04-01T00:00:00-04:00",
          "2025-04-02T00:00:00-04:00",
          "2025-04-03T00:00:00-04:00",
          "2025-04-04T00:00:00-04:00",
          "2025-04-07T00:00:00-04:00",
          "2025-04-08T00:00:00-04:00",
          "2025-04-09T00:00:00-04:00",
          "2025-04-10T00:00:00-04:00",
          "2025-04-11T00:00:00-04:00",
          "2025-04-14T00:00:00-04:00",
          "2025-04-15T00:00:00-04:00",
          "2025-04-16T00:00:00-04:00",
          "2025-04-17T00:00:00-04:00",
          "2025-04-21T00:00:00-04:00",
          "2025-04-22T00:00:00-04:00",
          "2025-04-23T00:00:00-04:00",
          "2025-04-24T00:00:00-04:00",
          "2025-04-25T00:00:00-04:00",
          "2025-04-28T00:00:00-04:00",
          "2025-04-29T00:00:00-04:00",
          "2025-04-30T00:00:00-04:00",
          "2025-05-01T00:00:00-04:00",
          "2025-05-02T00:00:00-04:00",
          "2025-05-05T00:00:00-04:00",
          "2025-05-06T00:00:00-04:00",
          "2025-05-07T00:00:00-04:00",
          "2025-05-08T00:00:00-04:00",
          "2025-05-09T00:00:00-04:00",
          "2025-05-12T00:00:00-04:00",
          "2025-05-13T00:00:00-04:00",
          "2025-05-14T00:00:00-04:00",
          "2025-05-15T00:00:00-04:00",
          "2025-05-16T00:00:00-04:00",
          "2025-05-19T00:00:00-04:00",
          "2025-05-20T00:00:00-04:00",
          "2025-05-21T00:00:00-04:00",
          "2025-05-22T00:00:00-04:00",
          "2025-05-23T00:00:00-04:00",
          "2025-05-27T00:00:00-04:00",
          "2025-05-28T00:00:00-04:00",
          "2025-05-29T00:00:00-04:00",
          "2025-05-30T00:00:00-04:00",
          "2025-06-02T00:00:00-04:00",
          "2025-06-03T00:00:00-04:00",
          "2025-06-04T00:00:00-04:00",
          "2025-06-05T00:00:00-04:00",
          "2025-06-06T00:00:00-04:00",
          "2025-06-09T00:00:00-04:00",
          "2025-06-10T00:00:00-04:00",
          "2025-06-11T00:00:00-04:00",
          "2025-06-12T00:00:00-04:00",
          "2025-06-13T00:00:00-04:00"
         ],
         "xaxis": "x",
         "y": [
          0,
          0.777,
          0.375,
          1.963,
          2.447,
          4.383,
          5.889,
          6.946,
          7.92,
          8.636,
          10.061,
          7.859,
          6.612,
          6.339,
          6.094,
          7.171,
          6.475,
          6.121,
          6.55,
          1.69,
          1.793,
          4.437,
          4.281,
          3.538,
          4.028,
          6.175,
          7.314,
          5.582,
          6.25,
          7.057,
          7.622,
          8.359,
          9.434,
          8.146,
          8.814,
          7.801,
          6.919,
          7.973,
          9.317,
          5.506,
          4.755,
          3.935,
          5.41,
          7.746,
          8.594,
          6.188,
          5.217,
          5.864,
          8.215,
          9.386,
          10.827,
          13.059,
          13.556,
          13.542,
          13.728,
          14.362,
          15.761,
          14.851,
          14.465,
          15.292,
          16.133,
          14.727,
          7.594,
          -1.255,
          -3.412,
          -5.631,
          0.641,
          -6.975,
          -6.527,
          -6.741,
          -7.278,
          -6.713,
          -4.983,
          -7.836,
          -5.376,
          -5.803,
          -4.156,
          -4.39,
          -3.446,
          -3.998,
          -6.231,
          -6.093,
          -4.549,
          -6.617,
          -6.548,
          -6.417,
          -5.555,
          -4.556,
          -2.399,
          -1.896,
          -2.364,
          -1.958,
          -2.068,
          -3.393,
          -4.244,
          -5.437,
          -5.626,
          -4.754,
          -3.854,
          -5.116,
          -3.798,
          -4.642,
          -3.847,
          -2.654,
          -4.175,
          -4.502,
          -2.194,
          -1.81,
          -0.003,
          0.994,
          1.127,
          1.783
         ],
         "yaxis": "y"
        },
        {
         "hovertemplate": "Security=Abbott Laboratories<br>Date=%{x}<br>YTD Returns=%{y}<extra></extra>",
         "legendgroup": "Abbott Laboratories",
         "line": {
          "color": "#B279A2",
          "dash": "solid"
         },
         "marker": {
          "symbol": "circle"
         },
         "mode": "lines",
         "name": "Abbott Laboratories",
         "showlegend": true,
         "type": "scattergl",
         "x": [
          "2025-01-02T00:00:00-05:00",
          "2025-01-03T00:00:00-05:00",
          "2025-01-06T00:00:00-05:00",
          "2025-01-07T00:00:00-05:00",
          "2025-01-08T00:00:00-05:00",
          "2025-01-10T00:00:00-05:00",
          "2025-01-13T00:00:00-05:00",
          "2025-01-14T00:00:00-05:00",
          "2025-01-15T00:00:00-05:00",
          "2025-01-16T00:00:00-05:00",
          "2025-01-17T00:00:00-05:00",
          "2025-01-21T00:00:00-05:00",
          "2025-01-22T00:00:00-05:00",
          "2025-01-23T00:00:00-05:00",
          "2025-01-24T00:00:00-05:00",
          "2025-01-27T00:00:00-05:00",
          "2025-01-28T00:00:00-05:00",
          "2025-01-29T00:00:00-05:00",
          "2025-01-30T00:00:00-05:00",
          "2025-01-31T00:00:00-05:00",
          "2025-02-03T00:00:00-05:00",
          "2025-02-04T00:00:00-05:00",
          "2025-02-05T00:00:00-05:00",
          "2025-02-06T00:00:00-05:00",
          "2025-02-07T00:00:00-05:00",
          "2025-02-10T00:00:00-05:00",
          "2025-02-11T00:00:00-05:00",
          "2025-02-12T00:00:00-05:00",
          "2025-02-13T00:00:00-05:00",
          "2025-02-14T00:00:00-05:00",
          "2025-02-18T00:00:00-05:00",
          "2025-02-19T00:00:00-05:00",
          "2025-02-20T00:00:00-05:00",
          "2025-02-21T00:00:00-05:00",
          "2025-02-24T00:00:00-05:00",
          "2025-02-25T00:00:00-05:00",
          "2025-02-26T00:00:00-05:00",
          "2025-02-27T00:00:00-05:00",
          "2025-02-28T00:00:00-05:00",
          "2025-03-03T00:00:00-05:00",
          "2025-03-04T00:00:00-05:00",
          "2025-03-05T00:00:00-05:00",
          "2025-03-06T00:00:00-05:00",
          "2025-03-07T00:00:00-05:00",
          "2025-03-10T00:00:00-04:00",
          "2025-03-11T00:00:00-04:00",
          "2025-03-12T00:00:00-04:00",
          "2025-03-13T00:00:00-04:00",
          "2025-03-14T00:00:00-04:00",
          "2025-03-17T00:00:00-04:00",
          "2025-03-18T00:00:00-04:00",
          "2025-03-19T00:00:00-04:00",
          "2025-03-20T00:00:00-04:00",
          "2025-03-21T00:00:00-04:00",
          "2025-03-24T00:00:00-04:00",
          "2025-03-25T00:00:00-04:00",
          "2025-03-26T00:00:00-04:00",
          "2025-03-27T00:00:00-04:00",
          "2025-03-28T00:00:00-04:00",
          "2025-03-31T00:00:00-04:00",
          "2025-04-01T00:00:00-04:00",
          "2025-04-02T00:00:00-04:00",
          "2025-04-03T00:00:00-04:00",
          "2025-04-04T00:00:00-04:00",
          "2025-04-07T00:00:00-04:00",
          "2025-04-08T00:00:00-04:00",
          "2025-04-09T00:00:00-04:00",
          "2025-04-10T00:00:00-04:00",
          "2025-04-11T00:00:00-04:00",
          "2025-04-14T00:00:00-04:00",
          "2025-04-15T00:00:00-04:00",
          "2025-04-16T00:00:00-04:00",
          "2025-04-17T00:00:00-04:00",
          "2025-04-21T00:00:00-04:00",
          "2025-04-22T00:00:00-04:00",
          "2025-04-23T00:00:00-04:00",
          "2025-04-24T00:00:00-04:00",
          "2025-04-25T00:00:00-04:00",
          "2025-04-28T00:00:00-04:00",
          "2025-04-29T00:00:00-04:00",
          "2025-04-30T00:00:00-04:00",
          "2025-05-01T00:00:00-04:00",
          "2025-05-02T00:00:00-04:00",
          "2025-05-05T00:00:00-04:00",
          "2025-05-06T00:00:00-04:00",
          "2025-05-07T00:00:00-04:00",
          "2025-05-08T00:00:00-04:00",
          "2025-05-09T00:00:00-04:00",
          "2025-05-12T00:00:00-04:00",
          "2025-05-13T00:00:00-04:00",
          "2025-05-14T00:00:00-04:00",
          "2025-05-15T00:00:00-04:00",
          "2025-05-16T00:00:00-04:00",
          "2025-05-19T00:00:00-04:00",
          "2025-05-20T00:00:00-04:00",
          "2025-05-21T00:00:00-04:00",
          "2025-05-22T00:00:00-04:00",
          "2025-05-23T00:00:00-04:00",
          "2025-05-27T00:00:00-04:00",
          "2025-05-28T00:00:00-04:00",
          "2025-05-29T00:00:00-04:00",
          "2025-05-30T00:00:00-04:00",
          "2025-06-02T00:00:00-04:00",
          "2025-06-03T00:00:00-04:00",
          "2025-06-04T00:00:00-04:00",
          "2025-06-05T00:00:00-04:00",
          "2025-06-06T00:00:00-04:00",
          "2025-06-09T00:00:00-04:00",
          "2025-06-10T00:00:00-04:00",
          "2025-06-11T00:00:00-04:00",
          "2025-06-12T00:00:00-04:00",
          "2025-06-13T00:00:00-04:00"
         ],
         "xaxis": "x",
         "y": [
          0,
          0.344,
          -0.353,
          -0.035,
          0.714,
          -0.996,
          -0.22,
          -0.37,
          -1.549,
          0.941,
          0.56,
          3.493,
          4.371,
          9.191,
          10.795,
          14.694,
          12.887,
          13.303,
          14.145,
          13.365,
          13.826,
          14.402,
          17.025,
          13.622,
          14.375,
          16.36,
          16.475,
          15.634,
          16.786,
          15.74,
          15.359,
          17.087,
          18.008,
          19.559,
          19.586,
          20.357,
          20.481,
          20.401,
          22.297,
          24.256,
          21.916,
          22.032,
          19.701,
          21.527,
          21.721,
          17.557,
          15.448,
          15.102,
          12.284,
          13.108,
          11.921,
          12.913,
          12.346,
          11.956,
          12.727,
          11.3,
          12.195,
          16.396,
          15.926,
          17.548,
          16.697,
          16.91,
          16.644,
          10.272,
          10.645,
          9.838,
          12.576,
          10.326,
          12.435,
          13.392,
          12.368,
          15.466,
          16.605,
          15.635,
          17.273,
          15.591,
          15.181,
          14.709,
          15.315,
          16.178,
          16.401,
          16.516,
          18.244,
          18.048,
          18.457,
          19.25,
          19.294,
          18.617,
          17.505,
          14.887,
          14.451,
          18.715,
          20.006,
          20.674,
          20.362,
          18.448,
          17.068,
          16.89,
          18.35,
          17.531,
          18.27,
          18.92,
          18.911,
          19.036,
          18.368,
          19.241,
          18.92,
          18.76,
          19.41,
          20.434,
          21.475,
          20.736
         ],
         "yaxis": "y"
        },
        {
         "hovertemplate": "Security=Merck & Co.<br>Date=%{x}<br>YTD Returns=%{y}<extra></extra>",
         "legendgroup": "Merck & Co.",
         "line": {
          "color": "#FF9DA6",
          "dash": "solid"
         },
         "marker": {
          "symbol": "circle"
         },
         "mode": "lines",
         "name": "Merck & Co.",
         "showlegend": true,
         "type": "scattergl",
         "x": [
          "2025-01-02T00:00:00-05:00",
          "2025-01-03T00:00:00-05:00",
          "2025-01-06T00:00:00-05:00",
          "2025-01-07T00:00:00-05:00",
          "2025-01-08T00:00:00-05:00",
          "2025-01-10T00:00:00-05:00",
          "2025-01-13T00:00:00-05:00",
          "2025-01-14T00:00:00-05:00",
          "2025-01-15T00:00:00-05:00",
          "2025-01-16T00:00:00-05:00",
          "2025-01-17T00:00:00-05:00",
          "2025-01-21T00:00:00-05:00",
          "2025-01-22T00:00:00-05:00",
          "2025-01-23T00:00:00-05:00",
          "2025-01-24T00:00:00-05:00",
          "2025-01-27T00:00:00-05:00",
          "2025-01-28T00:00:00-05:00",
          "2025-01-29T00:00:00-05:00",
          "2025-01-30T00:00:00-05:00",
          "2025-01-31T00:00:00-05:00",
          "2025-02-03T00:00:00-05:00",
          "2025-02-04T00:00:00-05:00",
          "2025-02-05T00:00:00-05:00",
          "2025-02-06T00:00:00-05:00",
          "2025-02-07T00:00:00-05:00",
          "2025-02-10T00:00:00-05:00",
          "2025-02-11T00:00:00-05:00",
          "2025-02-12T00:00:00-05:00",
          "2025-02-13T00:00:00-05:00",
          "2025-02-14T00:00:00-05:00",
          "2025-02-18T00:00:00-05:00",
          "2025-02-19T00:00:00-05:00",
          "2025-02-20T00:00:00-05:00",
          "2025-02-21T00:00:00-05:00",
          "2025-02-24T00:00:00-05:00",
          "2025-02-25T00:00:00-05:00",
          "2025-02-26T00:00:00-05:00",
          "2025-02-27T00:00:00-05:00",
          "2025-02-28T00:00:00-05:00",
          "2025-03-03T00:00:00-05:00",
          "2025-03-04T00:00:00-05:00",
          "2025-03-05T00:00:00-05:00",
          "2025-03-06T00:00:00-05:00",
          "2025-03-07T00:00:00-05:00",
          "2025-03-10T00:00:00-04:00",
          "2025-03-11T00:00:00-04:00",
          "2025-03-12T00:00:00-04:00",
          "2025-03-13T00:00:00-04:00",
          "2025-03-14T00:00:00-04:00",
          "2025-03-17T00:00:00-04:00",
          "2025-03-18T00:00:00-04:00",
          "2025-03-19T00:00:00-04:00",
          "2025-03-20T00:00:00-04:00",
          "2025-03-21T00:00:00-04:00",
          "2025-03-24T00:00:00-04:00",
          "2025-03-25T00:00:00-04:00",
          "2025-03-26T00:00:00-04:00",
          "2025-03-27T00:00:00-04:00",
          "2025-03-28T00:00:00-04:00",
          "2025-03-31T00:00:00-04:00",
          "2025-04-01T00:00:00-04:00",
          "2025-04-02T00:00:00-04:00",
          "2025-04-03T00:00:00-04:00",
          "2025-04-04T00:00:00-04:00",
          "2025-04-07T00:00:00-04:00",
          "2025-04-08T00:00:00-04:00",
          "2025-04-09T00:00:00-04:00",
          "2025-04-10T00:00:00-04:00",
          "2025-04-11T00:00:00-04:00",
          "2025-04-14T00:00:00-04:00",
          "2025-04-15T00:00:00-04:00",
          "2025-04-16T00:00:00-04:00",
          "2025-04-17T00:00:00-04:00",
          "2025-04-21T00:00:00-04:00",
          "2025-04-22T00:00:00-04:00",
          "2025-04-23T00:00:00-04:00",
          "2025-04-24T00:00:00-04:00",
          "2025-04-25T00:00:00-04:00",
          "2025-04-28T00:00:00-04:00",
          "2025-04-29T00:00:00-04:00",
          "2025-04-30T00:00:00-04:00",
          "2025-05-01T00:00:00-04:00",
          "2025-05-02T00:00:00-04:00",
          "2025-05-05T00:00:00-04:00",
          "2025-05-06T00:00:00-04:00",
          "2025-05-07T00:00:00-04:00",
          "2025-05-08T00:00:00-04:00",
          "2025-05-09T00:00:00-04:00",
          "2025-05-12T00:00:00-04:00",
          "2025-05-13T00:00:00-04:00",
          "2025-05-14T00:00:00-04:00",
          "2025-05-15T00:00:00-04:00",
          "2025-05-16T00:00:00-04:00",
          "2025-05-19T00:00:00-04:00",
          "2025-05-20T00:00:00-04:00",
          "2025-05-21T00:00:00-04:00",
          "2025-05-22T00:00:00-04:00",
          "2025-05-23T00:00:00-04:00",
          "2025-05-27T00:00:00-04:00",
          "2025-05-28T00:00:00-04:00",
          "2025-05-29T00:00:00-04:00",
          "2025-05-30T00:00:00-04:00",
          "2025-06-02T00:00:00-04:00",
          "2025-06-03T00:00:00-04:00",
          "2025-06-04T00:00:00-04:00",
          "2025-06-05T00:00:00-04:00",
          "2025-06-06T00:00:00-04:00",
          "2025-06-09T00:00:00-04:00",
          "2025-06-10T00:00:00-04:00",
          "2025-06-11T00:00:00-04:00",
          "2025-06-12T00:00:00-04:00",
          "2025-06-13T00:00:00-04:00"
         ],
         "xaxis": "x",
         "y": [
          0,
          -0.03,
          0.555,
          1.865,
          0.686,
          0.081,
          1.825,
          0.484,
          0.928,
          1.543,
          -1.26,
          -2.955,
          -3.519,
          -2.561,
          -3.65,
          -1.24,
          -1.734,
          -0.897,
          -0.222,
          -0.353,
          0.625,
          -8.501,
          -9.58,
          -11.213,
          -11.99,
          -12.877,
          -12.736,
          -13.613,
          -14.873,
          -16.295,
          -16.013,
          -13.684,
          -11.586,
          -9.751,
          -7.966,
          -7.805,
          -9.872,
          -8.662,
          -6.978,
          -6.07,
          -6.665,
          -6.03,
          -5.213,
          -4.558,
          -3.973,
          -4.477,
          -5.869,
          -4.497,
          -4.638,
          -3.591,
          -3.662,
          -4.374,
          -3.652,
          -5.3,
          -6.113,
          -10.629,
          -10.385,
          -10.904,
          -9.246,
          -8.707,
          -11.392,
          -11.921,
          -12.134,
          -17.138,
          -17.433,
          -19.701,
          -16.691,
          -21.125,
          -19.468,
          -19.478,
          -20.271,
          -22.234,
          -20.668,
          -20.82,
          -19.681,
          -19.915,
          -18.796,
          -15.847,
          -15.389,
          -13.843,
          -13.345,
          -15.318,
          -15.399,
          -15.745,
          -19.61,
          -19.529,
          -21.024,
          -22.732,
          -18.196,
          -22.061,
          -25.275,
          -23.922,
          -22.641,
          -21.451,
          -20.698,
          -21.705,
          -20.83,
          -21.095,
          -21.085,
          -22.529,
          -22.295,
          -21.848,
          -22.448,
          -21.542,
          -20.393,
          -21.054,
          -19.681,
          -19.315,
          -17.26,
          -18.308,
          -16.782,
          -16.894
         ],
         "yaxis": "y"
        },
        {
         "hovertemplate": "Security=RTX Corporation<br>Date=%{x}<br>YTD Returns=%{y}<extra></extra>",
         "legendgroup": "RTX Corporation",
         "line": {
          "color": "#9D755D",
          "dash": "solid"
         },
         "marker": {
          "symbol": "circle"
         },
         "mode": "lines",
         "name": "RTX Corporation",
         "showlegend": true,
         "type": "scattergl",
         "x": [
          "2025-01-02T00:00:00-05:00",
          "2025-01-03T00:00:00-05:00",
          "2025-01-06T00:00:00-05:00",
          "2025-01-07T00:00:00-05:00",
          "2025-01-08T00:00:00-05:00",
          "2025-01-10T00:00:00-05:00",
          "2025-01-13T00:00:00-05:00",
          "2025-01-14T00:00:00-05:00",
          "2025-01-15T00:00:00-05:00",
          "2025-01-16T00:00:00-05:00",
          "2025-01-17T00:00:00-05:00",
          "2025-01-21T00:00:00-05:00",
          "2025-01-22T00:00:00-05:00",
          "2025-01-23T00:00:00-05:00",
          "2025-01-24T00:00:00-05:00",
          "2025-01-27T00:00:00-05:00",
          "2025-01-28T00:00:00-05:00",
          "2025-01-29T00:00:00-05:00",
          "2025-01-30T00:00:00-05:00",
          "2025-01-31T00:00:00-05:00",
          "2025-02-03T00:00:00-05:00",
          "2025-02-04T00:00:00-05:00",
          "2025-02-05T00:00:00-05:00",
          "2025-02-06T00:00:00-05:00",
          "2025-02-07T00:00:00-05:00",
          "2025-02-10T00:00:00-05:00",
          "2025-02-11T00:00:00-05:00",
          "2025-02-12T00:00:00-05:00",
          "2025-02-13T00:00:00-05:00",
          "2025-02-14T00:00:00-05:00",
          "2025-02-18T00:00:00-05:00",
          "2025-02-19T00:00:00-05:00",
          "2025-02-20T00:00:00-05:00",
          "2025-02-21T00:00:00-05:00",
          "2025-02-24T00:00:00-05:00",
          "2025-02-25T00:00:00-05:00",
          "2025-02-26T00:00:00-05:00",
          "2025-02-27T00:00:00-05:00",
          "2025-02-28T00:00:00-05:00",
          "2025-03-03T00:00:00-05:00",
          "2025-03-04T00:00:00-05:00",
          "2025-03-05T00:00:00-05:00",
          "2025-03-06T00:00:00-05:00",
          "2025-03-07T00:00:00-05:00",
          "2025-03-10T00:00:00-04:00",
          "2025-03-11T00:00:00-04:00",
          "2025-03-12T00:00:00-04:00",
          "2025-03-13T00:00:00-04:00",
          "2025-03-14T00:00:00-04:00",
          "2025-03-17T00:00:00-04:00",
          "2025-03-18T00:00:00-04:00",
          "2025-03-19T00:00:00-04:00",
          "2025-03-20T00:00:00-04:00",
          "2025-03-21T00:00:00-04:00",
          "2025-03-24T00:00:00-04:00",
          "2025-03-25T00:00:00-04:00",
          "2025-03-26T00:00:00-04:00",
          "2025-03-27T00:00:00-04:00",
          "2025-03-28T00:00:00-04:00",
          "2025-03-31T00:00:00-04:00",
          "2025-04-01T00:00:00-04:00",
          "2025-04-02T00:00:00-04:00",
          "2025-04-03T00:00:00-04:00",
          "2025-04-04T00:00:00-04:00",
          "2025-04-07T00:00:00-04:00",
          "2025-04-08T00:00:00-04:00",
          "2025-04-09T00:00:00-04:00",
          "2025-04-10T00:00:00-04:00",
          "2025-04-11T00:00:00-04:00",
          "2025-04-14T00:00:00-04:00",
          "2025-04-15T00:00:00-04:00",
          "2025-04-16T00:00:00-04:00",
          "2025-04-17T00:00:00-04:00",
          "2025-04-21T00:00:00-04:00",
          "2025-04-22T00:00:00-04:00",
          "2025-04-23T00:00:00-04:00",
          "2025-04-24T00:00:00-04:00",
          "2025-04-25T00:00:00-04:00",
          "2025-04-28T00:00:00-04:00",
          "2025-04-29T00:00:00-04:00",
          "2025-04-30T00:00:00-04:00",
          "2025-05-01T00:00:00-04:00",
          "2025-05-02T00:00:00-04:00",
          "2025-05-05T00:00:00-04:00",
          "2025-05-06T00:00:00-04:00",
          "2025-05-07T00:00:00-04:00",
          "2025-05-08T00:00:00-04:00",
          "2025-05-09T00:00:00-04:00",
          "2025-05-12T00:00:00-04:00",
          "2025-05-13T00:00:00-04:00",
          "2025-05-14T00:00:00-04:00",
          "2025-05-15T00:00:00-04:00",
          "2025-05-16T00:00:00-04:00",
          "2025-05-19T00:00:00-04:00",
          "2025-05-20T00:00:00-04:00",
          "2025-05-21T00:00:00-04:00",
          "2025-05-22T00:00:00-04:00",
          "2025-05-23T00:00:00-04:00",
          "2025-05-27T00:00:00-04:00",
          "2025-05-28T00:00:00-04:00",
          "2025-05-29T00:00:00-04:00",
          "2025-05-30T00:00:00-04:00",
          "2025-06-02T00:00:00-04:00",
          "2025-06-03T00:00:00-04:00",
          "2025-06-04T00:00:00-04:00",
          "2025-06-05T00:00:00-04:00",
          "2025-06-06T00:00:00-04:00",
          "2025-06-09T00:00:00-04:00",
          "2025-06-10T00:00:00-04:00",
          "2025-06-11T00:00:00-04:00",
          "2025-06-12T00:00:00-04:00",
          "2025-06-13T00:00:00-04:00"
         ],
         "xaxis": "x",
         "y": [
          0,
          -0.121,
          -1.646,
          -1.043,
          -0.078,
          -0.776,
          1.491,
          2.983,
          2.655,
          3.836,
          4.396,
          8.396,
          7.215,
          8.861,
          8.017,
          7.792,
          10.637,
          7.861,
          11.18,
          11.154,
          11.99,
          10.654,
          11.335,
          11.008,
          10.292,
          10.551,
          11.292,
          9.284,
          8.473,
          5.517,
          6.68,
          8.103,
          7.844,
          6.813,
          8.667,
          10.322,
          10.296,
          13.077,
          15.217,
          15.945,
          11.5,
          12.315,
          11.136,
          11.24,
          11.344,
          10.989,
          10.859,
          11.933,
          12.618,
          14.402,
          14.957,
          17.235,
          16.499,
          14.68,
          16.69,
          17.53,
          16.378,
          15.598,
          14.117,
          14.758,
          15.096,
          15.355,
          12.826,
          1.754,
          1.641,
          4.361,
          11.266,
          10.088,
          11.119,
          11.881,
          11.448,
          11.977,
          11.665,
          9.265,
          -1.452,
          4.205,
          5.67,
          8.485,
          8.121,
          8.927,
          9.274,
          10.383,
          12.808,
          11.405,
          11.032,
          10.461,
          11.474,
          11.474,
          13.112,
          13.25,
          13.311,
          17.409,
          17.374,
          18.864,
          18.847,
          16.915,
          16.153,
          15.247,
          16.849,
          15.682,
          17.38,
          18.843,
          19.697,
          19.731,
          20.646,
          21.099,
          21.125,
          22.762,
          20.62,
          23.484,
          22.762,
          26.863
         ],
         "yaxis": "y"
        },
        {
         "hovertemplate": "Security=PepsiCo<br>Date=%{x}<br>YTD Returns=%{y}<extra></extra>",
         "legendgroup": "PepsiCo",
         "line": {
          "color": "#BAB0AC",
          "dash": "solid"
         },
         "marker": {
          "symbol": "circle"
         },
         "mode": "lines",
         "name": "PepsiCo",
         "showlegend": true,
         "type": "scattergl",
         "x": [
          "2025-01-02T00:00:00-05:00",
          "2025-01-03T00:00:00-05:00",
          "2025-01-06T00:00:00-05:00",
          "2025-01-07T00:00:00-05:00",
          "2025-01-08T00:00:00-05:00",
          "2025-01-10T00:00:00-05:00",
          "2025-01-13T00:00:00-05:00",
          "2025-01-14T00:00:00-05:00",
          "2025-01-15T00:00:00-05:00",
          "2025-01-16T00:00:00-05:00",
          "2025-01-17T00:00:00-05:00",
          "2025-01-21T00:00:00-05:00",
          "2025-01-22T00:00:00-05:00",
          "2025-01-23T00:00:00-05:00",
          "2025-01-24T00:00:00-05:00",
          "2025-01-27T00:00:00-05:00",
          "2025-01-28T00:00:00-05:00",
          "2025-01-29T00:00:00-05:00",
          "2025-01-30T00:00:00-05:00",
          "2025-01-31T00:00:00-05:00",
          "2025-02-03T00:00:00-05:00",
          "2025-02-04T00:00:00-05:00",
          "2025-02-05T00:00:00-05:00",
          "2025-02-06T00:00:00-05:00",
          "2025-02-07T00:00:00-05:00",
          "2025-02-10T00:00:00-05:00",
          "2025-02-11T00:00:00-05:00",
          "2025-02-12T00:00:00-05:00",
          "2025-02-13T00:00:00-05:00",
          "2025-02-14T00:00:00-05:00",
          "2025-02-18T00:00:00-05:00",
          "2025-02-19T00:00:00-05:00",
          "2025-02-20T00:00:00-05:00",
          "2025-02-21T00:00:00-05:00",
          "2025-02-24T00:00:00-05:00",
          "2025-02-25T00:00:00-05:00",
          "2025-02-26T00:00:00-05:00",
          "2025-02-27T00:00:00-05:00",
          "2025-02-28T00:00:00-05:00",
          "2025-03-03T00:00:00-05:00",
          "2025-03-04T00:00:00-05:00",
          "2025-03-05T00:00:00-05:00",
          "2025-03-06T00:00:00-05:00",
          "2025-03-07T00:00:00-05:00",
          "2025-03-10T00:00:00-04:00",
          "2025-03-11T00:00:00-04:00",
          "2025-03-12T00:00:00-04:00",
          "2025-03-13T00:00:00-04:00",
          "2025-03-14T00:00:00-04:00",
          "2025-03-17T00:00:00-04:00",
          "2025-03-18T00:00:00-04:00",
          "2025-03-19T00:00:00-04:00",
          "2025-03-20T00:00:00-04:00",
          "2025-03-21T00:00:00-04:00",
          "2025-03-24T00:00:00-04:00",
          "2025-03-25T00:00:00-04:00",
          "2025-03-26T00:00:00-04:00",
          "2025-03-27T00:00:00-04:00",
          "2025-03-28T00:00:00-04:00",
          "2025-03-31T00:00:00-04:00",
          "2025-04-01T00:00:00-04:00",
          "2025-04-02T00:00:00-04:00",
          "2025-04-03T00:00:00-04:00",
          "2025-04-04T00:00:00-04:00",
          "2025-04-07T00:00:00-04:00",
          "2025-04-08T00:00:00-04:00",
          "2025-04-09T00:00:00-04:00",
          "2025-04-10T00:00:00-04:00",
          "2025-04-11T00:00:00-04:00",
          "2025-04-14T00:00:00-04:00",
          "2025-04-15T00:00:00-04:00",
          "2025-04-16T00:00:00-04:00",
          "2025-04-17T00:00:00-04:00",
          "2025-04-21T00:00:00-04:00",
          "2025-04-22T00:00:00-04:00",
          "2025-04-23T00:00:00-04:00",
          "2025-04-24T00:00:00-04:00",
          "2025-04-25T00:00:00-04:00",
          "2025-04-28T00:00:00-04:00",
          "2025-04-29T00:00:00-04:00",
          "2025-04-30T00:00:00-04:00",
          "2025-05-01T00:00:00-04:00",
          "2025-05-02T00:00:00-04:00",
          "2025-05-05T00:00:00-04:00",
          "2025-05-06T00:00:00-04:00",
          "2025-05-07T00:00:00-04:00",
          "2025-05-08T00:00:00-04:00",
          "2025-05-09T00:00:00-04:00",
          "2025-05-12T00:00:00-04:00",
          "2025-05-13T00:00:00-04:00",
          "2025-05-14T00:00:00-04:00",
          "2025-05-15T00:00:00-04:00",
          "2025-05-16T00:00:00-04:00",
          "2025-05-19T00:00:00-04:00",
          "2025-05-20T00:00:00-04:00",
          "2025-05-21T00:00:00-04:00",
          "2025-05-22T00:00:00-04:00",
          "2025-05-23T00:00:00-04:00",
          "2025-05-27T00:00:00-04:00",
          "2025-05-28T00:00:00-04:00",
          "2025-05-29T00:00:00-04:00",
          "2025-05-30T00:00:00-04:00",
          "2025-06-02T00:00:00-04:00",
          "2025-06-03T00:00:00-04:00",
          "2025-06-04T00:00:00-04:00",
          "2025-06-05T00:00:00-04:00",
          "2025-06-06T00:00:00-04:00",
          "2025-06-09T00:00:00-04:00",
          "2025-06-10T00:00:00-04:00",
          "2025-06-11T00:00:00-04:00",
          "2025-06-12T00:00:00-04:00",
          "2025-06-13T00:00:00-04:00"
         ],
         "xaxis": "x",
         "y": [
          0,
          -0.373,
          -2.623,
          -3.202,
          -2.443,
          -5.04,
          -3.801,
          -3.502,
          -3.615,
          -2.443,
          -1.305,
          -1.105,
          -1.411,
          -1.059,
          -0.726,
          2.929,
          0.027,
          0.107,
          1.125,
          0.32,
          0.04,
          -4.474,
          -3.029,
          -3.235,
          -3.748,
          -3.901,
          -3.042,
          -4.141,
          -3.748,
          -4.54,
          -4.068,
          -2.929,
          -0.739,
          2.19,
          2.423,
          4.134,
          0.865,
          1.205,
          2.17,
          3.848,
          2.65,
          2.443,
          2.929,
          3.725,
          4.941,
          2.308,
          -0.486,
          -0.372,
          -0.204,
          1.643,
          0.065,
          -0.526,
          -1.171,
          -2.313,
          -1.641,
          -2.252,
          -0.17,
          0.521,
          0.253,
          0.703,
          0.521,
          0.152,
          1.663,
          -1.534,
          -3.831,
          -5.772,
          -2.219,
          -3.193,
          -2.998,
          -1.44,
          -4.066,
          -5.913,
          -4.066,
          -4.811,
          -3.649,
          -4.455,
          -9.123,
          -10.419,
          -10.164,
          -9.795,
          -8.942,
          -10.305,
          -10.171,
          -11.353,
          -12.192,
          -11.4,
          -11.729,
          -12.394,
          -11.561,
          -12.481,
          -13.73,
          -11.682,
          -11.36,
          -11.487,
          -11.48,
          -12.589,
          -12.609,
          -13.133,
          -11.769,
          -12.239,
          -11.4,
          -11.715,
          -12.078,
          -11.447,
          -11.521,
          -11.944,
          -11.711,
          -11.758,
          -10.489,
          -11.799,
          -10.17,
          -11.154
         ],
         "yaxis": "y"
        }
       ],
       "layout": {
        "legend": {
         "title": {
          "text": "Companies"
         },
         "tracegroupgap": 0
        },
        "template": {
         "data": {
          "bar": [
           {
            "error_x": {
             "color": "#2a3f5f"
            },
            "error_y": {
             "color": "#2a3f5f"
            },
            "marker": {
             "line": {
              "color": "#E5ECF6",
              "width": 0.5
             },
             "pattern": {
              "fillmode": "overlay",
              "size": 10,
              "solidity": 0.2
             }
            },
            "type": "bar"
           }
          ],
          "barpolar": [
           {
            "marker": {
             "line": {
              "color": "#E5ECF6",
              "width": 0.5
             },
             "pattern": {
              "fillmode": "overlay",
              "size": 10,
              "solidity": 0.2
             }
            },
            "type": "barpolar"
           }
          ],
          "carpet": [
           {
            "aaxis": {
             "endlinecolor": "#2a3f5f",
             "gridcolor": "white",
             "linecolor": "white",
             "minorgridcolor": "white",
             "startlinecolor": "#2a3f5f"
            },
            "baxis": {
             "endlinecolor": "#2a3f5f",
             "gridcolor": "white",
             "linecolor": "white",
             "minorgridcolor": "white",
             "startlinecolor": "#2a3f5f"
            },
            "type": "carpet"
           }
          ],
          "choropleth": [
           {
            "colorbar": {
             "outlinewidth": 0,
             "ticks": ""
            },
            "type": "choropleth"
           }
          ],
          "contour": [
           {
            "colorbar": {
             "outlinewidth": 0,
             "ticks": ""
            },
            "colorscale": [
             [
              0,
              "#0d0887"
             ],
             [
              0.1111111111111111,
              "#46039f"
             ],
             [
              0.2222222222222222,
              "#7201a8"
             ],
             [
              0.3333333333333333,
              "#9c179e"
             ],
             [
              0.4444444444444444,
              "#bd3786"
             ],
             [
              0.5555555555555556,
              "#d8576b"
             ],
             [
              0.6666666666666666,
              "#ed7953"
             ],
             [
              0.7777777777777778,
              "#fb9f3a"
             ],
             [
              0.8888888888888888,
              "#fdca26"
             ],
             [
              1,
              "#f0f921"
             ]
            ],
            "type": "contour"
           }
          ],
          "contourcarpet": [
           {
            "colorbar": {
             "outlinewidth": 0,
             "ticks": ""
            },
            "type": "contourcarpet"
           }
          ],
          "heatmap": [
           {
            "colorbar": {
             "outlinewidth": 0,
             "ticks": ""
            },
            "colorscale": [
             [
              0,
              "#0d0887"
             ],
             [
              0.1111111111111111,
              "#46039f"
             ],
             [
              0.2222222222222222,
              "#7201a8"
             ],
             [
              0.3333333333333333,
              "#9c179e"
             ],
             [
              0.4444444444444444,
              "#bd3786"
             ],
             [
              0.5555555555555556,
              "#d8576b"
             ],
             [
              0.6666666666666666,
              "#ed7953"
             ],
             [
              0.7777777777777778,
              "#fb9f3a"
             ],
             [
              0.8888888888888888,
              "#fdca26"
             ],
             [
              1,
              "#f0f921"
             ]
            ],
            "type": "heatmap"
           }
          ],
          "heatmapgl": [
           {
            "colorbar": {
             "outlinewidth": 0,
             "ticks": ""
            },
            "colorscale": [
             [
              0,
              "#0d0887"
             ],
             [
              0.1111111111111111,
              "#46039f"
             ],
             [
              0.2222222222222222,
              "#7201a8"
             ],
             [
              0.3333333333333333,
              "#9c179e"
             ],
             [
              0.4444444444444444,
              "#bd3786"
             ],
             [
              0.5555555555555556,
              "#d8576b"
             ],
             [
              0.6666666666666666,
              "#ed7953"
             ],
             [
              0.7777777777777778,
              "#fb9f3a"
             ],
             [
              0.8888888888888888,
              "#fdca26"
             ],
             [
              1,
              "#f0f921"
             ]
            ],
            "type": "heatmapgl"
           }
          ],
          "histogram": [
           {
            "marker": {
             "pattern": {
              "fillmode": "overlay",
              "size": 10,
              "solidity": 0.2
             }
            },
            "type": "histogram"
           }
          ],
          "histogram2d": [
           {
            "colorbar": {
             "outlinewidth": 0,
             "ticks": ""
            },
            "colorscale": [
             [
              0,
              "#0d0887"
             ],
             [
              0.1111111111111111,
              "#46039f"
             ],
             [
              0.2222222222222222,
              "#7201a8"
             ],
             [
              0.3333333333333333,
              "#9c179e"
             ],
             [
              0.4444444444444444,
              "#bd3786"
             ],
             [
              0.5555555555555556,
              "#d8576b"
             ],
             [
              0.6666666666666666,
              "#ed7953"
             ],
             [
              0.7777777777777778,
              "#fb9f3a"
             ],
             [
              0.8888888888888888,
              "#fdca26"
             ],
             [
              1,
              "#f0f921"
             ]
            ],
            "type": "histogram2d"
           }
          ],
          "histogram2dcontour": [
           {
            "colorbar": {
             "outlinewidth": 0,
             "ticks": ""
            },
            "colorscale": [
             [
              0,
              "#0d0887"
             ],
             [
              0.1111111111111111,
              "#46039f"
             ],
             [
              0.2222222222222222,
              "#7201a8"
             ],
             [
              0.3333333333333333,
              "#9c179e"
             ],
             [
              0.4444444444444444,
              "#bd3786"
             ],
             [
              0.5555555555555556,
              "#d8576b"
             ],
             [
              0.6666666666666666,
              "#ed7953"
             ],
             [
              0.7777777777777778,
              "#fb9f3a"
             ],
             [
              0.8888888888888888,
              "#fdca26"
             ],
             [
              1,
              "#f0f921"
             ]
            ],
            "type": "histogram2dcontour"
           }
          ],
          "mesh3d": [
           {
            "colorbar": {
             "outlinewidth": 0,
             "ticks": ""
            },
            "type": "mesh3d"
           }
          ],
          "parcoords": [
           {
            "line": {
             "colorbar": {
              "outlinewidth": 0,
              "ticks": ""
             }
            },
            "type": "parcoords"
           }
          ],
          "pie": [
           {
            "automargin": true,
            "type": "pie"
           }
          ],
          "scatter": [
           {
            "fillpattern": {
             "fillmode": "overlay",
             "size": 10,
             "solidity": 0.2
            },
            "type": "scatter"
           }
          ],
          "scatter3d": [
           {
            "line": {
             "colorbar": {
              "outlinewidth": 0,
              "ticks": ""
             }
            },
            "marker": {
             "colorbar": {
              "outlinewidth": 0,
              "ticks": ""
             }
            },
            "type": "scatter3d"
           }
          ],
          "scattercarpet": [
           {
            "marker": {
             "colorbar": {
              "outlinewidth": 0,
              "ticks": ""
             }
            },
            "type": "scattercarpet"
           }
          ],
          "scattergeo": [
           {
            "marker": {
             "colorbar": {
              "outlinewidth": 0,
              "ticks": ""
             }
            },
            "type": "scattergeo"
           }
          ],
          "scattergl": [
           {
            "marker": {
             "colorbar": {
              "outlinewidth": 0,
              "ticks": ""
             }
            },
            "type": "scattergl"
           }
          ],
          "scattermapbox": [
           {
            "marker": {
             "colorbar": {
              "outlinewidth": 0,
              "ticks": ""
             }
            },
            "type": "scattermapbox"
           }
          ],
          "scatterpolar": [
           {
            "marker": {
             "colorbar": {
              "outlinewidth": 0,
              "ticks": ""
             }
            },
            "type": "scatterpolar"
           }
          ],
          "scatterpolargl": [
           {
            "marker": {
             "colorbar": {
              "outlinewidth": 0,
              "ticks": ""
             }
            },
            "type": "scatterpolargl"
           }
          ],
          "scatterternary": [
           {
            "marker": {
             "colorbar": {
              "outlinewidth": 0,
              "ticks": ""
             }
            },
            "type": "scatterternary"
           }
          ],
          "surface": [
           {
            "colorbar": {
             "outlinewidth": 0,
             "ticks": ""
            },
            "colorscale": [
             [
              0,
              "#0d0887"
             ],
             [
              0.1111111111111111,
              "#46039f"
             ],
             [
              0.2222222222222222,
              "#7201a8"
             ],
             [
              0.3333333333333333,
              "#9c179e"
             ],
             [
              0.4444444444444444,
              "#bd3786"
             ],
             [
              0.5555555555555556,
              "#d8576b"
             ],
             [
              0.6666666666666666,
              "#ed7953"
             ],
             [
              0.7777777777777778,
              "#fb9f3a"
             ],
             [
              0.8888888888888888,
              "#fdca26"
             ],
             [
              1,
              "#f0f921"
             ]
            ],
            "type": "surface"
           }
          ],
          "table": [
           {
            "cells": {
             "fill": {
              "color": "#EBF0F8"
             },
             "line": {
              "color": "white"
             }
            },
            "header": {
             "fill": {
              "color": "#C8D4E3"
             },
             "line": {
              "color": "white"
             }
            },
            "type": "table"
           }
          ]
         },
         "layout": {
          "annotationdefaults": {
           "arrowcolor": "#2a3f5f",
           "arrowhead": 0,
           "arrowwidth": 1
          },
          "autotypenumbers": "strict",
          "coloraxis": {
           "colorbar": {
            "outlinewidth": 0,
            "ticks": ""
           }
          },
          "colorscale": {
           "diverging": [
            [
             0,
             "#8e0152"
            ],
            [
             0.1,
             "#c51b7d"
            ],
            [
             0.2,
             "#de77ae"
            ],
            [
             0.3,
             "#f1b6da"
            ],
            [
             0.4,
             "#fde0ef"
            ],
            [
             0.5,
             "#f7f7f7"
            ],
            [
             0.6,
             "#e6f5d0"
            ],
            [
             0.7,
             "#b8e186"
            ],
            [
             0.8,
             "#7fbc41"
            ],
            [
             0.9,
             "#4d9221"
            ],
            [
             1,
             "#276419"
            ]
           ],
           "sequential": [
            [
             0,
             "#0d0887"
            ],
            [
             0.1111111111111111,
             "#46039f"
            ],
            [
             0.2222222222222222,
             "#7201a8"
            ],
            [
             0.3333333333333333,
             "#9c179e"
            ],
            [
             0.4444444444444444,
             "#bd3786"
            ],
            [
             0.5555555555555556,
             "#d8576b"
            ],
            [
             0.6666666666666666,
             "#ed7953"
            ],
            [
             0.7777777777777778,
             "#fb9f3a"
            ],
            [
             0.8888888888888888,
             "#fdca26"
            ],
            [
             1,
             "#f0f921"
            ]
           ],
           "sequentialminus": [
            [
             0,
             "#0d0887"
            ],
            [
             0.1111111111111111,
             "#46039f"
            ],
            [
             0.2222222222222222,
             "#7201a8"
            ],
            [
             0.3333333333333333,
             "#9c179e"
            ],
            [
             0.4444444444444444,
             "#bd3786"
            ],
            [
             0.5555555555555556,
             "#d8576b"
            ],
            [
             0.6666666666666666,
             "#ed7953"
            ],
            [
             0.7777777777777778,
             "#fb9f3a"
            ],
            [
             0.8888888888888888,
             "#fdca26"
            ],
            [
             1,
             "#f0f921"
            ]
           ]
          },
          "colorway": [
           "#636efa",
           "#EF553B",
           "#00cc96",
           "#ab63fa",
           "#FFA15A",
           "#19d3f3",
           "#FF6692",
           "#B6E880",
           "#FF97FF",
           "#FECB52"
          ],
          "font": {
           "color": "#2a3f5f"
          },
          "geo": {
           "bgcolor": "white",
           "lakecolor": "white",
           "landcolor": "#E5ECF6",
           "showlakes": true,
           "showland": true,
           "subunitcolor": "white"
          },
          "hoverlabel": {
           "align": "left"
          },
          "hovermode": "closest",
          "mapbox": {
           "style": "light"
          },
          "paper_bgcolor": "white",
          "plot_bgcolor": "#E5ECF6",
          "polar": {
           "angularaxis": {
            "gridcolor": "white",
            "linecolor": "white",
            "ticks": ""
           },
           "bgcolor": "#E5ECF6",
           "radialaxis": {
            "gridcolor": "white",
            "linecolor": "white",
            "ticks": ""
           }
          },
          "scene": {
           "xaxis": {
            "backgroundcolor": "#E5ECF6",
            "gridcolor": "white",
            "gridwidth": 2,
            "linecolor": "white",
            "showbackground": true,
            "ticks": "",
            "zerolinecolor": "white"
           },
           "yaxis": {
            "backgroundcolor": "#E5ECF6",
            "gridcolor": "white",
            "gridwidth": 2,
            "linecolor": "white",
            "showbackground": true,
            "ticks": "",
            "zerolinecolor": "white"
           },
           "zaxis": {
            "backgroundcolor": "#E5ECF6",
            "gridcolor": "white",
            "gridwidth": 2,
            "linecolor": "white",
            "showbackground": true,
            "ticks": "",
            "zerolinecolor": "white"
           }
          },
          "shapedefaults": {
           "line": {
            "color": "#2a3f5f"
           }
          },
          "ternary": {
           "aaxis": {
            "gridcolor": "white",
            "linecolor": "white",
            "ticks": ""
           },
           "baxis": {
            "gridcolor": "white",
            "linecolor": "white",
            "ticks": ""
           },
           "bgcolor": "#E5ECF6",
           "caxis": {
            "gridcolor": "white",
            "linecolor": "white",
            "ticks": ""
           }
          },
          "title": {
           "x": 0.05
          },
          "xaxis": {
           "automargin": true,
           "gridcolor": "white",
           "linecolor": "white",
           "ticks": "",
           "title": {
            "standoff": 15
           },
           "zerolinecolor": "white",
           "zerolinewidth": 2
          },
          "yaxis": {
           "automargin": true,
           "gridcolor": "white",
           "linecolor": "white",
           "ticks": "",
           "title": {
            "standoff": 15
           },
           "zerolinecolor": "white",
           "zerolinewidth": 2
          }
         }
        },
        "title": {
         "text": "Top 10 Original Companies YTD Returns (%)"
        },
        "xaxis": {
         "anchor": "y",
         "domain": [
          0,
          1
         ],
         "title": {
          "text": "Date"
         }
        },
        "yaxis": {
         "anchor": "x",
         "domain": [
          0,
          1
         ],
         "title": {
          "text": "YTD Returns (%)"
         }
        }
       }
      }
     },
     "metadata": {},
     "output_type": "display_data"
    }
   ],
   "source": [
    "ytd_org_fig = px.line(\n",
    "    ytd_top10_og, x='Date', y='YTD Returns', color='Security', color_discrete_sequence=px.colors.qualitative.T10,\n",
    "    title='Top 10 Original Companies YTD Returns (%)'\n",
    ")\n",
    "ytd_org_fig.update_layout(yaxis_title='YTD Returns (%)', legend_title='Companies')\n",
    "ytd_org_fig.show()"
   ]
  },
  {
   "cell_type": "markdown",
   "id": "362ce102",
   "metadata": {},
   "source": [
    "- It would be interesting to see how many companies are added each year per sector."
   ]
  },
  {
   "cell_type": "code",
   "execution_count": null,
   "id": "66f2a982",
   "metadata": {},
   "outputs": [
    {
     "data": {
      "application/vnd.plotly.v1+json": {
       "config": {
        "plotlyServerURL": "https://plot.ly"
       },
       "data": [
        {
         "hovertemplate": "Sector=Basic Materials<br>Year_Added=%{x}<br>Count=%{y}<extra></extra>",
         "legendgroup": "Basic Materials",
         "marker": {
          "color": "#1f77b4",
          "pattern": {
           "shape": ""
          }
         },
         "name": "Basic Materials",
         "orientation": "v",
         "showlegend": true,
         "textposition": "auto",
         "type": "bar",
         "x": {
          "bdata": "rAexB7gHwQfFB8gHygfPB9gH2wfcB94H4AfjB+YH",
          "dtype": "i2"
         },
         "xaxis": "x",
         "y": {
          "bdata": "AQEBAgEBAQEBAgEBAQMB",
          "dtype": "i1"
         },
         "yaxis": "y"
        },
        {
         "hovertemplate": "Sector=Industrials<br>Year_Added=%{x}<br>Count=%{y}<extra></extra>",
         "legendgroup": "Industrials",
         "marker": {
          "color": "#7f7f7f",
          "pattern": {
           "shape": ""
          }
         },
         "name": "Industrials",
         "orientation": "v",
         "showlegend": true,
         "textposition": "auto",
         "type": "bar",
         "x": {
          "bdata": "rQe6B7wHvQe+B8EHwgfKB80HzgfQB9EH0gfXB9gH2QfaB9sH3AfdB94H3wfgB+EH4gfjB+QH5QfmB+cH6Ac=",
          "dtype": "i2"
         },
         "xaxis": "x",
         "y": {
          "bdata": "AgECAgICAQEBAQEBAQMDAQIBAQMBAwMBAgMEAQEEAg==",
          "dtype": "i1"
         },
         "yaxis": "y"
        },
        {
         "hovertemplate": "Sector=Consumer Defensive<br>Year_Added=%{x}<br>Count=%{y}<extra></extra>",
         "legendgroup": "Consumer Defensive",
         "marker": {
          "color": "#d62728",
          "pattern": {
           "shape": ""
          }
         },
         "name": "Consumer Defensive",
         "orientation": "v",
         "showlegend": true,
         "textposition": "auto",
         "type": "bar",
         "x": {
          "bdata": "sQe4B74HvwfCB8UHyQfTB9UH1gfYB9kH2wfcB98H4gfmB+cH",
          "dtype": "i2"
         },
         "xaxis": "x",
         "y": {
          "bdata": "AQIBAQEBAQECAQIBAQMCAQEC",
          "dtype": "i1"
         },
         "yaxis": "y"
        },
        {
         "hovertemplate": "Sector=Consumer Cyclical<br>Year_Added=%{x}<br>Count=%{y}<extra></extra>",
         "legendgroup": "Consumer Cyclical",
         "marker": {
          "color": "#2ca02c",
          "pattern": {
           "shape": ""
          }
         },
         "name": "Consumer Cyclical",
         "orientation": "v",
         "showlegend": true,
         "textposition": "auto",
         "type": "bar",
         "x": {
          "bdata": "sge1B8AHwQfDB8QHywfNB84HzwfQB9IH1AfVB9cH2AfZB9oH2wfcB90H3gfgB+EH4gfjB+QH5QfnB+gH6Qc=",
          "dtype": "i2"
         },
         "xaxis": "x",
         "y": {
          "bdata": "AQEEAQECAQICAQEBAQMCAQMBAQECAgIEAQMCAQICAg==",
          "dtype": "i1"
         },
         "yaxis": "y"
        },
        {
         "hovertemplate": "Sector=Healthcare<br>Year_Added=%{x}<br>Count=%{y}<extra></extra>",
         "legendgroup": "Healthcare",
         "marker": {
          "color": "#e377c2",
          "pattern": {
           "shape": ""
          }
         },
         "name": "Healthcare",
         "orientation": "v",
         "showlegend": true,
         "textposition": "auto",
         "type": "bar",
         "x": {
          "bdata": "sge0B7UHuAe7B8EHwgfIB8oHywfNB84HzwfQB9EH0gfTB9QH2AfbB9wH3QfeB98H4AfhB+MH5AflB+YH5wfoBw==",
          "dtype": "i2"
         },
         "xaxis": "x",
         "y": {
          "bdata": "AQIBAQEBAQEBAQEBAQICAwEEAgECAwECBAUBAgMBAgE=",
          "dtype": "i1"
         },
         "yaxis": "y"
        },
        {
         "hovertemplate": "Sector=Technology<br>Year_Added=%{x}<br>Count=%{y}<extra></extra>",
         "legendgroup": "Technology",
         "marker": {
          "color": "#17becf",
          "pattern": {
           "shape": ""
          }
         },
         "name": "Technology",
         "orientation": "v",
         "showlegend": true,
         "textposition": "auto",
         "type": "bar",
         "x": {
          "bdata": "tge4B70HvgfFB8kHygfLB80HzgfPB9AH0QfTB9YH1wfYB9kH2gfbB9wH3gffB+AH4QfiB+MH5AflB+YH5wfoBw==",
          "dtype": "i2"
         },
         "xaxis": "x",
         "y": {
          "bdata": "AQEBAQIBAgICAQMBAwEEAgICAQIDAQIBBQYEBAcCBAY=",
          "dtype": "i1"
         },
         "yaxis": "y"
        },
        {
         "hovertemplate": "Sector=Energy<br>Year_Added=%{x}<br>Count=%{y}<extra></extra>",
         "legendgroup": "Energy",
         "marker": {
          "color": "#9467bd",
          "pattern": {
           "shape": ""
          }
         },
         "name": "Energy",
         "orientation": "v",
         "showlegend": true,
         "textposition": "auto",
         "type": "bar",
         "x": {
          "bdata": "twfAB80H0AfSB9gH2gfbB9wH4QfiB+YH6AfpBw==",
          "dtype": "i2"
         },
         "xaxis": "x",
         "y": {
          "bdata": "AQEBAgEBAQECAQECAQE=",
          "dtype": "i1"
         },
         "yaxis": "y"
        },
        {
         "hovertemplate": "Sector=Financial Services<br>Year_Added=%{x}<br>Count=%{y}<extra></extra>",
         "legendgroup": "Financial Services",
         "marker": {
          "color": "#8c564b",
          "pattern": {
           "shape": ""
          }
         },
         "name": "Financial Services",
         "orientation": "v",
         "showlegend": true,
         "textposition": "auto",
         "type": "bar",
         "x": {
          "bdata": "twe4B7wHwwfEB8UHyQfKB8sHzAfNB84HzwfQB9IH0wfUB9UH1gfXB9gH2QfaB9sH3wfgB+EH4gfjB+UH5gfnB+gH6Qc=",
          "dtype": "i2"
         },
         "xaxis": "x",
         "y": {
          "bdata": "AQMBAQIBAQEDAgUFAgEEAQEBAQIDAQEBAgMDAQMCAQEDAQ==",
          "dtype": "i1"
         },
         "yaxis": "y"
        },
        {
         "hovertemplate": "Sector=Communication Services<br>Year_Added=%{x}<br>Count=%{y}<extra></extra>",
         "legendgroup": "Communication Services",
         "marker": {
          "color": "#ff7f0e",
          "pattern": {
           "shape": ""
          }
         },
         "name": "Communication Services",
         "orientation": "v",
         "showlegend": true,
         "textposition": "auto",
         "type": "bar",
         "x": {
          "bdata": "uAe/B8gHygfNB9IH1gfaB90H3gffB+AH4gfjB+UH5gfpBw==",
          "dtype": "i2"
         },
         "xaxis": "x",
         "y": {
          "bdata": "AQIBAQECAQECAQEBAQQBAQE=",
          "dtype": "i1"
         },
         "yaxis": "y"
        },
        {
         "hovertemplate": "Sector=Utilities<br>Year_Added=%{x}<br>Count=%{y}<extra></extra>",
         "legendgroup": "Utilities",
         "marker": {
          "color": "#1f4e1f",
          "pattern": {
           "shape": ""
          }
         },
         "name": "Utilities",
         "orientation": "v",
         "showlegend": true,
         "textposition": "auto",
         "type": "bar",
         "x": {
          "bdata": "uAfBB8cHzQfOB88H0AfRB9gH2QfaB+AH4QfiB+MH5gfoBw==",
          "dtype": "i2"
         },
         "xaxis": "x",
         "y": {
          "bdata": "AgEBAQEBAQEBAQEDAQEBAgE=",
          "dtype": "i1"
         },
         "yaxis": "y"
        },
        {
         "hovertemplate": "Sector=Real Estate<br>Year_Added=%{x}<br>Count=%{y}<extra></extra>",
         "legendgroup": "Real Estate",
         "marker": {
          "color": "#bcbd22",
          "pattern": {
           "shape": ""
          }
         },
         "name": "Real Estate",
         "orientation": "v",
         "showlegend": true,
         "textposition": "auto",
         "type": "bar",
         "x": {
          "bdata": "uwfRB9IH0wfVB9YH1wfYB9kH3AfeB98H4AfhB+YH",
          "dtype": "i2"
         },
         "xaxis": "x",
         "y": {
          "bdata": "AQEBAQEDAwEDAQECBQME",
          "dtype": "i1"
         },
         "yaxis": "y"
        }
       ],
       "layout": {
        "barmode": "stack",
        "legend": {
         "title": {
          "text": "Sector"
         },
         "tracegroupgap": 0
        },
        "template": {
         "data": {
          "bar": [
           {
            "error_x": {
             "color": "#2a3f5f"
            },
            "error_y": {
             "color": "#2a3f5f"
            },
            "marker": {
             "line": {
              "color": "#E5ECF6",
              "width": 0.5
             },
             "pattern": {
              "fillmode": "overlay",
              "size": 10,
              "solidity": 0.2
             }
            },
            "type": "bar"
           }
          ],
          "barpolar": [
           {
            "marker": {
             "line": {
              "color": "#E5ECF6",
              "width": 0.5
             },
             "pattern": {
              "fillmode": "overlay",
              "size": 10,
              "solidity": 0.2
             }
            },
            "type": "barpolar"
           }
          ],
          "carpet": [
           {
            "aaxis": {
             "endlinecolor": "#2a3f5f",
             "gridcolor": "white",
             "linecolor": "white",
             "minorgridcolor": "white",
             "startlinecolor": "#2a3f5f"
            },
            "baxis": {
             "endlinecolor": "#2a3f5f",
             "gridcolor": "white",
             "linecolor": "white",
             "minorgridcolor": "white",
             "startlinecolor": "#2a3f5f"
            },
            "type": "carpet"
           }
          ],
          "choropleth": [
           {
            "colorbar": {
             "outlinewidth": 0,
             "ticks": ""
            },
            "type": "choropleth"
           }
          ],
          "contour": [
           {
            "colorbar": {
             "outlinewidth": 0,
             "ticks": ""
            },
            "colorscale": [
             [
              0,
              "#0d0887"
             ],
             [
              0.1111111111111111,
              "#46039f"
             ],
             [
              0.2222222222222222,
              "#7201a8"
             ],
             [
              0.3333333333333333,
              "#9c179e"
             ],
             [
              0.4444444444444444,
              "#bd3786"
             ],
             [
              0.5555555555555556,
              "#d8576b"
             ],
             [
              0.6666666666666666,
              "#ed7953"
             ],
             [
              0.7777777777777778,
              "#fb9f3a"
             ],
             [
              0.8888888888888888,
              "#fdca26"
             ],
             [
              1,
              "#f0f921"
             ]
            ],
            "type": "contour"
           }
          ],
          "contourcarpet": [
           {
            "colorbar": {
             "outlinewidth": 0,
             "ticks": ""
            },
            "type": "contourcarpet"
           }
          ],
          "heatmap": [
           {
            "colorbar": {
             "outlinewidth": 0,
             "ticks": ""
            },
            "colorscale": [
             [
              0,
              "#0d0887"
             ],
             [
              0.1111111111111111,
              "#46039f"
             ],
             [
              0.2222222222222222,
              "#7201a8"
             ],
             [
              0.3333333333333333,
              "#9c179e"
             ],
             [
              0.4444444444444444,
              "#bd3786"
             ],
             [
              0.5555555555555556,
              "#d8576b"
             ],
             [
              0.6666666666666666,
              "#ed7953"
             ],
             [
              0.7777777777777778,
              "#fb9f3a"
             ],
             [
              0.8888888888888888,
              "#fdca26"
             ],
             [
              1,
              "#f0f921"
             ]
            ],
            "type": "heatmap"
           }
          ],
          "histogram": [
           {
            "marker": {
             "pattern": {
              "fillmode": "overlay",
              "size": 10,
              "solidity": 0.2
             }
            },
            "type": "histogram"
           }
          ],
          "histogram2d": [
           {
            "colorbar": {
             "outlinewidth": 0,
             "ticks": ""
            },
            "colorscale": [
             [
              0,
              "#0d0887"
             ],
             [
              0.1111111111111111,
              "#46039f"
             ],
             [
              0.2222222222222222,
              "#7201a8"
             ],
             [
              0.3333333333333333,
              "#9c179e"
             ],
             [
              0.4444444444444444,
              "#bd3786"
             ],
             [
              0.5555555555555556,
              "#d8576b"
             ],
             [
              0.6666666666666666,
              "#ed7953"
             ],
             [
              0.7777777777777778,
              "#fb9f3a"
             ],
             [
              0.8888888888888888,
              "#fdca26"
             ],
             [
              1,
              "#f0f921"
             ]
            ],
            "type": "histogram2d"
           }
          ],
          "histogram2dcontour": [
           {
            "colorbar": {
             "outlinewidth": 0,
             "ticks": ""
            },
            "colorscale": [
             [
              0,
              "#0d0887"
             ],
             [
              0.1111111111111111,
              "#46039f"
             ],
             [
              0.2222222222222222,
              "#7201a8"
             ],
             [
              0.3333333333333333,
              "#9c179e"
             ],
             [
              0.4444444444444444,
              "#bd3786"
             ],
             [
              0.5555555555555556,
              "#d8576b"
             ],
             [
              0.6666666666666666,
              "#ed7953"
             ],
             [
              0.7777777777777778,
              "#fb9f3a"
             ],
             [
              0.8888888888888888,
              "#fdca26"
             ],
             [
              1,
              "#f0f921"
             ]
            ],
            "type": "histogram2dcontour"
           }
          ],
          "mesh3d": [
           {
            "colorbar": {
             "outlinewidth": 0,
             "ticks": ""
            },
            "type": "mesh3d"
           }
          ],
          "parcoords": [
           {
            "line": {
             "colorbar": {
              "outlinewidth": 0,
              "ticks": ""
             }
            },
            "type": "parcoords"
           }
          ],
          "pie": [
           {
            "automargin": true,
            "type": "pie"
           }
          ],
          "scatter": [
           {
            "fillpattern": {
             "fillmode": "overlay",
             "size": 10,
             "solidity": 0.2
            },
            "type": "scatter"
           }
          ],
          "scatter3d": [
           {
            "line": {
             "colorbar": {
              "outlinewidth": 0,
              "ticks": ""
             }
            },
            "marker": {
             "colorbar": {
              "outlinewidth": 0,
              "ticks": ""
             }
            },
            "type": "scatter3d"
           }
          ],
          "scattercarpet": [
           {
            "marker": {
             "colorbar": {
              "outlinewidth": 0,
              "ticks": ""
             }
            },
            "type": "scattercarpet"
           }
          ],
          "scattergeo": [
           {
            "marker": {
             "colorbar": {
              "outlinewidth": 0,
              "ticks": ""
             }
            },
            "type": "scattergeo"
           }
          ],
          "scattergl": [
           {
            "marker": {
             "colorbar": {
              "outlinewidth": 0,
              "ticks": ""
             }
            },
            "type": "scattergl"
           }
          ],
          "scattermap": [
           {
            "marker": {
             "colorbar": {
              "outlinewidth": 0,
              "ticks": ""
             }
            },
            "type": "scattermap"
           }
          ],
          "scattermapbox": [
           {
            "marker": {
             "colorbar": {
              "outlinewidth": 0,
              "ticks": ""
             }
            },
            "type": "scattermapbox"
           }
          ],
          "scatterpolar": [
           {
            "marker": {
             "colorbar": {
              "outlinewidth": 0,
              "ticks": ""
             }
            },
            "type": "scatterpolar"
           }
          ],
          "scatterpolargl": [
           {
            "marker": {
             "colorbar": {
              "outlinewidth": 0,
              "ticks": ""
             }
            },
            "type": "scatterpolargl"
           }
          ],
          "scatterternary": [
           {
            "marker": {
             "colorbar": {
              "outlinewidth": 0,
              "ticks": ""
             }
            },
            "type": "scatterternary"
           }
          ],
          "surface": [
           {
            "colorbar": {
             "outlinewidth": 0,
             "ticks": ""
            },
            "colorscale": [
             [
              0,
              "#0d0887"
             ],
             [
              0.1111111111111111,
              "#46039f"
             ],
             [
              0.2222222222222222,
              "#7201a8"
             ],
             [
              0.3333333333333333,
              "#9c179e"
             ],
             [
              0.4444444444444444,
              "#bd3786"
             ],
             [
              0.5555555555555556,
              "#d8576b"
             ],
             [
              0.6666666666666666,
              "#ed7953"
             ],
             [
              0.7777777777777778,
              "#fb9f3a"
             ],
             [
              0.8888888888888888,
              "#fdca26"
             ],
             [
              1,
              "#f0f921"
             ]
            ],
            "type": "surface"
           }
          ],
          "table": [
           {
            "cells": {
             "fill": {
              "color": "#EBF0F8"
             },
             "line": {
              "color": "white"
             }
            },
            "header": {
             "fill": {
              "color": "#C8D4E3"
             },
             "line": {
              "color": "white"
             }
            },
            "type": "table"
           }
          ]
         },
         "layout": {
          "annotationdefaults": {
           "arrowcolor": "#2a3f5f",
           "arrowhead": 0,
           "arrowwidth": 1
          },
          "autotypenumbers": "strict",
          "coloraxis": {
           "colorbar": {
            "outlinewidth": 0,
            "ticks": ""
           }
          },
          "colorscale": {
           "diverging": [
            [
             0,
             "#8e0152"
            ],
            [
             0.1,
             "#c51b7d"
            ],
            [
             0.2,
             "#de77ae"
            ],
            [
             0.3,
             "#f1b6da"
            ],
            [
             0.4,
             "#fde0ef"
            ],
            [
             0.5,
             "#f7f7f7"
            ],
            [
             0.6,
             "#e6f5d0"
            ],
            [
             0.7,
             "#b8e186"
            ],
            [
             0.8,
             "#7fbc41"
            ],
            [
             0.9,
             "#4d9221"
            ],
            [
             1,
             "#276419"
            ]
           ],
           "sequential": [
            [
             0,
             "#0d0887"
            ],
            [
             0.1111111111111111,
             "#46039f"
            ],
            [
             0.2222222222222222,
             "#7201a8"
            ],
            [
             0.3333333333333333,
             "#9c179e"
            ],
            [
             0.4444444444444444,
             "#bd3786"
            ],
            [
             0.5555555555555556,
             "#d8576b"
            ],
            [
             0.6666666666666666,
             "#ed7953"
            ],
            [
             0.7777777777777778,
             "#fb9f3a"
            ],
            [
             0.8888888888888888,
             "#fdca26"
            ],
            [
             1,
             "#f0f921"
            ]
           ],
           "sequentialminus": [
            [
             0,
             "#0d0887"
            ],
            [
             0.1111111111111111,
             "#46039f"
            ],
            [
             0.2222222222222222,
             "#7201a8"
            ],
            [
             0.3333333333333333,
             "#9c179e"
            ],
            [
             0.4444444444444444,
             "#bd3786"
            ],
            [
             0.5555555555555556,
             "#d8576b"
            ],
            [
             0.6666666666666666,
             "#ed7953"
            ],
            [
             0.7777777777777778,
             "#fb9f3a"
            ],
            [
             0.8888888888888888,
             "#fdca26"
            ],
            [
             1,
             "#f0f921"
            ]
           ]
          },
          "colorway": [
           "#636efa",
           "#EF553B",
           "#00cc96",
           "#ab63fa",
           "#FFA15A",
           "#19d3f3",
           "#FF6692",
           "#B6E880",
           "#FF97FF",
           "#FECB52"
          ],
          "font": {
           "color": "#2a3f5f"
          },
          "geo": {
           "bgcolor": "white",
           "lakecolor": "white",
           "landcolor": "#E5ECF6",
           "showlakes": true,
           "showland": true,
           "subunitcolor": "white"
          },
          "hoverlabel": {
           "align": "left"
          },
          "hovermode": "closest",
          "mapbox": {
           "style": "light"
          },
          "paper_bgcolor": "white",
          "plot_bgcolor": "#E5ECF6",
          "polar": {
           "angularaxis": {
            "gridcolor": "white",
            "linecolor": "white",
            "ticks": ""
           },
           "bgcolor": "#E5ECF6",
           "radialaxis": {
            "gridcolor": "white",
            "linecolor": "white",
            "ticks": ""
           }
          },
          "scene": {
           "xaxis": {
            "backgroundcolor": "#E5ECF6",
            "gridcolor": "white",
            "gridwidth": 2,
            "linecolor": "white",
            "showbackground": true,
            "ticks": "",
            "zerolinecolor": "white"
           },
           "yaxis": {
            "backgroundcolor": "#E5ECF6",
            "gridcolor": "white",
            "gridwidth": 2,
            "linecolor": "white",
            "showbackground": true,
            "ticks": "",
            "zerolinecolor": "white"
           },
           "zaxis": {
            "backgroundcolor": "#E5ECF6",
            "gridcolor": "white",
            "gridwidth": 2,
            "linecolor": "white",
            "showbackground": true,
            "ticks": "",
            "zerolinecolor": "white"
           }
          },
          "shapedefaults": {
           "line": {
            "color": "#2a3f5f"
           }
          },
          "ternary": {
           "aaxis": {
            "gridcolor": "white",
            "linecolor": "white",
            "ticks": ""
           },
           "baxis": {
            "gridcolor": "white",
            "linecolor": "white",
            "ticks": ""
           },
           "bgcolor": "#E5ECF6",
           "caxis": {
            "gridcolor": "white",
            "linecolor": "white",
            "ticks": ""
           }
          },
          "title": {
           "x": 0.05
          },
          "xaxis": {
           "automargin": true,
           "gridcolor": "white",
           "linecolor": "white",
           "ticks": "",
           "title": {
            "standoff": 15
           },
           "zerolinecolor": "white",
           "zerolinewidth": 2
          },
          "yaxis": {
           "automargin": true,
           "gridcolor": "white",
           "linecolor": "white",
           "ticks": "",
           "title": {
            "standoff": 15
           },
           "zerolinecolor": "white",
           "zerolinewidth": 2
          }
         }
        },
        "title": {
         "text": "Annual Additions to S&P 500 by Sector"
        },
        "xaxis": {
         "anchor": "y",
         "domain": [
          0,
          1
         ],
         "title": {
          "text": "Year"
         }
        },
        "yaxis": {
         "anchor": "x",
         "domain": [
          0,
          1
         ],
         "title": {
          "text": "Count"
         }
        }
       }
      }
     },
     "metadata": {},
     "output_type": "display_data"
    }
   ],
   "source": [
    "# entrants_df = df['Year_Added'].value_counts().reset_index(name='Count')\n",
    "new_entrants_df = df.groupby(['Year_Added', 'Sector']).size().reset_index(name='Count')\n",
    "\n",
    "fig_new_entrants = px.bar(\n",
    "    new_entrants_df[~(new_entrants_df['Year_Added'] == 1957)],\n",
    "    x='Year_Added',\n",
    "    y='Count',\n",
    "    color='Sector',\n",
    "    barmode='stack',\n",
    "    color_discrete_map=color_map,\n",
    "    # category_orders={\"Year_Added\": sorted(new_entrants_df[\"Year_Added\"].unique())}, # ensure that year is chronological\n",
    "    title='Annual Additions to S&P 500 by Sector')\n",
    "\n",
    "\n",
    "fig_new_entrants.update_layout(\n",
    "    xaxis_title='Year',\n",
    "    yaxis_title='Count',\n",
    "    # xaxis=dict(type='category')\n",
    ")\n",
    "fig_new_entrants.show()"
   ]
  },
  {
   "cell_type": "code",
   "execution_count": null,
   "id": "faf35d4e",
   "metadata": {},
   "outputs": [],
   "source": []
  },
  {
   "cell_type": "markdown",
   "id": "8b246429",
   "metadata": {},
   "source": [
    "# How did global indices do this week?"
   ]
  },
  {
   "cell_type": "code",
   "execution_count": 87,
   "id": "8498cfde",
   "metadata": {},
   "outputs": [],
   "source": [
    "import yfinance as yf\n",
    "import pandas as pd\n",
    "from datetime import date\n",
    "from utilities import fetch_historical_data, calculate_ytd_return, map_country, color_map_countries\n",
    "import plotly.express as px"
   ]
  },
  {
   "cell_type": "code",
   "execution_count": 88,
   "id": "f605ff16",
   "metadata": {},
   "outputs": [],
   "source": [
    "tickers = ['^GSPC', '000001.SS', '^HSI', '^AXJO', '^NSEI', '^GSPTSE', '^GDAXI', '^FTSE', '^N225', '^MXX', '^BVSP']\n",
    "\n",
    "today = date.today()\n",
    "start = date(year=today.year, month=today.month, day=today.day-6)\n",
    "\n",
    "# print(f'Start date: {start}, End date: {today}')\n",
    "\n",
    "hist = fetch_historical_data(tickers, start, today)"
   ]
  },
  {
   "cell_type": "markdown",
   "id": "5f50d810",
   "metadata": {},
   "source": [
    "- It's too messy to deal with all the timezones so I've decided to drop Australia account for the timezone by labeling by day rather than using the timezones that were given by yfinance"
   ]
  },
  {
   "cell_type": "code",
   "execution_count": null,
   "id": "5089a509",
   "metadata": {},
   "outputs": [],
   "source": [
    "# Drop AUS' AXJO\n",
    "hist = hist[~(hist['Ticker']=='^AXJO')]\n",
    "# Create custom datetime datatype in the format of DDMONYYYY\n",
    "hist.loc[:,'Day'] = (hist.groupby('Ticker').cumcount() + 9).astype(str) + ' June 2025'\n",
    "hist.loc[:,'Day'] = pd.to_datetime(hist['Day'], format='%d %B %Y').dt.date\n",
    "hist"
   ]
  },
  {
   "cell_type": "code",
   "execution_count": 90,
   "id": "488a9a1b",
   "metadata": {},
   "outputs": [
    {
     "data": {
      "text/html": [
       "<div>\n",
       "<style scoped>\n",
       "    .dataframe tbody tr th:only-of-type {\n",
       "        vertical-align: middle;\n",
       "    }\n",
       "\n",
       "    .dataframe tbody tr th {\n",
       "        vertical-align: top;\n",
       "    }\n",
       "\n",
       "    .dataframe thead th {\n",
       "        text-align: right;\n",
       "    }\n",
       "</style>\n",
       "<table border=\"1\" class=\"dataframe\">\n",
       "  <thead>\n",
       "    <tr style=\"text-align: right;\">\n",
       "      <th></th>\n",
       "      <th>Date</th>\n",
       "      <th>Open</th>\n",
       "      <th>High</th>\n",
       "      <th>Low</th>\n",
       "      <th>Close</th>\n",
       "      <th>Volume</th>\n",
       "      <th>Dividends</th>\n",
       "      <th>Stock Splits</th>\n",
       "      <th>Ticker</th>\n",
       "      <th>First Close</th>\n",
       "      <th>YTD Return</th>\n",
       "      <th>Country</th>\n",
       "    </tr>\n",
       "  </thead>\n",
       "  <tbody>\n",
       "    <tr>\n",
       "      <th>0</th>\n",
       "      <td>2025-01-02</td>\n",
       "      <td>5903.259766</td>\n",
       "      <td>5935.089844</td>\n",
       "      <td>5829.529785</td>\n",
       "      <td>5868.549805</td>\n",
       "      <td>3621680000</td>\n",
       "      <td>0.0</td>\n",
       "      <td>0.0</td>\n",
       "      <td>^GSPC</td>\n",
       "      <td>5868.549805</td>\n",
       "      <td>0.00</td>\n",
       "      <td>GSPC (United States)</td>\n",
       "    </tr>\n",
       "    <tr>\n",
       "      <th>1</th>\n",
       "      <td>2025-01-03</td>\n",
       "      <td>5891.069824</td>\n",
       "      <td>5949.339844</td>\n",
       "      <td>5888.660156</td>\n",
       "      <td>5942.470215</td>\n",
       "      <td>3667340000</td>\n",
       "      <td>0.0</td>\n",
       "      <td>0.0</td>\n",
       "      <td>^GSPC</td>\n",
       "      <td>5868.549805</td>\n",
       "      <td>1.26</td>\n",
       "      <td>GSPC (United States)</td>\n",
       "    </tr>\n",
       "  </tbody>\n",
       "</table>\n",
       "</div>"
      ],
      "text/plain": [
       "         Date         Open  ...  YTD Return               Country\n",
       "0  2025-01-02  5903.259766  ...        0.00  GSPC (United States)\n",
       "1  2025-01-03  5891.069824  ...        1.26  GSPC (United States)\n",
       "\n",
       "[2 rows x 12 columns]"
      ]
     },
     "execution_count": 90,
     "metadata": {},
     "output_type": "execute_result"
    }
   ],
   "source": [
    "# Load YTD dataset to extract closing value of the first day of the year\n",
    "hist0 = pd.read_csv('data/ytd_6Jun.csv')\n",
    "hist0.head(2)"
   ]
  },
  {
   "cell_type": "code",
   "execution_count": 91,
   "id": "7dbd7a6b",
   "metadata": {},
   "outputs": [
    {
     "data": {
      "text/html": [
       "<div>\n",
       "<style scoped>\n",
       "    .dataframe tbody tr th:only-of-type {\n",
       "        vertical-align: middle;\n",
       "    }\n",
       "\n",
       "    .dataframe tbody tr th {\n",
       "        vertical-align: top;\n",
       "    }\n",
       "\n",
       "    .dataframe thead th {\n",
       "        text-align: right;\n",
       "    }\n",
       "</style>\n",
       "<table border=\"1\" class=\"dataframe\">\n",
       "  <thead>\n",
       "    <tr style=\"text-align: right;\">\n",
       "      <th></th>\n",
       "      <th>Day</th>\n",
       "      <th>Close</th>\n",
       "      <th>Volume</th>\n",
       "      <th>Ticker</th>\n",
       "      <th>First Close</th>\n",
       "      <th>YTD Return</th>\n",
       "      <th>Ticker (Country)</th>\n",
       "    </tr>\n",
       "  </thead>\n",
       "  <tbody>\n",
       "    <tr>\n",
       "      <th>0</th>\n",
       "      <td>2025-06-09</td>\n",
       "      <td>6005.879883</td>\n",
       "      <td>4642360000</td>\n",
       "      <td>^GSPC</td>\n",
       "      <td>5868.549805</td>\n",
       "      <td>2.340</td>\n",
       "      <td>GSPC (USA)</td>\n",
       "    </tr>\n",
       "    <tr>\n",
       "      <th>1</th>\n",
       "      <td>2025-06-10</td>\n",
       "      <td>6038.810059</td>\n",
       "      <td>4882880000</td>\n",
       "      <td>^GSPC</td>\n",
       "      <td>5868.549805</td>\n",
       "      <td>2.901</td>\n",
       "      <td>GSPC (USA)</td>\n",
       "    </tr>\n",
       "    <tr>\n",
       "      <th>2</th>\n",
       "      <td>2025-06-11</td>\n",
       "      <td>6022.240234</td>\n",
       "      <td>5111550000</td>\n",
       "      <td>^GSPC</td>\n",
       "      <td>5868.549805</td>\n",
       "      <td>2.619</td>\n",
       "      <td>GSPC (USA)</td>\n",
       "    </tr>\n",
       "    <tr>\n",
       "      <th>3</th>\n",
       "      <td>2025-06-12</td>\n",
       "      <td>6045.259766</td>\n",
       "      <td>4669500000</td>\n",
       "      <td>^GSPC</td>\n",
       "      <td>5868.549805</td>\n",
       "      <td>3.011</td>\n",
       "      <td>GSPC (USA)</td>\n",
       "    </tr>\n",
       "    <tr>\n",
       "      <th>4</th>\n",
       "      <td>2025-06-13</td>\n",
       "      <td>5976.970215</td>\n",
       "      <td>5258910000</td>\n",
       "      <td>^GSPC</td>\n",
       "      <td>5868.549805</td>\n",
       "      <td>1.847</td>\n",
       "      <td>GSPC (USA)</td>\n",
       "    </tr>\n",
       "  </tbody>\n",
       "</table>\n",
       "</div>"
      ],
      "text/plain": [
       "          Day        Close  ...  YTD Return Ticker (Country)\n",
       "0  2025-06-09  6005.879883  ...       2.340       GSPC (USA)\n",
       "1  2025-06-10  6038.810059  ...       2.901       GSPC (USA)\n",
       "2  2025-06-11  6022.240234  ...       2.619       GSPC (USA)\n",
       "3  2025-06-12  6045.259766  ...       3.011       GSPC (USA)\n",
       "4  2025-06-13  5976.970215  ...       1.847       GSPC (USA)\n",
       "\n",
       "[5 rows x 7 columns]"
      ]
     },
     "execution_count": 91,
     "metadata": {},
     "output_type": "execute_result"
    }
   ],
   "source": [
    "# Extract closing value of the first day of the year\n",
    "first_close = hist0.groupby('Ticker')['First Close'].first()\n",
    "first_close = pd.DataFrame(first_close).reset_index()\n",
    "\n",
    "# Merge to dataframe with new data\n",
    "hist_first_close = pd.merge(hist, first_close, on='Ticker', how='left', validate='many_to_one')\n",
    "hist_first_close = hist_first_close[['Day', 'Close', 'Volume', 'Ticker', 'First Close']]\n",
    "\n",
    "# Calculate YTD return for new data\n",
    "hist_first_close['YTD Return'] = calculate_ytd_return(hist_first_close['Close'], hist_first_close['First Close'])\n",
    "\n",
    "# Map ticker to country so it's easier to see which index belongs to which country\n",
    "hist_first_close['Ticker (Country)'] = hist_first_close['Ticker'].map(map_country)\n",
    "hist_first_close.head(5)"
   ]
  },
  {
   "cell_type": "code",
   "execution_count": 119,
   "id": "88ee7156",
   "metadata": {},
   "outputs": [
    {
     "data": {
      "application/vnd.plotly.v1+json": {
       "config": {
        "plotlyServerURL": "https://plotly.com"
       },
       "data": [
        {
         "hovertemplate": "Ticker (Country)=GSPC (USA)<br>Day=%{x}<br>YTD Return=%{y}<extra></extra>",
         "legendgroup": "GSPC (USA)",
         "line": {
          "color": "#4C78A8",
          "dash": "solid"
         },
         "marker": {
          "symbol": "circle"
         },
         "mode": "lines",
         "name": "GSPC (USA)",
         "orientation": "v",
         "showlegend": true,
         "type": "scatter",
         "x": [
          "2025-06-09",
          "2025-06-10",
          "2025-06-11",
          "2025-06-12",
          "2025-06-13"
         ],
         "xaxis": "x",
         "y": [
          2.34,
          2.901,
          2.619,
          3.011,
          1.847
         ],
         "yaxis": "y"
        },
        {
         "hovertemplate": "Ticker (Country)=SSE (CHN)<br>Day=%{x}<br>YTD Return=%{y}<extra></extra>",
         "legendgroup": "SSE (CHN)",
         "line": {
          "color": "#F58518",
          "dash": "solid"
         },
         "marker": {
          "symbol": "circle"
         },
         "mode": "lines",
         "name": "SSE (CHN)",
         "orientation": "v",
         "showlegend": true,
         "type": "scatter",
         "x": [
          "2025-06-09",
          "2025-06-10",
          "2025-06-11",
          "2025-06-12",
          "2025-06-13"
         ],
         "xaxis": "x",
         "y": [
          4.206,
          3.747,
          4.284,
          4.294,
          3.508
         ],
         "yaxis": "y"
        },
        {
         "hovertemplate": "Ticker (Country)=HSI (HKG)<br>Day=%{x}<br>YTD Return=%{y}<extra></extra>",
         "legendgroup": "HSI (HKG)",
         "line": {
          "color": "#E45756",
          "dash": "solid"
         },
         "marker": {
          "symbol": "circle"
         },
         "mode": "lines",
         "name": "HSI (HKG)",
         "orientation": "v",
         "showlegend": true,
         "type": "scatter",
         "x": [
          "2025-06-09",
          "2025-06-10",
          "2025-06-11",
          "2025-06-12",
          "2025-06-13"
         ],
         "xaxis": "x",
         "y": [
          23.228,
          23.133,
          24.173,
          22.484,
          21.756
         ],
         "yaxis": "y"
        },
        {
         "hovertemplate": "Ticker (Country)=NSEI (IND)<br>Day=%{x}<br>YTD Return=%{y}<extra></extra>",
         "legendgroup": "NSEI (IND)",
         "line": {
          "color": "#72B7B2",
          "dash": "solid"
         },
         "marker": {
          "symbol": "circle"
         },
         "mode": "lines",
         "name": "NSEI (IND)",
         "orientation": "v",
         "showlegend": true,
         "type": "scatter",
         "x": [
          "2025-06-09",
          "2025-06-10",
          "2025-06-11",
          "2025-06-12",
          "2025-06-13"
         ],
         "xaxis": "x",
         "y": [
          5.729,
          5.734,
          5.89,
          4.824,
          4.109
         ],
         "yaxis": "y"
        },
        {
         "hovertemplate": "Ticker (Country)=GSPTSE (CAN)<br>Day=%{x}<br>YTD Return=%{y}<extra></extra>",
         "legendgroup": "GSPTSE (CAN)",
         "line": {
          "color": "#54A24B",
          "dash": "solid"
         },
         "marker": {
          "symbol": "circle"
         },
         "mode": "lines",
         "name": "GSPTSE (CAN)",
         "orientation": "v",
         "showlegend": true,
         "type": "scatter",
         "x": [
          "2025-06-09",
          "2025-06-10",
          "2025-06-11",
          "2025-06-12",
          "2025-06-13"
         ],
         "xaxis": "x",
         "y": [
          5.935,
          6.138,
          6.531,
          6.899,
          6.452
         ],
         "yaxis": "y"
        },
        {
         "hovertemplate": "Ticker (Country)=GDAXI (DEU)<br>Day=%{x}<br>YTD Return=%{y}<extra></extra>",
         "legendgroup": "GDAXI (DEU)",
         "line": {
          "color": "#EECA3B",
          "dash": "solid"
         },
         "marker": {
          "symbol": "circle"
         },
         "mode": "lines",
         "name": "GDAXI (DEU)",
         "orientation": "v",
         "showlegend": true,
         "type": "scatter",
         "x": [
          "2025-06-09",
          "2025-06-10",
          "2025-06-11",
          "2025-06-12",
          "2025-06-13"
         ],
         "xaxis": "x",
         "y": [
          20.723,
          19.79,
          19.597,
          18.711,
          17.436
         ],
         "yaxis": "y"
        },
        {
         "hovertemplate": "Ticker (Country)=FTSE (GBR)<br>Day=%{x}<br>YTD Return=%{y}<extra></extra>",
         "legendgroup": "FTSE (GBR)",
         "line": {
          "color": "#B279A2",
          "dash": "solid"
         },
         "marker": {
          "symbol": "circle"
         },
         "mode": "lines",
         "name": "FTSE (GBR)",
         "orientation": "v",
         "showlegend": true,
         "type": "scatter",
         "x": [
          "2025-06-09",
          "2025-06-10",
          "2025-06-11",
          "2025-06-12",
          "2025-06-13"
         ],
         "xaxis": "x",
         "y": [
          6.927,
          7.179,
          7.316,
          7.564,
          7.149
         ],
         "yaxis": "y"
        },
        {
         "hovertemplate": "Ticker (Country)=N225 (JPN)<br>Day=%{x}<br>YTD Return=%{y}<extra></extra>",
         "legendgroup": "N225 (JPN)",
         "line": {
          "color": "#FF9DA6",
          "dash": "solid"
         },
         "marker": {
          "symbol": "circle"
         },
         "mode": "lines",
         "name": "N225 (JPN)",
         "orientation": "v",
         "showlegend": true,
         "type": "scatter",
         "x": [
          "2025-06-09",
          "2025-06-10",
          "2025-06-11",
          "2025-06-12",
          "2025-06-13"
         ],
         "xaxis": "x",
         "y": [
          -3.1,
          -2.787,
          -2.254,
          -2.885,
          -3.747
         ],
         "yaxis": "y"
        },
        {
         "hovertemplate": "Ticker (Country)=MXX (MEX)<br>Day=%{x}<br>YTD Return=%{y}<extra></extra>",
         "legendgroup": "MXX (MEX)",
         "line": {
          "color": "#9D755D",
          "dash": "solid"
         },
         "marker": {
          "symbol": "circle"
         },
         "mode": "lines",
         "name": "MXX (MEX)",
         "orientation": "v",
         "showlegend": true,
         "type": "scatter",
         "x": [
          "2025-06-09",
          "2025-06-10",
          "2025-06-11",
          "2025-06-12",
          "2025-06-13"
         ],
         "xaxis": "x",
         "y": [
          16.172,
          16.745,
          16.08,
          16.205,
          15.419
         ],
         "yaxis": "y"
        },
        {
         "hovertemplate": "Ticker (Country)=BVSP (BRA)<br>Day=%{x}<br>YTD Return=%{y}<extra></extra>",
         "legendgroup": "BVSP (BRA)",
         "line": {
          "color": "#BAB0AC",
          "dash": "solid"
         },
         "marker": {
          "symbol": "circle"
         },
         "mode": "lines",
         "name": "BVSP (BRA)",
         "orientation": "v",
         "showlegend": true,
         "type": "scatter",
         "x": [
          "2025-06-09",
          "2025-06-10",
          "2025-06-11",
          "2025-06-12",
          "2025-06-13"
         ],
         "xaxis": "x",
         "y": [
          12.965,
          13.578,
          14.154,
          14.714,
          14.225
         ],
         "yaxis": "y"
        }
       ],
       "layout": {
        "legend": {
         "title": {
          "text": "Ticker (Country)"
         },
         "tracegroupgap": 0
        },
        "template": {
         "data": {
          "bar": [
           {
            "error_x": {
             "color": "#2a3f5f"
            },
            "error_y": {
             "color": "#2a3f5f"
            },
            "marker": {
             "line": {
              "color": "#E5ECF6",
              "width": 0.5
             },
             "pattern": {
              "fillmode": "overlay",
              "size": 10,
              "solidity": 0.2
             }
            },
            "type": "bar"
           }
          ],
          "barpolar": [
           {
            "marker": {
             "line": {
              "color": "#E5ECF6",
              "width": 0.5
             },
             "pattern": {
              "fillmode": "overlay",
              "size": 10,
              "solidity": 0.2
             }
            },
            "type": "barpolar"
           }
          ],
          "carpet": [
           {
            "aaxis": {
             "endlinecolor": "#2a3f5f",
             "gridcolor": "white",
             "linecolor": "white",
             "minorgridcolor": "white",
             "startlinecolor": "#2a3f5f"
            },
            "baxis": {
             "endlinecolor": "#2a3f5f",
             "gridcolor": "white",
             "linecolor": "white",
             "minorgridcolor": "white",
             "startlinecolor": "#2a3f5f"
            },
            "type": "carpet"
           }
          ],
          "choropleth": [
           {
            "colorbar": {
             "outlinewidth": 0,
             "ticks": ""
            },
            "type": "choropleth"
           }
          ],
          "contour": [
           {
            "colorbar": {
             "outlinewidth": 0,
             "ticks": ""
            },
            "colorscale": [
             [
              0,
              "#0d0887"
             ],
             [
              0.1111111111111111,
              "#46039f"
             ],
             [
              0.2222222222222222,
              "#7201a8"
             ],
             [
              0.3333333333333333,
              "#9c179e"
             ],
             [
              0.4444444444444444,
              "#bd3786"
             ],
             [
              0.5555555555555556,
              "#d8576b"
             ],
             [
              0.6666666666666666,
              "#ed7953"
             ],
             [
              0.7777777777777778,
              "#fb9f3a"
             ],
             [
              0.8888888888888888,
              "#fdca26"
             ],
             [
              1,
              "#f0f921"
             ]
            ],
            "type": "contour"
           }
          ],
          "contourcarpet": [
           {
            "colorbar": {
             "outlinewidth": 0,
             "ticks": ""
            },
            "type": "contourcarpet"
           }
          ],
          "heatmap": [
           {
            "colorbar": {
             "outlinewidth": 0,
             "ticks": ""
            },
            "colorscale": [
             [
              0,
              "#0d0887"
             ],
             [
              0.1111111111111111,
              "#46039f"
             ],
             [
              0.2222222222222222,
              "#7201a8"
             ],
             [
              0.3333333333333333,
              "#9c179e"
             ],
             [
              0.4444444444444444,
              "#bd3786"
             ],
             [
              0.5555555555555556,
              "#d8576b"
             ],
             [
              0.6666666666666666,
              "#ed7953"
             ],
             [
              0.7777777777777778,
              "#fb9f3a"
             ],
             [
              0.8888888888888888,
              "#fdca26"
             ],
             [
              1,
              "#f0f921"
             ]
            ],
            "type": "heatmap"
           }
          ],
          "heatmapgl": [
           {
            "colorbar": {
             "outlinewidth": 0,
             "ticks": ""
            },
            "colorscale": [
             [
              0,
              "#0d0887"
             ],
             [
              0.1111111111111111,
              "#46039f"
             ],
             [
              0.2222222222222222,
              "#7201a8"
             ],
             [
              0.3333333333333333,
              "#9c179e"
             ],
             [
              0.4444444444444444,
              "#bd3786"
             ],
             [
              0.5555555555555556,
              "#d8576b"
             ],
             [
              0.6666666666666666,
              "#ed7953"
             ],
             [
              0.7777777777777778,
              "#fb9f3a"
             ],
             [
              0.8888888888888888,
              "#fdca26"
             ],
             [
              1,
              "#f0f921"
             ]
            ],
            "type": "heatmapgl"
           }
          ],
          "histogram": [
           {
            "marker": {
             "pattern": {
              "fillmode": "overlay",
              "size": 10,
              "solidity": 0.2
             }
            },
            "type": "histogram"
           }
          ],
          "histogram2d": [
           {
            "colorbar": {
             "outlinewidth": 0,
             "ticks": ""
            },
            "colorscale": [
             [
              0,
              "#0d0887"
             ],
             [
              0.1111111111111111,
              "#46039f"
             ],
             [
              0.2222222222222222,
              "#7201a8"
             ],
             [
              0.3333333333333333,
              "#9c179e"
             ],
             [
              0.4444444444444444,
              "#bd3786"
             ],
             [
              0.5555555555555556,
              "#d8576b"
             ],
             [
              0.6666666666666666,
              "#ed7953"
             ],
             [
              0.7777777777777778,
              "#fb9f3a"
             ],
             [
              0.8888888888888888,
              "#fdca26"
             ],
             [
              1,
              "#f0f921"
             ]
            ],
            "type": "histogram2d"
           }
          ],
          "histogram2dcontour": [
           {
            "colorbar": {
             "outlinewidth": 0,
             "ticks": ""
            },
            "colorscale": [
             [
              0,
              "#0d0887"
             ],
             [
              0.1111111111111111,
              "#46039f"
             ],
             [
              0.2222222222222222,
              "#7201a8"
             ],
             [
              0.3333333333333333,
              "#9c179e"
             ],
             [
              0.4444444444444444,
              "#bd3786"
             ],
             [
              0.5555555555555556,
              "#d8576b"
             ],
             [
              0.6666666666666666,
              "#ed7953"
             ],
             [
              0.7777777777777778,
              "#fb9f3a"
             ],
             [
              0.8888888888888888,
              "#fdca26"
             ],
             [
              1,
              "#f0f921"
             ]
            ],
            "type": "histogram2dcontour"
           }
          ],
          "mesh3d": [
           {
            "colorbar": {
             "outlinewidth": 0,
             "ticks": ""
            },
            "type": "mesh3d"
           }
          ],
          "parcoords": [
           {
            "line": {
             "colorbar": {
              "outlinewidth": 0,
              "ticks": ""
             }
            },
            "type": "parcoords"
           }
          ],
          "pie": [
           {
            "automargin": true,
            "type": "pie"
           }
          ],
          "scatter": [
           {
            "fillpattern": {
             "fillmode": "overlay",
             "size": 10,
             "solidity": 0.2
            },
            "type": "scatter"
           }
          ],
          "scatter3d": [
           {
            "line": {
             "colorbar": {
              "outlinewidth": 0,
              "ticks": ""
             }
            },
            "marker": {
             "colorbar": {
              "outlinewidth": 0,
              "ticks": ""
             }
            },
            "type": "scatter3d"
           }
          ],
          "scattercarpet": [
           {
            "marker": {
             "colorbar": {
              "outlinewidth": 0,
              "ticks": ""
             }
            },
            "type": "scattercarpet"
           }
          ],
          "scattergeo": [
           {
            "marker": {
             "colorbar": {
              "outlinewidth": 0,
              "ticks": ""
             }
            },
            "type": "scattergeo"
           }
          ],
          "scattergl": [
           {
            "marker": {
             "colorbar": {
              "outlinewidth": 0,
              "ticks": ""
             }
            },
            "type": "scattergl"
           }
          ],
          "scattermapbox": [
           {
            "marker": {
             "colorbar": {
              "outlinewidth": 0,
              "ticks": ""
             }
            },
            "type": "scattermapbox"
           }
          ],
          "scatterpolar": [
           {
            "marker": {
             "colorbar": {
              "outlinewidth": 0,
              "ticks": ""
             }
            },
            "type": "scatterpolar"
           }
          ],
          "scatterpolargl": [
           {
            "marker": {
             "colorbar": {
              "outlinewidth": 0,
              "ticks": ""
             }
            },
            "type": "scatterpolargl"
           }
          ],
          "scatterternary": [
           {
            "marker": {
             "colorbar": {
              "outlinewidth": 0,
              "ticks": ""
             }
            },
            "type": "scatterternary"
           }
          ],
          "surface": [
           {
            "colorbar": {
             "outlinewidth": 0,
             "ticks": ""
            },
            "colorscale": [
             [
              0,
              "#0d0887"
             ],
             [
              0.1111111111111111,
              "#46039f"
             ],
             [
              0.2222222222222222,
              "#7201a8"
             ],
             [
              0.3333333333333333,
              "#9c179e"
             ],
             [
              0.4444444444444444,
              "#bd3786"
             ],
             [
              0.5555555555555556,
              "#d8576b"
             ],
             [
              0.6666666666666666,
              "#ed7953"
             ],
             [
              0.7777777777777778,
              "#fb9f3a"
             ],
             [
              0.8888888888888888,
              "#fdca26"
             ],
             [
              1,
              "#f0f921"
             ]
            ],
            "type": "surface"
           }
          ],
          "table": [
           {
            "cells": {
             "fill": {
              "color": "#EBF0F8"
             },
             "line": {
              "color": "white"
             }
            },
            "header": {
             "fill": {
              "color": "#C8D4E3"
             },
             "line": {
              "color": "white"
             }
            },
            "type": "table"
           }
          ]
         },
         "layout": {
          "annotationdefaults": {
           "arrowcolor": "#2a3f5f",
           "arrowhead": 0,
           "arrowwidth": 1
          },
          "autotypenumbers": "strict",
          "coloraxis": {
           "colorbar": {
            "outlinewidth": 0,
            "ticks": ""
           }
          },
          "colorscale": {
           "diverging": [
            [
             0,
             "#8e0152"
            ],
            [
             0.1,
             "#c51b7d"
            ],
            [
             0.2,
             "#de77ae"
            ],
            [
             0.3,
             "#f1b6da"
            ],
            [
             0.4,
             "#fde0ef"
            ],
            [
             0.5,
             "#f7f7f7"
            ],
            [
             0.6,
             "#e6f5d0"
            ],
            [
             0.7,
             "#b8e186"
            ],
            [
             0.8,
             "#7fbc41"
            ],
            [
             0.9,
             "#4d9221"
            ],
            [
             1,
             "#276419"
            ]
           ],
           "sequential": [
            [
             0,
             "#0d0887"
            ],
            [
             0.1111111111111111,
             "#46039f"
            ],
            [
             0.2222222222222222,
             "#7201a8"
            ],
            [
             0.3333333333333333,
             "#9c179e"
            ],
            [
             0.4444444444444444,
             "#bd3786"
            ],
            [
             0.5555555555555556,
             "#d8576b"
            ],
            [
             0.6666666666666666,
             "#ed7953"
            ],
            [
             0.7777777777777778,
             "#fb9f3a"
            ],
            [
             0.8888888888888888,
             "#fdca26"
            ],
            [
             1,
             "#f0f921"
            ]
           ],
           "sequentialminus": [
            [
             0,
             "#0d0887"
            ],
            [
             0.1111111111111111,
             "#46039f"
            ],
            [
             0.2222222222222222,
             "#7201a8"
            ],
            [
             0.3333333333333333,
             "#9c179e"
            ],
            [
             0.4444444444444444,
             "#bd3786"
            ],
            [
             0.5555555555555556,
             "#d8576b"
            ],
            [
             0.6666666666666666,
             "#ed7953"
            ],
            [
             0.7777777777777778,
             "#fb9f3a"
            ],
            [
             0.8888888888888888,
             "#fdca26"
            ],
            [
             1,
             "#f0f921"
            ]
           ]
          },
          "colorway": [
           "#636efa",
           "#EF553B",
           "#00cc96",
           "#ab63fa",
           "#FFA15A",
           "#19d3f3",
           "#FF6692",
           "#B6E880",
           "#FF97FF",
           "#FECB52"
          ],
          "font": {
           "color": "#2a3f5f"
          },
          "geo": {
           "bgcolor": "white",
           "lakecolor": "white",
           "landcolor": "#E5ECF6",
           "showlakes": true,
           "showland": true,
           "subunitcolor": "white"
          },
          "hoverlabel": {
           "align": "left"
          },
          "hovermode": "closest",
          "mapbox": {
           "style": "light"
          },
          "paper_bgcolor": "white",
          "plot_bgcolor": "#E5ECF6",
          "polar": {
           "angularaxis": {
            "gridcolor": "white",
            "linecolor": "white",
            "ticks": ""
           },
           "bgcolor": "#E5ECF6",
           "radialaxis": {
            "gridcolor": "white",
            "linecolor": "white",
            "ticks": ""
           }
          },
          "scene": {
           "xaxis": {
            "backgroundcolor": "#E5ECF6",
            "gridcolor": "white",
            "gridwidth": 2,
            "linecolor": "white",
            "showbackground": true,
            "ticks": "",
            "zerolinecolor": "white"
           },
           "yaxis": {
            "backgroundcolor": "#E5ECF6",
            "gridcolor": "white",
            "gridwidth": 2,
            "linecolor": "white",
            "showbackground": true,
            "ticks": "",
            "zerolinecolor": "white"
           },
           "zaxis": {
            "backgroundcolor": "#E5ECF6",
            "gridcolor": "white",
            "gridwidth": 2,
            "linecolor": "white",
            "showbackground": true,
            "ticks": "",
            "zerolinecolor": "white"
           }
          },
          "shapedefaults": {
           "line": {
            "color": "#2a3f5f"
           }
          },
          "ternary": {
           "aaxis": {
            "gridcolor": "white",
            "linecolor": "white",
            "ticks": ""
           },
           "baxis": {
            "gridcolor": "white",
            "linecolor": "white",
            "ticks": ""
           },
           "bgcolor": "#E5ECF6",
           "caxis": {
            "gridcolor": "white",
            "linecolor": "white",
            "ticks": ""
           }
          },
          "title": {
           "x": 0.05
          },
          "xaxis": {
           "automargin": true,
           "gridcolor": "white",
           "linecolor": "white",
           "ticks": "",
           "title": {
            "standoff": 15
           },
           "zerolinecolor": "white",
           "zerolinewidth": 2
          },
          "yaxis": {
           "automargin": true,
           "gridcolor": "white",
           "linecolor": "white",
           "ticks": "",
           "title": {
            "standoff": 15
           },
           "zerolinecolor": "white",
           "zerolinewidth": 2
          }
         }
        },
        "title": {
         "text": "Global Indices YTD Returns (June 9 - June 13)"
        },
        "xaxis": {
         "anchor": "y",
         "domain": [
          0,
          1
         ],
         "tickformat": "%m-%d",
         "tickmode": "array",
         "tickvals": [
          "2025-06-09T00:00:00",
          "2025-06-10T00:00:00",
          "2025-06-11T00:00:00",
          "2025-06-12T00:00:00",
          "2025-06-13T00:00:00"
         ],
         "title": {
          "text": "Day"
         }
        },
        "yaxis": {
         "anchor": "x",
         "domain": [
          0,
          1
         ],
         "title": {
          "text": "YTD Return (%)"
         }
        }
       }
      }
     },
     "metadata": {},
     "output_type": "display_data"
    }
   ],
   "source": [
    "# Dealing with datetime values are tricky; I just want to plot the date withou the time component so I have to manually specify the tick values\n",
    "tickvals = hist_first_close['Day'].sort_values().unique()\n",
    "tickvals = [pd.Timestamp(val).to_pydatetime() for val in tickvals]\n",
    "\n",
    "ytd_fig = px.line(\n",
    "    data_frame=hist_first_close, \n",
    "    x='Day', y='YTD Return', color='Ticker (Country)',\n",
    "    color_discrete_sequence=px.colors.qualitative.T10,\n",
    "    title='Global Indices YTD Returns (June 9 - June 13)'\n",
    ")\n",
    "\n",
    "ytd_fig.update_layout(\n",
    "    xaxis=dict(\n",
    "        tickmode='array',\n",
    "        tickformat='%m-%d',\n",
    "        tickvals=tickvals\n",
    "    )\n",
    ")\n",
    "\n",
    "ytd_fig.update_layout(\n",
    "    yaxis_title='YTD Return (%)'\n",
    ")\n",
    "\n",
    "\n",
    "ytd_fig.show()"
   ]
  },
  {
   "cell_type": "code",
   "execution_count": null,
   "id": "4612c8b2",
   "metadata": {},
   "outputs": [],
   "source": []
  },
  {
   "cell_type": "code",
   "execution_count": null,
   "id": "84cfb5f6",
   "metadata": {},
   "outputs": [],
   "source": []
  }
 ],
 "metadata": {
  "kernelspec": {
   "display_name": "stock-market-zoomcamp",
   "language": "python",
   "name": "python3"
  },
  "language_info": {
   "codemirror_mode": {
    "name": "ipython",
    "version": 3
   },
   "file_extension": ".py",
   "mimetype": "text/x-python",
   "name": "python",
   "nbconvert_exporter": "python",
   "pygments_lexer": "ipython3",
   "version": "3.11.11"
  }
 },
 "nbformat": 4,
 "nbformat_minor": 5
}
